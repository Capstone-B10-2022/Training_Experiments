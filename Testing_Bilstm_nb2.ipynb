{
  "nbformat": 4,
  "nbformat_minor": 0,
  "metadata": {
    "colab": {
      "provenance": []
    },
    "kernelspec": {
      "name": "python3",
      "display_name": "Python 3"
    },
    "language_info": {
      "name": "python"
    }
  },
  "cells": [
    {
      "cell_type": "code",
      "source": [
        "import pandas as pd\n",
        "import numpy as np\n",
        "import seaborn as sns\n",
        "from matplotlib import pyplot\n",
        "from sklearn.model_selection import train_test_split\n",
        "from sklearn.preprocessing import StandardScaler, LabelEncoder\n",
        "from sklearn.utils import resample\n",
        "# Imports\n",
        "import tensorflow as tf\n",
        "from tensorflow.keras.layers import Activation, Dense, LSTM, Bidirectional\n",
        "from tensorflow.keras.losses import SparseCategoricalCrossentropy\n",
        "from tensorflow.keras.models import Sequential\n",
        "from tensorflow.keras.optimizers import Adam\n",
        "from imblearn.over_sampling import SMOTE\n",
        "from collections import Counter\n",
        "from google.colab import files\n",
        "import pickle\n",
        "import joblib\n",
        "from keras.models import load_model"
      ],
      "metadata": {
        "id": "jMRGaDuDVzdh"
      },
      "execution_count": null,
      "outputs": []
    },
    {
      "cell_type": "code",
      "execution_count": null,
      "metadata": {
        "colab": {
          "base_uri": "https://localhost:8080/"
        },
        "id": "6ISkwqQUVYeA",
        "outputId": "46d9c7cd-ad5e-4afe-a132-6369614598e4"
      },
      "outputs": [
        {
          "output_type": "stream",
          "name": "stdout",
          "text": [
            "Mounted at /content/drive\n"
          ]
        }
      ],
      "source": [
        "from google.colab import drive\n",
        "drive.mount('/content/drive')"
      ]
    },
    {
      "cell_type": "code",
      "source": [
        "labels_file = '/content/drive/MyDrive/y.txt'\n",
        "embeddings_file = '/content/drive/MyDrive/x.npy'"
      ],
      "metadata": {
        "id": "UXigdDvhWEMQ"
      },
      "execution_count": null,
      "outputs": []
    },
    {
      "cell_type": "code",
      "source": [
        "def load_dataset_files(labels_file, embeddings_file):\n",
        "    x = np.load(embeddings_file)\n",
        "    y = pd.read_csv(labels_file, sep = \" \", header=None, names=[\"Complexity\", \"Node Number\", \"Language\"])\n",
        "    return x,y"
      ],
      "metadata": {
        "id": "sYUZ5PD5GIC3"
      },
      "execution_count": null,
      "outputs": []
    },
    {
      "cell_type": "code",
      "source": [
        "x,y = load_dataset_files(labels_file,embeddings_file)"
      ],
      "metadata": {
        "id": "xU8x5AYYGIC3"
      },
      "execution_count": null,
      "outputs": []
    },
    {
      "cell_type": "code",
      "source": [
        "model = load_model('try_model1.sav')"
      ],
      "metadata": {
        "id": "xlKF6fn3E5Aa"
      },
      "execution_count": null,
      "outputs": []
    },
    {
      "cell_type": "code",
      "source": [
        "sc = pickle.load(open('/content/scaler.pkl', 'rb'), encoding='latin1')"
      ],
      "metadata": {
        "id": "PgSsv_aQBrQD"
      },
      "execution_count": null,
      "outputs": []
    },
    {
      "cell_type": "code",
      "source": [
        "model.summary()"
      ],
      "metadata": {
        "colab": {
          "base_uri": "https://localhost:8080/"
        },
        "id": "sCk13ArWa9_S",
        "outputId": "bc8a47ea-9a84-403d-966c-17925ddd8a34"
      },
      "execution_count": null,
      "outputs": [
        {
          "output_type": "stream",
          "name": "stdout",
          "text": [
            "Model: \"sequential\"\n",
            "_________________________________________________________________\n",
            " Layer (type)                Output Shape              Param #   \n",
            "=================================================================\n",
            " bidirectional (Bidirectiona  (None, 128, 128)         33792     \n",
            " l)                                                              \n",
            "                                                                 \n",
            " bidirectional_1 (Bidirectio  (None, 128)              98816     \n",
            " nal)                                                            \n",
            "                                                                 \n",
            " dense (Dense)               (None, 10)                1290      \n",
            "                                                                 \n",
            "=================================================================\n",
            "Total params: 133,898\n",
            "Trainable params: 133,898\n",
            "Non-trainable params: 0\n",
            "_________________________________________________________________\n"
          ]
        }
      ]
    },
    {
      "cell_type": "code",
      "source": [
        "test = np.load('x_new.npy')"
      ],
      "metadata": {
        "id": "SWHihBKPbAYx"
      },
      "execution_count": null,
      "outputs": []
    },
    {
      "cell_type": "code",
      "source": [
        "test_df = pd.DataFrame(test,columns=[(\"emb\"+str(num)) for num in range(1,129)]) # Dataframe to get all embeddings program wise\n",
        "test_df"
      ],
      "metadata": {
        "colab": {
          "base_uri": "https://localhost:8080/",
          "height": 331
        },
        "id": "xGQT2V-lc9iZ",
        "outputId": "ff2df3ef-9a45-4b49-fae6-4fee7432e688"
      },
      "execution_count": null,
      "outputs": [
        {
          "output_type": "execute_result",
          "data": {
            "text/plain": [
              "       emb1      emb2      emb3      emb4      emb5      emb6      emb7  \\\n",
              "0  0.021076  0.014830  0.006355 -0.012587 -0.012092 -0.009924 -0.004592   \n",
              "1  0.012322  0.013632 -0.001973 -0.005671  0.000956 -0.006729 -0.001627   \n",
              "2  0.015365  0.003430 -0.007474  0.004213  0.004251 -0.009820  0.002008   \n",
              "3  0.014068 -0.001454 -0.003478 -0.008489 -0.007731 -0.003517  0.001984   \n",
              "4  0.010489 -0.003113 -0.007001 -0.001910  0.000320 -0.001886  0.002533   \n",
              "5  0.008928 -0.000462 -0.003368 -0.000461 -0.007164  0.002076  0.000990   \n",
              "\n",
              "       emb8      emb9     emb10  ...    emb119    emb120    emb121    emb122  \\\n",
              "0  0.000111 -0.017801 -0.014113  ...  0.010925 -0.010274  0.001091  0.006206   \n",
              "1 -0.001882 -0.016380 -0.004526  ...  0.002996 -0.001518  0.002344  0.009870   \n",
              "2 -0.008425 -0.013864 -0.002914  ...  0.007031  0.000097 -0.008999 -0.002379   \n",
              "3 -0.010024 -0.015823 -0.003569  ...  0.007584 -0.006851 -0.002469  0.003041   \n",
              "4 -0.007270 -0.000168 -0.008044  ...  0.008701 -0.003816 -0.006118 -0.001984   \n",
              "5 -0.007319  0.004883  0.003731  ...  0.004969  0.001808  0.001342 -0.006651   \n",
              "\n",
              "     emb123    emb124    emb125    emb126    emb127    emb128  \n",
              "0 -0.002706  0.014532 -0.001408  0.007295  0.003955  0.010714  \n",
              "1 -0.000752  0.009357 -0.006800 -0.001993  0.004947  0.003175  \n",
              "2 -0.008652  0.000502  0.006350 -0.003777 -0.007682  0.011202  \n",
              "3 -0.010411 -0.002885  0.000819  0.003836 -0.001950  0.002814  \n",
              "4 -0.005639  0.009326  0.005896 -0.000152 -0.004040 -0.003463  \n",
              "5  0.002375 -0.004722 -0.001487 -0.007256  0.004683 -0.004125  \n",
              "\n",
              "[6 rows x 128 columns]"
            ],
            "text/html": [
              "\n",
              "  <div id=\"df-069d3c14-4a7b-4301-bdad-a662f84add03\">\n",
              "    <div class=\"colab-df-container\">\n",
              "      <div>\n",
              "<style scoped>\n",
              "    .dataframe tbody tr th:only-of-type {\n",
              "        vertical-align: middle;\n",
              "    }\n",
              "\n",
              "    .dataframe tbody tr th {\n",
              "        vertical-align: top;\n",
              "    }\n",
              "\n",
              "    .dataframe thead th {\n",
              "        text-align: right;\n",
              "    }\n",
              "</style>\n",
              "<table border=\"1\" class=\"dataframe\">\n",
              "  <thead>\n",
              "    <tr style=\"text-align: right;\">\n",
              "      <th></th>\n",
              "      <th>emb1</th>\n",
              "      <th>emb2</th>\n",
              "      <th>emb3</th>\n",
              "      <th>emb4</th>\n",
              "      <th>emb5</th>\n",
              "      <th>emb6</th>\n",
              "      <th>emb7</th>\n",
              "      <th>emb8</th>\n",
              "      <th>emb9</th>\n",
              "      <th>emb10</th>\n",
              "      <th>...</th>\n",
              "      <th>emb119</th>\n",
              "      <th>emb120</th>\n",
              "      <th>emb121</th>\n",
              "      <th>emb122</th>\n",
              "      <th>emb123</th>\n",
              "      <th>emb124</th>\n",
              "      <th>emb125</th>\n",
              "      <th>emb126</th>\n",
              "      <th>emb127</th>\n",
              "      <th>emb128</th>\n",
              "    </tr>\n",
              "  </thead>\n",
              "  <tbody>\n",
              "    <tr>\n",
              "      <th>0</th>\n",
              "      <td>0.021076</td>\n",
              "      <td>0.014830</td>\n",
              "      <td>0.006355</td>\n",
              "      <td>-0.012587</td>\n",
              "      <td>-0.012092</td>\n",
              "      <td>-0.009924</td>\n",
              "      <td>-0.004592</td>\n",
              "      <td>0.000111</td>\n",
              "      <td>-0.017801</td>\n",
              "      <td>-0.014113</td>\n",
              "      <td>...</td>\n",
              "      <td>0.010925</td>\n",
              "      <td>-0.010274</td>\n",
              "      <td>0.001091</td>\n",
              "      <td>0.006206</td>\n",
              "      <td>-0.002706</td>\n",
              "      <td>0.014532</td>\n",
              "      <td>-0.001408</td>\n",
              "      <td>0.007295</td>\n",
              "      <td>0.003955</td>\n",
              "      <td>0.010714</td>\n",
              "    </tr>\n",
              "    <tr>\n",
              "      <th>1</th>\n",
              "      <td>0.012322</td>\n",
              "      <td>0.013632</td>\n",
              "      <td>-0.001973</td>\n",
              "      <td>-0.005671</td>\n",
              "      <td>0.000956</td>\n",
              "      <td>-0.006729</td>\n",
              "      <td>-0.001627</td>\n",
              "      <td>-0.001882</td>\n",
              "      <td>-0.016380</td>\n",
              "      <td>-0.004526</td>\n",
              "      <td>...</td>\n",
              "      <td>0.002996</td>\n",
              "      <td>-0.001518</td>\n",
              "      <td>0.002344</td>\n",
              "      <td>0.009870</td>\n",
              "      <td>-0.000752</td>\n",
              "      <td>0.009357</td>\n",
              "      <td>-0.006800</td>\n",
              "      <td>-0.001993</td>\n",
              "      <td>0.004947</td>\n",
              "      <td>0.003175</td>\n",
              "    </tr>\n",
              "    <tr>\n",
              "      <th>2</th>\n",
              "      <td>0.015365</td>\n",
              "      <td>0.003430</td>\n",
              "      <td>-0.007474</td>\n",
              "      <td>0.004213</td>\n",
              "      <td>0.004251</td>\n",
              "      <td>-0.009820</td>\n",
              "      <td>0.002008</td>\n",
              "      <td>-0.008425</td>\n",
              "      <td>-0.013864</td>\n",
              "      <td>-0.002914</td>\n",
              "      <td>...</td>\n",
              "      <td>0.007031</td>\n",
              "      <td>0.000097</td>\n",
              "      <td>-0.008999</td>\n",
              "      <td>-0.002379</td>\n",
              "      <td>-0.008652</td>\n",
              "      <td>0.000502</td>\n",
              "      <td>0.006350</td>\n",
              "      <td>-0.003777</td>\n",
              "      <td>-0.007682</td>\n",
              "      <td>0.011202</td>\n",
              "    </tr>\n",
              "    <tr>\n",
              "      <th>3</th>\n",
              "      <td>0.014068</td>\n",
              "      <td>-0.001454</td>\n",
              "      <td>-0.003478</td>\n",
              "      <td>-0.008489</td>\n",
              "      <td>-0.007731</td>\n",
              "      <td>-0.003517</td>\n",
              "      <td>0.001984</td>\n",
              "      <td>-0.010024</td>\n",
              "      <td>-0.015823</td>\n",
              "      <td>-0.003569</td>\n",
              "      <td>...</td>\n",
              "      <td>0.007584</td>\n",
              "      <td>-0.006851</td>\n",
              "      <td>-0.002469</td>\n",
              "      <td>0.003041</td>\n",
              "      <td>-0.010411</td>\n",
              "      <td>-0.002885</td>\n",
              "      <td>0.000819</td>\n",
              "      <td>0.003836</td>\n",
              "      <td>-0.001950</td>\n",
              "      <td>0.002814</td>\n",
              "    </tr>\n",
              "    <tr>\n",
              "      <th>4</th>\n",
              "      <td>0.010489</td>\n",
              "      <td>-0.003113</td>\n",
              "      <td>-0.007001</td>\n",
              "      <td>-0.001910</td>\n",
              "      <td>0.000320</td>\n",
              "      <td>-0.001886</td>\n",
              "      <td>0.002533</td>\n",
              "      <td>-0.007270</td>\n",
              "      <td>-0.000168</td>\n",
              "      <td>-0.008044</td>\n",
              "      <td>...</td>\n",
              "      <td>0.008701</td>\n",
              "      <td>-0.003816</td>\n",
              "      <td>-0.006118</td>\n",
              "      <td>-0.001984</td>\n",
              "      <td>-0.005639</td>\n",
              "      <td>0.009326</td>\n",
              "      <td>0.005896</td>\n",
              "      <td>-0.000152</td>\n",
              "      <td>-0.004040</td>\n",
              "      <td>-0.003463</td>\n",
              "    </tr>\n",
              "    <tr>\n",
              "      <th>5</th>\n",
              "      <td>0.008928</td>\n",
              "      <td>-0.000462</td>\n",
              "      <td>-0.003368</td>\n",
              "      <td>-0.000461</td>\n",
              "      <td>-0.007164</td>\n",
              "      <td>0.002076</td>\n",
              "      <td>0.000990</td>\n",
              "      <td>-0.007319</td>\n",
              "      <td>0.004883</td>\n",
              "      <td>0.003731</td>\n",
              "      <td>...</td>\n",
              "      <td>0.004969</td>\n",
              "      <td>0.001808</td>\n",
              "      <td>0.001342</td>\n",
              "      <td>-0.006651</td>\n",
              "      <td>0.002375</td>\n",
              "      <td>-0.004722</td>\n",
              "      <td>-0.001487</td>\n",
              "      <td>-0.007256</td>\n",
              "      <td>0.004683</td>\n",
              "      <td>-0.004125</td>\n",
              "    </tr>\n",
              "  </tbody>\n",
              "</table>\n",
              "<p>6 rows × 128 columns</p>\n",
              "</div>\n",
              "      <button class=\"colab-df-convert\" onclick=\"convertToInteractive('df-069d3c14-4a7b-4301-bdad-a662f84add03')\"\n",
              "              title=\"Convert this dataframe to an interactive table.\"\n",
              "              style=\"display:none;\">\n",
              "        \n",
              "  <svg xmlns=\"http://www.w3.org/2000/svg\" height=\"24px\"viewBox=\"0 0 24 24\"\n",
              "       width=\"24px\">\n",
              "    <path d=\"M0 0h24v24H0V0z\" fill=\"none\"/>\n",
              "    <path d=\"M18.56 5.44l.94 2.06.94-2.06 2.06-.94-2.06-.94-.94-2.06-.94 2.06-2.06.94zm-11 1L8.5 8.5l.94-2.06 2.06-.94-2.06-.94L8.5 2.5l-.94 2.06-2.06.94zm10 10l.94 2.06.94-2.06 2.06-.94-2.06-.94-.94-2.06-.94 2.06-2.06.94z\"/><path d=\"M17.41 7.96l-1.37-1.37c-.4-.4-.92-.59-1.43-.59-.52 0-1.04.2-1.43.59L10.3 9.45l-7.72 7.72c-.78.78-.78 2.05 0 2.83L4 21.41c.39.39.9.59 1.41.59.51 0 1.02-.2 1.41-.59l7.78-7.78 2.81-2.81c.8-.78.8-2.07 0-2.86zM5.41 20L4 18.59l7.72-7.72 1.47 1.35L5.41 20z\"/>\n",
              "  </svg>\n",
              "      </button>\n",
              "      \n",
              "  <style>\n",
              "    .colab-df-container {\n",
              "      display:flex;\n",
              "      flex-wrap:wrap;\n",
              "      gap: 12px;\n",
              "    }\n",
              "\n",
              "    .colab-df-convert {\n",
              "      background-color: #E8F0FE;\n",
              "      border: none;\n",
              "      border-radius: 50%;\n",
              "      cursor: pointer;\n",
              "      display: none;\n",
              "      fill: #1967D2;\n",
              "      height: 32px;\n",
              "      padding: 0 0 0 0;\n",
              "      width: 32px;\n",
              "    }\n",
              "\n",
              "    .colab-df-convert:hover {\n",
              "      background-color: #E2EBFA;\n",
              "      box-shadow: 0px 1px 2px rgba(60, 64, 67, 0.3), 0px 1px 3px 1px rgba(60, 64, 67, 0.15);\n",
              "      fill: #174EA6;\n",
              "    }\n",
              "\n",
              "    [theme=dark] .colab-df-convert {\n",
              "      background-color: #3B4455;\n",
              "      fill: #D2E3FC;\n",
              "    }\n",
              "\n",
              "    [theme=dark] .colab-df-convert:hover {\n",
              "      background-color: #434B5C;\n",
              "      box-shadow: 0px 1px 3px 1px rgba(0, 0, 0, 0.15);\n",
              "      filter: drop-shadow(0px 1px 2px rgba(0, 0, 0, 0.3));\n",
              "      fill: #FFFFFF;\n",
              "    }\n",
              "  </style>\n",
              "\n",
              "      <script>\n",
              "        const buttonEl =\n",
              "          document.querySelector('#df-069d3c14-4a7b-4301-bdad-a662f84add03 button.colab-df-convert');\n",
              "        buttonEl.style.display =\n",
              "          google.colab.kernel.accessAllowed ? 'block' : 'none';\n",
              "\n",
              "        async function convertToInteractive(key) {\n",
              "          const element = document.querySelector('#df-069d3c14-4a7b-4301-bdad-a662f84add03');\n",
              "          const dataTable =\n",
              "            await google.colab.kernel.invokeFunction('convertToInteractive',\n",
              "                                                     [key], {});\n",
              "          if (!dataTable) return;\n",
              "\n",
              "          const docLinkHtml = 'Like what you see? Visit the ' +\n",
              "            '<a target=\"_blank\" href=https://colab.research.google.com/notebooks/data_table.ipynb>data table notebook</a>'\n",
              "            + ' to learn more about interactive tables.';\n",
              "          element.innerHTML = '';\n",
              "          dataTable['output_type'] = 'display_data';\n",
              "          await google.colab.output.renderOutput(dataTable, element);\n",
              "          const docLink = document.createElement('div');\n",
              "          docLink.innerHTML = docLinkHtml;\n",
              "          element.appendChild(docLink);\n",
              "        }\n",
              "      </script>\n",
              "    </div>\n",
              "  </div>\n",
              "  "
            ]
          },
          "metadata": {},
          "execution_count": 12
        }
      ]
    },
    {
      "cell_type": "code",
      "source": [
        "def method1(x,y,labels_file):\n",
        "    # Creating Dataframes\n",
        "    df = pd.DataFrame(x,columns=[(\"emb\"+str(num)) for num in range(1,129)]) # Dataframe to get all embeddings program wise\n",
        "    df_y = pd.read_csv(labels_file, sep = \" \", header=None, names=[\"Complexity\", \"Node Number\", \"Language\"])\n",
        "    df['Complexity'] = df_y['Complexity'] # Adding y label to each corresponding program's embeddings\n",
        "\n",
        "    # Resampling - Oversampling \n",
        "\n",
        "    #create two different dataframe of majority and minority class \n",
        "    df_majority = df[(df['Complexity'] == 'O(N)')] \n",
        "    df_minority_1 = df[(df['Complexity'] == 'O(N2)')] \n",
        "    df_minority_2 = df[(df['Complexity'] == 'O(NlogN)')] \n",
        "    df_minority_3 = df[(df['Complexity'] == 'O(logN)')] \n",
        "    df_minority_4 = df[(df['Complexity'] == 'O(N3)')]\n",
        "    df_minority_5 = df[(df['Complexity'] == 'O(Nd)')]\n",
        "    df_minority_6 = df[(df['Complexity'] == 'O(2n)')]\n",
        "    df_minority_7 = df[(df['Complexity'] == 'O(1)')]\n",
        "    df_minority_8 = df[(df['Complexity'] == 'O(N!)')]\n",
        "    df_minority_9 = df[(df['Complexity'] == 'O(sqrt(N))')]\n",
        "\n",
        "    # upsample minority class\n",
        "    minority = [df_minority_1, df_minority_2, df_minority_3, df_minority_4, df_minority_5, df_minority_6, df_minority_7, df_minority_8, df_minority_9]\n",
        "    temp = []\n",
        "    for i in minority:\n",
        "      df_minority_upsampled = resample(i, \n",
        "                                      replace=True,    # sample with replacement\n",
        "                                      n_samples= 375, # to match majority class\n",
        "                                      random_state=42)  # reproducible results\n",
        "      temp.append(df_minority_upsampled)\n",
        "    # Combine majority class with upsampled minority class\n",
        "    df_upsampled = df_majority\n",
        "    for i in temp:\n",
        "      df_upsampled = pd.concat([i, df_upsampled])\n",
        "\n",
        "    new_df = df_upsampled\n",
        "    # df = oversampled\n",
        "    factor = pd.factorize(new_df['Complexity'])\n",
        "    new_df.Complexity= factor[0]\n",
        "    definitions = factor[1]\n",
        "    #print(new_df.Complexity.head())\n",
        "    print(definitions)\n",
        "\n",
        "    #Splitting the data into independent and dependent variables\n",
        "    X = new_df.iloc[:,0:128].values\n",
        "    Y = new_df.iloc[:,128].values\n",
        "    #print('The independent features set: ')\n",
        "    #print(X[:5,:])\n",
        "    #print('The dependent variable: ')\n",
        "    #print(Y[:5])\n",
        "\n",
        "    Y = new_df['Complexity']\n",
        "\n",
        "    le = LabelEncoder()\n",
        "    Y = le.fit_transform(Y)\n",
        "\n",
        "    # Creating the Training and Test set from data\n",
        "    X_train, X_test, Y_train, Y_test = train_test_split(X, Y, test_size = 0.25, random_state = 21)\n",
        "\n",
        "    # Feature Scaling\n",
        "    scaler = StandardScaler()\n",
        "    X_train = scaler.fit_transform(X_train)\n",
        "    X_test = scaler.transform(X_test)\n",
        "\n",
        "    return df, df_y, df_upsampled, new_df, X, Y, X_train, X_test, Y_train, Y_test"
      ],
      "metadata": {
        "id": "XprHTYt1cDDq"
      },
      "execution_count": null,
      "outputs": []
    },
    {
      "cell_type": "code",
      "source": [
        "df, df_y, df_upsampled, new_df, X, Y, X_train, X_test, Y_train, Y_test = method1(x,y,labels_file)\n",
        "#df\n",
        "#df_y\n",
        "#df_upsampled['Complexity'].value_counts()\n",
        "#new_df"
      ],
      "metadata": {
        "colab": {
          "base_uri": "https://localhost:8080/"
        },
        "id": "kQdKj-Crdr3-",
        "outputId": "fbde9edf-2050-44be-f259-55bd59e29c4d"
      },
      "execution_count": null,
      "outputs": [
        {
          "output_type": "stream",
          "name": "stdout",
          "text": [
            "Index(['O(sqrt(N))', 'O(N!)', 'O(1)', 'O(2n)', 'O(Nd)', 'O(N3)', 'O(logN)',\n",
            "       'O(NlogN)', 'O(N2)', 'O(N)'],\n",
            "      dtype='object')\n"
          ]
        }
      ]
    },
    {
      "cell_type": "code",
      "source": [
        "score = model.evaluate(X_test, Y_test, verbose=2)\n",
        "print(\"%s: %.2f%%\" % (model.metrics_names[1], score[1]*100))"
      ],
      "metadata": {
        "colab": {
          "base_uri": "https://localhost:8080/"
        },
        "id": "ySYUYWEECMbV",
        "outputId": "2f9bc72e-a621-4155-b562-01e10d94b46c"
      },
      "execution_count": null,
      "outputs": [
        {
          "output_type": "stream",
          "name": "stdout",
          "text": [
            "30/30 - 2s - loss: 0.6620 - accuracy: 0.7793 - 2s/epoch - 81ms/step\n",
            "accuracy: 77.93%\n"
          ]
        }
      ]
    },
    {
      "cell_type": "code",
      "source": [
        "test_df= sc.transform(test_df)"
      ],
      "metadata": {
        "colab": {
          "base_uri": "https://localhost:8080/"
        },
        "id": "fbt5_du9KD1K",
        "outputId": "afd8c48e-81cb-4d81-8e2e-941aff220685"
      },
      "execution_count": null,
      "outputs": [
        {
          "output_type": "stream",
          "name": "stderr",
          "text": [
            "/usr/local/lib/python3.7/dist-packages/sklearn/base.py:444: UserWarning: X has feature names, but StandardScaler was fitted without feature names\n",
            "  f\"X has feature names, but {self.__class__.__name__} was fitted without\"\n"
          ]
        }
      ]
    },
    {
      "cell_type": "code",
      "source": [
        "predictions = model.predict(test_df)"
      ],
      "metadata": {
        "colab": {
          "base_uri": "https://localhost:8080/"
        },
        "id": "j8chMZKkHR5g",
        "outputId": "969b4b26-e0a6-40e7-bbaf-ef818a8ba969"
      },
      "execution_count": null,
      "outputs": [
        {
          "output_type": "stream",
          "name": "stdout",
          "text": [
            "1/1 [==============================] - 1s 1s/step\n"
          ]
        }
      ]
    },
    {
      "cell_type": "code",
      "source": [
        "predictions"
      ],
      "metadata": {
        "colab": {
          "base_uri": "https://localhost:8080/"
        },
        "id": "kyEdRxOpNVNk",
        "outputId": "3992551d-84cb-4903-c1fc-68030bbaecc6"
      },
      "execution_count": null,
      "outputs": [
        {
          "output_type": "execute_result",
          "data": {
            "text/plain": [
              "array([[0.3361897 , 0.00310076, 0.42631158, 0.00116578, 0.01621369,\n",
              "        0.00199564, 0.12755889, 0.02996575, 0.03226751, 0.02523069],\n",
              "       [0.36134464, 0.00291728, 0.40989882, 0.00109764, 0.01630774,\n",
              "        0.0017826 , 0.12006225, 0.02962764, 0.0315083 , 0.02545315],\n",
              "       [0.35755494, 0.00207582, 0.4133437 , 0.0008589 , 0.01533732,\n",
              "        0.00130917, 0.13270207, 0.02664459, 0.02735222, 0.02282122],\n",
              "       [0.35722992, 0.00223847, 0.4198606 , 0.00094705, 0.01591783,\n",
              "        0.0014681 , 0.12054495, 0.02864613, 0.0289319 , 0.02421501],\n",
              "       [0.35195544, 0.00247339, 0.42580003, 0.00103604, 0.01553075,\n",
              "        0.00158883, 0.12026413, 0.02824358, 0.02895606, 0.02415164],\n",
              "       [0.3665009 , 0.00218229, 0.41046497, 0.00092251, 0.01561904,\n",
              "        0.00139655, 0.12363899, 0.02735359, 0.02839713, 0.023524  ]],\n",
              "      dtype=float32)"
            ]
          },
          "metadata": {},
          "execution_count": 19
        }
      ]
    },
    {
      "cell_type": "markdown",
      "source": [
        "we used the Softmax activation function when creating our model. This activation function doesn't compute the prediction, but rather a discrete probability distribution over the target classes. In simple English, this means that Softmax computes the probability that the input belongs to a particular class, for each class."
      ],
      "metadata": {
        "id": "Pv9GL-cCNqOd"
      }
    }
  ]
}