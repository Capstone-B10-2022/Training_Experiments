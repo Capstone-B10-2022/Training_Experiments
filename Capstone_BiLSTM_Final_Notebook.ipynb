{
  "nbformat": 4,
  "nbformat_minor": 0,
  "metadata": {
    "colab": {
      "provenance": []
    },
    "kernelspec": {
      "name": "python3",
      "display_name": "Python 3"
    },
    "language_info": {
      "name": "python"
    }
  },
  "cells": [
    {
      "cell_type": "markdown",
      "source": [
        "# Mounting Drive"
      ],
      "metadata": {
        "id": "hpk1E4ETVk9g"
      }
    },
    {
      "cell_type": "code",
      "execution_count": null,
      "metadata": {
        "colab": {
          "base_uri": "https://localhost:8080/"
        },
        "id": "6ISkwqQUVYeA",
        "outputId": "0ceb2e65-f3aa-482e-c07a-87f9adad3842"
      },
      "outputs": [
        {
          "output_type": "stream",
          "name": "stdout",
          "text": [
            "Mounted at /content/drive\n"
          ]
        }
      ],
      "source": [
        "from google.colab import drive\n",
        "drive.mount('/content/drive')"
      ]
    },
    {
      "cell_type": "markdown",
      "source": [
        "# Importing all required libraries"
      ],
      "metadata": {
        "id": "OcueWM4ZVvkG"
      }
    },
    {
      "cell_type": "code",
      "source": [
        "import pandas as pd\n",
        "import numpy as np\n",
        "import seaborn as sns\n",
        "from matplotlib import pyplot\n",
        "from sklearn.model_selection import train_test_split\n",
        "from sklearn.preprocessing import StandardScaler, LabelEncoder\n",
        "from sklearn.utils import resample\n",
        "# Imports\n",
        "import tensorflow as tf\n",
        "from tensorflow.keras.layers import Activation, Dense, LSTM, Bidirectional\n",
        "from tensorflow.keras.losses import SparseCategoricalCrossentropy\n",
        "from tensorflow.keras.models import Sequential\n",
        "from tensorflow.keras.optimizers import Adam\n",
        "from imblearn.over_sampling import SMOTE\n",
        "from collections import Counter\n",
        "from google.colab import files\n",
        "import pickle\n",
        "import joblib\n",
        "from keras.models import load_model"
      ],
      "metadata": {
        "id": "jMRGaDuDVzdh"
      },
      "execution_count": null,
      "outputs": []
    },
    {
      "cell_type": "code",
      "source": [
        "labels_file = '/content/drive/MyDrive/y.txt'\n",
        "embeddings_file = '/content/drive/MyDrive/x.npy'"
      ],
      "metadata": {
        "id": "UXigdDvhWEMQ"
      },
      "execution_count": null,
      "outputs": []
    },
    {
      "cell_type": "code",
      "source": [
        "def load_dataset_files(labels_file, embeddings_file):\n",
        "    x = np.load(embeddings_file)\n",
        "    y = pd.read_csv(labels_file, sep = \" \", header=None, names=[\"Complexity\", \"Node Number\", \"Language\"])\n",
        "    return x,y"
      ],
      "metadata": {
        "id": "mW7dSGZ-XYim"
      },
      "execution_count": null,
      "outputs": []
    },
    {
      "cell_type": "code",
      "source": [
        "x,y = load_dataset_files(labels_file,embeddings_file)"
      ],
      "metadata": {
        "id": "2mnd4QVgX95f"
      },
      "execution_count": null,
      "outputs": []
    },
    {
      "cell_type": "code",
      "source": [
        "x"
      ],
      "metadata": {
        "colab": {
          "base_uri": "https://localhost:8080/"
        },
        "id": "4F9Ks3uiYPis",
        "outputId": "2fa088f9-d592-4582-a7b7-c3abddf4657b"
      },
      "execution_count": null,
      "outputs": [
        {
          "output_type": "execute_result",
          "data": {
            "text/plain": [
              "array([[-0.05468176,  0.127175  ,  0.0366478 , ...,  0.09731236,\n",
              "        -0.107657  ,  0.08184043],\n",
              "       [-0.0952346 ,  0.17503381,  0.06393544, ...,  0.1181241 ,\n",
              "        -0.12556435,  0.13071893],\n",
              "       [-0.13581266,  0.21943617,  0.10214286, ...,  0.1283566 ,\n",
              "        -0.14471857,  0.19222681],\n",
              "       ...,\n",
              "       [ 0.18476942, -0.20165125, -0.23536444, ...,  0.23089787,\n",
              "        -0.3212845 , -0.2662279 ],\n",
              "       [ 0.25568134, -0.19382419, -0.3828221 , ...,  0.27317905,\n",
              "        -0.33641592, -0.30042982],\n",
              "       [ 0.78257215, -0.16311097, -0.7386889 , ...,  0.5125705 ,\n",
              "        -0.17265631, -0.5655121 ]], dtype=float32)"
            ]
          },
          "metadata": {},
          "execution_count": 6
        }
      ]
    },
    {
      "cell_type": "code",
      "source": [
        "y"
      ],
      "metadata": {
        "colab": {
          "base_uri": "https://localhost:8080/",
          "height": 424
        },
        "id": "XP1VvoaJYXEg",
        "outputId": "fd1c291b-949d-4fa0-a9c0-446a22b106db"
      },
      "execution_count": null,
      "outputs": [
        {
          "output_type": "execute_result",
          "data": {
            "text/plain": [
              "    Complexity Node Number Language\n",
              "0         O(1)      nodes0        C\n",
              "1        O(2n)      nodes0        C\n",
              "2        O(2n)      nodes1        C\n",
              "3      O(logN)      nodes0        C\n",
              "4      O(logN)      nodes1        C\n",
              "..         ...         ...      ...\n",
              "735   O(NlogN)      nodes5     Java\n",
              "736   O(NlogN)      nodes6     Java\n",
              "737   O(NlogN)      nodes7     Java\n",
              "738   O(NlogN)      nodes8     Java\n",
              "739   O(NlogN)      nodes9     Java\n",
              "\n",
              "[740 rows x 3 columns]"
            ],
            "text/html": [
              "\n",
              "  <div id=\"df-43b1829c-28e6-4f8f-b4f7-0defafb7b141\">\n",
              "    <div class=\"colab-df-container\">\n",
              "      <div>\n",
              "<style scoped>\n",
              "    .dataframe tbody tr th:only-of-type {\n",
              "        vertical-align: middle;\n",
              "    }\n",
              "\n",
              "    .dataframe tbody tr th {\n",
              "        vertical-align: top;\n",
              "    }\n",
              "\n",
              "    .dataframe thead th {\n",
              "        text-align: right;\n",
              "    }\n",
              "</style>\n",
              "<table border=\"1\" class=\"dataframe\">\n",
              "  <thead>\n",
              "    <tr style=\"text-align: right;\">\n",
              "      <th></th>\n",
              "      <th>Complexity</th>\n",
              "      <th>Node Number</th>\n",
              "      <th>Language</th>\n",
              "    </tr>\n",
              "  </thead>\n",
              "  <tbody>\n",
              "    <tr>\n",
              "      <th>0</th>\n",
              "      <td>O(1)</td>\n",
              "      <td>nodes0</td>\n",
              "      <td>C</td>\n",
              "    </tr>\n",
              "    <tr>\n",
              "      <th>1</th>\n",
              "      <td>O(2n)</td>\n",
              "      <td>nodes0</td>\n",
              "      <td>C</td>\n",
              "    </tr>\n",
              "    <tr>\n",
              "      <th>2</th>\n",
              "      <td>O(2n)</td>\n",
              "      <td>nodes1</td>\n",
              "      <td>C</td>\n",
              "    </tr>\n",
              "    <tr>\n",
              "      <th>3</th>\n",
              "      <td>O(logN)</td>\n",
              "      <td>nodes0</td>\n",
              "      <td>C</td>\n",
              "    </tr>\n",
              "    <tr>\n",
              "      <th>4</th>\n",
              "      <td>O(logN)</td>\n",
              "      <td>nodes1</td>\n",
              "      <td>C</td>\n",
              "    </tr>\n",
              "    <tr>\n",
              "      <th>...</th>\n",
              "      <td>...</td>\n",
              "      <td>...</td>\n",
              "      <td>...</td>\n",
              "    </tr>\n",
              "    <tr>\n",
              "      <th>735</th>\n",
              "      <td>O(NlogN)</td>\n",
              "      <td>nodes5</td>\n",
              "      <td>Java</td>\n",
              "    </tr>\n",
              "    <tr>\n",
              "      <th>736</th>\n",
              "      <td>O(NlogN)</td>\n",
              "      <td>nodes6</td>\n",
              "      <td>Java</td>\n",
              "    </tr>\n",
              "    <tr>\n",
              "      <th>737</th>\n",
              "      <td>O(NlogN)</td>\n",
              "      <td>nodes7</td>\n",
              "      <td>Java</td>\n",
              "    </tr>\n",
              "    <tr>\n",
              "      <th>738</th>\n",
              "      <td>O(NlogN)</td>\n",
              "      <td>nodes8</td>\n",
              "      <td>Java</td>\n",
              "    </tr>\n",
              "    <tr>\n",
              "      <th>739</th>\n",
              "      <td>O(NlogN)</td>\n",
              "      <td>nodes9</td>\n",
              "      <td>Java</td>\n",
              "    </tr>\n",
              "  </tbody>\n",
              "</table>\n",
              "<p>740 rows × 3 columns</p>\n",
              "</div>\n",
              "      <button class=\"colab-df-convert\" onclick=\"convertToInteractive('df-43b1829c-28e6-4f8f-b4f7-0defafb7b141')\"\n",
              "              title=\"Convert this dataframe to an interactive table.\"\n",
              "              style=\"display:none;\">\n",
              "        \n",
              "  <svg xmlns=\"http://www.w3.org/2000/svg\" height=\"24px\"viewBox=\"0 0 24 24\"\n",
              "       width=\"24px\">\n",
              "    <path d=\"M0 0h24v24H0V0z\" fill=\"none\"/>\n",
              "    <path d=\"M18.56 5.44l.94 2.06.94-2.06 2.06-.94-2.06-.94-.94-2.06-.94 2.06-2.06.94zm-11 1L8.5 8.5l.94-2.06 2.06-.94-2.06-.94L8.5 2.5l-.94 2.06-2.06.94zm10 10l.94 2.06.94-2.06 2.06-.94-2.06-.94-.94-2.06-.94 2.06-2.06.94z\"/><path d=\"M17.41 7.96l-1.37-1.37c-.4-.4-.92-.59-1.43-.59-.52 0-1.04.2-1.43.59L10.3 9.45l-7.72 7.72c-.78.78-.78 2.05 0 2.83L4 21.41c.39.39.9.59 1.41.59.51 0 1.02-.2 1.41-.59l7.78-7.78 2.81-2.81c.8-.78.8-2.07 0-2.86zM5.41 20L4 18.59l7.72-7.72 1.47 1.35L5.41 20z\"/>\n",
              "  </svg>\n",
              "      </button>\n",
              "      \n",
              "  <style>\n",
              "    .colab-df-container {\n",
              "      display:flex;\n",
              "      flex-wrap:wrap;\n",
              "      gap: 12px;\n",
              "    }\n",
              "\n",
              "    .colab-df-convert {\n",
              "      background-color: #E8F0FE;\n",
              "      border: none;\n",
              "      border-radius: 50%;\n",
              "      cursor: pointer;\n",
              "      display: none;\n",
              "      fill: #1967D2;\n",
              "      height: 32px;\n",
              "      padding: 0 0 0 0;\n",
              "      width: 32px;\n",
              "    }\n",
              "\n",
              "    .colab-df-convert:hover {\n",
              "      background-color: #E2EBFA;\n",
              "      box-shadow: 0px 1px 2px rgba(60, 64, 67, 0.3), 0px 1px 3px 1px rgba(60, 64, 67, 0.15);\n",
              "      fill: #174EA6;\n",
              "    }\n",
              "\n",
              "    [theme=dark] .colab-df-convert {\n",
              "      background-color: #3B4455;\n",
              "      fill: #D2E3FC;\n",
              "    }\n",
              "\n",
              "    [theme=dark] .colab-df-convert:hover {\n",
              "      background-color: #434B5C;\n",
              "      box-shadow: 0px 1px 3px 1px rgba(0, 0, 0, 0.15);\n",
              "      filter: drop-shadow(0px 1px 2px rgba(0, 0, 0, 0.3));\n",
              "      fill: #FFFFFF;\n",
              "    }\n",
              "  </style>\n",
              "\n",
              "      <script>\n",
              "        const buttonEl =\n",
              "          document.querySelector('#df-43b1829c-28e6-4f8f-b4f7-0defafb7b141 button.colab-df-convert');\n",
              "        buttonEl.style.display =\n",
              "          google.colab.kernel.accessAllowed ? 'block' : 'none';\n",
              "\n",
              "        async function convertToInteractive(key) {\n",
              "          const element = document.querySelector('#df-43b1829c-28e6-4f8f-b4f7-0defafb7b141');\n",
              "          const dataTable =\n",
              "            await google.colab.kernel.invokeFunction('convertToInteractive',\n",
              "                                                     [key], {});\n",
              "          if (!dataTable) return;\n",
              "\n",
              "          const docLinkHtml = 'Like what you see? Visit the ' +\n",
              "            '<a target=\"_blank\" href=https://colab.research.google.com/notebooks/data_table.ipynb>data table notebook</a>'\n",
              "            + ' to learn more about interactive tables.';\n",
              "          element.innerHTML = '';\n",
              "          dataTable['output_type'] = 'display_data';\n",
              "          await google.colab.output.renderOutput(dataTable, element);\n",
              "          const docLink = document.createElement('div');\n",
              "          docLink.innerHTML = docLinkHtml;\n",
              "          element.appendChild(docLink);\n",
              "        }\n",
              "      </script>\n",
              "    </div>\n",
              "  </div>\n",
              "  "
            ]
          },
          "metadata": {},
          "execution_count": 7
        }
      ]
    },
    {
      "cell_type": "markdown",
      "source": [
        "# Method 1 (Resampling)"
      ],
      "metadata": {
        "id": "1w3oTLz_btMX"
      }
    },
    {
      "cell_type": "code",
      "source": [
        "def method1(x,y,labels_file):\n",
        "    # Creating Dataframes\n",
        "    df = pd.DataFrame(x,columns=[(\"emb\"+str(num)) for num in range(1,129)]) # Dataframe to get all embeddings program wise\n",
        "    df_y = pd.read_csv(labels_file, sep = \" \", header=None, names=[\"Complexity\", \"Node Number\", \"Language\"])\n",
        "    df['Complexity'] = df_y['Complexity'] # Adding y label to each corresponding program's embeddings\n",
        "\n",
        "    # Resampling - Oversampling \n",
        "\n",
        "    #create two different dataframe of majority and minority class \n",
        "    df_majority = df[(df['Complexity'] == 'O(N)')] \n",
        "    df_minority_1 = df[(df['Complexity'] == 'O(N2)')] \n",
        "    df_minority_2 = df[(df['Complexity'] == 'O(NlogN)')] \n",
        "    df_minority_3 = df[(df['Complexity'] == 'O(logN)')] \n",
        "    df_minority_4 = df[(df['Complexity'] == 'O(N3)')]\n",
        "    df_minority_5 = df[(df['Complexity'] == 'O(Nd)')]\n",
        "    df_minority_6 = df[(df['Complexity'] == 'O(2n)')]\n",
        "    df_minority_7 = df[(df['Complexity'] == 'O(1)')]\n",
        "    df_minority_8 = df[(df['Complexity'] == 'O(N!)')]\n",
        "    df_minority_9 = df[(df['Complexity'] == 'O(sqrt(N))')]\n",
        "\n",
        "    # upsample minority class\n",
        "    minority = [df_minority_1, df_minority_2, df_minority_3, df_minority_4, df_minority_5, df_minority_6, df_minority_7, df_minority_8, df_minority_9]\n",
        "    temp = []\n",
        "    for i in minority:\n",
        "      df_minority_upsampled = resample(i, \n",
        "                                      replace=True,    # sample with replacement\n",
        "                                      n_samples= 375, # to match majority class\n",
        "                                      random_state=42)  # reproducible results\n",
        "      temp.append(df_minority_upsampled)\n",
        "    # Combine majority class with upsampled minority class\n",
        "    df_upsampled = df_majority\n",
        "    for i in temp:\n",
        "      df_upsampled = pd.concat([i, df_upsampled])\n",
        "\n",
        "    new_df = df_upsampled\n",
        "    # df = oversampled\n",
        "    factor = pd.factorize(new_df['Complexity'])\n",
        "    new_df.Complexity= factor[0]\n",
        "    definitions = factor[1]\n",
        "    #print(new_df.Complexity.head())\n",
        "    print(definitions)\n",
        "\n",
        "    #Splitting the data into independent and dependent variables\n",
        "    X = new_df.iloc[:,0:128].values\n",
        "    Y = new_df.iloc[:,128].values\n",
        "    #print('The independent features set: ')\n",
        "    #print(X[:5,:])\n",
        "    #print('The dependent variable: ')\n",
        "    #print(Y[:5])\n",
        "\n",
        "    Y = new_df['Complexity']\n",
        "\n",
        "    le = LabelEncoder()\n",
        "    Y = le.fit_transform(Y)\n",
        "\n",
        "    # Creating the Training and Test set from data\n",
        "    X_train, X_test, Y_train, Y_test = train_test_split(X, Y, test_size = 0.25, random_state = 21)\n",
        "\n",
        "    # Feature Scaling\n",
        "    scaler = StandardScaler()\n",
        "    X_train = scaler.fit_transform(X_train)\n",
        "    X_test = scaler.transform(X_test)\n",
        "\n",
        "    return df, df_y, df_upsampled, new_df, X, Y, X_train, X_test, Y_train, Y_test"
      ],
      "metadata": {
        "id": "XprHTYt1cDDq"
      },
      "execution_count": null,
      "outputs": []
    },
    {
      "cell_type": "code",
      "source": [
        "df, df_y, df_upsampled, new_df, X, Y, X_train, X_test, Y_train, Y_test = method1(x,y,labels_file)\n",
        "#df\n",
        "#df_y\n",
        "#df_upsampled['Complexity'].value_counts()\n",
        "#new_df"
      ],
      "metadata": {
        "colab": {
          "base_uri": "https://localhost:8080/"
        },
        "id": "kQdKj-Crdr3-",
        "outputId": "19156f44-a0e7-4090-b191-a85b5b825572"
      },
      "execution_count": null,
      "outputs": [
        {
          "output_type": "stream",
          "name": "stdout",
          "text": [
            "Index(['O(sqrt(N))', 'O(N!)', 'O(1)', 'O(2n)', 'O(Nd)', 'O(N3)', 'O(logN)',\n",
            "       'O(NlogN)', 'O(N2)', 'O(N)'],\n",
            "      dtype='object')\n"
          ]
        }
      ]
    },
    {
      "cell_type": "markdown",
      "source": [
        "# Checking count of programs before and after Resampling"
      ],
      "metadata": {
        "id": "QewNK1cFsJMf"
      }
    },
    {
      "cell_type": "code",
      "source": [
        "# Barchart for complexity labels\n",
        "sns.countplot(df['Complexity'])"
      ],
      "metadata": {
        "colab": {
          "base_uri": "https://localhost:8080/",
          "height": 351
        },
        "id": "Nax1t9dyd3J_",
        "outputId": "8549d709-16f8-47b6-a5cb-bf1f7233f6d1"
      },
      "execution_count": null,
      "outputs": [
        {
          "output_type": "stream",
          "name": "stderr",
          "text": [
            "/usr/local/lib/python3.7/dist-packages/seaborn/_decorators.py:43: FutureWarning: Pass the following variable as a keyword arg: x. From version 0.12, the only valid positional argument will be `data`, and passing other arguments without an explicit keyword will result in an error or misinterpretation.\n",
            "  FutureWarning\n"
          ]
        },
        {
          "output_type": "execute_result",
          "data": {
            "text/plain": [
              "<matplotlib.axes._subplots.AxesSubplot at 0x7f15a78f9390>"
            ]
          },
          "metadata": {},
          "execution_count": 10
        },
        {
          "output_type": "display_data",
          "data": {
            "text/plain": [
              "<Figure size 432x288 with 1 Axes>"
            ],
            "image/png": "[encoded data removed]"
          },
          "metadata": {
            "needs_background": "light"
          }
        }
      ]
    },
    {
      "cell_type": "code",
      "source": [
        "# Barchart for complexity labels after resampling\n",
        "sns.countplot(df_upsampled['Complexity'])"
      ],
      "metadata": {
        "colab": {
          "base_uri": "https://localhost:8080/",
          "height": 351
        },
        "id": "0sLNlHHreJBR",
        "outputId": "7b1f8e94-6ea4-45eb-88e8-f4461dc90960"
      },
      "execution_count": null,
      "outputs": [
        {
          "output_type": "stream",
          "name": "stderr",
          "text": [
            "/usr/local/lib/python3.7/dist-packages/seaborn/_decorators.py:43: FutureWarning: Pass the following variable as a keyword arg: x. From version 0.12, the only valid positional argument will be `data`, and passing other arguments without an explicit keyword will result in an error or misinterpretation.\n",
            "  FutureWarning\n"
          ]
        },
        {
          "output_type": "execute_result",
          "data": {
            "text/plain": [
              "<matplotlib.axes._subplots.AxesSubplot at 0x7f15a77e7a10>"
            ]
          },
          "metadata": {},
          "execution_count": 11
        },
        {
          "output_type": "display_data",
          "data": {
            "text/plain": [
              "<Figure size 432x288 with 1 Axes>"
            ],
            "image/png": "[encoded data removed]"
          },
          "metadata": {
            "needs_background": "light"
          }
        }
      ]
    },
    {
      "cell_type": "markdown",
      "source": [
        "# Changing data shape from 2d to 3d"
      ],
      "metadata": {
        "id": "kjQ50hKLsTmY"
      }
    },
    {
      "cell_type": "code",
      "source": [
        "X.shape"
      ],
      "metadata": {
        "colab": {
          "base_uri": "https://localhost:8080/"
        },
        "id": "C8CLEC2jjazD",
        "outputId": "42ece54d-2297-4061-ac07-5ac3564da319"
      },
      "execution_count": null,
      "outputs": [
        {
          "output_type": "execute_result",
          "data": {
            "text/plain": [
              "(3750, 128)"
            ]
          },
          "metadata": {},
          "execution_count": 12
        }
      ]
    },
    {
      "cell_type": "code",
      "source": [
        "Y.shape"
      ],
      "metadata": {
        "colab": {
          "base_uri": "https://localhost:8080/"
        },
        "id": "O2s3chlcj9Cg",
        "outputId": "7264740a-93a7-47f0-a1cb-6f40487ef572"
      },
      "execution_count": null,
      "outputs": [
        {
          "output_type": "execute_result",
          "data": {
            "text/plain": [
              "(3750,)"
            ]
          },
          "metadata": {},
          "execution_count": 13
        }
      ]
    },
    {
      "cell_type": "code",
      "source": [
        "X_train.shape"
      ],
      "metadata": {
        "colab": {
          "base_uri": "https://localhost:8080/"
        },
        "id": "awcdBZlSjRMI",
        "outputId": "0f06b6a9-51df-4b5e-f2e2-23b6b4b324ec"
      },
      "execution_count": null,
      "outputs": [
        {
          "output_type": "execute_result",
          "data": {
            "text/plain": [
              "(2812, 128)"
            ]
          },
          "metadata": {},
          "execution_count": 14
        }
      ]
    },
    {
      "cell_type": "code",
      "source": [
        "Y_train.shape"
      ],
      "metadata": {
        "colab": {
          "base_uri": "https://localhost:8080/"
        },
        "id": "MsaFBosjj9sV",
        "outputId": "c211d8f7-df41-4520-9316-3fa5df92437c"
      },
      "execution_count": null,
      "outputs": [
        {
          "output_type": "execute_result",
          "data": {
            "text/plain": [
              "(2812,)"
            ]
          },
          "metadata": {},
          "execution_count": 15
        }
      ]
    },
    {
      "cell_type": "code",
      "source": [
        "X_test.shape"
      ],
      "metadata": {
        "colab": {
          "base_uri": "https://localhost:8080/"
        },
        "id": "ku8685UQku8q",
        "outputId": "d3af9897-9a9a-4158-d7d2-c9eef0dfbacf"
      },
      "execution_count": null,
      "outputs": [
        {
          "output_type": "execute_result",
          "data": {
            "text/plain": [
              "(938, 128)"
            ]
          },
          "metadata": {},
          "execution_count": 16
        }
      ]
    },
    {
      "cell_type": "code",
      "source": [
        "Y_test.shape"
      ],
      "metadata": {
        "colab": {
          "base_uri": "https://localhost:8080/"
        },
        "id": "Vwsnv699k028",
        "outputId": "9c6fd505-9d9e-4cd4-c232-2bc842c6b6d2"
      },
      "execution_count": null,
      "outputs": [
        {
          "output_type": "execute_result",
          "data": {
            "text/plain": [
              "(938,)"
            ]
          },
          "metadata": {},
          "execution_count": 17
        }
      ]
    },
    {
      "cell_type": "code",
      "source": [
        "# Reshaping to 3d data\n",
        "X = np.reshape(X,(3750,128,1))\n",
        "X_train = np.reshape(X_train,(2812, 128,1))\n",
        "X_test = np.reshape(X_test,(938,128,1))"
      ],
      "metadata": {
        "id": "DpwAWoByjlH3"
      },
      "execution_count": null,
      "outputs": []
    },
    {
      "cell_type": "markdown",
      "source": [
        "# BiLSTM with 64 memory units"
      ],
      "metadata": {
        "id": "9Q3lbg-ssgEs"
      }
    },
    {
      "cell_type": "code",
      "source": [
        "def BiLSTM():\n",
        "    model = Sequential()\n",
        "    model.add(Bidirectional(LSTM(64, return_sequences=True),\n",
        "                                input_shape=(128, 1))) # 64 as input shape is 128; forward + backward = 128\n",
        "    model.add(Bidirectional(LSTM(64)))\n",
        "    model.add(Dense(10, activation=\"softmax\"))\n",
        "    model.compile(optimizer='adam',\n",
        "                  loss=tf.keras.losses.SparseCategoricalCrossentropy(),\n",
        "                  metrics=['accuracy'])\n",
        "    model.summary()\n",
        "    return model"
      ],
      "metadata": {
        "id": "hVwEl7OLjIPy"
      },
      "execution_count": null,
      "outputs": []
    },
    {
      "cell_type": "code",
      "source": [
        "model = BiLSTM()"
      ],
      "metadata": {
        "colab": {
          "base_uri": "https://localhost:8080/"
        },
        "id": "IyQ26AJ_mQYo",
        "outputId": "4a0d9b08-16b7-43cb-a119-304bbb69dd4d"
      },
      "execution_count": null,
      "outputs": [
        {
          "output_type": "stream",
          "name": "stdout",
          "text": [
            "Model: \"sequential\"\n",
            "_________________________________________________________________\n",
            " Layer (type)                Output Shape              Param #   \n",
            "=================================================================\n",
            " bidirectional (Bidirectiona  (None, 128, 128)         33792     \n",
            " l)                                                              \n",
            "                                                                 \n",
            " bidirectional_1 (Bidirectio  (None, 128)              98816     \n",
            " nal)                                                            \n",
            "                                                                 \n",
            " dense (Dense)               (None, 10)                1290      \n",
            "                                                                 \n",
            "=================================================================\n",
            "Total params: 133,898\n",
            "Trainable params: 133,898\n",
            "Non-trainable params: 0\n",
            "_________________________________________________________________\n"
          ]
        }
      ]
    },
    {
      "cell_type": "code",
      "source": [
        "history1 = model.fit(X_train, Y_train, epochs=25)"
      ],
      "metadata": {
        "colab": {
          "base_uri": "https://localhost:8080/"
        },
        "id": "OtrudrA3mbNb",
        "outputId": "8dfe3ac3-a694-4b69-bafb-8473f118bec0"
      },
      "execution_count": null,
      "outputs": [
        {
          "output_type": "stream",
          "name": "stdout",
          "text": [
            "Epoch 1/25\n",
            "88/88 [==============================] - 28s 229ms/step - loss: 1.8916 - accuracy: 0.3215\n",
            "Epoch 2/25\n",
            "88/88 [==============================] - 22s 249ms/step - loss: 1.2752 - accuracy: 0.5455\n",
            "Epoch 3/25\n",
            "88/88 [==============================] - 20s 227ms/step - loss: 1.0119 - accuracy: 0.6440\n",
            "Epoch 4/25\n",
            "88/88 [==============================] - 22s 249ms/step - loss: 0.8016 - accuracy: 0.7191\n",
            "Epoch 5/25\n",
            "88/88 [==============================] - 20s 226ms/step - loss: 0.7326 - accuracy: 0.7393\n",
            "Epoch 6/25\n",
            "88/88 [==============================] - 22s 250ms/step - loss: 0.7267 - accuracy: 0.7500\n",
            "Epoch 7/25\n",
            "88/88 [==============================] - 22s 249ms/step - loss: 0.6382 - accuracy: 0.7660\n",
            "Epoch 8/25\n",
            "88/88 [==============================] - 20s 227ms/step - loss: 0.5577 - accuracy: 0.8126\n",
            "Epoch 9/25\n",
            "88/88 [==============================] - 22s 248ms/step - loss: 0.5255 - accuracy: 0.8176\n",
            "Epoch 10/25\n",
            "88/88 [==============================] - 20s 225ms/step - loss: 0.5463 - accuracy: 0.8065\n",
            "Epoch 11/25\n",
            "88/88 [==============================] - 20s 225ms/step - loss: 0.4607 - accuracy: 0.8403\n",
            "Epoch 12/25\n",
            "88/88 [==============================] - 22s 249ms/step - loss: 0.4387 - accuracy: 0.8496\n",
            "Epoch 13/25\n",
            "88/88 [==============================] - 20s 226ms/step - loss: 0.3710 - accuracy: 0.8784\n",
            "Epoch 14/25\n",
            "88/88 [==============================] - 20s 227ms/step - loss: 0.4001 - accuracy: 0.8627\n",
            "Epoch 15/25\n",
            "88/88 [==============================] - 22s 247ms/step - loss: 0.5577 - accuracy: 0.8158\n",
            "Epoch 16/25\n",
            "88/88 [==============================] - 22s 248ms/step - loss: 0.7147 - accuracy: 0.7578\n",
            "Epoch 17/25\n",
            "88/88 [==============================] - 22s 248ms/step - loss: 0.4035 - accuracy: 0.8677\n",
            "Epoch 18/25\n",
            "88/88 [==============================] - 20s 224ms/step - loss: 0.3584 - accuracy: 0.8798\n",
            "Epoch 19/25\n",
            "88/88 [==============================] - 20s 224ms/step - loss: 0.2864 - accuracy: 0.9100\n",
            "Epoch 20/25\n",
            "88/88 [==============================] - 22s 247ms/step - loss: 0.3964 - accuracy: 0.8709\n",
            "Epoch 21/25\n",
            "88/88 [==============================] - 20s 226ms/step - loss: 0.2948 - accuracy: 0.9008\n",
            "Epoch 22/25\n",
            "88/88 [==============================] - 22s 246ms/step - loss: 0.2456 - accuracy: 0.9260\n",
            "Epoch 23/25\n",
            "88/88 [==============================] - 20s 228ms/step - loss: 0.3185 - accuracy: 0.9008\n",
            "Epoch 24/25\n",
            "88/88 [==============================] - 20s 226ms/step - loss: 0.2772 - accuracy: 0.9107\n",
            "Epoch 25/25\n",
            "88/88 [==============================] - 22s 248ms/step - loss: 0.2535 - accuracy: 0.9171\n"
          ]
        }
      ]
    },
    {
      "cell_type": "code",
      "source": [
        "# save the model to disk\n",
        "#filename = 'finalized_model1.sav'\n",
        "#pickle.dump(model, open(filename, 'wb'))\n",
        "#joblib.dump(model, filename)"
      ],
      "metadata": {
        "colab": {
          "base_uri": "https://localhost:8080/"
        },
        "id": "paVGMlY8XgZa",
        "outputId": "958a1a40-92b7-4023-fcb2-f7f2a45228cb"
      },
      "execution_count": null,
      "outputs": [
        {
          "output_type": "stream",
          "name": "stderr",
          "text": [
            "WARNING:absl:Found untraced functions such as lstm_cell_1_layer_call_fn, lstm_cell_1_layer_call_and_return_conditional_losses, lstm_cell_2_layer_call_fn, lstm_cell_2_layer_call_and_return_conditional_losses, lstm_cell_4_layer_call_fn while saving (showing 5 of 8). These functions will not be directly callable after loading.\n"
          ]
        },
        {
          "output_type": "execute_result",
          "data": {
            "text/plain": [
              "['finalized_model1.sav']"
            ]
          },
          "metadata": {},
          "execution_count": 23
        }
      ]
    },
    {
      "cell_type": "code",
      "source": [
        "model.save('finalized_model1.sav', save_format=\"h5\")"
      ],
      "metadata": {
        "id": "9Kz9S5qGb1Bo"
      },
      "execution_count": null,
      "outputs": []
    },
    {
      "cell_type": "code",
      "source": [
        "table_df = pd.DataFrame(history1.history)\n",
        "table_df.index += 1\n",
        "print(table_df)"
      ],
      "metadata": {
        "colab": {
          "base_uri": "https://localhost:8080/"
        },
        "id": "1Mj7781nocG-",
        "outputId": "0691199b-7079-4d39-ac4e-37812c00edab"
      },
      "execution_count": null,
      "outputs": [
        {
          "output_type": "stream",
          "name": "stdout",
          "text": [
            "        loss  accuracy\n",
            "1   1.891557  0.321479\n",
            "2   1.275160  0.545519\n",
            "3   1.011934  0.644026\n",
            "4   0.801617  0.719061\n",
            "5   0.732612  0.739331\n",
            "6   0.726662  0.750000\n",
            "7   0.638183  0.766003\n",
            "8   0.557675  0.812589\n",
            "9   0.525459  0.817568\n",
            "10  0.546259  0.806543\n",
            "11  0.460694  0.840327\n",
            "12  0.438665  0.849573\n",
            "13  0.371021  0.878378\n",
            "14  0.400094  0.862731\n",
            "15  0.557679  0.815789\n",
            "16  0.714697  0.757824\n",
            "17  0.403498  0.867710\n",
            "18  0.358377  0.879801\n",
            "19  0.286442  0.910028\n",
            "20  0.396356  0.870910\n",
            "21  0.294767  0.900782\n",
            "22  0.245603  0.926031\n",
            "23  0.318454  0.900782\n",
            "24  0.277181  0.910740\n",
            "25  0.253546  0.917141\n"
          ]
        }
      ]
    },
    {
      "cell_type": "code",
      "source": [
        "table_df2 = table_df[table_df.index % 5 == 0]\n",
        "table_df2"
      ],
      "metadata": {
        "id": "OxpXOgkztiO6",
        "colab": {
          "base_uri": "https://localhost:8080/",
          "height": 206
        },
        "outputId": "6fd94f01-9778-417d-9cd5-268e5d4af0f7"
      },
      "execution_count": null,
      "outputs": [
        {
          "output_type": "execute_result",
          "data": {
            "text/plain": [
              "        loss  accuracy\n",
              "5   0.732612  0.739331\n",
              "10  0.546259  0.806543\n",
              "15  0.557679  0.815789\n",
              "20  0.396356  0.870910\n",
              "25  0.253546  0.917141"
            ],
            "text/html": [
              "\n",
              "  <div id=\"df-31e8799a-9cdb-4bb1-9d4b-b07b55cad6fa\">\n",
              "    <div class=\"colab-df-container\">\n",
              "      <div>\n",
              "<style scoped>\n",
              "    .dataframe tbody tr th:only-of-type {\n",
              "        vertical-align: middle;\n",
              "    }\n",
              "\n",
              "    .dataframe tbody tr th {\n",
              "        vertical-align: top;\n",
              "    }\n",
              "\n",
              "    .dataframe thead th {\n",
              "        text-align: right;\n",
              "    }\n",
              "</style>\n",
              "<table border=\"1\" class=\"dataframe\">\n",
              "  <thead>\n",
              "    <tr style=\"text-align: right;\">\n",
              "      <th></th>\n",
              "      <th>loss</th>\n",
              "      <th>accuracy</th>\n",
              "    </tr>\n",
              "  </thead>\n",
              "  <tbody>\n",
              "    <tr>\n",
              "      <th>5</th>\n",
              "      <td>0.732612</td>\n",
              "      <td>0.739331</td>\n",
              "    </tr>\n",
              "    <tr>\n",
              "      <th>10</th>\n",
              "      <td>0.546259</td>\n",
              "      <td>0.806543</td>\n",
              "    </tr>\n",
              "    <tr>\n",
              "      <th>15</th>\n",
              "      <td>0.557679</td>\n",
              "      <td>0.815789</td>\n",
              "    </tr>\n",
              "    <tr>\n",
              "      <th>20</th>\n",
              "      <td>0.396356</td>\n",
              "      <td>0.870910</td>\n",
              "    </tr>\n",
              "    <tr>\n",
              "      <th>25</th>\n",
              "      <td>0.253546</td>\n",
              "      <td>0.917141</td>\n",
              "    </tr>\n",
              "  </tbody>\n",
              "</table>\n",
              "</div>\n",
              "      <button class=\"colab-df-convert\" onclick=\"convertToInteractive('df-31e8799a-9cdb-4bb1-9d4b-b07b55cad6fa')\"\n",
              "              title=\"Convert this dataframe to an interactive table.\"\n",
              "              style=\"display:none;\">\n",
              "        \n",
              "  <svg xmlns=\"http://www.w3.org/2000/svg\" height=\"24px\"viewBox=\"0 0 24 24\"\n",
              "       width=\"24px\">\n",
              "    <path d=\"M0 0h24v24H0V0z\" fill=\"none\"/>\n",
              "    <path d=\"M18.56 5.44l.94 2.06.94-2.06 2.06-.94-2.06-.94-.94-2.06-.94 2.06-2.06.94zm-11 1L8.5 8.5l.94-2.06 2.06-.94-2.06-.94L8.5 2.5l-.94 2.06-2.06.94zm10 10l.94 2.06.94-2.06 2.06-.94-2.06-.94-.94-2.06-.94 2.06-2.06.94z\"/><path d=\"M17.41 7.96l-1.37-1.37c-.4-.4-.92-.59-1.43-.59-.52 0-1.04.2-1.43.59L10.3 9.45l-7.72 7.72c-.78.78-.78 2.05 0 2.83L4 21.41c.39.39.9.59 1.41.59.51 0 1.02-.2 1.41-.59l7.78-7.78 2.81-2.81c.8-.78.8-2.07 0-2.86zM5.41 20L4 18.59l7.72-7.72 1.47 1.35L5.41 20z\"/>\n",
              "  </svg>\n",
              "      </button>\n",
              "      \n",
              "  <style>\n",
              "    .colab-df-container {\n",
              "      display:flex;\n",
              "      flex-wrap:wrap;\n",
              "      gap: 12px;\n",
              "    }\n",
              "\n",
              "    .colab-df-convert {\n",
              "      background-color: #E8F0FE;\n",
              "      border: none;\n",
              "      border-radius: 50%;\n",
              "      cursor: pointer;\n",
              "      display: none;\n",
              "      fill: #1967D2;\n",
              "      height: 32px;\n",
              "      padding: 0 0 0 0;\n",
              "      width: 32px;\n",
              "    }\n",
              "\n",
              "    .colab-df-convert:hover {\n",
              "      background-color: #E2EBFA;\n",
              "      box-shadow: 0px 1px 2px rgba(60, 64, 67, 0.3), 0px 1px 3px 1px rgba(60, 64, 67, 0.15);\n",
              "      fill: #174EA6;\n",
              "    }\n",
              "\n",
              "    [theme=dark] .colab-df-convert {\n",
              "      background-color: #3B4455;\n",
              "      fill: #D2E3FC;\n",
              "    }\n",
              "\n",
              "    [theme=dark] .colab-df-convert:hover {\n",
              "      background-color: #434B5C;\n",
              "      box-shadow: 0px 1px 3px 1px rgba(0, 0, 0, 0.15);\n",
              "      filter: drop-shadow(0px 1px 2px rgba(0, 0, 0, 0.3));\n",
              "      fill: #FFFFFF;\n",
              "    }\n",
              "  </style>\n",
              "\n",
              "      <script>\n",
              "        const buttonEl =\n",
              "          document.querySelector('#df-31e8799a-9cdb-4bb1-9d4b-b07b55cad6fa button.colab-df-convert');\n",
              "        buttonEl.style.display =\n",
              "          google.colab.kernel.accessAllowed ? 'block' : 'none';\n",
              "\n",
              "        async function convertToInteractive(key) {\n",
              "          const element = document.querySelector('#df-31e8799a-9cdb-4bb1-9d4b-b07b55cad6fa');\n",
              "          const dataTable =\n",
              "            await google.colab.kernel.invokeFunction('convertToInteractive',\n",
              "                                                     [key], {});\n",
              "          if (!dataTable) return;\n",
              "\n",
              "          const docLinkHtml = 'Like what you see? Visit the ' +\n",
              "            '<a target=\"_blank\" href=https://colab.research.google.com/notebooks/data_table.ipynb>data table notebook</a>'\n",
              "            + ' to learn more about interactive tables.';\n",
              "          element.innerHTML = '';\n",
              "          dataTable['output_type'] = 'display_data';\n",
              "          await google.colab.output.renderOutput(dataTable, element);\n",
              "          const docLink = document.createElement('div');\n",
              "          docLink.innerHTML = docLinkHtml;\n",
              "          element.appendChild(docLink);\n",
              "        }\n",
              "      </script>\n",
              "    </div>\n",
              "  </div>\n",
              "  "
            ]
          },
          "metadata": {},
          "execution_count": 24
        }
      ]
    },
    {
      "cell_type": "code",
      "source": [
        "table_df.to_csv('data1.csv')\n",
        "files.download(\"data1.csv\")"
      ],
      "metadata": {
        "id": "TxvupzN8UB7B",
        "colab": {
          "base_uri": "https://localhost:8080/",
          "height": 17
        },
        "outputId": "e99b2914-9d8d-4937-ee0c-b057a81e706c"
      },
      "execution_count": null,
      "outputs": [
        {
          "output_type": "display_data",
          "data": {
            "text/plain": [
              "<IPython.core.display.Javascript object>"
            ],
            "application/javascript": [
              "\n",
              "    async function download(id, filename, size) {\n",
              "      if (!google.colab.kernel.accessAllowed) {\n",
              "        return;\n",
              "      }\n",
              "      const div = document.createElement('div');\n",
              "      const label = document.createElement('label');\n",
              "      label.textContent = `Downloading \"${filename}\": `;\n",
              "      div.appendChild(label);\n",
              "      const progress = document.createElement('progress');\n",
              "      progress.max = size;\n",
              "      div.appendChild(progress);\n",
              "      document.body.appendChild(div);\n",
              "\n",
              "      const buffers = [];\n",
              "      let downloaded = 0;\n",
              "\n",
              "      const channel = await google.colab.kernel.comms.open(id);\n",
              "      // Send a message to notify the kernel that we're ready.\n",
              "      channel.send({})\n",
              "\n",
              "      for await (const message of channel.messages) {\n",
              "        // Send a message to notify the kernel that we're ready.\n",
              "        channel.send({})\n",
              "        if (message.buffers) {\n",
              "          for (const buffer of message.buffers) {\n",
              "            buffers.push(buffer);\n",
              "            downloaded += buffer.byteLength;\n",
              "            progress.value = downloaded;\n",
              "          }\n",
              "        }\n",
              "      }\n",
              "      const blob = new Blob(buffers, {type: 'application/binary'});\n",
              "      const a = document.createElement('a');\n",
              "      a.href = window.URL.createObjectURL(blob);\n",
              "      a.download = filename;\n",
              "      div.appendChild(a);\n",
              "      a.click();\n",
              "      div.remove();\n",
              "    }\n",
              "  "
            ]
          },
          "metadata": {}
        },
        {
          "output_type": "display_data",
          "data": {
            "text/plain": [
              "<IPython.core.display.Javascript object>"
            ],
            "application/javascript": [
              "download(\"download_6fab9140-c2e3-4c68-8212-5ee1b1d32b4c\", \"data1.csv\", 1017)"
            ]
          },
          "metadata": {}
        }
      ]
    },
    {
      "cell_type": "code",
      "source": [
        "table_df2.to_csv('data1_1.csv')\n",
        "files.download(\"data1_1.csv\")"
      ],
      "metadata": {
        "id": "YVT-rUNPUTFC",
        "colab": {
          "base_uri": "https://localhost:8080/",
          "height": 17
        },
        "outputId": "a8adfb91-652f-4298-dfcf-77fd56f59548"
      },
      "execution_count": null,
      "outputs": [
        {
          "output_type": "display_data",
          "data": {
            "text/plain": [
              "<IPython.core.display.Javascript object>"
            ],
            "application/javascript": [
              "\n",
              "    async function download(id, filename, size) {\n",
              "      if (!google.colab.kernel.accessAllowed) {\n",
              "        return;\n",
              "      }\n",
              "      const div = document.createElement('div');\n",
              "      const label = document.createElement('label');\n",
              "      label.textContent = `Downloading \"${filename}\": `;\n",
              "      div.appendChild(label);\n",
              "      const progress = document.createElement('progress');\n",
              "      progress.max = size;\n",
              "      div.appendChild(progress);\n",
              "      document.body.appendChild(div);\n",
              "\n",
              "      const buffers = [];\n",
              "      let downloaded = 0;\n",
              "\n",
              "      const channel = await google.colab.kernel.comms.open(id);\n",
              "      // Send a message to notify the kernel that we're ready.\n",
              "      channel.send({})\n",
              "\n",
              "      for await (const message of channel.messages) {\n",
              "        // Send a message to notify the kernel that we're ready.\n",
              "        channel.send({})\n",
              "        if (message.buffers) {\n",
              "          for (const buffer of message.buffers) {\n",
              "            buffers.push(buffer);\n",
              "            downloaded += buffer.byteLength;\n",
              "            progress.value = downloaded;\n",
              "          }\n",
              "        }\n",
              "      }\n",
              "      const blob = new Blob(buffers, {type: 'application/binary'});\n",
              "      const a = document.createElement('a');\n",
              "      a.href = window.URL.createObjectURL(blob);\n",
              "      a.download = filename;\n",
              "      div.appendChild(a);\n",
              "      a.click();\n",
              "      div.remove();\n",
              "    }\n",
              "  "
            ]
          },
          "metadata": {}
        },
        {
          "output_type": "display_data",
          "data": {
            "text/plain": [
              "<IPython.core.display.Javascript object>"
            ],
            "application/javascript": [
              "download(\"download_14ce5d0e-a86e-4e29-85fe-9b1db03f6980\", \"data1_1.csv\", 219)"
            ]
          },
          "metadata": {}
        }
      ]
    },
    {
      "cell_type": "code",
      "source": [
        "pyplot.plot(history1.history['loss'])\n",
        "pyplot.plot(history1.history['accuracy'])\n",
        "pyplot.title('model loss vs accuracy')\n",
        "pyplot.xlabel('epoch')\n",
        "pyplot.legend(['loss', 'accuracy'], loc='upper right')\n",
        "pyplot.show()"
      ],
      "metadata": {
        "colab": {
          "base_uri": "https://localhost:8080/",
          "height": 295
        },
        "id": "AKSEAOjenGpK",
        "outputId": "d16a61df-3b3f-4218-ccfe-207e56373460"
      },
      "execution_count": null,
      "outputs": [
        {
          "output_type": "display_data",
          "data": {
            "text/plain": [
              "<Figure size 432x288 with 1 Axes>"
            ],
            "image/png": "[encoded data removed]"
          },
          "metadata": {
            "needs_background": "light"
          }
        }
      ]
    },
    {
      "cell_type": "code",
      "source": [
        "test_loss, test_acc = model.evaluate(X_test, Y_test, verbose=2)\n",
        "\n",
        "print('\\nTest accuracy:', test_acc)"
      ],
      "metadata": {
        "colab": {
          "base_uri": "https://localhost:8080/"
        },
        "id": "CfLloHxCpVN6",
        "outputId": "a211f3a5-855f-4252-d01e-d694aa5cfeed"
      },
      "execution_count": null,
      "outputs": [
        {
          "output_type": "stream",
          "name": "stdout",
          "text": [
            "30/30 - 3s - loss: 0.3099 - accuracy: 0.9062 - 3s/epoch - 108ms/step\n",
            "\n",
            "Test accuracy: 0.9061833620071411\n"
          ]
        }
      ]
    },
    {
      "cell_type": "code",
      "source": [
        "# Test the model after training\n",
        "test_results = model.evaluate(X_test, Y_test, verbose=False)\n",
        "#print(f'Test results - Loss: {test_results[0]} - Accuracy: {100*test_results[1]}%')\n",
        "test_results"
      ],
      "metadata": {
        "colab": {
          "base_uri": "https://localhost:8080/"
        },
        "id": "QTWDogl_pda0",
        "outputId": "df8607ae-f598-4e50-f7cb-bbf9b179eefa"
      },
      "execution_count": null,
      "outputs": [
        {
          "output_type": "execute_result",
          "data": {
            "text/plain": [
              "[0.3098714351654053, 0.9061833620071411]"
            ]
          },
          "metadata": {},
          "execution_count": 29
        }
      ]
    },
    {
      "cell_type": "markdown",
      "source": [
        "# Method 2 (Resampling by combining \"x\" variable with language)"
      ],
      "metadata": {
        "id": "LKHKxXcmtUwr"
      }
    },
    {
      "cell_type": "code",
      "source": [
        "# Loading dataset\n",
        "x,y = load_dataset_files(labels_file,embeddings_file)"
      ],
      "metadata": {
        "id": "Ofurdx5zpn7x"
      },
      "execution_count": null,
      "outputs": []
    },
    {
      "cell_type": "code",
      "source": [
        "def resample_data(df,temp):\n",
        "    df_majority = df[(df['Complexity'] == 'O(N)')]\n",
        "    df_minority_1 = df[(df['Complexity'] == 'O(N2)')]\n",
        "    df_minority_2 = df[(df['Complexity'] == 'O(NlogN)')]\n",
        "    df_minority_3 = df[(df['Complexity'] == 'O(logN)')]\n",
        "    df_minority_4 = df[(df['Complexity'] == 'O(N3)')]\n",
        "    df_minority_5 = df[(df['Complexity'] == 'O(Nd)')]\n",
        "    minority = [df_minority_1, df_minority_2, df_minority_3, df_minority_4, df_minority_5]\n",
        "    for i in minority:\n",
        "        df_minority_upsampled = resample(i,replace=True,n_samples= len(df_majority),random_state=42)  \n",
        "        temp.append(df_minority_upsampled)\n",
        "    df_upsampled = df_majority\n",
        "    for k in temp:\n",
        "        df_upsampled = pd.concat([k, df_upsampled])\n",
        "    return df_upsampled"
      ],
      "metadata": {
        "id": "ckvY22LRyMA3"
      },
      "execution_count": null,
      "outputs": []
    },
    {
      "cell_type": "code",
      "source": [
        "def method2(x,y,labels_file):\n",
        "    # Creating Dataframes\n",
        "    df = pd.DataFrame(x,columns=[(\"emb\"+str(num)) for num in range(1,129)]) # Dataframe to get all embeddings program wise\n",
        "    df_y = pd.read_csv(labels_file, sep = \" \", header=None, names=[\"Complexity\", \"Node Number\", \"Language\"])\n",
        "    df['Complexity'] = df_y['Complexity'] # Adding y label to each corresponding program's embeddings\n",
        "    df['Language']=df_y['Language'] # Adding Language to each corresponding program's embeddings\n",
        "\n",
        "    df.reset_index()\n",
        "\n",
        "    ind=df.set_index('Complexity')\n",
        "    df = ind.drop([\"O(1)\", \"O(2n)\", \"O(N!)\",\"O(sqrt(N))\"])\n",
        "\n",
        "    df=df.reset_index()\n",
        "\n",
        "    #print(df.index)\n",
        "\n",
        "    #print(\"Before\")\n",
        "    #df['Language'].value_counts()\n",
        "\n",
        "    for i in df.index:\n",
        "      if df['Language'][i]=='C':\n",
        "          df['Language'][i]=1\n",
        "      elif df['Language'][i]=='Python':\n",
        "          df['Language'][i]=2\n",
        "      else:\n",
        "          df['Language'][i]=3\n",
        "\n",
        "    #print(\"C\")\n",
        "    #df[df['Language']==1]['Complexity'].value_counts()\n",
        "    #print(\"Python\")\n",
        "    #df[df['Language']==2]['Complexity'].value_counts()\n",
        "    #print(\"Java\")\n",
        "    #df[df['Language']==3]['Complexity'].value_counts()\n",
        "\n",
        "    df_c=df[df['Language']==1]\n",
        "    df_python=df[df['Language']==2]\n",
        "    df_java=df[df['Language']==3]\n",
        "\n",
        "    df_java=df_java.reset_index()\n",
        "    df_c=df_c.reset_index()\n",
        "    df_python=df_python.reset_index()\n",
        "\n",
        "    df_java.shape, df_c.shape, df_python.shape\n",
        "\n",
        "\n",
        "    # Resampling - Oversampling \n",
        "\n",
        "    t1=[]\n",
        "    t2=[]\n",
        "    t3=[]\n",
        "    df1=resample_data(df_c,t1)\n",
        "    df2=resample_data(df_python,t2)\n",
        "    df3=resample_data(df_java,t3)\n",
        "\n",
        "    df1['Complexity'].value_counts()\n",
        "    df2['Complexity'].value_counts()\n",
        "    df3['Complexity'].value_counts()\n",
        "\n",
        "    frames=[df1,df2,df3]\n",
        "    df_upsampled=pd.concat(frames)\n",
        "    df_upsampled=df_upsampled.reset_index()\n",
        "    df_upsampled=df_upsampled.drop(labels=[\"level_0\",\"index\"],axis=1)\n",
        "    df_upsampled\n",
        "    #df_upsampled['Complexity'].value_counts()\n",
        "\n",
        "    sns.countplot(df_upsampled['Complexity'])\n",
        "\n",
        "    df_new = df_upsampled\n",
        "    # df = oversampled\n",
        "    factor = pd.factorize(df_new['Complexity'])\n",
        "    df_new.Complexity= factor[0]\n",
        "    definitions = factor[1]\n",
        "    print(df_new.Complexity.head())\n",
        "    print(definitions)\n",
        "\n",
        "    #Splitting the data into independent and dependent variables\n",
        "    X = df_new.iloc[:,1:130].values\n",
        "\n",
        "    Y = df_new['Complexity']\n",
        "\n",
        "    le = LabelEncoder()\n",
        "    Y = le.fit_transform(Y)\n",
        "\n",
        "    # Creating the Training and Test set from data\n",
        "    X_train, X_test, Y_train, Y_test = train_test_split(X, Y, test_size = 0.25, random_state = 21)\n",
        "\n",
        "    # Feature Scaling\n",
        "    scaler = StandardScaler()\n",
        "    X_train = scaler.fit_transform(X_train)\n",
        "    X_test = scaler.transform(X_test)\n",
        "\n",
        "    return df, df_y, df1, df2, df3, df_upsampled, df_new, X, Y, X_train, X_test, Y_train, Y_test"
      ],
      "metadata": {
        "id": "6Tw1UVU1tyJf"
      },
      "execution_count": null,
      "outputs": []
    },
    {
      "cell_type": "code",
      "source": [
        "df, df_y, df1, df2, df3, df_upsampled, df_new, X, Y, X_train, X_test, Y_train, Y_test = method2(x,y,labels_file)"
      ],
      "metadata": {
        "colab": {
          "base_uri": "https://localhost:8080/",
          "height": 663
        },
        "id": "dOTB0tjHzxf_",
        "outputId": "aa1e76ea-f8c2-408c-e489-463256e35299"
      },
      "execution_count": null,
      "outputs": [
        {
          "output_type": "stream",
          "name": "stderr",
          "text": [
            "/usr/local/lib/python3.7/dist-packages/ipykernel_launcher.py:22: SettingWithCopyWarning: \n",
            "A value is trying to be set on a copy of a slice from a DataFrame\n",
            "\n",
            "See the caveats in the documentation: https://pandas.pydata.org/pandas-docs/stable/user_guide/indexing.html#returning-a-view-versus-a-copy\n",
            "/usr/local/lib/python3.7/dist-packages/ipykernel_launcher.py:24: SettingWithCopyWarning: \n",
            "A value is trying to be set on a copy of a slice from a DataFrame\n",
            "\n",
            "See the caveats in the documentation: https://pandas.pydata.org/pandas-docs/stable/user_guide/indexing.html#returning-a-view-versus-a-copy\n",
            "/usr/local/lib/python3.7/dist-packages/ipykernel_launcher.py:26: SettingWithCopyWarning: \n",
            "A value is trying to be set on a copy of a slice from a DataFrame\n",
            "\n",
            "See the caveats in the documentation: https://pandas.pydata.org/pandas-docs/stable/user_guide/indexing.html#returning-a-view-versus-a-copy\n",
            "/usr/local/lib/python3.7/dist-packages/seaborn/_decorators.py:43: FutureWarning: Pass the following variable as a keyword arg: x. From version 0.12, the only valid positional argument will be `data`, and passing other arguments without an explicit keyword will result in an error or misinterpretation.\n",
            "  FutureWarning\n"
          ]
        },
        {
          "output_type": "stream",
          "name": "stdout",
          "text": [
            "0    0\n",
            "1    0\n",
            "2    0\n",
            "3    0\n",
            "4    0\n",
            "Name: Complexity, dtype: int64\n",
            "Index(['O(Nd)', 'O(N3)', 'O(logN)', 'O(NlogN)', 'O(N2)', 'O(N)'], dtype='object')\n"
          ]
        },
        {
          "output_type": "display_data",
          "data": {
            "text/plain": [
              "<Figure size 432x288 with 1 Axes>"
            ],
            "image/png": "[encoded data removed]"
          },
          "metadata": {
            "needs_background": "light"
          }
        }
      ]
    },
    {
      "cell_type": "markdown",
      "source": [
        "# Changing data shape from 2d to 3d"
      ],
      "metadata": {
        "id": "tiOMEYeUntfa"
      }
    },
    {
      "cell_type": "code",
      "source": [
        "X.shape"
      ],
      "metadata": {
        "colab": {
          "base_uri": "https://localhost:8080/"
        },
        "outputId": "cd424423-c352-4bb9-d7b8-c096334cc337",
        "id": "kj-PMIXVntfd"
      },
      "execution_count": null,
      "outputs": [
        {
          "output_type": "execute_result",
          "data": {
            "text/plain": [
              "(2250, 129)"
            ]
          },
          "metadata": {},
          "execution_count": 35
        }
      ]
    },
    {
      "cell_type": "code",
      "source": [
        "Y.shape"
      ],
      "metadata": {
        "colab": {
          "base_uri": "https://localhost:8080/"
        },
        "outputId": "4a0dd5ff-5817-4441-f698-dde10b3cb9a4",
        "id": "SN8JX92cntfe"
      },
      "execution_count": null,
      "outputs": [
        {
          "output_type": "execute_result",
          "data": {
            "text/plain": [
              "(2250,)"
            ]
          },
          "metadata": {},
          "execution_count": 36
        }
      ]
    },
    {
      "cell_type": "code",
      "source": [
        "X_train.shape"
      ],
      "metadata": {
        "colab": {
          "base_uri": "https://localhost:8080/"
        },
        "outputId": "80643bf7-2378-4634-f691-16c6029a78cc",
        "id": "f2-wzECfntfe"
      },
      "execution_count": null,
      "outputs": [
        {
          "output_type": "execute_result",
          "data": {
            "text/plain": [
              "(1687, 129)"
            ]
          },
          "metadata": {},
          "execution_count": 37
        }
      ]
    },
    {
      "cell_type": "code",
      "source": [
        "Y_train.shape"
      ],
      "metadata": {
        "colab": {
          "base_uri": "https://localhost:8080/"
        },
        "outputId": "db748c2f-ba24-40bb-f316-208d6129844e",
        "id": "vvbxhGXentfe"
      },
      "execution_count": null,
      "outputs": [
        {
          "output_type": "execute_result",
          "data": {
            "text/plain": [
              "(1687,)"
            ]
          },
          "metadata": {},
          "execution_count": 38
        }
      ]
    },
    {
      "cell_type": "code",
      "source": [
        "X_test.shape"
      ],
      "metadata": {
        "colab": {
          "base_uri": "https://localhost:8080/"
        },
        "outputId": "0a109e63-6b2e-40ba-a895-4324a292dec3",
        "id": "In_2HrYcntfe"
      },
      "execution_count": null,
      "outputs": [
        {
          "output_type": "execute_result",
          "data": {
            "text/plain": [
              "(563, 129)"
            ]
          },
          "metadata": {},
          "execution_count": 39
        }
      ]
    },
    {
      "cell_type": "code",
      "source": [
        "Y_test.shape"
      ],
      "metadata": {
        "colab": {
          "base_uri": "https://localhost:8080/"
        },
        "outputId": "89636dbc-8b2e-4857-b869-9373ce870133",
        "id": "vavDOuilntff"
      },
      "execution_count": null,
      "outputs": [
        {
          "output_type": "execute_result",
          "data": {
            "text/plain": [
              "(563,)"
            ]
          },
          "metadata": {},
          "execution_count": 40
        }
      ]
    },
    {
      "cell_type": "code",
      "source": [
        "# Reshaping to 3d data\n",
        "#X = np.reshape(X,(2970,128,1))\n",
        "X_train = np.reshape(X_train,(1687, 129,1))\n",
        "X_test = np.reshape(X_test,(563,129,1))"
      ],
      "metadata": {
        "id": "TpmOQOldntff"
      },
      "execution_count": null,
      "outputs": []
    },
    {
      "cell_type": "markdown",
      "source": [
        "# BiLSTM with 65 memory units"
      ],
      "metadata": {
        "id": "iA6H_vxgLCVT"
      }
    },
    {
      "cell_type": "code",
      "source": [
        "def BiLSTM():\n",
        "    model = Sequential()\n",
        "    model.add(Bidirectional(LSTM(65, return_sequences=True),\n",
        "                                input_shape=(129, 1))) # 64 as input shape is 128; forward + backward = 128\n",
        "    model.add(Bidirectional(LSTM(65)))\n",
        "    model.add(Dense(6, activation=\"softmax\"))\n",
        "    model.compile(optimizer='adam',\n",
        "                  loss=tf.keras.losses.SparseCategoricalCrossentropy(),\n",
        "                  metrics=['accuracy'])\n",
        "    model.summary()\n",
        "    return model"
      ],
      "metadata": {
        "id": "JW_3CHS4LCVU"
      },
      "execution_count": null,
      "outputs": []
    },
    {
      "cell_type": "code",
      "source": [
        "model = BiLSTM()"
      ],
      "metadata": {
        "colab": {
          "base_uri": "https://localhost:8080/"
        },
        "outputId": "3a4f015e-d979-4488-fc48-8069bb430594",
        "id": "FFVUmXI6LCVU"
      },
      "execution_count": null,
      "outputs": [
        {
          "output_type": "stream",
          "name": "stdout",
          "text": [
            "Model: \"sequential_1\"\n",
            "_________________________________________________________________\n",
            " Layer (type)                Output Shape              Param #   \n",
            "=================================================================\n",
            " bidirectional_2 (Bidirectio  (None, 129, 130)         34840     \n",
            " nal)                                                            \n",
            "                                                                 \n",
            " bidirectional_3 (Bidirectio  (None, 130)              101920    \n",
            " nal)                                                            \n",
            "                                                                 \n",
            " dense_1 (Dense)             (None, 6)                 786       \n",
            "                                                                 \n",
            "=================================================================\n",
            "Total params: 137,546\n",
            "Trainable params: 137,546\n",
            "Non-trainable params: 0\n",
            "_________________________________________________________________\n"
          ]
        }
      ]
    },
    {
      "cell_type": "code",
      "source": [
        "history2 = model.fit(X_train, Y_train, epochs=50)"
      ],
      "metadata": {
        "colab": {
          "base_uri": "https://localhost:8080/"
        },
        "outputId": "0605f4e0-126a-40b8-e3fa-5865d782b5f5",
        "id": "lX4WSF9tLCVV"
      },
      "execution_count": null,
      "outputs": [
        {
          "output_type": "stream",
          "name": "stdout",
          "text": [
            "Epoch 1/50\n",
            "53/53 [==============================] - 21s 246ms/step - loss: 1.6025 - accuracy: 0.3154\n",
            "Epoch 2/50\n",
            "53/53 [==============================] - 15s 282ms/step - loss: 1.4275 - accuracy: 0.3954\n",
            "Epoch 3/50\n",
            "53/53 [==============================] - 13s 246ms/step - loss: 1.3392 - accuracy: 0.4416\n",
            "Epoch 4/50\n",
            "53/53 [==============================] - 13s 244ms/step - loss: 1.2363 - accuracy: 0.5080\n",
            "Epoch 5/50\n",
            "53/53 [==============================] - 13s 246ms/step - loss: 1.1124 - accuracy: 0.5531\n",
            "Epoch 6/50\n",
            "53/53 [==============================] - 17s 318ms/step - loss: 1.0219 - accuracy: 0.6088\n",
            "Epoch 7/50\n",
            "53/53 [==============================] - 13s 245ms/step - loss: 0.9748 - accuracy: 0.6266\n",
            "Epoch 8/50\n",
            "53/53 [==============================] - 13s 244ms/step - loss: 0.8396 - accuracy: 0.7072\n",
            "Epoch 9/50\n",
            "53/53 [==============================] - 15s 282ms/step - loss: 0.7932 - accuracy: 0.7178\n",
            "Epoch 10/50\n",
            "53/53 [==============================] - 15s 283ms/step - loss: 0.7403 - accuracy: 0.7333\n",
            "Epoch 11/50\n",
            "53/53 [==============================] - 13s 244ms/step - loss: 0.6811 - accuracy: 0.7582\n",
            "Epoch 12/50\n",
            "53/53 [==============================] - 13s 243ms/step - loss: 0.6838 - accuracy: 0.7475\n",
            "Epoch 13/50\n",
            "53/53 [==============================] - 13s 243ms/step - loss: 0.5817 - accuracy: 0.8056\n",
            "Epoch 14/50\n",
            "53/53 [==============================] - 15s 281ms/step - loss: 0.5652 - accuracy: 0.8068\n",
            "Epoch 15/50\n",
            "53/53 [==============================] - 13s 247ms/step - loss: 0.5053 - accuracy: 0.8293\n",
            "Epoch 16/50\n",
            "53/53 [==============================] - 13s 244ms/step - loss: 0.4847 - accuracy: 0.8388\n",
            "Epoch 17/50\n",
            "53/53 [==============================] - 13s 245ms/step - loss: 0.4956 - accuracy: 0.8382\n",
            "Epoch 18/50\n",
            "53/53 [==============================] - 15s 282ms/step - loss: 0.4181 - accuracy: 0.8672\n",
            "Epoch 19/50\n",
            "53/53 [==============================] - 13s 246ms/step - loss: 0.3772 - accuracy: 0.8856\n",
            "Epoch 20/50\n",
            "53/53 [==============================] - 13s 247ms/step - loss: 0.3509 - accuracy: 0.8886\n",
            "Epoch 21/50\n",
            "53/53 [==============================] - 13s 249ms/step - loss: 0.3711 - accuracy: 0.8838\n",
            "Epoch 22/50\n",
            "53/53 [==============================] - 15s 284ms/step - loss: 0.5866 - accuracy: 0.7931\n",
            "Epoch 23/50\n",
            "53/53 [==============================] - 13s 245ms/step - loss: 0.4012 - accuracy: 0.8696\n",
            "Epoch 24/50\n",
            "53/53 [==============================] - 15s 282ms/step - loss: 0.3247 - accuracy: 0.8980\n",
            "Epoch 25/50\n",
            "53/53 [==============================] - 13s 246ms/step - loss: 0.2726 - accuracy: 0.9129\n",
            "Epoch 26/50\n",
            "53/53 [==============================] - 15s 283ms/step - loss: 0.3893 - accuracy: 0.8684\n",
            "Epoch 27/50\n",
            "53/53 [==============================] - 13s 248ms/step - loss: 0.5568 - accuracy: 0.8091\n",
            "Epoch 28/50\n",
            "53/53 [==============================] - 13s 246ms/step - loss: 0.3113 - accuracy: 0.9069\n",
            "Epoch 29/50\n",
            "53/53 [==============================] - 13s 246ms/step - loss: 0.2899 - accuracy: 0.9093\n",
            "Epoch 30/50\n",
            "53/53 [==============================] - 15s 283ms/step - loss: 0.2866 - accuracy: 0.9099\n",
            "Epoch 31/50\n",
            "53/53 [==============================] - 13s 245ms/step - loss: 0.2322 - accuracy: 0.9247\n",
            "Epoch 32/50\n",
            "53/53 [==============================] - 13s 244ms/step - loss: 0.1957 - accuracy: 0.9413\n",
            "Epoch 33/50\n",
            "53/53 [==============================] - 13s 244ms/step - loss: 0.1965 - accuracy: 0.9425\n",
            "Epoch 34/50\n",
            "53/53 [==============================] - 15s 283ms/step - loss: 0.1800 - accuracy: 0.9401\n",
            "Epoch 35/50\n",
            "53/53 [==============================] - 13s 246ms/step - loss: 0.2024 - accuracy: 0.9366\n",
            "Epoch 36/50\n",
            "53/53 [==============================] - 13s 245ms/step - loss: 0.2341 - accuracy: 0.9253\n",
            "Epoch 37/50\n",
            "53/53 [==============================] - 13s 246ms/step - loss: 0.2324 - accuracy: 0.9241\n",
            "Epoch 38/50\n",
            "53/53 [==============================] - 15s 276ms/step - loss: 0.3396 - accuracy: 0.8874\n",
            "Epoch 39/50\n",
            "53/53 [==============================] - 13s 249ms/step - loss: 0.1872 - accuracy: 0.9437\n",
            "Epoch 40/50\n",
            "53/53 [==============================] - 15s 281ms/step - loss: 0.1276 - accuracy: 0.9638\n",
            "Epoch 41/50\n",
            "53/53 [==============================] - 13s 245ms/step - loss: 0.1323 - accuracy: 0.9650\n",
            "Epoch 42/50\n",
            "53/53 [==============================] - 15s 281ms/step - loss: 0.1414 - accuracy: 0.9567\n",
            "Epoch 43/50\n",
            "53/53 [==============================] - 13s 243ms/step - loss: 0.1425 - accuracy: 0.9621\n",
            "Epoch 44/50\n",
            "53/53 [==============================] - 13s 246ms/step - loss: 0.1003 - accuracy: 0.9745\n",
            "Epoch 45/50\n",
            "53/53 [==============================] - 13s 247ms/step - loss: 0.0927 - accuracy: 0.9798\n",
            "Epoch 46/50\n",
            "53/53 [==============================] - 14s 271ms/step - loss: 0.0806 - accuracy: 0.9816\n",
            "Epoch 47/50\n",
            "53/53 [==============================] - 14s 254ms/step - loss: 0.1135 - accuracy: 0.9632\n",
            "Epoch 48/50\n",
            "53/53 [==============================] - 13s 245ms/step - loss: 0.3749 - accuracy: 0.8619\n",
            "Epoch 49/50\n",
            "53/53 [==============================] - 13s 246ms/step - loss: 0.2844 - accuracy: 0.9057\n",
            "Epoch 50/50\n",
            "53/53 [==============================] - 13s 244ms/step - loss: 0.1790 - accuracy: 0.9449\n"
          ]
        }
      ]
    },
    {
      "cell_type": "code",
      "source": [
        "# save the model to disk\n",
        "#filename = 'finalized_model2.sav'\n",
        "#pickle.dump(model, open(filename, 'wb'))\n",
        "#joblib.dump(model, filename)"
      ],
      "metadata": {
        "id": "8d0ShrlPYOEx"
      },
      "execution_count": null,
      "outputs": []
    },
    {
      "cell_type": "code",
      "source": [
        "model.save('finalized_model2.sav', save_format=\"h5\")"
      ],
      "metadata": {
        "id": "W72Bs0hNiXn1"
      },
      "execution_count": null,
      "outputs": []
    },
    {
      "cell_type": "code",
      "source": [
        "table_df = pd.DataFrame(history2.history)\n",
        "table_df.index += 1\n",
        "print(table_df)"
      ],
      "metadata": {
        "colab": {
          "base_uri": "https://localhost:8080/"
        },
        "outputId": "9897475e-8026-42d3-facf-663306ec1f4c",
        "id": "7swnJAseLCVV"
      },
      "execution_count": null,
      "outputs": [
        {
          "output_type": "stream",
          "name": "stdout",
          "text": [
            "        loss  accuracy\n",
            "1   1.602520  0.315353\n",
            "2   1.427496  0.395376\n",
            "3   1.339150  0.441612\n",
            "4   1.236322  0.508002\n",
            "5   1.112352  0.553053\n",
            "6   1.021855  0.608773\n",
            "7   0.974811  0.626556\n",
            "8   0.839591  0.707173\n",
            "9   0.793157  0.717842\n",
            "10  0.740306  0.733254\n",
            "11  0.681075  0.758151\n",
            "12  0.683792  0.747481\n",
            "13  0.581703  0.805572\n",
            "14  0.565189  0.806758\n",
            "15  0.505309  0.829283\n",
            "16  0.484694  0.838767\n",
            "17  0.495573  0.838174\n",
            "18  0.418128  0.867220\n",
            "19  0.377238  0.885596\n",
            "20  0.350874  0.888560\n",
            "21  0.371144  0.883817\n",
            "22  0.586555  0.793124\n",
            "23  0.401190  0.869591\n",
            "24  0.324727  0.898044\n",
            "25  0.272645  0.912863\n",
            "26  0.389319  0.868405\n",
            "27  0.556766  0.809129\n",
            "28  0.311276  0.906935\n",
            "29  0.289941  0.909306\n",
            "30  0.286604  0.909899\n",
            "31  0.232192  0.924718\n",
            "32  0.195709  0.941316\n",
            "33  0.196508  0.942501\n",
            "34  0.179987  0.940130\n",
            "35  0.202429  0.936574\n",
            "36  0.234138  0.925311\n",
            "37  0.232368  0.924126\n",
            "38  0.339587  0.887374\n",
            "39  0.187171  0.943687\n",
            "40  0.127638  0.963841\n",
            "41  0.132290  0.965027\n",
            "42  0.141384  0.956728\n",
            "43  0.142537  0.962063\n",
            "44  0.100349  0.974511\n",
            "45  0.092660  0.979846\n",
            "46  0.080583  0.981624\n",
            "47  0.113522  0.963248\n",
            "48  0.374934  0.861885\n",
            "49  0.284432  0.905750\n",
            "50  0.178953  0.944873\n"
          ]
        }
      ]
    },
    {
      "cell_type": "code",
      "source": [
        "table_df2 = table_df[table_df.index % 10 == 0]\n",
        "table_df2"
      ],
      "metadata": {
        "id": "Kx3WGedxLCVV",
        "colab": {
          "base_uri": "https://localhost:8080/",
          "height": 206
        },
        "outputId": "7f64213e-7794-4142-f09a-ca58cde8ebae"
      },
      "execution_count": null,
      "outputs": [
        {
          "output_type": "execute_result",
          "data": {
            "text/plain": [
              "        loss  accuracy\n",
              "10  0.740306  0.733254\n",
              "20  0.350874  0.888560\n",
              "30  0.286604  0.909899\n",
              "40  0.127638  0.963841\n",
              "50  0.178953  0.944873"
            ],
            "text/html": [
              "\n",
              "  <div id=\"df-2d7cd9a6-bf49-49ec-869e-85f11d79032a\">\n",
              "    <div class=\"colab-df-container\">\n",
              "      <div>\n",
              "<style scoped>\n",
              "    .dataframe tbody tr th:only-of-type {\n",
              "        vertical-align: middle;\n",
              "    }\n",
              "\n",
              "    .dataframe tbody tr th {\n",
              "        vertical-align: top;\n",
              "    }\n",
              "\n",
              "    .dataframe thead th {\n",
              "        text-align: right;\n",
              "    }\n",
              "</style>\n",
              "<table border=\"1\" class=\"dataframe\">\n",
              "  <thead>\n",
              "    <tr style=\"text-align: right;\">\n",
              "      <th></th>\n",
              "      <th>loss</th>\n",
              "      <th>accuracy</th>\n",
              "    </tr>\n",
              "  </thead>\n",
              "  <tbody>\n",
              "    <tr>\n",
              "      <th>10</th>\n",
              "      <td>0.740306</td>\n",
              "      <td>0.733254</td>\n",
              "    </tr>\n",
              "    <tr>\n",
              "      <th>20</th>\n",
              "      <td>0.350874</td>\n",
              "      <td>0.888560</td>\n",
              "    </tr>\n",
              "    <tr>\n",
              "      <th>30</th>\n",
              "      <td>0.286604</td>\n",
              "      <td>0.909899</td>\n",
              "    </tr>\n",
              "    <tr>\n",
              "      <th>40</th>\n",
              "      <td>0.127638</td>\n",
              "      <td>0.963841</td>\n",
              "    </tr>\n",
              "    <tr>\n",
              "      <th>50</th>\n",
              "      <td>0.178953</td>\n",
              "      <td>0.944873</td>\n",
              "    </tr>\n",
              "  </tbody>\n",
              "</table>\n",
              "</div>\n",
              "      <button class=\"colab-df-convert\" onclick=\"convertToInteractive('df-2d7cd9a6-bf49-49ec-869e-85f11d79032a')\"\n",
              "              title=\"Convert this dataframe to an interactive table.\"\n",
              "              style=\"display:none;\">\n",
              "        \n",
              "  <svg xmlns=\"http://www.w3.org/2000/svg\" height=\"24px\"viewBox=\"0 0 24 24\"\n",
              "       width=\"24px\">\n",
              "    <path d=\"M0 0h24v24H0V0z\" fill=\"none\"/>\n",
              "    <path d=\"M18.56 5.44l.94 2.06.94-2.06 2.06-.94-2.06-.94-.94-2.06-.94 2.06-2.06.94zm-11 1L8.5 8.5l.94-2.06 2.06-.94-2.06-.94L8.5 2.5l-.94 2.06-2.06.94zm10 10l.94 2.06.94-2.06 2.06-.94-2.06-.94-.94-2.06-.94 2.06-2.06.94z\"/><path d=\"M17.41 7.96l-1.37-1.37c-.4-.4-.92-.59-1.43-.59-.52 0-1.04.2-1.43.59L10.3 9.45l-7.72 7.72c-.78.78-.78 2.05 0 2.83L4 21.41c.39.39.9.59 1.41.59.51 0 1.02-.2 1.41-.59l7.78-7.78 2.81-2.81c.8-.78.8-2.07 0-2.86zM5.41 20L4 18.59l7.72-7.72 1.47 1.35L5.41 20z\"/>\n",
              "  </svg>\n",
              "      </button>\n",
              "      \n",
              "  <style>\n",
              "    .colab-df-container {\n",
              "      display:flex;\n",
              "      flex-wrap:wrap;\n",
              "      gap: 12px;\n",
              "    }\n",
              "\n",
              "    .colab-df-convert {\n",
              "      background-color: #E8F0FE;\n",
              "      border: none;\n",
              "      border-radius: 50%;\n",
              "      cursor: pointer;\n",
              "      display: none;\n",
              "      fill: #1967D2;\n",
              "      height: 32px;\n",
              "      padding: 0 0 0 0;\n",
              "      width: 32px;\n",
              "    }\n",
              "\n",
              "    .colab-df-convert:hover {\n",
              "      background-color: #E2EBFA;\n",
              "      box-shadow: 0px 1px 2px rgba(60, 64, 67, 0.3), 0px 1px 3px 1px rgba(60, 64, 67, 0.15);\n",
              "      fill: #174EA6;\n",
              "    }\n",
              "\n",
              "    [theme=dark] .colab-df-convert {\n",
              "      background-color: #3B4455;\n",
              "      fill: #D2E3FC;\n",
              "    }\n",
              "\n",
              "    [theme=dark] .colab-df-convert:hover {\n",
              "      background-color: #434B5C;\n",
              "      box-shadow: 0px 1px 3px 1px rgba(0, 0, 0, 0.15);\n",
              "      filter: drop-shadow(0px 1px 2px rgba(0, 0, 0, 0.3));\n",
              "      fill: #FFFFFF;\n",
              "    }\n",
              "  </style>\n",
              "\n",
              "      <script>\n",
              "        const buttonEl =\n",
              "          document.querySelector('#df-2d7cd9a6-bf49-49ec-869e-85f11d79032a button.colab-df-convert');\n",
              "        buttonEl.style.display =\n",
              "          google.colab.kernel.accessAllowed ? 'block' : 'none';\n",
              "\n",
              "        async function convertToInteractive(key) {\n",
              "          const element = document.querySelector('#df-2d7cd9a6-bf49-49ec-869e-85f11d79032a');\n",
              "          const dataTable =\n",
              "            await google.colab.kernel.invokeFunction('convertToInteractive',\n",
              "                                                     [key], {});\n",
              "          if (!dataTable) return;\n",
              "\n",
              "          const docLinkHtml = 'Like what you see? Visit the ' +\n",
              "            '<a target=\"_blank\" href=https://colab.research.google.com/notebooks/data_table.ipynb>data table notebook</a>'\n",
              "            + ' to learn more about interactive tables.';\n",
              "          element.innerHTML = '';\n",
              "          dataTable['output_type'] = 'display_data';\n",
              "          await google.colab.output.renderOutput(dataTable, element);\n",
              "          const docLink = document.createElement('div');\n",
              "          docLink.innerHTML = docLinkHtml;\n",
              "          element.appendChild(docLink);\n",
              "        }\n",
              "      </script>\n",
              "    </div>\n",
              "  </div>\n",
              "  "
            ]
          },
          "metadata": {},
          "execution_count": 48
        }
      ]
    },
    {
      "cell_type": "code",
      "source": [
        "table_df.to_csv('data2.csv')\n",
        "files.download(\"data2.csv\")"
      ],
      "metadata": {
        "id": "FWMOwyBOUags",
        "colab": {
          "base_uri": "https://localhost:8080/",
          "height": 17
        },
        "outputId": "913adeaa-1b88-4d19-fc0e-ff3eb8ad5200"
      },
      "execution_count": null,
      "outputs": [
        {
          "output_type": "display_data",
          "data": {
            "text/plain": [
              "<IPython.core.display.Javascript object>"
            ],
            "application/javascript": [
              "\n",
              "    async function download(id, filename, size) {\n",
              "      if (!google.colab.kernel.accessAllowed) {\n",
              "        return;\n",
              "      }\n",
              "      const div = document.createElement('div');\n",
              "      const label = document.createElement('label');\n",
              "      label.textContent = `Downloading \"${filename}\": `;\n",
              "      div.appendChild(label);\n",
              "      const progress = document.createElement('progress');\n",
              "      progress.max = size;\n",
              "      div.appendChild(progress);\n",
              "      document.body.appendChild(div);\n",
              "\n",
              "      const buffers = [];\n",
              "      let downloaded = 0;\n",
              "\n",
              "      const channel = await google.colab.kernel.comms.open(id);\n",
              "      // Send a message to notify the kernel that we're ready.\n",
              "      channel.send({})\n",
              "\n",
              "      for await (const message of channel.messages) {\n",
              "        // Send a message to notify the kernel that we're ready.\n",
              "        channel.send({})\n",
              "        if (message.buffers) {\n",
              "          for (const buffer of message.buffers) {\n",
              "            buffers.push(buffer);\n",
              "            downloaded += buffer.byteLength;\n",
              "            progress.value = downloaded;\n",
              "          }\n",
              "        }\n",
              "      }\n",
              "      const blob = new Blob(buffers, {type: 'application/binary'});\n",
              "      const a = document.createElement('a');\n",
              "      a.href = window.URL.createObjectURL(blob);\n",
              "      a.download = filename;\n",
              "      div.appendChild(a);\n",
              "      a.click();\n",
              "      div.remove();\n",
              "    }\n",
              "  "
            ]
          },
          "metadata": {}
        },
        {
          "output_type": "display_data",
          "data": {
            "text/plain": [
              "<IPython.core.display.Javascript object>"
            ],
            "application/javascript": [
              "download(\"download_32336271-0315-43f4-81e7-3a4aca705677\", \"data2.csv\", 2064)"
            ]
          },
          "metadata": {}
        }
      ]
    },
    {
      "cell_type": "code",
      "source": [
        "table_df2.to_csv('data2_1.csv')\n",
        "files.download(\"data2_1.csv\")"
      ],
      "metadata": {
        "id": "0WO04jzhUc0b",
        "colab": {
          "base_uri": "https://localhost:8080/",
          "height": 17
        },
        "outputId": "aa6b861f-46e9-401a-ab75-baf587459054"
      },
      "execution_count": null,
      "outputs": [
        {
          "output_type": "display_data",
          "data": {
            "text/plain": [
              "<IPython.core.display.Javascript object>"
            ],
            "application/javascript": [
              "\n",
              "    async function download(id, filename, size) {\n",
              "      if (!google.colab.kernel.accessAllowed) {\n",
              "        return;\n",
              "      }\n",
              "      const div = document.createElement('div');\n",
              "      const label = document.createElement('label');\n",
              "      label.textContent = `Downloading \"${filename}\": `;\n",
              "      div.appendChild(label);\n",
              "      const progress = document.createElement('progress');\n",
              "      progress.max = size;\n",
              "      div.appendChild(progress);\n",
              "      document.body.appendChild(div);\n",
              "\n",
              "      const buffers = [];\n",
              "      let downloaded = 0;\n",
              "\n",
              "      const channel = await google.colab.kernel.comms.open(id);\n",
              "      // Send a message to notify the kernel that we're ready.\n",
              "      channel.send({})\n",
              "\n",
              "      for await (const message of channel.messages) {\n",
              "        // Send a message to notify the kernel that we're ready.\n",
              "        channel.send({})\n",
              "        if (message.buffers) {\n",
              "          for (const buffer of message.buffers) {\n",
              "            buffers.push(buffer);\n",
              "            downloaded += buffer.byteLength;\n",
              "            progress.value = downloaded;\n",
              "          }\n",
              "        }\n",
              "      }\n",
              "      const blob = new Blob(buffers, {type: 'application/binary'});\n",
              "      const a = document.createElement('a');\n",
              "      a.href = window.URL.createObjectURL(blob);\n",
              "      a.download = filename;\n",
              "      div.appendChild(a);\n",
              "      a.click();\n",
              "      div.remove();\n",
              "    }\n",
              "  "
            ]
          },
          "metadata": {}
        },
        {
          "output_type": "display_data",
          "data": {
            "text/plain": [
              "<IPython.core.display.Javascript object>"
            ],
            "application/javascript": [
              "download(\"download_7a672292-ed21-4179-a0d8-dd9e12c77cd3\", \"data2_1.csv\", 223)"
            ]
          },
          "metadata": {}
        }
      ]
    },
    {
      "cell_type": "code",
      "source": [
        "pyplot.plot(history2.history['loss'])\n",
        "pyplot.plot(history2.history['accuracy'])\n",
        "pyplot.title('model loss vs accuracy')\n",
        "pyplot.xlabel('epoch')\n",
        "pyplot.legend(['loss', 'accuracy'], loc='upper right')\n",
        "pyplot.show()"
      ],
      "metadata": {
        "colab": {
          "base_uri": "https://localhost:8080/",
          "height": 295
        },
        "outputId": "bceaa449-9ff9-4a80-af1c-6bdf407ee247",
        "id": "Kvsh74FILCVV"
      },
      "execution_count": null,
      "outputs": [
        {
          "output_type": "display_data",
          "data": {
            "text/plain": [
              "<Figure size 432x288 with 1 Axes>"
            ],
            "image/png": "[encoded data removed]"
          },
          "metadata": {
            "needs_background": "light"
          }
        }
      ]
    },
    {
      "cell_type": "code",
      "source": [
        "test_loss, test_acc = model.evaluate(X_test, Y_test, verbose=2)\n",
        "\n",
        "print('\\nTest accuracy:', test_acc)"
      ],
      "metadata": {
        "colab": {
          "base_uri": "https://localhost:8080/"
        },
        "outputId": "afc141df-639c-4a1f-cc84-4ba164c89d94",
        "id": "77N8vj7zLCVV"
      },
      "execution_count": null,
      "outputs": [
        {
          "output_type": "stream",
          "name": "stdout",
          "text": [
            "18/18 - 3s - loss: 0.3940 - accuracy: 0.8881 - 3s/epoch - 155ms/step\n",
            "\n",
            "Test accuracy: 0.8880994915962219\n"
          ]
        }
      ]
    },
    {
      "cell_type": "code",
      "source": [
        "# Test the model after training\n",
        "test_results = model.evaluate(X_test, Y_test, verbose=False)\n",
        "#print(f'Test results - Loss: {test_results[0]} - Accuracy: {100*test_results[1]}%')\n",
        "test_results"
      ],
      "metadata": {
        "colab": {
          "base_uri": "https://localhost:8080/"
        },
        "outputId": "1676bbd0-45d2-44f1-8507-84e13e47887e",
        "id": "FOvrMIq8LCVW"
      },
      "execution_count": null,
      "outputs": [
        {
          "output_type": "execute_result",
          "data": {
            "text/plain": [
              "[0.394044429063797, 0.8880994915962219]"
            ]
          },
          "metadata": {},
          "execution_count": 53
        }
      ]
    },
    {
      "cell_type": "markdown",
      "source": [
        "# BiLSTM with 129 memory units"
      ],
      "metadata": {
        "id": "RbNwLMdmLUfr"
      }
    },
    {
      "cell_type": "code",
      "source": [
        "def BiLSTM():\n",
        "    model = Sequential()\n",
        "    model.add(Bidirectional(LSTM(129, return_sequences=True),\n",
        "                                input_shape=(129, 1))) # 64 as input shape is 128; forward + backward = 128\n",
        "    model.add(Bidirectional(LSTM(129)))\n",
        "    model.add(Dense(6, activation=\"softmax\"))\n",
        "    model.compile(optimizer='adam',\n",
        "                  loss=tf.keras.losses.SparseCategoricalCrossentropy(),\n",
        "                  metrics=['accuracy'])\n",
        "    model.summary()\n",
        "    return model"
      ],
      "metadata": {
        "id": "iZDoMggFLUfs"
      },
      "execution_count": null,
      "outputs": []
    },
    {
      "cell_type": "code",
      "source": [
        "model = BiLSTM()"
      ],
      "metadata": {
        "colab": {
          "base_uri": "https://localhost:8080/"
        },
        "outputId": "8bed5586-c25b-4983-9d47-b8ee5a5f4a37",
        "id": "RAPw4s59LUft"
      },
      "execution_count": null,
      "outputs": [
        {
          "output_type": "stream",
          "name": "stdout",
          "text": [
            "Model: \"sequential_2\"\n",
            "_________________________________________________________________\n",
            " Layer (type)                Output Shape              Param #   \n",
            "=================================================================\n",
            " bidirectional_4 (Bidirectio  (None, 129, 258)         135192    \n",
            " nal)                                                            \n",
            "                                                                 \n",
            " bidirectional_5 (Bidirectio  (None, 258)              400416    \n",
            " nal)                                                            \n",
            "                                                                 \n",
            " dense_2 (Dense)             (None, 6)                 1554      \n",
            "                                                                 \n",
            "=================================================================\n",
            "Total params: 537,162\n",
            "Trainable params: 537,162\n",
            "Non-trainable params: 0\n",
            "_________________________________________________________________\n"
          ]
        }
      ]
    },
    {
      "cell_type": "code",
      "source": [
        "history2_1 = model.fit(X_train, Y_train, epochs=50)"
      ],
      "metadata": {
        "colab": {
          "base_uri": "https://localhost:8080/"
        },
        "outputId": "a1299e41-612c-4c46-b4c1-bb37f89e948e",
        "id": "kTM9neMlLUft"
      },
      "execution_count": null,
      "outputs": [
        {
          "output_type": "stream",
          "name": "stdout",
          "text": [
            "Epoch 1/50\n",
            "53/53 [==============================] - 53s 857ms/step - loss: 1.5662 - accuracy: 0.3438\n",
            "Epoch 2/50\n",
            "53/53 [==============================] - 46s 863ms/step - loss: 1.3761 - accuracy: 0.4185\n",
            "Epoch 3/50\n",
            "53/53 [==============================] - 45s 858ms/step - loss: 1.2484 - accuracy: 0.4861\n",
            "Epoch 4/50\n",
            "53/53 [==============================] - 46s 862ms/step - loss: 1.2510 - accuracy: 0.4861\n",
            "Epoch 5/50\n",
            "53/53 [==============================] - 46s 868ms/step - loss: 1.0353 - accuracy: 0.5791\n",
            "Epoch 6/50\n",
            "53/53 [==============================] - 46s 865ms/step - loss: 0.9704 - accuracy: 0.6117\n",
            "Epoch 7/50\n",
            "53/53 [==============================] - 45s 848ms/step - loss: 0.8658 - accuracy: 0.6680\n",
            "Epoch 8/50\n",
            "53/53 [==============================] - 45s 849ms/step - loss: 0.7427 - accuracy: 0.7309\n",
            "Epoch 9/50\n",
            "53/53 [==============================] - 47s 884ms/step - loss: 0.7242 - accuracy: 0.7368\n",
            "Epoch 10/50\n",
            "53/53 [==============================] - 43s 814ms/step - loss: 0.6461 - accuracy: 0.7635\n",
            "Epoch 11/50\n",
            "53/53 [==============================] - 45s 847ms/step - loss: 0.5057 - accuracy: 0.8210\n",
            "Epoch 12/50\n",
            "53/53 [==============================] - 45s 847ms/step - loss: 0.4963 - accuracy: 0.8322\n",
            "Epoch 13/50\n",
            "53/53 [==============================] - 47s 883ms/step - loss: 0.4993 - accuracy: 0.8257\n",
            "Epoch 14/50\n",
            "53/53 [==============================] - 45s 849ms/step - loss: 0.4803 - accuracy: 0.8340\n",
            "Epoch 15/50\n",
            "53/53 [==============================] - 43s 814ms/step - loss: 0.3507 - accuracy: 0.8832\n",
            "Epoch 16/50\n",
            "53/53 [==============================] - 45s 846ms/step - loss: 0.3487 - accuracy: 0.8761\n",
            "Epoch 17/50\n",
            "53/53 [==============================] - 45s 847ms/step - loss: 0.3921 - accuracy: 0.8654\n",
            "Epoch 18/50\n",
            "53/53 [==============================] - 47s 891ms/step - loss: 0.3014 - accuracy: 0.8986\n",
            "Epoch 19/50\n",
            "53/53 [==============================] - 45s 850ms/step - loss: 0.2733 - accuracy: 0.9123\n",
            "Epoch 20/50\n",
            "53/53 [==============================] - 43s 812ms/step - loss: 0.4797 - accuracy: 0.8228\n",
            "Epoch 21/50\n",
            "53/53 [==============================] - 45s 845ms/step - loss: 0.4177 - accuracy: 0.8566\n",
            "Epoch 22/50\n",
            "53/53 [==============================] - 45s 843ms/step - loss: 0.2294 - accuracy: 0.9289\n",
            "Epoch 23/50\n",
            "53/53 [==============================] - 47s 883ms/step - loss: 0.1750 - accuracy: 0.9484\n",
            "Epoch 24/50\n",
            "53/53 [==============================] - 45s 843ms/step - loss: 0.2417 - accuracy: 0.9188\n",
            "Epoch 25/50\n",
            "53/53 [==============================] - 44s 823ms/step - loss: 0.2197 - accuracy: 0.9229\n",
            "Epoch 26/50\n",
            "53/53 [==============================] - 43s 799ms/step - loss: 0.2002 - accuracy: 0.9366\n",
            "Epoch 27/50\n",
            "53/53 [==============================] - 44s 838ms/step - loss: 0.1795 - accuracy: 0.9407\n",
            "Epoch 28/50\n",
            "53/53 [==============================] - 47s 891ms/step - loss: 0.1546 - accuracy: 0.9544\n",
            "Epoch 29/50\n",
            "53/53 [==============================] - 45s 846ms/step - loss: 0.1128 - accuracy: 0.9650\n",
            "Epoch 30/50\n",
            "53/53 [==============================] - 43s 811ms/step - loss: 0.1504 - accuracy: 0.9520\n",
            "Epoch 31/50\n",
            "53/53 [==============================] - 45s 827ms/step - loss: 0.2818 - accuracy: 0.9105\n",
            "Epoch 32/50\n",
            "53/53 [==============================] - 45s 843ms/step - loss: 0.2363 - accuracy: 0.9182\n",
            "Epoch 33/50\n",
            "53/53 [==============================] - 47s 879ms/step - loss: 0.1294 - accuracy: 0.9603\n",
            "Epoch 34/50\n",
            "53/53 [==============================] - 45s 856ms/step - loss: 0.1159 - accuracy: 0.9674\n",
            "Epoch 35/50\n",
            "53/53 [==============================] - 43s 818ms/step - loss: 0.1147 - accuracy: 0.9686\n",
            "Epoch 36/50\n",
            "53/53 [==============================] - 44s 814ms/step - loss: 0.0880 - accuracy: 0.9757\n",
            "Epoch 37/50\n",
            "53/53 [==============================] - 45s 845ms/step - loss: 0.2077 - accuracy: 0.9372\n",
            "Epoch 38/50\n",
            "53/53 [==============================] - 47s 883ms/step - loss: 0.1138 - accuracy: 0.9674\n",
            "Epoch 39/50\n",
            "53/53 [==============================] - 45s 842ms/step - loss: 0.0847 - accuracy: 0.9763\n",
            "Epoch 40/50\n",
            "53/53 [==============================] - 43s 804ms/step - loss: 0.0826 - accuracy: 0.9787\n",
            "Epoch 41/50\n",
            "53/53 [==============================] - 45s 850ms/step - loss: 0.0470 - accuracy: 0.9905\n",
            "Epoch 42/50\n",
            "53/53 [==============================] - 45s 854ms/step - loss: 0.1020 - accuracy: 0.9704\n",
            "Epoch 43/50\n",
            "53/53 [==============================] - 47s 888ms/step - loss: 0.1980 - accuracy: 0.9366\n",
            "Epoch 44/50\n",
            "53/53 [==============================] - 45s 843ms/step - loss: 0.1697 - accuracy: 0.9461\n",
            "Epoch 45/50\n",
            "53/53 [==============================] - 43s 806ms/step - loss: 0.0856 - accuracy: 0.9757\n",
            "Epoch 46/50\n",
            "53/53 [==============================] - 45s 843ms/step - loss: 0.0695 - accuracy: 0.9798\n",
            "Epoch 47/50\n",
            "53/53 [==============================] - 45s 844ms/step - loss: 0.1616 - accuracy: 0.9478\n",
            "Epoch 48/50\n",
            "53/53 [==============================] - 47s 884ms/step - loss: 0.2138 - accuracy: 0.9265\n",
            "Epoch 49/50\n",
            "53/53 [==============================] - 45s 844ms/step - loss: 0.2233 - accuracy: 0.9259\n",
            "Epoch 50/50\n",
            "53/53 [==============================] - 43s 802ms/step - loss: 0.1511 - accuracy: 0.9532\n"
          ]
        }
      ]
    },
    {
      "cell_type": "code",
      "source": [
        "# save the model to disk\n",
        "#filename = 'finalized_model2_1.sav'\n",
        "#pickle.dump(model, open(filename, 'wb'))\n",
        "#joblib.dump(model, filename)"
      ],
      "metadata": {
        "id": "Uxo9OuYLYTqC"
      },
      "execution_count": null,
      "outputs": []
    },
    {
      "cell_type": "code",
      "source": [
        "model.save('finalized_model2_1.sav', save_format=\"h5\")"
      ],
      "metadata": {
        "id": "zbm9q3o3jgEB"
      },
      "execution_count": null,
      "outputs": []
    },
    {
      "cell_type": "code",
      "source": [
        "table_df = pd.DataFrame(history2_1.history)\n",
        "table_df.index += 1\n",
        "print(table_df)"
      ],
      "metadata": {
        "colab": {
          "base_uri": "https://localhost:8080/"
        },
        "outputId": "616abfab-991b-4680-8a7a-b91f18d901c9",
        "id": "2y8jRkt1LUft"
      },
      "execution_count": null,
      "outputs": [
        {
          "output_type": "stream",
          "name": "stdout",
          "text": [
            "        loss  accuracy\n",
            "1   1.566166  0.343806\n",
            "2   1.376114  0.418494\n",
            "3   1.248435  0.486070\n",
            "4   1.251033  0.486070\n",
            "5   1.035308  0.579135\n",
            "6   0.970448  0.611737\n",
            "7   0.865808  0.668050\n",
            "8   0.742681  0.730883\n",
            "9   0.724209  0.736811\n",
            "10  0.646116  0.763485\n",
            "11  0.505703  0.820984\n",
            "12  0.496300  0.832247\n",
            "13  0.499257  0.825726\n",
            "14  0.480268  0.834025\n",
            "15  0.350702  0.883225\n",
            "16  0.348664  0.876111\n",
            "17  0.392065  0.865442\n",
            "18  0.301355  0.898637\n",
            "19  0.273253  0.912270\n",
            "20  0.479728  0.822762\n",
            "21  0.417719  0.856550\n",
            "22  0.229438  0.928868\n",
            "23  0.174985  0.948429\n",
            "24  0.241671  0.918791\n",
            "25  0.219709  0.922940\n",
            "26  0.200208  0.936574\n",
            "27  0.179485  0.940723\n",
            "28  0.154553  0.954357\n",
            "29  0.112835  0.965027\n",
            "30  0.150402  0.951986\n",
            "31  0.281812  0.910492\n",
            "32  0.236279  0.918198\n",
            "33  0.129424  0.960285\n",
            "34  0.115896  0.967398\n",
            "35  0.114700  0.968583\n",
            "36  0.087955  0.975697\n",
            "37  0.207700  0.937167\n",
            "38  0.113788  0.967398\n",
            "39  0.084667  0.976289\n",
            "40  0.082642  0.978660\n",
            "41  0.047045  0.990516\n",
            "42  0.101969  0.970362\n",
            "43  0.197959  0.936574\n",
            "44  0.169734  0.946058\n",
            "45  0.085634  0.975697\n",
            "46  0.069473  0.979846\n",
            "47  0.161639  0.947836\n",
            "48  0.213807  0.926497\n",
            "49  0.223340  0.925904\n",
            "50  0.151094  0.953171\n"
          ]
        }
      ]
    },
    {
      "cell_type": "code",
      "source": [
        "table_df2 = table_df[table_df.index % 10 == 0]\n",
        "table_df2"
      ],
      "metadata": {
        "id": "Z7rE4Xl9LUft",
        "colab": {
          "base_uri": "https://localhost:8080/",
          "height": 206
        },
        "outputId": "ea0b0534-b698-4a9c-90cb-b238ef2fa0c9"
      },
      "execution_count": null,
      "outputs": [
        {
          "output_type": "execute_result",
          "data": {
            "text/plain": [
              "        loss  accuracy\n",
              "10  0.646116  0.763485\n",
              "20  0.479728  0.822762\n",
              "30  0.150402  0.951986\n",
              "40  0.082642  0.978660\n",
              "50  0.151094  0.953171"
            ],
            "text/html": [
              "\n",
              "  <div id=\"df-37473e28-9771-48ff-8759-fa6594a1bf91\">\n",
              "    <div class=\"colab-df-container\">\n",
              "      <div>\n",
              "<style scoped>\n",
              "    .dataframe tbody tr th:only-of-type {\n",
              "        vertical-align: middle;\n",
              "    }\n",
              "\n",
              "    .dataframe tbody tr th {\n",
              "        vertical-align: top;\n",
              "    }\n",
              "\n",
              "    .dataframe thead th {\n",
              "        text-align: right;\n",
              "    }\n",
              "</style>\n",
              "<table border=\"1\" class=\"dataframe\">\n",
              "  <thead>\n",
              "    <tr style=\"text-align: right;\">\n",
              "      <th></th>\n",
              "      <th>loss</th>\n",
              "      <th>accuracy</th>\n",
              "    </tr>\n",
              "  </thead>\n",
              "  <tbody>\n",
              "    <tr>\n",
              "      <th>10</th>\n",
              "      <td>0.646116</td>\n",
              "      <td>0.763485</td>\n",
              "    </tr>\n",
              "    <tr>\n",
              "      <th>20</th>\n",
              "      <td>0.479728</td>\n",
              "      <td>0.822762</td>\n",
              "    </tr>\n",
              "    <tr>\n",
              "      <th>30</th>\n",
              "      <td>0.150402</td>\n",
              "      <td>0.951986</td>\n",
              "    </tr>\n",
              "    <tr>\n",
              "      <th>40</th>\n",
              "      <td>0.082642</td>\n",
              "      <td>0.978660</td>\n",
              "    </tr>\n",
              "    <tr>\n",
              "      <th>50</th>\n",
              "      <td>0.151094</td>\n",
              "      <td>0.953171</td>\n",
              "    </tr>\n",
              "  </tbody>\n",
              "</table>\n",
              "</div>\n",
              "      <button class=\"colab-df-convert\" onclick=\"convertToInteractive('df-37473e28-9771-48ff-8759-fa6594a1bf91')\"\n",
              "              title=\"Convert this dataframe to an interactive table.\"\n",
              "              style=\"display:none;\">\n",
              "        \n",
              "  <svg xmlns=\"http://www.w3.org/2000/svg\" height=\"24px\"viewBox=\"0 0 24 24\"\n",
              "       width=\"24px\">\n",
              "    <path d=\"M0 0h24v24H0V0z\" fill=\"none\"/>\n",
              "    <path d=\"M18.56 5.44l.94 2.06.94-2.06 2.06-.94-2.06-.94-.94-2.06-.94 2.06-2.06.94zm-11 1L8.5 8.5l.94-2.06 2.06-.94-2.06-.94L8.5 2.5l-.94 2.06-2.06.94zm10 10l.94 2.06.94-2.06 2.06-.94-2.06-.94-.94-2.06-.94 2.06-2.06.94z\"/><path d=\"M17.41 7.96l-1.37-1.37c-.4-.4-.92-.59-1.43-.59-.52 0-1.04.2-1.43.59L10.3 9.45l-7.72 7.72c-.78.78-.78 2.05 0 2.83L4 21.41c.39.39.9.59 1.41.59.51 0 1.02-.2 1.41-.59l7.78-7.78 2.81-2.81c.8-.78.8-2.07 0-2.86zM5.41 20L4 18.59l7.72-7.72 1.47 1.35L5.41 20z\"/>\n",
              "  </svg>\n",
              "      </button>\n",
              "      \n",
              "  <style>\n",
              "    .colab-df-container {\n",
              "      display:flex;\n",
              "      flex-wrap:wrap;\n",
              "      gap: 12px;\n",
              "    }\n",
              "\n",
              "    .colab-df-convert {\n",
              "      background-color: #E8F0FE;\n",
              "      border: none;\n",
              "      border-radius: 50%;\n",
              "      cursor: pointer;\n",
              "      display: none;\n",
              "      fill: #1967D2;\n",
              "      height: 32px;\n",
              "      padding: 0 0 0 0;\n",
              "      width: 32px;\n",
              "    }\n",
              "\n",
              "    .colab-df-convert:hover {\n",
              "      background-color: #E2EBFA;\n",
              "      box-shadow: 0px 1px 2px rgba(60, 64, 67, 0.3), 0px 1px 3px 1px rgba(60, 64, 67, 0.15);\n",
              "      fill: #174EA6;\n",
              "    }\n",
              "\n",
              "    [theme=dark] .colab-df-convert {\n",
              "      background-color: #3B4455;\n",
              "      fill: #D2E3FC;\n",
              "    }\n",
              "\n",
              "    [theme=dark] .colab-df-convert:hover {\n",
              "      background-color: #434B5C;\n",
              "      box-shadow: 0px 1px 3px 1px rgba(0, 0, 0, 0.15);\n",
              "      filter: drop-shadow(0px 1px 2px rgba(0, 0, 0, 0.3));\n",
              "      fill: #FFFFFF;\n",
              "    }\n",
              "  </style>\n",
              "\n",
              "      <script>\n",
              "        const buttonEl =\n",
              "          document.querySelector('#df-37473e28-9771-48ff-8759-fa6594a1bf91 button.colab-df-convert');\n",
              "        buttonEl.style.display =\n",
              "          google.colab.kernel.accessAllowed ? 'block' : 'none';\n",
              "\n",
              "        async function convertToInteractive(key) {\n",
              "          const element = document.querySelector('#df-37473e28-9771-48ff-8759-fa6594a1bf91');\n",
              "          const dataTable =\n",
              "            await google.colab.kernel.invokeFunction('convertToInteractive',\n",
              "                                                     [key], {});\n",
              "          if (!dataTable) return;\n",
              "\n",
              "          const docLinkHtml = 'Like what you see? Visit the ' +\n",
              "            '<a target=\"_blank\" href=https://colab.research.google.com/notebooks/data_table.ipynb>data table notebook</a>'\n",
              "            + ' to learn more about interactive tables.';\n",
              "          element.innerHTML = '';\n",
              "          dataTable['output_type'] = 'display_data';\n",
              "          await google.colab.output.renderOutput(dataTable, element);\n",
              "          const docLink = document.createElement('div');\n",
              "          docLink.innerHTML = docLinkHtml;\n",
              "          element.appendChild(docLink);\n",
              "        }\n",
              "      </script>\n",
              "    </div>\n",
              "  </div>\n",
              "  "
            ]
          },
          "metadata": {},
          "execution_count": 59
        }
      ]
    },
    {
      "cell_type": "code",
      "source": [
        "table_df.to_csv('data3.csv')\n",
        "files.download(\"data3.csv\")"
      ],
      "metadata": {
        "id": "cqCdjw1FUrvV",
        "colab": {
          "base_uri": "https://localhost:8080/",
          "height": 17
        },
        "outputId": "a9ccdea7-8bce-4fd2-974e-b94a9cfa5fe9"
      },
      "execution_count": null,
      "outputs": [
        {
          "output_type": "display_data",
          "data": {
            "text/plain": [
              "<IPython.core.display.Javascript object>"
            ],
            "application/javascript": [
              "\n",
              "    async function download(id, filename, size) {\n",
              "      if (!google.colab.kernel.accessAllowed) {\n",
              "        return;\n",
              "      }\n",
              "      const div = document.createElement('div');\n",
              "      const label = document.createElement('label');\n",
              "      label.textContent = `Downloading \"${filename}\": `;\n",
              "      div.appendChild(label);\n",
              "      const progress = document.createElement('progress');\n",
              "      progress.max = size;\n",
              "      div.appendChild(progress);\n",
              "      document.body.appendChild(div);\n",
              "\n",
              "      const buffers = [];\n",
              "      let downloaded = 0;\n",
              "\n",
              "      const channel = await google.colab.kernel.comms.open(id);\n",
              "      // Send a message to notify the kernel that we're ready.\n",
              "      channel.send({})\n",
              "\n",
              "      for await (const message of channel.messages) {\n",
              "        // Send a message to notify the kernel that we're ready.\n",
              "        channel.send({})\n",
              "        if (message.buffers) {\n",
              "          for (const buffer of message.buffers) {\n",
              "            buffers.push(buffer);\n",
              "            downloaded += buffer.byteLength;\n",
              "            progress.value = downloaded;\n",
              "          }\n",
              "        }\n",
              "      }\n",
              "      const blob = new Blob(buffers, {type: 'application/binary'});\n",
              "      const a = document.createElement('a');\n",
              "      a.href = window.URL.createObjectURL(blob);\n",
              "      a.download = filename;\n",
              "      div.appendChild(a);\n",
              "      a.click();\n",
              "      div.remove();\n",
              "    }\n",
              "  "
            ]
          },
          "metadata": {}
        },
        {
          "output_type": "display_data",
          "data": {
            "text/plain": [
              "<IPython.core.display.Javascript object>"
            ],
            "application/javascript": [
              "download(\"download_7bb8c021-9139-4d3f-a0f2-8d35ef9168fb\", \"data3.csv\", 2071)"
            ]
          },
          "metadata": {}
        }
      ]
    },
    {
      "cell_type": "code",
      "source": [
        "table_df.to_csv('data3_1.csv')\n",
        "files.download(\"data3_1.csv\")"
      ],
      "metadata": {
        "id": "JqpvE8RCUt9F",
        "colab": {
          "base_uri": "https://localhost:8080/",
          "height": 17
        },
        "outputId": "9f3bf6b3-4cce-4244-861e-3224c5518353"
      },
      "execution_count": null,
      "outputs": [
        {
          "output_type": "display_data",
          "data": {
            "text/plain": [
              "<IPython.core.display.Javascript object>"
            ],
            "application/javascript": [
              "\n",
              "    async function download(id, filename, size) {\n",
              "      if (!google.colab.kernel.accessAllowed) {\n",
              "        return;\n",
              "      }\n",
              "      const div = document.createElement('div');\n",
              "      const label = document.createElement('label');\n",
              "      label.textContent = `Downloading \"${filename}\": `;\n",
              "      div.appendChild(label);\n",
              "      const progress = document.createElement('progress');\n",
              "      progress.max = size;\n",
              "      div.appendChild(progress);\n",
              "      document.body.appendChild(div);\n",
              "\n",
              "      const buffers = [];\n",
              "      let downloaded = 0;\n",
              "\n",
              "      const channel = await google.colab.kernel.comms.open(id);\n",
              "      // Send a message to notify the kernel that we're ready.\n",
              "      channel.send({})\n",
              "\n",
              "      for await (const message of channel.messages) {\n",
              "        // Send a message to notify the kernel that we're ready.\n",
              "        channel.send({})\n",
              "        if (message.buffers) {\n",
              "          for (const buffer of message.buffers) {\n",
              "            buffers.push(buffer);\n",
              "            downloaded += buffer.byteLength;\n",
              "            progress.value = downloaded;\n",
              "          }\n",
              "        }\n",
              "      }\n",
              "      const blob = new Blob(buffers, {type: 'application/binary'});\n",
              "      const a = document.createElement('a');\n",
              "      a.href = window.URL.createObjectURL(blob);\n",
              "      a.download = filename;\n",
              "      div.appendChild(a);\n",
              "      a.click();\n",
              "      div.remove();\n",
              "    }\n",
              "  "
            ]
          },
          "metadata": {}
        },
        {
          "output_type": "display_data",
          "data": {
            "text/plain": [
              "<IPython.core.display.Javascript object>"
            ],
            "application/javascript": [
              "download(\"download_93e3cdbe-4811-4e3c-a14c-3ec6ffd81e98\", \"data3_1.csv\", 2071)"
            ]
          },
          "metadata": {}
        }
      ]
    },
    {
      "cell_type": "code",
      "source": [
        "pyplot.plot(history2_1.history['loss'])\n",
        "pyplot.plot(history2_1.history['accuracy'])\n",
        "pyplot.title('model loss vs accuracy')\n",
        "pyplot.xlabel('epoch')\n",
        "pyplot.legend(['loss', 'accuracy'], loc='upper right')\n",
        "pyplot.show()"
      ],
      "metadata": {
        "colab": {
          "base_uri": "https://localhost:8080/",
          "height": 295
        },
        "outputId": "7dd690e3-01ac-44c2-aa6b-130c31ffa267",
        "id": "Apzy0IzvLUft"
      },
      "execution_count": null,
      "outputs": [
        {
          "output_type": "display_data",
          "data": {
            "text/plain": [
              "<Figure size 432x288 with 1 Axes>"
            ],
            "image/png": "[encoded data removed]"
          },
          "metadata": {
            "needs_background": "light"
          }
        }
      ]
    },
    {
      "cell_type": "code",
      "source": [
        "test_loss, test_acc = model.evaluate(X_test, Y_test, verbose=2)\n",
        "\n",
        "print('\\nTest accuracy:', test_acc)"
      ],
      "metadata": {
        "colab": {
          "base_uri": "https://localhost:8080/"
        },
        "outputId": "0d390e18-43c4-4ef3-9bf1-ce22277c523b",
        "id": "R8jIXJKNLUfu"
      },
      "execution_count": null,
      "outputs": [
        {
          "output_type": "stream",
          "name": "stdout",
          "text": [
            "18/18 - 6s - loss: 0.3813 - accuracy: 0.9112 - 6s/epoch - 348ms/step\n",
            "\n",
            "Test accuracy: 0.9111900329589844\n"
          ]
        }
      ]
    },
    {
      "cell_type": "code",
      "source": [
        "# Test the model after training\n",
        "test_results = model.evaluate(X_test, Y_test, verbose=False)\n",
        "#print(f'Test results - Loss: {test_results[0]} - Accuracy: {100*test_results[1]}%')\n",
        "test_results"
      ],
      "metadata": {
        "colab": {
          "base_uri": "https://localhost:8080/"
        },
        "outputId": "90a9b7ab-6772-4722-9ec6-b5e3d1c9ff9c",
        "id": "Kk4a98BzLUfu"
      },
      "execution_count": null,
      "outputs": [
        {
          "output_type": "execute_result",
          "data": {
            "text/plain": [
              "[0.3812532424926758, 0.9111900329589844]"
            ]
          },
          "metadata": {},
          "execution_count": 64
        }
      ]
    },
    {
      "cell_type": "markdown",
      "source": [
        "# Method 3 (Resampling by combining \"y\" complexity label with language)"
      ],
      "metadata": {
        "id": "e4wYEqPQMvC8"
      }
    },
    {
      "cell_type": "code",
      "source": [
        "# Loading dataset\n",
        "x,y = load_dataset_files(labels_file,embeddings_file)"
      ],
      "metadata": {
        "id": "TOiaDi-kOH3M"
      },
      "execution_count": null,
      "outputs": []
    },
    {
      "cell_type": "code",
      "source": [
        "def method3(x,y,labels_file):\n",
        "    # Creating Dataframes\n",
        "    df = pd.DataFrame(x,columns=[(\"emb\"+str(num)) for num in range(1,129)]) # Dataframe to get all embeddings program wise\n",
        "    df_y = pd.read_csv(labels_file, sep = \" \", header=None, names=[\"Complexity\", \"Node Number\", \"Language\"])\n",
        "    df['Complexity'] = df_y['Complexity'] # Adding y label to each corresponding program's embeddings\n",
        "    df['Language']=df_y['Language']\n",
        "\n",
        "    df.reset_index()\n",
        "\n",
        "    ind=df.set_index('Complexity')\n",
        "    df = ind.drop([\"O(1)\", \"O(2n)\", \"O(N!)\",\"O(sqrt(N))\"])\n",
        "\n",
        "    df=df.reset_index()\n",
        "\n",
        "    df['Target'] = df['Language']+'_'+ df['Complexity']\n",
        "\n",
        "    # Resampling - Oversampling \n",
        "\n",
        "    mapping=dict()\n",
        "    labels = list(df['Target'].unique())\n",
        "    for i in range(len(labels)):\n",
        "      mapping[labels[i]]=i\n",
        "\n",
        "    df['mapping']=df['Target'].replace(mapping)\n",
        "\n",
        "    X, Y = df.iloc[:, 1:129], df['mapping']\n",
        "\n",
        "    # transform the dataset\n",
        "    oversample = SMOTE(k_neighbors=2)\n",
        "    X, Y = oversample.fit_resample(X, Y)\n",
        "\n",
        "    # summarize distribution\n",
        "    counter = Counter(Y)\n",
        "    for k,v in counter.items():\n",
        "      per = v / len(Y) * 100\n",
        "      print('Class=%d, n=%d (%.3f%%)' % (k, v, per))\n",
        "    # plot the distribution\n",
        "    pyplot.bar(counter.keys(), counter.values())\n",
        "    pyplot.show()\n",
        "\n",
        "    # Creating the Training and Test set from data\n",
        "    X_train, X_test, Y_train, Y_test = train_test_split(X, Y, test_size = 0.25, random_state = 21)\n",
        "\n",
        "    # Feature Scaling\n",
        "    scaler = StandardScaler()\n",
        "    X_train = scaler.fit_transform(X_train)\n",
        "    X_test = scaler.transform(X_test)\n",
        "\n",
        "    return df, df_y, X, Y, X_train, X_test, Y_train, Y_test"
      ],
      "metadata": {
        "id": "FEXNDz-jMxAI"
      },
      "execution_count": null,
      "outputs": []
    },
    {
      "cell_type": "code",
      "source": [
        "df, df_y, X, Y, X_train, X_test, Y_train, Y_test = method3(x,y,labels_file)"
      ],
      "metadata": {
        "colab": {
          "base_uri": "https://localhost:8080/",
          "height": 577
        },
        "id": "ysw1p1e6QvfL",
        "outputId": "3c1b1d8e-d127-4b36-c844-d27364d3ea46"
      },
      "execution_count": null,
      "outputs": [
        {
          "output_type": "stream",
          "name": "stdout",
          "text": [
            "Class=0, n=165 (5.556%)\n",
            "Class=1, n=165 (5.556%)\n",
            "Class=2, n=165 (5.556%)\n",
            "Class=3, n=165 (5.556%)\n",
            "Class=4, n=165 (5.556%)\n",
            "Class=5, n=165 (5.556%)\n",
            "Class=6, n=165 (5.556%)\n",
            "Class=7, n=165 (5.556%)\n",
            "Class=8, n=165 (5.556%)\n",
            "Class=9, n=165 (5.556%)\n",
            "Class=10, n=165 (5.556%)\n",
            "Class=11, n=165 (5.556%)\n",
            "Class=12, n=165 (5.556%)\n",
            "Class=13, n=165 (5.556%)\n",
            "Class=14, n=165 (5.556%)\n",
            "Class=15, n=165 (5.556%)\n",
            "Class=16, n=165 (5.556%)\n",
            "Class=17, n=165 (5.556%)\n"
          ]
        },
        {
          "output_type": "display_data",
          "data": {
            "text/plain": [
              "<Figure size 432x288 with 1 Axes>"
            ],
            "image/png": "[encoded data removed]"
          },
          "metadata": {
            "needs_background": "light"
          }
        }
      ]
    },
    {
      "cell_type": "markdown",
      "source": [
        "# Changing data shape from 2d to 3d"
      ],
      "metadata": {
        "id": "7hDd3mYsQ_Xx"
      }
    },
    {
      "cell_type": "code",
      "source": [
        "X.shape"
      ],
      "metadata": {
        "colab": {
          "base_uri": "https://localhost:8080/"
        },
        "outputId": "64c2ce48-28df-4f26-dfcd-be8fda15a461",
        "id": "cEscr9_mQ_Xz"
      },
      "execution_count": null,
      "outputs": [
        {
          "output_type": "execute_result",
          "data": {
            "text/plain": [
              "(2970, 128)"
            ]
          },
          "metadata": {},
          "execution_count": 68
        }
      ]
    },
    {
      "cell_type": "code",
      "source": [
        "Y.shape"
      ],
      "metadata": {
        "colab": {
          "base_uri": "https://localhost:8080/"
        },
        "outputId": "d8c2c08a-0f6e-495a-ab42-454de5f9ca81",
        "id": "6xvrP_9-Q_X0"
      },
      "execution_count": null,
      "outputs": [
        {
          "output_type": "execute_result",
          "data": {
            "text/plain": [
              "(2970,)"
            ]
          },
          "metadata": {},
          "execution_count": 69
        }
      ]
    },
    {
      "cell_type": "code",
      "source": [
        "X_train.shape"
      ],
      "metadata": {
        "colab": {
          "base_uri": "https://localhost:8080/"
        },
        "outputId": "5bf7e567-ae40-40ab-bc3d-276345313166",
        "id": "v0qG8ZTTQ_X0"
      },
      "execution_count": null,
      "outputs": [
        {
          "output_type": "execute_result",
          "data": {
            "text/plain": [
              "(2227, 128)"
            ]
          },
          "metadata": {},
          "execution_count": 70
        }
      ]
    },
    {
      "cell_type": "code",
      "source": [
        "Y_train.shape"
      ],
      "metadata": {
        "colab": {
          "base_uri": "https://localhost:8080/"
        },
        "outputId": "4f823237-e5cf-4124-8099-d062dc6e7f59",
        "id": "ZNOiOfEaQ_X0"
      },
      "execution_count": null,
      "outputs": [
        {
          "output_type": "execute_result",
          "data": {
            "text/plain": [
              "(2227,)"
            ]
          },
          "metadata": {},
          "execution_count": 71
        }
      ]
    },
    {
      "cell_type": "code",
      "source": [
        "X_test.shape"
      ],
      "metadata": {
        "colab": {
          "base_uri": "https://localhost:8080/"
        },
        "outputId": "240089dd-ca27-48a8-f6e0-9060f77e68c5",
        "id": "80Lco51GQ_X1"
      },
      "execution_count": null,
      "outputs": [
        {
          "output_type": "execute_result",
          "data": {
            "text/plain": [
              "(743, 128)"
            ]
          },
          "metadata": {},
          "execution_count": 72
        }
      ]
    },
    {
      "cell_type": "code",
      "source": [
        "Y_test.shape"
      ],
      "metadata": {
        "colab": {
          "base_uri": "https://localhost:8080/"
        },
        "outputId": "12247444-7964-45a0-9be7-419672372f76",
        "id": "su0tHP9cQ_X1"
      },
      "execution_count": null,
      "outputs": [
        {
          "output_type": "execute_result",
          "data": {
            "text/plain": [
              "(743,)"
            ]
          },
          "metadata": {},
          "execution_count": 73
        }
      ]
    },
    {
      "cell_type": "code",
      "source": [
        "# Reshaping to 3d data\n",
        "#X = np.reshape(X,(2970,128,1))\n",
        "X_train = np.reshape(X_train,(2227, 128,1))\n",
        "X_test = np.reshape(X_test,(743,128,1))"
      ],
      "metadata": {
        "id": "hBpn5W5uQ_X1"
      },
      "execution_count": null,
      "outputs": []
    },
    {
      "cell_type": "markdown",
      "source": [
        "# BiLSTM with 64 memory units"
      ],
      "metadata": {
        "id": "qC5iv1l-Q_X1"
      }
    },
    {
      "cell_type": "code",
      "source": [
        "def BiLSTM():\n",
        "    model = Sequential()\n",
        "    model.add(Bidirectional(LSTM(64, return_sequences=True),\n",
        "                                input_shape=(128, 1))) # 64 as input shape is 128; forward + backward = 128\n",
        "    model.add(Bidirectional(LSTM(64)))\n",
        "    model.add(Dense(18, activation=\"softmax\"))\n",
        "    model.compile(optimizer='adam',\n",
        "                  loss=tf.keras.losses.SparseCategoricalCrossentropy(),\n",
        "                  metrics=['accuracy'])\n",
        "    model.summary()\n",
        "    return model"
      ],
      "metadata": {
        "id": "qmWotPJbQ_X1"
      },
      "execution_count": null,
      "outputs": []
    },
    {
      "cell_type": "code",
      "source": [
        "model = BiLSTM()"
      ],
      "metadata": {
        "colab": {
          "base_uri": "https://localhost:8080/"
        },
        "outputId": "7f310653-322a-463b-ce41-07912f779e45",
        "id": "vGx6b2NDQ_X2"
      },
      "execution_count": null,
      "outputs": [
        {
          "output_type": "stream",
          "name": "stdout",
          "text": [
            "Model: \"sequential_3\"\n",
            "_________________________________________________________________\n",
            " Layer (type)                Output Shape              Param #   \n",
            "=================================================================\n",
            " bidirectional_6 (Bidirectio  (None, 128, 128)         33792     \n",
            " nal)                                                            \n",
            "                                                                 \n",
            " bidirectional_7 (Bidirectio  (None, 128)              98816     \n",
            " nal)                                                            \n",
            "                                                                 \n",
            " dense_3 (Dense)             (None, 18)                2322      \n",
            "                                                                 \n",
            "=================================================================\n",
            "Total params: 134,930\n",
            "Trainable params: 134,930\n",
            "Non-trainable params: 0\n",
            "_________________________________________________________________\n"
          ]
        }
      ]
    },
    {
      "cell_type": "code",
      "source": [
        "history3 = model.fit(X_train, Y_train, epochs=50)"
      ],
      "metadata": {
        "colab": {
          "base_uri": "https://localhost:8080/"
        },
        "outputId": "32efa20e-8b46-4e95-f9b0-8e2745be8024",
        "id": "jk5ZUfKCQ_X2"
      },
      "execution_count": null,
      "outputs": [
        {
          "output_type": "stream",
          "name": "stdout",
          "text": [
            "Epoch 1/50\n",
            "70/70 [==============================] - 26s 253ms/step - loss: 2.1731 - accuracy: 0.2690\n",
            "Epoch 2/50\n",
            "70/70 [==============================] - 16s 229ms/step - loss: 1.4161 - accuracy: 0.4737\n",
            "Epoch 3/50\n",
            "70/70 [==============================] - 16s 228ms/step - loss: 1.2287 - accuracy: 0.5366\n",
            "Epoch 4/50\n",
            "70/70 [==============================] - 16s 227ms/step - loss: 1.1280 - accuracy: 0.5658\n",
            "Epoch 5/50\n",
            "70/70 [==============================] - 18s 255ms/step - loss: 1.0421 - accuracy: 0.6260\n",
            "Epoch 6/50\n",
            "70/70 [==============================] - 16s 231ms/step - loss: 0.9424 - accuracy: 0.6601\n",
            "Epoch 7/50\n",
            "70/70 [==============================] - 16s 228ms/step - loss: 0.8693 - accuracy: 0.6821\n",
            "Epoch 8/50\n",
            "70/70 [==============================] - 18s 254ms/step - loss: 0.8755 - accuracy: 0.6668\n",
            "Epoch 9/50\n",
            "70/70 [==============================] - 16s 228ms/step - loss: 0.8111 - accuracy: 0.6982\n",
            "Epoch 10/50\n",
            "70/70 [==============================] - 16s 228ms/step - loss: 0.8161 - accuracy: 0.6987\n",
            "Epoch 11/50\n",
            "70/70 [==============================] - 17s 245ms/step - loss: 0.7678 - accuracy: 0.7198\n",
            "Epoch 12/50\n",
            "70/70 [==============================] - 17s 237ms/step - loss: 0.6738 - accuracy: 0.7508\n",
            "Epoch 13/50\n",
            "70/70 [==============================] - 16s 228ms/step - loss: 0.6576 - accuracy: 0.7575\n",
            "Epoch 14/50\n",
            "70/70 [==============================] - 18s 256ms/step - loss: 0.6231 - accuracy: 0.7759\n",
            "Epoch 15/50\n",
            "70/70 [==============================] - 18s 254ms/step - loss: 0.6233 - accuracy: 0.7827\n",
            "Epoch 16/50\n",
            "70/70 [==============================] - 16s 232ms/step - loss: 0.5673 - accuracy: 0.8065\n",
            "Epoch 17/50\n",
            "70/70 [==============================] - 16s 228ms/step - loss: 0.5279 - accuracy: 0.8177\n",
            "Epoch 18/50\n",
            "70/70 [==============================] - 18s 257ms/step - loss: 0.5110 - accuracy: 0.8213\n",
            "Epoch 19/50\n",
            "70/70 [==============================] - 16s 229ms/step - loss: 0.5450 - accuracy: 0.8056\n",
            "Epoch 20/50\n",
            "70/70 [==============================] - 16s 229ms/step - loss: 0.5100 - accuracy: 0.8289\n",
            "Epoch 21/50\n",
            "70/70 [==============================] - 16s 230ms/step - loss: 0.5237 - accuracy: 0.8271\n",
            "Epoch 22/50\n",
            "70/70 [==============================] - 18s 258ms/step - loss: 0.4420 - accuracy: 0.8505\n",
            "Epoch 23/50\n",
            "70/70 [==============================] - 16s 230ms/step - loss: 0.4675 - accuracy: 0.8518\n",
            "Epoch 24/50\n",
            "70/70 [==============================] - 16s 229ms/step - loss: 0.4634 - accuracy: 0.8464\n",
            "Epoch 25/50\n",
            "70/70 [==============================] - 18s 258ms/step - loss: 0.4397 - accuracy: 0.8469\n",
            "Epoch 26/50\n",
            "70/70 [==============================] - 16s 230ms/step - loss: 0.3922 - accuracy: 0.8680\n",
            "Epoch 27/50\n",
            "70/70 [==============================] - 16s 230ms/step - loss: 0.4879 - accuracy: 0.8276\n",
            "Epoch 28/50\n",
            "70/70 [==============================] - 20s 283ms/step - loss: 0.4504 - accuracy: 0.8433\n",
            "Epoch 29/50\n",
            "70/70 [==============================] - 16s 230ms/step - loss: 0.3710 - accuracy: 0.8738\n",
            "Epoch 30/50\n",
            "70/70 [==============================] - 16s 229ms/step - loss: 0.3382 - accuracy: 0.8900\n",
            "Epoch 31/50\n",
            "70/70 [==============================] - 16s 228ms/step - loss: 0.3060 - accuracy: 0.9057\n",
            "Epoch 32/50\n",
            "70/70 [==============================] - 18s 258ms/step - loss: 0.4395 - accuracy: 0.8455\n",
            "Epoch 33/50\n",
            "70/70 [==============================] - 16s 229ms/step - loss: 0.3660 - accuracy: 0.8788\n",
            "Epoch 34/50\n",
            "70/70 [==============================] - 16s 229ms/step - loss: 0.3211 - accuracy: 0.8972\n",
            "Epoch 35/50\n",
            "70/70 [==============================] - 18s 254ms/step - loss: 0.3741 - accuracy: 0.8675\n",
            "Epoch 36/50\n",
            "70/70 [==============================] - 16s 228ms/step - loss: 0.2672 - accuracy: 0.9147\n",
            "Epoch 37/50\n",
            "70/70 [==============================] - 16s 230ms/step - loss: 0.2339 - accuracy: 0.9313\n",
            "Epoch 38/50\n",
            "70/70 [==============================] - 16s 229ms/step - loss: 0.2466 - accuracy: 0.9282\n",
            "Epoch 39/50\n",
            "70/70 [==============================] - 18s 255ms/step - loss: 0.2016 - accuracy: 0.9434\n",
            "Epoch 40/50\n",
            "70/70 [==============================] - 16s 228ms/step - loss: 0.2266 - accuracy: 0.9340\n",
            "Epoch 41/50\n",
            "70/70 [==============================] - 18s 258ms/step - loss: 0.2686 - accuracy: 0.9156\n",
            "Epoch 42/50\n",
            "70/70 [==============================] - 18s 256ms/step - loss: 0.2766 - accuracy: 0.9057\n",
            "Epoch 43/50\n",
            "70/70 [==============================] - 16s 229ms/step - loss: 0.2536 - accuracy: 0.9160\n",
            "Epoch 44/50\n",
            "70/70 [==============================] - 16s 229ms/step - loss: 0.1975 - accuracy: 0.9466\n",
            "Epoch 45/50\n",
            "70/70 [==============================] - 16s 231ms/step - loss: 0.2024 - accuracy: 0.9385\n",
            "Epoch 46/50\n",
            "70/70 [==============================] - 18s 256ms/step - loss: 0.2333 - accuracy: 0.9304\n",
            "Epoch 47/50\n",
            "70/70 [==============================] - 16s 231ms/step - loss: 0.2397 - accuracy: 0.9246\n",
            "Epoch 48/50\n",
            "70/70 [==============================] - 16s 228ms/step - loss: 0.2658 - accuracy: 0.9111\n",
            "Epoch 49/50\n",
            "70/70 [==============================] - 18s 257ms/step - loss: 0.1995 - accuracy: 0.9425\n",
            "Epoch 50/50\n",
            "70/70 [==============================] - 16s 229ms/step - loss: 0.1450 - accuracy: 0.9569\n"
          ]
        }
      ]
    },
    {
      "cell_type": "code",
      "source": [
        "# save the model to disk\n",
        "#filename = 'finalized_model3.sav'\n",
        "#pickle.dump(model, open(filename, 'wb'))\n",
        "#joblib.dump(model, filename)"
      ],
      "metadata": {
        "id": "cixGXE7zYk1V"
      },
      "execution_count": null,
      "outputs": []
    },
    {
      "cell_type": "code",
      "source": [
        "model.save('finalized_model3.sav', save_format=\"h5\")"
      ],
      "metadata": {
        "id": "fUzjg3Q6jq_2"
      },
      "execution_count": null,
      "outputs": []
    },
    {
      "cell_type": "code",
      "source": [
        "table_df = pd.DataFrame(history3.history)\n",
        "table_df.index += 1\n",
        "print(table_df)"
      ],
      "metadata": {
        "colab": {
          "base_uri": "https://localhost:8080/"
        },
        "outputId": "45bb6381-a042-49bd-ee28-26a8a8fe819c",
        "id": "-eKyWymdQ_X2"
      },
      "execution_count": null,
      "outputs": [
        {
          "output_type": "stream",
          "name": "stdout",
          "text": [
            "        loss  accuracy\n",
            "1   2.173141  0.268972\n",
            "2   1.416103  0.473731\n",
            "3   1.228738  0.536596\n",
            "4   1.127975  0.565784\n",
            "5   1.042105  0.625954\n",
            "6   0.942413  0.660081\n",
            "7   0.869284  0.682084\n",
            "8   0.875474  0.666816\n",
            "9   0.811100  0.698249\n",
            "10  0.816114  0.698698\n",
            "11  0.767766  0.719802\n",
            "12  0.673753  0.750786\n",
            "13  0.657617  0.757521\n",
            "14  0.623120  0.775932\n",
            "15  0.623272  0.782667\n",
            "16  0.567309  0.806466\n",
            "17  0.527886  0.817692\n",
            "18  0.511012  0.821284\n",
            "19  0.544955  0.805568\n",
            "20  0.509975  0.828918\n",
            "21  0.523700  0.827122\n",
            "22  0.442047  0.850471\n",
            "23  0.467459  0.851819\n",
            "24  0.463353  0.846430\n",
            "25  0.439700  0.846879\n",
            "26  0.392211  0.867984\n",
            "27  0.487896  0.827571\n",
            "28  0.450428  0.843287\n",
            "29  0.370969  0.873821\n",
            "30  0.338154  0.889987\n",
            "31  0.306040  0.905703\n",
            "32  0.439472  0.845532\n",
            "33  0.365985  0.878761\n",
            "34  0.321090  0.897171\n",
            "35  0.374089  0.867535\n",
            "36  0.267231  0.914683\n",
            "37  0.233942  0.931298\n",
            "38  0.246615  0.928154\n",
            "39  0.201604  0.943422\n",
            "40  0.226565  0.933992\n",
            "41  0.268568  0.915582\n",
            "42  0.276587  0.905703\n",
            "43  0.253565  0.916031\n",
            "44  0.197497  0.946565\n",
            "45  0.202422  0.938482\n",
            "46  0.233343  0.930400\n",
            "47  0.239690  0.924562\n",
            "48  0.265789  0.911091\n",
            "49  0.199532  0.942524\n",
            "50  0.145003  0.956893\n"
          ]
        }
      ]
    },
    {
      "cell_type": "code",
      "source": [
        "table_df2 = table_df[table_df.index % 10 == 0]\n",
        "table_df2"
      ],
      "metadata": {
        "id": "PbKn1TsRQ_X2",
        "colab": {
          "base_uri": "https://localhost:8080/",
          "height": 206
        },
        "outputId": "c44a725e-f95b-4bc9-e22f-71b88afaaaac"
      },
      "execution_count": null,
      "outputs": [
        {
          "output_type": "execute_result",
          "data": {
            "text/plain": [
              "        loss  accuracy\n",
              "10  0.816114  0.698698\n",
              "20  0.509975  0.828918\n",
              "30  0.338154  0.889987\n",
              "40  0.226565  0.933992\n",
              "50  0.145003  0.956893"
            ],
            "text/html": [
              "\n",
              "  <div id=\"df-ae546982-9a03-47c8-905c-8900c873e761\">\n",
              "    <div class=\"colab-df-container\">\n",
              "      <div>\n",
              "<style scoped>\n",
              "    .dataframe tbody tr th:only-of-type {\n",
              "        vertical-align: middle;\n",
              "    }\n",
              "\n",
              "    .dataframe tbody tr th {\n",
              "        vertical-align: top;\n",
              "    }\n",
              "\n",
              "    .dataframe thead th {\n",
              "        text-align: right;\n",
              "    }\n",
              "</style>\n",
              "<table border=\"1\" class=\"dataframe\">\n",
              "  <thead>\n",
              "    <tr style=\"text-align: right;\">\n",
              "      <th></th>\n",
              "      <th>loss</th>\n",
              "      <th>accuracy</th>\n",
              "    </tr>\n",
              "  </thead>\n",
              "  <tbody>\n",
              "    <tr>\n",
              "      <th>10</th>\n",
              "      <td>0.816114</td>\n",
              "      <td>0.698698</td>\n",
              "    </tr>\n",
              "    <tr>\n",
              "      <th>20</th>\n",
              "      <td>0.509975</td>\n",
              "      <td>0.828918</td>\n",
              "    </tr>\n",
              "    <tr>\n",
              "      <th>30</th>\n",
              "      <td>0.338154</td>\n",
              "      <td>0.889987</td>\n",
              "    </tr>\n",
              "    <tr>\n",
              "      <th>40</th>\n",
              "      <td>0.226565</td>\n",
              "      <td>0.933992</td>\n",
              "    </tr>\n",
              "    <tr>\n",
              "      <th>50</th>\n",
              "      <td>0.145003</td>\n",
              "      <td>0.956893</td>\n",
              "    </tr>\n",
              "  </tbody>\n",
              "</table>\n",
              "</div>\n",
              "      <button class=\"colab-df-convert\" onclick=\"convertToInteractive('df-ae546982-9a03-47c8-905c-8900c873e761')\"\n",
              "              title=\"Convert this dataframe to an interactive table.\"\n",
              "              style=\"display:none;\">\n",
              "        \n",
              "  <svg xmlns=\"http://www.w3.org/2000/svg\" height=\"24px\"viewBox=\"0 0 24 24\"\n",
              "       width=\"24px\">\n",
              "    <path d=\"M0 0h24v24H0V0z\" fill=\"none\"/>\n",
              "    <path d=\"M18.56 5.44l.94 2.06.94-2.06 2.06-.94-2.06-.94-.94-2.06-.94 2.06-2.06.94zm-11 1L8.5 8.5l.94-2.06 2.06-.94-2.06-.94L8.5 2.5l-.94 2.06-2.06.94zm10 10l.94 2.06.94-2.06 2.06-.94-2.06-.94-.94-2.06-.94 2.06-2.06.94z\"/><path d=\"M17.41 7.96l-1.37-1.37c-.4-.4-.92-.59-1.43-.59-.52 0-1.04.2-1.43.59L10.3 9.45l-7.72 7.72c-.78.78-.78 2.05 0 2.83L4 21.41c.39.39.9.59 1.41.59.51 0 1.02-.2 1.41-.59l7.78-7.78 2.81-2.81c.8-.78.8-2.07 0-2.86zM5.41 20L4 18.59l7.72-7.72 1.47 1.35L5.41 20z\"/>\n",
              "  </svg>\n",
              "      </button>\n",
              "      \n",
              "  <style>\n",
              "    .colab-df-container {\n",
              "      display:flex;\n",
              "      flex-wrap:wrap;\n",
              "      gap: 12px;\n",
              "    }\n",
              "\n",
              "    .colab-df-convert {\n",
              "      background-color: #E8F0FE;\n",
              "      border: none;\n",
              "      border-radius: 50%;\n",
              "      cursor: pointer;\n",
              "      display: none;\n",
              "      fill: #1967D2;\n",
              "      height: 32px;\n",
              "      padding: 0 0 0 0;\n",
              "      width: 32px;\n",
              "    }\n",
              "\n",
              "    .colab-df-convert:hover {\n",
              "      background-color: #E2EBFA;\n",
              "      box-shadow: 0px 1px 2px rgba(60, 64, 67, 0.3), 0px 1px 3px 1px rgba(60, 64, 67, 0.15);\n",
              "      fill: #174EA6;\n",
              "    }\n",
              "\n",
              "    [theme=dark] .colab-df-convert {\n",
              "      background-color: #3B4455;\n",
              "      fill: #D2E3FC;\n",
              "    }\n",
              "\n",
              "    [theme=dark] .colab-df-convert:hover {\n",
              "      background-color: #434B5C;\n",
              "      box-shadow: 0px 1px 3px 1px rgba(0, 0, 0, 0.15);\n",
              "      filter: drop-shadow(0px 1px 2px rgba(0, 0, 0, 0.3));\n",
              "      fill: #FFFFFF;\n",
              "    }\n",
              "  </style>\n",
              "\n",
              "      <script>\n",
              "        const buttonEl =\n",
              "          document.querySelector('#df-ae546982-9a03-47c8-905c-8900c873e761 button.colab-df-convert');\n",
              "        buttonEl.style.display =\n",
              "          google.colab.kernel.accessAllowed ? 'block' : 'none';\n",
              "\n",
              "        async function convertToInteractive(key) {\n",
              "          const element = document.querySelector('#df-ae546982-9a03-47c8-905c-8900c873e761');\n",
              "          const dataTable =\n",
              "            await google.colab.kernel.invokeFunction('convertToInteractive',\n",
              "                                                     [key], {});\n",
              "          if (!dataTable) return;\n",
              "\n",
              "          const docLinkHtml = 'Like what you see? Visit the ' +\n",
              "            '<a target=\"_blank\" href=https://colab.research.google.com/notebooks/data_table.ipynb>data table notebook</a>'\n",
              "            + ' to learn more about interactive tables.';\n",
              "          element.innerHTML = '';\n",
              "          dataTable['output_type'] = 'display_data';\n",
              "          await google.colab.output.renderOutput(dataTable, element);\n",
              "          const docLink = document.createElement('div');\n",
              "          docLink.innerHTML = docLinkHtml;\n",
              "          element.appendChild(docLink);\n",
              "        }\n",
              "      </script>\n",
              "    </div>\n",
              "  </div>\n",
              "  "
            ]
          },
          "metadata": {},
          "execution_count": 80
        }
      ]
    },
    {
      "cell_type": "code",
      "source": [
        "table_df.to_csv('data4.csv')\n",
        "files.download(\"data4.csv\")"
      ],
      "metadata": {
        "id": "sTA02ZS3U1dV",
        "colab": {
          "base_uri": "https://localhost:8080/",
          "height": 17
        },
        "outputId": "a0ddf299-43b8-429d-bea7-76036930fcd9"
      },
      "execution_count": null,
      "outputs": [
        {
          "output_type": "display_data",
          "data": {
            "text/plain": [
              "<IPython.core.display.Javascript object>"
            ],
            "application/javascript": [
              "\n",
              "    async function download(id, filename, size) {\n",
              "      if (!google.colab.kernel.accessAllowed) {\n",
              "        return;\n",
              "      }\n",
              "      const div = document.createElement('div');\n",
              "      const label = document.createElement('label');\n",
              "      label.textContent = `Downloading \"${filename}\": `;\n",
              "      div.appendChild(label);\n",
              "      const progress = document.createElement('progress');\n",
              "      progress.max = size;\n",
              "      div.appendChild(progress);\n",
              "      document.body.appendChild(div);\n",
              "\n",
              "      const buffers = [];\n",
              "      let downloaded = 0;\n",
              "\n",
              "      const channel = await google.colab.kernel.comms.open(id);\n",
              "      // Send a message to notify the kernel that we're ready.\n",
              "      channel.send({})\n",
              "\n",
              "      for await (const message of channel.messages) {\n",
              "        // Send a message to notify the kernel that we're ready.\n",
              "        channel.send({})\n",
              "        if (message.buffers) {\n",
              "          for (const buffer of message.buffers) {\n",
              "            buffers.push(buffer);\n",
              "            downloaded += buffer.byteLength;\n",
              "            progress.value = downloaded;\n",
              "          }\n",
              "        }\n",
              "      }\n",
              "      const blob = new Blob(buffers, {type: 'application/binary'});\n",
              "      const a = document.createElement('a');\n",
              "      a.href = window.URL.createObjectURL(blob);\n",
              "      a.download = filename;\n",
              "      div.appendChild(a);\n",
              "      a.click();\n",
              "      div.remove();\n",
              "    }\n",
              "  "
            ]
          },
          "metadata": {}
        },
        {
          "output_type": "display_data",
          "data": {
            "text/plain": [
              "<IPython.core.display.Javascript object>"
            ],
            "application/javascript": [
              "download(\"download_0756785f-c12e-4885-a963-5041281fdc16\", \"data4.csv\", 2059)"
            ]
          },
          "metadata": {}
        }
      ]
    },
    {
      "cell_type": "code",
      "source": [
        "table_df.to_csv('data4_1.csv')\n",
        "files.download(\"data4_1.csv\")"
      ],
      "metadata": {
        "id": "gnuta8VKU39j",
        "colab": {
          "base_uri": "https://localhost:8080/",
          "height": 17
        },
        "outputId": "347a967d-ea85-43fd-cb88-661850c5000e"
      },
      "execution_count": null,
      "outputs": [
        {
          "output_type": "display_data",
          "data": {
            "text/plain": [
              "<IPython.core.display.Javascript object>"
            ],
            "application/javascript": [
              "\n",
              "    async function download(id, filename, size) {\n",
              "      if (!google.colab.kernel.accessAllowed) {\n",
              "        return;\n",
              "      }\n",
              "      const div = document.createElement('div');\n",
              "      const label = document.createElement('label');\n",
              "      label.textContent = `Downloading \"${filename}\": `;\n",
              "      div.appendChild(label);\n",
              "      const progress = document.createElement('progress');\n",
              "      progress.max = size;\n",
              "      div.appendChild(progress);\n",
              "      document.body.appendChild(div);\n",
              "\n",
              "      const buffers = [];\n",
              "      let downloaded = 0;\n",
              "\n",
              "      const channel = await google.colab.kernel.comms.open(id);\n",
              "      // Send a message to notify the kernel that we're ready.\n",
              "      channel.send({})\n",
              "\n",
              "      for await (const message of channel.messages) {\n",
              "        // Send a message to notify the kernel that we're ready.\n",
              "        channel.send({})\n",
              "        if (message.buffers) {\n",
              "          for (const buffer of message.buffers) {\n",
              "            buffers.push(buffer);\n",
              "            downloaded += buffer.byteLength;\n",
              "            progress.value = downloaded;\n",
              "          }\n",
              "        }\n",
              "      }\n",
              "      const blob = new Blob(buffers, {type: 'application/binary'});\n",
              "      const a = document.createElement('a');\n",
              "      a.href = window.URL.createObjectURL(blob);\n",
              "      a.download = filename;\n",
              "      div.appendChild(a);\n",
              "      a.click();\n",
              "      div.remove();\n",
              "    }\n",
              "  "
            ]
          },
          "metadata": {}
        },
        {
          "output_type": "display_data",
          "data": {
            "text/plain": [
              "<IPython.core.display.Javascript object>"
            ],
            "application/javascript": [
              "download(\"download_4a5f174d-2df7-4cba-8440-efd7bfa1a133\", \"data4_1.csv\", 2059)"
            ]
          },
          "metadata": {}
        }
      ]
    },
    {
      "cell_type": "code",
      "source": [
        "pyplot.plot(history3.history['loss'])\n",
        "pyplot.plot(history3.history['accuracy'])\n",
        "pyplot.title('model loss vs accuracy')\n",
        "pyplot.xlabel('epoch')\n",
        "pyplot.legend(['loss', 'accuracy'], loc='upper right')\n",
        "pyplot.show()"
      ],
      "metadata": {
        "colab": {
          "base_uri": "https://localhost:8080/",
          "height": 295
        },
        "outputId": "8482ea20-d6ad-4ede-be4b-26d12ef024ef",
        "id": "GtB7MKDuQ_X2"
      },
      "execution_count": null,
      "outputs": [
        {
          "output_type": "display_data",
          "data": {
            "text/plain": [
              "<Figure size 432x288 with 1 Axes>"
            ],
            "image/png": "[encoded data removed]"
          },
          "metadata": {
            "needs_background": "light"
          }
        }
      ]
    },
    {
      "cell_type": "code",
      "source": [
        "test_loss, test_acc = model.evaluate(X_test, Y_test, verbose=2)\n",
        "\n",
        "print('\\nTest accuracy:', test_acc)"
      ],
      "metadata": {
        "colab": {
          "base_uri": "https://localhost:8080/"
        },
        "outputId": "3f321ba9-1cec-4193-b660-0f8da25ad1c7",
        "id": "r9fd_0GwQ_X3"
      },
      "execution_count": null,
      "outputs": [
        {
          "output_type": "stream",
          "name": "stdout",
          "text": [
            "24/24 - 3s - loss: 0.3086 - accuracy: 0.9098 - 3s/epoch - 125ms/step\n",
            "\n",
            "Test accuracy: 0.9098250269889832\n"
          ]
        }
      ]
    },
    {
      "cell_type": "code",
      "source": [
        "# Test the model after training\n",
        "test_results = model.evaluate(X_test, Y_test, verbose=False)\n",
        "#print(f'Test results - Loss: {test_results[0]} - Accuracy: {100*test_results[1]}%')\n",
        "test_results"
      ],
      "metadata": {
        "colab": {
          "base_uri": "https://localhost:8080/"
        },
        "outputId": "2a2b2285-f042-41a7-a7bd-a3b205c61b4b",
        "id": "rHo2BcWKQ_X3"
      },
      "execution_count": null,
      "outputs": [
        {
          "output_type": "execute_result",
          "data": {
            "text/plain": [
              "[0.30856508016586304, 0.9098250269889832]"
            ]
          },
          "metadata": {},
          "execution_count": 85
        }
      ]
    },
    {
      "cell_type": "markdown",
      "source": [
        "# BiLSTM with 128 memory units"
      ],
      "metadata": {
        "id": "WW88SO61TjRm"
      }
    },
    {
      "cell_type": "code",
      "source": [
        "def BiLSTM():\n",
        "    model = Sequential()\n",
        "    model.add(Bidirectional(LSTM(128, return_sequences=True),\n",
        "                                input_shape=(128, 1))) # 64 as input shape is 128; forward + backward = 128\n",
        "    model.add(Bidirectional(LSTM(128)))\n",
        "    model.add(Dense(18, activation=\"softmax\"))\n",
        "    model.compile(optimizer='adam',\n",
        "                  loss=tf.keras.losses.SparseCategoricalCrossentropy(),\n",
        "                  metrics=['accuracy'])\n",
        "    model.summary()\n",
        "    return model"
      ],
      "metadata": {
        "id": "qljW5dokTjRo"
      },
      "execution_count": null,
      "outputs": []
    },
    {
      "cell_type": "code",
      "source": [
        "model = BiLSTM()"
      ],
      "metadata": {
        "colab": {
          "base_uri": "https://localhost:8080/"
        },
        "outputId": "f06338d1-62f3-47b3-8ac5-58d822eb9706",
        "id": "Mt9nDjeFTjRo"
      },
      "execution_count": null,
      "outputs": [
        {
          "output_type": "stream",
          "name": "stdout",
          "text": [
            "Model: \"sequential_4\"\n",
            "_________________________________________________________________\n",
            " Layer (type)                Output Shape              Param #   \n",
            "=================================================================\n",
            " bidirectional_8 (Bidirectio  (None, 128, 256)         133120    \n",
            " nal)                                                            \n",
            "                                                                 \n",
            " bidirectional_9 (Bidirectio  (None, 256)              394240    \n",
            " nal)                                                            \n",
            "                                                                 \n",
            " dense_4 (Dense)             (None, 18)                4626      \n",
            "                                                                 \n",
            "=================================================================\n",
            "Total params: 531,986\n",
            "Trainable params: 531,986\n",
            "Non-trainable params: 0\n",
            "_________________________________________________________________\n"
          ]
        }
      ]
    },
    {
      "cell_type": "code",
      "source": [
        "history3_1 = model.fit(X_train, Y_train, epochs=50)"
      ],
      "metadata": {
        "colab": {
          "base_uri": "https://localhost:8080/"
        },
        "outputId": "f0b23c8c-7fad-4648-961e-050e95d78f0c",
        "id": "qtfTmA5sTjRp"
      },
      "execution_count": null,
      "outputs": [
        {
          "output_type": "stream",
          "name": "stdout",
          "text": [
            "Epoch 1/50\n",
            "70/70 [==============================] - 63s 778ms/step - loss: 1.9069 - accuracy: 0.3260\n",
            "Epoch 2/50\n",
            "70/70 [==============================] - 54s 772ms/step - loss: 1.3242 - accuracy: 0.4814\n",
            "Epoch 3/50\n",
            "70/70 [==============================] - 55s 781ms/step - loss: 1.1739 - accuracy: 0.5402\n",
            "Epoch 4/50\n",
            "70/70 [==============================] - 54s 771ms/step - loss: 1.0547 - accuracy: 0.5932\n",
            "Epoch 5/50\n",
            "70/70 [==============================] - 56s 805ms/step - loss: 0.9670 - accuracy: 0.6318\n",
            "Epoch 6/50\n",
            "70/70 [==============================] - 54s 779ms/step - loss: 0.8714 - accuracy: 0.6807\n",
            "Epoch 7/50\n",
            "70/70 [==============================] - 54s 779ms/step - loss: 0.8383 - accuracy: 0.6897\n",
            "Epoch 8/50\n",
            "70/70 [==============================] - 54s 775ms/step - loss: 0.7698 - accuracy: 0.7274\n",
            "Epoch 9/50\n",
            "70/70 [==============================] - 57s 807ms/step - loss: 0.6940 - accuracy: 0.7526\n",
            "Epoch 10/50\n",
            "70/70 [==============================] - 54s 772ms/step - loss: 0.6740 - accuracy: 0.7517\n",
            "Epoch 11/50\n",
            "70/70 [==============================] - 54s 776ms/step - loss: 0.6258 - accuracy: 0.7773\n",
            "Epoch 12/50\n",
            "70/70 [==============================] - 55s 779ms/step - loss: 0.5870 - accuracy: 0.7939\n",
            "Epoch 13/50\n",
            "70/70 [==============================] - 56s 804ms/step - loss: 0.5940 - accuracy: 0.7876\n",
            "Epoch 14/50\n",
            "70/70 [==============================] - 53s 755ms/step - loss: 0.5359 - accuracy: 0.8114\n",
            "Epoch 15/50\n",
            "70/70 [==============================] - 54s 764ms/step - loss: 0.5092 - accuracy: 0.8222\n",
            "Epoch 16/50\n",
            "70/70 [==============================] - 54s 771ms/step - loss: 0.5060 - accuracy: 0.8352\n",
            "Epoch 17/50\n",
            "70/70 [==============================] - 57s 809ms/step - loss: 0.4308 - accuracy: 0.8581\n",
            "Epoch 18/50\n",
            "70/70 [==============================] - 54s 775ms/step - loss: 0.3713 - accuracy: 0.8743\n",
            "Epoch 19/50\n",
            "70/70 [==============================] - 55s 779ms/step - loss: 0.3582 - accuracy: 0.8797\n",
            "Epoch 20/50\n",
            "70/70 [==============================] - 55s 787ms/step - loss: 0.4140 - accuracy: 0.8491\n",
            "Epoch 21/50\n",
            "70/70 [==============================] - 57s 813ms/step - loss: 0.3612 - accuracy: 0.8833\n",
            "Epoch 22/50\n",
            "70/70 [==============================] - 55s 779ms/step - loss: 0.3183 - accuracy: 0.8931\n",
            "Epoch 23/50\n",
            "70/70 [==============================] - 55s 784ms/step - loss: 0.3215 - accuracy: 0.8958\n",
            "Epoch 24/50\n",
            "70/70 [==============================] - 55s 787ms/step - loss: 0.2451 - accuracy: 0.9277\n",
            "Epoch 25/50\n",
            "70/70 [==============================] - 56s 794ms/step - loss: 0.2790 - accuracy: 0.9057\n",
            "Epoch 26/50\n",
            "70/70 [==============================] - 57s 810ms/step - loss: 0.2454 - accuracy: 0.9214\n",
            "Epoch 27/50\n",
            "70/70 [==============================] - 55s 781ms/step - loss: 0.2226 - accuracy: 0.9353\n",
            "Epoch 28/50\n",
            "70/70 [==============================] - 54s 771ms/step - loss: 0.2721 - accuracy: 0.9111\n",
            "Epoch 29/50\n",
            "70/70 [==============================] - 53s 744ms/step - loss: 0.2587 - accuracy: 0.9174\n",
            "Epoch 30/50\n",
            "70/70 [==============================] - 56s 804ms/step - loss: 0.1998 - accuracy: 0.9380\n",
            "Epoch 31/50\n",
            "70/70 [==============================] - 55s 780ms/step - loss: 0.2102 - accuracy: 0.9300\n",
            "Epoch 32/50\n",
            "70/70 [==============================] - 55s 778ms/step - loss: 0.2252 - accuracy: 0.9300\n",
            "Epoch 33/50\n",
            "70/70 [==============================] - 55s 780ms/step - loss: 0.2359 - accuracy: 0.9268\n",
            "Epoch 34/50\n",
            "70/70 [==============================] - 56s 806ms/step - loss: 0.1566 - accuracy: 0.9546\n",
            "Epoch 35/50\n",
            "70/70 [==============================] - 55s 780ms/step - loss: 0.1662 - accuracy: 0.9529\n",
            "Epoch 36/50\n",
            "70/70 [==============================] - 55s 787ms/step - loss: 0.1153 - accuracy: 0.9690\n",
            "Epoch 37/50\n",
            "70/70 [==============================] - 55s 784ms/step - loss: 0.1092 - accuracy: 0.9704\n",
            "Epoch 38/50\n",
            "70/70 [==============================] - 57s 820ms/step - loss: 0.1025 - accuracy: 0.9726\n",
            "Epoch 39/50\n",
            "70/70 [==============================] - 55s 785ms/step - loss: 0.0836 - accuracy: 0.9789\n",
            "Epoch 40/50\n",
            "70/70 [==============================] - 55s 783ms/step - loss: 0.1189 - accuracy: 0.9654\n",
            "Epoch 41/50\n",
            "70/70 [==============================] - 55s 779ms/step - loss: 0.1109 - accuracy: 0.9672\n",
            "Epoch 42/50\n",
            "70/70 [==============================] - 52s 746ms/step - loss: 0.2236 - accuracy: 0.9313\n",
            "Epoch 43/50\n",
            "70/70 [==============================] - 56s 804ms/step - loss: 0.1076 - accuracy: 0.9672\n",
            "Epoch 44/50\n",
            "70/70 [==============================] - 55s 783ms/step - loss: 0.0829 - accuracy: 0.9740\n",
            "Epoch 45/50\n",
            "70/70 [==============================] - 54s 775ms/step - loss: 0.0543 - accuracy: 0.9897\n",
            "Epoch 46/50\n",
            "70/70 [==============================] - 54s 778ms/step - loss: 0.0830 - accuracy: 0.9789\n",
            "Epoch 47/50\n",
            "70/70 [==============================] - 57s 810ms/step - loss: 0.3740 - accuracy: 0.8743\n",
            "Epoch 48/50\n",
            "70/70 [==============================] - 54s 775ms/step - loss: 0.1534 - accuracy: 0.9537\n",
            "Epoch 49/50\n",
            "70/70 [==============================] - 54s 775ms/step - loss: 0.0999 - accuracy: 0.9722\n",
            "Epoch 50/50\n",
            "70/70 [==============================] - 54s 777ms/step - loss: 0.0690 - accuracy: 0.9816\n"
          ]
        }
      ]
    },
    {
      "cell_type": "code",
      "source": [
        "# save the model to disk\n",
        "#filename = 'finalized_model3_1.sav'\n",
        "#pickle.dump(model, open(filename, 'wb'))\n",
        "#joblib.dump(model, filename)"
      ],
      "metadata": {
        "id": "LWcLf5xRYqGP"
      },
      "execution_count": null,
      "outputs": []
    },
    {
      "cell_type": "code",
      "source": [
        "model.save('finalized_model3_1.sav', save_format=\"h5\")"
      ],
      "metadata": {
        "id": "WI4MgT3kjwKf"
      },
      "execution_count": null,
      "outputs": []
    },
    {
      "cell_type": "code",
      "source": [
        "table_df = pd.DataFrame(history3_1.history)\n",
        "table_df.index += 1\n",
        "print(table_df)"
      ],
      "metadata": {
        "colab": {
          "base_uri": "https://localhost:8080/"
        },
        "outputId": "98c97c99-b9d3-4110-b1b5-f43cb51f1bc1",
        "id": "rVS-4NsPTjRp"
      },
      "execution_count": null,
      "outputs": [
        {
          "output_type": "stream",
          "name": "stdout",
          "text": [
            "        loss  accuracy\n",
            "1   1.906946  0.325999\n",
            "2   1.324170  0.481365\n",
            "3   1.173899  0.540189\n",
            "4   1.054727  0.593175\n",
            "5   0.967043  0.631792\n",
            "6   0.871353  0.680736\n",
            "7   0.838347  0.689717\n",
            "8   0.769825  0.727436\n",
            "9   0.693962  0.752582\n",
            "10  0.673989  0.751684\n",
            "11  0.625777  0.777279\n",
            "12  0.586967  0.793893\n",
            "13  0.593978  0.787607\n",
            "14  0.535945  0.811405\n",
            "15  0.509194  0.822182\n",
            "16  0.506043  0.835204\n",
            "17  0.430805  0.858105\n",
            "18  0.371329  0.874270\n",
            "19  0.358181  0.879659\n",
            "20  0.413992  0.849124\n",
            "21  0.361156  0.883251\n",
            "22  0.318284  0.893130\n",
            "23  0.321488  0.895824\n",
            "24  0.245143  0.927705\n",
            "25  0.278970  0.905703\n",
            "26  0.245416  0.921419\n",
            "27  0.222615  0.935339\n",
            "28  0.272137  0.911091\n",
            "29  0.258663  0.917378\n",
            "30  0.199777  0.938033\n",
            "31  0.210231  0.929951\n",
            "32  0.225171  0.929951\n",
            "33  0.235851  0.926807\n",
            "34  0.156602  0.954647\n",
            "35  0.166204  0.952851\n",
            "36  0.115306  0.969017\n",
            "37  0.109170  0.970364\n",
            "38  0.102513  0.972609\n",
            "39  0.083592  0.978895\n",
            "40  0.118924  0.965424\n",
            "41  0.110912  0.967220\n",
            "42  0.223609  0.931298\n",
            "43  0.107618  0.967220\n",
            "44  0.082948  0.973956\n",
            "45  0.054256  0.989672\n",
            "46  0.083037  0.978895\n",
            "47  0.374048  0.874270\n",
            "48  0.153407  0.953749\n",
            "49  0.099877  0.972160\n",
            "50  0.068974  0.981590\n"
          ]
        }
      ]
    },
    {
      "cell_type": "code",
      "source": [
        "table_df2 = table_df[table_df.index % 10 == 0]\n",
        "table_df2"
      ],
      "metadata": {
        "id": "JMKBZsKmTjRp",
        "colab": {
          "base_uri": "https://localhost:8080/",
          "height": 206
        },
        "outputId": "1ff7b025-9ecb-4e0b-85ea-51d3210d9911"
      },
      "execution_count": null,
      "outputs": [
        {
          "output_type": "execute_result",
          "data": {
            "text/plain": [
              "        loss  accuracy\n",
              "10  0.673989  0.751684\n",
              "20  0.413992  0.849124\n",
              "30  0.199777  0.938033\n",
              "40  0.118924  0.965424\n",
              "50  0.068974  0.981590"
            ],
            "text/html": [
              "\n",
              "  <div id=\"df-d34053a8-b1e8-48c6-9f1f-44832cc70bde\">\n",
              "    <div class=\"colab-df-container\">\n",
              "      <div>\n",
              "<style scoped>\n",
              "    .dataframe tbody tr th:only-of-type {\n",
              "        vertical-align: middle;\n",
              "    }\n",
              "\n",
              "    .dataframe tbody tr th {\n",
              "        vertical-align: top;\n",
              "    }\n",
              "\n",
              "    .dataframe thead th {\n",
              "        text-align: right;\n",
              "    }\n",
              "</style>\n",
              "<table border=\"1\" class=\"dataframe\">\n",
              "  <thead>\n",
              "    <tr style=\"text-align: right;\">\n",
              "      <th></th>\n",
              "      <th>loss</th>\n",
              "      <th>accuracy</th>\n",
              "    </tr>\n",
              "  </thead>\n",
              "  <tbody>\n",
              "    <tr>\n",
              "      <th>10</th>\n",
              "      <td>0.673989</td>\n",
              "      <td>0.751684</td>\n",
              "    </tr>\n",
              "    <tr>\n",
              "      <th>20</th>\n",
              "      <td>0.413992</td>\n",
              "      <td>0.849124</td>\n",
              "    </tr>\n",
              "    <tr>\n",
              "      <th>30</th>\n",
              "      <td>0.199777</td>\n",
              "      <td>0.938033</td>\n",
              "    </tr>\n",
              "    <tr>\n",
              "      <th>40</th>\n",
              "      <td>0.118924</td>\n",
              "      <td>0.965424</td>\n",
              "    </tr>\n",
              "    <tr>\n",
              "      <th>50</th>\n",
              "      <td>0.068974</td>\n",
              "      <td>0.981590</td>\n",
              "    </tr>\n",
              "  </tbody>\n",
              "</table>\n",
              "</div>\n",
              "      <button class=\"colab-df-convert\" onclick=\"convertToInteractive('df-d34053a8-b1e8-48c6-9f1f-44832cc70bde')\"\n",
              "              title=\"Convert this dataframe to an interactive table.\"\n",
              "              style=\"display:none;\">\n",
              "        \n",
              "  <svg xmlns=\"http://www.w3.org/2000/svg\" height=\"24px\"viewBox=\"0 0 24 24\"\n",
              "       width=\"24px\">\n",
              "    <path d=\"M0 0h24v24H0V0z\" fill=\"none\"/>\n",
              "    <path d=\"M18.56 5.44l.94 2.06.94-2.06 2.06-.94-2.06-.94-.94-2.06-.94 2.06-2.06.94zm-11 1L8.5 8.5l.94-2.06 2.06-.94-2.06-.94L8.5 2.5l-.94 2.06-2.06.94zm10 10l.94 2.06.94-2.06 2.06-.94-2.06-.94-.94-2.06-.94 2.06-2.06.94z\"/><path d=\"M17.41 7.96l-1.37-1.37c-.4-.4-.92-.59-1.43-.59-.52 0-1.04.2-1.43.59L10.3 9.45l-7.72 7.72c-.78.78-.78 2.05 0 2.83L4 21.41c.39.39.9.59 1.41.59.51 0 1.02-.2 1.41-.59l7.78-7.78 2.81-2.81c.8-.78.8-2.07 0-2.86zM5.41 20L4 18.59l7.72-7.72 1.47 1.35L5.41 20z\"/>\n",
              "  </svg>\n",
              "      </button>\n",
              "      \n",
              "  <style>\n",
              "    .colab-df-container {\n",
              "      display:flex;\n",
              "      flex-wrap:wrap;\n",
              "      gap: 12px;\n",
              "    }\n",
              "\n",
              "    .colab-df-convert {\n",
              "      background-color: #E8F0FE;\n",
              "      border: none;\n",
              "      border-radius: 50%;\n",
              "      cursor: pointer;\n",
              "      display: none;\n",
              "      fill: #1967D2;\n",
              "      height: 32px;\n",
              "      padding: 0 0 0 0;\n",
              "      width: 32px;\n",
              "    }\n",
              "\n",
              "    .colab-df-convert:hover {\n",
              "      background-color: #E2EBFA;\n",
              "      box-shadow: 0px 1px 2px rgba(60, 64, 67, 0.3), 0px 1px 3px 1px rgba(60, 64, 67, 0.15);\n",
              "      fill: #174EA6;\n",
              "    }\n",
              "\n",
              "    [theme=dark] .colab-df-convert {\n",
              "      background-color: #3B4455;\n",
              "      fill: #D2E3FC;\n",
              "    }\n",
              "\n",
              "    [theme=dark] .colab-df-convert:hover {\n",
              "      background-color: #434B5C;\n",
              "      box-shadow: 0px 1px 3px 1px rgba(0, 0, 0, 0.15);\n",
              "      filter: drop-shadow(0px 1px 2px rgba(0, 0, 0, 0.3));\n",
              "      fill: #FFFFFF;\n",
              "    }\n",
              "  </style>\n",
              "\n",
              "      <script>\n",
              "        const buttonEl =\n",
              "          document.querySelector('#df-d34053a8-b1e8-48c6-9f1f-44832cc70bde button.colab-df-convert');\n",
              "        buttonEl.style.display =\n",
              "          google.colab.kernel.accessAllowed ? 'block' : 'none';\n",
              "\n",
              "        async function convertToInteractive(key) {\n",
              "          const element = document.querySelector('#df-d34053a8-b1e8-48c6-9f1f-44832cc70bde');\n",
              "          const dataTable =\n",
              "            await google.colab.kernel.invokeFunction('convertToInteractive',\n",
              "                                                     [key], {});\n",
              "          if (!dataTable) return;\n",
              "\n",
              "          const docLinkHtml = 'Like what you see? Visit the ' +\n",
              "            '<a target=\"_blank\" href=https://colab.research.google.com/notebooks/data_table.ipynb>data table notebook</a>'\n",
              "            + ' to learn more about interactive tables.';\n",
              "          element.innerHTML = '';\n",
              "          dataTable['output_type'] = 'display_data';\n",
              "          await google.colab.output.renderOutput(dataTable, element);\n",
              "          const docLink = document.createElement('div');\n",
              "          docLink.innerHTML = docLinkHtml;\n",
              "          element.appendChild(docLink);\n",
              "        }\n",
              "      </script>\n",
              "    </div>\n",
              "  </div>\n",
              "  "
            ]
          },
          "metadata": {},
          "execution_count": 91
        }
      ]
    },
    {
      "cell_type": "code",
      "source": [
        "table_df.to_csv('data5.csv')\n",
        "files.download(\"data5.csv\")"
      ],
      "metadata": {
        "id": "RpURkmw3VA0M",
        "colab": {
          "base_uri": "https://localhost:8080/",
          "height": 17
        },
        "outputId": "4378de06-77bd-496a-b42d-45e5f33b7f9d"
      },
      "execution_count": null,
      "outputs": [
        {
          "output_type": "display_data",
          "data": {
            "text/plain": [
              "<IPython.core.display.Javascript object>"
            ],
            "application/javascript": [
              "\n",
              "    async function download(id, filename, size) {\n",
              "      if (!google.colab.kernel.accessAllowed) {\n",
              "        return;\n",
              "      }\n",
              "      const div = document.createElement('div');\n",
              "      const label = document.createElement('label');\n",
              "      label.textContent = `Downloading \"${filename}\": `;\n",
              "      div.appendChild(label);\n",
              "      const progress = document.createElement('progress');\n",
              "      progress.max = size;\n",
              "      div.appendChild(progress);\n",
              "      document.body.appendChild(div);\n",
              "\n",
              "      const buffers = [];\n",
              "      let downloaded = 0;\n",
              "\n",
              "      const channel = await google.colab.kernel.comms.open(id);\n",
              "      // Send a message to notify the kernel that we're ready.\n",
              "      channel.send({})\n",
              "\n",
              "      for await (const message of channel.messages) {\n",
              "        // Send a message to notify the kernel that we're ready.\n",
              "        channel.send({})\n",
              "        if (message.buffers) {\n",
              "          for (const buffer of message.buffers) {\n",
              "            buffers.push(buffer);\n",
              "            downloaded += buffer.byteLength;\n",
              "            progress.value = downloaded;\n",
              "          }\n",
              "        }\n",
              "      }\n",
              "      const blob = new Blob(buffers, {type: 'application/binary'});\n",
              "      const a = document.createElement('a');\n",
              "      a.href = window.URL.createObjectURL(blob);\n",
              "      a.download = filename;\n",
              "      div.appendChild(a);\n",
              "      a.click();\n",
              "      div.remove();\n",
              "    }\n",
              "  "
            ]
          },
          "metadata": {}
        },
        {
          "output_type": "display_data",
          "data": {
            "text/plain": [
              "<IPython.core.display.Javascript object>"
            ],
            "application/javascript": [
              "download(\"download_906bfdec-aee4-4623-9b3f-41d5243d06d8\", \"data5.csv\", 2072)"
            ]
          },
          "metadata": {}
        }
      ]
    },
    {
      "cell_type": "code",
      "source": [
        "table_df.to_csv('data5_1.csv')\n",
        "files.download(\"data5_1.csv\")"
      ],
      "metadata": {
        "id": "jVs4I8kJVDCy",
        "colab": {
          "base_uri": "https://localhost:8080/",
          "height": 17
        },
        "outputId": "fce7781c-f8b8-4289-a331-00c2d7ee96c1"
      },
      "execution_count": null,
      "outputs": [
        {
          "output_type": "display_data",
          "data": {
            "text/plain": [
              "<IPython.core.display.Javascript object>"
            ],
            "application/javascript": [
              "\n",
              "    async function download(id, filename, size) {\n",
              "      if (!google.colab.kernel.accessAllowed) {\n",
              "        return;\n",
              "      }\n",
              "      const div = document.createElement('div');\n",
              "      const label = document.createElement('label');\n",
              "      label.textContent = `Downloading \"${filename}\": `;\n",
              "      div.appendChild(label);\n",
              "      const progress = document.createElement('progress');\n",
              "      progress.max = size;\n",
              "      div.appendChild(progress);\n",
              "      document.body.appendChild(div);\n",
              "\n",
              "      const buffers = [];\n",
              "      let downloaded = 0;\n",
              "\n",
              "      const channel = await google.colab.kernel.comms.open(id);\n",
              "      // Send a message to notify the kernel that we're ready.\n",
              "      channel.send({})\n",
              "\n",
              "      for await (const message of channel.messages) {\n",
              "        // Send a message to notify the kernel that we're ready.\n",
              "        channel.send({})\n",
              "        if (message.buffers) {\n",
              "          for (const buffer of message.buffers) {\n",
              "            buffers.push(buffer);\n",
              "            downloaded += buffer.byteLength;\n",
              "            progress.value = downloaded;\n",
              "          }\n",
              "        }\n",
              "      }\n",
              "      const blob = new Blob(buffers, {type: 'application/binary'});\n",
              "      const a = document.createElement('a');\n",
              "      a.href = window.URL.createObjectURL(blob);\n",
              "      a.download = filename;\n",
              "      div.appendChild(a);\n",
              "      a.click();\n",
              "      div.remove();\n",
              "    }\n",
              "  "
            ]
          },
          "metadata": {}
        },
        {
          "output_type": "display_data",
          "data": {
            "text/plain": [
              "<IPython.core.display.Javascript object>"
            ],
            "application/javascript": [
              "download(\"download_c80044ed-b3e0-4d6e-900f-f02f5186017b\", \"data5_1.csv\", 2072)"
            ]
          },
          "metadata": {}
        }
      ]
    },
    {
      "cell_type": "code",
      "source": [
        "pyplot.plot(history3_1.history['loss'])\n",
        "pyplot.plot(history3_1.history['accuracy'])\n",
        "pyplot.title('model loss vs accuracy')\n",
        "pyplot.xlabel('epoch')\n",
        "pyplot.legend(['loss', 'accuracy'], loc='upper right')\n",
        "pyplot.show()"
      ],
      "metadata": {
        "colab": {
          "base_uri": "https://localhost:8080/",
          "height": 295
        },
        "outputId": "1c62ee0d-c82a-46e9-9eb4-3e7ff15efd1d",
        "id": "qtGyiSsRTjRp"
      },
      "execution_count": null,
      "outputs": [
        {
          "output_type": "display_data",
          "data": {
            "text/plain": [
              "<Figure size 432x288 with 1 Axes>"
            ],
            "image/png": "[encoded data removed]"
          },
          "metadata": {
            "needs_background": "light"
          }
        }
      ]
    },
    {
      "cell_type": "code",
      "source": [
        "test_loss, test_acc = model.evaluate(X_test, Y_test, verbose=2)\n",
        "\n",
        "print('\\nTest accuracy:', test_acc)"
      ],
      "metadata": {
        "colab": {
          "base_uri": "https://localhost:8080/"
        },
        "outputId": "291c8792-d04a-450d-9cfc-6b5046ab99ac",
        "id": "Yk069XACTjRq"
      },
      "execution_count": null,
      "outputs": [
        {
          "output_type": "stream",
          "name": "stdout",
          "text": [
            "24/24 - 7s - loss: 0.2685 - accuracy: 0.9287 - 7s/epoch - 286ms/step\n",
            "\n",
            "Test accuracy: 0.9286675453186035\n"
          ]
        }
      ]
    },
    {
      "cell_type": "code",
      "source": [
        "# Test the model after training\n",
        "test_results = model.evaluate(X_test, Y_test, verbose=False)\n",
        "#print(f'Test results - Loss: {test_results[0]} - Accuracy: {100*test_results[1]}%')\n",
        "test_results"
      ],
      "metadata": {
        "colab": {
          "base_uri": "https://localhost:8080/"
        },
        "outputId": "3d285d55-eae4-4c91-8984-0eb0745102b9",
        "id": "E8L4A_ATTjRq"
      },
      "execution_count": null,
      "outputs": [
        {
          "output_type": "execute_result",
          "data": {
            "text/plain": [
              "[0.2684553861618042, 0.9286675453186035]"
            ]
          },
          "metadata": {},
          "execution_count": 96
        }
      ]
    },
    {
      "cell_type": "markdown",
      "source": [
        "# Method 1 with 6 labels instead of 10"
      ],
      "metadata": {
        "id": "6SPJKpUdImnl"
      }
    },
    {
      "cell_type": "code",
      "source": [
        "def method4(x,y,labels_file):\n",
        "    # Creating Dataframes\n",
        "    df = pd.DataFrame(x,columns=[(\"emb\"+str(num)) for num in range(1,129)]) # Dataframe to get all embeddings program wise\n",
        "    df_y = pd.read_csv(labels_file, sep = \" \", header=None, names=[\"Complexity\", \"Node Number\", \"Language\"])\n",
        "    df['Complexity'] = df_y['Complexity'] # Adding y label to each corresponding program's embeddings\n",
        "    #df['Language']=df_y['Language']\n",
        "\n",
        "    df.drop(df[df['Complexity'] == \"O(1)\"].index, inplace = True)\n",
        "    df.drop(df[df['Complexity'] == \"O(2n)\"].index, inplace = True)\n",
        "    df.drop(df[df['Complexity'] == \"O(N!)\"].index, inplace = True)\n",
        "    df.drop(df[df['Complexity'] == \"O(sqrt(N))\"].index, inplace = True)\n",
        "\n",
        "    df = df.reset_index()\n",
        "\n",
        "    df.drop(['index'], axis=1)\n",
        "\n",
        "    #df.drop(['index', 'Language'], axis=1)\n",
        "\n",
        "    # Resampling - Oversampling \n",
        "\n",
        "    #create two different dataframe of majority and minority class \n",
        "    df_majority = df[(df['Complexity'] == 'O(N)')] \n",
        "    df_minority_1 = df[(df['Complexity'] == 'O(N2)')] \n",
        "    df_minority_2 = df[(df['Complexity'] == 'O(NlogN)')] \n",
        "    df_minority_3 = df[(df['Complexity'] == 'O(logN)')] \n",
        "    df_minority_4 = df[(df['Complexity'] == 'O(N3)')]\n",
        "    df_minority_5 = df[(df['Complexity'] == 'O(Nd)')]\n",
        "    #df_minority_6 = df[(df['Complexity'] == 'O(2n)')]\n",
        "    #df_minority_7 = df[(df['Complexity'] == 'O(1)')]\n",
        "    #df_minority_8 = df[(df['Complexity'] == 'O(N!)')]\n",
        "    #df_minority_9 = df[(df['Complexity'] == 'O(sqrt(N))')]\n",
        "\n",
        "    # upsample minority class\n",
        "    minority = [df_minority_1, df_minority_2, df_minority_3, df_minority_4, df_minority_5]\n",
        "    #minority = [df_minority_1, df_minority_2, df_minority_3, df_minority_4, df_minority_5, df_minority_6, df_minority_7, df_minority_8, df_minority_9]\n",
        "    temp = []\n",
        "    for i in minority:\n",
        "      df_minority_upsampled = resample(i, \n",
        "                                      replace=True,    # sample with replacement\n",
        "                                      n_samples= 375, # to match majority class\n",
        "                                      random_state=42)  # reproducible results\n",
        "      temp.append(df_minority_upsampled)\n",
        "    # Combine majority class with upsampled minority class\n",
        "    df_upsampled = df_majority\n",
        "    for i in temp:\n",
        "      df_upsampled = pd.concat([i, df_upsampled])\n",
        "\n",
        "    new_df = df_upsampled\n",
        "    # df = oversampled\n",
        "    factor = pd.factorize(new_df['Complexity'])\n",
        "    new_df.Complexity= factor[0]\n",
        "    definitions = factor[1]\n",
        "    #print(new_df.Complexity.head())\n",
        "    print(definitions)\n",
        "\n",
        "    #Splitting the data into independent and dependent variables\n",
        "    X = new_df.iloc[:,0:128].values\n",
        "    Y = new_df.iloc[:,128].values\n",
        "    #print('The independent features set: ')\n",
        "    #print(X[:5,:])\n",
        "    #print('The dependent variable: ')\n",
        "    #print(Y[:5])\n",
        "\n",
        "    Y = new_df['Complexity']\n",
        "\n",
        "    le = LabelEncoder()\n",
        "    Y = le.fit_transform(Y)\n",
        "\n",
        "    # Creating the Training and Test set from data\n",
        "    X_train, X_test, Y_train, Y_test = train_test_split(X, Y, test_size = 0.25, random_state = 21)\n",
        "\n",
        "    # Feature Scaling\n",
        "    scaler = StandardScaler()\n",
        "    X_train = scaler.fit_transform(X_train)\n",
        "    X_test = scaler.transform(X_test)\n",
        "\n",
        "    return df, df_y, df_upsampled, new_df, X, Y, X_train, X_test, Y_train, Y_test"
      ],
      "metadata": {
        "id": "vMJp7l8DUgqv"
      },
      "execution_count": null,
      "outputs": []
    },
    {
      "cell_type": "code",
      "source": [
        "df, df_y, df_upsampled, new_df, X, Y, X_train, X_test, Y_train, Y_test = method4(x,y,labels_file)"
      ],
      "metadata": {
        "colab": {
          "base_uri": "https://localhost:8080/"
        },
        "id": "ebHzSnUNWXm5",
        "outputId": "22c479a2-7329-468c-964a-4e3f14467dbc"
      },
      "execution_count": null,
      "outputs": [
        {
          "output_type": "stream",
          "name": "stdout",
          "text": [
            "Index(['O(Nd)', 'O(N3)', 'O(logN)', 'O(NlogN)', 'O(N2)', 'O(N)'], dtype='object')\n"
          ]
        }
      ]
    },
    {
      "cell_type": "markdown",
      "source": [
        "# Checking count of programs before and after Resampling"
      ],
      "metadata": {
        "id": "l-DOLNbMW0Tr"
      }
    },
    {
      "cell_type": "code",
      "source": [
        "# Barchart for complexity labels\n",
        "sns.countplot(df['Complexity'])"
      ],
      "metadata": {
        "colab": {
          "base_uri": "https://localhost:8080/",
          "height": 351
        },
        "outputId": "58c4e23c-e0d1-455c-e331-bb5ea2b03a65",
        "id": "rnRxBJsdW0Ts"
      },
      "execution_count": null,
      "outputs": [
        {
          "output_type": "stream",
          "name": "stderr",
          "text": [
            "/usr/local/lib/python3.7/dist-packages/seaborn/_decorators.py:43: FutureWarning: Pass the following variable as a keyword arg: x. From version 0.12, the only valid positional argument will be `data`, and passing other arguments without an explicit keyword will result in an error or misinterpretation.\n",
            "  FutureWarning\n"
          ]
        },
        {
          "output_type": "execute_result",
          "data": {
            "text/plain": [
              "<matplotlib.axes._subplots.AxesSubplot at 0x7f159f3e5c10>"
            ]
          },
          "metadata": {},
          "execution_count": 147
        },
        {
          "output_type": "display_data",
          "data": {
            "text/plain": [
              "<Figure size 432x288 with 1 Axes>"
            ],
            "image/png": "[encoded data removed]"
          },
          "metadata": {
            "needs_background": "light"
          }
        }
      ]
    },
    {
      "cell_type": "code",
      "source": [
        "# Barchart for complexity labels after resampling\n",
        "sns.countplot(df_upsampled['Complexity'])"
      ],
      "metadata": {
        "colab": {
          "base_uri": "https://localhost:8080/",
          "height": 351
        },
        "outputId": "c4ee0a78-5868-4fc0-b699-c60008824915",
        "id": "Z1py64wUW0Ts"
      },
      "execution_count": null,
      "outputs": [
        {
          "output_type": "stream",
          "name": "stderr",
          "text": [
            "/usr/local/lib/python3.7/dist-packages/seaborn/_decorators.py:43: FutureWarning: Pass the following variable as a keyword arg: x. From version 0.12, the only valid positional argument will be `data`, and passing other arguments without an explicit keyword will result in an error or misinterpretation.\n",
            "  FutureWarning\n"
          ]
        },
        {
          "output_type": "execute_result",
          "data": {
            "text/plain": [
              "<matplotlib.axes._subplots.AxesSubplot at 0x7f1591fa9810>"
            ]
          },
          "metadata": {},
          "execution_count": 148
        },
        {
          "output_type": "display_data",
          "data": {
            "text/plain": [
              "<Figure size 432x288 with 1 Axes>"
            ],
            "image/png": "[encoded data removed]"
          },
          "metadata": {
            "needs_background": "light"
          }
        }
      ]
    },
    {
      "cell_type": "markdown",
      "source": [
        "# Changing data shape from 2d to 3d"
      ],
      "metadata": {
        "id": "yhMlQeXEW0Tt"
      }
    },
    {
      "cell_type": "code",
      "source": [
        "X.shape"
      ],
      "metadata": {
        "colab": {
          "base_uri": "https://localhost:8080/"
        },
        "outputId": "04739126-beb0-4830-9a7b-6e0e1403d53f",
        "id": "7m9kh-DjW0Tt"
      },
      "execution_count": null,
      "outputs": [
        {
          "output_type": "execute_result",
          "data": {
            "text/plain": [
              "(2250, 128)"
            ]
          },
          "metadata": {},
          "execution_count": 149
        }
      ]
    },
    {
      "cell_type": "code",
      "source": [
        "Y.shape"
      ],
      "metadata": {
        "colab": {
          "base_uri": "https://localhost:8080/"
        },
        "outputId": "ca5737bb-1c04-4add-d376-c9db7ca4312d",
        "id": "2Rl6q2C-W0Tt"
      },
      "execution_count": null,
      "outputs": [
        {
          "output_type": "execute_result",
          "data": {
            "text/plain": [
              "(2250,)"
            ]
          },
          "metadata": {},
          "execution_count": 150
        }
      ]
    },
    {
      "cell_type": "code",
      "source": [
        "X_train.shape"
      ],
      "metadata": {
        "colab": {
          "base_uri": "https://localhost:8080/"
        },
        "outputId": "842c1120-9812-4461-c181-f3bb31756376",
        "id": "adYLY3i2W0Tt"
      },
      "execution_count": null,
      "outputs": [
        {
          "output_type": "execute_result",
          "data": {
            "text/plain": [
              "(1687, 128)"
            ]
          },
          "metadata": {},
          "execution_count": 151
        }
      ]
    },
    {
      "cell_type": "code",
      "source": [
        "Y_train.shape"
      ],
      "metadata": {
        "colab": {
          "base_uri": "https://localhost:8080/"
        },
        "outputId": "3ba975d6-0263-4afe-e50c-d4eade8efb71",
        "id": "KgYI_v9nW0Tt"
      },
      "execution_count": null,
      "outputs": [
        {
          "output_type": "execute_result",
          "data": {
            "text/plain": [
              "(1687,)"
            ]
          },
          "metadata": {},
          "execution_count": 152
        }
      ]
    },
    {
      "cell_type": "code",
      "source": [
        "X_test.shape"
      ],
      "metadata": {
        "colab": {
          "base_uri": "https://localhost:8080/"
        },
        "outputId": "64ed7930-2cc4-4392-ba99-5de9abec9b50",
        "id": "hYELfU2PW0Tu"
      },
      "execution_count": null,
      "outputs": [
        {
          "output_type": "execute_result",
          "data": {
            "text/plain": [
              "(563, 128)"
            ]
          },
          "metadata": {},
          "execution_count": 153
        }
      ]
    },
    {
      "cell_type": "code",
      "source": [
        "Y_test.shape"
      ],
      "metadata": {
        "colab": {
          "base_uri": "https://localhost:8080/"
        },
        "outputId": "92684a96-80ef-409a-cbbf-357f3f316ec4",
        "id": "f5lzyVtBW0Tu"
      },
      "execution_count": null,
      "outputs": [
        {
          "output_type": "execute_result",
          "data": {
            "text/plain": [
              "(563,)"
            ]
          },
          "metadata": {},
          "execution_count": 154
        }
      ]
    },
    {
      "cell_type": "code",
      "source": [
        "# Reshaping to 3d data\n",
        "X = np.reshape(X,(2250,128,1))\n",
        "X_train = np.reshape(X_train,(1687, 128,1))\n",
        "X_test = np.reshape(X_test,(563,128,1))"
      ],
      "metadata": {
        "id": "j9nWX3bEW0Tu"
      },
      "execution_count": null,
      "outputs": []
    },
    {
      "cell_type": "markdown",
      "source": [
        "# BiLSTM with 64 memory units"
      ],
      "metadata": {
        "id": "Lv8FXfc0W0Tu"
      }
    },
    {
      "cell_type": "code",
      "source": [
        "def BiLSTM():\n",
        "    model = Sequential()\n",
        "    model.add(Bidirectional(LSTM(64, return_sequences=True),\n",
        "                                input_shape=(128, 1))) # 64 as input shape is 128; forward + backward = 128\n",
        "    model.add(Bidirectional(LSTM(64)))\n",
        "    model.add(Dense(6, activation=\"softmax\"))\n",
        "    model.compile(optimizer='adam',\n",
        "                  loss=tf.keras.losses.SparseCategoricalCrossentropy(),\n",
        "                  metrics=['accuracy'])\n",
        "    model.summary()\n",
        "    return model"
      ],
      "metadata": {
        "id": "ThUosQByW0Tu"
      },
      "execution_count": null,
      "outputs": []
    },
    {
      "cell_type": "code",
      "source": [
        "model = BiLSTM()"
      ],
      "metadata": {
        "colab": {
          "base_uri": "https://localhost:8080/"
        },
        "outputId": "edf632cd-e249-4468-aba9-270761ca37cf",
        "id": "NF6LgPSKW0Tu"
      },
      "execution_count": null,
      "outputs": [
        {
          "output_type": "stream",
          "name": "stdout",
          "text": [
            "Model: \"sequential_6\"\n",
            "_________________________________________________________________\n",
            " Layer (type)                Output Shape              Param #   \n",
            "=================================================================\n",
            " bidirectional_12 (Bidirecti  (None, 128, 128)         33792     \n",
            " onal)                                                           \n",
            "                                                                 \n",
            " bidirectional_13 (Bidirecti  (None, 128)              98816     \n",
            " onal)                                                           \n",
            "                                                                 \n",
            " dense_6 (Dense)             (None, 6)                 774       \n",
            "                                                                 \n",
            "=================================================================\n",
            "Total params: 133,382\n",
            "Trainable params: 133,382\n",
            "Non-trainable params: 0\n",
            "_________________________________________________________________\n"
          ]
        }
      ]
    },
    {
      "cell_type": "code",
      "source": [
        "history4 = model.fit(X_train, Y_train, epochs=25)"
      ],
      "metadata": {
        "colab": {
          "base_uri": "https://localhost:8080/"
        },
        "outputId": "5b5a076a-ef63-4982-9ff7-4b94d206c993",
        "id": "slKLLJ_GW0Tu"
      },
      "execution_count": null,
      "outputs": [
        {
          "output_type": "stream",
          "name": "stdout",
          "text": [
            "Epoch 1/25\n",
            "53/53 [==============================] - 22s 264ms/step - loss: 1.5994 - accuracy: 0.3183\n",
            "Epoch 2/25\n",
            "53/53 [==============================] - 14s 269ms/step - loss: 1.3741 - accuracy: 0.4440\n",
            "Epoch 3/25\n",
            "53/53 [==============================] - 13s 239ms/step - loss: 1.1985 - accuracy: 0.5287\n",
            "Epoch 4/25\n",
            "53/53 [==============================] - 13s 237ms/step - loss: 1.0660 - accuracy: 0.5815\n",
            "Epoch 5/25\n",
            "53/53 [==============================] - 13s 237ms/step - loss: 0.9471 - accuracy: 0.6271\n",
            "Epoch 6/25\n",
            "53/53 [==============================] - 13s 238ms/step - loss: 0.8501 - accuracy: 0.6823\n",
            "Epoch 7/25\n",
            "53/53 [==============================] - 15s 274ms/step - loss: 0.7642 - accuracy: 0.7321\n",
            "Epoch 8/25\n",
            "53/53 [==============================] - 13s 236ms/step - loss: 0.6617 - accuracy: 0.7765\n",
            "Epoch 9/25\n",
            "53/53 [==============================] - 17s 324ms/step - loss: 0.5928 - accuracy: 0.7973\n",
            "Epoch 10/25\n",
            "53/53 [==============================] - 16s 306ms/step - loss: 0.5052 - accuracy: 0.8388\n",
            "Epoch 11/25\n",
            "53/53 [==============================] - 24s 446ms/step - loss: 0.5645 - accuracy: 0.8085\n",
            "Epoch 12/25\n",
            "53/53 [==============================] - 13s 235ms/step - loss: 0.5150 - accuracy: 0.8251\n",
            "Epoch 13/25\n",
            "53/53 [==============================] - 12s 234ms/step - loss: 0.3804 - accuracy: 0.8874\n",
            "Epoch 14/25\n",
            "53/53 [==============================] - 15s 287ms/step - loss: 0.3414 - accuracy: 0.8963\n",
            "Epoch 15/25\n",
            "53/53 [==============================] - 20s 377ms/step - loss: 0.3002 - accuracy: 0.9129\n",
            "Epoch 16/25\n",
            "53/53 [==============================] - 16s 290ms/step - loss: 0.4083 - accuracy: 0.8708\n",
            "Epoch 17/25\n",
            "53/53 [==============================] - 15s 276ms/step - loss: 0.2836 - accuracy: 0.9152\n",
            "Epoch 18/25\n",
            "53/53 [==============================] - 13s 236ms/step - loss: 0.2561 - accuracy: 0.9247\n",
            "Epoch 19/25\n",
            "53/53 [==============================] - 14s 273ms/step - loss: 0.2020 - accuracy: 0.9461\n",
            "Epoch 20/25\n",
            "53/53 [==============================] - 13s 237ms/step - loss: 0.2064 - accuracy: 0.9437\n",
            "Epoch 21/25\n",
            "53/53 [==============================] - 13s 238ms/step - loss: 0.2156 - accuracy: 0.9395\n",
            "Epoch 22/25\n",
            "53/53 [==============================] - 15s 283ms/step - loss: 0.1820 - accuracy: 0.9532\n",
            "Epoch 23/25\n",
            "53/53 [==============================] - 15s 275ms/step - loss: 0.1458 - accuracy: 0.9632\n",
            "Epoch 24/25\n",
            "53/53 [==============================] - 13s 238ms/step - loss: 0.1552 - accuracy: 0.9591\n",
            "Epoch 25/25\n",
            "53/53 [==============================] - 12s 235ms/step - loss: 0.1759 - accuracy: 0.9555\n"
          ]
        }
      ]
    },
    {
      "cell_type": "code",
      "source": [
        "model.save('finalized_model4.sav', save_format=\"h5\")"
      ],
      "metadata": {
        "id": "Etiu_pcIW0Tv"
      },
      "execution_count": null,
      "outputs": []
    },
    {
      "cell_type": "code",
      "source": [
        "table_df = pd.DataFrame(history4.history)\n",
        "table_df.index += 1\n",
        "print(table_df)"
      ],
      "metadata": {
        "colab": {
          "base_uri": "https://localhost:8080/"
        },
        "outputId": "42949e4c-9889-40c8-945f-976045c234e5",
        "id": "UYV1Rhj7W0Tv"
      },
      "execution_count": null,
      "outputs": [
        {
          "output_type": "stream",
          "name": "stdout",
          "text": [
            "        loss  accuracy\n",
            "1   1.599410  0.318317\n",
            "2   1.374084  0.443983\n",
            "3   1.198508  0.528749\n",
            "4   1.066018  0.581506\n",
            "5   0.947064  0.627149\n",
            "6   0.850083  0.682276\n",
            "7   0.764191  0.732069\n",
            "8   0.661683  0.776526\n",
            "9   0.592835  0.797273\n",
            "10  0.505248  0.838767\n",
            "11  0.564516  0.808536\n",
            "12  0.515005  0.825133\n",
            "13  0.380446  0.887374\n",
            "14  0.341353  0.896266\n",
            "15  0.300243  0.912863\n",
            "16  0.408342  0.870777\n",
            "17  0.283557  0.915234\n",
            "18  0.256065  0.924718\n",
            "19  0.201962  0.946058\n",
            "20  0.206412  0.943687\n",
            "21  0.215645  0.939538\n",
            "22  0.182047  0.953171\n",
            "23  0.145824  0.963248\n",
            "24  0.155188  0.959099\n",
            "25  0.175885  0.955542\n"
          ]
        }
      ]
    },
    {
      "cell_type": "code",
      "source": [
        "table_df2 = table_df[table_df.index % 5 == 0]\n",
        "table_df2"
      ],
      "metadata": {
        "colab": {
          "base_uri": "https://localhost:8080/",
          "height": 206
        },
        "outputId": "480fdc97-041e-4ec9-a897-cfa68cd8faa8",
        "id": "scFqP_8WW0Tv"
      },
      "execution_count": null,
      "outputs": [
        {
          "output_type": "execute_result",
          "data": {
            "text/plain": [
              "        loss  accuracy\n",
              "5   0.947064  0.627149\n",
              "10  0.505248  0.838767\n",
              "15  0.300243  0.912863\n",
              "20  0.206412  0.943687\n",
              "25  0.175885  0.955542"
            ],
            "text/html": [
              "\n",
              "  <div id=\"df-f8d47a87-95b8-4c11-a91f-ddb362e4e216\">\n",
              "    <div class=\"colab-df-container\">\n",
              "      <div>\n",
              "<style scoped>\n",
              "    .dataframe tbody tr th:only-of-type {\n",
              "        vertical-align: middle;\n",
              "    }\n",
              "\n",
              "    .dataframe tbody tr th {\n",
              "        vertical-align: top;\n",
              "    }\n",
              "\n",
              "    .dataframe thead th {\n",
              "        text-align: right;\n",
              "    }\n",
              "</style>\n",
              "<table border=\"1\" class=\"dataframe\">\n",
              "  <thead>\n",
              "    <tr style=\"text-align: right;\">\n",
              "      <th></th>\n",
              "      <th>loss</th>\n",
              "      <th>accuracy</th>\n",
              "    </tr>\n",
              "  </thead>\n",
              "  <tbody>\n",
              "    <tr>\n",
              "      <th>5</th>\n",
              "      <td>0.947064</td>\n",
              "      <td>0.627149</td>\n",
              "    </tr>\n",
              "    <tr>\n",
              "      <th>10</th>\n",
              "      <td>0.505248</td>\n",
              "      <td>0.838767</td>\n",
              "    </tr>\n",
              "    <tr>\n",
              "      <th>15</th>\n",
              "      <td>0.300243</td>\n",
              "      <td>0.912863</td>\n",
              "    </tr>\n",
              "    <tr>\n",
              "      <th>20</th>\n",
              "      <td>0.206412</td>\n",
              "      <td>0.943687</td>\n",
              "    </tr>\n",
              "    <tr>\n",
              "      <th>25</th>\n",
              "      <td>0.175885</td>\n",
              "      <td>0.955542</td>\n",
              "    </tr>\n",
              "  </tbody>\n",
              "</table>\n",
              "</div>\n",
              "      <button class=\"colab-df-convert\" onclick=\"convertToInteractive('df-f8d47a87-95b8-4c11-a91f-ddb362e4e216')\"\n",
              "              title=\"Convert this dataframe to an interactive table.\"\n",
              "              style=\"display:none;\">\n",
              "        \n",
              "  <svg xmlns=\"http://www.w3.org/2000/svg\" height=\"24px\"viewBox=\"0 0 24 24\"\n",
              "       width=\"24px\">\n",
              "    <path d=\"M0 0h24v24H0V0z\" fill=\"none\"/>\n",
              "    <path d=\"M18.56 5.44l.94 2.06.94-2.06 2.06-.94-2.06-.94-.94-2.06-.94 2.06-2.06.94zm-11 1L8.5 8.5l.94-2.06 2.06-.94-2.06-.94L8.5 2.5l-.94 2.06-2.06.94zm10 10l.94 2.06.94-2.06 2.06-.94-2.06-.94-.94-2.06-.94 2.06-2.06.94z\"/><path d=\"M17.41 7.96l-1.37-1.37c-.4-.4-.92-.59-1.43-.59-.52 0-1.04.2-1.43.59L10.3 9.45l-7.72 7.72c-.78.78-.78 2.05 0 2.83L4 21.41c.39.39.9.59 1.41.59.51 0 1.02-.2 1.41-.59l7.78-7.78 2.81-2.81c.8-.78.8-2.07 0-2.86zM5.41 20L4 18.59l7.72-7.72 1.47 1.35L5.41 20z\"/>\n",
              "  </svg>\n",
              "      </button>\n",
              "      \n",
              "  <style>\n",
              "    .colab-df-container {\n",
              "      display:flex;\n",
              "      flex-wrap:wrap;\n",
              "      gap: 12px;\n",
              "    }\n",
              "\n",
              "    .colab-df-convert {\n",
              "      background-color: #E8F0FE;\n",
              "      border: none;\n",
              "      border-radius: 50%;\n",
              "      cursor: pointer;\n",
              "      display: none;\n",
              "      fill: #1967D2;\n",
              "      height: 32px;\n",
              "      padding: 0 0 0 0;\n",
              "      width: 32px;\n",
              "    }\n",
              "\n",
              "    .colab-df-convert:hover {\n",
              "      background-color: #E2EBFA;\n",
              "      box-shadow: 0px 1px 2px rgba(60, 64, 67, 0.3), 0px 1px 3px 1px rgba(60, 64, 67, 0.15);\n",
              "      fill: #174EA6;\n",
              "    }\n",
              "\n",
              "    [theme=dark] .colab-df-convert {\n",
              "      background-color: #3B4455;\n",
              "      fill: #D2E3FC;\n",
              "    }\n",
              "\n",
              "    [theme=dark] .colab-df-convert:hover {\n",
              "      background-color: #434B5C;\n",
              "      box-shadow: 0px 1px 3px 1px rgba(0, 0, 0, 0.15);\n",
              "      filter: drop-shadow(0px 1px 2px rgba(0, 0, 0, 0.3));\n",
              "      fill: #FFFFFF;\n",
              "    }\n",
              "  </style>\n",
              "\n",
              "      <script>\n",
              "        const buttonEl =\n",
              "          document.querySelector('#df-f8d47a87-95b8-4c11-a91f-ddb362e4e216 button.colab-df-convert');\n",
              "        buttonEl.style.display =\n",
              "          google.colab.kernel.accessAllowed ? 'block' : 'none';\n",
              "\n",
              "        async function convertToInteractive(key) {\n",
              "          const element = document.querySelector('#df-f8d47a87-95b8-4c11-a91f-ddb362e4e216');\n",
              "          const dataTable =\n",
              "            await google.colab.kernel.invokeFunction('convertToInteractive',\n",
              "                                                     [key], {});\n",
              "          if (!dataTable) return;\n",
              "\n",
              "          const docLinkHtml = 'Like what you see? Visit the ' +\n",
              "            '<a target=\"_blank\" href=https://colab.research.google.com/notebooks/data_table.ipynb>data table notebook</a>'\n",
              "            + ' to learn more about interactive tables.';\n",
              "          element.innerHTML = '';\n",
              "          dataTable['output_type'] = 'display_data';\n",
              "          await google.colab.output.renderOutput(dataTable, element);\n",
              "          const docLink = document.createElement('div');\n",
              "          docLink.innerHTML = docLinkHtml;\n",
              "          element.appendChild(docLink);\n",
              "        }\n",
              "      </script>\n",
              "    </div>\n",
              "  </div>\n",
              "  "
            ]
          },
          "metadata": {},
          "execution_count": 165
        }
      ]
    },
    {
      "cell_type": "code",
      "source": [
        "table_df.to_csv('data6.csv')\n",
        "files.download(\"data6.csv\")"
      ],
      "metadata": {
        "colab": {
          "base_uri": "https://localhost:8080/",
          "height": 17
        },
        "outputId": "f717d151-c257-47d9-c800-a8ae2216738b",
        "id": "GDLilTvBW0Tv"
      },
      "execution_count": null,
      "outputs": [
        {
          "output_type": "display_data",
          "data": {
            "text/plain": [
              "<IPython.core.display.Javascript object>"
            ],
            "application/javascript": [
              "\n",
              "    async function download(id, filename, size) {\n",
              "      if (!google.colab.kernel.accessAllowed) {\n",
              "        return;\n",
              "      }\n",
              "      const div = document.createElement('div');\n",
              "      const label = document.createElement('label');\n",
              "      label.textContent = `Downloading \"${filename}\": `;\n",
              "      div.appendChild(label);\n",
              "      const progress = document.createElement('progress');\n",
              "      progress.max = size;\n",
              "      div.appendChild(progress);\n",
              "      document.body.appendChild(div);\n",
              "\n",
              "      const buffers = [];\n",
              "      let downloaded = 0;\n",
              "\n",
              "      const channel = await google.colab.kernel.comms.open(id);\n",
              "      // Send a message to notify the kernel that we're ready.\n",
              "      channel.send({})\n",
              "\n",
              "      for await (const message of channel.messages) {\n",
              "        // Send a message to notify the kernel that we're ready.\n",
              "        channel.send({})\n",
              "        if (message.buffers) {\n",
              "          for (const buffer of message.buffers) {\n",
              "            buffers.push(buffer);\n",
              "            downloaded += buffer.byteLength;\n",
              "            progress.value = downloaded;\n",
              "          }\n",
              "        }\n",
              "      }\n",
              "      const blob = new Blob(buffers, {type: 'application/binary'});\n",
              "      const a = document.createElement('a');\n",
              "      a.href = window.URL.createObjectURL(blob);\n",
              "      a.download = filename;\n",
              "      div.appendChild(a);\n",
              "      a.click();\n",
              "      div.remove();\n",
              "    }\n",
              "  "
            ]
          },
          "metadata": {}
        },
        {
          "output_type": "display_data",
          "data": {
            "text/plain": [
              "<IPython.core.display.Javascript object>"
            ],
            "application/javascript": [
              "download(\"download_54d6debb-4cb9-42d8-ab04-fc8d5e2476dc\", \"data6.csv\", 1030)"
            ]
          },
          "metadata": {}
        }
      ]
    },
    {
      "cell_type": "code",
      "source": [
        "table_df2.to_csv('data6_1.csv')\n",
        "files.download(\"data6_1.csv\")"
      ],
      "metadata": {
        "colab": {
          "base_uri": "https://localhost:8080/",
          "height": 17
        },
        "outputId": "bf5f5c1c-9e65-4ced-d0dc-55c281bbd06f",
        "id": "L8qzDHIwW0Tv"
      },
      "execution_count": null,
      "outputs": [
        {
          "output_type": "display_data",
          "data": {
            "text/plain": [
              "<IPython.core.display.Javascript object>"
            ],
            "application/javascript": [
              "\n",
              "    async function download(id, filename, size) {\n",
              "      if (!google.colab.kernel.accessAllowed) {\n",
              "        return;\n",
              "      }\n",
              "      const div = document.createElement('div');\n",
              "      const label = document.createElement('label');\n",
              "      label.textContent = `Downloading \"${filename}\": `;\n",
              "      div.appendChild(label);\n",
              "      const progress = document.createElement('progress');\n",
              "      progress.max = size;\n",
              "      div.appendChild(progress);\n",
              "      document.body.appendChild(div);\n",
              "\n",
              "      const buffers = [];\n",
              "      let downloaded = 0;\n",
              "\n",
              "      const channel = await google.colab.kernel.comms.open(id);\n",
              "      // Send a message to notify the kernel that we're ready.\n",
              "      channel.send({})\n",
              "\n",
              "      for await (const message of channel.messages) {\n",
              "        // Send a message to notify the kernel that we're ready.\n",
              "        channel.send({})\n",
              "        if (message.buffers) {\n",
              "          for (const buffer of message.buffers) {\n",
              "            buffers.push(buffer);\n",
              "            downloaded += buffer.byteLength;\n",
              "            progress.value = downloaded;\n",
              "          }\n",
              "        }\n",
              "      }\n",
              "      const blob = new Blob(buffers, {type: 'application/binary'});\n",
              "      const a = document.createElement('a');\n",
              "      a.href = window.URL.createObjectURL(blob);\n",
              "      a.download = filename;\n",
              "      div.appendChild(a);\n",
              "      a.click();\n",
              "      div.remove();\n",
              "    }\n",
              "  "
            ]
          },
          "metadata": {}
        },
        {
          "output_type": "display_data",
          "data": {
            "text/plain": [
              "<IPython.core.display.Javascript object>"
            ],
            "application/javascript": [
              "download(\"download_1873c699-8bfe-4af5-919a-3c4b41651077\", \"data6_1.csv\", 220)"
            ]
          },
          "metadata": {}
        }
      ]
    },
    {
      "cell_type": "code",
      "source": [
        "pyplot.plot(history4.history['loss'])\n",
        "pyplot.plot(history4.history['accuracy'])\n",
        "pyplot.title('model loss vs accuracy')\n",
        "pyplot.xlabel('epoch')\n",
        "pyplot.legend(['loss', 'accuracy'], loc='upper right')\n",
        "pyplot.show()"
      ],
      "metadata": {
        "colab": {
          "base_uri": "https://localhost:8080/",
          "height": 295
        },
        "outputId": "d7aded54-d37c-4ced-e626-adfa081247e8",
        "id": "Pi_8m3x3W0Tv"
      },
      "execution_count": null,
      "outputs": [
        {
          "output_type": "display_data",
          "data": {
            "text/plain": [
              "<Figure size 432x288 with 1 Axes>"
            ],
            "image/png": "[encoded data removed]"
          },
          "metadata": {
            "needs_background": "light"
          }
        }
      ]
    },
    {
      "cell_type": "code",
      "source": [
        "test_loss, test_acc = model.evaluate(X_test, Y_test, verbose=2)\n",
        "\n",
        "print('\\nTest accuracy:', test_acc)"
      ],
      "metadata": {
        "colab": {
          "base_uri": "https://localhost:8080/"
        },
        "outputId": "b6c55b6a-c1d9-4720-eb74-5c5f1e81425d",
        "id": "BW4e4lmyW0Tv"
      },
      "execution_count": null,
      "outputs": [
        {
          "output_type": "stream",
          "name": "stdout",
          "text": [
            "18/18 - 3s - loss: 0.3376 - accuracy: 0.8934 - 3s/epoch - 156ms/step\n",
            "\n",
            "Test accuracy: 0.8934280872344971\n"
          ]
        }
      ]
    },
    {
      "cell_type": "code",
      "source": [
        "# Test the model after training\n",
        "test_results = model.evaluate(X_test, Y_test, verbose=False)\n",
        "#print(f'Test results - Loss: {test_results[0]} - Accuracy: {100*test_results[1]}%')\n",
        "test_results"
      ],
      "metadata": {
        "colab": {
          "base_uri": "https://localhost:8080/"
        },
        "outputId": "521a80e9-ba23-4cbf-8704-f3d1e51e3e69",
        "id": "4rzgLsfRW0Tv"
      },
      "execution_count": null,
      "outputs": [
        {
          "output_type": "execute_result",
          "data": {
            "text/plain": [
              "[0.33758318424224854, 0.8934280872344971]"
            ]
          },
          "metadata": {},
          "execution_count": 170
        }
      ]
    },
    {
      "cell_type": "markdown",
      "source": [
        "# -- End of Notebook --"
      ],
      "metadata": {
        "id": "8NmhaVtJYVbQ"
      }
    },
    {
      "cell_type": "code",
      "source": [],
      "metadata": {
        "id": "xce3iLV3YOlP"
      },
      "execution_count": null,
      "outputs": []
    },
    {
      "cell_type": "code",
      "source": [],
      "metadata": {
        "id": "BRgHUBl_YO3w"
      },
      "execution_count": null,
      "outputs": []
    },
    {
      "cell_type": "code",
      "source": [],
      "metadata": {
        "id": "CufHOnjMYO62"
      },
      "execution_count": null,
      "outputs": []
    },
    {
      "cell_type": "code",
      "source": [],
      "metadata": {
        "id": "4FbdZxxHYO9u"
      },
      "execution_count": null,
      "outputs": []
    },
    {
      "cell_type": "code",
      "source": [],
      "metadata": {
        "id": "BxdkLFkGYPAw"
      },
      "execution_count": null,
      "outputs": []
    },
    {
      "cell_type": "code",
      "source": [],
      "metadata": {
        "id": "Bi30nt79YPDn"
      },
      "execution_count": null,
      "outputs": []
    },
    {
      "cell_type": "code",
      "source": [],
      "metadata": {
        "id": "8b5YnCKnYPG4"
      },
      "execution_count": null,
      "outputs": []
    },
    {
      "cell_type": "code",
      "source": [],
      "metadata": {
        "id": "C0pPZ2HdYPKc"
      },
      "execution_count": null,
      "outputs": []
    },
    {
      "cell_type": "code",
      "source": [],
      "metadata": {
        "id": "JnTMAVGhYPSm"
      },
      "execution_count": null,
      "outputs": []
    },
    {
      "cell_type": "code",
      "source": [],
      "metadata": {
        "id": "R0wA6nxLYPV5"
      },
      "execution_count": null,
      "outputs": []
    },
    {
      "cell_type": "code",
      "source": [],
      "metadata": {
        "id": "jQ9Xu2l3YPZS"
      },
      "execution_count": null,
      "outputs": []
    },
    {
      "cell_type": "code",
      "source": [],
      "metadata": {
        "id": "HRYGeUiBYPfU"
      },
      "execution_count": null,
      "outputs": []
    },
    {
      "cell_type": "code",
      "source": [],
      "metadata": {
        "id": "aR6ihxY_YPiU"
      },
      "execution_count": null,
      "outputs": []
    },
    {
      "cell_type": "code",
      "source": [],
      "metadata": {
        "id": "UuAArD9lYPlv"
      },
      "execution_count": null,
      "outputs": []
    },
    {
      "cell_type": "code",
      "source": [],
      "metadata": {
        "id": "t36pctebYPos"
      },
      "execution_count": null,
      "outputs": []
    },
    {
      "cell_type": "code",
      "source": [],
      "metadata": {
        "id": "Gwe3PsVuYPr0"
      },
      "execution_count": null,
      "outputs": []
    },
    {
      "cell_type": "code",
      "source": [],
      "metadata": {
        "id": "WM7zoXksYPvQ"
      },
      "execution_count": null,
      "outputs": []
    },
    {
      "cell_type": "code",
      "source": [
        "x,y = load_dataset_files(labels_file,embeddings_file)"
      ],
      "metadata": {
        "id": "phyQcQ8oIlx5"
      },
      "execution_count": null,
      "outputs": []
    },
    {
      "cell_type": "code",
      "source": [
        "df = pd.DataFrame(x,columns=[(\"emb\"+str(num)) for num in range(1,129)]) # Dataframe to get all embeddings program wise\n",
        "df"
      ],
      "metadata": {
        "colab": {
          "base_uri": "https://localhost:8080/",
          "height": 488
        },
        "id": "Ca5lIlX2Kg8g",
        "outputId": "49bf1663-cac6-48f0-b546-9dd353a9afe4"
      },
      "execution_count": null,
      "outputs": [
        {
          "output_type": "execute_result",
          "data": {
            "text/plain": [
              "         emb1      emb2      emb3      emb4      emb5      emb6      emb7  \\\n",
              "0   -0.054682  0.127175  0.036648  0.090353  0.192498  0.043540 -0.060334   \n",
              "1   -0.095235  0.175034  0.063935  0.117448  0.255929  0.064811 -0.072923   \n",
              "2   -0.135813  0.219436  0.102143  0.135153  0.286394  0.068151 -0.078952   \n",
              "3    0.270222  0.300358 -0.445603  0.196632  0.531115  0.433794 -0.261992   \n",
              "4    0.102710  0.177498 -0.326135  0.302662  0.256015  0.207272 -0.175998   \n",
              "..        ...       ...       ...       ...       ...       ...       ...   \n",
              "735  0.162677 -0.179751 -0.320467  0.374476  0.487395 -0.065953 -0.380204   \n",
              "736  0.183020 -0.166014 -0.231057  0.452174  0.562882 -0.138434 -0.443576   \n",
              "737  0.184769 -0.201651 -0.235364  0.446800  0.547860 -0.155865 -0.472018   \n",
              "738  0.255681 -0.193824 -0.382822  0.447094  0.499922 -0.083941 -0.402473   \n",
              "739  0.782572 -0.163111 -0.738689  0.510340  0.762960  0.278493 -0.506301   \n",
              "\n",
              "         emb8      emb9     emb10  ...    emb119    emb120    emb121  \\\n",
              "0   -0.037632 -0.001838  0.116995  ... -0.125052 -0.049275 -0.131080   \n",
              "1   -0.032716  0.013575  0.152739  ... -0.191601 -0.024092 -0.185713   \n",
              "2   -0.003041  0.021949  0.182400  ... -0.259607  0.008541 -0.236532   \n",
              "3   -0.074271 -0.215854 -0.061681  ... -0.392645 -0.586666 -0.216605   \n",
              "4   -0.057321  0.000238  0.019773  ... -0.449514 -0.386576 -0.253997   \n",
              "..        ...       ...       ...  ...       ...       ...       ...   \n",
              "735 -0.143154 -0.065873  0.257494  ... -0.329598 -0.397525  0.117815   \n",
              "736 -0.284463 -0.054835  0.159889  ... -0.263365 -0.445122  0.000230   \n",
              "737 -0.309393 -0.079808  0.205073  ... -0.239681 -0.489142 -0.006414   \n",
              "738 -0.251599 -0.028515  0.150684  ... -0.323401 -0.498780  0.046986   \n",
              "739 -0.299853 -0.460638 -0.063568  ... -0.437831 -1.165067  0.113273   \n",
              "\n",
              "       emb122    emb123    emb124    emb125    emb126    emb127    emb128  \n",
              "0    0.002272 -0.017875 -0.209266  0.199226  0.097312 -0.107657  0.081840  \n",
              "1   -0.016963 -0.040366 -0.277818  0.261729  0.118124 -0.125564  0.130719  \n",
              "2   -0.032249 -0.071049 -0.334604  0.334102  0.128357 -0.144719  0.192227  \n",
              "3   -0.092687 -0.081682 -0.599847  0.550452  0.468392 -0.247837  0.087675  \n",
              "4   -0.026445 -0.061492 -0.581163  0.442037  0.418021 -0.194271  0.098900  \n",
              "..        ...       ...       ...       ...       ...       ...       ...  \n",
              "735  0.099337 -0.094519 -0.544291  0.213452  0.262748 -0.306325 -0.224609  \n",
              "736  0.095979 -0.063981 -0.603873  0.114075  0.222806 -0.317638 -0.290131  \n",
              "737  0.128634 -0.109084 -0.605826  0.106701  0.230898 -0.321285 -0.266228  \n",
              "738  0.124914 -0.117825 -0.633948  0.106924  0.273179 -0.336416 -0.300430  \n",
              "739  0.033455 -0.083436 -0.703199  0.322280  0.512571 -0.172656 -0.565512  \n",
              "\n",
              "[740 rows x 128 columns]"
            ],
            "text/html": [
              "\n",
              "  <div id=\"df-e27d5ac9-e196-44b4-904e-1cd862e84810\">\n",
              "    <div class=\"colab-df-container\">\n",
              "      <div>\n",
              "<style scoped>\n",
              "    .dataframe tbody tr th:only-of-type {\n",
              "        vertical-align: middle;\n",
              "    }\n",
              "\n",
              "    .dataframe tbody tr th {\n",
              "        vertical-align: top;\n",
              "    }\n",
              "\n",
              "    .dataframe thead th {\n",
              "        text-align: right;\n",
              "    }\n",
              "</style>\n",
              "<table border=\"1\" class=\"dataframe\">\n",
              "  <thead>\n",
              "    <tr style=\"text-align: right;\">\n",
              "      <th></th>\n",
              "      <th>emb1</th>\n",
              "      <th>emb2</th>\n",
              "      <th>emb3</th>\n",
              "      <th>emb4</th>\n",
              "      <th>emb5</th>\n",
              "      <th>emb6</th>\n",
              "      <th>emb7</th>\n",
              "      <th>emb8</th>\n",
              "      <th>emb9</th>\n",
              "      <th>emb10</th>\n",
              "      <th>...</th>\n",
              "      <th>emb119</th>\n",
              "      <th>emb120</th>\n",
              "      <th>emb121</th>\n",
              "      <th>emb122</th>\n",
              "      <th>emb123</th>\n",
              "      <th>emb124</th>\n",
              "      <th>emb125</th>\n",
              "      <th>emb126</th>\n",
              "      <th>emb127</th>\n",
              "      <th>emb128</th>\n",
              "    </tr>\n",
              "  </thead>\n",
              "  <tbody>\n",
              "    <tr>\n",
              "      <th>0</th>\n",
              "      <td>-0.054682</td>\n",
              "      <td>0.127175</td>\n",
              "      <td>0.036648</td>\n",
              "      <td>0.090353</td>\n",
              "      <td>0.192498</td>\n",
              "      <td>0.043540</td>\n",
              "      <td>-0.060334</td>\n",
              "      <td>-0.037632</td>\n",
              "      <td>-0.001838</td>\n",
              "      <td>0.116995</td>\n",
              "      <td>...</td>\n",
              "      <td>-0.125052</td>\n",
              "      <td>-0.049275</td>\n",
              "      <td>-0.131080</td>\n",
              "      <td>0.002272</td>\n",
              "      <td>-0.017875</td>\n",
              "      <td>-0.209266</td>\n",
              "      <td>0.199226</td>\n",
              "      <td>0.097312</td>\n",
              "      <td>-0.107657</td>\n",
              "      <td>0.081840</td>\n",
              "    </tr>\n",
              "    <tr>\n",
              "      <th>1</th>\n",
              "      <td>-0.095235</td>\n",
              "      <td>0.175034</td>\n",
              "      <td>0.063935</td>\n",
              "      <td>0.117448</td>\n",
              "      <td>0.255929</td>\n",
              "      <td>0.064811</td>\n",
              "      <td>-0.072923</td>\n",
              "      <td>-0.032716</td>\n",
              "      <td>0.013575</td>\n",
              "      <td>0.152739</td>\n",
              "      <td>...</td>\n",
              "      <td>-0.191601</td>\n",
              "      <td>-0.024092</td>\n",
              "      <td>-0.185713</td>\n",
              "      <td>-0.016963</td>\n",
              "      <td>-0.040366</td>\n",
              "      <td>-0.277818</td>\n",
              "      <td>0.261729</td>\n",
              "      <td>0.118124</td>\n",
              "      <td>-0.125564</td>\n",
              "      <td>0.130719</td>\n",
              "    </tr>\n",
              "    <tr>\n",
              "      <th>2</th>\n",
              "      <td>-0.135813</td>\n",
              "      <td>0.219436</td>\n",
              "      <td>0.102143</td>\n",
              "      <td>0.135153</td>\n",
              "      <td>0.286394</td>\n",
              "      <td>0.068151</td>\n",
              "      <td>-0.078952</td>\n",
              "      <td>-0.003041</td>\n",
              "      <td>0.021949</td>\n",
              "      <td>0.182400</td>\n",
              "      <td>...</td>\n",
              "      <td>-0.259607</td>\n",
              "      <td>0.008541</td>\n",
              "      <td>-0.236532</td>\n",
              "      <td>-0.032249</td>\n",
              "      <td>-0.071049</td>\n",
              "      <td>-0.334604</td>\n",
              "      <td>0.334102</td>\n",
              "      <td>0.128357</td>\n",
              "      <td>-0.144719</td>\n",
              "      <td>0.192227</td>\n",
              "    </tr>\n",
              "    <tr>\n",
              "      <th>3</th>\n",
              "      <td>0.270222</td>\n",
              "      <td>0.300358</td>\n",
              "      <td>-0.445603</td>\n",
              "      <td>0.196632</td>\n",
              "      <td>0.531115</td>\n",
              "      <td>0.433794</td>\n",
              "      <td>-0.261992</td>\n",
              "      <td>-0.074271</td>\n",
              "      <td>-0.215854</td>\n",
              "      <td>-0.061681</td>\n",
              "      <td>...</td>\n",
              "      <td>-0.392645</td>\n",
              "      <td>-0.586666</td>\n",
              "      <td>-0.216605</td>\n",
              "      <td>-0.092687</td>\n",
              "      <td>-0.081682</td>\n",
              "      <td>-0.599847</td>\n",
              "      <td>0.550452</td>\n",
              "      <td>0.468392</td>\n",
              "      <td>-0.247837</td>\n",
              "      <td>0.087675</td>\n",
              "    </tr>\n",
              "    <tr>\n",
              "      <th>4</th>\n",
              "      <td>0.102710</td>\n",
              "      <td>0.177498</td>\n",
              "      <td>-0.326135</td>\n",
              "      <td>0.302662</td>\n",
              "      <td>0.256015</td>\n",
              "      <td>0.207272</td>\n",
              "      <td>-0.175998</td>\n",
              "      <td>-0.057321</td>\n",
              "      <td>0.000238</td>\n",
              "      <td>0.019773</td>\n",
              "      <td>...</td>\n",
              "      <td>-0.449514</td>\n",
              "      <td>-0.386576</td>\n",
              "      <td>-0.253997</td>\n",
              "      <td>-0.026445</td>\n",
              "      <td>-0.061492</td>\n",
              "      <td>-0.581163</td>\n",
              "      <td>0.442037</td>\n",
              "      <td>0.418021</td>\n",
              "      <td>-0.194271</td>\n",
              "      <td>0.098900</td>\n",
              "    </tr>\n",
              "    <tr>\n",
              "      <th>...</th>\n",
              "      <td>...</td>\n",
              "      <td>...</td>\n",
              "      <td>...</td>\n",
              "      <td>...</td>\n",
              "      <td>...</td>\n",
              "      <td>...</td>\n",
              "      <td>...</td>\n",
              "      <td>...</td>\n",
              "      <td>...</td>\n",
              "      <td>...</td>\n",
              "      <td>...</td>\n",
              "      <td>...</td>\n",
              "      <td>...</td>\n",
              "      <td>...</td>\n",
              "      <td>...</td>\n",
              "      <td>...</td>\n",
              "      <td>...</td>\n",
              "      <td>...</td>\n",
              "      <td>...</td>\n",
              "      <td>...</td>\n",
              "      <td>...</td>\n",
              "    </tr>\n",
              "    <tr>\n",
              "      <th>735</th>\n",
              "      <td>0.162677</td>\n",
              "      <td>-0.179751</td>\n",
              "      <td>-0.320467</td>\n",
              "      <td>0.374476</td>\n",
              "      <td>0.487395</td>\n",
              "      <td>-0.065953</td>\n",
              "      <td>-0.380204</td>\n",
              "      <td>-0.143154</td>\n",
              "      <td>-0.065873</td>\n",
              "      <td>0.257494</td>\n",
              "      <td>...</td>\n",
              "      <td>-0.329598</td>\n",
              "      <td>-0.397525</td>\n",
              "      <td>0.117815</td>\n",
              "      <td>0.099337</td>\n",
              "      <td>-0.094519</td>\n",
              "      <td>-0.544291</td>\n",
              "      <td>0.213452</td>\n",
              "      <td>0.262748</td>\n",
              "      <td>-0.306325</td>\n",
              "      <td>-0.224609</td>\n",
              "    </tr>\n",
              "    <tr>\n",
              "      <th>736</th>\n",
              "      <td>0.183020</td>\n",
              "      <td>-0.166014</td>\n",
              "      <td>-0.231057</td>\n",
              "      <td>0.452174</td>\n",
              "      <td>0.562882</td>\n",
              "      <td>-0.138434</td>\n",
              "      <td>-0.443576</td>\n",
              "      <td>-0.284463</td>\n",
              "      <td>-0.054835</td>\n",
              "      <td>0.159889</td>\n",
              "      <td>...</td>\n",
              "      <td>-0.263365</td>\n",
              "      <td>-0.445122</td>\n",
              "      <td>0.000230</td>\n",
              "      <td>0.095979</td>\n",
              "      <td>-0.063981</td>\n",
              "      <td>-0.603873</td>\n",
              "      <td>0.114075</td>\n",
              "      <td>0.222806</td>\n",
              "      <td>-0.317638</td>\n",
              "      <td>-0.290131</td>\n",
              "    </tr>\n",
              "    <tr>\n",
              "      <th>737</th>\n",
              "      <td>0.184769</td>\n",
              "      <td>-0.201651</td>\n",
              "      <td>-0.235364</td>\n",
              "      <td>0.446800</td>\n",
              "      <td>0.547860</td>\n",
              "      <td>-0.155865</td>\n",
              "      <td>-0.472018</td>\n",
              "      <td>-0.309393</td>\n",
              "      <td>-0.079808</td>\n",
              "      <td>0.205073</td>\n",
              "      <td>...</td>\n",
              "      <td>-0.239681</td>\n",
              "      <td>-0.489142</td>\n",
              "      <td>-0.006414</td>\n",
              "      <td>0.128634</td>\n",
              "      <td>-0.109084</td>\n",
              "      <td>-0.605826</td>\n",
              "      <td>0.106701</td>\n",
              "      <td>0.230898</td>\n",
              "      <td>-0.321285</td>\n",
              "      <td>-0.266228</td>\n",
              "    </tr>\n",
              "    <tr>\n",
              "      <th>738</th>\n",
              "      <td>0.255681</td>\n",
              "      <td>-0.193824</td>\n",
              "      <td>-0.382822</td>\n",
              "      <td>0.447094</td>\n",
              "      <td>0.499922</td>\n",
              "      <td>-0.083941</td>\n",
              "      <td>-0.402473</td>\n",
              "      <td>-0.251599</td>\n",
              "      <td>-0.028515</td>\n",
              "      <td>0.150684</td>\n",
              "      <td>...</td>\n",
              "      <td>-0.323401</td>\n",
              "      <td>-0.498780</td>\n",
              "      <td>0.046986</td>\n",
              "      <td>0.124914</td>\n",
              "      <td>-0.117825</td>\n",
              "      <td>-0.633948</td>\n",
              "      <td>0.106924</td>\n",
              "      <td>0.273179</td>\n",
              "      <td>-0.336416</td>\n",
              "      <td>-0.300430</td>\n",
              "    </tr>\n",
              "    <tr>\n",
              "      <th>739</th>\n",
              "      <td>0.782572</td>\n",
              "      <td>-0.163111</td>\n",
              "      <td>-0.738689</td>\n",
              "      <td>0.510340</td>\n",
              "      <td>0.762960</td>\n",
              "      <td>0.278493</td>\n",
              "      <td>-0.506301</td>\n",
              "      <td>-0.299853</td>\n",
              "      <td>-0.460638</td>\n",
              "      <td>-0.063568</td>\n",
              "      <td>...</td>\n",
              "      <td>-0.437831</td>\n",
              "      <td>-1.165067</td>\n",
              "      <td>0.113273</td>\n",
              "      <td>0.033455</td>\n",
              "      <td>-0.083436</td>\n",
              "      <td>-0.703199</td>\n",
              "      <td>0.322280</td>\n",
              "      <td>0.512571</td>\n",
              "      <td>-0.172656</td>\n",
              "      <td>-0.565512</td>\n",
              "    </tr>\n",
              "  </tbody>\n",
              "</table>\n",
              "<p>740 rows × 128 columns</p>\n",
              "</div>\n",
              "      <button class=\"colab-df-convert\" onclick=\"convertToInteractive('df-e27d5ac9-e196-44b4-904e-1cd862e84810')\"\n",
              "              title=\"Convert this dataframe to an interactive table.\"\n",
              "              style=\"display:none;\">\n",
              "        \n",
              "  <svg xmlns=\"http://www.w3.org/2000/svg\" height=\"24px\"viewBox=\"0 0 24 24\"\n",
              "       width=\"24px\">\n",
              "    <path d=\"M0 0h24v24H0V0z\" fill=\"none\"/>\n",
              "    <path d=\"M18.56 5.44l.94 2.06.94-2.06 2.06-.94-2.06-.94-.94-2.06-.94 2.06-2.06.94zm-11 1L8.5 8.5l.94-2.06 2.06-.94-2.06-.94L8.5 2.5l-.94 2.06-2.06.94zm10 10l.94 2.06.94-2.06 2.06-.94-2.06-.94-.94-2.06-.94 2.06-2.06.94z\"/><path d=\"M17.41 7.96l-1.37-1.37c-.4-.4-.92-.59-1.43-.59-.52 0-1.04.2-1.43.59L10.3 9.45l-7.72 7.72c-.78.78-.78 2.05 0 2.83L4 21.41c.39.39.9.59 1.41.59.51 0 1.02-.2 1.41-.59l7.78-7.78 2.81-2.81c.8-.78.8-2.07 0-2.86zM5.41 20L4 18.59l7.72-7.72 1.47 1.35L5.41 20z\"/>\n",
              "  </svg>\n",
              "      </button>\n",
              "      \n",
              "  <style>\n",
              "    .colab-df-container {\n",
              "      display:flex;\n",
              "      flex-wrap:wrap;\n",
              "      gap: 12px;\n",
              "    }\n",
              "\n",
              "    .colab-df-convert {\n",
              "      background-color: #E8F0FE;\n",
              "      border: none;\n",
              "      border-radius: 50%;\n",
              "      cursor: pointer;\n",
              "      display: none;\n",
              "      fill: #1967D2;\n",
              "      height: 32px;\n",
              "      padding: 0 0 0 0;\n",
              "      width: 32px;\n",
              "    }\n",
              "\n",
              "    .colab-df-convert:hover {\n",
              "      background-color: #E2EBFA;\n",
              "      box-shadow: 0px 1px 2px rgba(60, 64, 67, 0.3), 0px 1px 3px 1px rgba(60, 64, 67, 0.15);\n",
              "      fill: #174EA6;\n",
              "    }\n",
              "\n",
              "    [theme=dark] .colab-df-convert {\n",
              "      background-color: #3B4455;\n",
              "      fill: #D2E3FC;\n",
              "    }\n",
              "\n",
              "    [theme=dark] .colab-df-convert:hover {\n",
              "      background-color: #434B5C;\n",
              "      box-shadow: 0px 1px 3px 1px rgba(0, 0, 0, 0.15);\n",
              "      filter: drop-shadow(0px 1px 2px rgba(0, 0, 0, 0.3));\n",
              "      fill: #FFFFFF;\n",
              "    }\n",
              "  </style>\n",
              "\n",
              "      <script>\n",
              "        const buttonEl =\n",
              "          document.querySelector('#df-e27d5ac9-e196-44b4-904e-1cd862e84810 button.colab-df-convert');\n",
              "        buttonEl.style.display =\n",
              "          google.colab.kernel.accessAllowed ? 'block' : 'none';\n",
              "\n",
              "        async function convertToInteractive(key) {\n",
              "          const element = document.querySelector('#df-e27d5ac9-e196-44b4-904e-1cd862e84810');\n",
              "          const dataTable =\n",
              "            await google.colab.kernel.invokeFunction('convertToInteractive',\n",
              "                                                     [key], {});\n",
              "          if (!dataTable) return;\n",
              "\n",
              "          const docLinkHtml = 'Like what you see? Visit the ' +\n",
              "            '<a target=\"_blank\" href=https://colab.research.google.com/notebooks/data_table.ipynb>data table notebook</a>'\n",
              "            + ' to learn more about interactive tables.';\n",
              "          element.innerHTML = '';\n",
              "          dataTable['output_type'] = 'display_data';\n",
              "          await google.colab.output.renderOutput(dataTable, element);\n",
              "          const docLink = document.createElement('div');\n",
              "          docLink.innerHTML = docLinkHtml;\n",
              "          element.appendChild(docLink);\n",
              "        }\n",
              "      </script>\n",
              "    </div>\n",
              "  </div>\n",
              "  "
            ]
          },
          "metadata": {},
          "execution_count": 135
        }
      ]
    },
    {
      "cell_type": "code",
      "source": [
        "df_y = pd.read_csv(labels_file, sep = \" \", header=None, names=[\"Complexity\", \"Node Number\", \"Language\"])\n",
        "df_y"
      ],
      "metadata": {
        "colab": {
          "base_uri": "https://localhost:8080/",
          "height": 424
        },
        "id": "jnYepbcnL7nT",
        "outputId": "c8669a49-2f1c-4305-ec08-d48ab5a59f41"
      },
      "execution_count": null,
      "outputs": [
        {
          "output_type": "execute_result",
          "data": {
            "text/plain": [
              "    Complexity Node Number Language\n",
              "0         O(1)      nodes0        C\n",
              "1        O(2n)      nodes0        C\n",
              "2        O(2n)      nodes1        C\n",
              "3      O(logN)      nodes0        C\n",
              "4      O(logN)      nodes1        C\n",
              "..         ...         ...      ...\n",
              "735   O(NlogN)      nodes5     Java\n",
              "736   O(NlogN)      nodes6     Java\n",
              "737   O(NlogN)      nodes7     Java\n",
              "738   O(NlogN)      nodes8     Java\n",
              "739   O(NlogN)      nodes9     Java\n",
              "\n",
              "[740 rows x 3 columns]"
            ],
            "text/html": [
              "\n",
              "  <div id=\"df-771c6cdc-fc75-4de7-a573-310f5a3a58af\">\n",
              "    <div class=\"colab-df-container\">\n",
              "      <div>\n",
              "<style scoped>\n",
              "    .dataframe tbody tr th:only-of-type {\n",
              "        vertical-align: middle;\n",
              "    }\n",
              "\n",
              "    .dataframe tbody tr th {\n",
              "        vertical-align: top;\n",
              "    }\n",
              "\n",
              "    .dataframe thead th {\n",
              "        text-align: right;\n",
              "    }\n",
              "</style>\n",
              "<table border=\"1\" class=\"dataframe\">\n",
              "  <thead>\n",
              "    <tr style=\"text-align: right;\">\n",
              "      <th></th>\n",
              "      <th>Complexity</th>\n",
              "      <th>Node Number</th>\n",
              "      <th>Language</th>\n",
              "    </tr>\n",
              "  </thead>\n",
              "  <tbody>\n",
              "    <tr>\n",
              "      <th>0</th>\n",
              "      <td>O(1)</td>\n",
              "      <td>nodes0</td>\n",
              "      <td>C</td>\n",
              "    </tr>\n",
              "    <tr>\n",
              "      <th>1</th>\n",
              "      <td>O(2n)</td>\n",
              "      <td>nodes0</td>\n",
              "      <td>C</td>\n",
              "    </tr>\n",
              "    <tr>\n",
              "      <th>2</th>\n",
              "      <td>O(2n)</td>\n",
              "      <td>nodes1</td>\n",
              "      <td>C</td>\n",
              "    </tr>\n",
              "    <tr>\n",
              "      <th>3</th>\n",
              "      <td>O(logN)</td>\n",
              "      <td>nodes0</td>\n",
              "      <td>C</td>\n",
              "    </tr>\n",
              "    <tr>\n",
              "      <th>4</th>\n",
              "      <td>O(logN)</td>\n",
              "      <td>nodes1</td>\n",
              "      <td>C</td>\n",
              "    </tr>\n",
              "    <tr>\n",
              "      <th>...</th>\n",
              "      <td>...</td>\n",
              "      <td>...</td>\n",
              "      <td>...</td>\n",
              "    </tr>\n",
              "    <tr>\n",
              "      <th>735</th>\n",
              "      <td>O(NlogN)</td>\n",
              "      <td>nodes5</td>\n",
              "      <td>Java</td>\n",
              "    </tr>\n",
              "    <tr>\n",
              "      <th>736</th>\n",
              "      <td>O(NlogN)</td>\n",
              "      <td>nodes6</td>\n",
              "      <td>Java</td>\n",
              "    </tr>\n",
              "    <tr>\n",
              "      <th>737</th>\n",
              "      <td>O(NlogN)</td>\n",
              "      <td>nodes7</td>\n",
              "      <td>Java</td>\n",
              "    </tr>\n",
              "    <tr>\n",
              "      <th>738</th>\n",
              "      <td>O(NlogN)</td>\n",
              "      <td>nodes8</td>\n",
              "      <td>Java</td>\n",
              "    </tr>\n",
              "    <tr>\n",
              "      <th>739</th>\n",
              "      <td>O(NlogN)</td>\n",
              "      <td>nodes9</td>\n",
              "      <td>Java</td>\n",
              "    </tr>\n",
              "  </tbody>\n",
              "</table>\n",
              "<p>740 rows × 3 columns</p>\n",
              "</div>\n",
              "      <button class=\"colab-df-convert\" onclick=\"convertToInteractive('df-771c6cdc-fc75-4de7-a573-310f5a3a58af')\"\n",
              "              title=\"Convert this dataframe to an interactive table.\"\n",
              "              style=\"display:none;\">\n",
              "        \n",
              "  <svg xmlns=\"http://www.w3.org/2000/svg\" height=\"24px\"viewBox=\"0 0 24 24\"\n",
              "       width=\"24px\">\n",
              "    <path d=\"M0 0h24v24H0V0z\" fill=\"none\"/>\n",
              "    <path d=\"M18.56 5.44l.94 2.06.94-2.06 2.06-.94-2.06-.94-.94-2.06-.94 2.06-2.06.94zm-11 1L8.5 8.5l.94-2.06 2.06-.94-2.06-.94L8.5 2.5l-.94 2.06-2.06.94zm10 10l.94 2.06.94-2.06 2.06-.94-2.06-.94-.94-2.06-.94 2.06-2.06.94z\"/><path d=\"M17.41 7.96l-1.37-1.37c-.4-.4-.92-.59-1.43-.59-.52 0-1.04.2-1.43.59L10.3 9.45l-7.72 7.72c-.78.78-.78 2.05 0 2.83L4 21.41c.39.39.9.59 1.41.59.51 0 1.02-.2 1.41-.59l7.78-7.78 2.81-2.81c.8-.78.8-2.07 0-2.86zM5.41 20L4 18.59l7.72-7.72 1.47 1.35L5.41 20z\"/>\n",
              "  </svg>\n",
              "      </button>\n",
              "      \n",
              "  <style>\n",
              "    .colab-df-container {\n",
              "      display:flex;\n",
              "      flex-wrap:wrap;\n",
              "      gap: 12px;\n",
              "    }\n",
              "\n",
              "    .colab-df-convert {\n",
              "      background-color: #E8F0FE;\n",
              "      border: none;\n",
              "      border-radius: 50%;\n",
              "      cursor: pointer;\n",
              "      display: none;\n",
              "      fill: #1967D2;\n",
              "      height: 32px;\n",
              "      padding: 0 0 0 0;\n",
              "      width: 32px;\n",
              "    }\n",
              "\n",
              "    .colab-df-convert:hover {\n",
              "      background-color: #E2EBFA;\n",
              "      box-shadow: 0px 1px 2px rgba(60, 64, 67, 0.3), 0px 1px 3px 1px rgba(60, 64, 67, 0.15);\n",
              "      fill: #174EA6;\n",
              "    }\n",
              "\n",
              "    [theme=dark] .colab-df-convert {\n",
              "      background-color: #3B4455;\n",
              "      fill: #D2E3FC;\n",
              "    }\n",
              "\n",
              "    [theme=dark] .colab-df-convert:hover {\n",
              "      background-color: #434B5C;\n",
              "      box-shadow: 0px 1px 3px 1px rgba(0, 0, 0, 0.15);\n",
              "      filter: drop-shadow(0px 1px 2px rgba(0, 0, 0, 0.3));\n",
              "      fill: #FFFFFF;\n",
              "    }\n",
              "  </style>\n",
              "\n",
              "      <script>\n",
              "        const buttonEl =\n",
              "          document.querySelector('#df-771c6cdc-fc75-4de7-a573-310f5a3a58af button.colab-df-convert');\n",
              "        buttonEl.style.display =\n",
              "          google.colab.kernel.accessAllowed ? 'block' : 'none';\n",
              "\n",
              "        async function convertToInteractive(key) {\n",
              "          const element = document.querySelector('#df-771c6cdc-fc75-4de7-a573-310f5a3a58af');\n",
              "          const dataTable =\n",
              "            await google.colab.kernel.invokeFunction('convertToInteractive',\n",
              "                                                     [key], {});\n",
              "          if (!dataTable) return;\n",
              "\n",
              "          const docLinkHtml = 'Like what you see? Visit the ' +\n",
              "            '<a target=\"_blank\" href=https://colab.research.google.com/notebooks/data_table.ipynb>data table notebook</a>'\n",
              "            + ' to learn more about interactive tables.';\n",
              "          element.innerHTML = '';\n",
              "          dataTable['output_type'] = 'display_data';\n",
              "          await google.colab.output.renderOutput(dataTable, element);\n",
              "          const docLink = document.createElement('div');\n",
              "          docLink.innerHTML = docLinkHtml;\n",
              "          element.appendChild(docLink);\n",
              "        }\n",
              "      </script>\n",
              "    </div>\n",
              "  </div>\n",
              "  "
            ]
          },
          "metadata": {},
          "execution_count": 136
        }
      ]
    },
    {
      "cell_type": "code",
      "source": [
        "df['Complexity'] = df_y['Complexity'] # Adding y label to each corresponding program's embeddings\n",
        "#df['Language']=df_y['Language']\n",
        "df"
      ],
      "metadata": {
        "colab": {
          "base_uri": "https://localhost:8080/",
          "height": 488
        },
        "id": "9KPHEM_VMBHo",
        "outputId": "52b6e59e-a028-4827-bb30-36cf3d0651ed"
      },
      "execution_count": null,
      "outputs": [
        {
          "output_type": "execute_result",
          "data": {
            "text/plain": [
              "         emb1      emb2      emb3      emb4      emb5      emb6      emb7  \\\n",
              "0   -0.054682  0.127175  0.036648  0.090353  0.192498  0.043540 -0.060334   \n",
              "1   -0.095235  0.175034  0.063935  0.117448  0.255929  0.064811 -0.072923   \n",
              "2   -0.135813  0.219436  0.102143  0.135153  0.286394  0.068151 -0.078952   \n",
              "3    0.270222  0.300358 -0.445603  0.196632  0.531115  0.433794 -0.261992   \n",
              "4    0.102710  0.177498 -0.326135  0.302662  0.256015  0.207272 -0.175998   \n",
              "..        ...       ...       ...       ...       ...       ...       ...   \n",
              "735  0.162677 -0.179751 -0.320467  0.374476  0.487395 -0.065953 -0.380204   \n",
              "736  0.183020 -0.166014 -0.231057  0.452174  0.562882 -0.138434 -0.443576   \n",
              "737  0.184769 -0.201651 -0.235364  0.446800  0.547860 -0.155865 -0.472018   \n",
              "738  0.255681 -0.193824 -0.382822  0.447094  0.499922 -0.083941 -0.402473   \n",
              "739  0.782572 -0.163111 -0.738689  0.510340  0.762960  0.278493 -0.506301   \n",
              "\n",
              "         emb8      emb9     emb10  ...    emb120    emb121    emb122  \\\n",
              "0   -0.037632 -0.001838  0.116995  ... -0.049275 -0.131080  0.002272   \n",
              "1   -0.032716  0.013575  0.152739  ... -0.024092 -0.185713 -0.016963   \n",
              "2   -0.003041  0.021949  0.182400  ...  0.008541 -0.236532 -0.032249   \n",
              "3   -0.074271 -0.215854 -0.061681  ... -0.586666 -0.216605 -0.092687   \n",
              "4   -0.057321  0.000238  0.019773  ... -0.386576 -0.253997 -0.026445   \n",
              "..        ...       ...       ...  ...       ...       ...       ...   \n",
              "735 -0.143154 -0.065873  0.257494  ... -0.397525  0.117815  0.099337   \n",
              "736 -0.284463 -0.054835  0.159889  ... -0.445122  0.000230  0.095979   \n",
              "737 -0.309393 -0.079808  0.205073  ... -0.489142 -0.006414  0.128634   \n",
              "738 -0.251599 -0.028515  0.150684  ... -0.498780  0.046986  0.124914   \n",
              "739 -0.299853 -0.460638 -0.063568  ... -1.165067  0.113273  0.033455   \n",
              "\n",
              "       emb123    emb124    emb125    emb126    emb127    emb128  Complexity  \n",
              "0   -0.017875 -0.209266  0.199226  0.097312 -0.107657  0.081840        O(1)  \n",
              "1   -0.040366 -0.277818  0.261729  0.118124 -0.125564  0.130719       O(2n)  \n",
              "2   -0.071049 -0.334604  0.334102  0.128357 -0.144719  0.192227       O(2n)  \n",
              "3   -0.081682 -0.599847  0.550452  0.468392 -0.247837  0.087675     O(logN)  \n",
              "4   -0.061492 -0.581163  0.442037  0.418021 -0.194271  0.098900     O(logN)  \n",
              "..        ...       ...       ...       ...       ...       ...         ...  \n",
              "735 -0.094519 -0.544291  0.213452  0.262748 -0.306325 -0.224609    O(NlogN)  \n",
              "736 -0.063981 -0.603873  0.114075  0.222806 -0.317638 -0.290131    O(NlogN)  \n",
              "737 -0.109084 -0.605826  0.106701  0.230898 -0.321285 -0.266228    O(NlogN)  \n",
              "738 -0.117825 -0.633948  0.106924  0.273179 -0.336416 -0.300430    O(NlogN)  \n",
              "739 -0.083436 -0.703199  0.322280  0.512571 -0.172656 -0.565512    O(NlogN)  \n",
              "\n",
              "[740 rows x 129 columns]"
            ],
            "text/html": [
              "\n",
              "  <div id=\"df-5de6ec87-f415-4f19-a36a-77b238249cd6\">\n",
              "    <div class=\"colab-df-container\">\n",
              "      <div>\n",
              "<style scoped>\n",
              "    .dataframe tbody tr th:only-of-type {\n",
              "        vertical-align: middle;\n",
              "    }\n",
              "\n",
              "    .dataframe tbody tr th {\n",
              "        vertical-align: top;\n",
              "    }\n",
              "\n",
              "    .dataframe thead th {\n",
              "        text-align: right;\n",
              "    }\n",
              "</style>\n",
              "<table border=\"1\" class=\"dataframe\">\n",
              "  <thead>\n",
              "    <tr style=\"text-align: right;\">\n",
              "      <th></th>\n",
              "      <th>emb1</th>\n",
              "      <th>emb2</th>\n",
              "      <th>emb3</th>\n",
              "      <th>emb4</th>\n",
              "      <th>emb5</th>\n",
              "      <th>emb6</th>\n",
              "      <th>emb7</th>\n",
              "      <th>emb8</th>\n",
              "      <th>emb9</th>\n",
              "      <th>emb10</th>\n",
              "      <th>...</th>\n",
              "      <th>emb120</th>\n",
              "      <th>emb121</th>\n",
              "      <th>emb122</th>\n",
              "      <th>emb123</th>\n",
              "      <th>emb124</th>\n",
              "      <th>emb125</th>\n",
              "      <th>emb126</th>\n",
              "      <th>emb127</th>\n",
              "      <th>emb128</th>\n",
              "      <th>Complexity</th>\n",
              "    </tr>\n",
              "  </thead>\n",
              "  <tbody>\n",
              "    <tr>\n",
              "      <th>0</th>\n",
              "      <td>-0.054682</td>\n",
              "      <td>0.127175</td>\n",
              "      <td>0.036648</td>\n",
              "      <td>0.090353</td>\n",
              "      <td>0.192498</td>\n",
              "      <td>0.043540</td>\n",
              "      <td>-0.060334</td>\n",
              "      <td>-0.037632</td>\n",
              "      <td>-0.001838</td>\n",
              "      <td>0.116995</td>\n",
              "      <td>...</td>\n",
              "      <td>-0.049275</td>\n",
              "      <td>-0.131080</td>\n",
              "      <td>0.002272</td>\n",
              "      <td>-0.017875</td>\n",
              "      <td>-0.209266</td>\n",
              "      <td>0.199226</td>\n",
              "      <td>0.097312</td>\n",
              "      <td>-0.107657</td>\n",
              "      <td>0.081840</td>\n",
              "      <td>O(1)</td>\n",
              "    </tr>\n",
              "    <tr>\n",
              "      <th>1</th>\n",
              "      <td>-0.095235</td>\n",
              "      <td>0.175034</td>\n",
              "      <td>0.063935</td>\n",
              "      <td>0.117448</td>\n",
              "      <td>0.255929</td>\n",
              "      <td>0.064811</td>\n",
              "      <td>-0.072923</td>\n",
              "      <td>-0.032716</td>\n",
              "      <td>0.013575</td>\n",
              "      <td>0.152739</td>\n",
              "      <td>...</td>\n",
              "      <td>-0.024092</td>\n",
              "      <td>-0.185713</td>\n",
              "      <td>-0.016963</td>\n",
              "      <td>-0.040366</td>\n",
              "      <td>-0.277818</td>\n",
              "      <td>0.261729</td>\n",
              "      <td>0.118124</td>\n",
              "      <td>-0.125564</td>\n",
              "      <td>0.130719</td>\n",
              "      <td>O(2n)</td>\n",
              "    </tr>\n",
              "    <tr>\n",
              "      <th>2</th>\n",
              "      <td>-0.135813</td>\n",
              "      <td>0.219436</td>\n",
              "      <td>0.102143</td>\n",
              "      <td>0.135153</td>\n",
              "      <td>0.286394</td>\n",
              "      <td>0.068151</td>\n",
              "      <td>-0.078952</td>\n",
              "      <td>-0.003041</td>\n",
              "      <td>0.021949</td>\n",
              "      <td>0.182400</td>\n",
              "      <td>...</td>\n",
              "      <td>0.008541</td>\n",
              "      <td>-0.236532</td>\n",
              "      <td>-0.032249</td>\n",
              "      <td>-0.071049</td>\n",
              "      <td>-0.334604</td>\n",
              "      <td>0.334102</td>\n",
              "      <td>0.128357</td>\n",
              "      <td>-0.144719</td>\n",
              "      <td>0.192227</td>\n",
              "      <td>O(2n)</td>\n",
              "    </tr>\n",
              "    <tr>\n",
              "      <th>3</th>\n",
              "      <td>0.270222</td>\n",
              "      <td>0.300358</td>\n",
              "      <td>-0.445603</td>\n",
              "      <td>0.196632</td>\n",
              "      <td>0.531115</td>\n",
              "      <td>0.433794</td>\n",
              "      <td>-0.261992</td>\n",
              "      <td>-0.074271</td>\n",
              "      <td>-0.215854</td>\n",
              "      <td>-0.061681</td>\n",
              "      <td>...</td>\n",
              "      <td>-0.586666</td>\n",
              "      <td>-0.216605</td>\n",
              "      <td>-0.092687</td>\n",
              "      <td>-0.081682</td>\n",
              "      <td>-0.599847</td>\n",
              "      <td>0.550452</td>\n",
              "      <td>0.468392</td>\n",
              "      <td>-0.247837</td>\n",
              "      <td>0.087675</td>\n",
              "      <td>O(logN)</td>\n",
              "    </tr>\n",
              "    <tr>\n",
              "      <th>4</th>\n",
              "      <td>0.102710</td>\n",
              "      <td>0.177498</td>\n",
              "      <td>-0.326135</td>\n",
              "      <td>0.302662</td>\n",
              "      <td>0.256015</td>\n",
              "      <td>0.207272</td>\n",
              "      <td>-0.175998</td>\n",
              "      <td>-0.057321</td>\n",
              "      <td>0.000238</td>\n",
              "      <td>0.019773</td>\n",
              "      <td>...</td>\n",
              "      <td>-0.386576</td>\n",
              "      <td>-0.253997</td>\n",
              "      <td>-0.026445</td>\n",
              "      <td>-0.061492</td>\n",
              "      <td>-0.581163</td>\n",
              "      <td>0.442037</td>\n",
              "      <td>0.418021</td>\n",
              "      <td>-0.194271</td>\n",
              "      <td>0.098900</td>\n",
              "      <td>O(logN)</td>\n",
              "    </tr>\n",
              "    <tr>\n",
              "      <th>...</th>\n",
              "      <td>...</td>\n",
              "      <td>...</td>\n",
              "      <td>...</td>\n",
              "      <td>...</td>\n",
              "      <td>...</td>\n",
              "      <td>...</td>\n",
              "      <td>...</td>\n",
              "      <td>...</td>\n",
              "      <td>...</td>\n",
              "      <td>...</td>\n",
              "      <td>...</td>\n",
              "      <td>...</td>\n",
              "      <td>...</td>\n",
              "      <td>...</td>\n",
              "      <td>...</td>\n",
              "      <td>...</td>\n",
              "      <td>...</td>\n",
              "      <td>...</td>\n",
              "      <td>...</td>\n",
              "      <td>...</td>\n",
              "      <td>...</td>\n",
              "    </tr>\n",
              "    <tr>\n",
              "      <th>735</th>\n",
              "      <td>0.162677</td>\n",
              "      <td>-0.179751</td>\n",
              "      <td>-0.320467</td>\n",
              "      <td>0.374476</td>\n",
              "      <td>0.487395</td>\n",
              "      <td>-0.065953</td>\n",
              "      <td>-0.380204</td>\n",
              "      <td>-0.143154</td>\n",
              "      <td>-0.065873</td>\n",
              "      <td>0.257494</td>\n",
              "      <td>...</td>\n",
              "      <td>-0.397525</td>\n",
              "      <td>0.117815</td>\n",
              "      <td>0.099337</td>\n",
              "      <td>-0.094519</td>\n",
              "      <td>-0.544291</td>\n",
              "      <td>0.213452</td>\n",
              "      <td>0.262748</td>\n",
              "      <td>-0.306325</td>\n",
              "      <td>-0.224609</td>\n",
              "      <td>O(NlogN)</td>\n",
              "    </tr>\n",
              "    <tr>\n",
              "      <th>736</th>\n",
              "      <td>0.183020</td>\n",
              "      <td>-0.166014</td>\n",
              "      <td>-0.231057</td>\n",
              "      <td>0.452174</td>\n",
              "      <td>0.562882</td>\n",
              "      <td>-0.138434</td>\n",
              "      <td>-0.443576</td>\n",
              "      <td>-0.284463</td>\n",
              "      <td>-0.054835</td>\n",
              "      <td>0.159889</td>\n",
              "      <td>...</td>\n",
              "      <td>-0.445122</td>\n",
              "      <td>0.000230</td>\n",
              "      <td>0.095979</td>\n",
              "      <td>-0.063981</td>\n",
              "      <td>-0.603873</td>\n",
              "      <td>0.114075</td>\n",
              "      <td>0.222806</td>\n",
              "      <td>-0.317638</td>\n",
              "      <td>-0.290131</td>\n",
              "      <td>O(NlogN)</td>\n",
              "    </tr>\n",
              "    <tr>\n",
              "      <th>737</th>\n",
              "      <td>0.184769</td>\n",
              "      <td>-0.201651</td>\n",
              "      <td>-0.235364</td>\n",
              "      <td>0.446800</td>\n",
              "      <td>0.547860</td>\n",
              "      <td>-0.155865</td>\n",
              "      <td>-0.472018</td>\n",
              "      <td>-0.309393</td>\n",
              "      <td>-0.079808</td>\n",
              "      <td>0.205073</td>\n",
              "      <td>...</td>\n",
              "      <td>-0.489142</td>\n",
              "      <td>-0.006414</td>\n",
              "      <td>0.128634</td>\n",
              "      <td>-0.109084</td>\n",
              "      <td>-0.605826</td>\n",
              "      <td>0.106701</td>\n",
              "      <td>0.230898</td>\n",
              "      <td>-0.321285</td>\n",
              "      <td>-0.266228</td>\n",
              "      <td>O(NlogN)</td>\n",
              "    </tr>\n",
              "    <tr>\n",
              "      <th>738</th>\n",
              "      <td>0.255681</td>\n",
              "      <td>-0.193824</td>\n",
              "      <td>-0.382822</td>\n",
              "      <td>0.447094</td>\n",
              "      <td>0.499922</td>\n",
              "      <td>-0.083941</td>\n",
              "      <td>-0.402473</td>\n",
              "      <td>-0.251599</td>\n",
              "      <td>-0.028515</td>\n",
              "      <td>0.150684</td>\n",
              "      <td>...</td>\n",
              "      <td>-0.498780</td>\n",
              "      <td>0.046986</td>\n",
              "      <td>0.124914</td>\n",
              "      <td>-0.117825</td>\n",
              "      <td>-0.633948</td>\n",
              "      <td>0.106924</td>\n",
              "      <td>0.273179</td>\n",
              "      <td>-0.336416</td>\n",
              "      <td>-0.300430</td>\n",
              "      <td>O(NlogN)</td>\n",
              "    </tr>\n",
              "    <tr>\n",
              "      <th>739</th>\n",
              "      <td>0.782572</td>\n",
              "      <td>-0.163111</td>\n",
              "      <td>-0.738689</td>\n",
              "      <td>0.510340</td>\n",
              "      <td>0.762960</td>\n",
              "      <td>0.278493</td>\n",
              "      <td>-0.506301</td>\n",
              "      <td>-0.299853</td>\n",
              "      <td>-0.460638</td>\n",
              "      <td>-0.063568</td>\n",
              "      <td>...</td>\n",
              "      <td>-1.165067</td>\n",
              "      <td>0.113273</td>\n",
              "      <td>0.033455</td>\n",
              "      <td>-0.083436</td>\n",
              "      <td>-0.703199</td>\n",
              "      <td>0.322280</td>\n",
              "      <td>0.512571</td>\n",
              "      <td>-0.172656</td>\n",
              "      <td>-0.565512</td>\n",
              "      <td>O(NlogN)</td>\n",
              "    </tr>\n",
              "  </tbody>\n",
              "</table>\n",
              "<p>740 rows × 129 columns</p>\n",
              "</div>\n",
              "      <button class=\"colab-df-convert\" onclick=\"convertToInteractive('df-5de6ec87-f415-4f19-a36a-77b238249cd6')\"\n",
              "              title=\"Convert this dataframe to an interactive table.\"\n",
              "              style=\"display:none;\">\n",
              "        \n",
              "  <svg xmlns=\"http://www.w3.org/2000/svg\" height=\"24px\"viewBox=\"0 0 24 24\"\n",
              "       width=\"24px\">\n",
              "    <path d=\"M0 0h24v24H0V0z\" fill=\"none\"/>\n",
              "    <path d=\"M18.56 5.44l.94 2.06.94-2.06 2.06-.94-2.06-.94-.94-2.06-.94 2.06-2.06.94zm-11 1L8.5 8.5l.94-2.06 2.06-.94-2.06-.94L8.5 2.5l-.94 2.06-2.06.94zm10 10l.94 2.06.94-2.06 2.06-.94-2.06-.94-.94-2.06-.94 2.06-2.06.94z\"/><path d=\"M17.41 7.96l-1.37-1.37c-.4-.4-.92-.59-1.43-.59-.52 0-1.04.2-1.43.59L10.3 9.45l-7.72 7.72c-.78.78-.78 2.05 0 2.83L4 21.41c.39.39.9.59 1.41.59.51 0 1.02-.2 1.41-.59l7.78-7.78 2.81-2.81c.8-.78.8-2.07 0-2.86zM5.41 20L4 18.59l7.72-7.72 1.47 1.35L5.41 20z\"/>\n",
              "  </svg>\n",
              "      </button>\n",
              "      \n",
              "  <style>\n",
              "    .colab-df-container {\n",
              "      display:flex;\n",
              "      flex-wrap:wrap;\n",
              "      gap: 12px;\n",
              "    }\n",
              "\n",
              "    .colab-df-convert {\n",
              "      background-color: #E8F0FE;\n",
              "      border: none;\n",
              "      border-radius: 50%;\n",
              "      cursor: pointer;\n",
              "      display: none;\n",
              "      fill: #1967D2;\n",
              "      height: 32px;\n",
              "      padding: 0 0 0 0;\n",
              "      width: 32px;\n",
              "    }\n",
              "\n",
              "    .colab-df-convert:hover {\n",
              "      background-color: #E2EBFA;\n",
              "      box-shadow: 0px 1px 2px rgba(60, 64, 67, 0.3), 0px 1px 3px 1px rgba(60, 64, 67, 0.15);\n",
              "      fill: #174EA6;\n",
              "    }\n",
              "\n",
              "    [theme=dark] .colab-df-convert {\n",
              "      background-color: #3B4455;\n",
              "      fill: #D2E3FC;\n",
              "    }\n",
              "\n",
              "    [theme=dark] .colab-df-convert:hover {\n",
              "      background-color: #434B5C;\n",
              "      box-shadow: 0px 1px 3px 1px rgba(0, 0, 0, 0.15);\n",
              "      filter: drop-shadow(0px 1px 2px rgba(0, 0, 0, 0.3));\n",
              "      fill: #FFFFFF;\n",
              "    }\n",
              "  </style>\n",
              "\n",
              "      <script>\n",
              "        const buttonEl =\n",
              "          document.querySelector('#df-5de6ec87-f415-4f19-a36a-77b238249cd6 button.colab-df-convert');\n",
              "        buttonEl.style.display =\n",
              "          google.colab.kernel.accessAllowed ? 'block' : 'none';\n",
              "\n",
              "        async function convertToInteractive(key) {\n",
              "          const element = document.querySelector('#df-5de6ec87-f415-4f19-a36a-77b238249cd6');\n",
              "          const dataTable =\n",
              "            await google.colab.kernel.invokeFunction('convertToInteractive',\n",
              "                                                     [key], {});\n",
              "          if (!dataTable) return;\n",
              "\n",
              "          const docLinkHtml = 'Like what you see? Visit the ' +\n",
              "            '<a target=\"_blank\" href=https://colab.research.google.com/notebooks/data_table.ipynb>data table notebook</a>'\n",
              "            + ' to learn more about interactive tables.';\n",
              "          element.innerHTML = '';\n",
              "          dataTable['output_type'] = 'display_data';\n",
              "          await google.colab.output.renderOutput(dataTable, element);\n",
              "          const docLink = document.createElement('div');\n",
              "          docLink.innerHTML = docLinkHtml;\n",
              "          element.appendChild(docLink);\n",
              "        }\n",
              "      </script>\n",
              "    </div>\n",
              "  </div>\n",
              "  "
            ]
          },
          "metadata": {},
          "execution_count": 137
        }
      ]
    },
    {
      "cell_type": "code",
      "source": [
        "df.drop(df[df['Complexity'] == \"O(1)\"].index, inplace = True)\n",
        "df.drop(df[df['Complexity'] == \"O(2n)\"].index, inplace = True)\n",
        "df.drop(df[df['Complexity'] == \"O(N!)\"].index, inplace = True)\n",
        "df.drop(df[df['Complexity'] == \"O(sqrt(N))\"].index, inplace = True)\n",
        "#df2 = df[ (df['Complexity'] == \"O(1)\") | (df['Complexity'] == \"O(2n)\") | (df['Complexity'] == \"O(N!)\") | (df['Complexity'] == \"O(sqrt(N))\")]"
      ],
      "metadata": {
        "id": "l6KySenuQz40"
      },
      "execution_count": null,
      "outputs": []
    },
    {
      "cell_type": "code",
      "source": [
        "df"
      ],
      "metadata": {
        "colab": {
          "base_uri": "https://localhost:8080/",
          "height": 488
        },
        "id": "pXEfKjcMQ_ez",
        "outputId": "a83b1297-eeef-4b04-f736-3d7ca59e911e"
      },
      "execution_count": null,
      "outputs": [
        {
          "output_type": "execute_result",
          "data": {
            "text/plain": [
              "         emb1      emb2      emb3      emb4      emb5      emb6      emb7  \\\n",
              "3    0.270222  0.300358 -0.445603  0.196632  0.531115  0.433794 -0.261992   \n",
              "4    0.102710  0.177498 -0.326135  0.302662  0.256015  0.207272 -0.175998   \n",
              "5    0.099151  0.171953 -0.230760  0.147983  0.240728  0.211076 -0.085177   \n",
              "6    0.004622  0.254111  0.043829  0.140978  0.663985  0.359904 -0.219945   \n",
              "7   -0.013093  0.067878 -0.087897  0.155157  0.046141  0.043758 -0.005407   \n",
              "..        ...       ...       ...       ...       ...       ...       ...   \n",
              "735  0.162677 -0.179751 -0.320467  0.374476  0.487395 -0.065953 -0.380204   \n",
              "736  0.183020 -0.166014 -0.231057  0.452174  0.562882 -0.138434 -0.443576   \n",
              "737  0.184769 -0.201651 -0.235364  0.446800  0.547860 -0.155865 -0.472018   \n",
              "738  0.255681 -0.193824 -0.382822  0.447094  0.499922 -0.083941 -0.402473   \n",
              "739  0.782572 -0.163111 -0.738689  0.510340  0.762960  0.278493 -0.506301   \n",
              "\n",
              "         emb8      emb9     emb10  ...    emb120    emb121    emb122  \\\n",
              "3   -0.074271 -0.215854 -0.061681  ... -0.586666 -0.216605 -0.092687   \n",
              "4   -0.057321  0.000238  0.019773  ... -0.386576 -0.253997 -0.026445   \n",
              "5   -0.008800 -0.065532  0.133410  ... -0.348318 -0.186028 -0.086344   \n",
              "6    0.108162 -0.140120 -0.066035  ... -0.262810 -0.185516 -0.029431   \n",
              "7   -0.022934  0.036307  0.224565  ... -0.180832 -0.147306 -0.039465   \n",
              "..        ...       ...       ...  ...       ...       ...       ...   \n",
              "735 -0.143154 -0.065873  0.257494  ... -0.397525  0.117815  0.099337   \n",
              "736 -0.284463 -0.054835  0.159889  ... -0.445122  0.000230  0.095979   \n",
              "737 -0.309393 -0.079808  0.205073  ... -0.489142 -0.006414  0.128634   \n",
              "738 -0.251599 -0.028515  0.150684  ... -0.498780  0.046986  0.124914   \n",
              "739 -0.299853 -0.460638 -0.063568  ... -1.165067  0.113273  0.033455   \n",
              "\n",
              "       emb123    emb124    emb125    emb126    emb127    emb128  Complexity  \n",
              "3   -0.081682 -0.599847  0.550452  0.468392 -0.247837  0.087675     O(logN)  \n",
              "4   -0.061492 -0.581163  0.442037  0.418021 -0.194271  0.098900     O(logN)  \n",
              "5   -0.106616 -0.450628  0.463381  0.325981 -0.107556  0.129127     O(logN)  \n",
              "6   -0.201144 -0.293320  0.295109  0.290326 -0.353395  0.164944     O(logN)  \n",
              "7   -0.092333 -0.350462  0.329363  0.250614 -0.131446  0.113169     O(logN)  \n",
              "..        ...       ...       ...       ...       ...       ...         ...  \n",
              "735 -0.094519 -0.544291  0.213452  0.262748 -0.306325 -0.224609    O(NlogN)  \n",
              "736 -0.063981 -0.603873  0.114075  0.222806 -0.317638 -0.290131    O(NlogN)  \n",
              "737 -0.109084 -0.605826  0.106701  0.230898 -0.321285 -0.266228    O(NlogN)  \n",
              "738 -0.117825 -0.633948  0.106924  0.273179 -0.336416 -0.300430    O(NlogN)  \n",
              "739 -0.083436 -0.703199  0.322280  0.512571 -0.172656 -0.565512    O(NlogN)  \n",
              "\n",
              "[720 rows x 129 columns]"
            ],
            "text/html": [
              "\n",
              "  <div id=\"df-c0bcb8c8-3adb-4c79-b887-46dbccbd53ff\">\n",
              "    <div class=\"colab-df-container\">\n",
              "      <div>\n",
              "<style scoped>\n",
              "    .dataframe tbody tr th:only-of-type {\n",
              "        vertical-align: middle;\n",
              "    }\n",
              "\n",
              "    .dataframe tbody tr th {\n",
              "        vertical-align: top;\n",
              "    }\n",
              "\n",
              "    .dataframe thead th {\n",
              "        text-align: right;\n",
              "    }\n",
              "</style>\n",
              "<table border=\"1\" class=\"dataframe\">\n",
              "  <thead>\n",
              "    <tr style=\"text-align: right;\">\n",
              "      <th></th>\n",
              "      <th>emb1</th>\n",
              "      <th>emb2</th>\n",
              "      <th>emb3</th>\n",
              "      <th>emb4</th>\n",
              "      <th>emb5</th>\n",
              "      <th>emb6</th>\n",
              "      <th>emb7</th>\n",
              "      <th>emb8</th>\n",
              "      <th>emb9</th>\n",
              "      <th>emb10</th>\n",
              "      <th>...</th>\n",
              "      <th>emb120</th>\n",
              "      <th>emb121</th>\n",
              "      <th>emb122</th>\n",
              "      <th>emb123</th>\n",
              "      <th>emb124</th>\n",
              "      <th>emb125</th>\n",
              "      <th>emb126</th>\n",
              "      <th>emb127</th>\n",
              "      <th>emb128</th>\n",
              "      <th>Complexity</th>\n",
              "    </tr>\n",
              "  </thead>\n",
              "  <tbody>\n",
              "    <tr>\n",
              "      <th>3</th>\n",
              "      <td>0.270222</td>\n",
              "      <td>0.300358</td>\n",
              "      <td>-0.445603</td>\n",
              "      <td>0.196632</td>\n",
              "      <td>0.531115</td>\n",
              "      <td>0.433794</td>\n",
              "      <td>-0.261992</td>\n",
              "      <td>-0.074271</td>\n",
              "      <td>-0.215854</td>\n",
              "      <td>-0.061681</td>\n",
              "      <td>...</td>\n",
              "      <td>-0.586666</td>\n",
              "      <td>-0.216605</td>\n",
              "      <td>-0.092687</td>\n",
              "      <td>-0.081682</td>\n",
              "      <td>-0.599847</td>\n",
              "      <td>0.550452</td>\n",
              "      <td>0.468392</td>\n",
              "      <td>-0.247837</td>\n",
              "      <td>0.087675</td>\n",
              "      <td>O(logN)</td>\n",
              "    </tr>\n",
              "    <tr>\n",
              "      <th>4</th>\n",
              "      <td>0.102710</td>\n",
              "      <td>0.177498</td>\n",
              "      <td>-0.326135</td>\n",
              "      <td>0.302662</td>\n",
              "      <td>0.256015</td>\n",
              "      <td>0.207272</td>\n",
              "      <td>-0.175998</td>\n",
              "      <td>-0.057321</td>\n",
              "      <td>0.000238</td>\n",
              "      <td>0.019773</td>\n",
              "      <td>...</td>\n",
              "      <td>-0.386576</td>\n",
              "      <td>-0.253997</td>\n",
              "      <td>-0.026445</td>\n",
              "      <td>-0.061492</td>\n",
              "      <td>-0.581163</td>\n",
              "      <td>0.442037</td>\n",
              "      <td>0.418021</td>\n",
              "      <td>-0.194271</td>\n",
              "      <td>0.098900</td>\n",
              "      <td>O(logN)</td>\n",
              "    </tr>\n",
              "    <tr>\n",
              "      <th>5</th>\n",
              "      <td>0.099151</td>\n",
              "      <td>0.171953</td>\n",
              "      <td>-0.230760</td>\n",
              "      <td>0.147983</td>\n",
              "      <td>0.240728</td>\n",
              "      <td>0.211076</td>\n",
              "      <td>-0.085177</td>\n",
              "      <td>-0.008800</td>\n",
              "      <td>-0.065532</td>\n",
              "      <td>0.133410</td>\n",
              "      <td>...</td>\n",
              "      <td>-0.348318</td>\n",
              "      <td>-0.186028</td>\n",
              "      <td>-0.086344</td>\n",
              "      <td>-0.106616</td>\n",
              "      <td>-0.450628</td>\n",
              "      <td>0.463381</td>\n",
              "      <td>0.325981</td>\n",
              "      <td>-0.107556</td>\n",
              "      <td>0.129127</td>\n",
              "      <td>O(logN)</td>\n",
              "    </tr>\n",
              "    <tr>\n",
              "      <th>6</th>\n",
              "      <td>0.004622</td>\n",
              "      <td>0.254111</td>\n",
              "      <td>0.043829</td>\n",
              "      <td>0.140978</td>\n",
              "      <td>0.663985</td>\n",
              "      <td>0.359904</td>\n",
              "      <td>-0.219945</td>\n",
              "      <td>0.108162</td>\n",
              "      <td>-0.140120</td>\n",
              "      <td>-0.066035</td>\n",
              "      <td>...</td>\n",
              "      <td>-0.262810</td>\n",
              "      <td>-0.185516</td>\n",
              "      <td>-0.029431</td>\n",
              "      <td>-0.201144</td>\n",
              "      <td>-0.293320</td>\n",
              "      <td>0.295109</td>\n",
              "      <td>0.290326</td>\n",
              "      <td>-0.353395</td>\n",
              "      <td>0.164944</td>\n",
              "      <td>O(logN)</td>\n",
              "    </tr>\n",
              "    <tr>\n",
              "      <th>7</th>\n",
              "      <td>-0.013093</td>\n",
              "      <td>0.067878</td>\n",
              "      <td>-0.087897</td>\n",
              "      <td>0.155157</td>\n",
              "      <td>0.046141</td>\n",
              "      <td>0.043758</td>\n",
              "      <td>-0.005407</td>\n",
              "      <td>-0.022934</td>\n",
              "      <td>0.036307</td>\n",
              "      <td>0.224565</td>\n",
              "      <td>...</td>\n",
              "      <td>-0.180832</td>\n",
              "      <td>-0.147306</td>\n",
              "      <td>-0.039465</td>\n",
              "      <td>-0.092333</td>\n",
              "      <td>-0.350462</td>\n",
              "      <td>0.329363</td>\n",
              "      <td>0.250614</td>\n",
              "      <td>-0.131446</td>\n",
              "      <td>0.113169</td>\n",
              "      <td>O(logN)</td>\n",
              "    </tr>\n",
              "    <tr>\n",
              "      <th>...</th>\n",
              "      <td>...</td>\n",
              "      <td>...</td>\n",
              "      <td>...</td>\n",
              "      <td>...</td>\n",
              "      <td>...</td>\n",
              "      <td>...</td>\n",
              "      <td>...</td>\n",
              "      <td>...</td>\n",
              "      <td>...</td>\n",
              "      <td>...</td>\n",
              "      <td>...</td>\n",
              "      <td>...</td>\n",
              "      <td>...</td>\n",
              "      <td>...</td>\n",
              "      <td>...</td>\n",
              "      <td>...</td>\n",
              "      <td>...</td>\n",
              "      <td>...</td>\n",
              "      <td>...</td>\n",
              "      <td>...</td>\n",
              "      <td>...</td>\n",
              "    </tr>\n",
              "    <tr>\n",
              "      <th>735</th>\n",
              "      <td>0.162677</td>\n",
              "      <td>-0.179751</td>\n",
              "      <td>-0.320467</td>\n",
              "      <td>0.374476</td>\n",
              "      <td>0.487395</td>\n",
              "      <td>-0.065953</td>\n",
              "      <td>-0.380204</td>\n",
              "      <td>-0.143154</td>\n",
              "      <td>-0.065873</td>\n",
              "      <td>0.257494</td>\n",
              "      <td>...</td>\n",
              "      <td>-0.397525</td>\n",
              "      <td>0.117815</td>\n",
              "      <td>0.099337</td>\n",
              "      <td>-0.094519</td>\n",
              "      <td>-0.544291</td>\n",
              "      <td>0.213452</td>\n",
              "      <td>0.262748</td>\n",
              "      <td>-0.306325</td>\n",
              "      <td>-0.224609</td>\n",
              "      <td>O(NlogN)</td>\n",
              "    </tr>\n",
              "    <tr>\n",
              "      <th>736</th>\n",
              "      <td>0.183020</td>\n",
              "      <td>-0.166014</td>\n",
              "      <td>-0.231057</td>\n",
              "      <td>0.452174</td>\n",
              "      <td>0.562882</td>\n",
              "      <td>-0.138434</td>\n",
              "      <td>-0.443576</td>\n",
              "      <td>-0.284463</td>\n",
              "      <td>-0.054835</td>\n",
              "      <td>0.159889</td>\n",
              "      <td>...</td>\n",
              "      <td>-0.445122</td>\n",
              "      <td>0.000230</td>\n",
              "      <td>0.095979</td>\n",
              "      <td>-0.063981</td>\n",
              "      <td>-0.603873</td>\n",
              "      <td>0.114075</td>\n",
              "      <td>0.222806</td>\n",
              "      <td>-0.317638</td>\n",
              "      <td>-0.290131</td>\n",
              "      <td>O(NlogN)</td>\n",
              "    </tr>\n",
              "    <tr>\n",
              "      <th>737</th>\n",
              "      <td>0.184769</td>\n",
              "      <td>-0.201651</td>\n",
              "      <td>-0.235364</td>\n",
              "      <td>0.446800</td>\n",
              "      <td>0.547860</td>\n",
              "      <td>-0.155865</td>\n",
              "      <td>-0.472018</td>\n",
              "      <td>-0.309393</td>\n",
              "      <td>-0.079808</td>\n",
              "      <td>0.205073</td>\n",
              "      <td>...</td>\n",
              "      <td>-0.489142</td>\n",
              "      <td>-0.006414</td>\n",
              "      <td>0.128634</td>\n",
              "      <td>-0.109084</td>\n",
              "      <td>-0.605826</td>\n",
              "      <td>0.106701</td>\n",
              "      <td>0.230898</td>\n",
              "      <td>-0.321285</td>\n",
              "      <td>-0.266228</td>\n",
              "      <td>O(NlogN)</td>\n",
              "    </tr>\n",
              "    <tr>\n",
              "      <th>738</th>\n",
              "      <td>0.255681</td>\n",
              "      <td>-0.193824</td>\n",
              "      <td>-0.382822</td>\n",
              "      <td>0.447094</td>\n",
              "      <td>0.499922</td>\n",
              "      <td>-0.083941</td>\n",
              "      <td>-0.402473</td>\n",
              "      <td>-0.251599</td>\n",
              "      <td>-0.028515</td>\n",
              "      <td>0.150684</td>\n",
              "      <td>...</td>\n",
              "      <td>-0.498780</td>\n",
              "      <td>0.046986</td>\n",
              "      <td>0.124914</td>\n",
              "      <td>-0.117825</td>\n",
              "      <td>-0.633948</td>\n",
              "      <td>0.106924</td>\n",
              "      <td>0.273179</td>\n",
              "      <td>-0.336416</td>\n",
              "      <td>-0.300430</td>\n",
              "      <td>O(NlogN)</td>\n",
              "    </tr>\n",
              "    <tr>\n",
              "      <th>739</th>\n",
              "      <td>0.782572</td>\n",
              "      <td>-0.163111</td>\n",
              "      <td>-0.738689</td>\n",
              "      <td>0.510340</td>\n",
              "      <td>0.762960</td>\n",
              "      <td>0.278493</td>\n",
              "      <td>-0.506301</td>\n",
              "      <td>-0.299853</td>\n",
              "      <td>-0.460638</td>\n",
              "      <td>-0.063568</td>\n",
              "      <td>...</td>\n",
              "      <td>-1.165067</td>\n",
              "      <td>0.113273</td>\n",
              "      <td>0.033455</td>\n",
              "      <td>-0.083436</td>\n",
              "      <td>-0.703199</td>\n",
              "      <td>0.322280</td>\n",
              "      <td>0.512571</td>\n",
              "      <td>-0.172656</td>\n",
              "      <td>-0.565512</td>\n",
              "      <td>O(NlogN)</td>\n",
              "    </tr>\n",
              "  </tbody>\n",
              "</table>\n",
              "<p>720 rows × 129 columns</p>\n",
              "</div>\n",
              "      <button class=\"colab-df-convert\" onclick=\"convertToInteractive('df-c0bcb8c8-3adb-4c79-b887-46dbccbd53ff')\"\n",
              "              title=\"Convert this dataframe to an interactive table.\"\n",
              "              style=\"display:none;\">\n",
              "        \n",
              "  <svg xmlns=\"http://www.w3.org/2000/svg\" height=\"24px\"viewBox=\"0 0 24 24\"\n",
              "       width=\"24px\">\n",
              "    <path d=\"M0 0h24v24H0V0z\" fill=\"none\"/>\n",
              "    <path d=\"M18.56 5.44l.94 2.06.94-2.06 2.06-.94-2.06-.94-.94-2.06-.94 2.06-2.06.94zm-11 1L8.5 8.5l.94-2.06 2.06-.94-2.06-.94L8.5 2.5l-.94 2.06-2.06.94zm10 10l.94 2.06.94-2.06 2.06-.94-2.06-.94-.94-2.06-.94 2.06-2.06.94z\"/><path d=\"M17.41 7.96l-1.37-1.37c-.4-.4-.92-.59-1.43-.59-.52 0-1.04.2-1.43.59L10.3 9.45l-7.72 7.72c-.78.78-.78 2.05 0 2.83L4 21.41c.39.39.9.59 1.41.59.51 0 1.02-.2 1.41-.59l7.78-7.78 2.81-2.81c.8-.78.8-2.07 0-2.86zM5.41 20L4 18.59l7.72-7.72 1.47 1.35L5.41 20z\"/>\n",
              "  </svg>\n",
              "      </button>\n",
              "      \n",
              "  <style>\n",
              "    .colab-df-container {\n",
              "      display:flex;\n",
              "      flex-wrap:wrap;\n",
              "      gap: 12px;\n",
              "    }\n",
              "\n",
              "    .colab-df-convert {\n",
              "      background-color: #E8F0FE;\n",
              "      border: none;\n",
              "      border-radius: 50%;\n",
              "      cursor: pointer;\n",
              "      display: none;\n",
              "      fill: #1967D2;\n",
              "      height: 32px;\n",
              "      padding: 0 0 0 0;\n",
              "      width: 32px;\n",
              "    }\n",
              "\n",
              "    .colab-df-convert:hover {\n",
              "      background-color: #E2EBFA;\n",
              "      box-shadow: 0px 1px 2px rgba(60, 64, 67, 0.3), 0px 1px 3px 1px rgba(60, 64, 67, 0.15);\n",
              "      fill: #174EA6;\n",
              "    }\n",
              "\n",
              "    [theme=dark] .colab-df-convert {\n",
              "      background-color: #3B4455;\n",
              "      fill: #D2E3FC;\n",
              "    }\n",
              "\n",
              "    [theme=dark] .colab-df-convert:hover {\n",
              "      background-color: #434B5C;\n",
              "      box-shadow: 0px 1px 3px 1px rgba(0, 0, 0, 0.15);\n",
              "      filter: drop-shadow(0px 1px 2px rgba(0, 0, 0, 0.3));\n",
              "      fill: #FFFFFF;\n",
              "    }\n",
              "  </style>\n",
              "\n",
              "      <script>\n",
              "        const buttonEl =\n",
              "          document.querySelector('#df-c0bcb8c8-3adb-4c79-b887-46dbccbd53ff button.colab-df-convert');\n",
              "        buttonEl.style.display =\n",
              "          google.colab.kernel.accessAllowed ? 'block' : 'none';\n",
              "\n",
              "        async function convertToInteractive(key) {\n",
              "          const element = document.querySelector('#df-c0bcb8c8-3adb-4c79-b887-46dbccbd53ff');\n",
              "          const dataTable =\n",
              "            await google.colab.kernel.invokeFunction('convertToInteractive',\n",
              "                                                     [key], {});\n",
              "          if (!dataTable) return;\n",
              "\n",
              "          const docLinkHtml = 'Like what you see? Visit the ' +\n",
              "            '<a target=\"_blank\" href=https://colab.research.google.com/notebooks/data_table.ipynb>data table notebook</a>'\n",
              "            + ' to learn more about interactive tables.';\n",
              "          element.innerHTML = '';\n",
              "          dataTable['output_type'] = 'display_data';\n",
              "          await google.colab.output.renderOutput(dataTable, element);\n",
              "          const docLink = document.createElement('div');\n",
              "          docLink.innerHTML = docLinkHtml;\n",
              "          element.appendChild(docLink);\n",
              "        }\n",
              "      </script>\n",
              "    </div>\n",
              "  </div>\n",
              "  "
            ]
          },
          "metadata": {},
          "execution_count": 139
        }
      ]
    },
    {
      "cell_type": "code",
      "source": [
        "df = df.reset_index()"
      ],
      "metadata": {
        "id": "0fjYs1a1Tn7l"
      },
      "execution_count": null,
      "outputs": []
    },
    {
      "cell_type": "code",
      "source": [
        "df"
      ],
      "metadata": {
        "colab": {
          "base_uri": "https://localhost:8080/",
          "height": 488
        },
        "id": "XThf4mFWUPhq",
        "outputId": "058bcaa6-0702-430e-e154-bb69f45fb32c"
      },
      "execution_count": null,
      "outputs": [
        {
          "output_type": "execute_result",
          "data": {
            "text/plain": [
              "     index      emb1      emb2      emb3      emb4      emb5      emb6  \\\n",
              "0        3  0.270222  0.300358 -0.445603  0.196632  0.531115  0.433794   \n",
              "1        4  0.102710  0.177498 -0.326135  0.302662  0.256015  0.207272   \n",
              "2        5  0.099151  0.171953 -0.230760  0.147983  0.240728  0.211076   \n",
              "3        6  0.004622  0.254111  0.043829  0.140978  0.663985  0.359904   \n",
              "4        7 -0.013093  0.067878 -0.087897  0.155157  0.046141  0.043758   \n",
              "..     ...       ...       ...       ...       ...       ...       ...   \n",
              "715    735  0.162677 -0.179751 -0.320467  0.374476  0.487395 -0.065953   \n",
              "716    736  0.183020 -0.166014 -0.231057  0.452174  0.562882 -0.138434   \n",
              "717    737  0.184769 -0.201651 -0.235364  0.446800  0.547860 -0.155865   \n",
              "718    738  0.255681 -0.193824 -0.382822  0.447094  0.499922 -0.083941   \n",
              "719    739  0.782572 -0.163111 -0.738689  0.510340  0.762960  0.278493   \n",
              "\n",
              "         emb7      emb8      emb9  ...    emb120    emb121    emb122  \\\n",
              "0   -0.261992 -0.074271 -0.215854  ... -0.586666 -0.216605 -0.092687   \n",
              "1   -0.175998 -0.057321  0.000238  ... -0.386576 -0.253997 -0.026445   \n",
              "2   -0.085177 -0.008800 -0.065532  ... -0.348318 -0.186028 -0.086344   \n",
              "3   -0.219945  0.108162 -0.140120  ... -0.262810 -0.185516 -0.029431   \n",
              "4   -0.005407 -0.022934  0.036307  ... -0.180832 -0.147306 -0.039465   \n",
              "..        ...       ...       ...  ...       ...       ...       ...   \n",
              "715 -0.380204 -0.143154 -0.065873  ... -0.397525  0.117815  0.099337   \n",
              "716 -0.443576 -0.284463 -0.054835  ... -0.445122  0.000230  0.095979   \n",
              "717 -0.472018 -0.309393 -0.079808  ... -0.489142 -0.006414  0.128634   \n",
              "718 -0.402473 -0.251599 -0.028515  ... -0.498780  0.046986  0.124914   \n",
              "719 -0.506301 -0.299853 -0.460638  ... -1.165067  0.113273  0.033455   \n",
              "\n",
              "       emb123    emb124    emb125    emb126    emb127    emb128  Complexity  \n",
              "0   -0.081682 -0.599847  0.550452  0.468392 -0.247837  0.087675     O(logN)  \n",
              "1   -0.061492 -0.581163  0.442037  0.418021 -0.194271  0.098900     O(logN)  \n",
              "2   -0.106616 -0.450628  0.463381  0.325981 -0.107556  0.129127     O(logN)  \n",
              "3   -0.201144 -0.293320  0.295109  0.290326 -0.353395  0.164944     O(logN)  \n",
              "4   -0.092333 -0.350462  0.329363  0.250614 -0.131446  0.113169     O(logN)  \n",
              "..        ...       ...       ...       ...       ...       ...         ...  \n",
              "715 -0.094519 -0.544291  0.213452  0.262748 -0.306325 -0.224609    O(NlogN)  \n",
              "716 -0.063981 -0.603873  0.114075  0.222806 -0.317638 -0.290131    O(NlogN)  \n",
              "717 -0.109084 -0.605826  0.106701  0.230898 -0.321285 -0.266228    O(NlogN)  \n",
              "718 -0.117825 -0.633948  0.106924  0.273179 -0.336416 -0.300430    O(NlogN)  \n",
              "719 -0.083436 -0.703199  0.322280  0.512571 -0.172656 -0.565512    O(NlogN)  \n",
              "\n",
              "[720 rows x 130 columns]"
            ],
            "text/html": [
              "\n",
              "  <div id=\"df-c0dcc314-34b4-4256-983a-51e6b7a297d0\">\n",
              "    <div class=\"colab-df-container\">\n",
              "      <div>\n",
              "<style scoped>\n",
              "    .dataframe tbody tr th:only-of-type {\n",
              "        vertical-align: middle;\n",
              "    }\n",
              "\n",
              "    .dataframe tbody tr th {\n",
              "        vertical-align: top;\n",
              "    }\n",
              "\n",
              "    .dataframe thead th {\n",
              "        text-align: right;\n",
              "    }\n",
              "</style>\n",
              "<table border=\"1\" class=\"dataframe\">\n",
              "  <thead>\n",
              "    <tr style=\"text-align: right;\">\n",
              "      <th></th>\n",
              "      <th>index</th>\n",
              "      <th>emb1</th>\n",
              "      <th>emb2</th>\n",
              "      <th>emb3</th>\n",
              "      <th>emb4</th>\n",
              "      <th>emb5</th>\n",
              "      <th>emb6</th>\n",
              "      <th>emb7</th>\n",
              "      <th>emb8</th>\n",
              "      <th>emb9</th>\n",
              "      <th>...</th>\n",
              "      <th>emb120</th>\n",
              "      <th>emb121</th>\n",
              "      <th>emb122</th>\n",
              "      <th>emb123</th>\n",
              "      <th>emb124</th>\n",
              "      <th>emb125</th>\n",
              "      <th>emb126</th>\n",
              "      <th>emb127</th>\n",
              "      <th>emb128</th>\n",
              "      <th>Complexity</th>\n",
              "    </tr>\n",
              "  </thead>\n",
              "  <tbody>\n",
              "    <tr>\n",
              "      <th>0</th>\n",
              "      <td>3</td>\n",
              "      <td>0.270222</td>\n",
              "      <td>0.300358</td>\n",
              "      <td>-0.445603</td>\n",
              "      <td>0.196632</td>\n",
              "      <td>0.531115</td>\n",
              "      <td>0.433794</td>\n",
              "      <td>-0.261992</td>\n",
              "      <td>-0.074271</td>\n",
              "      <td>-0.215854</td>\n",
              "      <td>...</td>\n",
              "      <td>-0.586666</td>\n",
              "      <td>-0.216605</td>\n",
              "      <td>-0.092687</td>\n",
              "      <td>-0.081682</td>\n",
              "      <td>-0.599847</td>\n",
              "      <td>0.550452</td>\n",
              "      <td>0.468392</td>\n",
              "      <td>-0.247837</td>\n",
              "      <td>0.087675</td>\n",
              "      <td>O(logN)</td>\n",
              "    </tr>\n",
              "    <tr>\n",
              "      <th>1</th>\n",
              "      <td>4</td>\n",
              "      <td>0.102710</td>\n",
              "      <td>0.177498</td>\n",
              "      <td>-0.326135</td>\n",
              "      <td>0.302662</td>\n",
              "      <td>0.256015</td>\n",
              "      <td>0.207272</td>\n",
              "      <td>-0.175998</td>\n",
              "      <td>-0.057321</td>\n",
              "      <td>0.000238</td>\n",
              "      <td>...</td>\n",
              "      <td>-0.386576</td>\n",
              "      <td>-0.253997</td>\n",
              "      <td>-0.026445</td>\n",
              "      <td>-0.061492</td>\n",
              "      <td>-0.581163</td>\n",
              "      <td>0.442037</td>\n",
              "      <td>0.418021</td>\n",
              "      <td>-0.194271</td>\n",
              "      <td>0.098900</td>\n",
              "      <td>O(logN)</td>\n",
              "    </tr>\n",
              "    <tr>\n",
              "      <th>2</th>\n",
              "      <td>5</td>\n",
              "      <td>0.099151</td>\n",
              "      <td>0.171953</td>\n",
              "      <td>-0.230760</td>\n",
              "      <td>0.147983</td>\n",
              "      <td>0.240728</td>\n",
              "      <td>0.211076</td>\n",
              "      <td>-0.085177</td>\n",
              "      <td>-0.008800</td>\n",
              "      <td>-0.065532</td>\n",
              "      <td>...</td>\n",
              "      <td>-0.348318</td>\n",
              "      <td>-0.186028</td>\n",
              "      <td>-0.086344</td>\n",
              "      <td>-0.106616</td>\n",
              "      <td>-0.450628</td>\n",
              "      <td>0.463381</td>\n",
              "      <td>0.325981</td>\n",
              "      <td>-0.107556</td>\n",
              "      <td>0.129127</td>\n",
              "      <td>O(logN)</td>\n",
              "    </tr>\n",
              "    <tr>\n",
              "      <th>3</th>\n",
              "      <td>6</td>\n",
              "      <td>0.004622</td>\n",
              "      <td>0.254111</td>\n",
              "      <td>0.043829</td>\n",
              "      <td>0.140978</td>\n",
              "      <td>0.663985</td>\n",
              "      <td>0.359904</td>\n",
              "      <td>-0.219945</td>\n",
              "      <td>0.108162</td>\n",
              "      <td>-0.140120</td>\n",
              "      <td>...</td>\n",
              "      <td>-0.262810</td>\n",
              "      <td>-0.185516</td>\n",
              "      <td>-0.029431</td>\n",
              "      <td>-0.201144</td>\n",
              "      <td>-0.293320</td>\n",
              "      <td>0.295109</td>\n",
              "      <td>0.290326</td>\n",
              "      <td>-0.353395</td>\n",
              "      <td>0.164944</td>\n",
              "      <td>O(logN)</td>\n",
              "    </tr>\n",
              "    <tr>\n",
              "      <th>4</th>\n",
              "      <td>7</td>\n",
              "      <td>-0.013093</td>\n",
              "      <td>0.067878</td>\n",
              "      <td>-0.087897</td>\n",
              "      <td>0.155157</td>\n",
              "      <td>0.046141</td>\n",
              "      <td>0.043758</td>\n",
              "      <td>-0.005407</td>\n",
              "      <td>-0.022934</td>\n",
              "      <td>0.036307</td>\n",
              "      <td>...</td>\n",
              "      <td>-0.180832</td>\n",
              "      <td>-0.147306</td>\n",
              "      <td>-0.039465</td>\n",
              "      <td>-0.092333</td>\n",
              "      <td>-0.350462</td>\n",
              "      <td>0.329363</td>\n",
              "      <td>0.250614</td>\n",
              "      <td>-0.131446</td>\n",
              "      <td>0.113169</td>\n",
              "      <td>O(logN)</td>\n",
              "    </tr>\n",
              "    <tr>\n",
              "      <th>...</th>\n",
              "      <td>...</td>\n",
              "      <td>...</td>\n",
              "      <td>...</td>\n",
              "      <td>...</td>\n",
              "      <td>...</td>\n",
              "      <td>...</td>\n",
              "      <td>...</td>\n",
              "      <td>...</td>\n",
              "      <td>...</td>\n",
              "      <td>...</td>\n",
              "      <td>...</td>\n",
              "      <td>...</td>\n",
              "      <td>...</td>\n",
              "      <td>...</td>\n",
              "      <td>...</td>\n",
              "      <td>...</td>\n",
              "      <td>...</td>\n",
              "      <td>...</td>\n",
              "      <td>...</td>\n",
              "      <td>...</td>\n",
              "      <td>...</td>\n",
              "    </tr>\n",
              "    <tr>\n",
              "      <th>715</th>\n",
              "      <td>735</td>\n",
              "      <td>0.162677</td>\n",
              "      <td>-0.179751</td>\n",
              "      <td>-0.320467</td>\n",
              "      <td>0.374476</td>\n",
              "      <td>0.487395</td>\n",
              "      <td>-0.065953</td>\n",
              "      <td>-0.380204</td>\n",
              "      <td>-0.143154</td>\n",
              "      <td>-0.065873</td>\n",
              "      <td>...</td>\n",
              "      <td>-0.397525</td>\n",
              "      <td>0.117815</td>\n",
              "      <td>0.099337</td>\n",
              "      <td>-0.094519</td>\n",
              "      <td>-0.544291</td>\n",
              "      <td>0.213452</td>\n",
              "      <td>0.262748</td>\n",
              "      <td>-0.306325</td>\n",
              "      <td>-0.224609</td>\n",
              "      <td>O(NlogN)</td>\n",
              "    </tr>\n",
              "    <tr>\n",
              "      <th>716</th>\n",
              "      <td>736</td>\n",
              "      <td>0.183020</td>\n",
              "      <td>-0.166014</td>\n",
              "      <td>-0.231057</td>\n",
              "      <td>0.452174</td>\n",
              "      <td>0.562882</td>\n",
              "      <td>-0.138434</td>\n",
              "      <td>-0.443576</td>\n",
              "      <td>-0.284463</td>\n",
              "      <td>-0.054835</td>\n",
              "      <td>...</td>\n",
              "      <td>-0.445122</td>\n",
              "      <td>0.000230</td>\n",
              "      <td>0.095979</td>\n",
              "      <td>-0.063981</td>\n",
              "      <td>-0.603873</td>\n",
              "      <td>0.114075</td>\n",
              "      <td>0.222806</td>\n",
              "      <td>-0.317638</td>\n",
              "      <td>-0.290131</td>\n",
              "      <td>O(NlogN)</td>\n",
              "    </tr>\n",
              "    <tr>\n",
              "      <th>717</th>\n",
              "      <td>737</td>\n",
              "      <td>0.184769</td>\n",
              "      <td>-0.201651</td>\n",
              "      <td>-0.235364</td>\n",
              "      <td>0.446800</td>\n",
              "      <td>0.547860</td>\n",
              "      <td>-0.155865</td>\n",
              "      <td>-0.472018</td>\n",
              "      <td>-0.309393</td>\n",
              "      <td>-0.079808</td>\n",
              "      <td>...</td>\n",
              "      <td>-0.489142</td>\n",
              "      <td>-0.006414</td>\n",
              "      <td>0.128634</td>\n",
              "      <td>-0.109084</td>\n",
              "      <td>-0.605826</td>\n",
              "      <td>0.106701</td>\n",
              "      <td>0.230898</td>\n",
              "      <td>-0.321285</td>\n",
              "      <td>-0.266228</td>\n",
              "      <td>O(NlogN)</td>\n",
              "    </tr>\n",
              "    <tr>\n",
              "      <th>718</th>\n",
              "      <td>738</td>\n",
              "      <td>0.255681</td>\n",
              "      <td>-0.193824</td>\n",
              "      <td>-0.382822</td>\n",
              "      <td>0.447094</td>\n",
              "      <td>0.499922</td>\n",
              "      <td>-0.083941</td>\n",
              "      <td>-0.402473</td>\n",
              "      <td>-0.251599</td>\n",
              "      <td>-0.028515</td>\n",
              "      <td>...</td>\n",
              "      <td>-0.498780</td>\n",
              "      <td>0.046986</td>\n",
              "      <td>0.124914</td>\n",
              "      <td>-0.117825</td>\n",
              "      <td>-0.633948</td>\n",
              "      <td>0.106924</td>\n",
              "      <td>0.273179</td>\n",
              "      <td>-0.336416</td>\n",
              "      <td>-0.300430</td>\n",
              "      <td>O(NlogN)</td>\n",
              "    </tr>\n",
              "    <tr>\n",
              "      <th>719</th>\n",
              "      <td>739</td>\n",
              "      <td>0.782572</td>\n",
              "      <td>-0.163111</td>\n",
              "      <td>-0.738689</td>\n",
              "      <td>0.510340</td>\n",
              "      <td>0.762960</td>\n",
              "      <td>0.278493</td>\n",
              "      <td>-0.506301</td>\n",
              "      <td>-0.299853</td>\n",
              "      <td>-0.460638</td>\n",
              "      <td>...</td>\n",
              "      <td>-1.165067</td>\n",
              "      <td>0.113273</td>\n",
              "      <td>0.033455</td>\n",
              "      <td>-0.083436</td>\n",
              "      <td>-0.703199</td>\n",
              "      <td>0.322280</td>\n",
              "      <td>0.512571</td>\n",
              "      <td>-0.172656</td>\n",
              "      <td>-0.565512</td>\n",
              "      <td>O(NlogN)</td>\n",
              "    </tr>\n",
              "  </tbody>\n",
              "</table>\n",
              "<p>720 rows × 130 columns</p>\n",
              "</div>\n",
              "      <button class=\"colab-df-convert\" onclick=\"convertToInteractive('df-c0dcc314-34b4-4256-983a-51e6b7a297d0')\"\n",
              "              title=\"Convert this dataframe to an interactive table.\"\n",
              "              style=\"display:none;\">\n",
              "        \n",
              "  <svg xmlns=\"http://www.w3.org/2000/svg\" height=\"24px\"viewBox=\"0 0 24 24\"\n",
              "       width=\"24px\">\n",
              "    <path d=\"M0 0h24v24H0V0z\" fill=\"none\"/>\n",
              "    <path d=\"M18.56 5.44l.94 2.06.94-2.06 2.06-.94-2.06-.94-.94-2.06-.94 2.06-2.06.94zm-11 1L8.5 8.5l.94-2.06 2.06-.94-2.06-.94L8.5 2.5l-.94 2.06-2.06.94zm10 10l.94 2.06.94-2.06 2.06-.94-2.06-.94-.94-2.06-.94 2.06-2.06.94z\"/><path d=\"M17.41 7.96l-1.37-1.37c-.4-.4-.92-.59-1.43-.59-.52 0-1.04.2-1.43.59L10.3 9.45l-7.72 7.72c-.78.78-.78 2.05 0 2.83L4 21.41c.39.39.9.59 1.41.59.51 0 1.02-.2 1.41-.59l7.78-7.78 2.81-2.81c.8-.78.8-2.07 0-2.86zM5.41 20L4 18.59l7.72-7.72 1.47 1.35L5.41 20z\"/>\n",
              "  </svg>\n",
              "      </button>\n",
              "      \n",
              "  <style>\n",
              "    .colab-df-container {\n",
              "      display:flex;\n",
              "      flex-wrap:wrap;\n",
              "      gap: 12px;\n",
              "    }\n",
              "\n",
              "    .colab-df-convert {\n",
              "      background-color: #E8F0FE;\n",
              "      border: none;\n",
              "      border-radius: 50%;\n",
              "      cursor: pointer;\n",
              "      display: none;\n",
              "      fill: #1967D2;\n",
              "      height: 32px;\n",
              "      padding: 0 0 0 0;\n",
              "      width: 32px;\n",
              "    }\n",
              "\n",
              "    .colab-df-convert:hover {\n",
              "      background-color: #E2EBFA;\n",
              "      box-shadow: 0px 1px 2px rgba(60, 64, 67, 0.3), 0px 1px 3px 1px rgba(60, 64, 67, 0.15);\n",
              "      fill: #174EA6;\n",
              "    }\n",
              "\n",
              "    [theme=dark] .colab-df-convert {\n",
              "      background-color: #3B4455;\n",
              "      fill: #D2E3FC;\n",
              "    }\n",
              "\n",
              "    [theme=dark] .colab-df-convert:hover {\n",
              "      background-color: #434B5C;\n",
              "      box-shadow: 0px 1px 3px 1px rgba(0, 0, 0, 0.15);\n",
              "      filter: drop-shadow(0px 1px 2px rgba(0, 0, 0, 0.3));\n",
              "      fill: #FFFFFF;\n",
              "    }\n",
              "  </style>\n",
              "\n",
              "      <script>\n",
              "        const buttonEl =\n",
              "          document.querySelector('#df-c0dcc314-34b4-4256-983a-51e6b7a297d0 button.colab-df-convert');\n",
              "        buttonEl.style.display =\n",
              "          google.colab.kernel.accessAllowed ? 'block' : 'none';\n",
              "\n",
              "        async function convertToInteractive(key) {\n",
              "          const element = document.querySelector('#df-c0dcc314-34b4-4256-983a-51e6b7a297d0');\n",
              "          const dataTable =\n",
              "            await google.colab.kernel.invokeFunction('convertToInteractive',\n",
              "                                                     [key], {});\n",
              "          if (!dataTable) return;\n",
              "\n",
              "          const docLinkHtml = 'Like what you see? Visit the ' +\n",
              "            '<a target=\"_blank\" href=https://colab.research.google.com/notebooks/data_table.ipynb>data table notebook</a>'\n",
              "            + ' to learn more about interactive tables.';\n",
              "          element.innerHTML = '';\n",
              "          dataTable['output_type'] = 'display_data';\n",
              "          await google.colab.output.renderOutput(dataTable, element);\n",
              "          const docLink = document.createElement('div');\n",
              "          docLink.innerHTML = docLinkHtml;\n",
              "          element.appendChild(docLink);\n",
              "        }\n",
              "      </script>\n",
              "    </div>\n",
              "  </div>\n",
              "  "
            ]
          },
          "metadata": {},
          "execution_count": 142
        }
      ]
    },
    {
      "cell_type": "code",
      "source": [
        "df.drop(['index'], axis=1)"
      ],
      "metadata": {
        "colab": {
          "base_uri": "https://localhost:8080/",
          "height": 488
        },
        "id": "a8zao68XT1go",
        "outputId": "acd8c4e9-7b8c-4fb6-a666-8f351811cfd0"
      },
      "execution_count": null,
      "outputs": [
        {
          "output_type": "execute_result",
          "data": {
            "text/plain": [
              "         emb1      emb2      emb3      emb4      emb5      emb6      emb7  \\\n",
              "0    0.270222  0.300358 -0.445603  0.196632  0.531115  0.433794 -0.261992   \n",
              "1    0.102710  0.177498 -0.326135  0.302662  0.256015  0.207272 -0.175998   \n",
              "2    0.099151  0.171953 -0.230760  0.147983  0.240728  0.211076 -0.085177   \n",
              "3    0.004622  0.254111  0.043829  0.140978  0.663985  0.359904 -0.219945   \n",
              "4   -0.013093  0.067878 -0.087897  0.155157  0.046141  0.043758 -0.005407   \n",
              "..        ...       ...       ...       ...       ...       ...       ...   \n",
              "715  0.162677 -0.179751 -0.320467  0.374476  0.487395 -0.065953 -0.380204   \n",
              "716  0.183020 -0.166014 -0.231057  0.452174  0.562882 -0.138434 -0.443576   \n",
              "717  0.184769 -0.201651 -0.235364  0.446800  0.547860 -0.155865 -0.472018   \n",
              "718  0.255681 -0.193824 -0.382822  0.447094  0.499922 -0.083941 -0.402473   \n",
              "719  0.782572 -0.163111 -0.738689  0.510340  0.762960  0.278493 -0.506301   \n",
              "\n",
              "         emb8      emb9     emb10  ...    emb120    emb121    emb122  \\\n",
              "0   -0.074271 -0.215854 -0.061681  ... -0.586666 -0.216605 -0.092687   \n",
              "1   -0.057321  0.000238  0.019773  ... -0.386576 -0.253997 -0.026445   \n",
              "2   -0.008800 -0.065532  0.133410  ... -0.348318 -0.186028 -0.086344   \n",
              "3    0.108162 -0.140120 -0.066035  ... -0.262810 -0.185516 -0.029431   \n",
              "4   -0.022934  0.036307  0.224565  ... -0.180832 -0.147306 -0.039465   \n",
              "..        ...       ...       ...  ...       ...       ...       ...   \n",
              "715 -0.143154 -0.065873  0.257494  ... -0.397525  0.117815  0.099337   \n",
              "716 -0.284463 -0.054835  0.159889  ... -0.445122  0.000230  0.095979   \n",
              "717 -0.309393 -0.079808  0.205073  ... -0.489142 -0.006414  0.128634   \n",
              "718 -0.251599 -0.028515  0.150684  ... -0.498780  0.046986  0.124914   \n",
              "719 -0.299853 -0.460638 -0.063568  ... -1.165067  0.113273  0.033455   \n",
              "\n",
              "       emb123    emb124    emb125    emb126    emb127    emb128  Complexity  \n",
              "0   -0.081682 -0.599847  0.550452  0.468392 -0.247837  0.087675     O(logN)  \n",
              "1   -0.061492 -0.581163  0.442037  0.418021 -0.194271  0.098900     O(logN)  \n",
              "2   -0.106616 -0.450628  0.463381  0.325981 -0.107556  0.129127     O(logN)  \n",
              "3   -0.201144 -0.293320  0.295109  0.290326 -0.353395  0.164944     O(logN)  \n",
              "4   -0.092333 -0.350462  0.329363  0.250614 -0.131446  0.113169     O(logN)  \n",
              "..        ...       ...       ...       ...       ...       ...         ...  \n",
              "715 -0.094519 -0.544291  0.213452  0.262748 -0.306325 -0.224609    O(NlogN)  \n",
              "716 -0.063981 -0.603873  0.114075  0.222806 -0.317638 -0.290131    O(NlogN)  \n",
              "717 -0.109084 -0.605826  0.106701  0.230898 -0.321285 -0.266228    O(NlogN)  \n",
              "718 -0.117825 -0.633948  0.106924  0.273179 -0.336416 -0.300430    O(NlogN)  \n",
              "719 -0.083436 -0.703199  0.322280  0.512571 -0.172656 -0.565512    O(NlogN)  \n",
              "\n",
              "[720 rows x 129 columns]"
            ],
            "text/html": [
              "\n",
              "  <div id=\"df-e0aa5733-7a9e-4853-9036-ea8385ea2977\">\n",
              "    <div class=\"colab-df-container\">\n",
              "      <div>\n",
              "<style scoped>\n",
              "    .dataframe tbody tr th:only-of-type {\n",
              "        vertical-align: middle;\n",
              "    }\n",
              "\n",
              "    .dataframe tbody tr th {\n",
              "        vertical-align: top;\n",
              "    }\n",
              "\n",
              "    .dataframe thead th {\n",
              "        text-align: right;\n",
              "    }\n",
              "</style>\n",
              "<table border=\"1\" class=\"dataframe\">\n",
              "  <thead>\n",
              "    <tr style=\"text-align: right;\">\n",
              "      <th></th>\n",
              "      <th>emb1</th>\n",
              "      <th>emb2</th>\n",
              "      <th>emb3</th>\n",
              "      <th>emb4</th>\n",
              "      <th>emb5</th>\n",
              "      <th>emb6</th>\n",
              "      <th>emb7</th>\n",
              "      <th>emb8</th>\n",
              "      <th>emb9</th>\n",
              "      <th>emb10</th>\n",
              "      <th>...</th>\n",
              "      <th>emb120</th>\n",
              "      <th>emb121</th>\n",
              "      <th>emb122</th>\n",
              "      <th>emb123</th>\n",
              "      <th>emb124</th>\n",
              "      <th>emb125</th>\n",
              "      <th>emb126</th>\n",
              "      <th>emb127</th>\n",
              "      <th>emb128</th>\n",
              "      <th>Complexity</th>\n",
              "    </tr>\n",
              "  </thead>\n",
              "  <tbody>\n",
              "    <tr>\n",
              "      <th>0</th>\n",
              "      <td>0.270222</td>\n",
              "      <td>0.300358</td>\n",
              "      <td>-0.445603</td>\n",
              "      <td>0.196632</td>\n",
              "      <td>0.531115</td>\n",
              "      <td>0.433794</td>\n",
              "      <td>-0.261992</td>\n",
              "      <td>-0.074271</td>\n",
              "      <td>-0.215854</td>\n",
              "      <td>-0.061681</td>\n",
              "      <td>...</td>\n",
              "      <td>-0.586666</td>\n",
              "      <td>-0.216605</td>\n",
              "      <td>-0.092687</td>\n",
              "      <td>-0.081682</td>\n",
              "      <td>-0.599847</td>\n",
              "      <td>0.550452</td>\n",
              "      <td>0.468392</td>\n",
              "      <td>-0.247837</td>\n",
              "      <td>0.087675</td>\n",
              "      <td>O(logN)</td>\n",
              "    </tr>\n",
              "    <tr>\n",
              "      <th>1</th>\n",
              "      <td>0.102710</td>\n",
              "      <td>0.177498</td>\n",
              "      <td>-0.326135</td>\n",
              "      <td>0.302662</td>\n",
              "      <td>0.256015</td>\n",
              "      <td>0.207272</td>\n",
              "      <td>-0.175998</td>\n",
              "      <td>-0.057321</td>\n",
              "      <td>0.000238</td>\n",
              "      <td>0.019773</td>\n",
              "      <td>...</td>\n",
              "      <td>-0.386576</td>\n",
              "      <td>-0.253997</td>\n",
              "      <td>-0.026445</td>\n",
              "      <td>-0.061492</td>\n",
              "      <td>-0.581163</td>\n",
              "      <td>0.442037</td>\n",
              "      <td>0.418021</td>\n",
              "      <td>-0.194271</td>\n",
              "      <td>0.098900</td>\n",
              "      <td>O(logN)</td>\n",
              "    </tr>\n",
              "    <tr>\n",
              "      <th>2</th>\n",
              "      <td>0.099151</td>\n",
              "      <td>0.171953</td>\n",
              "      <td>-0.230760</td>\n",
              "      <td>0.147983</td>\n",
              "      <td>0.240728</td>\n",
              "      <td>0.211076</td>\n",
              "      <td>-0.085177</td>\n",
              "      <td>-0.008800</td>\n",
              "      <td>-0.065532</td>\n",
              "      <td>0.133410</td>\n",
              "      <td>...</td>\n",
              "      <td>-0.348318</td>\n",
              "      <td>-0.186028</td>\n",
              "      <td>-0.086344</td>\n",
              "      <td>-0.106616</td>\n",
              "      <td>-0.450628</td>\n",
              "      <td>0.463381</td>\n",
              "      <td>0.325981</td>\n",
              "      <td>-0.107556</td>\n",
              "      <td>0.129127</td>\n",
              "      <td>O(logN)</td>\n",
              "    </tr>\n",
              "    <tr>\n",
              "      <th>3</th>\n",
              "      <td>0.004622</td>\n",
              "      <td>0.254111</td>\n",
              "      <td>0.043829</td>\n",
              "      <td>0.140978</td>\n",
              "      <td>0.663985</td>\n",
              "      <td>0.359904</td>\n",
              "      <td>-0.219945</td>\n",
              "      <td>0.108162</td>\n",
              "      <td>-0.140120</td>\n",
              "      <td>-0.066035</td>\n",
              "      <td>...</td>\n",
              "      <td>-0.262810</td>\n",
              "      <td>-0.185516</td>\n",
              "      <td>-0.029431</td>\n",
              "      <td>-0.201144</td>\n",
              "      <td>-0.293320</td>\n",
              "      <td>0.295109</td>\n",
              "      <td>0.290326</td>\n",
              "      <td>-0.353395</td>\n",
              "      <td>0.164944</td>\n",
              "      <td>O(logN)</td>\n",
              "    </tr>\n",
              "    <tr>\n",
              "      <th>4</th>\n",
              "      <td>-0.013093</td>\n",
              "      <td>0.067878</td>\n",
              "      <td>-0.087897</td>\n",
              "      <td>0.155157</td>\n",
              "      <td>0.046141</td>\n",
              "      <td>0.043758</td>\n",
              "      <td>-0.005407</td>\n",
              "      <td>-0.022934</td>\n",
              "      <td>0.036307</td>\n",
              "      <td>0.224565</td>\n",
              "      <td>...</td>\n",
              "      <td>-0.180832</td>\n",
              "      <td>-0.147306</td>\n",
              "      <td>-0.039465</td>\n",
              "      <td>-0.092333</td>\n",
              "      <td>-0.350462</td>\n",
              "      <td>0.329363</td>\n",
              "      <td>0.250614</td>\n",
              "      <td>-0.131446</td>\n",
              "      <td>0.113169</td>\n",
              "      <td>O(logN)</td>\n",
              "    </tr>\n",
              "    <tr>\n",
              "      <th>...</th>\n",
              "      <td>...</td>\n",
              "      <td>...</td>\n",
              "      <td>...</td>\n",
              "      <td>...</td>\n",
              "      <td>...</td>\n",
              "      <td>...</td>\n",
              "      <td>...</td>\n",
              "      <td>...</td>\n",
              "      <td>...</td>\n",
              "      <td>...</td>\n",
              "      <td>...</td>\n",
              "      <td>...</td>\n",
              "      <td>...</td>\n",
              "      <td>...</td>\n",
              "      <td>...</td>\n",
              "      <td>...</td>\n",
              "      <td>...</td>\n",
              "      <td>...</td>\n",
              "      <td>...</td>\n",
              "      <td>...</td>\n",
              "      <td>...</td>\n",
              "    </tr>\n",
              "    <tr>\n",
              "      <th>715</th>\n",
              "      <td>0.162677</td>\n",
              "      <td>-0.179751</td>\n",
              "      <td>-0.320467</td>\n",
              "      <td>0.374476</td>\n",
              "      <td>0.487395</td>\n",
              "      <td>-0.065953</td>\n",
              "      <td>-0.380204</td>\n",
              "      <td>-0.143154</td>\n",
              "      <td>-0.065873</td>\n",
              "      <td>0.257494</td>\n",
              "      <td>...</td>\n",
              "      <td>-0.397525</td>\n",
              "      <td>0.117815</td>\n",
              "      <td>0.099337</td>\n",
              "      <td>-0.094519</td>\n",
              "      <td>-0.544291</td>\n",
              "      <td>0.213452</td>\n",
              "      <td>0.262748</td>\n",
              "      <td>-0.306325</td>\n",
              "      <td>-0.224609</td>\n",
              "      <td>O(NlogN)</td>\n",
              "    </tr>\n",
              "    <tr>\n",
              "      <th>716</th>\n",
              "      <td>0.183020</td>\n",
              "      <td>-0.166014</td>\n",
              "      <td>-0.231057</td>\n",
              "      <td>0.452174</td>\n",
              "      <td>0.562882</td>\n",
              "      <td>-0.138434</td>\n",
              "      <td>-0.443576</td>\n",
              "      <td>-0.284463</td>\n",
              "      <td>-0.054835</td>\n",
              "      <td>0.159889</td>\n",
              "      <td>...</td>\n",
              "      <td>-0.445122</td>\n",
              "      <td>0.000230</td>\n",
              "      <td>0.095979</td>\n",
              "      <td>-0.063981</td>\n",
              "      <td>-0.603873</td>\n",
              "      <td>0.114075</td>\n",
              "      <td>0.222806</td>\n",
              "      <td>-0.317638</td>\n",
              "      <td>-0.290131</td>\n",
              "      <td>O(NlogN)</td>\n",
              "    </tr>\n",
              "    <tr>\n",
              "      <th>717</th>\n",
              "      <td>0.184769</td>\n",
              "      <td>-0.201651</td>\n",
              "      <td>-0.235364</td>\n",
              "      <td>0.446800</td>\n",
              "      <td>0.547860</td>\n",
              "      <td>-0.155865</td>\n",
              "      <td>-0.472018</td>\n",
              "      <td>-0.309393</td>\n",
              "      <td>-0.079808</td>\n",
              "      <td>0.205073</td>\n",
              "      <td>...</td>\n",
              "      <td>-0.489142</td>\n",
              "      <td>-0.006414</td>\n",
              "      <td>0.128634</td>\n",
              "      <td>-0.109084</td>\n",
              "      <td>-0.605826</td>\n",
              "      <td>0.106701</td>\n",
              "      <td>0.230898</td>\n",
              "      <td>-0.321285</td>\n",
              "      <td>-0.266228</td>\n",
              "      <td>O(NlogN)</td>\n",
              "    </tr>\n",
              "    <tr>\n",
              "      <th>718</th>\n",
              "      <td>0.255681</td>\n",
              "      <td>-0.193824</td>\n",
              "      <td>-0.382822</td>\n",
              "      <td>0.447094</td>\n",
              "      <td>0.499922</td>\n",
              "      <td>-0.083941</td>\n",
              "      <td>-0.402473</td>\n",
              "      <td>-0.251599</td>\n",
              "      <td>-0.028515</td>\n",
              "      <td>0.150684</td>\n",
              "      <td>...</td>\n",
              "      <td>-0.498780</td>\n",
              "      <td>0.046986</td>\n",
              "      <td>0.124914</td>\n",
              "      <td>-0.117825</td>\n",
              "      <td>-0.633948</td>\n",
              "      <td>0.106924</td>\n",
              "      <td>0.273179</td>\n",
              "      <td>-0.336416</td>\n",
              "      <td>-0.300430</td>\n",
              "      <td>O(NlogN)</td>\n",
              "    </tr>\n",
              "    <tr>\n",
              "      <th>719</th>\n",
              "      <td>0.782572</td>\n",
              "      <td>-0.163111</td>\n",
              "      <td>-0.738689</td>\n",
              "      <td>0.510340</td>\n",
              "      <td>0.762960</td>\n",
              "      <td>0.278493</td>\n",
              "      <td>-0.506301</td>\n",
              "      <td>-0.299853</td>\n",
              "      <td>-0.460638</td>\n",
              "      <td>-0.063568</td>\n",
              "      <td>...</td>\n",
              "      <td>-1.165067</td>\n",
              "      <td>0.113273</td>\n",
              "      <td>0.033455</td>\n",
              "      <td>-0.083436</td>\n",
              "      <td>-0.703199</td>\n",
              "      <td>0.322280</td>\n",
              "      <td>0.512571</td>\n",
              "      <td>-0.172656</td>\n",
              "      <td>-0.565512</td>\n",
              "      <td>O(NlogN)</td>\n",
              "    </tr>\n",
              "  </tbody>\n",
              "</table>\n",
              "<p>720 rows × 129 columns</p>\n",
              "</div>\n",
              "      <button class=\"colab-df-convert\" onclick=\"convertToInteractive('df-e0aa5733-7a9e-4853-9036-ea8385ea2977')\"\n",
              "              title=\"Convert this dataframe to an interactive table.\"\n",
              "              style=\"display:none;\">\n",
              "        \n",
              "  <svg xmlns=\"http://www.w3.org/2000/svg\" height=\"24px\"viewBox=\"0 0 24 24\"\n",
              "       width=\"24px\">\n",
              "    <path d=\"M0 0h24v24H0V0z\" fill=\"none\"/>\n",
              "    <path d=\"M18.56 5.44l.94 2.06.94-2.06 2.06-.94-2.06-.94-.94-2.06-.94 2.06-2.06.94zm-11 1L8.5 8.5l.94-2.06 2.06-.94-2.06-.94L8.5 2.5l-.94 2.06-2.06.94zm10 10l.94 2.06.94-2.06 2.06-.94-2.06-.94-.94-2.06-.94 2.06-2.06.94z\"/><path d=\"M17.41 7.96l-1.37-1.37c-.4-.4-.92-.59-1.43-.59-.52 0-1.04.2-1.43.59L10.3 9.45l-7.72 7.72c-.78.78-.78 2.05 0 2.83L4 21.41c.39.39.9.59 1.41.59.51 0 1.02-.2 1.41-.59l7.78-7.78 2.81-2.81c.8-.78.8-2.07 0-2.86zM5.41 20L4 18.59l7.72-7.72 1.47 1.35L5.41 20z\"/>\n",
              "  </svg>\n",
              "      </button>\n",
              "      \n",
              "  <style>\n",
              "    .colab-df-container {\n",
              "      display:flex;\n",
              "      flex-wrap:wrap;\n",
              "      gap: 12px;\n",
              "    }\n",
              "\n",
              "    .colab-df-convert {\n",
              "      background-color: #E8F0FE;\n",
              "      border: none;\n",
              "      border-radius: 50%;\n",
              "      cursor: pointer;\n",
              "      display: none;\n",
              "      fill: #1967D2;\n",
              "      height: 32px;\n",
              "      padding: 0 0 0 0;\n",
              "      width: 32px;\n",
              "    }\n",
              "\n",
              "    .colab-df-convert:hover {\n",
              "      background-color: #E2EBFA;\n",
              "      box-shadow: 0px 1px 2px rgba(60, 64, 67, 0.3), 0px 1px 3px 1px rgba(60, 64, 67, 0.15);\n",
              "      fill: #174EA6;\n",
              "    }\n",
              "\n",
              "    [theme=dark] .colab-df-convert {\n",
              "      background-color: #3B4455;\n",
              "      fill: #D2E3FC;\n",
              "    }\n",
              "\n",
              "    [theme=dark] .colab-df-convert:hover {\n",
              "      background-color: #434B5C;\n",
              "      box-shadow: 0px 1px 3px 1px rgba(0, 0, 0, 0.15);\n",
              "      filter: drop-shadow(0px 1px 2px rgba(0, 0, 0, 0.3));\n",
              "      fill: #FFFFFF;\n",
              "    }\n",
              "  </style>\n",
              "\n",
              "      <script>\n",
              "        const buttonEl =\n",
              "          document.querySelector('#df-e0aa5733-7a9e-4853-9036-ea8385ea2977 button.colab-df-convert');\n",
              "        buttonEl.style.display =\n",
              "          google.colab.kernel.accessAllowed ? 'block' : 'none';\n",
              "\n",
              "        async function convertToInteractive(key) {\n",
              "          const element = document.querySelector('#df-e0aa5733-7a9e-4853-9036-ea8385ea2977');\n",
              "          const dataTable =\n",
              "            await google.colab.kernel.invokeFunction('convertToInteractive',\n",
              "                                                     [key], {});\n",
              "          if (!dataTable) return;\n",
              "\n",
              "          const docLinkHtml = 'Like what you see? Visit the ' +\n",
              "            '<a target=\"_blank\" href=https://colab.research.google.com/notebooks/data_table.ipynb>data table notebook</a>'\n",
              "            + ' to learn more about interactive tables.';\n",
              "          element.innerHTML = '';\n",
              "          dataTable['output_type'] = 'display_data';\n",
              "          await google.colab.output.renderOutput(dataTable, element);\n",
              "          const docLink = document.createElement('div');\n",
              "          docLink.innerHTML = docLinkHtml;\n",
              "          element.appendChild(docLink);\n",
              "        }\n",
              "      </script>\n",
              "    </div>\n",
              "  </div>\n",
              "  "
            ]
          },
          "metadata": {},
          "execution_count": 143
        }
      ]
    },
    {
      "cell_type": "code",
      "source": [
        "sns.countplot(df['Complexity'])"
      ],
      "metadata": {
        "colab": {
          "base_uri": "https://localhost:8080/",
          "height": 351
        },
        "id": "XzoRcyZpQH0_",
        "outputId": "56f89894-71a6-42e9-8a7f-fd76b3a9857e"
      },
      "execution_count": null,
      "outputs": [
        {
          "output_type": "stream",
          "name": "stderr",
          "text": [
            "/usr/local/lib/python3.7/dist-packages/seaborn/_decorators.py:43: FutureWarning: Pass the following variable as a keyword arg: x. From version 0.12, the only valid positional argument will be `data`, and passing other arguments without an explicit keyword will result in an error or misinterpretation.\n",
            "  FutureWarning\n"
          ]
        },
        {
          "output_type": "execute_result",
          "data": {
            "text/plain": [
              "<matplotlib.axes._subplots.AxesSubplot at 0x7f15920512d0>"
            ]
          },
          "metadata": {},
          "execution_count": 144
        },
        {
          "output_type": "display_data",
          "data": {
            "text/plain": [
              "<Figure size 432x288 with 1 Axes>"
            ],
            "image/png": "[encoded data removed]"
          },
          "metadata": {
            "needs_background": "light"
          }
        }
      ]
    },
    {
      "cell_type": "code",
      "source": [],
      "metadata": {
        "id": "xboshCOkV0o8"
      },
      "execution_count": null,
      "outputs": []
    }
  ]
}