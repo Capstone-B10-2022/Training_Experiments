{
  "cells": [
    {
      "cell_type": "markdown",
      "source": [
        "#Importing the required libraries"
      ],
      "metadata": {
        "id": "rQaWtUGJvpa5"
      }
    },
    {
      "cell_type": "code",
      "execution_count": null,
      "metadata": {
        "id": "8cxhqXV8yqKA"
      },
      "outputs": [],
      "source": [
        "#from google.colab import drive\n",
        "#drive.mount('/content/drive')\n",
        "\n",
        "#import pandas to read the csv file\n",
        "import pandas as pd\n",
        "import numpy as np"
      ]
    },
    {
      "cell_type": "code",
      "execution_count": null,
      "metadata": {
        "id": "ap5dzyYw1IYq"
      },
      "outputs": [],
      "source": [
        "#Importing Libraries\n",
        "import pickle \n",
        "import numpy as np\n",
        "import pandas as pd\n",
        "from sklearn.model_selection import train_test_split\n",
        "from sklearn.preprocessing import StandardScaler\n",
        "from sklearn.ensemble import RandomForestClassifier\n",
        "from sklearn.metrics import confusion_matrix\n"
      ]
    },
    {
      "cell_type": "code",
      "source": [
        "from sklearn.metrics import accuracy_score,confusion_matrix\n",
        "from sklearn.metrics import classification_report\n",
        "from sklearn.metrics import precision_score,recall_score,f1_score,cohen_kappa_score,roc_auc_score"
      ],
      "metadata": {
        "id": "X3K9hRCZvwrU"
      },
      "execution_count": null,
      "outputs": []
    },
    {
      "cell_type": "markdown",
      "source": [
        "#Loading the data and converting into a dataframe"
      ],
      "metadata": {
        "id": "QO_7LViKvhi3"
      }
    },
    {
      "cell_type": "code",
      "execution_count": null,
      "metadata": {
        "id": "ZeuIGWUi08IY"
      },
      "outputs": [],
      "source": [
        "#reading the y.txt file which contains labels\n",
        "y = pd.read_csv('y.txt', sep = \" \", header=None, names=[\"Complexity\", \"Node Number\", \"Language\"])"
      ]
    },
    {
      "cell_type": "code",
      "execution_count": null,
      "metadata": {
        "colab": {
          "base_uri": "https://localhost:8080/",
          "height": 424
        },
        "id": "286DUU7X0brh",
        "outputId": "c5b6d812-a02f-456f-f461-3ce339e2c5f3"
      },
      "outputs": [
        {
          "output_type": "execute_result",
          "data": {
            "text/plain": [
              "    Complexity Node Number Language\n",
              "0         O(1)      nodes0        C\n",
              "1        O(2n)      nodes0        C\n",
              "2        O(2n)      nodes1        C\n",
              "3      O(logN)      nodes0        C\n",
              "4      O(logN)      nodes1        C\n",
              "..         ...         ...      ...\n",
              "735   O(NlogN)      nodes5     Java\n",
              "736   O(NlogN)      nodes6     Java\n",
              "737   O(NlogN)      nodes7     Java\n",
              "738   O(NlogN)      nodes8     Java\n",
              "739   O(NlogN)      nodes9     Java\n",
              "\n",
              "[740 rows x 3 columns]"
            ],
            "text/html": [
              "\n",
              "  <div id=\"df-b92cfe23-90a4-44ec-8e8a-bf978e52b17d\">\n",
              "    <div class=\"colab-df-container\">\n",
              "      <div>\n",
              "<style scoped>\n",
              "    .dataframe tbody tr th:only-of-type {\n",
              "        vertical-align: middle;\n",
              "    }\n",
              "\n",
              "    .dataframe tbody tr th {\n",
              "        vertical-align: top;\n",
              "    }\n",
              "\n",
              "    .dataframe thead th {\n",
              "        text-align: right;\n",
              "    }\n",
              "</style>\n",
              "<table border=\"1\" class=\"dataframe\">\n",
              "  <thead>\n",
              "    <tr style=\"text-align: right;\">\n",
              "      <th></th>\n",
              "      <th>Complexity</th>\n",
              "      <th>Node Number</th>\n",
              "      <th>Language</th>\n",
              "    </tr>\n",
              "  </thead>\n",
              "  <tbody>\n",
              "    <tr>\n",
              "      <th>0</th>\n",
              "      <td>O(1)</td>\n",
              "      <td>nodes0</td>\n",
              "      <td>C</td>\n",
              "    </tr>\n",
              "    <tr>\n",
              "      <th>1</th>\n",
              "      <td>O(2n)</td>\n",
              "      <td>nodes0</td>\n",
              "      <td>C</td>\n",
              "    </tr>\n",
              "    <tr>\n",
              "      <th>2</th>\n",
              "      <td>O(2n)</td>\n",
              "      <td>nodes1</td>\n",
              "      <td>C</td>\n",
              "    </tr>\n",
              "    <tr>\n",
              "      <th>3</th>\n",
              "      <td>O(logN)</td>\n",
              "      <td>nodes0</td>\n",
              "      <td>C</td>\n",
              "    </tr>\n",
              "    <tr>\n",
              "      <th>4</th>\n",
              "      <td>O(logN)</td>\n",
              "      <td>nodes1</td>\n",
              "      <td>C</td>\n",
              "    </tr>\n",
              "    <tr>\n",
              "      <th>...</th>\n",
              "      <td>...</td>\n",
              "      <td>...</td>\n",
              "      <td>...</td>\n",
              "    </tr>\n",
              "    <tr>\n",
              "      <th>735</th>\n",
              "      <td>O(NlogN)</td>\n",
              "      <td>nodes5</td>\n",
              "      <td>Java</td>\n",
              "    </tr>\n",
              "    <tr>\n",
              "      <th>736</th>\n",
              "      <td>O(NlogN)</td>\n",
              "      <td>nodes6</td>\n",
              "      <td>Java</td>\n",
              "    </tr>\n",
              "    <tr>\n",
              "      <th>737</th>\n",
              "      <td>O(NlogN)</td>\n",
              "      <td>nodes7</td>\n",
              "      <td>Java</td>\n",
              "    </tr>\n",
              "    <tr>\n",
              "      <th>738</th>\n",
              "      <td>O(NlogN)</td>\n",
              "      <td>nodes8</td>\n",
              "      <td>Java</td>\n",
              "    </tr>\n",
              "    <tr>\n",
              "      <th>739</th>\n",
              "      <td>O(NlogN)</td>\n",
              "      <td>nodes9</td>\n",
              "      <td>Java</td>\n",
              "    </tr>\n",
              "  </tbody>\n",
              "</table>\n",
              "<p>740 rows × 3 columns</p>\n",
              "</div>\n",
              "      <button class=\"colab-df-convert\" onclick=\"convertToInteractive('df-b92cfe23-90a4-44ec-8e8a-bf978e52b17d')\"\n",
              "              title=\"Convert this dataframe to an interactive table.\"\n",
              "              style=\"display:none;\">\n",
              "        \n",
              "  <svg xmlns=\"http://www.w3.org/2000/svg\" height=\"24px\"viewBox=\"0 0 24 24\"\n",
              "       width=\"24px\">\n",
              "    <path d=\"M0 0h24v24H0V0z\" fill=\"none\"/>\n",
              "    <path d=\"M18.56 5.44l.94 2.06.94-2.06 2.06-.94-2.06-.94-.94-2.06-.94 2.06-2.06.94zm-11 1L8.5 8.5l.94-2.06 2.06-.94-2.06-.94L8.5 2.5l-.94 2.06-2.06.94zm10 10l.94 2.06.94-2.06 2.06-.94-2.06-.94-.94-2.06-.94 2.06-2.06.94z\"/><path d=\"M17.41 7.96l-1.37-1.37c-.4-.4-.92-.59-1.43-.59-.52 0-1.04.2-1.43.59L10.3 9.45l-7.72 7.72c-.78.78-.78 2.05 0 2.83L4 21.41c.39.39.9.59 1.41.59.51 0 1.02-.2 1.41-.59l7.78-7.78 2.81-2.81c.8-.78.8-2.07 0-2.86zM5.41 20L4 18.59l7.72-7.72 1.47 1.35L5.41 20z\"/>\n",
              "  </svg>\n",
              "      </button>\n",
              "      \n",
              "  <style>\n",
              "    .colab-df-container {\n",
              "      display:flex;\n",
              "      flex-wrap:wrap;\n",
              "      gap: 12px;\n",
              "    }\n",
              "\n",
              "    .colab-df-convert {\n",
              "      background-color: #E8F0FE;\n",
              "      border: none;\n",
              "      border-radius: 50%;\n",
              "      cursor: pointer;\n",
              "      display: none;\n",
              "      fill: #1967D2;\n",
              "      height: 32px;\n",
              "      padding: 0 0 0 0;\n",
              "      width: 32px;\n",
              "    }\n",
              "\n",
              "    .colab-df-convert:hover {\n",
              "      background-color: #E2EBFA;\n",
              "      box-shadow: 0px 1px 2px rgba(60, 64, 67, 0.3), 0px 1px 3px 1px rgba(60, 64, 67, 0.15);\n",
              "      fill: #174EA6;\n",
              "    }\n",
              "\n",
              "    [theme=dark] .colab-df-convert {\n",
              "      background-color: #3B4455;\n",
              "      fill: #D2E3FC;\n",
              "    }\n",
              "\n",
              "    [theme=dark] .colab-df-convert:hover {\n",
              "      background-color: #434B5C;\n",
              "      box-shadow: 0px 1px 3px 1px rgba(0, 0, 0, 0.15);\n",
              "      filter: drop-shadow(0px 1px 2px rgba(0, 0, 0, 0.3));\n",
              "      fill: #FFFFFF;\n",
              "    }\n",
              "  </style>\n",
              "\n",
              "      <script>\n",
              "        const buttonEl =\n",
              "          document.querySelector('#df-b92cfe23-90a4-44ec-8e8a-bf978e52b17d button.colab-df-convert');\n",
              "        buttonEl.style.display =\n",
              "          google.colab.kernel.accessAllowed ? 'block' : 'none';\n",
              "\n",
              "        async function convertToInteractive(key) {\n",
              "          const element = document.querySelector('#df-b92cfe23-90a4-44ec-8e8a-bf978e52b17d');\n",
              "          const dataTable =\n",
              "            await google.colab.kernel.invokeFunction('convertToInteractive',\n",
              "                                                     [key], {});\n",
              "          if (!dataTable) return;\n",
              "\n",
              "          const docLinkHtml = 'Like what you see? Visit the ' +\n",
              "            '<a target=\"_blank\" href=https://colab.research.google.com/notebooks/data_table.ipynb>data table notebook</a>'\n",
              "            + ' to learn more about interactive tables.';\n",
              "          element.innerHTML = '';\n",
              "          dataTable['output_type'] = 'display_data';\n",
              "          await google.colab.output.renderOutput(dataTable, element);\n",
              "          const docLink = document.createElement('div');\n",
              "          docLink.innerHTML = docLinkHtml;\n",
              "          element.appendChild(docLink);\n",
              "        }\n",
              "      </script>\n",
              "    </div>\n",
              "  </div>\n",
              "  "
            ]
          },
          "metadata": {},
          "execution_count": 4
        }
      ],
      "source": [
        "y"
      ]
    },
    {
      "cell_type": "code",
      "execution_count": null,
      "metadata": {
        "id": "7a3zU35O1UPe"
      },
      "outputs": [],
      "source": [
        "x = np.load('x.npy')"
      ]
    },
    {
      "cell_type": "code",
      "execution_count": null,
      "metadata": {
        "colab": {
          "base_uri": "https://localhost:8080/"
        },
        "id": "8KsBc9yHhPqo",
        "outputId": "e2cb604e-697b-4c23-db7e-dc8948b2a30f"
      },
      "outputs": [
        {
          "output_type": "execute_result",
          "data": {
            "text/plain": [
              "array([[-0.05468176,  0.127175  ,  0.0366478 , ...,  0.09731236,\n",
              "        -0.107657  ,  0.08184043],\n",
              "       [-0.0952346 ,  0.17503381,  0.06393544, ...,  0.1181241 ,\n",
              "        -0.12556435,  0.13071893],\n",
              "       [-0.13581266,  0.21943617,  0.10214286, ...,  0.1283566 ,\n",
              "        -0.14471857,  0.19222681],\n",
              "       ...,\n",
              "       [ 0.18476942, -0.20165125, -0.23536444, ...,  0.23089787,\n",
              "        -0.3212845 , -0.2662279 ],\n",
              "       [ 0.25568134, -0.19382419, -0.3828221 , ...,  0.27317905,\n",
              "        -0.33641592, -0.30042982],\n",
              "       [ 0.78257215, -0.16311097, -0.7386889 , ...,  0.5125705 ,\n",
              "        -0.17265631, -0.5655121 ]], dtype=float32)"
            ]
          },
          "metadata": {},
          "execution_count": 6
        }
      ],
      "source": [
        "x"
      ]
    },
    {
      "cell_type": "code",
      "execution_count": null,
      "metadata": {
        "id": "SlGnfz__1PI9"
      },
      "outputs": [],
      "source": [
        "df = []\n",
        "for i in range(len(x)):\n",
        "  emb = x[i].tolist()\n",
        "  # emb.append(y[i])\n",
        "  df.append(emb)\n",
        "col = []\n",
        "for i in range(128):\n",
        "  col.append('emb'+str(i+1))\n",
        "# col.append('classes')\n",
        "df = pd.DataFrame(df, columns=col)"
      ]
    },
    {
      "cell_type": "code",
      "execution_count": null,
      "metadata": {
        "colab": {
          "base_uri": "https://localhost:8080/",
          "height": 488
        },
        "id": "SjzyYnM_fUCL",
        "outputId": "fb6b4801-81ab-450e-cad4-b2fb624ee592"
      },
      "outputs": [
        {
          "output_type": "execute_result",
          "data": {
            "text/plain": [
              "         emb1      emb2      emb3      emb4      emb5      emb6      emb7  \\\n",
              "0   -0.054682  0.127175  0.036648  0.090353  0.192498  0.043540 -0.060334   \n",
              "1   -0.095235  0.175034  0.063935  0.117448  0.255929  0.064811 -0.072923   \n",
              "2   -0.135813  0.219436  0.102143  0.135153  0.286394  0.068151 -0.078952   \n",
              "3    0.270222  0.300358 -0.445603  0.196632  0.531115  0.433794 -0.261992   \n",
              "4    0.102710  0.177498 -0.326135  0.302662  0.256015  0.207272 -0.175998   \n",
              "..        ...       ...       ...       ...       ...       ...       ...   \n",
              "735  0.162677 -0.179751 -0.320467  0.374476  0.487395 -0.065953 -0.380204   \n",
              "736  0.183020 -0.166014 -0.231057  0.452174  0.562882 -0.138434 -0.443576   \n",
              "737  0.184769 -0.201651 -0.235364  0.446800  0.547860 -0.155865 -0.472018   \n",
              "738  0.255681 -0.193824 -0.382822  0.447094  0.499922 -0.083941 -0.402473   \n",
              "739  0.782572 -0.163111 -0.738689  0.510340  0.762960  0.278493 -0.506301   \n",
              "\n",
              "         emb8      emb9     emb10  ...    emb119    emb120    emb121  \\\n",
              "0   -0.037632 -0.001838  0.116995  ... -0.125052 -0.049275 -0.131080   \n",
              "1   -0.032716  0.013575  0.152739  ... -0.191601 -0.024092 -0.185713   \n",
              "2   -0.003041  0.021949  0.182400  ... -0.259607  0.008541 -0.236532   \n",
              "3   -0.074271 -0.215854 -0.061681  ... -0.392645 -0.586666 -0.216605   \n",
              "4   -0.057321  0.000238  0.019773  ... -0.449514 -0.386576 -0.253997   \n",
              "..        ...       ...       ...  ...       ...       ...       ...   \n",
              "735 -0.143154 -0.065873  0.257494  ... -0.329598 -0.397525  0.117815   \n",
              "736 -0.284463 -0.054835  0.159889  ... -0.263365 -0.445122  0.000230   \n",
              "737 -0.309393 -0.079808  0.205073  ... -0.239681 -0.489142 -0.006414   \n",
              "738 -0.251599 -0.028515  0.150684  ... -0.323401 -0.498780  0.046986   \n",
              "739 -0.299853 -0.460638 -0.063568  ... -0.437831 -1.165067  0.113273   \n",
              "\n",
              "       emb122    emb123    emb124    emb125    emb126    emb127    emb128  \n",
              "0    0.002272 -0.017875 -0.209266  0.199226  0.097312 -0.107657  0.081840  \n",
              "1   -0.016963 -0.040366 -0.277818  0.261729  0.118124 -0.125564  0.130719  \n",
              "2   -0.032249 -0.071049 -0.334604  0.334102  0.128357 -0.144719  0.192227  \n",
              "3   -0.092687 -0.081682 -0.599847  0.550452  0.468392 -0.247837  0.087675  \n",
              "4   -0.026445 -0.061492 -0.581163  0.442037  0.418021 -0.194271  0.098900  \n",
              "..        ...       ...       ...       ...       ...       ...       ...  \n",
              "735  0.099337 -0.094519 -0.544291  0.213452  0.262748 -0.306325 -0.224609  \n",
              "736  0.095979 -0.063981 -0.603873  0.114075  0.222806 -0.317638 -0.290131  \n",
              "737  0.128634 -0.109084 -0.605826  0.106701  0.230898 -0.321285 -0.266228  \n",
              "738  0.124914 -0.117825 -0.633948  0.106924  0.273179 -0.336416 -0.300430  \n",
              "739  0.033455 -0.083436 -0.703199  0.322280  0.512571 -0.172656 -0.565512  \n",
              "\n",
              "[740 rows x 128 columns]"
            ],
            "text/html": [
              "\n",
              "  <div id=\"df-50e3f0d2-1c21-4fa5-8923-6f879dc2c555\">\n",
              "    <div class=\"colab-df-container\">\n",
              "      <div>\n",
              "<style scoped>\n",
              "    .dataframe tbody tr th:only-of-type {\n",
              "        vertical-align: middle;\n",
              "    }\n",
              "\n",
              "    .dataframe tbody tr th {\n",
              "        vertical-align: top;\n",
              "    }\n",
              "\n",
              "    .dataframe thead th {\n",
              "        text-align: right;\n",
              "    }\n",
              "</style>\n",
              "<table border=\"1\" class=\"dataframe\">\n",
              "  <thead>\n",
              "    <tr style=\"text-align: right;\">\n",
              "      <th></th>\n",
              "      <th>emb1</th>\n",
              "      <th>emb2</th>\n",
              "      <th>emb3</th>\n",
              "      <th>emb4</th>\n",
              "      <th>emb5</th>\n",
              "      <th>emb6</th>\n",
              "      <th>emb7</th>\n",
              "      <th>emb8</th>\n",
              "      <th>emb9</th>\n",
              "      <th>emb10</th>\n",
              "      <th>...</th>\n",
              "      <th>emb119</th>\n",
              "      <th>emb120</th>\n",
              "      <th>emb121</th>\n",
              "      <th>emb122</th>\n",
              "      <th>emb123</th>\n",
              "      <th>emb124</th>\n",
              "      <th>emb125</th>\n",
              "      <th>emb126</th>\n",
              "      <th>emb127</th>\n",
              "      <th>emb128</th>\n",
              "    </tr>\n",
              "  </thead>\n",
              "  <tbody>\n",
              "    <tr>\n",
              "      <th>0</th>\n",
              "      <td>-0.054682</td>\n",
              "      <td>0.127175</td>\n",
              "      <td>0.036648</td>\n",
              "      <td>0.090353</td>\n",
              "      <td>0.192498</td>\n",
              "      <td>0.043540</td>\n",
              "      <td>-0.060334</td>\n",
              "      <td>-0.037632</td>\n",
              "      <td>-0.001838</td>\n",
              "      <td>0.116995</td>\n",
              "      <td>...</td>\n",
              "      <td>-0.125052</td>\n",
              "      <td>-0.049275</td>\n",
              "      <td>-0.131080</td>\n",
              "      <td>0.002272</td>\n",
              "      <td>-0.017875</td>\n",
              "      <td>-0.209266</td>\n",
              "      <td>0.199226</td>\n",
              "      <td>0.097312</td>\n",
              "      <td>-0.107657</td>\n",
              "      <td>0.081840</td>\n",
              "    </tr>\n",
              "    <tr>\n",
              "      <th>1</th>\n",
              "      <td>-0.095235</td>\n",
              "      <td>0.175034</td>\n",
              "      <td>0.063935</td>\n",
              "      <td>0.117448</td>\n",
              "      <td>0.255929</td>\n",
              "      <td>0.064811</td>\n",
              "      <td>-0.072923</td>\n",
              "      <td>-0.032716</td>\n",
              "      <td>0.013575</td>\n",
              "      <td>0.152739</td>\n",
              "      <td>...</td>\n",
              "      <td>-0.191601</td>\n",
              "      <td>-0.024092</td>\n",
              "      <td>-0.185713</td>\n",
              "      <td>-0.016963</td>\n",
              "      <td>-0.040366</td>\n",
              "      <td>-0.277818</td>\n",
              "      <td>0.261729</td>\n",
              "      <td>0.118124</td>\n",
              "      <td>-0.125564</td>\n",
              "      <td>0.130719</td>\n",
              "    </tr>\n",
              "    <tr>\n",
              "      <th>2</th>\n",
              "      <td>-0.135813</td>\n",
              "      <td>0.219436</td>\n",
              "      <td>0.102143</td>\n",
              "      <td>0.135153</td>\n",
              "      <td>0.286394</td>\n",
              "      <td>0.068151</td>\n",
              "      <td>-0.078952</td>\n",
              "      <td>-0.003041</td>\n",
              "      <td>0.021949</td>\n",
              "      <td>0.182400</td>\n",
              "      <td>...</td>\n",
              "      <td>-0.259607</td>\n",
              "      <td>0.008541</td>\n",
              "      <td>-0.236532</td>\n",
              "      <td>-0.032249</td>\n",
              "      <td>-0.071049</td>\n",
              "      <td>-0.334604</td>\n",
              "      <td>0.334102</td>\n",
              "      <td>0.128357</td>\n",
              "      <td>-0.144719</td>\n",
              "      <td>0.192227</td>\n",
              "    </tr>\n",
              "    <tr>\n",
              "      <th>3</th>\n",
              "      <td>0.270222</td>\n",
              "      <td>0.300358</td>\n",
              "      <td>-0.445603</td>\n",
              "      <td>0.196632</td>\n",
              "      <td>0.531115</td>\n",
              "      <td>0.433794</td>\n",
              "      <td>-0.261992</td>\n",
              "      <td>-0.074271</td>\n",
              "      <td>-0.215854</td>\n",
              "      <td>-0.061681</td>\n",
              "      <td>...</td>\n",
              "      <td>-0.392645</td>\n",
              "      <td>-0.586666</td>\n",
              "      <td>-0.216605</td>\n",
              "      <td>-0.092687</td>\n",
              "      <td>-0.081682</td>\n",
              "      <td>-0.599847</td>\n",
              "      <td>0.550452</td>\n",
              "      <td>0.468392</td>\n",
              "      <td>-0.247837</td>\n",
              "      <td>0.087675</td>\n",
              "    </tr>\n",
              "    <tr>\n",
              "      <th>4</th>\n",
              "      <td>0.102710</td>\n",
              "      <td>0.177498</td>\n",
              "      <td>-0.326135</td>\n",
              "      <td>0.302662</td>\n",
              "      <td>0.256015</td>\n",
              "      <td>0.207272</td>\n",
              "      <td>-0.175998</td>\n",
              "      <td>-0.057321</td>\n",
              "      <td>0.000238</td>\n",
              "      <td>0.019773</td>\n",
              "      <td>...</td>\n",
              "      <td>-0.449514</td>\n",
              "      <td>-0.386576</td>\n",
              "      <td>-0.253997</td>\n",
              "      <td>-0.026445</td>\n",
              "      <td>-0.061492</td>\n",
              "      <td>-0.581163</td>\n",
              "      <td>0.442037</td>\n",
              "      <td>0.418021</td>\n",
              "      <td>-0.194271</td>\n",
              "      <td>0.098900</td>\n",
              "    </tr>\n",
              "    <tr>\n",
              "      <th>...</th>\n",
              "      <td>...</td>\n",
              "      <td>...</td>\n",
              "      <td>...</td>\n",
              "      <td>...</td>\n",
              "      <td>...</td>\n",
              "      <td>...</td>\n",
              "      <td>...</td>\n",
              "      <td>...</td>\n",
              "      <td>...</td>\n",
              "      <td>...</td>\n",
              "      <td>...</td>\n",
              "      <td>...</td>\n",
              "      <td>...</td>\n",
              "      <td>...</td>\n",
              "      <td>...</td>\n",
              "      <td>...</td>\n",
              "      <td>...</td>\n",
              "      <td>...</td>\n",
              "      <td>...</td>\n",
              "      <td>...</td>\n",
              "      <td>...</td>\n",
              "    </tr>\n",
              "    <tr>\n",
              "      <th>735</th>\n",
              "      <td>0.162677</td>\n",
              "      <td>-0.179751</td>\n",
              "      <td>-0.320467</td>\n",
              "      <td>0.374476</td>\n",
              "      <td>0.487395</td>\n",
              "      <td>-0.065953</td>\n",
              "      <td>-0.380204</td>\n",
              "      <td>-0.143154</td>\n",
              "      <td>-0.065873</td>\n",
              "      <td>0.257494</td>\n",
              "      <td>...</td>\n",
              "      <td>-0.329598</td>\n",
              "      <td>-0.397525</td>\n",
              "      <td>0.117815</td>\n",
              "      <td>0.099337</td>\n",
              "      <td>-0.094519</td>\n",
              "      <td>-0.544291</td>\n",
              "      <td>0.213452</td>\n",
              "      <td>0.262748</td>\n",
              "      <td>-0.306325</td>\n",
              "      <td>-0.224609</td>\n",
              "    </tr>\n",
              "    <tr>\n",
              "      <th>736</th>\n",
              "      <td>0.183020</td>\n",
              "      <td>-0.166014</td>\n",
              "      <td>-0.231057</td>\n",
              "      <td>0.452174</td>\n",
              "      <td>0.562882</td>\n",
              "      <td>-0.138434</td>\n",
              "      <td>-0.443576</td>\n",
              "      <td>-0.284463</td>\n",
              "      <td>-0.054835</td>\n",
              "      <td>0.159889</td>\n",
              "      <td>...</td>\n",
              "      <td>-0.263365</td>\n",
              "      <td>-0.445122</td>\n",
              "      <td>0.000230</td>\n",
              "      <td>0.095979</td>\n",
              "      <td>-0.063981</td>\n",
              "      <td>-0.603873</td>\n",
              "      <td>0.114075</td>\n",
              "      <td>0.222806</td>\n",
              "      <td>-0.317638</td>\n",
              "      <td>-0.290131</td>\n",
              "    </tr>\n",
              "    <tr>\n",
              "      <th>737</th>\n",
              "      <td>0.184769</td>\n",
              "      <td>-0.201651</td>\n",
              "      <td>-0.235364</td>\n",
              "      <td>0.446800</td>\n",
              "      <td>0.547860</td>\n",
              "      <td>-0.155865</td>\n",
              "      <td>-0.472018</td>\n",
              "      <td>-0.309393</td>\n",
              "      <td>-0.079808</td>\n",
              "      <td>0.205073</td>\n",
              "      <td>...</td>\n",
              "      <td>-0.239681</td>\n",
              "      <td>-0.489142</td>\n",
              "      <td>-0.006414</td>\n",
              "      <td>0.128634</td>\n",
              "      <td>-0.109084</td>\n",
              "      <td>-0.605826</td>\n",
              "      <td>0.106701</td>\n",
              "      <td>0.230898</td>\n",
              "      <td>-0.321285</td>\n",
              "      <td>-0.266228</td>\n",
              "    </tr>\n",
              "    <tr>\n",
              "      <th>738</th>\n",
              "      <td>0.255681</td>\n",
              "      <td>-0.193824</td>\n",
              "      <td>-0.382822</td>\n",
              "      <td>0.447094</td>\n",
              "      <td>0.499922</td>\n",
              "      <td>-0.083941</td>\n",
              "      <td>-0.402473</td>\n",
              "      <td>-0.251599</td>\n",
              "      <td>-0.028515</td>\n",
              "      <td>0.150684</td>\n",
              "      <td>...</td>\n",
              "      <td>-0.323401</td>\n",
              "      <td>-0.498780</td>\n",
              "      <td>0.046986</td>\n",
              "      <td>0.124914</td>\n",
              "      <td>-0.117825</td>\n",
              "      <td>-0.633948</td>\n",
              "      <td>0.106924</td>\n",
              "      <td>0.273179</td>\n",
              "      <td>-0.336416</td>\n",
              "      <td>-0.300430</td>\n",
              "    </tr>\n",
              "    <tr>\n",
              "      <th>739</th>\n",
              "      <td>0.782572</td>\n",
              "      <td>-0.163111</td>\n",
              "      <td>-0.738689</td>\n",
              "      <td>0.510340</td>\n",
              "      <td>0.762960</td>\n",
              "      <td>0.278493</td>\n",
              "      <td>-0.506301</td>\n",
              "      <td>-0.299853</td>\n",
              "      <td>-0.460638</td>\n",
              "      <td>-0.063568</td>\n",
              "      <td>...</td>\n",
              "      <td>-0.437831</td>\n",
              "      <td>-1.165067</td>\n",
              "      <td>0.113273</td>\n",
              "      <td>0.033455</td>\n",
              "      <td>-0.083436</td>\n",
              "      <td>-0.703199</td>\n",
              "      <td>0.322280</td>\n",
              "      <td>0.512571</td>\n",
              "      <td>-0.172656</td>\n",
              "      <td>-0.565512</td>\n",
              "    </tr>\n",
              "  </tbody>\n",
              "</table>\n",
              "<p>740 rows × 128 columns</p>\n",
              "</div>\n",
              "      <button class=\"colab-df-convert\" onclick=\"convertToInteractive('df-50e3f0d2-1c21-4fa5-8923-6f879dc2c555')\"\n",
              "              title=\"Convert this dataframe to an interactive table.\"\n",
              "              style=\"display:none;\">\n",
              "        \n",
              "  <svg xmlns=\"http://www.w3.org/2000/svg\" height=\"24px\"viewBox=\"0 0 24 24\"\n",
              "       width=\"24px\">\n",
              "    <path d=\"M0 0h24v24H0V0z\" fill=\"none\"/>\n",
              "    <path d=\"M18.56 5.44l.94 2.06.94-2.06 2.06-.94-2.06-.94-.94-2.06-.94 2.06-2.06.94zm-11 1L8.5 8.5l.94-2.06 2.06-.94-2.06-.94L8.5 2.5l-.94 2.06-2.06.94zm10 10l.94 2.06.94-2.06 2.06-.94-2.06-.94-.94-2.06-.94 2.06-2.06.94z\"/><path d=\"M17.41 7.96l-1.37-1.37c-.4-.4-.92-.59-1.43-.59-.52 0-1.04.2-1.43.59L10.3 9.45l-7.72 7.72c-.78.78-.78 2.05 0 2.83L4 21.41c.39.39.9.59 1.41.59.51 0 1.02-.2 1.41-.59l7.78-7.78 2.81-2.81c.8-.78.8-2.07 0-2.86zM5.41 20L4 18.59l7.72-7.72 1.47 1.35L5.41 20z\"/>\n",
              "  </svg>\n",
              "      </button>\n",
              "      \n",
              "  <style>\n",
              "    .colab-df-container {\n",
              "      display:flex;\n",
              "      flex-wrap:wrap;\n",
              "      gap: 12px;\n",
              "    }\n",
              "\n",
              "    .colab-df-convert {\n",
              "      background-color: #E8F0FE;\n",
              "      border: none;\n",
              "      border-radius: 50%;\n",
              "      cursor: pointer;\n",
              "      display: none;\n",
              "      fill: #1967D2;\n",
              "      height: 32px;\n",
              "      padding: 0 0 0 0;\n",
              "      width: 32px;\n",
              "    }\n",
              "\n",
              "    .colab-df-convert:hover {\n",
              "      background-color: #E2EBFA;\n",
              "      box-shadow: 0px 1px 2px rgba(60, 64, 67, 0.3), 0px 1px 3px 1px rgba(60, 64, 67, 0.15);\n",
              "      fill: #174EA6;\n",
              "    }\n",
              "\n",
              "    [theme=dark] .colab-df-convert {\n",
              "      background-color: #3B4455;\n",
              "      fill: #D2E3FC;\n",
              "    }\n",
              "\n",
              "    [theme=dark] .colab-df-convert:hover {\n",
              "      background-color: #434B5C;\n",
              "      box-shadow: 0px 1px 3px 1px rgba(0, 0, 0, 0.15);\n",
              "      filter: drop-shadow(0px 1px 2px rgba(0, 0, 0, 0.3));\n",
              "      fill: #FFFFFF;\n",
              "    }\n",
              "  </style>\n",
              "\n",
              "      <script>\n",
              "        const buttonEl =\n",
              "          document.querySelector('#df-50e3f0d2-1c21-4fa5-8923-6f879dc2c555 button.colab-df-convert');\n",
              "        buttonEl.style.display =\n",
              "          google.colab.kernel.accessAllowed ? 'block' : 'none';\n",
              "\n",
              "        async function convertToInteractive(key) {\n",
              "          const element = document.querySelector('#df-50e3f0d2-1c21-4fa5-8923-6f879dc2c555');\n",
              "          const dataTable =\n",
              "            await google.colab.kernel.invokeFunction('convertToInteractive',\n",
              "                                                     [key], {});\n",
              "          if (!dataTable) return;\n",
              "\n",
              "          const docLinkHtml = 'Like what you see? Visit the ' +\n",
              "            '<a target=\"_blank\" href=https://colab.research.google.com/notebooks/data_table.ipynb>data table notebook</a>'\n",
              "            + ' to learn more about interactive tables.';\n",
              "          element.innerHTML = '';\n",
              "          dataTable['output_type'] = 'display_data';\n",
              "          await google.colab.output.renderOutput(dataTable, element);\n",
              "          const docLink = document.createElement('div');\n",
              "          docLink.innerHTML = docLinkHtml;\n",
              "          element.appendChild(docLink);\n",
              "        }\n",
              "      </script>\n",
              "    </div>\n",
              "  </div>\n",
              "  "
            ]
          },
          "metadata": {},
          "execution_count": 8
        }
      ],
      "source": [
        "df"
      ]
    },
    {
      "cell_type": "code",
      "execution_count": null,
      "metadata": {
        "id": "fxpZzgtCzTHR"
      },
      "outputs": [],
      "source": [
        "df_y = pd.read_csv('y.txt', sep = \" \", header=None, names=[\"Complexity\", \"Node Number\", \"Language\"])"
      ]
    },
    {
      "cell_type": "code",
      "execution_count": null,
      "metadata": {
        "id": "IzW80kqrfvf6"
      },
      "outputs": [],
      "source": [
        "df['Complexity'] = df_y['Complexity']\n",
        "df['Language']=df_y['Language']"
      ]
    },
    {
      "cell_type": "code",
      "execution_count": null,
      "metadata": {
        "colab": {
          "base_uri": "https://localhost:8080/",
          "height": 488
        },
        "id": "PZX6ouuefvVi",
        "outputId": "a8ccc328-6ba7-4457-809e-444caa708374"
      },
      "outputs": [
        {
          "output_type": "execute_result",
          "data": {
            "text/plain": [
              "     index      emb1      emb2      emb3      emb4      emb5      emb6  \\\n",
              "0        0 -0.054682  0.127175  0.036648  0.090353  0.192498  0.043540   \n",
              "1        1 -0.095235  0.175034  0.063935  0.117448  0.255929  0.064811   \n",
              "2        2 -0.135813  0.219436  0.102143  0.135153  0.286394  0.068151   \n",
              "3        3  0.270222  0.300358 -0.445603  0.196632  0.531115  0.433794   \n",
              "4        4  0.102710  0.177498 -0.326135  0.302662  0.256015  0.207272   \n",
              "..     ...       ...       ...       ...       ...       ...       ...   \n",
              "735    735  0.162677 -0.179751 -0.320467  0.374476  0.487395 -0.065953   \n",
              "736    736  0.183020 -0.166014 -0.231057  0.452174  0.562882 -0.138434   \n",
              "737    737  0.184769 -0.201651 -0.235364  0.446800  0.547860 -0.155865   \n",
              "738    738  0.255681 -0.193824 -0.382822  0.447094  0.499922 -0.083941   \n",
              "739    739  0.782572 -0.163111 -0.738689  0.510340  0.762960  0.278493   \n",
              "\n",
              "         emb7      emb8      emb9  ...    emb121    emb122    emb123  \\\n",
              "0   -0.060334 -0.037632 -0.001838  ... -0.131080  0.002272 -0.017875   \n",
              "1   -0.072923 -0.032716  0.013575  ... -0.185713 -0.016963 -0.040366   \n",
              "2   -0.078952 -0.003041  0.021949  ... -0.236532 -0.032249 -0.071049   \n",
              "3   -0.261992 -0.074271 -0.215854  ... -0.216605 -0.092687 -0.081682   \n",
              "4   -0.175998 -0.057321  0.000238  ... -0.253997 -0.026445 -0.061492   \n",
              "..        ...       ...       ...  ...       ...       ...       ...   \n",
              "735 -0.380204 -0.143154 -0.065873  ...  0.117815  0.099337 -0.094519   \n",
              "736 -0.443576 -0.284463 -0.054835  ...  0.000230  0.095979 -0.063981   \n",
              "737 -0.472018 -0.309393 -0.079808  ... -0.006414  0.128634 -0.109084   \n",
              "738 -0.402473 -0.251599 -0.028515  ...  0.046986  0.124914 -0.117825   \n",
              "739 -0.506301 -0.299853 -0.460638  ...  0.113273  0.033455 -0.083436   \n",
              "\n",
              "       emb124    emb125    emb126    emb127    emb128  Complexity  Language  \n",
              "0   -0.209266  0.199226  0.097312 -0.107657  0.081840        O(1)         C  \n",
              "1   -0.277818  0.261729  0.118124 -0.125564  0.130719       O(2n)         C  \n",
              "2   -0.334604  0.334102  0.128357 -0.144719  0.192227       O(2n)         C  \n",
              "3   -0.599847  0.550452  0.468392 -0.247837  0.087675     O(logN)         C  \n",
              "4   -0.581163  0.442037  0.418021 -0.194271  0.098900     O(logN)         C  \n",
              "..        ...       ...       ...       ...       ...         ...       ...  \n",
              "735 -0.544291  0.213452  0.262748 -0.306325 -0.224609    O(NlogN)      Java  \n",
              "736 -0.603873  0.114075  0.222806 -0.317638 -0.290131    O(NlogN)      Java  \n",
              "737 -0.605826  0.106701  0.230898 -0.321285 -0.266228    O(NlogN)      Java  \n",
              "738 -0.633948  0.106924  0.273179 -0.336416 -0.300430    O(NlogN)      Java  \n",
              "739 -0.703199  0.322280  0.512571 -0.172656 -0.565512    O(NlogN)      Java  \n",
              "\n",
              "[740 rows x 131 columns]"
            ],
            "text/html": [
              "\n",
              "  <div id=\"df-51ca7afa-c771-4fe7-b65b-d058cb4befcc\">\n",
              "    <div class=\"colab-df-container\">\n",
              "      <div>\n",
              "<style scoped>\n",
              "    .dataframe tbody tr th:only-of-type {\n",
              "        vertical-align: middle;\n",
              "    }\n",
              "\n",
              "    .dataframe tbody tr th {\n",
              "        vertical-align: top;\n",
              "    }\n",
              "\n",
              "    .dataframe thead th {\n",
              "        text-align: right;\n",
              "    }\n",
              "</style>\n",
              "<table border=\"1\" class=\"dataframe\">\n",
              "  <thead>\n",
              "    <tr style=\"text-align: right;\">\n",
              "      <th></th>\n",
              "      <th>index</th>\n",
              "      <th>emb1</th>\n",
              "      <th>emb2</th>\n",
              "      <th>emb3</th>\n",
              "      <th>emb4</th>\n",
              "      <th>emb5</th>\n",
              "      <th>emb6</th>\n",
              "      <th>emb7</th>\n",
              "      <th>emb8</th>\n",
              "      <th>emb9</th>\n",
              "      <th>...</th>\n",
              "      <th>emb121</th>\n",
              "      <th>emb122</th>\n",
              "      <th>emb123</th>\n",
              "      <th>emb124</th>\n",
              "      <th>emb125</th>\n",
              "      <th>emb126</th>\n",
              "      <th>emb127</th>\n",
              "      <th>emb128</th>\n",
              "      <th>Complexity</th>\n",
              "      <th>Language</th>\n",
              "    </tr>\n",
              "  </thead>\n",
              "  <tbody>\n",
              "    <tr>\n",
              "      <th>0</th>\n",
              "      <td>0</td>\n",
              "      <td>-0.054682</td>\n",
              "      <td>0.127175</td>\n",
              "      <td>0.036648</td>\n",
              "      <td>0.090353</td>\n",
              "      <td>0.192498</td>\n",
              "      <td>0.043540</td>\n",
              "      <td>-0.060334</td>\n",
              "      <td>-0.037632</td>\n",
              "      <td>-0.001838</td>\n",
              "      <td>...</td>\n",
              "      <td>-0.131080</td>\n",
              "      <td>0.002272</td>\n",
              "      <td>-0.017875</td>\n",
              "      <td>-0.209266</td>\n",
              "      <td>0.199226</td>\n",
              "      <td>0.097312</td>\n",
              "      <td>-0.107657</td>\n",
              "      <td>0.081840</td>\n",
              "      <td>O(1)</td>\n",
              "      <td>C</td>\n",
              "    </tr>\n",
              "    <tr>\n",
              "      <th>1</th>\n",
              "      <td>1</td>\n",
              "      <td>-0.095235</td>\n",
              "      <td>0.175034</td>\n",
              "      <td>0.063935</td>\n",
              "      <td>0.117448</td>\n",
              "      <td>0.255929</td>\n",
              "      <td>0.064811</td>\n",
              "      <td>-0.072923</td>\n",
              "      <td>-0.032716</td>\n",
              "      <td>0.013575</td>\n",
              "      <td>...</td>\n",
              "      <td>-0.185713</td>\n",
              "      <td>-0.016963</td>\n",
              "      <td>-0.040366</td>\n",
              "      <td>-0.277818</td>\n",
              "      <td>0.261729</td>\n",
              "      <td>0.118124</td>\n",
              "      <td>-0.125564</td>\n",
              "      <td>0.130719</td>\n",
              "      <td>O(2n)</td>\n",
              "      <td>C</td>\n",
              "    </tr>\n",
              "    <tr>\n",
              "      <th>2</th>\n",
              "      <td>2</td>\n",
              "      <td>-0.135813</td>\n",
              "      <td>0.219436</td>\n",
              "      <td>0.102143</td>\n",
              "      <td>0.135153</td>\n",
              "      <td>0.286394</td>\n",
              "      <td>0.068151</td>\n",
              "      <td>-0.078952</td>\n",
              "      <td>-0.003041</td>\n",
              "      <td>0.021949</td>\n",
              "      <td>...</td>\n",
              "      <td>-0.236532</td>\n",
              "      <td>-0.032249</td>\n",
              "      <td>-0.071049</td>\n",
              "      <td>-0.334604</td>\n",
              "      <td>0.334102</td>\n",
              "      <td>0.128357</td>\n",
              "      <td>-0.144719</td>\n",
              "      <td>0.192227</td>\n",
              "      <td>O(2n)</td>\n",
              "      <td>C</td>\n",
              "    </tr>\n",
              "    <tr>\n",
              "      <th>3</th>\n",
              "      <td>3</td>\n",
              "      <td>0.270222</td>\n",
              "      <td>0.300358</td>\n",
              "      <td>-0.445603</td>\n",
              "      <td>0.196632</td>\n",
              "      <td>0.531115</td>\n",
              "      <td>0.433794</td>\n",
              "      <td>-0.261992</td>\n",
              "      <td>-0.074271</td>\n",
              "      <td>-0.215854</td>\n",
              "      <td>...</td>\n",
              "      <td>-0.216605</td>\n",
              "      <td>-0.092687</td>\n",
              "      <td>-0.081682</td>\n",
              "      <td>-0.599847</td>\n",
              "      <td>0.550452</td>\n",
              "      <td>0.468392</td>\n",
              "      <td>-0.247837</td>\n",
              "      <td>0.087675</td>\n",
              "      <td>O(logN)</td>\n",
              "      <td>C</td>\n",
              "    </tr>\n",
              "    <tr>\n",
              "      <th>4</th>\n",
              "      <td>4</td>\n",
              "      <td>0.102710</td>\n",
              "      <td>0.177498</td>\n",
              "      <td>-0.326135</td>\n",
              "      <td>0.302662</td>\n",
              "      <td>0.256015</td>\n",
              "      <td>0.207272</td>\n",
              "      <td>-0.175998</td>\n",
              "      <td>-0.057321</td>\n",
              "      <td>0.000238</td>\n",
              "      <td>...</td>\n",
              "      <td>-0.253997</td>\n",
              "      <td>-0.026445</td>\n",
              "      <td>-0.061492</td>\n",
              "      <td>-0.581163</td>\n",
              "      <td>0.442037</td>\n",
              "      <td>0.418021</td>\n",
              "      <td>-0.194271</td>\n",
              "      <td>0.098900</td>\n",
              "      <td>O(logN)</td>\n",
              "      <td>C</td>\n",
              "    </tr>\n",
              "    <tr>\n",
              "      <th>...</th>\n",
              "      <td>...</td>\n",
              "      <td>...</td>\n",
              "      <td>...</td>\n",
              "      <td>...</td>\n",
              "      <td>...</td>\n",
              "      <td>...</td>\n",
              "      <td>...</td>\n",
              "      <td>...</td>\n",
              "      <td>...</td>\n",
              "      <td>...</td>\n",
              "      <td>...</td>\n",
              "      <td>...</td>\n",
              "      <td>...</td>\n",
              "      <td>...</td>\n",
              "      <td>...</td>\n",
              "      <td>...</td>\n",
              "      <td>...</td>\n",
              "      <td>...</td>\n",
              "      <td>...</td>\n",
              "      <td>...</td>\n",
              "      <td>...</td>\n",
              "    </tr>\n",
              "    <tr>\n",
              "      <th>735</th>\n",
              "      <td>735</td>\n",
              "      <td>0.162677</td>\n",
              "      <td>-0.179751</td>\n",
              "      <td>-0.320467</td>\n",
              "      <td>0.374476</td>\n",
              "      <td>0.487395</td>\n",
              "      <td>-0.065953</td>\n",
              "      <td>-0.380204</td>\n",
              "      <td>-0.143154</td>\n",
              "      <td>-0.065873</td>\n",
              "      <td>...</td>\n",
              "      <td>0.117815</td>\n",
              "      <td>0.099337</td>\n",
              "      <td>-0.094519</td>\n",
              "      <td>-0.544291</td>\n",
              "      <td>0.213452</td>\n",
              "      <td>0.262748</td>\n",
              "      <td>-0.306325</td>\n",
              "      <td>-0.224609</td>\n",
              "      <td>O(NlogN)</td>\n",
              "      <td>Java</td>\n",
              "    </tr>\n",
              "    <tr>\n",
              "      <th>736</th>\n",
              "      <td>736</td>\n",
              "      <td>0.183020</td>\n",
              "      <td>-0.166014</td>\n",
              "      <td>-0.231057</td>\n",
              "      <td>0.452174</td>\n",
              "      <td>0.562882</td>\n",
              "      <td>-0.138434</td>\n",
              "      <td>-0.443576</td>\n",
              "      <td>-0.284463</td>\n",
              "      <td>-0.054835</td>\n",
              "      <td>...</td>\n",
              "      <td>0.000230</td>\n",
              "      <td>0.095979</td>\n",
              "      <td>-0.063981</td>\n",
              "      <td>-0.603873</td>\n",
              "      <td>0.114075</td>\n",
              "      <td>0.222806</td>\n",
              "      <td>-0.317638</td>\n",
              "      <td>-0.290131</td>\n",
              "      <td>O(NlogN)</td>\n",
              "      <td>Java</td>\n",
              "    </tr>\n",
              "    <tr>\n",
              "      <th>737</th>\n",
              "      <td>737</td>\n",
              "      <td>0.184769</td>\n",
              "      <td>-0.201651</td>\n",
              "      <td>-0.235364</td>\n",
              "      <td>0.446800</td>\n",
              "      <td>0.547860</td>\n",
              "      <td>-0.155865</td>\n",
              "      <td>-0.472018</td>\n",
              "      <td>-0.309393</td>\n",
              "      <td>-0.079808</td>\n",
              "      <td>...</td>\n",
              "      <td>-0.006414</td>\n",
              "      <td>0.128634</td>\n",
              "      <td>-0.109084</td>\n",
              "      <td>-0.605826</td>\n",
              "      <td>0.106701</td>\n",
              "      <td>0.230898</td>\n",
              "      <td>-0.321285</td>\n",
              "      <td>-0.266228</td>\n",
              "      <td>O(NlogN)</td>\n",
              "      <td>Java</td>\n",
              "    </tr>\n",
              "    <tr>\n",
              "      <th>738</th>\n",
              "      <td>738</td>\n",
              "      <td>0.255681</td>\n",
              "      <td>-0.193824</td>\n",
              "      <td>-0.382822</td>\n",
              "      <td>0.447094</td>\n",
              "      <td>0.499922</td>\n",
              "      <td>-0.083941</td>\n",
              "      <td>-0.402473</td>\n",
              "      <td>-0.251599</td>\n",
              "      <td>-0.028515</td>\n",
              "      <td>...</td>\n",
              "      <td>0.046986</td>\n",
              "      <td>0.124914</td>\n",
              "      <td>-0.117825</td>\n",
              "      <td>-0.633948</td>\n",
              "      <td>0.106924</td>\n",
              "      <td>0.273179</td>\n",
              "      <td>-0.336416</td>\n",
              "      <td>-0.300430</td>\n",
              "      <td>O(NlogN)</td>\n",
              "      <td>Java</td>\n",
              "    </tr>\n",
              "    <tr>\n",
              "      <th>739</th>\n",
              "      <td>739</td>\n",
              "      <td>0.782572</td>\n",
              "      <td>-0.163111</td>\n",
              "      <td>-0.738689</td>\n",
              "      <td>0.510340</td>\n",
              "      <td>0.762960</td>\n",
              "      <td>0.278493</td>\n",
              "      <td>-0.506301</td>\n",
              "      <td>-0.299853</td>\n",
              "      <td>-0.460638</td>\n",
              "      <td>...</td>\n",
              "      <td>0.113273</td>\n",
              "      <td>0.033455</td>\n",
              "      <td>-0.083436</td>\n",
              "      <td>-0.703199</td>\n",
              "      <td>0.322280</td>\n",
              "      <td>0.512571</td>\n",
              "      <td>-0.172656</td>\n",
              "      <td>-0.565512</td>\n",
              "      <td>O(NlogN)</td>\n",
              "      <td>Java</td>\n",
              "    </tr>\n",
              "  </tbody>\n",
              "</table>\n",
              "<p>740 rows × 131 columns</p>\n",
              "</div>\n",
              "      <button class=\"colab-df-convert\" onclick=\"convertToInteractive('df-51ca7afa-c771-4fe7-b65b-d058cb4befcc')\"\n",
              "              title=\"Convert this dataframe to an interactive table.\"\n",
              "              style=\"display:none;\">\n",
              "        \n",
              "  <svg xmlns=\"http://www.w3.org/2000/svg\" height=\"24px\"viewBox=\"0 0 24 24\"\n",
              "       width=\"24px\">\n",
              "    <path d=\"M0 0h24v24H0V0z\" fill=\"none\"/>\n",
              "    <path d=\"M18.56 5.44l.94 2.06.94-2.06 2.06-.94-2.06-.94-.94-2.06-.94 2.06-2.06.94zm-11 1L8.5 8.5l.94-2.06 2.06-.94-2.06-.94L8.5 2.5l-.94 2.06-2.06.94zm10 10l.94 2.06.94-2.06 2.06-.94-2.06-.94-.94-2.06-.94 2.06-2.06.94z\"/><path d=\"M17.41 7.96l-1.37-1.37c-.4-.4-.92-.59-1.43-.59-.52 0-1.04.2-1.43.59L10.3 9.45l-7.72 7.72c-.78.78-.78 2.05 0 2.83L4 21.41c.39.39.9.59 1.41.59.51 0 1.02-.2 1.41-.59l7.78-7.78 2.81-2.81c.8-.78.8-2.07 0-2.86zM5.41 20L4 18.59l7.72-7.72 1.47 1.35L5.41 20z\"/>\n",
              "  </svg>\n",
              "      </button>\n",
              "      \n",
              "  <style>\n",
              "    .colab-df-container {\n",
              "      display:flex;\n",
              "      flex-wrap:wrap;\n",
              "      gap: 12px;\n",
              "    }\n",
              "\n",
              "    .colab-df-convert {\n",
              "      background-color: #E8F0FE;\n",
              "      border: none;\n",
              "      border-radius: 50%;\n",
              "      cursor: pointer;\n",
              "      display: none;\n",
              "      fill: #1967D2;\n",
              "      height: 32px;\n",
              "      padding: 0 0 0 0;\n",
              "      width: 32px;\n",
              "    }\n",
              "\n",
              "    .colab-df-convert:hover {\n",
              "      background-color: #E2EBFA;\n",
              "      box-shadow: 0px 1px 2px rgba(60, 64, 67, 0.3), 0px 1px 3px 1px rgba(60, 64, 67, 0.15);\n",
              "      fill: #174EA6;\n",
              "    }\n",
              "\n",
              "    [theme=dark] .colab-df-convert {\n",
              "      background-color: #3B4455;\n",
              "      fill: #D2E3FC;\n",
              "    }\n",
              "\n",
              "    [theme=dark] .colab-df-convert:hover {\n",
              "      background-color: #434B5C;\n",
              "      box-shadow: 0px 1px 3px 1px rgba(0, 0, 0, 0.15);\n",
              "      filter: drop-shadow(0px 1px 2px rgba(0, 0, 0, 0.3));\n",
              "      fill: #FFFFFF;\n",
              "    }\n",
              "  </style>\n",
              "\n",
              "      <script>\n",
              "        const buttonEl =\n",
              "          document.querySelector('#df-51ca7afa-c771-4fe7-b65b-d058cb4befcc button.colab-df-convert');\n",
              "        buttonEl.style.display =\n",
              "          google.colab.kernel.accessAllowed ? 'block' : 'none';\n",
              "\n",
              "        async function convertToInteractive(key) {\n",
              "          const element = document.querySelector('#df-51ca7afa-c771-4fe7-b65b-d058cb4befcc');\n",
              "          const dataTable =\n",
              "            await google.colab.kernel.invokeFunction('convertToInteractive',\n",
              "                                                     [key], {});\n",
              "          if (!dataTable) return;\n",
              "\n",
              "          const docLinkHtml = 'Like what you see? Visit the ' +\n",
              "            '<a target=\"_blank\" href=https://colab.research.google.com/notebooks/data_table.ipynb>data table notebook</a>'\n",
              "            + ' to learn more about interactive tables.';\n",
              "          element.innerHTML = '';\n",
              "          dataTable['output_type'] = 'display_data';\n",
              "          await google.colab.output.renderOutput(dataTable, element);\n",
              "          const docLink = document.createElement('div');\n",
              "          docLink.innerHTML = docLinkHtml;\n",
              "          element.appendChild(docLink);\n",
              "        }\n",
              "      </script>\n",
              "    </div>\n",
              "  </div>\n",
              "  "
            ]
          },
          "metadata": {},
          "execution_count": 11
        }
      ],
      "source": [
        "df.reset_index()"
      ]
    },
    {
      "cell_type": "code",
      "source": [
        "df.columns"
      ],
      "metadata": {
        "colab": {
          "base_uri": "https://localhost:8080/"
        },
        "id": "sFPCIKzHleVR",
        "outputId": "92d9a417-301d-4b19-95d7-4b7d19735071"
      },
      "execution_count": null,
      "outputs": [
        {
          "output_type": "execute_result",
          "data": {
            "text/plain": [
              "Index(['emb1', 'emb2', 'emb3', 'emb4', 'emb5', 'emb6', 'emb7', 'emb8', 'emb9',\n",
              "       'emb10',\n",
              "       ...\n",
              "       'emb121', 'emb122', 'emb123', 'emb124', 'emb125', 'emb126', 'emb127',\n",
              "       'emb128', 'Complexity', 'Language'],\n",
              "      dtype='object', length=130)"
            ]
          },
          "metadata": {},
          "execution_count": 12
        }
      ]
    },
    {
      "cell_type": "code",
      "source": [
        "ind=df.set_index('Complexity')\n",
        "df = ind.drop([\"O(1)\", \"O(2n)\", \"O(N!)\",\"O(sqrt(N))\"])"
      ],
      "metadata": {
        "id": "BCbMzVlv1GK4"
      },
      "execution_count": null,
      "outputs": []
    },
    {
      "cell_type": "code",
      "source": [
        "df=df.reset_index()"
      ],
      "metadata": {
        "id": "2H15sMeT2vOo"
      },
      "execution_count": null,
      "outputs": []
    },
    {
      "cell_type": "code",
      "source": [
        "df"
      ],
      "metadata": {
        "colab": {
          "base_uri": "https://localhost:8080/",
          "height": 488
        },
        "id": "RqY26djq2yMg",
        "outputId": "be40314b-3e29-4188-fbda-1bfa1636d837"
      },
      "execution_count": null,
      "outputs": [
        {
          "output_type": "execute_result",
          "data": {
            "text/plain": [
              "    Complexity      emb1      emb2      emb3      emb4      emb5      emb6  \\\n",
              "0      O(logN)  0.270222  0.300358 -0.445603  0.196632  0.531115  0.433794   \n",
              "1      O(logN)  0.102710  0.177498 -0.326135  0.302662  0.256015  0.207272   \n",
              "2      O(logN)  0.099151  0.171953 -0.230760  0.147983  0.240728  0.211076   \n",
              "3      O(logN)  0.004622  0.254111  0.043829  0.140978  0.663985  0.359904   \n",
              "4      O(logN) -0.013093  0.067878 -0.087897  0.155157  0.046141  0.043758   \n",
              "..         ...       ...       ...       ...       ...       ...       ...   \n",
              "715   O(NlogN)  0.162677 -0.179751 -0.320467  0.374476  0.487395 -0.065953   \n",
              "716   O(NlogN)  0.183020 -0.166014 -0.231057  0.452174  0.562882 -0.138434   \n",
              "717   O(NlogN)  0.184769 -0.201651 -0.235364  0.446800  0.547860 -0.155865   \n",
              "718   O(NlogN)  0.255681 -0.193824 -0.382822  0.447094  0.499922 -0.083941   \n",
              "719   O(NlogN)  0.782572 -0.163111 -0.738689  0.510340  0.762960  0.278493   \n",
              "\n",
              "         emb7      emb8      emb9  ...    emb120    emb121    emb122  \\\n",
              "0   -0.261992 -0.074271 -0.215854  ... -0.586666 -0.216605 -0.092687   \n",
              "1   -0.175998 -0.057321  0.000238  ... -0.386576 -0.253997 -0.026445   \n",
              "2   -0.085177 -0.008800 -0.065532  ... -0.348318 -0.186028 -0.086344   \n",
              "3   -0.219945  0.108162 -0.140120  ... -0.262810 -0.185516 -0.029431   \n",
              "4   -0.005407 -0.022934  0.036307  ... -0.180832 -0.147306 -0.039465   \n",
              "..        ...       ...       ...  ...       ...       ...       ...   \n",
              "715 -0.380204 -0.143154 -0.065873  ... -0.397525  0.117815  0.099337   \n",
              "716 -0.443576 -0.284463 -0.054835  ... -0.445122  0.000230  0.095979   \n",
              "717 -0.472018 -0.309393 -0.079808  ... -0.489142 -0.006414  0.128634   \n",
              "718 -0.402473 -0.251599 -0.028515  ... -0.498780  0.046986  0.124914   \n",
              "719 -0.506301 -0.299853 -0.460638  ... -1.165067  0.113273  0.033455   \n",
              "\n",
              "       emb123    emb124    emb125    emb126    emb127    emb128  Language  \n",
              "0   -0.081682 -0.599847  0.550452  0.468392 -0.247837  0.087675         C  \n",
              "1   -0.061492 -0.581163  0.442037  0.418021 -0.194271  0.098900         C  \n",
              "2   -0.106616 -0.450628  0.463381  0.325981 -0.107556  0.129127         C  \n",
              "3   -0.201144 -0.293320  0.295109  0.290326 -0.353395  0.164944         C  \n",
              "4   -0.092333 -0.350462  0.329363  0.250614 -0.131446  0.113169         C  \n",
              "..        ...       ...       ...       ...       ...       ...       ...  \n",
              "715 -0.094519 -0.544291  0.213452  0.262748 -0.306325 -0.224609      Java  \n",
              "716 -0.063981 -0.603873  0.114075  0.222806 -0.317638 -0.290131      Java  \n",
              "717 -0.109084 -0.605826  0.106701  0.230898 -0.321285 -0.266228      Java  \n",
              "718 -0.117825 -0.633948  0.106924  0.273179 -0.336416 -0.300430      Java  \n",
              "719 -0.083436 -0.703199  0.322280  0.512571 -0.172656 -0.565512      Java  \n",
              "\n",
              "[720 rows x 130 columns]"
            ],
            "text/html": [
              "\n",
              "  <div id=\"df-348b7a47-a96a-4529-91d0-13aca28d1d85\">\n",
              "    <div class=\"colab-df-container\">\n",
              "      <div>\n",
              "<style scoped>\n",
              "    .dataframe tbody tr th:only-of-type {\n",
              "        vertical-align: middle;\n",
              "    }\n",
              "\n",
              "    .dataframe tbody tr th {\n",
              "        vertical-align: top;\n",
              "    }\n",
              "\n",
              "    .dataframe thead th {\n",
              "        text-align: right;\n",
              "    }\n",
              "</style>\n",
              "<table border=\"1\" class=\"dataframe\">\n",
              "  <thead>\n",
              "    <tr style=\"text-align: right;\">\n",
              "      <th></th>\n",
              "      <th>Complexity</th>\n",
              "      <th>emb1</th>\n",
              "      <th>emb2</th>\n",
              "      <th>emb3</th>\n",
              "      <th>emb4</th>\n",
              "      <th>emb5</th>\n",
              "      <th>emb6</th>\n",
              "      <th>emb7</th>\n",
              "      <th>emb8</th>\n",
              "      <th>emb9</th>\n",
              "      <th>...</th>\n",
              "      <th>emb120</th>\n",
              "      <th>emb121</th>\n",
              "      <th>emb122</th>\n",
              "      <th>emb123</th>\n",
              "      <th>emb124</th>\n",
              "      <th>emb125</th>\n",
              "      <th>emb126</th>\n",
              "      <th>emb127</th>\n",
              "      <th>emb128</th>\n",
              "      <th>Language</th>\n",
              "    </tr>\n",
              "  </thead>\n",
              "  <tbody>\n",
              "    <tr>\n",
              "      <th>0</th>\n",
              "      <td>O(logN)</td>\n",
              "      <td>0.270222</td>\n",
              "      <td>0.300358</td>\n",
              "      <td>-0.445603</td>\n",
              "      <td>0.196632</td>\n",
              "      <td>0.531115</td>\n",
              "      <td>0.433794</td>\n",
              "      <td>-0.261992</td>\n",
              "      <td>-0.074271</td>\n",
              "      <td>-0.215854</td>\n",
              "      <td>...</td>\n",
              "      <td>-0.586666</td>\n",
              "      <td>-0.216605</td>\n",
              "      <td>-0.092687</td>\n",
              "      <td>-0.081682</td>\n",
              "      <td>-0.599847</td>\n",
              "      <td>0.550452</td>\n",
              "      <td>0.468392</td>\n",
              "      <td>-0.247837</td>\n",
              "      <td>0.087675</td>\n",
              "      <td>C</td>\n",
              "    </tr>\n",
              "    <tr>\n",
              "      <th>1</th>\n",
              "      <td>O(logN)</td>\n",
              "      <td>0.102710</td>\n",
              "      <td>0.177498</td>\n",
              "      <td>-0.326135</td>\n",
              "      <td>0.302662</td>\n",
              "      <td>0.256015</td>\n",
              "      <td>0.207272</td>\n",
              "      <td>-0.175998</td>\n",
              "      <td>-0.057321</td>\n",
              "      <td>0.000238</td>\n",
              "      <td>...</td>\n",
              "      <td>-0.386576</td>\n",
              "      <td>-0.253997</td>\n",
              "      <td>-0.026445</td>\n",
              "      <td>-0.061492</td>\n",
              "      <td>-0.581163</td>\n",
              "      <td>0.442037</td>\n",
              "      <td>0.418021</td>\n",
              "      <td>-0.194271</td>\n",
              "      <td>0.098900</td>\n",
              "      <td>C</td>\n",
              "    </tr>\n",
              "    <tr>\n",
              "      <th>2</th>\n",
              "      <td>O(logN)</td>\n",
              "      <td>0.099151</td>\n",
              "      <td>0.171953</td>\n",
              "      <td>-0.230760</td>\n",
              "      <td>0.147983</td>\n",
              "      <td>0.240728</td>\n",
              "      <td>0.211076</td>\n",
              "      <td>-0.085177</td>\n",
              "      <td>-0.008800</td>\n",
              "      <td>-0.065532</td>\n",
              "      <td>...</td>\n",
              "      <td>-0.348318</td>\n",
              "      <td>-0.186028</td>\n",
              "      <td>-0.086344</td>\n",
              "      <td>-0.106616</td>\n",
              "      <td>-0.450628</td>\n",
              "      <td>0.463381</td>\n",
              "      <td>0.325981</td>\n",
              "      <td>-0.107556</td>\n",
              "      <td>0.129127</td>\n",
              "      <td>C</td>\n",
              "    </tr>\n",
              "    <tr>\n",
              "      <th>3</th>\n",
              "      <td>O(logN)</td>\n",
              "      <td>0.004622</td>\n",
              "      <td>0.254111</td>\n",
              "      <td>0.043829</td>\n",
              "      <td>0.140978</td>\n",
              "      <td>0.663985</td>\n",
              "      <td>0.359904</td>\n",
              "      <td>-0.219945</td>\n",
              "      <td>0.108162</td>\n",
              "      <td>-0.140120</td>\n",
              "      <td>...</td>\n",
              "      <td>-0.262810</td>\n",
              "      <td>-0.185516</td>\n",
              "      <td>-0.029431</td>\n",
              "      <td>-0.201144</td>\n",
              "      <td>-0.293320</td>\n",
              "      <td>0.295109</td>\n",
              "      <td>0.290326</td>\n",
              "      <td>-0.353395</td>\n",
              "      <td>0.164944</td>\n",
              "      <td>C</td>\n",
              "    </tr>\n",
              "    <tr>\n",
              "      <th>4</th>\n",
              "      <td>O(logN)</td>\n",
              "      <td>-0.013093</td>\n",
              "      <td>0.067878</td>\n",
              "      <td>-0.087897</td>\n",
              "      <td>0.155157</td>\n",
              "      <td>0.046141</td>\n",
              "      <td>0.043758</td>\n",
              "      <td>-0.005407</td>\n",
              "      <td>-0.022934</td>\n",
              "      <td>0.036307</td>\n",
              "      <td>...</td>\n",
              "      <td>-0.180832</td>\n",
              "      <td>-0.147306</td>\n",
              "      <td>-0.039465</td>\n",
              "      <td>-0.092333</td>\n",
              "      <td>-0.350462</td>\n",
              "      <td>0.329363</td>\n",
              "      <td>0.250614</td>\n",
              "      <td>-0.131446</td>\n",
              "      <td>0.113169</td>\n",
              "      <td>C</td>\n",
              "    </tr>\n",
              "    <tr>\n",
              "      <th>...</th>\n",
              "      <td>...</td>\n",
              "      <td>...</td>\n",
              "      <td>...</td>\n",
              "      <td>...</td>\n",
              "      <td>...</td>\n",
              "      <td>...</td>\n",
              "      <td>...</td>\n",
              "      <td>...</td>\n",
              "      <td>...</td>\n",
              "      <td>...</td>\n",
              "      <td>...</td>\n",
              "      <td>...</td>\n",
              "      <td>...</td>\n",
              "      <td>...</td>\n",
              "      <td>...</td>\n",
              "      <td>...</td>\n",
              "      <td>...</td>\n",
              "      <td>...</td>\n",
              "      <td>...</td>\n",
              "      <td>...</td>\n",
              "      <td>...</td>\n",
              "    </tr>\n",
              "    <tr>\n",
              "      <th>715</th>\n",
              "      <td>O(NlogN)</td>\n",
              "      <td>0.162677</td>\n",
              "      <td>-0.179751</td>\n",
              "      <td>-0.320467</td>\n",
              "      <td>0.374476</td>\n",
              "      <td>0.487395</td>\n",
              "      <td>-0.065953</td>\n",
              "      <td>-0.380204</td>\n",
              "      <td>-0.143154</td>\n",
              "      <td>-0.065873</td>\n",
              "      <td>...</td>\n",
              "      <td>-0.397525</td>\n",
              "      <td>0.117815</td>\n",
              "      <td>0.099337</td>\n",
              "      <td>-0.094519</td>\n",
              "      <td>-0.544291</td>\n",
              "      <td>0.213452</td>\n",
              "      <td>0.262748</td>\n",
              "      <td>-0.306325</td>\n",
              "      <td>-0.224609</td>\n",
              "      <td>Java</td>\n",
              "    </tr>\n",
              "    <tr>\n",
              "      <th>716</th>\n",
              "      <td>O(NlogN)</td>\n",
              "      <td>0.183020</td>\n",
              "      <td>-0.166014</td>\n",
              "      <td>-0.231057</td>\n",
              "      <td>0.452174</td>\n",
              "      <td>0.562882</td>\n",
              "      <td>-0.138434</td>\n",
              "      <td>-0.443576</td>\n",
              "      <td>-0.284463</td>\n",
              "      <td>-0.054835</td>\n",
              "      <td>...</td>\n",
              "      <td>-0.445122</td>\n",
              "      <td>0.000230</td>\n",
              "      <td>0.095979</td>\n",
              "      <td>-0.063981</td>\n",
              "      <td>-0.603873</td>\n",
              "      <td>0.114075</td>\n",
              "      <td>0.222806</td>\n",
              "      <td>-0.317638</td>\n",
              "      <td>-0.290131</td>\n",
              "      <td>Java</td>\n",
              "    </tr>\n",
              "    <tr>\n",
              "      <th>717</th>\n",
              "      <td>O(NlogN)</td>\n",
              "      <td>0.184769</td>\n",
              "      <td>-0.201651</td>\n",
              "      <td>-0.235364</td>\n",
              "      <td>0.446800</td>\n",
              "      <td>0.547860</td>\n",
              "      <td>-0.155865</td>\n",
              "      <td>-0.472018</td>\n",
              "      <td>-0.309393</td>\n",
              "      <td>-0.079808</td>\n",
              "      <td>...</td>\n",
              "      <td>-0.489142</td>\n",
              "      <td>-0.006414</td>\n",
              "      <td>0.128634</td>\n",
              "      <td>-0.109084</td>\n",
              "      <td>-0.605826</td>\n",
              "      <td>0.106701</td>\n",
              "      <td>0.230898</td>\n",
              "      <td>-0.321285</td>\n",
              "      <td>-0.266228</td>\n",
              "      <td>Java</td>\n",
              "    </tr>\n",
              "    <tr>\n",
              "      <th>718</th>\n",
              "      <td>O(NlogN)</td>\n",
              "      <td>0.255681</td>\n",
              "      <td>-0.193824</td>\n",
              "      <td>-0.382822</td>\n",
              "      <td>0.447094</td>\n",
              "      <td>0.499922</td>\n",
              "      <td>-0.083941</td>\n",
              "      <td>-0.402473</td>\n",
              "      <td>-0.251599</td>\n",
              "      <td>-0.028515</td>\n",
              "      <td>...</td>\n",
              "      <td>-0.498780</td>\n",
              "      <td>0.046986</td>\n",
              "      <td>0.124914</td>\n",
              "      <td>-0.117825</td>\n",
              "      <td>-0.633948</td>\n",
              "      <td>0.106924</td>\n",
              "      <td>0.273179</td>\n",
              "      <td>-0.336416</td>\n",
              "      <td>-0.300430</td>\n",
              "      <td>Java</td>\n",
              "    </tr>\n",
              "    <tr>\n",
              "      <th>719</th>\n",
              "      <td>O(NlogN)</td>\n",
              "      <td>0.782572</td>\n",
              "      <td>-0.163111</td>\n",
              "      <td>-0.738689</td>\n",
              "      <td>0.510340</td>\n",
              "      <td>0.762960</td>\n",
              "      <td>0.278493</td>\n",
              "      <td>-0.506301</td>\n",
              "      <td>-0.299853</td>\n",
              "      <td>-0.460638</td>\n",
              "      <td>...</td>\n",
              "      <td>-1.165067</td>\n",
              "      <td>0.113273</td>\n",
              "      <td>0.033455</td>\n",
              "      <td>-0.083436</td>\n",
              "      <td>-0.703199</td>\n",
              "      <td>0.322280</td>\n",
              "      <td>0.512571</td>\n",
              "      <td>-0.172656</td>\n",
              "      <td>-0.565512</td>\n",
              "      <td>Java</td>\n",
              "    </tr>\n",
              "  </tbody>\n",
              "</table>\n",
              "<p>720 rows × 130 columns</p>\n",
              "</div>\n",
              "      <button class=\"colab-df-convert\" onclick=\"convertToInteractive('df-348b7a47-a96a-4529-91d0-13aca28d1d85')\"\n",
              "              title=\"Convert this dataframe to an interactive table.\"\n",
              "              style=\"display:none;\">\n",
              "        \n",
              "  <svg xmlns=\"http://www.w3.org/2000/svg\" height=\"24px\"viewBox=\"0 0 24 24\"\n",
              "       width=\"24px\">\n",
              "    <path d=\"M0 0h24v24H0V0z\" fill=\"none\"/>\n",
              "    <path d=\"M18.56 5.44l.94 2.06.94-2.06 2.06-.94-2.06-.94-.94-2.06-.94 2.06-2.06.94zm-11 1L8.5 8.5l.94-2.06 2.06-.94-2.06-.94L8.5 2.5l-.94 2.06-2.06.94zm10 10l.94 2.06.94-2.06 2.06-.94-2.06-.94-.94-2.06-.94 2.06-2.06.94z\"/><path d=\"M17.41 7.96l-1.37-1.37c-.4-.4-.92-.59-1.43-.59-.52 0-1.04.2-1.43.59L10.3 9.45l-7.72 7.72c-.78.78-.78 2.05 0 2.83L4 21.41c.39.39.9.59 1.41.59.51 0 1.02-.2 1.41-.59l7.78-7.78 2.81-2.81c.8-.78.8-2.07 0-2.86zM5.41 20L4 18.59l7.72-7.72 1.47 1.35L5.41 20z\"/>\n",
              "  </svg>\n",
              "      </button>\n",
              "      \n",
              "  <style>\n",
              "    .colab-df-container {\n",
              "      display:flex;\n",
              "      flex-wrap:wrap;\n",
              "      gap: 12px;\n",
              "    }\n",
              "\n",
              "    .colab-df-convert {\n",
              "      background-color: #E8F0FE;\n",
              "      border: none;\n",
              "      border-radius: 50%;\n",
              "      cursor: pointer;\n",
              "      display: none;\n",
              "      fill: #1967D2;\n",
              "      height: 32px;\n",
              "      padding: 0 0 0 0;\n",
              "      width: 32px;\n",
              "    }\n",
              "\n",
              "    .colab-df-convert:hover {\n",
              "      background-color: #E2EBFA;\n",
              "      box-shadow: 0px 1px 2px rgba(60, 64, 67, 0.3), 0px 1px 3px 1px rgba(60, 64, 67, 0.15);\n",
              "      fill: #174EA6;\n",
              "    }\n",
              "\n",
              "    [theme=dark] .colab-df-convert {\n",
              "      background-color: #3B4455;\n",
              "      fill: #D2E3FC;\n",
              "    }\n",
              "\n",
              "    [theme=dark] .colab-df-convert:hover {\n",
              "      background-color: #434B5C;\n",
              "      box-shadow: 0px 1px 3px 1px rgba(0, 0, 0, 0.15);\n",
              "      filter: drop-shadow(0px 1px 2px rgba(0, 0, 0, 0.3));\n",
              "      fill: #FFFFFF;\n",
              "    }\n",
              "  </style>\n",
              "\n",
              "      <script>\n",
              "        const buttonEl =\n",
              "          document.querySelector('#df-348b7a47-a96a-4529-91d0-13aca28d1d85 button.colab-df-convert');\n",
              "        buttonEl.style.display =\n",
              "          google.colab.kernel.accessAllowed ? 'block' : 'none';\n",
              "\n",
              "        async function convertToInteractive(key) {\n",
              "          const element = document.querySelector('#df-348b7a47-a96a-4529-91d0-13aca28d1d85');\n",
              "          const dataTable =\n",
              "            await google.colab.kernel.invokeFunction('convertToInteractive',\n",
              "                                                     [key], {});\n",
              "          if (!dataTable) return;\n",
              "\n",
              "          const docLinkHtml = 'Like what you see? Visit the ' +\n",
              "            '<a target=\"_blank\" href=https://colab.research.google.com/notebooks/data_table.ipynb>data table notebook</a>'\n",
              "            + ' to learn more about interactive tables.';\n",
              "          element.innerHTML = '';\n",
              "          dataTable['output_type'] = 'display_data';\n",
              "          await google.colab.output.renderOutput(dataTable, element);\n",
              "          const docLink = document.createElement('div');\n",
              "          docLink.innerHTML = docLinkHtml;\n",
              "          element.appendChild(docLink);\n",
              "        }\n",
              "      </script>\n",
              "    </div>\n",
              "  </div>\n",
              "  "
            ]
          },
          "metadata": {},
          "execution_count": 15
        }
      ]
    },
    {
      "cell_type": "code",
      "source": [
        "df['Language'].value_counts()"
      ],
      "metadata": {
        "colab": {
          "base_uri": "https://localhost:8080/"
        },
        "id": "wX6aMaP9QtiA",
        "outputId": "baa13485-2f6d-418c-8a7d-1e377fd95123"
      },
      "execution_count": null,
      "outputs": [
        {
          "output_type": "execute_result",
          "data": {
            "text/plain": [
              "Java      307\n",
              "Python    299\n",
              "C         114\n",
              "Name: Language, dtype: int64"
            ]
          },
          "metadata": {},
          "execution_count": 16
        }
      ]
    },
    {
      "cell_type": "code",
      "source": [
        "#Combine language and the complexity into a single label\n",
        "df['Target'] = df['Language']+'_'+ df['Complexity']"
      ],
      "metadata": {
        "id": "wAYwPewGmAoc"
      },
      "execution_count": null,
      "outputs": []
    },
    {
      "cell_type": "code",
      "source": [
        "df[\"Target\"]"
      ],
      "metadata": {
        "colab": {
          "base_uri": "https://localhost:8080/"
        },
        "id": "c9bKEaf7krIL",
        "outputId": "c60d3c88-0bba-4b6d-83c3-b9508de33a74"
      },
      "execution_count": null,
      "outputs": [
        {
          "output_type": "execute_result",
          "data": {
            "text/plain": [
              "0          C_O(logN)\n",
              "1          C_O(logN)\n",
              "2          C_O(logN)\n",
              "3          C_O(logN)\n",
              "4          C_O(logN)\n",
              "           ...      \n",
              "715    Java_O(NlogN)\n",
              "716    Java_O(NlogN)\n",
              "717    Java_O(NlogN)\n",
              "718    Java_O(NlogN)\n",
              "719    Java_O(NlogN)\n",
              "Name: Target, Length: 720, dtype: object"
            ]
          },
          "metadata": {},
          "execution_count": 18
        }
      ]
    },
    {
      "cell_type": "code",
      "source": [
        "df['Target'].value_counts()"
      ],
      "metadata": {
        "colab": {
          "base_uri": "https://localhost:8080/"
        },
        "id": "IDOzKWNKmePs",
        "outputId": "9b371887-af32-4756-fc48-b9bcb5ddb68a"
      },
      "execution_count": null,
      "outputs": [
        {
          "output_type": "execute_result",
          "data": {
            "text/plain": [
              "Java_O(N)          165\n",
              "Python_O(N)        149\n",
              "Python_O(N2)        74\n",
              "Java_O(N2)          65\n",
              "C_O(N)              61\n",
              "Java_O(NlogN)       47\n",
              "Python_O(NlogN)     42\n",
              "C_O(N2)             26\n",
              "Python_O(logN)      14\n",
              "Java_O(N3)          11\n",
              "C_O(NlogN)          11\n",
              "Java_O(logN)        10\n",
              "Python_O(N3)        10\n",
              "Python_O(Nd)        10\n",
              "Java_O(Nd)           9\n",
              "C_O(logN)            7\n",
              "C_O(N3)              6\n",
              "C_O(Nd)              3\n",
              "Name: Target, dtype: int64"
            ]
          },
          "metadata": {},
          "execution_count": 19
        }
      ]
    },
    {
      "cell_type": "code",
      "source": [
        "df.head()"
      ],
      "metadata": {
        "colab": {
          "base_uri": "https://localhost:8080/",
          "height": 299
        },
        "id": "-lHbNZcTYJFS",
        "outputId": "d316777b-5f3e-4f97-ed6f-2c65b37879b4"
      },
      "execution_count": null,
      "outputs": [
        {
          "output_type": "execute_result",
          "data": {
            "text/plain": [
              "  Complexity      emb1      emb2      emb3      emb4      emb5      emb6  \\\n",
              "0    O(logN)  0.270222  0.300358 -0.445603  0.196632  0.531115  0.433794   \n",
              "1    O(logN)  0.102710  0.177498 -0.326135  0.302662  0.256015  0.207272   \n",
              "2    O(logN)  0.099151  0.171953 -0.230760  0.147983  0.240728  0.211076   \n",
              "3    O(logN)  0.004622  0.254111  0.043829  0.140978  0.663985  0.359904   \n",
              "4    O(logN) -0.013093  0.067878 -0.087897  0.155157  0.046141  0.043758   \n",
              "\n",
              "       emb7      emb8      emb9  ...    emb121    emb122    emb123    emb124  \\\n",
              "0 -0.261992 -0.074271 -0.215854  ... -0.216605 -0.092687 -0.081682 -0.599847   \n",
              "1 -0.175998 -0.057321  0.000238  ... -0.253997 -0.026445 -0.061492 -0.581163   \n",
              "2 -0.085177 -0.008800 -0.065532  ... -0.186028 -0.086344 -0.106616 -0.450628   \n",
              "3 -0.219945  0.108162 -0.140120  ... -0.185516 -0.029431 -0.201144 -0.293320   \n",
              "4 -0.005407 -0.022934  0.036307  ... -0.147306 -0.039465 -0.092333 -0.350462   \n",
              "\n",
              "     emb125    emb126    emb127    emb128  Language     Target  \n",
              "0  0.550452  0.468392 -0.247837  0.087675         C  C_O(logN)  \n",
              "1  0.442037  0.418021 -0.194271  0.098900         C  C_O(logN)  \n",
              "2  0.463381  0.325981 -0.107556  0.129127         C  C_O(logN)  \n",
              "3  0.295109  0.290326 -0.353395  0.164944         C  C_O(logN)  \n",
              "4  0.329363  0.250614 -0.131446  0.113169         C  C_O(logN)  \n",
              "\n",
              "[5 rows x 131 columns]"
            ],
            "text/html": [
              "\n",
              "  <div id=\"df-f4bbf404-d05c-4f3c-b96b-09d0fece7029\">\n",
              "    <div class=\"colab-df-container\">\n",
              "      <div>\n",
              "<style scoped>\n",
              "    .dataframe tbody tr th:only-of-type {\n",
              "        vertical-align: middle;\n",
              "    }\n",
              "\n",
              "    .dataframe tbody tr th {\n",
              "        vertical-align: top;\n",
              "    }\n",
              "\n",
              "    .dataframe thead th {\n",
              "        text-align: right;\n",
              "    }\n",
              "</style>\n",
              "<table border=\"1\" class=\"dataframe\">\n",
              "  <thead>\n",
              "    <tr style=\"text-align: right;\">\n",
              "      <th></th>\n",
              "      <th>Complexity</th>\n",
              "      <th>emb1</th>\n",
              "      <th>emb2</th>\n",
              "      <th>emb3</th>\n",
              "      <th>emb4</th>\n",
              "      <th>emb5</th>\n",
              "      <th>emb6</th>\n",
              "      <th>emb7</th>\n",
              "      <th>emb8</th>\n",
              "      <th>emb9</th>\n",
              "      <th>...</th>\n",
              "      <th>emb121</th>\n",
              "      <th>emb122</th>\n",
              "      <th>emb123</th>\n",
              "      <th>emb124</th>\n",
              "      <th>emb125</th>\n",
              "      <th>emb126</th>\n",
              "      <th>emb127</th>\n",
              "      <th>emb128</th>\n",
              "      <th>Language</th>\n",
              "      <th>Target</th>\n",
              "    </tr>\n",
              "  </thead>\n",
              "  <tbody>\n",
              "    <tr>\n",
              "      <th>0</th>\n",
              "      <td>O(logN)</td>\n",
              "      <td>0.270222</td>\n",
              "      <td>0.300358</td>\n",
              "      <td>-0.445603</td>\n",
              "      <td>0.196632</td>\n",
              "      <td>0.531115</td>\n",
              "      <td>0.433794</td>\n",
              "      <td>-0.261992</td>\n",
              "      <td>-0.074271</td>\n",
              "      <td>-0.215854</td>\n",
              "      <td>...</td>\n",
              "      <td>-0.216605</td>\n",
              "      <td>-0.092687</td>\n",
              "      <td>-0.081682</td>\n",
              "      <td>-0.599847</td>\n",
              "      <td>0.550452</td>\n",
              "      <td>0.468392</td>\n",
              "      <td>-0.247837</td>\n",
              "      <td>0.087675</td>\n",
              "      <td>C</td>\n",
              "      <td>C_O(logN)</td>\n",
              "    </tr>\n",
              "    <tr>\n",
              "      <th>1</th>\n",
              "      <td>O(logN)</td>\n",
              "      <td>0.102710</td>\n",
              "      <td>0.177498</td>\n",
              "      <td>-0.326135</td>\n",
              "      <td>0.302662</td>\n",
              "      <td>0.256015</td>\n",
              "      <td>0.207272</td>\n",
              "      <td>-0.175998</td>\n",
              "      <td>-0.057321</td>\n",
              "      <td>0.000238</td>\n",
              "      <td>...</td>\n",
              "      <td>-0.253997</td>\n",
              "      <td>-0.026445</td>\n",
              "      <td>-0.061492</td>\n",
              "      <td>-0.581163</td>\n",
              "      <td>0.442037</td>\n",
              "      <td>0.418021</td>\n",
              "      <td>-0.194271</td>\n",
              "      <td>0.098900</td>\n",
              "      <td>C</td>\n",
              "      <td>C_O(logN)</td>\n",
              "    </tr>\n",
              "    <tr>\n",
              "      <th>2</th>\n",
              "      <td>O(logN)</td>\n",
              "      <td>0.099151</td>\n",
              "      <td>0.171953</td>\n",
              "      <td>-0.230760</td>\n",
              "      <td>0.147983</td>\n",
              "      <td>0.240728</td>\n",
              "      <td>0.211076</td>\n",
              "      <td>-0.085177</td>\n",
              "      <td>-0.008800</td>\n",
              "      <td>-0.065532</td>\n",
              "      <td>...</td>\n",
              "      <td>-0.186028</td>\n",
              "      <td>-0.086344</td>\n",
              "      <td>-0.106616</td>\n",
              "      <td>-0.450628</td>\n",
              "      <td>0.463381</td>\n",
              "      <td>0.325981</td>\n",
              "      <td>-0.107556</td>\n",
              "      <td>0.129127</td>\n",
              "      <td>C</td>\n",
              "      <td>C_O(logN)</td>\n",
              "    </tr>\n",
              "    <tr>\n",
              "      <th>3</th>\n",
              "      <td>O(logN)</td>\n",
              "      <td>0.004622</td>\n",
              "      <td>0.254111</td>\n",
              "      <td>0.043829</td>\n",
              "      <td>0.140978</td>\n",
              "      <td>0.663985</td>\n",
              "      <td>0.359904</td>\n",
              "      <td>-0.219945</td>\n",
              "      <td>0.108162</td>\n",
              "      <td>-0.140120</td>\n",
              "      <td>...</td>\n",
              "      <td>-0.185516</td>\n",
              "      <td>-0.029431</td>\n",
              "      <td>-0.201144</td>\n",
              "      <td>-0.293320</td>\n",
              "      <td>0.295109</td>\n",
              "      <td>0.290326</td>\n",
              "      <td>-0.353395</td>\n",
              "      <td>0.164944</td>\n",
              "      <td>C</td>\n",
              "      <td>C_O(logN)</td>\n",
              "    </tr>\n",
              "    <tr>\n",
              "      <th>4</th>\n",
              "      <td>O(logN)</td>\n",
              "      <td>-0.013093</td>\n",
              "      <td>0.067878</td>\n",
              "      <td>-0.087897</td>\n",
              "      <td>0.155157</td>\n",
              "      <td>0.046141</td>\n",
              "      <td>0.043758</td>\n",
              "      <td>-0.005407</td>\n",
              "      <td>-0.022934</td>\n",
              "      <td>0.036307</td>\n",
              "      <td>...</td>\n",
              "      <td>-0.147306</td>\n",
              "      <td>-0.039465</td>\n",
              "      <td>-0.092333</td>\n",
              "      <td>-0.350462</td>\n",
              "      <td>0.329363</td>\n",
              "      <td>0.250614</td>\n",
              "      <td>-0.131446</td>\n",
              "      <td>0.113169</td>\n",
              "      <td>C</td>\n",
              "      <td>C_O(logN)</td>\n",
              "    </tr>\n",
              "  </tbody>\n",
              "</table>\n",
              "<p>5 rows × 131 columns</p>\n",
              "</div>\n",
              "      <button class=\"colab-df-convert\" onclick=\"convertToInteractive('df-f4bbf404-d05c-4f3c-b96b-09d0fece7029')\"\n",
              "              title=\"Convert this dataframe to an interactive table.\"\n",
              "              style=\"display:none;\">\n",
              "        \n",
              "  <svg xmlns=\"http://www.w3.org/2000/svg\" height=\"24px\"viewBox=\"0 0 24 24\"\n",
              "       width=\"24px\">\n",
              "    <path d=\"M0 0h24v24H0V0z\" fill=\"none\"/>\n",
              "    <path d=\"M18.56 5.44l.94 2.06.94-2.06 2.06-.94-2.06-.94-.94-2.06-.94 2.06-2.06.94zm-11 1L8.5 8.5l.94-2.06 2.06-.94-2.06-.94L8.5 2.5l-.94 2.06-2.06.94zm10 10l.94 2.06.94-2.06 2.06-.94-2.06-.94-.94-2.06-.94 2.06-2.06.94z\"/><path d=\"M17.41 7.96l-1.37-1.37c-.4-.4-.92-.59-1.43-.59-.52 0-1.04.2-1.43.59L10.3 9.45l-7.72 7.72c-.78.78-.78 2.05 0 2.83L4 21.41c.39.39.9.59 1.41.59.51 0 1.02-.2 1.41-.59l7.78-7.78 2.81-2.81c.8-.78.8-2.07 0-2.86zM5.41 20L4 18.59l7.72-7.72 1.47 1.35L5.41 20z\"/>\n",
              "  </svg>\n",
              "      </button>\n",
              "      \n",
              "  <style>\n",
              "    .colab-df-container {\n",
              "      display:flex;\n",
              "      flex-wrap:wrap;\n",
              "      gap: 12px;\n",
              "    }\n",
              "\n",
              "    .colab-df-convert {\n",
              "      background-color: #E8F0FE;\n",
              "      border: none;\n",
              "      border-radius: 50%;\n",
              "      cursor: pointer;\n",
              "      display: none;\n",
              "      fill: #1967D2;\n",
              "      height: 32px;\n",
              "      padding: 0 0 0 0;\n",
              "      width: 32px;\n",
              "    }\n",
              "\n",
              "    .colab-df-convert:hover {\n",
              "      background-color: #E2EBFA;\n",
              "      box-shadow: 0px 1px 2px rgba(60, 64, 67, 0.3), 0px 1px 3px 1px rgba(60, 64, 67, 0.15);\n",
              "      fill: #174EA6;\n",
              "    }\n",
              "\n",
              "    [theme=dark] .colab-df-convert {\n",
              "      background-color: #3B4455;\n",
              "      fill: #D2E3FC;\n",
              "    }\n",
              "\n",
              "    [theme=dark] .colab-df-convert:hover {\n",
              "      background-color: #434B5C;\n",
              "      box-shadow: 0px 1px 3px 1px rgba(0, 0, 0, 0.15);\n",
              "      filter: drop-shadow(0px 1px 2px rgba(0, 0, 0, 0.3));\n",
              "      fill: #FFFFFF;\n",
              "    }\n",
              "  </style>\n",
              "\n",
              "      <script>\n",
              "        const buttonEl =\n",
              "          document.querySelector('#df-f4bbf404-d05c-4f3c-b96b-09d0fece7029 button.colab-df-convert');\n",
              "        buttonEl.style.display =\n",
              "          google.colab.kernel.accessAllowed ? 'block' : 'none';\n",
              "\n",
              "        async function convertToInteractive(key) {\n",
              "          const element = document.querySelector('#df-f4bbf404-d05c-4f3c-b96b-09d0fece7029');\n",
              "          const dataTable =\n",
              "            await google.colab.kernel.invokeFunction('convertToInteractive',\n",
              "                                                     [key], {});\n",
              "          if (!dataTable) return;\n",
              "\n",
              "          const docLinkHtml = 'Like what you see? Visit the ' +\n",
              "            '<a target=\"_blank\" href=https://colab.research.google.com/notebooks/data_table.ipynb>data table notebook</a>'\n",
              "            + ' to learn more about interactive tables.';\n",
              "          element.innerHTML = '';\n",
              "          dataTable['output_type'] = 'display_data';\n",
              "          await google.colab.output.renderOutput(dataTable, element);\n",
              "          const docLink = document.createElement('div');\n",
              "          docLink.innerHTML = docLinkHtml;\n",
              "          element.appendChild(docLink);\n",
              "        }\n",
              "      </script>\n",
              "    </div>\n",
              "  </div>\n",
              "  "
            ]
          },
          "metadata": {},
          "execution_count": 20
        }
      ]
    },
    {
      "cell_type": "markdown",
      "source": [
        "#Oversampling data"
      ],
      "metadata": {
        "id": "auLXLQcvvYC7"
      }
    },
    {
      "cell_type": "code",
      "source": [
        "from imblearn.over_sampling import SMOTE"
      ],
      "metadata": {
        "id": "deYHb8EXX8_3"
      },
      "execution_count": null,
      "outputs": []
    },
    {
      "cell_type": "code",
      "source": [
        "from collections import Counter\n",
        "from matplotlib import pyplot\n",
        "from sklearn.preprocessing import LabelEncoder"
      ],
      "metadata": {
        "id": "bY3h8Wb_YkaC"
      },
      "execution_count": null,
      "outputs": []
    },
    {
      "cell_type": "code",
      "source": [
        "mapping=dict()\n",
        "labels = list(df['Target'].unique())\n",
        "for i in range(len(labels)):\n",
        "   mapping[labels[i]]=i"
      ],
      "metadata": {
        "id": "6eg8n59ld1d1"
      },
      "execution_count": null,
      "outputs": []
    },
    {
      "cell_type": "code",
      "source": [
        "mapping"
      ],
      "metadata": {
        "colab": {
          "base_uri": "https://localhost:8080/"
        },
        "id": "Gsr9962meSGT",
        "outputId": "9c24e2ac-686e-4f9e-8594-78d3fa62d616"
      },
      "execution_count": null,
      "outputs": [
        {
          "output_type": "execute_result",
          "data": {
            "text/plain": [
              "{'C_O(logN)': 0,\n",
              " 'C_O(N)': 1,\n",
              " 'C_O(N2)': 2,\n",
              " 'C_O(N3)': 3,\n",
              " 'C_O(Nd)': 4,\n",
              " 'C_O(NlogN)': 5,\n",
              " 'Python_O(logN)': 6,\n",
              " 'Python_O(N)': 7,\n",
              " 'Python_O(N2)': 8,\n",
              " 'Python_O(N3)': 9,\n",
              " 'Python_O(Nd)': 10,\n",
              " 'Python_O(NlogN)': 11,\n",
              " 'Java_O(logN)': 12,\n",
              " 'Java_O(N)': 13,\n",
              " 'Java_O(N2)': 14,\n",
              " 'Java_O(N3)': 15,\n",
              " 'Java_O(Nd)': 16,\n",
              " 'Java_O(NlogN)': 17}"
            ]
          },
          "metadata": {},
          "execution_count": 24
        }
      ]
    },
    {
      "cell_type": "code",
      "source": [
        "df['mapping']=df['Target'].replace(mapping)"
      ],
      "metadata": {
        "id": "0gBKVEeLe28Y"
      },
      "execution_count": null,
      "outputs": []
    },
    {
      "cell_type": "code",
      "source": [
        "df.head()"
      ],
      "metadata": {
        "colab": {
          "base_uri": "https://localhost:8080/",
          "height": 299
        },
        "id": "k8iMlVrre-sK",
        "outputId": "618356ac-d188-4c65-c5e8-5d020713d796"
      },
      "execution_count": null,
      "outputs": [
        {
          "output_type": "execute_result",
          "data": {
            "text/plain": [
              "  Complexity      emb1      emb2      emb3      emb4      emb5      emb6  \\\n",
              "0    O(logN)  0.270222  0.300358 -0.445603  0.196632  0.531115  0.433794   \n",
              "1    O(logN)  0.102710  0.177498 -0.326135  0.302662  0.256015  0.207272   \n",
              "2    O(logN)  0.099151  0.171953 -0.230760  0.147983  0.240728  0.211076   \n",
              "3    O(logN)  0.004622  0.254111  0.043829  0.140978  0.663985  0.359904   \n",
              "4    O(logN) -0.013093  0.067878 -0.087897  0.155157  0.046141  0.043758   \n",
              "\n",
              "       emb7      emb8      emb9  ...    emb122    emb123    emb124    emb125  \\\n",
              "0 -0.261992 -0.074271 -0.215854  ... -0.092687 -0.081682 -0.599847  0.550452   \n",
              "1 -0.175998 -0.057321  0.000238  ... -0.026445 -0.061492 -0.581163  0.442037   \n",
              "2 -0.085177 -0.008800 -0.065532  ... -0.086344 -0.106616 -0.450628  0.463381   \n",
              "3 -0.219945  0.108162 -0.140120  ... -0.029431 -0.201144 -0.293320  0.295109   \n",
              "4 -0.005407 -0.022934  0.036307  ... -0.039465 -0.092333 -0.350462  0.329363   \n",
              "\n",
              "     emb126    emb127    emb128  Language     Target  mapping  \n",
              "0  0.468392 -0.247837  0.087675         C  C_O(logN)        0  \n",
              "1  0.418021 -0.194271  0.098900         C  C_O(logN)        0  \n",
              "2  0.325981 -0.107556  0.129127         C  C_O(logN)        0  \n",
              "3  0.290326 -0.353395  0.164944         C  C_O(logN)        0  \n",
              "4  0.250614 -0.131446  0.113169         C  C_O(logN)        0  \n",
              "\n",
              "[5 rows x 132 columns]"
            ],
            "text/html": [
              "\n",
              "  <div id=\"df-b139ebdc-d95c-4c61-962a-442cc380c514\">\n",
              "    <div class=\"colab-df-container\">\n",
              "      <div>\n",
              "<style scoped>\n",
              "    .dataframe tbody tr th:only-of-type {\n",
              "        vertical-align: middle;\n",
              "    }\n",
              "\n",
              "    .dataframe tbody tr th {\n",
              "        vertical-align: top;\n",
              "    }\n",
              "\n",
              "    .dataframe thead th {\n",
              "        text-align: right;\n",
              "    }\n",
              "</style>\n",
              "<table border=\"1\" class=\"dataframe\">\n",
              "  <thead>\n",
              "    <tr style=\"text-align: right;\">\n",
              "      <th></th>\n",
              "      <th>Complexity</th>\n",
              "      <th>emb1</th>\n",
              "      <th>emb2</th>\n",
              "      <th>emb3</th>\n",
              "      <th>emb4</th>\n",
              "      <th>emb5</th>\n",
              "      <th>emb6</th>\n",
              "      <th>emb7</th>\n",
              "      <th>emb8</th>\n",
              "      <th>emb9</th>\n",
              "      <th>...</th>\n",
              "      <th>emb122</th>\n",
              "      <th>emb123</th>\n",
              "      <th>emb124</th>\n",
              "      <th>emb125</th>\n",
              "      <th>emb126</th>\n",
              "      <th>emb127</th>\n",
              "      <th>emb128</th>\n",
              "      <th>Language</th>\n",
              "      <th>Target</th>\n",
              "      <th>mapping</th>\n",
              "    </tr>\n",
              "  </thead>\n",
              "  <tbody>\n",
              "    <tr>\n",
              "      <th>0</th>\n",
              "      <td>O(logN)</td>\n",
              "      <td>0.270222</td>\n",
              "      <td>0.300358</td>\n",
              "      <td>-0.445603</td>\n",
              "      <td>0.196632</td>\n",
              "      <td>0.531115</td>\n",
              "      <td>0.433794</td>\n",
              "      <td>-0.261992</td>\n",
              "      <td>-0.074271</td>\n",
              "      <td>-0.215854</td>\n",
              "      <td>...</td>\n",
              "      <td>-0.092687</td>\n",
              "      <td>-0.081682</td>\n",
              "      <td>-0.599847</td>\n",
              "      <td>0.550452</td>\n",
              "      <td>0.468392</td>\n",
              "      <td>-0.247837</td>\n",
              "      <td>0.087675</td>\n",
              "      <td>C</td>\n",
              "      <td>C_O(logN)</td>\n",
              "      <td>0</td>\n",
              "    </tr>\n",
              "    <tr>\n",
              "      <th>1</th>\n",
              "      <td>O(logN)</td>\n",
              "      <td>0.102710</td>\n",
              "      <td>0.177498</td>\n",
              "      <td>-0.326135</td>\n",
              "      <td>0.302662</td>\n",
              "      <td>0.256015</td>\n",
              "      <td>0.207272</td>\n",
              "      <td>-0.175998</td>\n",
              "      <td>-0.057321</td>\n",
              "      <td>0.000238</td>\n",
              "      <td>...</td>\n",
              "      <td>-0.026445</td>\n",
              "      <td>-0.061492</td>\n",
              "      <td>-0.581163</td>\n",
              "      <td>0.442037</td>\n",
              "      <td>0.418021</td>\n",
              "      <td>-0.194271</td>\n",
              "      <td>0.098900</td>\n",
              "      <td>C</td>\n",
              "      <td>C_O(logN)</td>\n",
              "      <td>0</td>\n",
              "    </tr>\n",
              "    <tr>\n",
              "      <th>2</th>\n",
              "      <td>O(logN)</td>\n",
              "      <td>0.099151</td>\n",
              "      <td>0.171953</td>\n",
              "      <td>-0.230760</td>\n",
              "      <td>0.147983</td>\n",
              "      <td>0.240728</td>\n",
              "      <td>0.211076</td>\n",
              "      <td>-0.085177</td>\n",
              "      <td>-0.008800</td>\n",
              "      <td>-0.065532</td>\n",
              "      <td>...</td>\n",
              "      <td>-0.086344</td>\n",
              "      <td>-0.106616</td>\n",
              "      <td>-0.450628</td>\n",
              "      <td>0.463381</td>\n",
              "      <td>0.325981</td>\n",
              "      <td>-0.107556</td>\n",
              "      <td>0.129127</td>\n",
              "      <td>C</td>\n",
              "      <td>C_O(logN)</td>\n",
              "      <td>0</td>\n",
              "    </tr>\n",
              "    <tr>\n",
              "      <th>3</th>\n",
              "      <td>O(logN)</td>\n",
              "      <td>0.004622</td>\n",
              "      <td>0.254111</td>\n",
              "      <td>0.043829</td>\n",
              "      <td>0.140978</td>\n",
              "      <td>0.663985</td>\n",
              "      <td>0.359904</td>\n",
              "      <td>-0.219945</td>\n",
              "      <td>0.108162</td>\n",
              "      <td>-0.140120</td>\n",
              "      <td>...</td>\n",
              "      <td>-0.029431</td>\n",
              "      <td>-0.201144</td>\n",
              "      <td>-0.293320</td>\n",
              "      <td>0.295109</td>\n",
              "      <td>0.290326</td>\n",
              "      <td>-0.353395</td>\n",
              "      <td>0.164944</td>\n",
              "      <td>C</td>\n",
              "      <td>C_O(logN)</td>\n",
              "      <td>0</td>\n",
              "    </tr>\n",
              "    <tr>\n",
              "      <th>4</th>\n",
              "      <td>O(logN)</td>\n",
              "      <td>-0.013093</td>\n",
              "      <td>0.067878</td>\n",
              "      <td>-0.087897</td>\n",
              "      <td>0.155157</td>\n",
              "      <td>0.046141</td>\n",
              "      <td>0.043758</td>\n",
              "      <td>-0.005407</td>\n",
              "      <td>-0.022934</td>\n",
              "      <td>0.036307</td>\n",
              "      <td>...</td>\n",
              "      <td>-0.039465</td>\n",
              "      <td>-0.092333</td>\n",
              "      <td>-0.350462</td>\n",
              "      <td>0.329363</td>\n",
              "      <td>0.250614</td>\n",
              "      <td>-0.131446</td>\n",
              "      <td>0.113169</td>\n",
              "      <td>C</td>\n",
              "      <td>C_O(logN)</td>\n",
              "      <td>0</td>\n",
              "    </tr>\n",
              "  </tbody>\n",
              "</table>\n",
              "<p>5 rows × 132 columns</p>\n",
              "</div>\n",
              "      <button class=\"colab-df-convert\" onclick=\"convertToInteractive('df-b139ebdc-d95c-4c61-962a-442cc380c514')\"\n",
              "              title=\"Convert this dataframe to an interactive table.\"\n",
              "              style=\"display:none;\">\n",
              "        \n",
              "  <svg xmlns=\"http://www.w3.org/2000/svg\" height=\"24px\"viewBox=\"0 0 24 24\"\n",
              "       width=\"24px\">\n",
              "    <path d=\"M0 0h24v24H0V0z\" fill=\"none\"/>\n",
              "    <path d=\"M18.56 5.44l.94 2.06.94-2.06 2.06-.94-2.06-.94-.94-2.06-.94 2.06-2.06.94zm-11 1L8.5 8.5l.94-2.06 2.06-.94-2.06-.94L8.5 2.5l-.94 2.06-2.06.94zm10 10l.94 2.06.94-2.06 2.06-.94-2.06-.94-.94-2.06-.94 2.06-2.06.94z\"/><path d=\"M17.41 7.96l-1.37-1.37c-.4-.4-.92-.59-1.43-.59-.52 0-1.04.2-1.43.59L10.3 9.45l-7.72 7.72c-.78.78-.78 2.05 0 2.83L4 21.41c.39.39.9.59 1.41.59.51 0 1.02-.2 1.41-.59l7.78-7.78 2.81-2.81c.8-.78.8-2.07 0-2.86zM5.41 20L4 18.59l7.72-7.72 1.47 1.35L5.41 20z\"/>\n",
              "  </svg>\n",
              "      </button>\n",
              "      \n",
              "  <style>\n",
              "    .colab-df-container {\n",
              "      display:flex;\n",
              "      flex-wrap:wrap;\n",
              "      gap: 12px;\n",
              "    }\n",
              "\n",
              "    .colab-df-convert {\n",
              "      background-color: #E8F0FE;\n",
              "      border: none;\n",
              "      border-radius: 50%;\n",
              "      cursor: pointer;\n",
              "      display: none;\n",
              "      fill: #1967D2;\n",
              "      height: 32px;\n",
              "      padding: 0 0 0 0;\n",
              "      width: 32px;\n",
              "    }\n",
              "\n",
              "    .colab-df-convert:hover {\n",
              "      background-color: #E2EBFA;\n",
              "      box-shadow: 0px 1px 2px rgba(60, 64, 67, 0.3), 0px 1px 3px 1px rgba(60, 64, 67, 0.15);\n",
              "      fill: #174EA6;\n",
              "    }\n",
              "\n",
              "    [theme=dark] .colab-df-convert {\n",
              "      background-color: #3B4455;\n",
              "      fill: #D2E3FC;\n",
              "    }\n",
              "\n",
              "    [theme=dark] .colab-df-convert:hover {\n",
              "      background-color: #434B5C;\n",
              "      box-shadow: 0px 1px 3px 1px rgba(0, 0, 0, 0.15);\n",
              "      filter: drop-shadow(0px 1px 2px rgba(0, 0, 0, 0.3));\n",
              "      fill: #FFFFFF;\n",
              "    }\n",
              "  </style>\n",
              "\n",
              "      <script>\n",
              "        const buttonEl =\n",
              "          document.querySelector('#df-b139ebdc-d95c-4c61-962a-442cc380c514 button.colab-df-convert');\n",
              "        buttonEl.style.display =\n",
              "          google.colab.kernel.accessAllowed ? 'block' : 'none';\n",
              "\n",
              "        async function convertToInteractive(key) {\n",
              "          const element = document.querySelector('#df-b139ebdc-d95c-4c61-962a-442cc380c514');\n",
              "          const dataTable =\n",
              "            await google.colab.kernel.invokeFunction('convertToInteractive',\n",
              "                                                     [key], {});\n",
              "          if (!dataTable) return;\n",
              "\n",
              "          const docLinkHtml = 'Like what you see? Visit the ' +\n",
              "            '<a target=\"_blank\" href=https://colab.research.google.com/notebooks/data_table.ipynb>data table notebook</a>'\n",
              "            + ' to learn more about interactive tables.';\n",
              "          element.innerHTML = '';\n",
              "          dataTable['output_type'] = 'display_data';\n",
              "          await google.colab.output.renderOutput(dataTable, element);\n",
              "          const docLink = document.createElement('div');\n",
              "          docLink.innerHTML = docLinkHtml;\n",
              "          element.appendChild(docLink);\n",
              "        }\n",
              "      </script>\n",
              "    </div>\n",
              "  </div>\n",
              "  "
            ]
          },
          "metadata": {},
          "execution_count": 26
        }
      ]
    },
    {
      "cell_type": "code",
      "source": [
        "df['mapping'].value_counts()"
      ],
      "metadata": {
        "colab": {
          "base_uri": "https://localhost:8080/"
        },
        "id": "lQkARFCdfD_0",
        "outputId": "4b31c33a-b199-4c6e-8544-dd1b940ccc85"
      },
      "execution_count": null,
      "outputs": [
        {
          "output_type": "execute_result",
          "data": {
            "text/plain": [
              "13    165\n",
              "7     149\n",
              "8      74\n",
              "14     65\n",
              "1      61\n",
              "17     47\n",
              "11     42\n",
              "2      26\n",
              "6      14\n",
              "15     11\n",
              "5      11\n",
              "12     10\n",
              "9      10\n",
              "10     10\n",
              "16      9\n",
              "0       7\n",
              "3       6\n",
              "4       3\n",
              "Name: mapping, dtype: int64"
            ]
          },
          "metadata": {},
          "execution_count": 27
        }
      ]
    },
    {
      "cell_type": "code",
      "source": [
        "X, y = df.iloc[:, 1:129], df['mapping']"
      ],
      "metadata": {
        "id": "hUevTsAPYF2y"
      },
      "execution_count": null,
      "outputs": []
    },
    {
      "cell_type": "code",
      "source": [
        "# transform the dataset\n",
        "oversample = SMOTE(k_neighbors=2)\n",
        "X, y = oversample.fit_resample(X, y)"
      ],
      "metadata": {
        "id": "2_wAcWkQdq-j"
      },
      "execution_count": null,
      "outputs": []
    },
    {
      "cell_type": "code",
      "source": [
        "# summarize distribution\n",
        "counter = Counter(y)\n",
        "for k,v in counter.items():\n",
        "\tper = v / len(y) * 100\n",
        "\tprint('Class=%d, n=%d (%.3f%%)' % (k, v, per))\n",
        "# plot the distribution\n",
        "pyplot.bar(counter.keys(), counter.values())\n",
        "pyplot.show()"
      ],
      "metadata": {
        "colab": {
          "base_uri": "https://localhost:8080/",
          "height": 577
        },
        "id": "Eb2Vv0jCdtEO",
        "outputId": "2eeb8894-ed58-4088-abe6-5e1598cfd206"
      },
      "execution_count": null,
      "outputs": [
        {
          "output_type": "stream",
          "name": "stdout",
          "text": [
            "Class=0, n=165 (5.556%)\n",
            "Class=1, n=165 (5.556%)\n",
            "Class=2, n=165 (5.556%)\n",
            "Class=3, n=165 (5.556%)\n",
            "Class=4, n=165 (5.556%)\n",
            "Class=5, n=165 (5.556%)\n",
            "Class=6, n=165 (5.556%)\n",
            "Class=7, n=165 (5.556%)\n",
            "Class=8, n=165 (5.556%)\n",
            "Class=9, n=165 (5.556%)\n",
            "Class=10, n=165 (5.556%)\n",
            "Class=11, n=165 (5.556%)\n",
            "Class=12, n=165 (5.556%)\n",
            "Class=13, n=165 (5.556%)\n",
            "Class=14, n=165 (5.556%)\n",
            "Class=15, n=165 (5.556%)\n",
            "Class=16, n=165 (5.556%)\n",
            "Class=17, n=165 (5.556%)\n"
          ]
        },
        {
          "output_type": "display_data",
          "data": {
            "text/plain": [
              "<Figure size 432x288 with 1 Axes>"
            ],
            "image/png": "[encoded data removed]"
          },
          "metadata": {
            "needs_background": "light"
          }
        }
      ]
    },
    {
      "cell_type": "markdown",
      "source": [
        "#Train Test split and standardizing the data"
      ],
      "metadata": {
        "id": "ziqGSzUIvNQI"
      }
    },
    {
      "cell_type": "code",
      "execution_count": null,
      "metadata": {
        "id": "nNa27HgiKe9Z"
      },
      "outputs": [],
      "source": [
        "# Creating the Training and Test set from data\n",
        "X_train, X_test, y_train, y_test = train_test_split(X, y, test_size = 0.25, random_state = 21)"
      ]
    },
    {
      "cell_type": "code",
      "execution_count": null,
      "metadata": {
        "id": "-X0GeSHpKg10"
      },
      "outputs": [],
      "source": [
        "# Feature Scaling\n",
        "scaler = StandardScaler()\n",
        "X_train = scaler.fit_transform(X_train)\n",
        "X_test = scaler.transform(X_test)"
      ]
    },
    {
      "cell_type": "code",
      "source": [
        "model_results = pd.DataFrame()\n",
        "model_results['models'] = ['Random Forest','Adaboost','XGBoost','KNN','Logistic Regression','Naive Bayes']\n",
        "acc = []\n",
        "prec = []\n",
        "rec = []\n",
        "f1 = []\n",
        "kap = []\n",
        "roc = []"
      ],
      "metadata": {
        "id": "WimPmrlPynDL"
      },
      "execution_count": null,
      "outputs": []
    },
    {
      "cell_type": "markdown",
      "metadata": {
        "id": "ukgfN2A0Cq5d"
      },
      "source": [
        "# Random forest"
      ]
    },
    {
      "cell_type": "code",
      "execution_count": null,
      "metadata": {
        "colab": {
          "base_uri": "https://localhost:8080/"
        },
        "id": "pi8jnNzY7vEy",
        "outputId": "ec4d6744-de46-47ef-c419-6a701543ba1a"
      },
      "outputs": [
        {
          "output_type": "stream",
          "name": "stderr",
          "text": [
            "/usr/local/lib/python3.7/dist-packages/sklearn/model_selection/_validation.py:372: FitFailedWarning: \n",
            "50 fits failed out of a total of 500.\n",
            "The score on these train-test partitions for these parameters will be set to nan.\n",
            "If these failures are not expected, you can try to debug them by setting error_score='raise'.\n",
            "\n",
            "Below are more details about the failures:\n",
            "--------------------------------------------------------------------------------\n",
            "50 fits failed with the following error:\n",
            "Traceback (most recent call last):\n",
            "  File \"/usr/local/lib/python3.7/dist-packages/sklearn/model_selection/_validation.py\", line 680, in _fit_and_score\n",
            "    estimator.fit(X_train, y_train, **fit_params)\n",
            "  File \"/usr/local/lib/python3.7/dist-packages/sklearn/ensemble/_forest.py\", line 467, in fit\n",
            "    for i, t in enumerate(trees)\n",
            "  File \"/usr/local/lib/python3.7/dist-packages/joblib/parallel.py\", line 1085, in __call__\n",
            "    if self.dispatch_one_batch(iterator):\n",
            "  File \"/usr/local/lib/python3.7/dist-packages/joblib/parallel.py\", line 901, in dispatch_one_batch\n",
            "    self._dispatch(tasks)\n",
            "  File \"/usr/local/lib/python3.7/dist-packages/joblib/parallel.py\", line 819, in _dispatch\n",
            "    job = self._backend.apply_async(batch, callback=cb)\n",
            "  File \"/usr/local/lib/python3.7/dist-packages/joblib/_parallel_backends.py\", line 208, in apply_async\n",
            "    result = ImmediateResult(func)\n",
            "  File \"/usr/local/lib/python3.7/dist-packages/joblib/_parallel_backends.py\", line 597, in __init__\n",
            "    self.results = batch()\n",
            "  File \"/usr/local/lib/python3.7/dist-packages/joblib/parallel.py\", line 289, in __call__\n",
            "    for func, args, kwargs in self.items]\n",
            "  File \"/usr/local/lib/python3.7/dist-packages/joblib/parallel.py\", line 289, in <listcomp>\n",
            "    for func, args, kwargs in self.items]\n",
            "  File \"/usr/local/lib/python3.7/dist-packages/sklearn/utils/fixes.py\", line 216, in __call__\n",
            "    return self.function(*args, **kwargs)\n",
            "  File \"/usr/local/lib/python3.7/dist-packages/sklearn/ensemble/_forest.py\", line 185, in _parallel_build_trees\n",
            "    tree.fit(X, y, sample_weight=curr_sample_weight, check_input=False)\n",
            "  File \"/usr/local/lib/python3.7/dist-packages/sklearn/tree/_classes.py\", line 942, in fit\n",
            "    X_idx_sorted=X_idx_sorted,\n",
            "  File \"/usr/local/lib/python3.7/dist-packages/sklearn/tree/_classes.py\", line 308, in fit\n",
            "    raise ValueError(\"max_features must be in (0, n_features]\")\n",
            "ValueError: max_features must be in (0, n_features]\n",
            "\n",
            "  warnings.warn(some_fits_failed_message, FitFailedWarning)\n",
            "/usr/local/lib/python3.7/dist-packages/sklearn/model_selection/_search.py:972: UserWarning: One or more of the test scores are non-finite: [       nan 0.9281582  0.93444431 0.93849432 0.93804185 0.93758332\n",
            " 0.93803579 0.94388155 0.94117481 0.94477639        nan 0.93354745\n",
            " 0.93847816 0.94253222 0.9416293  0.94252818 0.9407284  0.94163536\n",
            " 0.94027997 0.9407385         nan 0.9357896  0.93443825 0.94297661\n",
            " 0.93938513 0.94297257 0.94387751 0.94297661 0.94163132 0.94611764\n",
            "        nan 0.93938109 0.94342504 0.94296651 0.94746697 0.94342908\n",
            " 0.94388357 0.94208177 0.94252212 0.94298267        nan 0.94029209\n",
            " 0.94432594 0.9398275  0.94163738 0.94432594 0.93848624 0.94342706\n",
            " 0.9434311  0.94836787]\n",
            "  category=UserWarning,\n"
          ]
        },
        {
          "output_type": "stream",
          "name": "stdout",
          "text": [
            "{'max_depth': 14, 'max_features': 9}\n",
            "0.9483678746010584\n"
          ]
        }
      ],
      "source": [
        "from sklearn.model_selection import GridSearchCV\n",
        "forest_params = [{'max_depth': list(range(10, 15)), 'max_features': list(range(0,10))}]\n",
        "rfc = RandomForestClassifier()\n",
        "clf = GridSearchCV(rfc, forest_params, cv = 10, scoring='accuracy')\n",
        "clf.fit(X_train, y_train)\n",
        "print(clf.best_params_)\n",
        "print(clf.best_score_)"
      ]
    },
    {
      "cell_type": "code",
      "execution_count": null,
      "metadata": {
        "colab": {
          "base_uri": "https://localhost:8080/"
        },
        "id": "qdzk6nnWKjxT",
        "outputId": "8c03e02e-b0d7-432c-83d4-8eb4a00c7b8e"
      },
      "outputs": [
        {
          "output_type": "execute_result",
          "data": {
            "text/plain": [
              "RandomForestClassifier(criterion='entropy', max_depth=14, max_features=9,\n",
              "                       n_estimators=10, random_state=42)"
            ]
          },
          "metadata": {},
          "execution_count": 71
        }
      ],
      "source": [
        "# Fitting Random Forest Classification to the Training set\n",
        "classifier = RandomForestClassifier(n_estimators = 10, criterion = 'entropy', random_state = 42,max_depth=14,max_features=9)\n",
        "classifier.fit(X_train, y_train)"
      ]
    },
    {
      "cell_type": "code",
      "execution_count": null,
      "metadata": {
        "colab": {
          "base_uri": "https://localhost:8080/"
        },
        "id": "ZCYQ8WC-QXo7",
        "outputId": "36384b8e-acca-47cf-a109-7bb1beec69f3"
      },
      "outputs": [
        {
          "output_type": "execute_result",
          "data": {
            "text/plain": [
              "18"
            ]
          },
          "metadata": {},
          "execution_count": 49
        }
      ],
      "source": [
        "num_classes = len(set(df['Target']))\n",
        "num_classes"
      ]
    },
    {
      "cell_type": "code",
      "execution_count": null,
      "metadata": {
        "id": "hRvFjO7RKnUr"
      },
      "outputs": [],
      "source": [
        "# Predicting the Test set results\n",
        "y_pred = classifier.predict(X_test)"
      ]
    },
    {
      "cell_type": "code",
      "execution_count": null,
      "metadata": {
        "colab": {
          "base_uri": "https://localhost:8080/"
        },
        "id": "REfNgYrmMjIF",
        "outputId": "1be7bfc5-dd5d-4266-9fe9-deca73b80ae1"
      },
      "outputs": [
        {
          "output_type": "execute_result",
          "data": {
            "text/plain": [
              "array([[42,  0,  0,  0,  0,  0,  0,  0,  0,  0,  0,  0,  0,  0,  0,  0,\n",
              "         0,  0],\n",
              "       [ 0, 40,  0,  0,  0,  1,  0,  0,  0,  0,  0,  0,  0,  0,  0,  0,\n",
              "         0,  0],\n",
              "       [ 0,  2, 41,  0,  0,  0,  0,  0,  0,  0,  0,  0,  0,  0,  0,  0,\n",
              "         0,  0],\n",
              "       [ 0,  0,  0, 37,  0,  0,  0,  0,  0,  0,  0,  0,  0,  0,  0,  0,\n",
              "         0,  0],\n",
              "       [ 0,  0,  0,  0, 43,  0,  0,  0,  0,  0,  0,  0,  0,  0,  0,  0,\n",
              "         0,  0],\n",
              "       [ 0,  0,  0,  0,  0, 46,  0,  0,  0,  0,  0,  0,  0,  0,  0,  0,\n",
              "         0,  0],\n",
              "       [ 0,  0,  0,  0,  0,  0, 51,  0,  0,  0,  0,  2,  0,  0,  0,  0,\n",
              "         0,  0],\n",
              "       [ 0,  0,  0,  0,  0,  0,  0, 25,  1,  2,  1,  3,  0,  0,  0,  0,\n",
              "         0,  0],\n",
              "       [ 0,  0,  0,  0,  0,  0,  1,  4, 34,  0,  1,  5,  0,  0,  0,  0,\n",
              "         0,  0],\n",
              "       [ 0,  0,  0,  0,  0,  0,  0,  0,  0, 34,  0,  0,  0,  0,  0,  0,\n",
              "         0,  0],\n",
              "       [ 0,  0,  0,  0,  0,  0,  0,  1,  1,  0, 43,  0,  0,  0,  0,  0,\n",
              "         0,  0],\n",
              "       [ 0,  0,  0,  0,  0,  0,  1,  2,  0,  0,  0, 32,  0,  0,  0,  0,\n",
              "         0,  0],\n",
              "       [ 0,  0,  0,  0,  0,  0,  0,  0,  0,  0,  0,  0, 45,  0,  0,  0,\n",
              "         0,  0],\n",
              "       [ 0,  0,  0,  0,  0,  0,  0,  0,  0,  0,  0,  0,  2, 24,  7,  1,\n",
              "         1,  3],\n",
              "       [ 0,  0,  0,  0,  0,  0,  0,  0,  0,  0,  0,  0,  1,  3, 37,  0,\n",
              "         0,  0],\n",
              "       [ 0,  0,  0,  0,  0,  0,  0,  0,  0,  0,  0,  0,  0,  0,  0, 44,\n",
              "         0,  0],\n",
              "       [ 0,  0,  0,  0,  0,  0,  0,  0,  0,  0,  0,  0,  0,  0,  0,  0,\n",
              "        38,  0],\n",
              "       [ 0,  0,  0,  0,  0,  0,  0,  0,  0,  0,  0,  0,  0,  4,  0,  0,\n",
              "         0, 37]])"
            ]
          },
          "metadata": {},
          "execution_count": 73
        }
      ],
      "source": [
        "confusion_matrix(y_test, y_pred)"
      ]
    },
    {
      "cell_type": "code",
      "execution_count": null,
      "metadata": {
        "colab": {
          "base_uri": "https://localhost:8080/",
          "height": 533
        },
        "id": "xqpKgBTWNTDk",
        "outputId": "8ff15396-5b35-4780-f6b3-689edca4fc3f"
      },
      "outputs": [
        {
          "output_type": "display_data",
          "data": {
            "text/plain": [
              "<Figure size 1152x504 with 2 Axes>"
            ],
            "image/png": "[encoded data removed]"
          },
          "metadata": {
            "needs_background": "light"
          }
        }
      ],
      "source": [
        "# Get and reshape confusion matrix data\n",
        "import matplotlib.pyplot as plt\n",
        "import seaborn as sns\n",
        "matrix = confusion_matrix(y_test, y_pred)\n",
        "matrix = matrix.astype('float') / matrix.sum(axis=1)[:, np.newaxis]\n",
        "\n",
        "# Build the plot\n",
        "plt.figure(figsize=(16,7))\n",
        "sns.set(font_scale=1.4)\n",
        "sns.heatmap(matrix, annot=True, annot_kws={'size':10},\n",
        "            cmap=plt.cm.Greens, linewidths=0.2)\n",
        "\n",
        "# Add labels to the plot\n",
        "class_names = labels\n",
        "tick_marks = np.arange(len(class_names))\n",
        "tick_marks2 = tick_marks + 0.5\n",
        "plt.xticks(tick_marks, class_names, rotation=25)\n",
        "plt.yticks(tick_marks2, class_names, rotation=0)\n",
        "plt.xlabel('Predicted label')\n",
        "plt.ylabel('True label')\n",
        "plt.title('Confusion Matrix for Random Forest Model')\n",
        "plt.show()"
      ]
    },
    {
      "cell_type": "code",
      "execution_count": null,
      "metadata": {
        "colab": {
          "base_uri": "https://localhost:8080/"
        },
        "id": "dKI1ov9XPAkZ",
        "outputId": "91ce72cb-8c22-44a8-e37d-a50910ee16ee"
      },
      "outputs": [
        {
          "output_type": "execute_result",
          "data": {
            "text/plain": [
              "0.9327052489905787"
            ]
          },
          "metadata": {},
          "execution_count": 75
        }
      ],
      "source": [
        "from sklearn.metrics import accuracy_score, confusion_matrix, classification_report\n",
        "\n",
        "accuracy_score(y_test, y_pred)"
      ]
    },
    {
      "cell_type": "code",
      "execution_count": null,
      "metadata": {
        "colab": {
          "base_uri": "https://localhost:8080/"
        },
        "id": "HL8fH_0NPAtJ",
        "outputId": "5b13f528-ebbb-4a6f-ac52-1ed574ef1ad1"
      },
      "outputs": [
        {
          "output_type": "stream",
          "name": "stdout",
          "text": [
            "              precision    recall  f1-score   support\n",
            "\n",
            "           0       1.00      1.00      1.00        42\n",
            "           1       0.95      0.98      0.96        41\n",
            "           2       1.00      0.95      0.98        43\n",
            "           3       1.00      1.00      1.00        37\n",
            "           4       1.00      1.00      1.00        43\n",
            "           5       0.98      1.00      0.99        46\n",
            "           6       0.96      0.96      0.96        53\n",
            "           7       0.78      0.78      0.78        32\n",
            "           8       0.94      0.76      0.84        45\n",
            "           9       0.94      1.00      0.97        34\n",
            "          10       0.96      0.96      0.96        45\n",
            "          11       0.76      0.91      0.83        35\n",
            "          12       0.94      1.00      0.97        45\n",
            "          13       0.77      0.63      0.70        38\n",
            "          14       0.84      0.90      0.87        41\n",
            "          15       0.98      1.00      0.99        44\n",
            "          16       0.97      1.00      0.99        38\n",
            "          17       0.93      0.90      0.91        41\n",
            "\n",
            "    accuracy                           0.93       743\n",
            "   macro avg       0.93      0.93      0.93       743\n",
            "weighted avg       0.93      0.93      0.93       743\n",
            "\n"
          ]
        }
      ],
      "source": [
        "print(classification_report(y_test, y_pred))"
      ]
    },
    {
      "cell_type": "code",
      "execution_count": null,
      "metadata": {
        "colab": {
          "base_uri": "https://localhost:8080/"
        },
        "id": "5TIyzrKiPvs9",
        "outputId": "8a04aa48-5df5-45f9-ff2c-fa539ee8dbd6"
      },
      "outputs": [
        {
          "output_type": "execute_result",
          "data": {
            "text/plain": [
              "(2227, 128)"
            ]
          },
          "metadata": {},
          "execution_count": 78
        }
      ],
      "source": [
        "X_train.shape"
      ]
    },
    {
      "cell_type": "code",
      "execution_count": null,
      "metadata": {
        "colab": {
          "base_uri": "https://localhost:8080/"
        },
        "id": "zm-0mL3aPwRP",
        "outputId": "93bc3bce-2236-4a35-af20-6c93fc9a83a6"
      },
      "outputs": [
        {
          "output_type": "execute_result",
          "data": {
            "text/plain": [
              "(2227,)"
            ]
          },
          "metadata": {},
          "execution_count": 79
        }
      ],
      "source": [
        "y_train.shape"
      ]
    },
    {
      "cell_type": "code",
      "execution_count": null,
      "metadata": {
        "colab": {
          "base_uri": "https://localhost:8080/"
        },
        "id": "NRfwaZ99n6T1",
        "outputId": "79b3021a-a1c2-4e4b-bd12-bda3973866ce"
      },
      "outputs": [
        {
          "output_type": "stream",
          "name": "stdout",
          "text": [
            "Accuracy: 93.27%\n"
          ]
        }
      ],
      "source": [
        "accuracy = accuracy_score(y_test, y_pred) \n",
        "\n",
        "print(\"Accuracy: %.2f%%\" % (accuracy * 100.0))"
      ]
    },
    {
      "cell_type": "code",
      "execution_count": null,
      "metadata": {
        "colab": {
          "base_uri": "https://localhost:8080/"
        },
        "id": "VEz5X9HCn6XK",
        "outputId": "c5361224-b4c7-4b2e-efca-91a3e3b87f70"
      },
      "outputs": [
        {
          "output_type": "stream",
          "name": "stdout",
          "text": [
            "              precision    recall  f1-score   support\n",
            "\n",
            "           0       1.00      1.00      1.00        42\n",
            "           1       0.95      0.98      0.96        41\n",
            "           2       1.00      0.95      0.98        43\n",
            "           3       1.00      1.00      1.00        37\n",
            "           4       1.00      1.00      1.00        43\n",
            "           5       0.98      1.00      0.99        46\n",
            "           6       0.96      0.96      0.96        53\n",
            "           7       0.78      0.78      0.78        32\n",
            "           8       0.94      0.76      0.84        45\n",
            "           9       0.94      1.00      0.97        34\n",
            "          10       0.96      0.96      0.96        45\n",
            "          11       0.76      0.91      0.83        35\n",
            "          12       0.94      1.00      0.97        45\n",
            "          13       0.77      0.63      0.70        38\n",
            "          14       0.84      0.90      0.87        41\n",
            "          15       0.98      1.00      0.99        44\n",
            "          16       0.97      1.00      0.99        38\n",
            "          17       0.93      0.90      0.91        41\n",
            "\n",
            "    accuracy                           0.93       743\n",
            "   macro avg       0.93      0.93      0.93       743\n",
            "weighted avg       0.93      0.93      0.93       743\n",
            "\n",
            "0.933248538674276\n",
            "0.9327052489905787\n",
            "0.9314173436967679\n"
          ]
        }
      ],
      "source": [
        "#from sklearn.metrics import classification_report,precision_score,recall_score,f1_score,cohen_kappa_score\n",
        "#from sklearn import metrics\n",
        "labels=['0','1','2','3','4']\n",
        "print(classification_report(y_test, y_pred))\n",
        "print(precision_score(y_test, y_pred,average='weighted'))\n",
        "print(recall_score(y_test, y_pred,average='weighted'))\n",
        "print(f1_score(y_test, y_pred,average='weighted'))\n",
        "#print(\"Kappa score:\" + cohen_kappa_score(y_test, y_pred,average='weighted'))"
      ]
    },
    {
      "cell_type": "code",
      "execution_count": null,
      "metadata": {
        "colab": {
          "base_uri": "https://localhost:8080/"
        },
        "id": "aYcXD6zpn6aG",
        "outputId": "5bc85516-8dfd-455a-c295-9370e9f18704"
      },
      "outputs": [
        {
          "output_type": "execute_result",
          "data": {
            "text/plain": [
              "0.994528754948592"
            ]
          },
          "metadata": {},
          "execution_count": 84
        }
      ],
      "source": [
        "#from sklearn.metrics import roc_auc_score\n",
        "y_prob = classifier.predict_proba(X_test)\n",
        "weighted_roc_auc_ovo = roc_auc_score(\n",
        "    y_test, y_prob, multi_class=\"ovr\", average=\"weighted\"\n",
        ")\n",
        "weighted_roc_auc_ovo"
      ]
    },
    {
      "cell_type": "code",
      "source": [
        "acc.append(accuracy_score(y_test, y_pred))\n",
        "prec.append(precision_score(y_test, y_pred,average='weighted'))\n",
        "rec.append(recall_score(y_test, y_pred,average='weighted'))\n",
        "f1.append(f1_score(y_test, y_pred,average='weighted'))\n",
        "kap.append(cohen_kappa_score(y_test, y_pred))\n",
        "roc.append(weighted_roc_auc_ovo)"
      ],
      "metadata": {
        "id": "MCsj_tDzy0mw"
      },
      "execution_count": null,
      "outputs": []
    },
    {
      "cell_type": "code",
      "source": [
        "import pickle \n",
        "file = open('scaler_lang.pkl', 'wb')\n",
        "\n",
        "# dump information to that file\n",
        "pickle.dump(scaler, file)"
      ],
      "metadata": {
        "id": "nMLBey-IYOmU"
      },
      "execution_count": null,
      "outputs": []
    },
    {
      "cell_type": "code",
      "source": [
        "import pickle \n",
        "file = open('rf_lang.pkl', 'wb')\n",
        "\n",
        "# dump information to that file\n",
        "pickle.dump(classifier, file)"
      ],
      "metadata": {
        "id": "Jjke1NJBXvGF"
      },
      "execution_count": null,
      "outputs": []
    },
    {
      "cell_type": "markdown",
      "metadata": {
        "id": "iePX4AwtCxDL"
      },
      "source": [
        "# Adaboost"
      ]
    },
    {
      "cell_type": "code",
      "execution_count": null,
      "metadata": {
        "id": "LIWWzfWWCwLl"
      },
      "outputs": [],
      "source": [
        "from sklearn.datasets import make_gaussian_quantiles\n",
        "from sklearn.ensemble import AdaBoostClassifier\n",
        "from sklearn.metrics import accuracy_score\n",
        "from sklearn.tree import DecisionTreeClassifier"
      ]
    },
    {
      "cell_type": "code",
      "execution_count": null,
      "metadata": {
        "id": "QK19kOmMCvBU"
      },
      "outputs": [],
      "source": [
        "bdt_real = AdaBoostClassifier(\n",
        "    DecisionTreeClassifier(max_depth=2), n_estimators=300, learning_rate=1\n",
        ")\n",
        "\n",
        "bdt_discrete = AdaBoostClassifier(\n",
        "    DecisionTreeClassifier(max_depth=2),\n",
        "    n_estimators=300,\n",
        "    learning_rate=1.5,\n",
        "    algorithm=\"SAMME\",\n",
        ")"
      ]
    },
    {
      "cell_type": "code",
      "execution_count": null,
      "metadata": {
        "colab": {
          "base_uri": "https://localhost:8080/"
        },
        "id": "8xnMwWMJC6GC",
        "outputId": "0297104c-1af7-46f9-afce-d5d65a7e6a50"
      },
      "outputs": [
        {
          "output_type": "execute_result",
          "data": {
            "text/plain": [
              "AdaBoostClassifier(algorithm='SAMME',\n",
              "                   base_estimator=DecisionTreeClassifier(max_depth=2),\n",
              "                   learning_rate=1.5, n_estimators=300)"
            ]
          },
          "metadata": {},
          "execution_count": 89
        }
      ],
      "source": [
        "bdt_real.fit(X_train, y_train)\n",
        "bdt_discrete.fit(X_train, y_train)\n"
      ]
    },
    {
      "cell_type": "code",
      "execution_count": null,
      "metadata": {
        "id": "8zmcG2shC9Wh"
      },
      "outputs": [],
      "source": [
        "y_pred = bdt_real.predict(X_test) \n",
        "y_pred1 = bdt_discrete.predict(X_test) "
      ]
    },
    {
      "cell_type": "code",
      "execution_count": null,
      "metadata": {
        "colab": {
          "base_uri": "https://localhost:8080/"
        },
        "id": "Ud3M_tIbDDqb",
        "outputId": "8102021d-9556-4bb4-c7dc-e548f79bb025"
      },
      "outputs": [
        {
          "output_type": "stream",
          "name": "stdout",
          "text": [
            "              precision    recall  f1-score   support\n",
            "\n",
            "           0       1.00      0.88      0.94        42\n",
            "           1       0.79      0.83      0.81        41\n",
            "           2       0.70      0.91      0.79        43\n",
            "           3       1.00      0.89      0.94        37\n",
            "           4       1.00      0.95      0.98        43\n",
            "           5       0.98      0.89      0.93        46\n",
            "           6       1.00      0.70      0.82        53\n",
            "           7       0.47      0.66      0.55        32\n",
            "           8       0.33      0.58      0.42        45\n",
            "           9       0.88      0.65      0.75        34\n",
            "          10       0.97      0.62      0.76        45\n",
            "          11       0.43      0.37      0.40        35\n",
            "          12       0.96      0.96      0.96        45\n",
            "          13       0.38      0.66      0.48        38\n",
            "          14       0.62      0.61      0.62        41\n",
            "          15       0.89      0.77      0.83        44\n",
            "          16       1.00      0.47      0.64        38\n",
            "          17       0.78      0.76      0.77        41\n",
            "\n",
            "    accuracy                           0.74       743\n",
            "   macro avg       0.79      0.73      0.74       743\n",
            "weighted avg       0.80      0.74      0.75       743\n",
            "\n",
            "0.7375504710632571\n",
            "0.7979817381372722\n",
            "0.7375504710632571\n",
            "0.7516557768249202\n"
          ]
        }
      ],
      "source": [
        "print(classification_report(y_test, y_pred1))\n",
        "print(accuracy_score(y_test, y_pred1))\n",
        "print(precision_score(y_test, y_pred1,average='weighted'))\n",
        "print(recall_score(y_test, y_pred1,average='weighted'))\n",
        "print(f1_score(y_test, y_pred1,average='weighted'))\n",
        "#print(cohen_kappa_score(y_test, y_pred1))"
      ]
    },
    {
      "cell_type": "code",
      "execution_count": null,
      "metadata": {
        "colab": {
          "base_uri": "https://localhost:8080/"
        },
        "id": "OJwiHz6FDKd7",
        "outputId": "3cf234ab-112c-4815-aac8-8f74d8908d04"
      },
      "outputs": [
        {
          "output_type": "execute_result",
          "data": {
            "text/plain": [
              "0.9511729399087798"
            ]
          },
          "metadata": {},
          "execution_count": 92
        }
      ],
      "source": [
        "from sklearn.metrics import roc_auc_score\n",
        "y_prob = bdt_real.predict_proba(X_test)\n",
        "weighted_roc_auc_ovo = roc_auc_score(\n",
        "    y_test, y_prob, multi_class=\"ovr\", average=\"weighted\"\n",
        ")\n",
        "weighted_roc_auc_ovo"
      ]
    },
    {
      "cell_type": "code",
      "execution_count": null,
      "metadata": {
        "id": "XxjvKq0-DNll"
      },
      "outputs": [],
      "source": [
        "acc.append(accuracy_score(y_test, y_pred))\n",
        "prec.append(precision_score(y_test, y_pred,average='weighted'))\n",
        "rec.append(recall_score(y_test, y_pred,average='weighted'))\n",
        "f1.append(f1_score(y_test, y_pred,average='weighted'))\n",
        "kap.append(cohen_kappa_score(y_test, y_pred))\n",
        "roc.append(weighted_roc_auc_ovo)"
      ]
    },
    {
      "cell_type": "code",
      "source": [
        "import pickle \n",
        "file = open('adboost_lang.pkl', 'wb')\n",
        "\n",
        "# dump information to that file\n",
        "pickle.dump(bdt_real, file)"
      ],
      "metadata": {
        "id": "udSISUsBYZfs"
      },
      "execution_count": null,
      "outputs": []
    },
    {
      "cell_type": "markdown",
      "metadata": {
        "id": "7rFL6UapDXOM"
      },
      "source": [
        "# XGBoost"
      ]
    },
    {
      "cell_type": "code",
      "execution_count": null,
      "metadata": {
        "id": "A52XhvLTDV8w"
      },
      "outputs": [],
      "source": [
        "import xgboost as xgb\n",
        "\n",
        "from sklearn import datasets\n",
        "\n",
        "from sklearn.model_selection import train_test_split\n",
        "\n",
        "from sklearn.preprocessing import LabelEncoder \n",
        "\n",
        "from xgboost import XGBClassifier\n",
        "\n",
        "from sklearn.metrics import accuracy_score\n"
      ]
    },
    {
      "cell_type": "code",
      "execution_count": null,
      "metadata": {
        "id": "vVQR53MX_wRX"
      },
      "outputs": [],
      "source": [
        "from sklearn.model_selection import RandomizedSearchCV\n",
        "from sklearn.metrics import roc_auc_score\n",
        "from sklearn.model_selection import StratifiedKFold\n",
        "params = {\n",
        "        'min_child_weight': [1, 5, 10],\n",
        "        'gamma': [0.5, 1, 1.5, 2, 5],\n",
        "        'subsample': [0.6, 0.8, 1.0],\n",
        "        'colsample_bytree': [0.6, 0.8, 1.0],\n",
        "        'max_depth': [3, 4, 5],\n",
        "        'n_estimators': range(60, 220, 40),\n",
        "        'learning_rate': [0.1, 0.01, 0.05]\n",
        "        }\n",
        "model = XGBClassifier() \n",
        "grid_search = GridSearchCV(\n",
        "    estimator=model,\n",
        "    param_grid=params,\n",
        "    scoring = 'accuracy',\n",
        "    n_jobs = 10,\n",
        "    cv = 3,\n",
        "    verbose=True\n",
        ")\n",
        "\n",
        "grid_search.fit(X_train, y_train)\n",
        "print(grid_search.best_params_)\n",
        "print(grid_search.best_score_)\n"
      ]
    },
    {
      "cell_type": "code",
      "execution_count": null,
      "metadata": {
        "id": "N1itxyH7AKf8"
      },
      "outputs": [],
      "source": [
        "'''\n",
        "print('\\n All results:')\n",
        "print(random_search.cv_results_)\n",
        "print('\\n Best estimator:')\n",
        "print(random_search.best_estimator_)\n",
        "print('\\n Best normalized gini score for %d-fold search with %d parameter combinations:' % (folds, param_comb))\n",
        "print(random_search.best_score_ * 2 - 1)\n",
        "print('\\n Best hyperparameters:')\n",
        "print(random_search.best_params_)\n",
        "results = pd.DataFrame(random_search.cv_results_)\n",
        "'''"
      ]
    },
    {
      "cell_type": "code",
      "execution_count": null,
      "metadata": {
        "id": "fEPXDeAy_uYi",
        "colab": {
          "base_uri": "https://localhost:8080/"
        },
        "outputId": "cdd76273-4fe6-40c0-8bfd-61983bcf3d57"
      },
      "outputs": [
        {
          "output_type": "execute_result",
          "data": {
            "text/plain": [
              "XGBClassifier(objective='multi:softprob')"
            ]
          },
          "metadata": {},
          "execution_count": 34
        }
      ],
      "source": [
        "model = XGBClassifier() \n",
        "model.fit(X_train, y_train)"
      ]
    },
    {
      "cell_type": "code",
      "execution_count": null,
      "metadata": {
        "id": "JSO9qqjkDg4_"
      },
      "outputs": [],
      "source": [
        "y_pred = model.predict(X_test) \n",
        "predictions = [round(value) for value in y_pred]"
      ]
    },
    {
      "cell_type": "code",
      "execution_count": null,
      "metadata": {
        "id": "PsmZCJ_QDjYu",
        "colab": {
          "base_uri": "https://localhost:8080/"
        },
        "outputId": "9423f229-792a-4c02-9ce7-0b6055e48b72"
      },
      "outputs": [
        {
          "output_type": "stream",
          "name": "stdout",
          "text": [
            "Accuracy: 95.02%\n"
          ]
        }
      ],
      "source": [
        "accuracy = accuracy_score(y_test, predictions) \n",
        "\n",
        "print(\"Accuracy: %.2f%%\" % (accuracy * 100.0))"
      ]
    },
    {
      "cell_type": "code",
      "execution_count": null,
      "metadata": {
        "id": "6f6Ey1a7DnzZ",
        "colab": {
          "base_uri": "https://localhost:8080/"
        },
        "outputId": "02da163f-ab30-4970-e2cf-a32f52671e9f"
      },
      "outputs": [
        {
          "output_type": "stream",
          "name": "stdout",
          "text": [
            "              precision    recall  f1-score   support\n",
            "\n",
            "           0       0.95      1.00      0.98        42\n",
            "           1       1.00      0.95      0.97        41\n",
            "           2       1.00      1.00      1.00        43\n",
            "           3       1.00      1.00      1.00        37\n",
            "           4       1.00      1.00      1.00        43\n",
            "           5       1.00      1.00      1.00        46\n",
            "           6       0.96      1.00      0.98        53\n",
            "           7       0.90      0.84      0.87        32\n",
            "           8       0.97      0.76      0.85        45\n",
            "           9       0.97      1.00      0.99        34\n",
            "          10       0.98      0.98      0.98        45\n",
            "          11       0.77      0.97      0.86        35\n",
            "          12       0.90      1.00      0.95        45\n",
            "          13       1.00      0.71      0.83        38\n",
            "          14       0.86      0.93      0.89        41\n",
            "          15       1.00      1.00      1.00        44\n",
            "          16       0.90      1.00      0.95        38\n",
            "          17       0.95      0.93      0.94        41\n",
            "\n",
            "    accuracy                           0.95       743\n",
            "   macro avg       0.95      0.95      0.95       743\n",
            "weighted avg       0.95      0.95      0.95       743\n",
            "\n",
            "0.9542287905006613\n",
            "0.9502018842530283\n",
            "0.9491256255426382\n",
            "0.9472303162226804\n"
          ]
        }
      ],
      "source": [
        "from sklearn.metrics import classification_report,precision_score,recall_score,f1_score,cohen_kappa_score\n",
        "from sklearn import metrics\n",
        "#labels=['0','1','2','3','4']\n",
        "print(classification_report(y_test, y_pred))\n",
        "print(precision_score(y_test, predictions,average='weighted'))\n",
        "print(recall_score(y_test, predictions,average='weighted'))\n",
        "print(f1_score(y_test, predictions,average='weighted'))\n",
        "print(cohen_kappa_score(y_test, predictions))"
      ]
    },
    {
      "cell_type": "code",
      "source": [
        "# Get and reshape confusion matrix data\n",
        "import matplotlib.pyplot as plt\n",
        "import seaborn as sns\n",
        "matrix = confusion_matrix(y_test, y_pred)\n",
        "matrix = matrix.astype('float') / matrix.sum(axis=1)[:, np.newaxis]\n",
        "\n",
        "# Build the plot\n",
        "plt.figure(figsize=(16,7))\n",
        "sns.set(font_scale=1.4)\n",
        "sns.heatmap(matrix, annot=True, annot_kws={'size':10},\n",
        "            cmap=plt.cm.Greens, linewidths=0.2)\n",
        "\n",
        "# Add labels to the plot\n",
        "class_names = labels\n",
        "tick_marks = np.arange(len(class_names))\n",
        "tick_marks2 = tick_marks + 0.5\n",
        "plt.xticks(tick_marks, class_names, rotation=25)\n",
        "plt.yticks(tick_marks2, class_names, rotation=0)\n",
        "plt.xlabel('Predicted label')\n",
        "plt.ylabel('True label')\n",
        "plt.title('Confusion Matrix for XGBoost Model')\n",
        "plt.show()"
      ],
      "metadata": {
        "colab": {
          "base_uri": "https://localhost:8080/",
          "height": 533
        },
        "id": "syNjr4tlyxli",
        "outputId": "2e4e244d-49e8-44c9-fd8b-c2d47c57901d"
      },
      "execution_count": null,
      "outputs": [
        {
          "output_type": "display_data",
          "data": {
            "text/plain": [
              "<Figure size 1152x504 with 2 Axes>"
            ],
            "image/png": "[encoded data removed]"
          },
          "metadata": {}
        }
      ]
    },
    {
      "cell_type": "code",
      "execution_count": null,
      "metadata": {
        "id": "wUynwqKjDv3Z",
        "colab": {
          "base_uri": "https://localhost:8080/"
        },
        "outputId": "0775f5be-b9c9-4ac2-cdda-f1922af51501"
      },
      "outputs": [
        {
          "output_type": "execute_result",
          "data": {
            "text/plain": [
              "0.99807053045206"
            ]
          },
          "metadata": {},
          "execution_count": 38
        }
      ],
      "source": [
        "from sklearn.metrics import roc_auc_score\n",
        "y_prob = model.predict_proba(X_test)\n",
        "weighted_roc_auc_ovo = roc_auc_score(\n",
        "    y_test, y_prob, multi_class=\"ovr\", average=\"weighted\"\n",
        ")\n",
        "weighted_roc_auc_ovo"
      ]
    },
    {
      "cell_type": "code",
      "source": [
        "acc.append(accuracy_score(y_test, y_pred))\n",
        "prec.append(precision_score(y_test, y_pred,average='weighted'))\n",
        "rec.append(recall_score(y_test, y_pred,average='weighted'))\n",
        "f1.append(f1_score(y_test, y_pred,average='weighted'))\n",
        "kap.append(cohen_kappa_score(y_test, y_pred))\n",
        "roc.append(weighted_roc_auc_ovo)"
      ],
      "metadata": {
        "id": "C41yRGZaz1eO"
      },
      "execution_count": null,
      "outputs": []
    },
    {
      "cell_type": "code",
      "source": [
        "roc"
      ],
      "metadata": {
        "colab": {
          "base_uri": "https://localhost:8080/"
        },
        "id": "ccHaLSzNtJQv",
        "outputId": "48cb1ab1-9832-41f7-ef3e-b57d4eecfac3"
      },
      "execution_count": null,
      "outputs": [
        {
          "output_type": "execute_result",
          "data": {
            "text/plain": [
              "[0.994528754948592, 0.9511729399087798, 0.9981503457898613]"
            ]
          },
          "metadata": {},
          "execution_count": 102
        }
      ]
    },
    {
      "cell_type": "code",
      "source": [
        "import pickle \n",
        "file = open('xgboost_lang.pkl', 'wb')\n",
        "\n",
        "# dump information to that file\n",
        "pickle.dump(model, file)"
      ],
      "metadata": {
        "id": "Lx1Ab5rwYldO"
      },
      "execution_count": null,
      "outputs": []
    },
    {
      "cell_type": "markdown",
      "metadata": {
        "id": "uC2Tr2hXD4JW"
      },
      "source": [
        "# KNN"
      ]
    },
    {
      "cell_type": "code",
      "execution_count": null,
      "metadata": {
        "id": "o7IWJHiqD0tj"
      },
      "outputs": [],
      "source": [
        "from sklearn.neighbors import KNeighborsClassifier"
      ]
    },
    {
      "cell_type": "code",
      "execution_count": null,
      "metadata": {
        "id": "OlF1EZtLEDGF"
      },
      "outputs": [],
      "source": [
        "knn_clf=KNeighborsClassifier()\n",
        "knn_clf.fit(X_train,y_train)\n",
        "y_pred=knn_clf.predict(X_test)"
      ]
    },
    {
      "cell_type": "code",
      "execution_count": null,
      "metadata": {
        "id": "Dpdf4pvtEE3l",
        "colab": {
          "base_uri": "https://localhost:8080/"
        },
        "outputId": "efd6659c-1578-436f-9429-bccac8c2948d"
      },
      "outputs": [
        {
          "output_type": "stream",
          "name": "stdout",
          "text": [
            "Classification Report:\n",
            "              precision    recall  f1-score   support\n",
            "\n",
            "           0       1.00      1.00      1.00        42\n",
            "           1       0.97      0.85      0.91        41\n",
            "           2       0.95      0.95      0.95        43\n",
            "           3       0.97      1.00      0.99        37\n",
            "           4       0.93      1.00      0.97        43\n",
            "           5       0.96      0.98      0.97        46\n",
            "           6       0.93      1.00      0.96        53\n",
            "           7       0.91      0.66      0.76        32\n",
            "           8       0.83      0.64      0.73        45\n",
            "           9       0.87      1.00      0.93        34\n",
            "          10       0.92      1.00      0.96        45\n",
            "          11       0.71      0.83      0.76        35\n",
            "          12       0.83      1.00      0.91        45\n",
            "          13       0.89      0.42      0.57        38\n",
            "          14       0.71      0.73      0.72        41\n",
            "          15       0.88      1.00      0.94        44\n",
            "          16       0.93      1.00      0.96        38\n",
            "          17       0.81      0.83      0.82        41\n",
            "\n",
            "    accuracy                           0.89       743\n",
            "   macro avg       0.89      0.88      0.88       743\n",
            "weighted avg       0.89      0.89      0.88       743\n",
            "\n",
            "Accuracy: 0.8896366083445492\n",
            "0.8914220375151705\n",
            "0.8896366083445492\n",
            "0.882971446738926\n",
            "0.8830145929339478\n"
          ]
        }
      ],
      "source": [
        "#from sklearn.metrics import accuracy_score,confusion_matrix\n",
        "#from sklearn.metrics import classification_report\n",
        "result1 = classification_report(y_test, y_pred)\n",
        "print(\"Classification Report:\",)\n",
        "print (result1)\n",
        "result2 = accuracy_score(y_test,y_pred)\n",
        "print(\"Accuracy:\",result2)\n",
        "print(precision_score(y_test, y_pred,average='weighted'))\n",
        "print(recall_score(y_test, y_pred,average='weighted'))\n",
        "print(f1_score(y_test, y_pred,average='weighted'))\n",
        "print(cohen_kappa_score(y_test, y_pred))"
      ]
    },
    {
      "cell_type": "code",
      "execution_count": null,
      "metadata": {
        "id": "QG6dYHolEJkG",
        "colab": {
          "base_uri": "https://localhost:8080/"
        },
        "outputId": "4f9be0d2-a4a2-4c1e-9b28-e9dd2c80e9ec"
      },
      "outputs": [
        {
          "output_type": "execute_result",
          "data": {
            "text/plain": [
              "0.9860614950166346"
            ]
          },
          "metadata": {},
          "execution_count": 110
        }
      ],
      "source": [
        "from sklearn.metrics import roc_auc_score\n",
        "y_prob = knn_clf.predict_proba(X_test)\n",
        "weighted_roc_auc_ovo = roc_auc_score(\n",
        "    y_test, y_prob, multi_class=\"ovr\", average=\"weighted\"\n",
        ")\n",
        "weighted_roc_auc_ovo"
      ]
    },
    {
      "cell_type": "code",
      "source": [
        "acc.append(accuracy_score(y_test, y_pred))\n",
        "prec.append(precision_score(y_test, y_pred,average='weighted'))\n",
        "rec.append(recall_score(y_test, y_pred,average='weighted'))\n",
        "f1.append(f1_score(y_test, y_pred,average='weighted'))\n",
        "kap.append(cohen_kappa_score(y_test, y_pred))\n",
        "roc.append(weighted_roc_auc_ovo)"
      ],
      "metadata": {
        "id": "gT76Zr66z3WP"
      },
      "execution_count": null,
      "outputs": []
    },
    {
      "cell_type": "code",
      "source": [
        "import pickle \n",
        "file = open('knn_lang.pkl', 'wb')\n",
        "\n",
        "# dump information to that file\n",
        "pickle.dump(knn_clf, file)"
      ],
      "metadata": {
        "id": "kE0rDqFgYq1g"
      },
      "execution_count": null,
      "outputs": []
    },
    {
      "cell_type": "markdown",
      "metadata": {
        "id": "hO-dMzxiEQKI"
      },
      "source": [
        "# Logistic Regression"
      ]
    },
    {
      "cell_type": "code",
      "execution_count": null,
      "metadata": {
        "id": "hRSouFtlEOFg",
        "colab": {
          "base_uri": "https://localhost:8080/"
        },
        "outputId": "298eeb60-c5fd-4008-d71f-7498f06c5b27"
      },
      "outputs": [
        {
          "output_type": "execute_result",
          "data": {
            "text/plain": [
              "LogisticRegression(max_iter=1500, multi_class='multinomial', random_state=0)"
            ]
          },
          "metadata": {},
          "execution_count": 122
        }
      ],
      "source": [
        "from sklearn.linear_model import LogisticRegression\n",
        "clf = LogisticRegression(random_state=0,multi_class=\"multinomial\", max_iter=1500)\n",
        "clf.fit(X_train,y_train)"
      ]
    },
    {
      "cell_type": "code",
      "execution_count": null,
      "metadata": {
        "id": "LCo1pp5jGAMb",
        "colab": {
          "base_uri": "https://localhost:8080/"
        },
        "outputId": "3d0e9ea7-d465-4b4a-a077-3231a8a73fff"
      },
      "outputs": [
        {
          "output_type": "execute_result",
          "data": {
            "text/plain": [
              "array([ 6,  5, 13,  5, 14,  4,  2, 11, 10,  4, 11,  7, 17,  5,  0,  4, 13,\n",
              "       12,  4,  9,  6, 14,  9,  5,  0, 12, 17,  1, 15,  8,  4,  5,  5, 15,\n",
              "       14, 11,  3, 17, 11,  5,  4, 15,  5,  5,  1, 15, 15,  4, 12, 13,  9,\n",
              "        2,  3, 17,  5, 15,  8, 14, 12,  7, 17,  5,  8, 11,  2,  6,  2,  0,\n",
              "        0, 17, 16, 16,  7,  0,  5,  2, 14, 12,  8,  7,  5, 11, 10,  9,  6,\n",
              "        2,  3,  0, 17,  4,  8,  3,  3, 12,  1, 16,  6,  8,  5, 11, 13,  6,\n",
              "        4,  2, 15, 15,  3,  2, 10,  0,  0,  7,  2,  4, 16,  6, 12,  6,  1,\n",
              "       13, 12, 14,  2, 16, 16,  3,  0,  5,  7,  2,  0, 15,  7,  6,  2, 15,\n",
              "       14,  4,  9, 14, 11,  4, 13, 12, 14, 15,  8, 12,  4,  2,  5,  5,  9,\n",
              "        5,  3, 16,  8,  9, 13, 15,  4, 15, 15, 12,  0, 14,  6,  0,  6, 12,\n",
              "        4,  2,  2,  1, 10,  8, 14,  6,  4, 11,  1, 10, 14,  4, 10, 12, 11,\n",
              "        6,  2, 10, 15, 15,  1,  9,  1, 12,  4, 17, 12,  1, 17, 11, 16,  4,\n",
              "        8,  7, 10,  6, 10, 17,  4,  0,  8, 11,  6,  8, 17,  8,  7,  8, 11,\n",
              "        5,  5,  5,  8, 11, 16,  0,  3, 15,  2, 17,  0, 16,  3, 12,  7,  8,\n",
              "        0, 15,  0,  9,  0, 13,  3,  5, 17,  2, 14, 17, 13,  1,  5,  9,  5,\n",
              "        6, 16, 10,  6, 12,  0, 17, 12,  9,  4, 10,  9,  4,  3, 10,  4, 14,\n",
              "        0, 13, 16,  8,  9,  8,  1, 10,  4,  9, 12, 17, 13,  0, 12, 15,  5,\n",
              "       10,  2,  2, 11,  1,  4, 17,  7,  6,  1, 17, 16,  2, 11,  7, 16,  4,\n",
              "       12,  7,  8, 15,  5, 15, 14, 17, 14, 16, 15,  0,  9, 15,  1,  6, 12,\n",
              "        5,  6,  0,  1, 17,  7,  9, 15, 11,  4,  3,  5, 12,  3, 17,  5,  8,\n",
              "       11, 16,  9,  9,  1,  4,  9, 17,  0, 10, 16, 16,  0,  2, 12,  5, 10,\n",
              "        2, 16, 13,  1,  1,  2,  2, 17,  6, 15,  7,  6, 14,  9, 11,  8, 11,\n",
              "       17, 12,  8, 15,  2, 11,  5, 15, 10, 15, 10, 15, 13,  1,  1,  2, 12,\n",
              "        6,  2, 17, 14,  4,  6, 11, 12,  8, 13,  1, 11, 10,  0, 14, 10,  6,\n",
              "        2,  9, 11, 15, 15,  6,  7, 10, 14,  7, 14,  2,  6, 16,  3,  0, 17,\n",
              "       10,  6, 14, 14, 11, 16,  4,  0, 10, 16,  7, 13,  1,  3,  6, 11,  5,\n",
              "       14,  0,  6,  5,  6, 16, 16, 11,  9,  1,  1,  3, 13,  8, 14, 16, 12,\n",
              "        2,  9,  1, 15, 12,  6, 14,  4, 14, 16,  0, 14,  3, 16,  9,  6,  3,\n",
              "       16,  4,  1,  6, 16,  3,  4, 17, 16,  1, 14,  2,  2, 10,  5, 11,  4,\n",
              "       17,  1,  3,  5, 17, 10, 14,  7,  5, 17, 15,  6,  5,  8,  6, 11,  3,\n",
              "        4, 11, 12,  5,  3,  7,  9, 17,  9, 16,  3,  1, 16, 12,  4, 14, 15,\n",
              "        3, 17,  5,  0,  3,  6, 16,  8, 14,  5,  0, 17, 11,  2,  8, 10, 11,\n",
              "        7,  8,  9, 11,  4,  1,  6, 12, 10, 13,  3, 12, 11, 14, 11, 11, 12,\n",
              "        8,  6,  6, 17,  4, 14,  8, 14,  7, 12, 10,  9, 16, 10,  3, 12,  5,\n",
              "       10, 17, 10,  6, 16,  1,  7, 17, 16,  0,  8, 16,  0, 16, 11,  4,  6,\n",
              "        1, 14, 15,  2,  6,  5,  4, 10, 12,  2,  6, 14,  0,  4, 13, 17, 10,\n",
              "       17, 12, 12,  0, 12, 12,  9, 12,  3, 10, 11,  5,  6, 11, 15,  8, 10,\n",
              "       14, 16,  6,  2,  6,  3, 13,  8,  8, 12,  3,  2, 16, 10, 10,  9,  3,\n",
              "       15,  0,  2, 17, 10, 12,  1,  6, 14,  6,  6,  6,  0, 10,  4,  5,  1,\n",
              "       10, 11, 13,  8,  7,  6, 15, 15, 15,  3,  7,  7,  9, 10,  0, 17,  7,\n",
              "       17,  9, 14, 13,  2, 15, 10, 14, 12,  1, 14, 16,  0,  3, 10, 17,  7,\n",
              "        7, 11,  3, 17,  4, 16, 11,  1, 16,  6,  4,  9,  4, 11,  3,  1,  9,\n",
              "       16,  2, 14, 14,  0, 12,  5, 12, 15,  0,  5,  9,  5,  1,  3,  2,  6,\n",
              "        6, 15, 13, 10,  4,  8, 15,  9, 12, 15,  6, 15])"
            ]
          },
          "metadata": {},
          "execution_count": 123
        }
      ],
      "source": [
        "y_pred = clf.predict(X_test)\n",
        "y_pred "
      ]
    },
    {
      "cell_type": "code",
      "execution_count": null,
      "metadata": {
        "id": "QnKT7HQOGCnJ",
        "colab": {
          "base_uri": "https://localhost:8080/"
        },
        "outputId": "78e3835f-8c91-48ef-f8f2-db39e6517ab9"
      },
      "outputs": [
        {
          "output_type": "stream",
          "name": "stdout",
          "text": [
            "Classification Report:\n",
            "              precision    recall  f1-score   support\n",
            "\n",
            "           0       1.00      1.00      1.00        42\n",
            "           1       1.00      0.93      0.96        41\n",
            "           2       0.98      0.95      0.96        43\n",
            "           3       1.00      1.00      1.00        37\n",
            "           4       0.93      1.00      0.97        43\n",
            "           5       0.96      0.98      0.97        46\n",
            "           6       0.95      1.00      0.97        53\n",
            "           7       0.86      0.78      0.82        32\n",
            "           8       0.86      0.69      0.77        45\n",
            "           9       0.86      0.91      0.89        34\n",
            "          10       0.93      0.91      0.92        45\n",
            "          11       0.77      0.94      0.85        35\n",
            "          12       0.94      1.00      0.97        45\n",
            "          13       0.86      0.50      0.63        38\n",
            "          14       0.82      0.88      0.85        41\n",
            "          15       0.96      1.00      0.98        44\n",
            "          16       0.86      1.00      0.93        38\n",
            "          17       0.84      0.88      0.86        41\n",
            "\n",
            "    accuracy                           0.91       743\n",
            "   macro avg       0.91      0.91      0.90       743\n",
            "weighted avg       0.91      0.91      0.91       743\n",
            "\n",
            "Accuracy: 0.9125168236877523\n",
            "0.913274877790902\n",
            "0.9125168236877523\n",
            "0.9086496909367808\n",
            "0.9072904508876467\n"
          ]
        }
      ],
      "source": [
        "#from sklearn.metrics import accuracy_score,confusion_matrix\n",
        "#from sklearn.metrics import classification_report\n",
        "result1 = classification_report(y_test, y_pred)\n",
        "print(\"Classification Report:\",)\n",
        "print (result1)\n",
        "result2 = accuracy_score(y_test,y_pred)\n",
        "print(\"Accuracy:\",result2)\n",
        "print(precision_score(y_test, y_pred,average='weighted'))\n",
        "print(recall_score(y_test, y_pred,average='weighted'))\n",
        "print(f1_score(y_test, y_pred,average='weighted'))\n",
        "print(cohen_kappa_score(y_test, y_pred))"
      ]
    },
    {
      "cell_type": "code",
      "execution_count": null,
      "metadata": {
        "id": "RW2KSeG3GJOS",
        "colab": {
          "base_uri": "https://localhost:8080/"
        },
        "outputId": "d7a55886-27de-4087-eaa6-85fb4b2bd059"
      },
      "outputs": [
        {
          "output_type": "execute_result",
          "data": {
            "text/plain": [
              "0.9945238023480044"
            ]
          },
          "metadata": {},
          "execution_count": 125
        }
      ],
      "source": [
        "#from sklearn.metrics import roc_auc_score\n",
        "y_prob = clf.predict_proba(X_test)\n",
        "weighted_roc_auc_ovo = roc_auc_score(\n",
        "    y_test, y_prob, multi_class=\"ovr\", average=\"weighted\"\n",
        ")\n",
        "weighted_roc_auc_ovo"
      ]
    },
    {
      "cell_type": "code",
      "source": [
        "acc.append(accuracy_score(y_test, y_pred))\n",
        "prec.append(precision_score(y_test, y_pred,average='weighted'))\n",
        "rec.append(recall_score(y_test, y_pred,average='weighted'))\n",
        "f1.append(f1_score(y_test, y_pred,average='weighted'))\n",
        "kap.append(cohen_kappa_score(y_test, y_pred))\n",
        "roc.append(weighted_roc_auc_ovo)"
      ],
      "metadata": {
        "id": "dz4Ajgjg16jd"
      },
      "execution_count": null,
      "outputs": []
    },
    {
      "cell_type": "code",
      "source": [
        "import pickle \n",
        "file = open('log_reg_lang.pkl', 'wb')\n",
        "\n",
        "# dump information to that file\n",
        "pickle.dump(clf, file)"
      ],
      "metadata": {
        "id": "En33ds2uYzKs"
      },
      "execution_count": null,
      "outputs": []
    },
    {
      "cell_type": "markdown",
      "metadata": {
        "id": "77V8YW_kGQTO"
      },
      "source": [
        "# Naive Bayes"
      ]
    },
    {
      "cell_type": "code",
      "execution_count": null,
      "metadata": {
        "id": "dP72H-cEGMsr",
        "colab": {
          "base_uri": "https://localhost:8080/"
        },
        "outputId": "b97ef2b7-4b6d-40af-96fd-4dcf745e2a48"
      },
      "outputs": [
        {
          "output_type": "execute_result",
          "data": {
            "text/plain": [
              "Pipeline(steps=[('Normalizing', MinMaxScaler()),\n",
              "                ('MultinomialNB', MultinomialNB())])"
            ]
          },
          "metadata": {},
          "execution_count": 128
        }
      ],
      "source": [
        "from sklearn.preprocessing import MinMaxScaler\n",
        "from sklearn.naive_bayes import MultinomialNB\n",
        "from sklearn.pipeline import Pipeline\n",
        "p = Pipeline([('Normalizing',MinMaxScaler()),('MultinomialNB',MultinomialNB())])\n",
        "p.fit(X_train,y_train) "
      ]
    },
    {
      "cell_type": "code",
      "execution_count": null,
      "metadata": {
        "id": "-G6gMjODGhZt",
        "colab": {
          "base_uri": "https://localhost:8080/"
        },
        "outputId": "75b7f328-8c5a-4d67-e577-3525674bf2c7"
      },
      "outputs": [
        {
          "output_type": "execute_result",
          "data": {
            "text/plain": [
              "array([ 6,  5, 16,  5, 17,  4,  4, 11,  7,  4, 11,  7, 14,  5,  0,  4, 13,\n",
              "       12,  4,  9,  6, 13,  9,  5,  0, 16, 14,  2, 15,  7,  4,  3,  5, 15,\n",
              "       17, 11,  3, 17,  9,  5,  4, 15,  5,  5,  1, 15, 15,  4, 12, 16,  9,\n",
              "        1,  3, 12,  5, 16, 11, 17, 12,  7, 12,  5, 11, 11,  5,  6,  2,  2,\n",
              "        0, 17, 16, 16,  7,  0,  5,  1, 14, 12, 11,  9,  5,  9,  7,  9,  6,\n",
              "        5,  3,  0, 17,  4,  9,  3,  3, 12,  4, 16,  6, 11,  5, 11, 13,  7,\n",
              "        4,  4, 15, 15,  4,  4,  7,  0,  0, 10,  4,  4, 16,  6, 12,  7,  4,\n",
              "       13, 12, 15,  2, 16, 16,  3,  2,  5,  7,  0,  0, 16,  7,  6,  4, 15,\n",
              "       14,  4,  9, 15, 11,  4, 13, 12, 16, 14,  8, 12,  4,  1,  5,  5,  9,\n",
              "        5,  3, 16,  8, 11, 14, 16,  4, 16, 15, 17,  0, 14,  7,  0,  6, 12,\n",
              "        4,  1,  2,  1,  9,  9, 15,  6,  4, 11,  1,  9, 16,  4,  9, 12,  7,\n",
              "        7,  4, 11, 15, 15,  4,  9,  1, 12,  4, 17, 12,  5, 16,  7, 16,  4,\n",
              "        9,  7,  7,  6, 11, 16,  4,  0, 11,  7,  7,  9, 17,  7,  7,  9, 11,\n",
              "        5,  5,  5,  9, 11, 16,  0,  3, 16,  4, 13,  0, 14,  3, 12, 11,  7,\n",
              "        0, 16,  0,  9,  0, 13,  3,  5, 17,  4, 17, 17, 14,  4,  5,  9,  5,\n",
              "        7, 16,  7,  6, 17,  0, 13, 17,  9,  4,  9,  9,  4,  4,  9,  4, 14,\n",
              "        0, 13, 14, 11,  9,  9,  1,  7,  4,  9, 12, 17, 16,  0, 12, 15,  5,\n",
              "        7,  4,  2, 11,  1,  4, 12,  7,  6,  1, 16, 16,  4, 11,  7, 16,  4,\n",
              "       12,  7,  9, 15,  5, 15, 14, 14, 15, 16, 15,  0,  9, 15,  3,  7, 12,\n",
              "        5,  6,  0,  4, 16,  7,  9, 16, 11,  4,  4,  5, 17,  3, 15,  5, 11,\n",
              "        9, 16,  9, 11,  5,  4,  9, 17,  0,  9, 16, 16,  0,  4, 12,  4,  9,\n",
              "        3, 16, 13,  1,  1,  2,  2, 17,  6, 15,  7,  6, 15, 11, 11,  7, 11,\n",
              "       13, 12,  9, 16,  2,  7,  5, 15,  9, 15, 11, 16, 13,  1,  1,  2, 12,\n",
              "        6,  4, 15, 17,  4,  6,  7, 17,  9, 13,  5,  6,  9,  2, 16,  7,  6,\n",
              "        2,  9,  9, 15, 15,  6,  7,  9, 14,  7, 14,  5,  6, 13,  3,  0, 12,\n",
              "        7,  7, 13, 17,  9, 16,  4,  0, 11, 15,  9, 13,  1,  3,  6,  7,  5,\n",
              "       14,  0,  7,  5,  6, 16, 14,  7,  9,  1,  4,  3, 13,  9, 17, 16, 12,\n",
              "        5,  9,  1, 15, 12,  7, 14,  4, 16, 16,  0, 17,  3, 16,  9,  6,  3,\n",
              "       16,  4,  2,  7, 13,  3,  4, 17, 16,  1, 14,  4,  4,  7,  1,  9,  4,\n",
              "       17,  1,  4,  5, 17, 11, 16,  7,  5, 13, 16,  6,  5,  9,  7, 11,  3,\n",
              "        4, 11, 12,  5,  3,  7,  9, 15,  9, 16,  3,  1, 16, 17,  4, 14, 15,\n",
              "        2, 13,  5,  0,  4,  6, 16, 11, 13,  4,  0, 16,  9,  2,  9,  9,  7,\n",
              "        7,  9,  9, 11,  2,  1,  6, 12,  7, 13,  3, 12, 11, 15,  7, 11, 17,\n",
              "        9,  6,  6, 12,  4, 14,  9, 17, 10, 17,  7,  9, 16,  9,  3, 12,  5,\n",
              "        9, 17,  9,  6, 16,  4,  7, 14, 16,  0,  9, 16,  2, 16,  7,  4,  6,\n",
              "        4, 15, 15,  4,  6,  5,  4,  7, 12,  4,  7, 15,  0,  4, 16, 14,  7,\n",
              "       13, 12, 12,  0, 14, 13,  9, 12,  3,  9,  9,  5,  6,  9, 16,  6,  9,\n",
              "       17, 14,  6,  4,  7,  3, 16,  9,  9, 12,  3,  2, 14,  9,  9,  9,  3,\n",
              "       15,  0,  1, 14,  7, 12,  5,  7, 12,  6,  6,  6,  0,  9,  4,  5,  4,\n",
              "        9,  9, 13, 11,  9,  6, 15, 15, 15,  3,  7,  7,  9, 11,  0, 17,  7,\n",
              "       16,  9, 16, 14,  4, 16,  9, 16, 12,  1, 15, 14,  0,  3, 11, 17,  7,\n",
              "        7,  7,  3, 13,  4, 14, 11,  4, 16,  6,  4,  9,  4,  7,  3,  4,  9,\n",
              "       16,  4, 15, 15,  0, 13,  5, 14, 15,  0,  5,  9,  5,  1,  2,  0,  7,\n",
              "        7, 15, 13, 11,  4, 11, 16,  9, 17, 16,  6, 15])"
            ]
          },
          "metadata": {},
          "execution_count": 129
        }
      ],
      "source": [
        "y_pred = p.predict(X_test)\n",
        "y_pred "
      ]
    },
    {
      "cell_type": "code",
      "execution_count": null,
      "metadata": {
        "id": "q1-h-YiZHKcK",
        "colab": {
          "base_uri": "https://localhost:8080/"
        },
        "outputId": "e353e1db-ae8c-40cb-b67a-198ba70a21a7"
      },
      "outputs": [
        {
          "output_type": "stream",
          "name": "stdout",
          "text": [
            "Classification Report:\n",
            "              precision    recall  f1-score   support\n",
            "\n",
            "           0       0.95      0.90      0.93        42\n",
            "           1       0.77      0.49      0.60        41\n",
            "           2       0.50      0.23      0.32        43\n",
            "           3       0.91      0.81      0.86        37\n",
            "           4       0.51      0.98      0.67        43\n",
            "           5       0.80      0.89      0.85        46\n",
            "           6       0.88      0.68      0.77        53\n",
            "           7       0.35      0.78      0.49        32\n",
            "           8       1.00      0.04      0.09        45\n",
            "           9       0.34      0.85      0.48        34\n",
            "          10       0.00      0.00      0.00        45\n",
            "          11       0.33      0.40      0.36        35\n",
            "          12       0.82      0.73      0.78        45\n",
            "          13       0.46      0.34      0.39        38\n",
            "          14       0.29      0.22      0.25        41\n",
            "          15       0.67      0.70      0.69        44\n",
            "          16       0.42      0.74      0.53        38\n",
            "          17       0.43      0.37      0.39        41\n",
            "\n",
            "    accuracy                           0.56       743\n",
            "   macro avg       0.58      0.56      0.52       743\n",
            "weighted avg       0.59      0.56      0.53       743\n",
            "\n",
            "Accuracy: 0.5598923283983849\n",
            "0.5939311762714529\n",
            "0.5598923283983849\n",
            "0.5283917884444382\n",
            "0.5347277145718712\n"
          ]
        }
      ],
      "source": [
        "from sklearn.metrics import accuracy_score,confusion_matrix\n",
        "from sklearn.metrics import classification_report\n",
        "result1 = classification_report(y_test, y_pred)\n",
        "print(\"Classification Report:\",)\n",
        "print (result1)\n",
        "result2 = accuracy_score(y_test,y_pred)\n",
        "print(\"Accuracy:\",result2)\n",
        "print(precision_score(y_test, y_pred,average='weighted'))\n",
        "print(recall_score(y_test, y_pred,average='weighted'))\n",
        "print(f1_score(y_test, y_pred,average='weighted'))\n",
        "print(cohen_kappa_score(y_test, y_pred))"
      ]
    },
    {
      "cell_type": "code",
      "execution_count": null,
      "metadata": {
        "id": "nmy4E6xvHZFh",
        "colab": {
          "base_uri": "https://localhost:8080/"
        },
        "outputId": "d37c2838-9226-4c35-e94f-4ca331b10583"
      },
      "outputs": [
        {
          "output_type": "execute_result",
          "data": {
            "text/plain": [
              "0.9545263856123984"
            ]
          },
          "metadata": {},
          "execution_count": 131
        }
      ],
      "source": [
        "from sklearn.metrics import roc_auc_score\n",
        "y_prob = p.predict_proba(X_test)\n",
        "weighted_roc_auc_ovo = roc_auc_score(\n",
        "    y_test, y_prob, multi_class=\"ovr\", average=\"weighted\"\n",
        ")\n",
        "weighted_roc_auc_ovo"
      ]
    },
    {
      "cell_type": "code",
      "execution_count": null,
      "metadata": {
        "id": "uZG__50xHo4d"
      },
      "outputs": [],
      "source": [
        "acc.append(accuracy_score(y_test, y_pred))\n",
        "prec.append(precision_score(y_test, y_pred,average='weighted'))\n",
        "rec.append(recall_score(y_test, y_pred,average='weighted'))\n",
        "f1.append(f1_score(y_test, y_pred,average='weighted'))\n",
        "kap.append(cohen_kappa_score(y_test, y_pred))\n",
        "roc.append(weighted_roc_auc_ovo)"
      ]
    },
    {
      "cell_type": "code",
      "source": [
        "import pickle \n",
        "file = open('nb_lang.pkl', 'wb')\n",
        "\n",
        "# dump information to that file\n",
        "pickle.dump(p, file)"
      ],
      "metadata": {
        "id": "ZTjpseYWZmMF"
      },
      "execution_count": null,
      "outputs": []
    },
    {
      "cell_type": "markdown",
      "source": [
        "##Plotting the results"
      ],
      "metadata": {
        "id": "citYa42FZteb"
      }
    },
    {
      "cell_type": "code",
      "source": [
        "model_results['Accuracy'] = acc\n",
        "model_results['Precision'] = prec\n",
        "model_results['Recall'] = rec\n",
        "model_results['F1'] = f1\n",
        "model_results['Kappa'] = kap\n",
        "model_results['ROC_AUC'] = roc"
      ],
      "metadata": {
        "id": "XqPlQVvA3Eth"
      },
      "execution_count": null,
      "outputs": []
    },
    {
      "cell_type": "code",
      "source": [
        "model_results"
      ],
      "metadata": {
        "colab": {
          "base_uri": "https://localhost:8080/",
          "height": 237
        },
        "id": "lNgeqlq53F5t",
        "outputId": "b967061f-f1da-45b1-d13d-7114459fd225"
      },
      "execution_count": null,
      "outputs": [
        {
          "output_type": "execute_result",
          "data": {
            "text/plain": [
              "                models  Accuracy  Precision    Recall        F1     Kappa  \\\n",
              "0        Random Forest  0.932705   0.933249  0.932705  0.931417  0.928695   \n",
              "1             Adaboost  0.488560   0.642289  0.488560  0.478376  0.458082   \n",
              "2              XGBoost  0.944818   0.945559  0.944818  0.944428  0.941529   \n",
              "3                  KNN  0.889637   0.891422  0.889637  0.882971  0.883015   \n",
              "4  Logistic Regression  0.912517   0.913275  0.912517  0.908650  0.907290   \n",
              "5          Naive Bayes  0.559892   0.593931  0.559892  0.528392  0.534728   \n",
              "\n",
              "    ROC_AUC  \n",
              "0  0.994529  \n",
              "1  0.951173  \n",
              "2  0.998150  \n",
              "3  0.986061  \n",
              "4  0.994524  \n",
              "5  0.954526  "
            ],
            "text/html": [
              "\n",
              "  <div id=\"df-e065e8b0-7b4a-41fb-9612-507ee7040c7f\">\n",
              "    <div class=\"colab-df-container\">\n",
              "      <div>\n",
              "<style scoped>\n",
              "    .dataframe tbody tr th:only-of-type {\n",
              "        vertical-align: middle;\n",
              "    }\n",
              "\n",
              "    .dataframe tbody tr th {\n",
              "        vertical-align: top;\n",
              "    }\n",
              "\n",
              "    .dataframe thead th {\n",
              "        text-align: right;\n",
              "    }\n",
              "</style>\n",
              "<table border=\"1\" class=\"dataframe\">\n",
              "  <thead>\n",
              "    <tr style=\"text-align: right;\">\n",
              "      <th></th>\n",
              "      <th>models</th>\n",
              "      <th>Accuracy</th>\n",
              "      <th>Precision</th>\n",
              "      <th>Recall</th>\n",
              "      <th>F1</th>\n",
              "      <th>Kappa</th>\n",
              "      <th>ROC_AUC</th>\n",
              "    </tr>\n",
              "  </thead>\n",
              "  <tbody>\n",
              "    <tr>\n",
              "      <th>0</th>\n",
              "      <td>Random Forest</td>\n",
              "      <td>0.932705</td>\n",
              "      <td>0.933249</td>\n",
              "      <td>0.932705</td>\n",
              "      <td>0.931417</td>\n",
              "      <td>0.928695</td>\n",
              "      <td>0.994529</td>\n",
              "    </tr>\n",
              "    <tr>\n",
              "      <th>1</th>\n",
              "      <td>Adaboost</td>\n",
              "      <td>0.488560</td>\n",
              "      <td>0.642289</td>\n",
              "      <td>0.488560</td>\n",
              "      <td>0.478376</td>\n",
              "      <td>0.458082</td>\n",
              "      <td>0.951173</td>\n",
              "    </tr>\n",
              "    <tr>\n",
              "      <th>2</th>\n",
              "      <td>XGBoost</td>\n",
              "      <td>0.944818</td>\n",
              "      <td>0.945559</td>\n",
              "      <td>0.944818</td>\n",
              "      <td>0.944428</td>\n",
              "      <td>0.941529</td>\n",
              "      <td>0.998150</td>\n",
              "    </tr>\n",
              "    <tr>\n",
              "      <th>3</th>\n",
              "      <td>KNN</td>\n",
              "      <td>0.889637</td>\n",
              "      <td>0.891422</td>\n",
              "      <td>0.889637</td>\n",
              "      <td>0.882971</td>\n",
              "      <td>0.883015</td>\n",
              "      <td>0.986061</td>\n",
              "    </tr>\n",
              "    <tr>\n",
              "      <th>4</th>\n",
              "      <td>Logistic Regression</td>\n",
              "      <td>0.912517</td>\n",
              "      <td>0.913275</td>\n",
              "      <td>0.912517</td>\n",
              "      <td>0.908650</td>\n",
              "      <td>0.907290</td>\n",
              "      <td>0.994524</td>\n",
              "    </tr>\n",
              "    <tr>\n",
              "      <th>5</th>\n",
              "      <td>Naive Bayes</td>\n",
              "      <td>0.559892</td>\n",
              "      <td>0.593931</td>\n",
              "      <td>0.559892</td>\n",
              "      <td>0.528392</td>\n",
              "      <td>0.534728</td>\n",
              "      <td>0.954526</td>\n",
              "    </tr>\n",
              "  </tbody>\n",
              "</table>\n",
              "</div>\n",
              "      <button class=\"colab-df-convert\" onclick=\"convertToInteractive('df-e065e8b0-7b4a-41fb-9612-507ee7040c7f')\"\n",
              "              title=\"Convert this dataframe to an interactive table.\"\n",
              "              style=\"display:none;\">\n",
              "        \n",
              "  <svg xmlns=\"http://www.w3.org/2000/svg\" height=\"24px\"viewBox=\"0 0 24 24\"\n",
              "       width=\"24px\">\n",
              "    <path d=\"M0 0h24v24H0V0z\" fill=\"none\"/>\n",
              "    <path d=\"M18.56 5.44l.94 2.06.94-2.06 2.06-.94-2.06-.94-.94-2.06-.94 2.06-2.06.94zm-11 1L8.5 8.5l.94-2.06 2.06-.94-2.06-.94L8.5 2.5l-.94 2.06-2.06.94zm10 10l.94 2.06.94-2.06 2.06-.94-2.06-.94-.94-2.06-.94 2.06-2.06.94z\"/><path d=\"M17.41 7.96l-1.37-1.37c-.4-.4-.92-.59-1.43-.59-.52 0-1.04.2-1.43.59L10.3 9.45l-7.72 7.72c-.78.78-.78 2.05 0 2.83L4 21.41c.39.39.9.59 1.41.59.51 0 1.02-.2 1.41-.59l7.78-7.78 2.81-2.81c.8-.78.8-2.07 0-2.86zM5.41 20L4 18.59l7.72-7.72 1.47 1.35L5.41 20z\"/>\n",
              "  </svg>\n",
              "      </button>\n",
              "      \n",
              "  <style>\n",
              "    .colab-df-container {\n",
              "      display:flex;\n",
              "      flex-wrap:wrap;\n",
              "      gap: 12px;\n",
              "    }\n",
              "\n",
              "    .colab-df-convert {\n",
              "      background-color: #E8F0FE;\n",
              "      border: none;\n",
              "      border-radius: 50%;\n",
              "      cursor: pointer;\n",
              "      display: none;\n",
              "      fill: #1967D2;\n",
              "      height: 32px;\n",
              "      padding: 0 0 0 0;\n",
              "      width: 32px;\n",
              "    }\n",
              "\n",
              "    .colab-df-convert:hover {\n",
              "      background-color: #E2EBFA;\n",
              "      box-shadow: 0px 1px 2px rgba(60, 64, 67, 0.3), 0px 1px 3px 1px rgba(60, 64, 67, 0.15);\n",
              "      fill: #174EA6;\n",
              "    }\n",
              "\n",
              "    [theme=dark] .colab-df-convert {\n",
              "      background-color: #3B4455;\n",
              "      fill: #D2E3FC;\n",
              "    }\n",
              "\n",
              "    [theme=dark] .colab-df-convert:hover {\n",
              "      background-color: #434B5C;\n",
              "      box-shadow: 0px 1px 3px 1px rgba(0, 0, 0, 0.15);\n",
              "      filter: drop-shadow(0px 1px 2px rgba(0, 0, 0, 0.3));\n",
              "      fill: #FFFFFF;\n",
              "    }\n",
              "  </style>\n",
              "\n",
              "      <script>\n",
              "        const buttonEl =\n",
              "          document.querySelector('#df-e065e8b0-7b4a-41fb-9612-507ee7040c7f button.colab-df-convert');\n",
              "        buttonEl.style.display =\n",
              "          google.colab.kernel.accessAllowed ? 'block' : 'none';\n",
              "\n",
              "        async function convertToInteractive(key) {\n",
              "          const element = document.querySelector('#df-e065e8b0-7b4a-41fb-9612-507ee7040c7f');\n",
              "          const dataTable =\n",
              "            await google.colab.kernel.invokeFunction('convertToInteractive',\n",
              "                                                     [key], {});\n",
              "          if (!dataTable) return;\n",
              "\n",
              "          const docLinkHtml = 'Like what you see? Visit the ' +\n",
              "            '<a target=\"_blank\" href=https://colab.research.google.com/notebooks/data_table.ipynb>data table notebook</a>'\n",
              "            + ' to learn more about interactive tables.';\n",
              "          element.innerHTML = '';\n",
              "          dataTable['output_type'] = 'display_data';\n",
              "          await google.colab.output.renderOutput(dataTable, element);\n",
              "          const docLink = document.createElement('div');\n",
              "          docLink.innerHTML = docLinkHtml;\n",
              "          element.appendChild(docLink);\n",
              "        }\n",
              "      </script>\n",
              "    </div>\n",
              "  </div>\n",
              "  "
            ]
          },
          "metadata": {},
          "execution_count": 135
        }
      ]
    },
    {
      "cell_type": "code",
      "source": [
        "fig = model_results.plot(x = \"models\", y = ['Accuracy',\t'Precision',\t'Recall',\t'F1',\t'Kappa', 'ROC_AUC'], kind = \"bar\", figsize=(9, 8))\n",
        "ax = plt.subplot(111)\n",
        "ax.legend(loc='center left', bbox_to_anchor=(1, 0.5))\n",
        "ax.set_ylim([0.35,1])\n",
        "plt.show()"
      ],
      "metadata": {
        "colab": {
          "base_uri": "https://localhost:8080/",
          "height": 706
        },
        "id": "WO0FV-tD3P30",
        "outputId": "e312a7e6-4eb9-4a95-8761-0d4552b23211"
      },
      "execution_count": null,
      "outputs": [
        {
          "output_type": "stream",
          "name": "stderr",
          "text": [
            "/usr/local/lib/python3.7/dist-packages/ipykernel_launcher.py:2: MatplotlibDeprecationWarning: Adding an axes using the same arguments as a previous axes currently reuses the earlier instance.  In a future version, a new instance will always be created and returned.  Meanwhile, this warning can be suppressed, and the future behavior ensured, by passing a unique label to each axes instance.\n",
            "  \n"
          ]
        },
        {
          "output_type": "display_data",
          "data": {
            "text/plain": [
              "<Figure size 648x576 with 1 Axes>"
            ],
            "image/png": "[encoded data removed]"
          },
          "metadata": {}
        }
      ]
    },
    {
      "cell_type": "code",
      "source": [],
      "metadata": {
        "id": "8MDS0spj8cEq"
      },
      "execution_count": null,
      "outputs": []
    }
  ],
  "metadata": {
    "colab": {
      "provenance": []
    },
    "kernelspec": {
      "display_name": "Python 3",
      "name": "python3"
    },
    "language_info": {
      "name": "python"
    }
  },
  "nbformat": 4,
  "nbformat_minor": 0
}