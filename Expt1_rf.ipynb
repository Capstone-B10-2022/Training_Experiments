{
  "nbformat": 4,
  "nbformat_minor": 0,
  "metadata": {
    "colab": {
      "provenance": []
    },
    "kernelspec": {
      "name": "python3",
      "display_name": "Python 3"
    },
    "language_info": {
      "name": "python"
    }
  },
  "cells": [
    {
      "cell_type": "code",
      "source": [
        "from google.colab import drive\n",
        "drive.mount('/content/drive')\n",
        "\n",
        "#import pandas to read the csv file\n",
        "import pandas as pd\n",
        "import numpy as np"
      ],
      "metadata": {
        "id": "8cxhqXV8yqKA",
        "colab": {
          "base_uri": "https://localhost:8080/"
        },
        "outputId": "e9a74576-4a5a-4b74-d65c-cb069d515baa"
      },
      "execution_count": null,
      "outputs": [
        {
          "output_type": "stream",
          "name": "stdout",
          "text": [
            "Mounted at /content/drive\n"
          ]
        }
      ]
    },
    {
      "cell_type": "code",
      "source": [
        "#Importing Libraries\n",
        "import numpy as np\n",
        "import pandas as pd\n",
        "from sklearn.model_selection import train_test_split\n",
        "from sklearn.preprocessing import StandardScaler\n",
        "from sklearn.ensemble import RandomForestClassifier\n",
        "from sklearn.metrics import confusion_matrix\n",
        "# from sklearn.externals import joblib"
      ],
      "metadata": {
        "id": "ap5dzyYw1IYq"
      },
      "execution_count": null,
      "outputs": []
    },
    {
      "cell_type": "code",
      "source": [
        "#reading the y.txt file which contains labels\n",
        "y = pd.read_csv('/content/drive/MyDrive/y.txt', sep = \" \", header=None, names=[\"Runtime Complexity\", \"Node Number\", \"Language\"])"
      ],
      "metadata": {
        "id": "ZeuIGWUi08IY"
      },
      "execution_count": null,
      "outputs": []
    },
    {
      "cell_type": "code",
      "source": [
        "y"
      ],
      "metadata": {
        "id": "286DUU7X0brh",
        "colab": {
          "base_uri": "https://localhost:8080/",
          "height": 423
        },
        "outputId": "798a7770-8743-4dd8-ba76-5e20189e207b"
      },
      "execution_count": null,
      "outputs": [
        {
          "output_type": "execute_result",
          "data": {
            "text/plain": [
              "    Runtime Complexity Node Number Language\n",
              "0                 O(1)      nodes0        C\n",
              "1                O(2n)      nodes0        C\n",
              "2                O(2n)      nodes1        C\n",
              "3              O(logN)      nodes0        C\n",
              "4              O(logN)      nodes1        C\n",
              "..                 ...         ...      ...\n",
              "735           O(NlogN)      nodes5     Java\n",
              "736           O(NlogN)      nodes6     Java\n",
              "737           O(NlogN)      nodes7     Java\n",
              "738           O(NlogN)      nodes8     Java\n",
              "739           O(NlogN)      nodes9     Java\n",
              "\n",
              "[740 rows x 3 columns]"
            ],
            "text/html": [
              "\n",
              "  <div id=\"df-f62e702d-bbdb-494f-82dd-ac6ebf2e59a1\">\n",
              "    <div class=\"colab-df-container\">\n",
              "      <div>\n",
              "<style scoped>\n",
              "    .dataframe tbody tr th:only-of-type {\n",
              "        vertical-align: middle;\n",
              "    }\n",
              "\n",
              "    .dataframe tbody tr th {\n",
              "        vertical-align: top;\n",
              "    }\n",
              "\n",
              "    .dataframe thead th {\n",
              "        text-align: right;\n",
              "    }\n",
              "</style>\n",
              "<table border=\"1\" class=\"dataframe\">\n",
              "  <thead>\n",
              "    <tr style=\"text-align: right;\">\n",
              "      <th></th>\n",
              "      <th>Runtime Complexity</th>\n",
              "      <th>Node Number</th>\n",
              "      <th>Language</th>\n",
              "    </tr>\n",
              "  </thead>\n",
              "  <tbody>\n",
              "    <tr>\n",
              "      <th>0</th>\n",
              "      <td>O(1)</td>\n",
              "      <td>nodes0</td>\n",
              "      <td>C</td>\n",
              "    </tr>\n",
              "    <tr>\n",
              "      <th>1</th>\n",
              "      <td>O(2n)</td>\n",
              "      <td>nodes0</td>\n",
              "      <td>C</td>\n",
              "    </tr>\n",
              "    <tr>\n",
              "      <th>2</th>\n",
              "      <td>O(2n)</td>\n",
              "      <td>nodes1</td>\n",
              "      <td>C</td>\n",
              "    </tr>\n",
              "    <tr>\n",
              "      <th>3</th>\n",
              "      <td>O(logN)</td>\n",
              "      <td>nodes0</td>\n",
              "      <td>C</td>\n",
              "    </tr>\n",
              "    <tr>\n",
              "      <th>4</th>\n",
              "      <td>O(logN)</td>\n",
              "      <td>nodes1</td>\n",
              "      <td>C</td>\n",
              "    </tr>\n",
              "    <tr>\n",
              "      <th>...</th>\n",
              "      <td>...</td>\n",
              "      <td>...</td>\n",
              "      <td>...</td>\n",
              "    </tr>\n",
              "    <tr>\n",
              "      <th>735</th>\n",
              "      <td>O(NlogN)</td>\n",
              "      <td>nodes5</td>\n",
              "      <td>Java</td>\n",
              "    </tr>\n",
              "    <tr>\n",
              "      <th>736</th>\n",
              "      <td>O(NlogN)</td>\n",
              "      <td>nodes6</td>\n",
              "      <td>Java</td>\n",
              "    </tr>\n",
              "    <tr>\n",
              "      <th>737</th>\n",
              "      <td>O(NlogN)</td>\n",
              "      <td>nodes7</td>\n",
              "      <td>Java</td>\n",
              "    </tr>\n",
              "    <tr>\n",
              "      <th>738</th>\n",
              "      <td>O(NlogN)</td>\n",
              "      <td>nodes8</td>\n",
              "      <td>Java</td>\n",
              "    </tr>\n",
              "    <tr>\n",
              "      <th>739</th>\n",
              "      <td>O(NlogN)</td>\n",
              "      <td>nodes9</td>\n",
              "      <td>Java</td>\n",
              "    </tr>\n",
              "  </tbody>\n",
              "</table>\n",
              "<p>740 rows × 3 columns</p>\n",
              "</div>\n",
              "      <button class=\"colab-df-convert\" onclick=\"convertToInteractive('df-f62e702d-bbdb-494f-82dd-ac6ebf2e59a1')\"\n",
              "              title=\"Convert this dataframe to an interactive table.\"\n",
              "              style=\"display:none;\">\n",
              "        \n",
              "  <svg xmlns=\"http://www.w3.org/2000/svg\" height=\"24px\"viewBox=\"0 0 24 24\"\n",
              "       width=\"24px\">\n",
              "    <path d=\"M0 0h24v24H0V0z\" fill=\"none\"/>\n",
              "    <path d=\"M18.56 5.44l.94 2.06.94-2.06 2.06-.94-2.06-.94-.94-2.06-.94 2.06-2.06.94zm-11 1L8.5 8.5l.94-2.06 2.06-.94-2.06-.94L8.5 2.5l-.94 2.06-2.06.94zm10 10l.94 2.06.94-2.06 2.06-.94-2.06-.94-.94-2.06-.94 2.06-2.06.94z\"/><path d=\"M17.41 7.96l-1.37-1.37c-.4-.4-.92-.59-1.43-.59-.52 0-1.04.2-1.43.59L10.3 9.45l-7.72 7.72c-.78.78-.78 2.05 0 2.83L4 21.41c.39.39.9.59 1.41.59.51 0 1.02-.2 1.41-.59l7.78-7.78 2.81-2.81c.8-.78.8-2.07 0-2.86zM5.41 20L4 18.59l7.72-7.72 1.47 1.35L5.41 20z\"/>\n",
              "  </svg>\n",
              "      </button>\n",
              "      \n",
              "  <style>\n",
              "    .colab-df-container {\n",
              "      display:flex;\n",
              "      flex-wrap:wrap;\n",
              "      gap: 12px;\n",
              "    }\n",
              "\n",
              "    .colab-df-convert {\n",
              "      background-color: #E8F0FE;\n",
              "      border: none;\n",
              "      border-radius: 50%;\n",
              "      cursor: pointer;\n",
              "      display: none;\n",
              "      fill: #1967D2;\n",
              "      height: 32px;\n",
              "      padding: 0 0 0 0;\n",
              "      width: 32px;\n",
              "    }\n",
              "\n",
              "    .colab-df-convert:hover {\n",
              "      background-color: #E2EBFA;\n",
              "      box-shadow: 0px 1px 2px rgba(60, 64, 67, 0.3), 0px 1px 3px 1px rgba(60, 64, 67, 0.15);\n",
              "      fill: #174EA6;\n",
              "    }\n",
              "\n",
              "    [theme=dark] .colab-df-convert {\n",
              "      background-color: #3B4455;\n",
              "      fill: #D2E3FC;\n",
              "    }\n",
              "\n",
              "    [theme=dark] .colab-df-convert:hover {\n",
              "      background-color: #434B5C;\n",
              "      box-shadow: 0px 1px 3px 1px rgba(0, 0, 0, 0.15);\n",
              "      filter: drop-shadow(0px 1px 2px rgba(0, 0, 0, 0.3));\n",
              "      fill: #FFFFFF;\n",
              "    }\n",
              "  </style>\n",
              "\n",
              "      <script>\n",
              "        const buttonEl =\n",
              "          document.querySelector('#df-f62e702d-bbdb-494f-82dd-ac6ebf2e59a1 button.colab-df-convert');\n",
              "        buttonEl.style.display =\n",
              "          google.colab.kernel.accessAllowed ? 'block' : 'none';\n",
              "\n",
              "        async function convertToInteractive(key) {\n",
              "          const element = document.querySelector('#df-f62e702d-bbdb-494f-82dd-ac6ebf2e59a1');\n",
              "          const dataTable =\n",
              "            await google.colab.kernel.invokeFunction('convertToInteractive',\n",
              "                                                     [key], {});\n",
              "          if (!dataTable) return;\n",
              "\n",
              "          const docLinkHtml = 'Like what you see? Visit the ' +\n",
              "            '<a target=\"_blank\" href=https://colab.research.google.com/notebooks/data_table.ipynb>data table notebook</a>'\n",
              "            + ' to learn more about interactive tables.';\n",
              "          element.innerHTML = '';\n",
              "          dataTable['output_type'] = 'display_data';\n",
              "          await google.colab.output.renderOutput(dataTable, element);\n",
              "          const docLink = document.createElement('div');\n",
              "          docLink.innerHTML = docLinkHtml;\n",
              "          element.appendChild(docLink);\n",
              "        }\n",
              "      </script>\n",
              "    </div>\n",
              "  </div>\n",
              "  "
            ]
          },
          "metadata": {},
          "execution_count": 4
        }
      ]
    },
    {
      "cell_type": "code",
      "source": [
        "x = np.load('/content/drive/MyDrive/x.npy')"
      ],
      "metadata": {
        "id": "7a3zU35O1UPe"
      },
      "execution_count": null,
      "outputs": []
    },
    {
      "cell_type": "code",
      "source": [
        "df = []\n",
        "for i in range(len(x)):\n",
        "  emb = x[i].tolist()\n",
        "  # emb.append(y[i])\n",
        "  df.append(emb)\n",
        "col = []\n",
        "for i in range(128):\n",
        "  col.append('emb'+str(i+1))\n",
        "# col.append('classes')\n",
        "df = pd.DataFrame(df, columns=col)"
      ],
      "metadata": {
        "id": "SlGnfz__1PI9"
      },
      "execution_count": null,
      "outputs": []
    },
    {
      "cell_type": "code",
      "source": [
        "df_y = pd.read_csv('/content/drive/MyDrive/y.txt', sep = \" \", header=None, names=[\"Complexity\", \"Node Number\", \"Language\"])"
      ],
      "metadata": {
        "id": "lYJSBDMGzSpI"
      },
      "execution_count": null,
      "outputs": []
    },
    {
      "cell_type": "code",
      "source": [
        "df['Complexity'] = df_y['Complexity']\n",
        "df"
      ],
      "metadata": {
        "colab": {
          "base_uri": "https://localhost:8080/",
          "height": 487
        },
        "id": "07Qc3D6Q2ID5",
        "outputId": "e901a651-b4bc-4b98-f84a-c340c400fd8c"
      },
      "execution_count": null,
      "outputs": [
        {
          "output_type": "execute_result",
          "data": {
            "text/plain": [
              "         emb1      emb2      emb3      emb4      emb5      emb6      emb7  \\\n",
              "0   -0.054682  0.127175  0.036648  0.090353  0.192498  0.043540 -0.060334   \n",
              "1   -0.095235  0.175034  0.063935  0.117448  0.255929  0.064811 -0.072923   \n",
              "2   -0.135813  0.219436  0.102143  0.135153  0.286394  0.068151 -0.078952   \n",
              "3    0.270222  0.300358 -0.445603  0.196632  0.531115  0.433794 -0.261992   \n",
              "4    0.102710  0.177498 -0.326135  0.302662  0.256015  0.207272 -0.175998   \n",
              "..        ...       ...       ...       ...       ...       ...       ...   \n",
              "735  0.162677 -0.179751 -0.320467  0.374476  0.487395 -0.065953 -0.380204   \n",
              "736  0.183020 -0.166014 -0.231057  0.452174  0.562882 -0.138434 -0.443576   \n",
              "737  0.184769 -0.201651 -0.235364  0.446800  0.547860 -0.155865 -0.472018   \n",
              "738  0.255681 -0.193824 -0.382822  0.447094  0.499922 -0.083941 -0.402473   \n",
              "739  0.782572 -0.163111 -0.738689  0.510340  0.762960  0.278493 -0.506301   \n",
              "\n",
              "         emb8      emb9     emb10  ...    emb120    emb121    emb122  \\\n",
              "0   -0.037632 -0.001838  0.116995  ... -0.049275 -0.131080  0.002272   \n",
              "1   -0.032716  0.013575  0.152739  ... -0.024092 -0.185713 -0.016963   \n",
              "2   -0.003041  0.021949  0.182400  ...  0.008541 -0.236532 -0.032249   \n",
              "3   -0.074271 -0.215854 -0.061681  ... -0.586666 -0.216605 -0.092687   \n",
              "4   -0.057321  0.000238  0.019773  ... -0.386576 -0.253997 -0.026445   \n",
              "..        ...       ...       ...  ...       ...       ...       ...   \n",
              "735 -0.143154 -0.065873  0.257494  ... -0.397525  0.117815  0.099337   \n",
              "736 -0.284463 -0.054835  0.159889  ... -0.445122  0.000230  0.095979   \n",
              "737 -0.309393 -0.079808  0.205073  ... -0.489142 -0.006414  0.128634   \n",
              "738 -0.251599 -0.028515  0.150684  ... -0.498780  0.046986  0.124914   \n",
              "739 -0.299853 -0.460638 -0.063568  ... -1.165067  0.113273  0.033455   \n",
              "\n",
              "       emb123    emb124    emb125    emb126    emb127    emb128  Complexity  \n",
              "0   -0.017875 -0.209266  0.199226  0.097312 -0.107657  0.081840        O(1)  \n",
              "1   -0.040366 -0.277818  0.261729  0.118124 -0.125564  0.130719       O(2n)  \n",
              "2   -0.071049 -0.334604  0.334102  0.128357 -0.144719  0.192227       O(2n)  \n",
              "3   -0.081682 -0.599847  0.550452  0.468392 -0.247837  0.087675     O(logN)  \n",
              "4   -0.061492 -0.581163  0.442037  0.418021 -0.194271  0.098900     O(logN)  \n",
              "..        ...       ...       ...       ...       ...       ...         ...  \n",
              "735 -0.094519 -0.544291  0.213452  0.262748 -0.306325 -0.224609    O(NlogN)  \n",
              "736 -0.063981 -0.603873  0.114075  0.222806 -0.317638 -0.290131    O(NlogN)  \n",
              "737 -0.109084 -0.605826  0.106701  0.230898 -0.321285 -0.266228    O(NlogN)  \n",
              "738 -0.117825 -0.633948  0.106924  0.273179 -0.336416 -0.300430    O(NlogN)  \n",
              "739 -0.083436 -0.703199  0.322280  0.512571 -0.172656 -0.565512    O(NlogN)  \n",
              "\n",
              "[740 rows x 129 columns]"
            ],
            "text/html": [
              "\n",
              "  <div id=\"df-25c9e1d1-028c-45c5-938c-36fcaeeaf71c\">\n",
              "    <div class=\"colab-df-container\">\n",
              "      <div>\n",
              "<style scoped>\n",
              "    .dataframe tbody tr th:only-of-type {\n",
              "        vertical-align: middle;\n",
              "    }\n",
              "\n",
              "    .dataframe tbody tr th {\n",
              "        vertical-align: top;\n",
              "    }\n",
              "\n",
              "    .dataframe thead th {\n",
              "        text-align: right;\n",
              "    }\n",
              "</style>\n",
              "<table border=\"1\" class=\"dataframe\">\n",
              "  <thead>\n",
              "    <tr style=\"text-align: right;\">\n",
              "      <th></th>\n",
              "      <th>emb1</th>\n",
              "      <th>emb2</th>\n",
              "      <th>emb3</th>\n",
              "      <th>emb4</th>\n",
              "      <th>emb5</th>\n",
              "      <th>emb6</th>\n",
              "      <th>emb7</th>\n",
              "      <th>emb8</th>\n",
              "      <th>emb9</th>\n",
              "      <th>emb10</th>\n",
              "      <th>...</th>\n",
              "      <th>emb120</th>\n",
              "      <th>emb121</th>\n",
              "      <th>emb122</th>\n",
              "      <th>emb123</th>\n",
              "      <th>emb124</th>\n",
              "      <th>emb125</th>\n",
              "      <th>emb126</th>\n",
              "      <th>emb127</th>\n",
              "      <th>emb128</th>\n",
              "      <th>Complexity</th>\n",
              "    </tr>\n",
              "  </thead>\n",
              "  <tbody>\n",
              "    <tr>\n",
              "      <th>0</th>\n",
              "      <td>-0.054682</td>\n",
              "      <td>0.127175</td>\n",
              "      <td>0.036648</td>\n",
              "      <td>0.090353</td>\n",
              "      <td>0.192498</td>\n",
              "      <td>0.043540</td>\n",
              "      <td>-0.060334</td>\n",
              "      <td>-0.037632</td>\n",
              "      <td>-0.001838</td>\n",
              "      <td>0.116995</td>\n",
              "      <td>...</td>\n",
              "      <td>-0.049275</td>\n",
              "      <td>-0.131080</td>\n",
              "      <td>0.002272</td>\n",
              "      <td>-0.017875</td>\n",
              "      <td>-0.209266</td>\n",
              "      <td>0.199226</td>\n",
              "      <td>0.097312</td>\n",
              "      <td>-0.107657</td>\n",
              "      <td>0.081840</td>\n",
              "      <td>O(1)</td>\n",
              "    </tr>\n",
              "    <tr>\n",
              "      <th>1</th>\n",
              "      <td>-0.095235</td>\n",
              "      <td>0.175034</td>\n",
              "      <td>0.063935</td>\n",
              "      <td>0.117448</td>\n",
              "      <td>0.255929</td>\n",
              "      <td>0.064811</td>\n",
              "      <td>-0.072923</td>\n",
              "      <td>-0.032716</td>\n",
              "      <td>0.013575</td>\n",
              "      <td>0.152739</td>\n",
              "      <td>...</td>\n",
              "      <td>-0.024092</td>\n",
              "      <td>-0.185713</td>\n",
              "      <td>-0.016963</td>\n",
              "      <td>-0.040366</td>\n",
              "      <td>-0.277818</td>\n",
              "      <td>0.261729</td>\n",
              "      <td>0.118124</td>\n",
              "      <td>-0.125564</td>\n",
              "      <td>0.130719</td>\n",
              "      <td>O(2n)</td>\n",
              "    </tr>\n",
              "    <tr>\n",
              "      <th>2</th>\n",
              "      <td>-0.135813</td>\n",
              "      <td>0.219436</td>\n",
              "      <td>0.102143</td>\n",
              "      <td>0.135153</td>\n",
              "      <td>0.286394</td>\n",
              "      <td>0.068151</td>\n",
              "      <td>-0.078952</td>\n",
              "      <td>-0.003041</td>\n",
              "      <td>0.021949</td>\n",
              "      <td>0.182400</td>\n",
              "      <td>...</td>\n",
              "      <td>0.008541</td>\n",
              "      <td>-0.236532</td>\n",
              "      <td>-0.032249</td>\n",
              "      <td>-0.071049</td>\n",
              "      <td>-0.334604</td>\n",
              "      <td>0.334102</td>\n",
              "      <td>0.128357</td>\n",
              "      <td>-0.144719</td>\n",
              "      <td>0.192227</td>\n",
              "      <td>O(2n)</td>\n",
              "    </tr>\n",
              "    <tr>\n",
              "      <th>3</th>\n",
              "      <td>0.270222</td>\n",
              "      <td>0.300358</td>\n",
              "      <td>-0.445603</td>\n",
              "      <td>0.196632</td>\n",
              "      <td>0.531115</td>\n",
              "      <td>0.433794</td>\n",
              "      <td>-0.261992</td>\n",
              "      <td>-0.074271</td>\n",
              "      <td>-0.215854</td>\n",
              "      <td>-0.061681</td>\n",
              "      <td>...</td>\n",
              "      <td>-0.586666</td>\n",
              "      <td>-0.216605</td>\n",
              "      <td>-0.092687</td>\n",
              "      <td>-0.081682</td>\n",
              "      <td>-0.599847</td>\n",
              "      <td>0.550452</td>\n",
              "      <td>0.468392</td>\n",
              "      <td>-0.247837</td>\n",
              "      <td>0.087675</td>\n",
              "      <td>O(logN)</td>\n",
              "    </tr>\n",
              "    <tr>\n",
              "      <th>4</th>\n",
              "      <td>0.102710</td>\n",
              "      <td>0.177498</td>\n",
              "      <td>-0.326135</td>\n",
              "      <td>0.302662</td>\n",
              "      <td>0.256015</td>\n",
              "      <td>0.207272</td>\n",
              "      <td>-0.175998</td>\n",
              "      <td>-0.057321</td>\n",
              "      <td>0.000238</td>\n",
              "      <td>0.019773</td>\n",
              "      <td>...</td>\n",
              "      <td>-0.386576</td>\n",
              "      <td>-0.253997</td>\n",
              "      <td>-0.026445</td>\n",
              "      <td>-0.061492</td>\n",
              "      <td>-0.581163</td>\n",
              "      <td>0.442037</td>\n",
              "      <td>0.418021</td>\n",
              "      <td>-0.194271</td>\n",
              "      <td>0.098900</td>\n",
              "      <td>O(logN)</td>\n",
              "    </tr>\n",
              "    <tr>\n",
              "      <th>...</th>\n",
              "      <td>...</td>\n",
              "      <td>...</td>\n",
              "      <td>...</td>\n",
              "      <td>...</td>\n",
              "      <td>...</td>\n",
              "      <td>...</td>\n",
              "      <td>...</td>\n",
              "      <td>...</td>\n",
              "      <td>...</td>\n",
              "      <td>...</td>\n",
              "      <td>...</td>\n",
              "      <td>...</td>\n",
              "      <td>...</td>\n",
              "      <td>...</td>\n",
              "      <td>...</td>\n",
              "      <td>...</td>\n",
              "      <td>...</td>\n",
              "      <td>...</td>\n",
              "      <td>...</td>\n",
              "      <td>...</td>\n",
              "      <td>...</td>\n",
              "    </tr>\n",
              "    <tr>\n",
              "      <th>735</th>\n",
              "      <td>0.162677</td>\n",
              "      <td>-0.179751</td>\n",
              "      <td>-0.320467</td>\n",
              "      <td>0.374476</td>\n",
              "      <td>0.487395</td>\n",
              "      <td>-0.065953</td>\n",
              "      <td>-0.380204</td>\n",
              "      <td>-0.143154</td>\n",
              "      <td>-0.065873</td>\n",
              "      <td>0.257494</td>\n",
              "      <td>...</td>\n",
              "      <td>-0.397525</td>\n",
              "      <td>0.117815</td>\n",
              "      <td>0.099337</td>\n",
              "      <td>-0.094519</td>\n",
              "      <td>-0.544291</td>\n",
              "      <td>0.213452</td>\n",
              "      <td>0.262748</td>\n",
              "      <td>-0.306325</td>\n",
              "      <td>-0.224609</td>\n",
              "      <td>O(NlogN)</td>\n",
              "    </tr>\n",
              "    <tr>\n",
              "      <th>736</th>\n",
              "      <td>0.183020</td>\n",
              "      <td>-0.166014</td>\n",
              "      <td>-0.231057</td>\n",
              "      <td>0.452174</td>\n",
              "      <td>0.562882</td>\n",
              "      <td>-0.138434</td>\n",
              "      <td>-0.443576</td>\n",
              "      <td>-0.284463</td>\n",
              "      <td>-0.054835</td>\n",
              "      <td>0.159889</td>\n",
              "      <td>...</td>\n",
              "      <td>-0.445122</td>\n",
              "      <td>0.000230</td>\n",
              "      <td>0.095979</td>\n",
              "      <td>-0.063981</td>\n",
              "      <td>-0.603873</td>\n",
              "      <td>0.114075</td>\n",
              "      <td>0.222806</td>\n",
              "      <td>-0.317638</td>\n",
              "      <td>-0.290131</td>\n",
              "      <td>O(NlogN)</td>\n",
              "    </tr>\n",
              "    <tr>\n",
              "      <th>737</th>\n",
              "      <td>0.184769</td>\n",
              "      <td>-0.201651</td>\n",
              "      <td>-0.235364</td>\n",
              "      <td>0.446800</td>\n",
              "      <td>0.547860</td>\n",
              "      <td>-0.155865</td>\n",
              "      <td>-0.472018</td>\n",
              "      <td>-0.309393</td>\n",
              "      <td>-0.079808</td>\n",
              "      <td>0.205073</td>\n",
              "      <td>...</td>\n",
              "      <td>-0.489142</td>\n",
              "      <td>-0.006414</td>\n",
              "      <td>0.128634</td>\n",
              "      <td>-0.109084</td>\n",
              "      <td>-0.605826</td>\n",
              "      <td>0.106701</td>\n",
              "      <td>0.230898</td>\n",
              "      <td>-0.321285</td>\n",
              "      <td>-0.266228</td>\n",
              "      <td>O(NlogN)</td>\n",
              "    </tr>\n",
              "    <tr>\n",
              "      <th>738</th>\n",
              "      <td>0.255681</td>\n",
              "      <td>-0.193824</td>\n",
              "      <td>-0.382822</td>\n",
              "      <td>0.447094</td>\n",
              "      <td>0.499922</td>\n",
              "      <td>-0.083941</td>\n",
              "      <td>-0.402473</td>\n",
              "      <td>-0.251599</td>\n",
              "      <td>-0.028515</td>\n",
              "      <td>0.150684</td>\n",
              "      <td>...</td>\n",
              "      <td>-0.498780</td>\n",
              "      <td>0.046986</td>\n",
              "      <td>0.124914</td>\n",
              "      <td>-0.117825</td>\n",
              "      <td>-0.633948</td>\n",
              "      <td>0.106924</td>\n",
              "      <td>0.273179</td>\n",
              "      <td>-0.336416</td>\n",
              "      <td>-0.300430</td>\n",
              "      <td>O(NlogN)</td>\n",
              "    </tr>\n",
              "    <tr>\n",
              "      <th>739</th>\n",
              "      <td>0.782572</td>\n",
              "      <td>-0.163111</td>\n",
              "      <td>-0.738689</td>\n",
              "      <td>0.510340</td>\n",
              "      <td>0.762960</td>\n",
              "      <td>0.278493</td>\n",
              "      <td>-0.506301</td>\n",
              "      <td>-0.299853</td>\n",
              "      <td>-0.460638</td>\n",
              "      <td>-0.063568</td>\n",
              "      <td>...</td>\n",
              "      <td>-1.165067</td>\n",
              "      <td>0.113273</td>\n",
              "      <td>0.033455</td>\n",
              "      <td>-0.083436</td>\n",
              "      <td>-0.703199</td>\n",
              "      <td>0.322280</td>\n",
              "      <td>0.512571</td>\n",
              "      <td>-0.172656</td>\n",
              "      <td>-0.565512</td>\n",
              "      <td>O(NlogN)</td>\n",
              "    </tr>\n",
              "  </tbody>\n",
              "</table>\n",
              "<p>740 rows × 129 columns</p>\n",
              "</div>\n",
              "      <button class=\"colab-df-convert\" onclick=\"convertToInteractive('df-25c9e1d1-028c-45c5-938c-36fcaeeaf71c')\"\n",
              "              title=\"Convert this dataframe to an interactive table.\"\n",
              "              style=\"display:none;\">\n",
              "        \n",
              "  <svg xmlns=\"http://www.w3.org/2000/svg\" height=\"24px\"viewBox=\"0 0 24 24\"\n",
              "       width=\"24px\">\n",
              "    <path d=\"M0 0h24v24H0V0z\" fill=\"none\"/>\n",
              "    <path d=\"M18.56 5.44l.94 2.06.94-2.06 2.06-.94-2.06-.94-.94-2.06-.94 2.06-2.06.94zm-11 1L8.5 8.5l.94-2.06 2.06-.94-2.06-.94L8.5 2.5l-.94 2.06-2.06.94zm10 10l.94 2.06.94-2.06 2.06-.94-2.06-.94-.94-2.06-.94 2.06-2.06.94z\"/><path d=\"M17.41 7.96l-1.37-1.37c-.4-.4-.92-.59-1.43-.59-.52 0-1.04.2-1.43.59L10.3 9.45l-7.72 7.72c-.78.78-.78 2.05 0 2.83L4 21.41c.39.39.9.59 1.41.59.51 0 1.02-.2 1.41-.59l7.78-7.78 2.81-2.81c.8-.78.8-2.07 0-2.86zM5.41 20L4 18.59l7.72-7.72 1.47 1.35L5.41 20z\"/>\n",
              "  </svg>\n",
              "      </button>\n",
              "      \n",
              "  <style>\n",
              "    .colab-df-container {\n",
              "      display:flex;\n",
              "      flex-wrap:wrap;\n",
              "      gap: 12px;\n",
              "    }\n",
              "\n",
              "    .colab-df-convert {\n",
              "      background-color: #E8F0FE;\n",
              "      border: none;\n",
              "      border-radius: 50%;\n",
              "      cursor: pointer;\n",
              "      display: none;\n",
              "      fill: #1967D2;\n",
              "      height: 32px;\n",
              "      padding: 0 0 0 0;\n",
              "      width: 32px;\n",
              "    }\n",
              "\n",
              "    .colab-df-convert:hover {\n",
              "      background-color: #E2EBFA;\n",
              "      box-shadow: 0px 1px 2px rgba(60, 64, 67, 0.3), 0px 1px 3px 1px rgba(60, 64, 67, 0.15);\n",
              "      fill: #174EA6;\n",
              "    }\n",
              "\n",
              "    [theme=dark] .colab-df-convert {\n",
              "      background-color: #3B4455;\n",
              "      fill: #D2E3FC;\n",
              "    }\n",
              "\n",
              "    [theme=dark] .colab-df-convert:hover {\n",
              "      background-color: #434B5C;\n",
              "      box-shadow: 0px 1px 3px 1px rgba(0, 0, 0, 0.15);\n",
              "      filter: drop-shadow(0px 1px 2px rgba(0, 0, 0, 0.3));\n",
              "      fill: #FFFFFF;\n",
              "    }\n",
              "  </style>\n",
              "\n",
              "      <script>\n",
              "        const buttonEl =\n",
              "          document.querySelector('#df-25c9e1d1-028c-45c5-938c-36fcaeeaf71c button.colab-df-convert');\n",
              "        buttonEl.style.display =\n",
              "          google.colab.kernel.accessAllowed ? 'block' : 'none';\n",
              "\n",
              "        async function convertToInteractive(key) {\n",
              "          const element = document.querySelector('#df-25c9e1d1-028c-45c5-938c-36fcaeeaf71c');\n",
              "          const dataTable =\n",
              "            await google.colab.kernel.invokeFunction('convertToInteractive',\n",
              "                                                     [key], {});\n",
              "          if (!dataTable) return;\n",
              "\n",
              "          const docLinkHtml = 'Like what you see? Visit the ' +\n",
              "            '<a target=\"_blank\" href=https://colab.research.google.com/notebooks/data_table.ipynb>data table notebook</a>'\n",
              "            + ' to learn more about interactive tables.';\n",
              "          element.innerHTML = '';\n",
              "          dataTable['output_type'] = 'display_data';\n",
              "          await google.colab.output.renderOutput(dataTable, element);\n",
              "          const docLink = document.createElement('div');\n",
              "          docLink.innerHTML = docLinkHtml;\n",
              "          element.appendChild(docLink);\n",
              "        }\n",
              "      </script>\n",
              "    </div>\n",
              "  </div>\n",
              "  "
            ]
          },
          "metadata": {},
          "execution_count": 8
        }
      ]
    },
    {
      "cell_type": "code",
      "source": [
        "df['Complexity'].value_counts()"
      ],
      "metadata": {
        "colab": {
          "base_uri": "https://localhost:8080/"
        },
        "id": "fxpZzgtCzTHR",
        "outputId": "b16dec2c-24d9-450f-cfef-8dbc61f4e5d9"
      },
      "execution_count": null,
      "outputs": [
        {
          "output_type": "execute_result",
          "data": {
            "text/plain": [
              "O(N)          375\n",
              "O(N2)         165\n",
              "O(NlogN)      100\n",
              "O(logN)        31\n",
              "O(N3)          27\n",
              "O(Nd)          22\n",
              "O(2n)           7\n",
              "O(1)            6\n",
              "O(N!)           4\n",
              "O(sqrt(N))      3\n",
              "Name: Complexity, dtype: int64"
            ]
          },
          "metadata": {},
          "execution_count": 169
        }
      ]
    },
    {
      "cell_type": "code",
      "source": [
        "import seaborn as sns\n",
        "sns.countplot(df['Complexity'])"
      ],
      "metadata": {
        "colab": {
          "base_uri": "https://localhost:8080/",
          "height": 313
        },
        "id": "HPHMdY0izTLv",
        "outputId": "43d76d35-2c79-403a-b860-585e5cf50670"
      },
      "execution_count": null,
      "outputs": [
        {
          "output_type": "execute_result",
          "data": {
            "text/plain": [
              "<matplotlib.axes._subplots.AxesSubplot at 0x7fe5a6f16590>"
            ]
          },
          "metadata": {},
          "execution_count": 170
        },
        {
          "output_type": "display_data",
          "data": {
            "text/plain": [
              "<Figure size 432x288 with 1 Axes>"
            ],
            "image/png": "[encoded data removed]"
          },
          "metadata": {}
        }
      ]
    },
    {
      "cell_type": "markdown",
      "source": [
        "# **Resampling - Oversampling**"
      ],
      "metadata": {
        "id": "LU7FF-PdP-0T"
      }
    },
    {
      "cell_type": "code",
      "source": [
        "from sklearn.utils import resample\n",
        "#create two different dataframe of majority and minority class \n",
        "df_majority = df[(df['Complexity'] == 'O(N)')] \n",
        "df_minority_1 = df[(df['Complexity'] == 'O(N2)')] \n",
        "df_minority_2 = df[(df['Complexity'] == 'O(NlogN)')] \n",
        "df_minority_3 = df[(df['Complexity'] == 'O(logN)')] \n",
        "df_minority_4 = df[(df['Complexity'] == 'O(N3)')]\n",
        "df_minority_5 = df[(df['Complexity'] == 'O(Nd)')]\n",
        "df_minority_6 = df[(df['Complexity'] == 'O(2n)')]\n",
        "df_minority_7 = df[(df['Complexity'] == 'O(1)')]\n",
        "df_minority_8 = df[(df['Complexity'] == 'O(N!)')]\n",
        "df_minority_9 = df[(df['Complexity'] == 'O(sqrt(N))')]\n",
        "\n",
        "# upsample minority class\n",
        "minority = [df_minority_1, df_minority_2, df_minority_3, df_minority_4, df_minority_5, df_minority_6, df_minority_7, df_minority_8, df_minority_9]\n",
        "temp = []\n",
        "for i in minority:\n",
        "  df_minority_upsampled = resample(i, \n",
        "                                  replace=True,    # sample with replacement\n",
        "                                  n_samples= 375, # to match majority class\n",
        "                                  random_state=42)  # reproducible results\n",
        "  temp.append(df_minority_upsampled)\n",
        "# Combine majority class with upsampled minority class\n",
        "df_upsampled = df_majority\n",
        "for i in temp:\n",
        "  df_upsampled = pd.concat([i, df_upsampled])"
      ],
      "metadata": {
        "id": "irIdYTbA0Aoi"
      },
      "execution_count": null,
      "outputs": []
    },
    {
      "cell_type": "code",
      "source": [
        "df_upsampled['Complexity'].value_counts()"
      ],
      "metadata": {
        "colab": {
          "base_uri": "https://localhost:8080/"
        },
        "id": "FElG1yZe0Asq",
        "outputId": "ea79fada-f689-468c-807c-1c9efb100115"
      },
      "execution_count": null,
      "outputs": [
        {
          "output_type": "execute_result",
          "data": {
            "text/plain": [
              "O(sqrt(N))    375\n",
              "O(N!)         375\n",
              "O(1)          375\n",
              "O(2n)         375\n",
              "O(Nd)         375\n",
              "O(N3)         375\n",
              "O(logN)       375\n",
              "O(NlogN)      375\n",
              "O(N2)         375\n",
              "O(N)          375\n",
              "Name: Complexity, dtype: int64"
            ]
          },
          "metadata": {},
          "execution_count": 172
        }
      ]
    },
    {
      "cell_type": "code",
      "source": [
        "sns.countplot(df_upsampled['Complexity'])"
      ],
      "metadata": {
        "colab": {
          "base_uri": "https://localhost:8080/",
          "height": 313
        },
        "id": "iWD_jiY70Avq",
        "outputId": "931ffd2e-7b86-42e3-974f-170c417f051d"
      },
      "execution_count": null,
      "outputs": [
        {
          "output_type": "execute_result",
          "data": {
            "text/plain": [
              "<matplotlib.axes._subplots.AxesSubplot at 0x7fe5a6d5a050>"
            ]
          },
          "metadata": {},
          "execution_count": 173
        },
        {
          "output_type": "display_data",
          "data": {
            "text/plain": [
              "<Figure size 432x288 with 1 Axes>"
            ],
            "image/png": "[encoded data removed]"
          },
          "metadata": {}
        }
      ]
    },
    {
      "cell_type": "code",
      "source": [
        "df = df_upsampled\n",
        "# df = oversampled\n",
        "factor = pd.factorize(df['Complexity'])\n",
        "df.Complexity= factor[0]\n",
        "definitions = factor[1]\n",
        "print(df.Complexity.head())\n",
        "print(definitions)"
      ],
      "metadata": {
        "colab": {
          "base_uri": "https://localhost:8080/"
        },
        "id": "5KHBvWbD0AyF",
        "outputId": "1c5961d8-8ecc-48cf-b591-088f971f4fac"
      },
      "execution_count": null,
      "outputs": [
        {
          "output_type": "stream",
          "name": "stdout",
          "text": [
            "426    0\n",
            "118    0\n",
            "426    0\n",
            "426    0\n",
            "118    0\n",
            "Name: Complexity, dtype: int64\n",
            "Index(['O(sqrt(N))', 'O(N!)', 'O(1)', 'O(2n)', 'O(Nd)', 'O(N3)', 'O(logN)',\n",
            "       'O(NlogN)', 'O(N2)', 'O(N)'],\n",
            "      dtype='object')\n"
          ]
        }
      ]
    },
    {
      "cell_type": "code",
      "source": [
        "#Splitting the data into independent and dependent variables\n",
        "X = df.iloc[:,0:128].values\n",
        "y = df.iloc[:,128].values\n",
        "print('The independent features set: ')\n",
        "print(X[:5,:])\n",
        "print('The dependent variable: ')\n",
        "print(y[:5])"
      ],
      "metadata": {
        "colab": {
          "base_uri": "https://localhost:8080/"
        },
        "id": "MFrt0_OMJ_W6",
        "outputId": "080b62f2-a5ab-41ec-ea54-0e14ec479140"
      },
      "execution_count": null,
      "outputs": [
        {
          "output_type": "stream",
          "name": "stdout",
          "text": [
            "The independent features set: \n",
            "[[-5.83184287e-02  3.71529967e-01 -2.88323965e-02  1.55028060e-01\n",
            "   3.11014682e-01  1.00550026e-01  5.99360764e-02 -3.60761136e-01\n",
            "   1.44105852e-01  3.35489400e-02 -3.26490730e-01 -1.46469802e-01\n",
            "  -1.58249080e-01  8.42799172e-02 -1.56572074e-01 -6.25618100e-02\n",
            "   1.79115199e-02 -6.21027872e-02 -4.91600335e-02  3.89916211e-01\n",
            "  -1.46600425e-01  8.72108266e-02 -6.90339282e-02 -1.86637864e-01\n",
            "   4.93713245e-02  4.02110219e-02  1.68428034e-01  1.20966127e-02\n",
            "  -5.01116753e-01  2.01332048e-01 -1.36490002e-01 -5.06071329e-01\n",
            "   1.30972713e-01  3.99992436e-01 -5.79397716e-02  2.12425098e-01\n",
            "   2.67079026e-01  7.10954294e-02  3.29857349e-01  2.58917511e-01\n",
            "   1.54078141e-01 -3.46699953e-01  5.03761582e-02 -1.37354985e-01\n",
            "  -1.46855399e-01  2.39136890e-01  1.41890749e-01 -2.20331624e-01\n",
            "   1.15752794e-01  2.84888089e-01 -1.10822842e-01 -4.63338494e-01\n",
            "   2.44946837e-01  4.53784674e-01  1.73191175e-01 -9.71864909e-02\n",
            "   1.07007056e-01  1.23845637e-01  4.40136716e-02  7.39401802e-02\n",
            "  -4.66513261e-02  1.19500935e-01 -6.34628534e-02  1.57176837e-01\n",
            "   2.03625694e-01 -1.41788051e-01  1.70824021e-01  2.15624988e-01\n",
            "  -2.29737479e-02 -3.59816492e-01 -2.55383193e-01 -1.41531825e-01\n",
            "   2.39819199e-01 -3.76144528e-01 -3.45273882e-01 -4.19865429e-01\n",
            "   2.88450122e-01  2.94362724e-01 -1.35407254e-01  2.18304381e-01\n",
            "   3.68371248e-01 -2.17595056e-01 -8.13572943e-01 -9.99278352e-02\n",
            "  -4.54193316e-02  3.87590230e-01  4.84496862e-01  1.82885855e-01\n",
            "   1.62250981e-01  1.18180633e-01 -1.10631570e-01  2.15374842e-01\n",
            "  -3.86663765e-01 -4.08860222e-02  1.32906318e-01  3.02820802e-01\n",
            "   6.05803728e-01  1.72035441e-01 -2.04143435e-01  3.60669382e-02\n",
            "   2.85164088e-01 -2.91248485e-02 -2.23110855e-01 -3.52369249e-01\n",
            "   4.96147752e-01 -2.54758835e-01 -1.33784458e-01  3.01724076e-02\n",
            "   3.51081550e-01 -8.63845721e-02  3.66331995e-01  1.20671518e-01\n",
            "   1.88544899e-01 -7.46104270e-02 -5.95418155e-01 -4.20720607e-01\n",
            "  -1.95291236e-01  1.97984606e-01  6.96248412e-02 -6.16771244e-02\n",
            "  -1.99010581e-01 -1.35601759e-02  2.29572535e-01 -3.41652811e-01\n",
            "   2.04260409e-01  6.85575465e-03 -2.23415360e-01  1.23303808e-01]\n",
            " [-1.26693934e-01  2.39839181e-01  5.48360422e-02  1.89516321e-01\n",
            "   1.98030397e-01  1.36487752e-01 -1.19842269e-01 -2.70117372e-02\n",
            "   1.58464581e-01  6.16460331e-02  1.82584986e-01 -5.27585804e-01\n",
            "   5.22287667e-01  1.64572909e-01  1.11724734e-01 -1.44721001e-01\n",
            "   2.76994240e-02  7.33580664e-02  4.99947146e-02  3.14185977e-01\n",
            "  -3.84390414e-01 -4.69154380e-02 -1.04368307e-01 -3.12524855e-01\n",
            "  -5.88895008e-03 -1.65257175e-02 -1.47478729e-01  2.76229084e-01\n",
            "  -2.74421215e-01  3.88504356e-01  6.64152354e-02 -4.56655473e-01\n",
            "   3.65241855e-01  1.36004329e-01  1.10645778e-01  4.18497562e-01\n",
            "   1.76044285e-01  5.05770028e-01  3.95574361e-01 -3.46505344e-02\n",
            "   1.06776409e-01 -5.82746089e-01  1.37510911e-01 -4.50523347e-02\n",
            "  -9.27086473e-02  1.28346130e-01 -9.96880159e-02 -2.49952406e-01\n",
            "   2.62136936e-01  2.64498293e-01 -3.28137547e-01 -1.08919092e-01\n",
            "   1.33835435e-01  3.27444136e-01  3.84122729e-02 -2.12239012e-01\n",
            "   1.97773948e-01  2.37642229e-01  4.90835160e-02 -2.62586623e-01\n",
            "   3.31955217e-02 -8.55961442e-02 -2.72869617e-01 -4.52691466e-02\n",
            "   3.70440423e-01 -2.61316061e-01  2.05274194e-01  3.80309939e-01\n",
            "  -2.20365837e-01 -4.37909842e-01 -2.83065379e-01 -5.29123656e-03\n",
            "  -4.91486341e-02 -2.16466635e-01 -4.90839720e-01 -1.46912277e-01\n",
            "   2.84258395e-01  2.69812196e-01 -5.15617579e-02  7.53901973e-02\n",
            "  -1.88993383e-02 -2.44085453e-02 -1.22886501e-01 -2.91655213e-01\n",
            "  -1.34821415e-01  7.57969392e-04  6.33064806e-01 -3.59949499e-01\n",
            "  -3.30827981e-01  3.67563069e-01 -2.00792421e-02  1.76950485e-01\n",
            "  -9.33747143e-02 -1.70590803e-01 -5.78769259e-02  5.07827878e-01\n",
            "   3.85558784e-01  3.94036591e-01 -3.24551910e-01  1.50549337e-01\n",
            "   3.86540890e-02 -1.95221663e-01  1.17096990e-01 -2.23644450e-01\n",
            "   4.43326145e-01 -1.84633937e-02  4.29529786e-01  1.12049706e-01\n",
            "   8.87434706e-02 -3.80506605e-01  5.56808412e-01 -7.05762878e-02\n",
            "   1.78822957e-03 -4.61210571e-02 -4.85168219e-01 -4.91117209e-01\n",
            "  -5.12564518e-02  2.18175501e-01 -3.85263920e-01  9.83149782e-02\n",
            "  -2.95999378e-01 -5.89064090e-03  1.18667856e-02 -4.83232051e-01\n",
            "   4.08095360e-01  1.19076610e-01 -2.62968868e-01  2.41840243e-01]\n",
            " [-5.83184287e-02  3.71529967e-01 -2.88323965e-02  1.55028060e-01\n",
            "   3.11014682e-01  1.00550026e-01  5.99360764e-02 -3.60761136e-01\n",
            "   1.44105852e-01  3.35489400e-02 -3.26490730e-01 -1.46469802e-01\n",
            "  -1.58249080e-01  8.42799172e-02 -1.56572074e-01 -6.25618100e-02\n",
            "   1.79115199e-02 -6.21027872e-02 -4.91600335e-02  3.89916211e-01\n",
            "  -1.46600425e-01  8.72108266e-02 -6.90339282e-02 -1.86637864e-01\n",
            "   4.93713245e-02  4.02110219e-02  1.68428034e-01  1.20966127e-02\n",
            "  -5.01116753e-01  2.01332048e-01 -1.36490002e-01 -5.06071329e-01\n",
            "   1.30972713e-01  3.99992436e-01 -5.79397716e-02  2.12425098e-01\n",
            "   2.67079026e-01  7.10954294e-02  3.29857349e-01  2.58917511e-01\n",
            "   1.54078141e-01 -3.46699953e-01  5.03761582e-02 -1.37354985e-01\n",
            "  -1.46855399e-01  2.39136890e-01  1.41890749e-01 -2.20331624e-01\n",
            "   1.15752794e-01  2.84888089e-01 -1.10822842e-01 -4.63338494e-01\n",
            "   2.44946837e-01  4.53784674e-01  1.73191175e-01 -9.71864909e-02\n",
            "   1.07007056e-01  1.23845637e-01  4.40136716e-02  7.39401802e-02\n",
            "  -4.66513261e-02  1.19500935e-01 -6.34628534e-02  1.57176837e-01\n",
            "   2.03625694e-01 -1.41788051e-01  1.70824021e-01  2.15624988e-01\n",
            "  -2.29737479e-02 -3.59816492e-01 -2.55383193e-01 -1.41531825e-01\n",
            "   2.39819199e-01 -3.76144528e-01 -3.45273882e-01 -4.19865429e-01\n",
            "   2.88450122e-01  2.94362724e-01 -1.35407254e-01  2.18304381e-01\n",
            "   3.68371248e-01 -2.17595056e-01 -8.13572943e-01 -9.99278352e-02\n",
            "  -4.54193316e-02  3.87590230e-01  4.84496862e-01  1.82885855e-01\n",
            "   1.62250981e-01  1.18180633e-01 -1.10631570e-01  2.15374842e-01\n",
            "  -3.86663765e-01 -4.08860222e-02  1.32906318e-01  3.02820802e-01\n",
            "   6.05803728e-01  1.72035441e-01 -2.04143435e-01  3.60669382e-02\n",
            "   2.85164088e-01 -2.91248485e-02 -2.23110855e-01 -3.52369249e-01\n",
            "   4.96147752e-01 -2.54758835e-01 -1.33784458e-01  3.01724076e-02\n",
            "   3.51081550e-01 -8.63845721e-02  3.66331995e-01  1.20671518e-01\n",
            "   1.88544899e-01 -7.46104270e-02 -5.95418155e-01 -4.20720607e-01\n",
            "  -1.95291236e-01  1.97984606e-01  6.96248412e-02 -6.16771244e-02\n",
            "  -1.99010581e-01 -1.35601759e-02  2.29572535e-01 -3.41652811e-01\n",
            "   2.04260409e-01  6.85575465e-03 -2.23415360e-01  1.23303808e-01]\n",
            " [-5.83184287e-02  3.71529967e-01 -2.88323965e-02  1.55028060e-01\n",
            "   3.11014682e-01  1.00550026e-01  5.99360764e-02 -3.60761136e-01\n",
            "   1.44105852e-01  3.35489400e-02 -3.26490730e-01 -1.46469802e-01\n",
            "  -1.58249080e-01  8.42799172e-02 -1.56572074e-01 -6.25618100e-02\n",
            "   1.79115199e-02 -6.21027872e-02 -4.91600335e-02  3.89916211e-01\n",
            "  -1.46600425e-01  8.72108266e-02 -6.90339282e-02 -1.86637864e-01\n",
            "   4.93713245e-02  4.02110219e-02  1.68428034e-01  1.20966127e-02\n",
            "  -5.01116753e-01  2.01332048e-01 -1.36490002e-01 -5.06071329e-01\n",
            "   1.30972713e-01  3.99992436e-01 -5.79397716e-02  2.12425098e-01\n",
            "   2.67079026e-01  7.10954294e-02  3.29857349e-01  2.58917511e-01\n",
            "   1.54078141e-01 -3.46699953e-01  5.03761582e-02 -1.37354985e-01\n",
            "  -1.46855399e-01  2.39136890e-01  1.41890749e-01 -2.20331624e-01\n",
            "   1.15752794e-01  2.84888089e-01 -1.10822842e-01 -4.63338494e-01\n",
            "   2.44946837e-01  4.53784674e-01  1.73191175e-01 -9.71864909e-02\n",
            "   1.07007056e-01  1.23845637e-01  4.40136716e-02  7.39401802e-02\n",
            "  -4.66513261e-02  1.19500935e-01 -6.34628534e-02  1.57176837e-01\n",
            "   2.03625694e-01 -1.41788051e-01  1.70824021e-01  2.15624988e-01\n",
            "  -2.29737479e-02 -3.59816492e-01 -2.55383193e-01 -1.41531825e-01\n",
            "   2.39819199e-01 -3.76144528e-01 -3.45273882e-01 -4.19865429e-01\n",
            "   2.88450122e-01  2.94362724e-01 -1.35407254e-01  2.18304381e-01\n",
            "   3.68371248e-01 -2.17595056e-01 -8.13572943e-01 -9.99278352e-02\n",
            "  -4.54193316e-02  3.87590230e-01  4.84496862e-01  1.82885855e-01\n",
            "   1.62250981e-01  1.18180633e-01 -1.10631570e-01  2.15374842e-01\n",
            "  -3.86663765e-01 -4.08860222e-02  1.32906318e-01  3.02820802e-01\n",
            "   6.05803728e-01  1.72035441e-01 -2.04143435e-01  3.60669382e-02\n",
            "   2.85164088e-01 -2.91248485e-02 -2.23110855e-01 -3.52369249e-01\n",
            "   4.96147752e-01 -2.54758835e-01 -1.33784458e-01  3.01724076e-02\n",
            "   3.51081550e-01 -8.63845721e-02  3.66331995e-01  1.20671518e-01\n",
            "   1.88544899e-01 -7.46104270e-02 -5.95418155e-01 -4.20720607e-01\n",
            "  -1.95291236e-01  1.97984606e-01  6.96248412e-02 -6.16771244e-02\n",
            "  -1.99010581e-01 -1.35601759e-02  2.29572535e-01 -3.41652811e-01\n",
            "   2.04260409e-01  6.85575465e-03 -2.23415360e-01  1.23303808e-01]\n",
            " [-1.26693934e-01  2.39839181e-01  5.48360422e-02  1.89516321e-01\n",
            "   1.98030397e-01  1.36487752e-01 -1.19842269e-01 -2.70117372e-02\n",
            "   1.58464581e-01  6.16460331e-02  1.82584986e-01 -5.27585804e-01\n",
            "   5.22287667e-01  1.64572909e-01  1.11724734e-01 -1.44721001e-01\n",
            "   2.76994240e-02  7.33580664e-02  4.99947146e-02  3.14185977e-01\n",
            "  -3.84390414e-01 -4.69154380e-02 -1.04368307e-01 -3.12524855e-01\n",
            "  -5.88895008e-03 -1.65257175e-02 -1.47478729e-01  2.76229084e-01\n",
            "  -2.74421215e-01  3.88504356e-01  6.64152354e-02 -4.56655473e-01\n",
            "   3.65241855e-01  1.36004329e-01  1.10645778e-01  4.18497562e-01\n",
            "   1.76044285e-01  5.05770028e-01  3.95574361e-01 -3.46505344e-02\n",
            "   1.06776409e-01 -5.82746089e-01  1.37510911e-01 -4.50523347e-02\n",
            "  -9.27086473e-02  1.28346130e-01 -9.96880159e-02 -2.49952406e-01\n",
            "   2.62136936e-01  2.64498293e-01 -3.28137547e-01 -1.08919092e-01\n",
            "   1.33835435e-01  3.27444136e-01  3.84122729e-02 -2.12239012e-01\n",
            "   1.97773948e-01  2.37642229e-01  4.90835160e-02 -2.62586623e-01\n",
            "   3.31955217e-02 -8.55961442e-02 -2.72869617e-01 -4.52691466e-02\n",
            "   3.70440423e-01 -2.61316061e-01  2.05274194e-01  3.80309939e-01\n",
            "  -2.20365837e-01 -4.37909842e-01 -2.83065379e-01 -5.29123656e-03\n",
            "  -4.91486341e-02 -2.16466635e-01 -4.90839720e-01 -1.46912277e-01\n",
            "   2.84258395e-01  2.69812196e-01 -5.15617579e-02  7.53901973e-02\n",
            "  -1.88993383e-02 -2.44085453e-02 -1.22886501e-01 -2.91655213e-01\n",
            "  -1.34821415e-01  7.57969392e-04  6.33064806e-01 -3.59949499e-01\n",
            "  -3.30827981e-01  3.67563069e-01 -2.00792421e-02  1.76950485e-01\n",
            "  -9.33747143e-02 -1.70590803e-01 -5.78769259e-02  5.07827878e-01\n",
            "   3.85558784e-01  3.94036591e-01 -3.24551910e-01  1.50549337e-01\n",
            "   3.86540890e-02 -1.95221663e-01  1.17096990e-01 -2.23644450e-01\n",
            "   4.43326145e-01 -1.84633937e-02  4.29529786e-01  1.12049706e-01\n",
            "   8.87434706e-02 -3.80506605e-01  5.56808412e-01 -7.05762878e-02\n",
            "   1.78822957e-03 -4.61210571e-02 -4.85168219e-01 -4.91117209e-01\n",
            "  -5.12564518e-02  2.18175501e-01 -3.85263920e-01  9.83149782e-02\n",
            "  -2.95999378e-01 -5.89064090e-03  1.18667856e-02 -4.83232051e-01\n",
            "   4.08095360e-01  1.19076610e-01 -2.62968868e-01  2.41840243e-01]]\n",
            "The dependent variable: \n",
            "[0 0 0 0 0]\n"
          ]
        }
      ]
    },
    {
      "cell_type": "code",
      "source": [
        "y = df['Complexity']"
      ],
      "metadata": {
        "id": "ASsrqGP24gX7"
      },
      "execution_count": null,
      "outputs": []
    },
    {
      "cell_type": "code",
      "source": [
        "# Creating the Training and Test set from data\n",
        "X_train, X_test, y_train, y_test = train_test_split(X, y, test_size = 0.25, random_state = 21)"
      ],
      "metadata": {
        "id": "nNa27HgiKe9Z"
      },
      "execution_count": null,
      "outputs": []
    },
    {
      "cell_type": "code",
      "source": [
        "# Feature Scaling\n",
        "scaler = StandardScaler()\n",
        "X_train = scaler.fit_transform(X_train)\n",
        "X_test = scaler.transform(X_test)"
      ],
      "metadata": {
        "id": "-X0GeSHpKg10"
      },
      "execution_count": null,
      "outputs": []
    },
    {
      "cell_type": "code",
      "source": [
        "# Fitting Random Forest Classification to the Training set\n",
        "classifier = RandomForestClassifier(n_estimators = 10, criterion = 'entropy', random_state = 42)\n",
        "classifier.fit(X_train, y_train)"
      ],
      "metadata": {
        "colab": {
          "base_uri": "https://localhost:8080/"
        },
        "id": "qdzk6nnWKjxT",
        "outputId": "7cb4c476-75b7-45a3-efc4-398c9077f42e"
      },
      "execution_count": null,
      "outputs": [
        {
          "output_type": "execute_result",
          "data": {
            "text/plain": [
              "RandomForestClassifier(criterion='entropy', n_estimators=10, random_state=42)"
            ]
          },
          "metadata": {},
          "execution_count": 179
        }
      ]
    },
    {
      "cell_type": "code",
      "source": [
        "classifier.feature_importances_"
      ],
      "metadata": {
        "colab": {
          "base_uri": "https://localhost:8080/"
        },
        "id": "0MA9eE5GCaU3",
        "outputId": "4c80cfc3-9f2e-4b7a-8a8a-4b8651a98801"
      },
      "execution_count": null,
      "outputs": [
        {
          "output_type": "execute_result",
          "data": {
            "text/plain": [
              "array([0.00205803, 0.00237477, 0.00239716, 0.00552286, 0.01471145,\n",
              "       0.00212888, 0.00694612, 0.00385987, 0.00483586, 0.05223379,\n",
              "       0.00314202, 0.01011986, 0.0026974 , 0.00342127, 0.00481718,\n",
              "       0.00596554, 0.02177389, 0.00769698, 0.00957972, 0.00661188,\n",
              "       0.0065447 , 0.01711189, 0.00281484, 0.00065235, 0.00397032,\n",
              "       0.01659198, 0.00645448, 0.00492351, 0.00911513, 0.00263961,\n",
              "       0.00668424, 0.00254609, 0.00942314, 0.00114929, 0.00401649,\n",
              "       0.00311682, 0.01076222, 0.00093524, 0.00571821, 0.00231515,\n",
              "       0.00631009, 0.00884347, 0.01176997, 0.01096665, 0.00269361,\n",
              "       0.0063827 , 0.00585598, 0.01104356, 0.00338085, 0.00250772,\n",
              "       0.00783922, 0.00411885, 0.01797771, 0.00804573, 0.00554753,\n",
              "       0.01117641, 0.01067285, 0.0054516 , 0.04774338, 0.00467235,\n",
              "       0.01002134, 0.00337058, 0.00185311, 0.00475257, 0.00407477,\n",
              "       0.01380346, 0.00860686, 0.00961504, 0.00298574, 0.00746593,\n",
              "       0.01191068, 0.00910007, 0.0086921 , 0.00342453, 0.00418802,\n",
              "       0.01249387, 0.00267639, 0.00510895, 0.01007627, 0.01744828,\n",
              "       0.00322973, 0.0007763 , 0.00168169, 0.00338783, 0.00528734,\n",
              "       0.00385361, 0.00881399, 0.00727794, 0.0024415 , 0.0037383 ,\n",
              "       0.01135092, 0.00935533, 0.00576235, 0.03876199, 0.00481438,\n",
              "       0.00795078, 0.00135225, 0.00748221, 0.0007723 , 0.01305487,\n",
              "       0.00170091, 0.00799467, 0.00200289, 0.00126878, 0.00318911,\n",
              "       0.01892784, 0.00357079, 0.00850494, 0.00233428, 0.01953527,\n",
              "       0.00687432, 0.00699023, 0.00231186, 0.00671893, 0.00486473,\n",
              "       0.0100737 , 0.00634624, 0.02800132, 0.00503616, 0.0234425 ,\n",
              "       0.00345525, 0.01206221, 0.0017887 , 0.00321541, 0.0010014 ,\n",
              "       0.0168631 , 0.01118496, 0.00454489])"
            ]
          },
          "metadata": {},
          "execution_count": 180
        }
      ]
    },
    {
      "cell_type": "code",
      "source": [
        "num_classes = len(set(df_upsampled['Complexity']))\n",
        "num_classes"
      ],
      "metadata": {
        "colab": {
          "base_uri": "https://localhost:8080/"
        },
        "id": "ZCYQ8WC-QXo7",
        "outputId": "245b8792-3094-4ac7-fef4-f5f552523623"
      },
      "execution_count": null,
      "outputs": [
        {
          "output_type": "execute_result",
          "data": {
            "text/plain": [
              "10"
            ]
          },
          "metadata": {},
          "execution_count": 181
        }
      ]
    },
    {
      "cell_type": "code",
      "source": [
        "# Predicting the Test set results\n",
        "y_pred = classifier.predict(X_test)\n",
        "reversefactor = dict(zip(range(num_classes),definitions))\n",
        "y_test = np.vectorize(reversefactor.get)(y_test)\n",
        "y_pred = np.vectorize(reversefactor.get)(y_pred)"
      ],
      "metadata": {
        "id": "hRvFjO7RKnUr"
      },
      "execution_count": null,
      "outputs": []
    },
    {
      "cell_type": "code",
      "source": [
        "from matplotlib import pyplot as plt\n",
        "plt.barh(df.columns[0:128], classifier.feature_importances_)"
      ],
      "metadata": {
        "colab": {
          "base_uri": "https://localhost:8080/",
          "height": 291
        },
        "id": "R7jN-jNbCdbb",
        "outputId": "daca8597-39b1-47ae-8ddb-23d4a06af935"
      },
      "execution_count": null,
      "outputs": [
        {
          "output_type": "execute_result",
          "data": {
            "text/plain": [
              "<BarContainer object of 128 artists>"
            ]
          },
          "metadata": {},
          "execution_count": 183
        },
        {
          "output_type": "display_data",
          "data": {
            "text/plain": [
              "<Figure size 432x288 with 1 Axes>"
            ],
            "image/png": "[encoded data removed]"
          },
          "metadata": {}
        }
      ]
    },
    {
      "cell_type": "code",
      "source": [
        "sorted_idx = classifier.feature_importances_.argsort()\n",
        "plt.barh(df.columns[0:128][sorted_idx], classifier.feature_importances_[sorted_idx])\n",
        "plt.xlabel(\"Random Forest Feature Importance\")"
      ],
      "metadata": {
        "colab": {
          "base_uri": "https://localhost:8080/",
          "height": 313
        },
        "id": "3kDew2nGEBts",
        "outputId": "105dcfa3-07b1-4acb-d0c3-8ac15e32b9cb"
      },
      "execution_count": null,
      "outputs": [
        {
          "output_type": "execute_result",
          "data": {
            "text/plain": [
              "Text(0.5, 0, 'Random Forest Feature Importance')"
            ]
          },
          "metadata": {},
          "execution_count": 184
        },
        {
          "output_type": "display_data",
          "data": {
            "text/plain": [
              "<Figure size 432x288 with 1 Axes>"
            ],
            "image/png": "[encoded data removed]"
          },
          "metadata": {}
        }
      ]
    },
    {
      "cell_type": "code",
      "source": [
        "from sklearn.ensemble import RandomForestRegressor\n",
        "from sklearn.inspection import permutation_importance\n",
        "import shap\n",
        "import warnings as wr\n",
        "wr.filterwarnings('ignore')\n",
        "perm_importance = permutation_importance(classifier, X_test, y_test)"
      ],
      "metadata": {
        "id": "BTHfqMxQEVXU"
      },
      "execution_count": null,
      "outputs": []
    },
    {
      "cell_type": "code",
      "source": [
        "sorted_idx = perm_importance.importances_mean.argsort()\n",
        "plt.barh(df.columns[0:128][sorted_idx], perm_importance.importances_mean[sorted_idx])\n",
        "plt.xlabel(\"Permutation Importance\")"
      ],
      "metadata": {
        "colab": {
          "base_uri": "https://localhost:8080/",
          "height": 313
        },
        "id": "bbSUj4kgFK98",
        "outputId": "85bfc39c-aea8-4188-8715-3120235bb47c"
      },
      "execution_count": null,
      "outputs": [
        {
          "output_type": "execute_result",
          "data": {
            "text/plain": [
              "Text(0.5, 0, 'Permutation Importance')"
            ]
          },
          "metadata": {},
          "execution_count": 186
        },
        {
          "output_type": "display_data",
          "data": {
            "text/plain": [
              "<Figure size 432x288 with 1 Axes>"
            ],
            "image/png": "[encoded data removed]"
          },
          "metadata": {}
        }
      ]
    },
    {
      "cell_type": "code",
      "source": [
        "explainer = shap.TreeExplainer(classifier)\n",
        "shap_values = explainer.shap_values(X_test)"
      ],
      "metadata": {
        "id": "s8aTDbQsGdwG"
      },
      "execution_count": null,
      "outputs": []
    },
    {
      "cell_type": "code",
      "source": [
        "shap.summary_plot(shap_values, X_test, plot_type=\"bar\")"
      ],
      "metadata": {
        "colab": {
          "base_uri": "https://localhost:8080/",
          "height": 679
        },
        "id": "fqrZ_yRLGodX",
        "outputId": "5741b2b9-1e1b-462f-a132-7485ffa86097"
      },
      "execution_count": null,
      "outputs": [
        {
          "output_type": "display_data",
          "data": {
            "text/plain": [
              "<Figure size 576x684 with 1 Axes>"
            ],
            "image/png": "[encoded data removed]"
          },
          "metadata": {}
        }
      ]
    },
    {
      "cell_type": "code",
      "source": [
        "shap.summary_plot(shap_values, X_test)"
      ],
      "metadata": {
        "colab": {
          "base_uri": "https://localhost:8080/",
          "height": 679
        },
        "id": "MvyNDA10Gojz",
        "outputId": "12104dda-b19f-4629-e09d-92461c5e04a8"
      },
      "execution_count": null,
      "outputs": [
        {
          "output_type": "display_data",
          "data": {
            "text/plain": [
              "<Figure size 576x684 with 1 Axes>"
            ],
            "image/png": "[encoded data removed]"
          },
          "metadata": {}
        }
      ]
    },
    {
      "cell_type": "code",
      "source": [
        "import numpy as np\n",
        "vals= np.abs(shap_values).mean(0)\n",
        "\n",
        "feature_importance = pd.DataFrame(list(zip(df.columns[0:128], sum(vals))), columns=['col_name','feature_importance_vals'])\n",
        "feature_importance.sort_values(by=['feature_importance_vals'], ascending=False,inplace=True)\n",
        "feature_importance"
      ],
      "metadata": {
        "colab": {
          "base_uri": "https://localhost:8080/",
          "height": 423
        },
        "id": "S47hYSfuHa6c",
        "outputId": "9787f799-ee42-42ab-fc10-86e82d5fe633"
      },
      "execution_count": null,
      "outputs": [
        {
          "output_type": "execute_result",
          "data": {
            "text/plain": [
              "    col_name  feature_importance_vals\n",
              "9      emb10                15.797250\n",
              "58     emb59                15.066957\n",
              "93     emb94                11.663086\n",
              "117   emb118                 8.820279\n",
              "119   emb120                 7.917465\n",
              "..       ...                      ...\n",
              "37     emb38                 0.337182\n",
              "23     emb24                 0.296494\n",
              "124   emb125                 0.278795\n",
              "81     emb82                 0.265759\n",
              "98     emb99                 0.231955\n",
              "\n",
              "[128 rows x 2 columns]"
            ],
            "text/html": [
              "\n",
              "  <div id=\"df-3f097daa-7159-4ee0-95b0-aaf6b2894703\">\n",
              "    <div class=\"colab-df-container\">\n",
              "      <div>\n",
              "<style scoped>\n",
              "    .dataframe tbody tr th:only-of-type {\n",
              "        vertical-align: middle;\n",
              "    }\n",
              "\n",
              "    .dataframe tbody tr th {\n",
              "        vertical-align: top;\n",
              "    }\n",
              "\n",
              "    .dataframe thead th {\n",
              "        text-align: right;\n",
              "    }\n",
              "</style>\n",
              "<table border=\"1\" class=\"dataframe\">\n",
              "  <thead>\n",
              "    <tr style=\"text-align: right;\">\n",
              "      <th></th>\n",
              "      <th>col_name</th>\n",
              "      <th>feature_importance_vals</th>\n",
              "    </tr>\n",
              "  </thead>\n",
              "  <tbody>\n",
              "    <tr>\n",
              "      <th>9</th>\n",
              "      <td>emb10</td>\n",
              "      <td>15.797250</td>\n",
              "    </tr>\n",
              "    <tr>\n",
              "      <th>58</th>\n",
              "      <td>emb59</td>\n",
              "      <td>15.066957</td>\n",
              "    </tr>\n",
              "    <tr>\n",
              "      <th>93</th>\n",
              "      <td>emb94</td>\n",
              "      <td>11.663086</td>\n",
              "    </tr>\n",
              "    <tr>\n",
              "      <th>117</th>\n",
              "      <td>emb118</td>\n",
              "      <td>8.820279</td>\n",
              "    </tr>\n",
              "    <tr>\n",
              "      <th>119</th>\n",
              "      <td>emb120</td>\n",
              "      <td>7.917465</td>\n",
              "    </tr>\n",
              "    <tr>\n",
              "      <th>...</th>\n",
              "      <td>...</td>\n",
              "      <td>...</td>\n",
              "    </tr>\n",
              "    <tr>\n",
              "      <th>37</th>\n",
              "      <td>emb38</td>\n",
              "      <td>0.337182</td>\n",
              "    </tr>\n",
              "    <tr>\n",
              "      <th>23</th>\n",
              "      <td>emb24</td>\n",
              "      <td>0.296494</td>\n",
              "    </tr>\n",
              "    <tr>\n",
              "      <th>124</th>\n",
              "      <td>emb125</td>\n",
              "      <td>0.278795</td>\n",
              "    </tr>\n",
              "    <tr>\n",
              "      <th>81</th>\n",
              "      <td>emb82</td>\n",
              "      <td>0.265759</td>\n",
              "    </tr>\n",
              "    <tr>\n",
              "      <th>98</th>\n",
              "      <td>emb99</td>\n",
              "      <td>0.231955</td>\n",
              "    </tr>\n",
              "  </tbody>\n",
              "</table>\n",
              "<p>128 rows × 2 columns</p>\n",
              "</div>\n",
              "      <button class=\"colab-df-convert\" onclick=\"convertToInteractive('df-3f097daa-7159-4ee0-95b0-aaf6b2894703')\"\n",
              "              title=\"Convert this dataframe to an interactive table.\"\n",
              "              style=\"display:none;\">\n",
              "        \n",
              "  <svg xmlns=\"http://www.w3.org/2000/svg\" height=\"24px\"viewBox=\"0 0 24 24\"\n",
              "       width=\"24px\">\n",
              "    <path d=\"M0 0h24v24H0V0z\" fill=\"none\"/>\n",
              "    <path d=\"M18.56 5.44l.94 2.06.94-2.06 2.06-.94-2.06-.94-.94-2.06-.94 2.06-2.06.94zm-11 1L8.5 8.5l.94-2.06 2.06-.94-2.06-.94L8.5 2.5l-.94 2.06-2.06.94zm10 10l.94 2.06.94-2.06 2.06-.94-2.06-.94-.94-2.06-.94 2.06-2.06.94z\"/><path d=\"M17.41 7.96l-1.37-1.37c-.4-.4-.92-.59-1.43-.59-.52 0-1.04.2-1.43.59L10.3 9.45l-7.72 7.72c-.78.78-.78 2.05 0 2.83L4 21.41c.39.39.9.59 1.41.59.51 0 1.02-.2 1.41-.59l7.78-7.78 2.81-2.81c.8-.78.8-2.07 0-2.86zM5.41 20L4 18.59l7.72-7.72 1.47 1.35L5.41 20z\"/>\n",
              "  </svg>\n",
              "      </button>\n",
              "      \n",
              "  <style>\n",
              "    .colab-df-container {\n",
              "      display:flex;\n",
              "      flex-wrap:wrap;\n",
              "      gap: 12px;\n",
              "    }\n",
              "\n",
              "    .colab-df-convert {\n",
              "      background-color: #E8F0FE;\n",
              "      border: none;\n",
              "      border-radius: 50%;\n",
              "      cursor: pointer;\n",
              "      display: none;\n",
              "      fill: #1967D2;\n",
              "      height: 32px;\n",
              "      padding: 0 0 0 0;\n",
              "      width: 32px;\n",
              "    }\n",
              "\n",
              "    .colab-df-convert:hover {\n",
              "      background-color: #E2EBFA;\n",
              "      box-shadow: 0px 1px 2px rgba(60, 64, 67, 0.3), 0px 1px 3px 1px rgba(60, 64, 67, 0.15);\n",
              "      fill: #174EA6;\n",
              "    }\n",
              "\n",
              "    [theme=dark] .colab-df-convert {\n",
              "      background-color: #3B4455;\n",
              "      fill: #D2E3FC;\n",
              "    }\n",
              "\n",
              "    [theme=dark] .colab-df-convert:hover {\n",
              "      background-color: #434B5C;\n",
              "      box-shadow: 0px 1px 3px 1px rgba(0, 0, 0, 0.15);\n",
              "      filter: drop-shadow(0px 1px 2px rgba(0, 0, 0, 0.3));\n",
              "      fill: #FFFFFF;\n",
              "    }\n",
              "  </style>\n",
              "\n",
              "      <script>\n",
              "        const buttonEl =\n",
              "          document.querySelector('#df-3f097daa-7159-4ee0-95b0-aaf6b2894703 button.colab-df-convert');\n",
              "        buttonEl.style.display =\n",
              "          google.colab.kernel.accessAllowed ? 'block' : 'none';\n",
              "\n",
              "        async function convertToInteractive(key) {\n",
              "          const element = document.querySelector('#df-3f097daa-7159-4ee0-95b0-aaf6b2894703');\n",
              "          const dataTable =\n",
              "            await google.colab.kernel.invokeFunction('convertToInteractive',\n",
              "                                                     [key], {});\n",
              "          if (!dataTable) return;\n",
              "\n",
              "          const docLinkHtml = 'Like what you see? Visit the ' +\n",
              "            '<a target=\"_blank\" href=https://colab.research.google.com/notebooks/data_table.ipynb>data table notebook</a>'\n",
              "            + ' to learn more about interactive tables.';\n",
              "          element.innerHTML = '';\n",
              "          dataTable['output_type'] = 'display_data';\n",
              "          await google.colab.output.renderOutput(dataTable, element);\n",
              "          const docLink = document.createElement('div');\n",
              "          docLink.innerHTML = docLinkHtml;\n",
              "          element.appendChild(docLink);\n",
              "        }\n",
              "      </script>\n",
              "    </div>\n",
              "  </div>\n",
              "  "
            ]
          },
          "metadata": {},
          "execution_count": 190
        }
      ]
    },
    {
      "cell_type": "code",
      "source": [
        "new_df = pd.DataFrame()"
      ],
      "metadata": {
        "id": "qJueLIa-MRgp"
      },
      "execution_count": null,
      "outputs": []
    },
    {
      "cell_type": "code",
      "source": [
        "c=0\n",
        "for row, col in feature_importance.iterrows():\n",
        "  new_df[col[0]] = df[col[0]]\n",
        "  c+=1\n",
        "  if c== 20:\n",
        "    break\n",
        "new_df['Complexity'] = df['Complexity']\n",
        "new_df"
      ],
      "metadata": {
        "colab": {
          "base_uri": "https://localhost:8080/",
          "height": 487
        },
        "id": "ZMwebUJeMWma",
        "outputId": "976538f4-b608-4b67-f4cc-2dda1baa7b16"
      },
      "execution_count": null,
      "outputs": [
        {
          "output_type": "execute_result",
          "data": {
            "text/plain": [
              "        emb10     emb59     emb94    emb118    emb120     emb22     emb53  \\\n",
              "426  0.033549  0.044014 -0.040886  0.197985 -0.061677  0.087211  0.244947   \n",
              "118  0.061646  0.049084 -0.170591  0.218176  0.098315 -0.046915  0.133835   \n",
              "426  0.033549  0.044014 -0.040886  0.197985 -0.061677  0.087211  0.244947   \n",
              "426  0.033549  0.044014 -0.040886  0.197985 -0.061677  0.087211  0.244947   \n",
              "118  0.061646  0.049084 -0.170591  0.218176  0.098315 -0.046915  0.133835   \n",
              "..        ...       ...       ...       ...       ...       ...       ...   \n",
              "603  0.474443 -0.091523  0.581903  0.420108 -0.713122  0.166231  0.044426   \n",
              "604  0.045316 -0.194377 -0.254264  0.486741 -0.113071  0.487490  0.225835   \n",
              "605 -0.127935 -0.068997 -0.081941  0.296270 -0.299855  0.371030  0.402610   \n",
              "606  0.179867 -0.253822  0.284089  0.468238 -0.221097  0.282133  0.413344   \n",
              "607  0.056246 -0.193619  0.390125  0.472291 -0.014667  0.170936  0.352257   \n",
              "\n",
              "       emb126    emb106     emb71  ...     emb43    emb110     emb26  \\\n",
              "426  0.006856 -0.254759 -0.255383  ...  0.050376 -0.086385  0.040211   \n",
              "118  0.119077 -0.018463 -0.283065  ...  0.137511 -0.380507 -0.016526   \n",
              "426  0.006856 -0.254759 -0.255383  ...  0.050376 -0.086385  0.040211   \n",
              "426  0.006856 -0.254759 -0.255383  ...  0.050376 -0.086385  0.040211   \n",
              "118  0.119077 -0.018463 -0.283065  ...  0.137511 -0.380507 -0.016526   \n",
              "..        ...       ...       ...  ...       ...       ...       ...   \n",
              "603  0.517843 -0.151703 -0.169107  ...  0.089850 -0.267641  0.150161   \n",
              "604  0.218456 -0.263121 -0.295115  ... -0.075760 -0.178207  0.285817   \n",
              "605  0.235012 -0.039719 -0.363566  ... -0.044355 -0.008018  0.351663   \n",
              "606  0.274126 -0.053115 -0.040816  ...  0.097985  0.338555  0.293608   \n",
              "607  0.185476 -0.025237 -0.225979  ...  0.042723 -0.251501  0.060921   \n",
              "\n",
              "         emb5     emb12     emb76     emb80     emb48     emb66  Complexity  \n",
              "426  0.311015 -0.146470 -0.419865  0.218304 -0.220332 -0.141788           0  \n",
              "118  0.198030 -0.527586 -0.146912  0.075390 -0.249952 -0.261316           0  \n",
              "426  0.311015 -0.146470 -0.419865  0.218304 -0.220332 -0.141788           0  \n",
              "426  0.311015 -0.146470 -0.419865  0.218304 -0.220332 -0.141788           0  \n",
              "118  0.198030 -0.527586 -0.146912  0.075390 -0.249952 -0.261316           0  \n",
              "..        ...       ...       ...       ...       ...       ...         ...  \n",
              "603  0.609881  0.227841 -0.311367 -0.330873 -0.091890  0.386988           9  \n",
              "604  0.421603 -0.007766 -0.174743  0.157294  0.000964  0.656859           9  \n",
              "605  0.729766 -0.228277 -0.250069  0.119876 -0.191410  0.414843           9  \n",
              "606  0.156893  0.487673 -0.543423  0.162762 -0.096405  0.391761           9  \n",
              "607  0.245185 -0.028712 -0.238380  0.112430 -0.266776  0.354572           9  \n",
              "\n",
              "[3750 rows x 21 columns]"
            ],
            "text/html": [
              "\n",
              "  <div id=\"df-66eafd05-75f8-4642-ac8b-eb75726bf04d\">\n",
              "    <div class=\"colab-df-container\">\n",
              "      <div>\n",
              "<style scoped>\n",
              "    .dataframe tbody tr th:only-of-type {\n",
              "        vertical-align: middle;\n",
              "    }\n",
              "\n",
              "    .dataframe tbody tr th {\n",
              "        vertical-align: top;\n",
              "    }\n",
              "\n",
              "    .dataframe thead th {\n",
              "        text-align: right;\n",
              "    }\n",
              "</style>\n",
              "<table border=\"1\" class=\"dataframe\">\n",
              "  <thead>\n",
              "    <tr style=\"text-align: right;\">\n",
              "      <th></th>\n",
              "      <th>emb10</th>\n",
              "      <th>emb59</th>\n",
              "      <th>emb94</th>\n",
              "      <th>emb118</th>\n",
              "      <th>emb120</th>\n",
              "      <th>emb22</th>\n",
              "      <th>emb53</th>\n",
              "      <th>emb126</th>\n",
              "      <th>emb106</th>\n",
              "      <th>emb71</th>\n",
              "      <th>...</th>\n",
              "      <th>emb43</th>\n",
              "      <th>emb110</th>\n",
              "      <th>emb26</th>\n",
              "      <th>emb5</th>\n",
              "      <th>emb12</th>\n",
              "      <th>emb76</th>\n",
              "      <th>emb80</th>\n",
              "      <th>emb48</th>\n",
              "      <th>emb66</th>\n",
              "      <th>Complexity</th>\n",
              "    </tr>\n",
              "  </thead>\n",
              "  <tbody>\n",
              "    <tr>\n",
              "      <th>426</th>\n",
              "      <td>0.033549</td>\n",
              "      <td>0.044014</td>\n",
              "      <td>-0.040886</td>\n",
              "      <td>0.197985</td>\n",
              "      <td>-0.061677</td>\n",
              "      <td>0.087211</td>\n",
              "      <td>0.244947</td>\n",
              "      <td>0.006856</td>\n",
              "      <td>-0.254759</td>\n",
              "      <td>-0.255383</td>\n",
              "      <td>...</td>\n",
              "      <td>0.050376</td>\n",
              "      <td>-0.086385</td>\n",
              "      <td>0.040211</td>\n",
              "      <td>0.311015</td>\n",
              "      <td>-0.146470</td>\n",
              "      <td>-0.419865</td>\n",
              "      <td>0.218304</td>\n",
              "      <td>-0.220332</td>\n",
              "      <td>-0.141788</td>\n",
              "      <td>0</td>\n",
              "    </tr>\n",
              "    <tr>\n",
              "      <th>118</th>\n",
              "      <td>0.061646</td>\n",
              "      <td>0.049084</td>\n",
              "      <td>-0.170591</td>\n",
              "      <td>0.218176</td>\n",
              "      <td>0.098315</td>\n",
              "      <td>-0.046915</td>\n",
              "      <td>0.133835</td>\n",
              "      <td>0.119077</td>\n",
              "      <td>-0.018463</td>\n",
              "      <td>-0.283065</td>\n",
              "      <td>...</td>\n",
              "      <td>0.137511</td>\n",
              "      <td>-0.380507</td>\n",
              "      <td>-0.016526</td>\n",
              "      <td>0.198030</td>\n",
              "      <td>-0.527586</td>\n",
              "      <td>-0.146912</td>\n",
              "      <td>0.075390</td>\n",
              "      <td>-0.249952</td>\n",
              "      <td>-0.261316</td>\n",
              "      <td>0</td>\n",
              "    </tr>\n",
              "    <tr>\n",
              "      <th>426</th>\n",
              "      <td>0.033549</td>\n",
              "      <td>0.044014</td>\n",
              "      <td>-0.040886</td>\n",
              "      <td>0.197985</td>\n",
              "      <td>-0.061677</td>\n",
              "      <td>0.087211</td>\n",
              "      <td>0.244947</td>\n",
              "      <td>0.006856</td>\n",
              "      <td>-0.254759</td>\n",
              "      <td>-0.255383</td>\n",
              "      <td>...</td>\n",
              "      <td>0.050376</td>\n",
              "      <td>-0.086385</td>\n",
              "      <td>0.040211</td>\n",
              "      <td>0.311015</td>\n",
              "      <td>-0.146470</td>\n",
              "      <td>-0.419865</td>\n",
              "      <td>0.218304</td>\n",
              "      <td>-0.220332</td>\n",
              "      <td>-0.141788</td>\n",
              "      <td>0</td>\n",
              "    </tr>\n",
              "    <tr>\n",
              "      <th>426</th>\n",
              "      <td>0.033549</td>\n",
              "      <td>0.044014</td>\n",
              "      <td>-0.040886</td>\n",
              "      <td>0.197985</td>\n",
              "      <td>-0.061677</td>\n",
              "      <td>0.087211</td>\n",
              "      <td>0.244947</td>\n",
              "      <td>0.006856</td>\n",
              "      <td>-0.254759</td>\n",
              "      <td>-0.255383</td>\n",
              "      <td>...</td>\n",
              "      <td>0.050376</td>\n",
              "      <td>-0.086385</td>\n",
              "      <td>0.040211</td>\n",
              "      <td>0.311015</td>\n",
              "      <td>-0.146470</td>\n",
              "      <td>-0.419865</td>\n",
              "      <td>0.218304</td>\n",
              "      <td>-0.220332</td>\n",
              "      <td>-0.141788</td>\n",
              "      <td>0</td>\n",
              "    </tr>\n",
              "    <tr>\n",
              "      <th>118</th>\n",
              "      <td>0.061646</td>\n",
              "      <td>0.049084</td>\n",
              "      <td>-0.170591</td>\n",
              "      <td>0.218176</td>\n",
              "      <td>0.098315</td>\n",
              "      <td>-0.046915</td>\n",
              "      <td>0.133835</td>\n",
              "      <td>0.119077</td>\n",
              "      <td>-0.018463</td>\n",
              "      <td>-0.283065</td>\n",
              "      <td>...</td>\n",
              "      <td>0.137511</td>\n",
              "      <td>-0.380507</td>\n",
              "      <td>-0.016526</td>\n",
              "      <td>0.198030</td>\n",
              "      <td>-0.527586</td>\n",
              "      <td>-0.146912</td>\n",
              "      <td>0.075390</td>\n",
              "      <td>-0.249952</td>\n",
              "      <td>-0.261316</td>\n",
              "      <td>0</td>\n",
              "    </tr>\n",
              "    <tr>\n",
              "      <th>...</th>\n",
              "      <td>...</td>\n",
              "      <td>...</td>\n",
              "      <td>...</td>\n",
              "      <td>...</td>\n",
              "      <td>...</td>\n",
              "      <td>...</td>\n",
              "      <td>...</td>\n",
              "      <td>...</td>\n",
              "      <td>...</td>\n",
              "      <td>...</td>\n",
              "      <td>...</td>\n",
              "      <td>...</td>\n",
              "      <td>...</td>\n",
              "      <td>...</td>\n",
              "      <td>...</td>\n",
              "      <td>...</td>\n",
              "      <td>...</td>\n",
              "      <td>...</td>\n",
              "      <td>...</td>\n",
              "      <td>...</td>\n",
              "      <td>...</td>\n",
              "    </tr>\n",
              "    <tr>\n",
              "      <th>603</th>\n",
              "      <td>0.474443</td>\n",
              "      <td>-0.091523</td>\n",
              "      <td>0.581903</td>\n",
              "      <td>0.420108</td>\n",
              "      <td>-0.713122</td>\n",
              "      <td>0.166231</td>\n",
              "      <td>0.044426</td>\n",
              "      <td>0.517843</td>\n",
              "      <td>-0.151703</td>\n",
              "      <td>-0.169107</td>\n",
              "      <td>...</td>\n",
              "      <td>0.089850</td>\n",
              "      <td>-0.267641</td>\n",
              "      <td>0.150161</td>\n",
              "      <td>0.609881</td>\n",
              "      <td>0.227841</td>\n",
              "      <td>-0.311367</td>\n",
              "      <td>-0.330873</td>\n",
              "      <td>-0.091890</td>\n",
              "      <td>0.386988</td>\n",
              "      <td>9</td>\n",
              "    </tr>\n",
              "    <tr>\n",
              "      <th>604</th>\n",
              "      <td>0.045316</td>\n",
              "      <td>-0.194377</td>\n",
              "      <td>-0.254264</td>\n",
              "      <td>0.486741</td>\n",
              "      <td>-0.113071</td>\n",
              "      <td>0.487490</td>\n",
              "      <td>0.225835</td>\n",
              "      <td>0.218456</td>\n",
              "      <td>-0.263121</td>\n",
              "      <td>-0.295115</td>\n",
              "      <td>...</td>\n",
              "      <td>-0.075760</td>\n",
              "      <td>-0.178207</td>\n",
              "      <td>0.285817</td>\n",
              "      <td>0.421603</td>\n",
              "      <td>-0.007766</td>\n",
              "      <td>-0.174743</td>\n",
              "      <td>0.157294</td>\n",
              "      <td>0.000964</td>\n",
              "      <td>0.656859</td>\n",
              "      <td>9</td>\n",
              "    </tr>\n",
              "    <tr>\n",
              "      <th>605</th>\n",
              "      <td>-0.127935</td>\n",
              "      <td>-0.068997</td>\n",
              "      <td>-0.081941</td>\n",
              "      <td>0.296270</td>\n",
              "      <td>-0.299855</td>\n",
              "      <td>0.371030</td>\n",
              "      <td>0.402610</td>\n",
              "      <td>0.235012</td>\n",
              "      <td>-0.039719</td>\n",
              "      <td>-0.363566</td>\n",
              "      <td>...</td>\n",
              "      <td>-0.044355</td>\n",
              "      <td>-0.008018</td>\n",
              "      <td>0.351663</td>\n",
              "      <td>0.729766</td>\n",
              "      <td>-0.228277</td>\n",
              "      <td>-0.250069</td>\n",
              "      <td>0.119876</td>\n",
              "      <td>-0.191410</td>\n",
              "      <td>0.414843</td>\n",
              "      <td>9</td>\n",
              "    </tr>\n",
              "    <tr>\n",
              "      <th>606</th>\n",
              "      <td>0.179867</td>\n",
              "      <td>-0.253822</td>\n",
              "      <td>0.284089</td>\n",
              "      <td>0.468238</td>\n",
              "      <td>-0.221097</td>\n",
              "      <td>0.282133</td>\n",
              "      <td>0.413344</td>\n",
              "      <td>0.274126</td>\n",
              "      <td>-0.053115</td>\n",
              "      <td>-0.040816</td>\n",
              "      <td>...</td>\n",
              "      <td>0.097985</td>\n",
              "      <td>0.338555</td>\n",
              "      <td>0.293608</td>\n",
              "      <td>0.156893</td>\n",
              "      <td>0.487673</td>\n",
              "      <td>-0.543423</td>\n",
              "      <td>0.162762</td>\n",
              "      <td>-0.096405</td>\n",
              "      <td>0.391761</td>\n",
              "      <td>9</td>\n",
              "    </tr>\n",
              "    <tr>\n",
              "      <th>607</th>\n",
              "      <td>0.056246</td>\n",
              "      <td>-0.193619</td>\n",
              "      <td>0.390125</td>\n",
              "      <td>0.472291</td>\n",
              "      <td>-0.014667</td>\n",
              "      <td>0.170936</td>\n",
              "      <td>0.352257</td>\n",
              "      <td>0.185476</td>\n",
              "      <td>-0.025237</td>\n",
              "      <td>-0.225979</td>\n",
              "      <td>...</td>\n",
              "      <td>0.042723</td>\n",
              "      <td>-0.251501</td>\n",
              "      <td>0.060921</td>\n",
              "      <td>0.245185</td>\n",
              "      <td>-0.028712</td>\n",
              "      <td>-0.238380</td>\n",
              "      <td>0.112430</td>\n",
              "      <td>-0.266776</td>\n",
              "      <td>0.354572</td>\n",
              "      <td>9</td>\n",
              "    </tr>\n",
              "  </tbody>\n",
              "</table>\n",
              "<p>3750 rows × 21 columns</p>\n",
              "</div>\n",
              "      <button class=\"colab-df-convert\" onclick=\"convertToInteractive('df-66eafd05-75f8-4642-ac8b-eb75726bf04d')\"\n",
              "              title=\"Convert this dataframe to an interactive table.\"\n",
              "              style=\"display:none;\">\n",
              "        \n",
              "  <svg xmlns=\"http://www.w3.org/2000/svg\" height=\"24px\"viewBox=\"0 0 24 24\"\n",
              "       width=\"24px\">\n",
              "    <path d=\"M0 0h24v24H0V0z\" fill=\"none\"/>\n",
              "    <path d=\"M18.56 5.44l.94 2.06.94-2.06 2.06-.94-2.06-.94-.94-2.06-.94 2.06-2.06.94zm-11 1L8.5 8.5l.94-2.06 2.06-.94-2.06-.94L8.5 2.5l-.94 2.06-2.06.94zm10 10l.94 2.06.94-2.06 2.06-.94-2.06-.94-.94-2.06-.94 2.06-2.06.94z\"/><path d=\"M17.41 7.96l-1.37-1.37c-.4-.4-.92-.59-1.43-.59-.52 0-1.04.2-1.43.59L10.3 9.45l-7.72 7.72c-.78.78-.78 2.05 0 2.83L4 21.41c.39.39.9.59 1.41.59.51 0 1.02-.2 1.41-.59l7.78-7.78 2.81-2.81c.8-.78.8-2.07 0-2.86zM5.41 20L4 18.59l7.72-7.72 1.47 1.35L5.41 20z\"/>\n",
              "  </svg>\n",
              "      </button>\n",
              "      \n",
              "  <style>\n",
              "    .colab-df-container {\n",
              "      display:flex;\n",
              "      flex-wrap:wrap;\n",
              "      gap: 12px;\n",
              "    }\n",
              "\n",
              "    .colab-df-convert {\n",
              "      background-color: #E8F0FE;\n",
              "      border: none;\n",
              "      border-radius: 50%;\n",
              "      cursor: pointer;\n",
              "      display: none;\n",
              "      fill: #1967D2;\n",
              "      height: 32px;\n",
              "      padding: 0 0 0 0;\n",
              "      width: 32px;\n",
              "    }\n",
              "\n",
              "    .colab-df-convert:hover {\n",
              "      background-color: #E2EBFA;\n",
              "      box-shadow: 0px 1px 2px rgba(60, 64, 67, 0.3), 0px 1px 3px 1px rgba(60, 64, 67, 0.15);\n",
              "      fill: #174EA6;\n",
              "    }\n",
              "\n",
              "    [theme=dark] .colab-df-convert {\n",
              "      background-color: #3B4455;\n",
              "      fill: #D2E3FC;\n",
              "    }\n",
              "\n",
              "    [theme=dark] .colab-df-convert:hover {\n",
              "      background-color: #434B5C;\n",
              "      box-shadow: 0px 1px 3px 1px rgba(0, 0, 0, 0.15);\n",
              "      filter: drop-shadow(0px 1px 2px rgba(0, 0, 0, 0.3));\n",
              "      fill: #FFFFFF;\n",
              "    }\n",
              "  </style>\n",
              "\n",
              "      <script>\n",
              "        const buttonEl =\n",
              "          document.querySelector('#df-66eafd05-75f8-4642-ac8b-eb75726bf04d button.colab-df-convert');\n",
              "        buttonEl.style.display =\n",
              "          google.colab.kernel.accessAllowed ? 'block' : 'none';\n",
              "\n",
              "        async function convertToInteractive(key) {\n",
              "          const element = document.querySelector('#df-66eafd05-75f8-4642-ac8b-eb75726bf04d');\n",
              "          const dataTable =\n",
              "            await google.colab.kernel.invokeFunction('convertToInteractive',\n",
              "                                                     [key], {});\n",
              "          if (!dataTable) return;\n",
              "\n",
              "          const docLinkHtml = 'Like what you see? Visit the ' +\n",
              "            '<a target=\"_blank\" href=https://colab.research.google.com/notebooks/data_table.ipynb>data table notebook</a>'\n",
              "            + ' to learn more about interactive tables.';\n",
              "          element.innerHTML = '';\n",
              "          dataTable['output_type'] = 'display_data';\n",
              "          await google.colab.output.renderOutput(dataTable, element);\n",
              "          const docLink = document.createElement('div');\n",
              "          docLink.innerHTML = docLinkHtml;\n",
              "          element.appendChild(docLink);\n",
              "        }\n",
              "      </script>\n",
              "    </div>\n",
              "  </div>\n",
              "  "
            ]
          },
          "metadata": {},
          "execution_count": 192
        }
      ]
    },
    {
      "cell_type": "code",
      "source": [
        "X = new_df.iloc[:,0:20].values\n",
        "y = new_df.iloc[:,20].values\n",
        "X.shape,y.shape"
      ],
      "metadata": {
        "colab": {
          "base_uri": "https://localhost:8080/"
        },
        "id": "YAMnMQK5Nn8B",
        "outputId": "859ccdb9-df28-4611-a2e7-0915572f614d"
      },
      "execution_count": null,
      "outputs": [
        {
          "output_type": "execute_result",
          "data": {
            "text/plain": [
              "((3750, 20), (3750,))"
            ]
          },
          "metadata": {},
          "execution_count": 193
        }
      ]
    },
    {
      "cell_type": "code",
      "source": [
        "y = df['Complexity']\n",
        "# Creating the Training and Test set from data\n",
        "X_train, X_test, y_train, y_test = train_test_split(X, y, test_size = 0.25, random_state = 21)\n",
        "# Feature Scaling\n",
        "scaler = StandardScaler()\n",
        "X_train = scaler.fit_transform(X_train)\n",
        "X_test = scaler.transform(X_test)\n",
        "# Fitting Random Forest Classification to the Training set\n",
        "classifier = RandomForestClassifier(n_estimators = 10, criterion = 'entropy', random_state = 42)\n",
        "classifier.fit(X_train, y_train)\n",
        "# Predicting the Test set results\n",
        "y_pred = classifier.predict(X_test)\n",
        "reversefactor = dict(zip(range(num_classes),definitions))\n",
        "y_test = np.vectorize(reversefactor.get)(y_test)\n",
        "y_pred = np.vectorize(reversefactor.get)(y_pred)"
      ],
      "metadata": {
        "id": "OX_TGj_qONKd"
      },
      "execution_count": null,
      "outputs": []
    },
    {
      "cell_type": "code",
      "source": [
        "print(pd.crosstab(y_test, y_pred, rownames=['Actual Classes'], colnames=['Predicted Classes']))\n",
        "out = pd.crosstab(y_test, y_pred, rownames=['Actual Classes'], colnames=['Predicted Classes'])\n",
        "# print(type(out))"
      ],
      "metadata": {
        "colab": {
          "base_uri": "https://localhost:8080/"
        },
        "id": "Ti8YZkadMIj1",
        "outputId": "4548b438-d56a-4d44-ab95-34229dc290dc"
      },
      "execution_count": null,
      "outputs": [
        {
          "output_type": "stream",
          "name": "stdout",
          "text": [
            "Predicted Classes  O(1)  O(2n)  O(N!)  O(N)  O(N2)  O(N3)  O(Nd)  O(NlogN)  \\\n",
            "Actual Classes                                                               \n",
            "O(1)                 95      0      0     0      0      0      0         0   \n",
            "O(2n)                 0     92      0     0      0      0      0         0   \n",
            "O(N!)                 0      0    105     0      0      0      0         0   \n",
            "O(N)                  1      1      0    59     12      2      1         8   \n",
            "O(N2)                 0      0      0     0     84      1      1         1   \n",
            "O(N3)                 0      0      0     0      0    106      0         0   \n",
            "O(Nd)                 0      0      0     0      0      0    101         0   \n",
            "O(NlogN)              0      0      0     2      2      0      0        71   \n",
            "O(logN)               0      0      0     0      0      0      0         0   \n",
            "O(sqrt(N))            0      0      0     0      0      0      0         0   \n",
            "\n",
            "Predicted Classes  O(logN)  O(sqrt(N))  \n",
            "Actual Classes                          \n",
            "O(1)                     0           0  \n",
            "O(2n)                    0           0  \n",
            "O(N!)                    0           0  \n",
            "O(N)                     4           0  \n",
            "O(N2)                    0           0  \n",
            "O(N3)                    0           0  \n",
            "O(Nd)                    0           0  \n",
            "O(NlogN)                 0           0  \n",
            "O(logN)                 91           0  \n",
            "O(sqrt(N))               0          98  \n"
          ]
        }
      ]
    },
    {
      "cell_type": "code",
      "source": [
        "confusion_matrix(y_test, y_pred)"
      ],
      "metadata": {
        "colab": {
          "base_uri": "https://localhost:8080/"
        },
        "id": "REfNgYrmMjIF",
        "outputId": "2ba6fdb8-533c-42a5-ef33-fdeae986edb4"
      },
      "execution_count": null,
      "outputs": [
        {
          "output_type": "execute_result",
          "data": {
            "text/plain": [
              "array([[ 95,   0,   0,   0,   0,   0,   0,   0,   0,   0],\n",
              "       [  0,  92,   0,   0,   0,   0,   0,   0,   0,   0],\n",
              "       [  0,   0, 105,   0,   0,   0,   0,   0,   0,   0],\n",
              "       [  1,   1,   0,  59,  12,   2,   1,   8,   4,   0],\n",
              "       [  0,   0,   0,   0,  84,   1,   1,   1,   0,   0],\n",
              "       [  0,   0,   0,   0,   0, 106,   0,   0,   0,   0],\n",
              "       [  0,   0,   0,   0,   0,   0, 101,   0,   0,   0],\n",
              "       [  0,   0,   0,   2,   2,   0,   0,  71,   0,   0],\n",
              "       [  0,   0,   0,   0,   0,   0,   0,   0,  91,   0],\n",
              "       [  0,   0,   0,   0,   0,   0,   0,   0,   0,  98]])"
            ]
          },
          "metadata": {},
          "execution_count": 196
        }
      ]
    },
    {
      "cell_type": "code",
      "source": [
        "# Get and reshape confusion matrix data\n",
        "import matplotlib.pyplot as plt\n",
        "matrix = confusion_matrix(y_test, y_pred)\n",
        "matrix = matrix.astype('float') / matrix.sum(axis=1)[:, np.newaxis]\n",
        "\n",
        "# Build the plot\n",
        "plt.figure(figsize=(16,7))\n",
        "sns.set(font_scale=1.4)\n",
        "sns.heatmap(matrix, annot=True, annot_kws={'size':10},\n",
        "            cmap=plt.cm.Greens, linewidths=0.2)\n",
        "\n",
        "# Add labels to the plot\n",
        "class_names = ['O(1)',  'O(2n)',  'O(N!)',  'O(N)',  'O(N2)',  'O(N3)',  'O(Nd)',  'O(NlogN)', 'O(logN)','O(sqrt(N))']\n",
        "tick_marks = np.arange(len(class_names))\n",
        "tick_marks2 = tick_marks + 0.5\n",
        "plt.xticks(tick_marks, class_names, rotation=25)\n",
        "plt.yticks(tick_marks2, class_names, rotation=0)\n",
        "plt.xlabel('Predicted label')\n",
        "plt.ylabel('True label')\n",
        "plt.title('Confusion Matrix for Random Forest Model')\n",
        "plt.show()"
      ],
      "metadata": {
        "colab": {
          "base_uri": "https://localhost:8080/",
          "height": 509
        },
        "id": "xqpKgBTWNTDk",
        "outputId": "3c153a7c-3da7-430e-b12a-d3208e9301eb"
      },
      "execution_count": null,
      "outputs": [
        {
          "output_type": "display_data",
          "data": {
            "text/plain": [
              "<Figure size 1152x504 with 2 Axes>"
            ],
            "image/png": "[encoded data removed]"
          },
          "metadata": {}
        }
      ]
    },
    {
      "cell_type": "code",
      "source": [
        "from sklearn.metrics import accuracy_score, confusion_matrix, classification_report\n",
        "\n",
        "accuracy_score(y_test, y_pred)"
      ],
      "metadata": {
        "colab": {
          "base_uri": "https://localhost:8080/"
        },
        "id": "dKI1ov9XPAkZ",
        "outputId": "72e68df6-3224-4fbc-bf3d-cb0bb24bc9c3"
      },
      "execution_count": null,
      "outputs": [
        {
          "output_type": "execute_result",
          "data": {
            "text/plain": [
              "0.9616204690831557"
            ]
          },
          "metadata": {},
          "execution_count": 198
        }
      ]
    },
    {
      "cell_type": "code",
      "source": [
        "print(classification_report(y_test, y_pred))"
      ],
      "metadata": {
        "colab": {
          "base_uri": "https://localhost:8080/"
        },
        "id": "HL8fH_0NPAtJ",
        "outputId": "09ddf711-5c6e-41ce-bed3-d432341c557a"
      },
      "execution_count": null,
      "outputs": [
        {
          "output_type": "stream",
          "name": "stdout",
          "text": [
            "              precision    recall  f1-score   support\n",
            "\n",
            "        O(1)       0.99      1.00      0.99        95\n",
            "       O(2n)       0.99      1.00      0.99        92\n",
            "       O(N!)       1.00      1.00      1.00       105\n",
            "        O(N)       0.97      0.67      0.79        88\n",
            "       O(N2)       0.86      0.97      0.91        87\n",
            "       O(N3)       0.97      1.00      0.99       106\n",
            "       O(Nd)       0.98      1.00      0.99       101\n",
            "    O(NlogN)       0.89      0.95      0.92        75\n",
            "     O(logN)       0.96      1.00      0.98        91\n",
            "  O(sqrt(N))       1.00      1.00      1.00        98\n",
            "\n",
            "    accuracy                           0.96       938\n",
            "   macro avg       0.96      0.96      0.96       938\n",
            "weighted avg       0.96      0.96      0.96       938\n",
            "\n"
          ]
        }
      ]
    },
    {
      "cell_type": "code",
      "source": [],
      "metadata": {
        "id": "o8HxMrXlPvpE"
      },
      "execution_count": null,
      "outputs": []
    },
    {
      "cell_type": "code",
      "source": [],
      "metadata": {
        "id": "5TIyzrKiPvs9"
      },
      "execution_count": null,
      "outputs": []
    },
    {
      "cell_type": "code",
      "source": [],
      "metadata": {
        "id": "zm-0mL3aPwRP"
      },
      "execution_count": null,
      "outputs": []
    },
    {
      "cell_type": "markdown",
      "source": [
        "# **SMOTE**"
      ],
      "metadata": {
        "id": "InAlNDHDPwt0"
      }
    },
    {
      "cell_type": "code",
      "source": [
        "y = pd.read_csv('/content/drive/MyDrive/y.txt', sep = \" \", header=None, names=[\"Runtime Complexity\", \"Node Number\", \"Language\"])\n",
        "x = np.load('/content/drive/MyDrive/x.npy')\n",
        "\n",
        "\n",
        "df = []\n",
        "for i in range(len(x)):\n",
        "  emb = x[i].tolist()\n",
        "  # emb.append(y[i])\n",
        "  df.append(emb)\n",
        "col = []\n",
        "for i in range(128):\n",
        "  col.append('emb'+str(i+1))\n",
        "# col.append('classes')\n",
        "df = pd.DataFrame(df, columns=col)\n",
        "\n",
        "df_y = pd.read_csv('/content/drive/MyDrive/y.txt', sep = \" \", header=None, names=[\"Complexity\", \"Node Number\", \"Language\"])\n",
        "df['Complexity'] = df_y['Complexity']\n",
        "y = df['Complexity']"
      ],
      "metadata": {
        "id": "RHUlZLZILaRr"
      },
      "execution_count": null,
      "outputs": []
    },
    {
      "cell_type": "code",
      "source": [
        "df = df[ (df['Complexity'] == 'O(N)') | (df['Complexity'] == 'O(N2)')]"
      ],
      "metadata": {
        "id": "KEN3HxVCN-I1"
      },
      "execution_count": null,
      "outputs": []
    },
    {
      "cell_type": "code",
      "source": [
        "from imblearn.over_sampling import SMOTE\n",
        "# Resampling the minority class. The strategy can be changed as required.\n",
        "\n",
        "X = df.iloc[:,0:128].values\n",
        "sm = SMOTE(sampling_strategy='minority', random_state=42)\n",
        "# Fit the model to generate the data.\n",
        "oversampled_X, oversampled_Y = sm.fit_resample(df.drop('Complexity', axis=1), df['Complexity'])\n",
        "oversampled = pd.concat([pd.DataFrame(oversampled_Y), pd.DataFrame(oversampled_X)], axis=1)"
      ],
      "metadata": {
        "id": "2cmbQ2mcLJvq"
      },
      "execution_count": null,
      "outputs": []
    },
    {
      "cell_type": "code",
      "source": [],
      "metadata": {
        "id": "cRf6uuMYRSkM"
      },
      "execution_count": null,
      "outputs": []
    },
    {
      "cell_type": "code",
      "source": [],
      "metadata": {
        "id": "UDWTrY29TRN1"
      },
      "execution_count": null,
      "outputs": []
    },
    {
      "cell_type": "code",
      "source": [
        "# Smote for multiclass"
      ],
      "metadata": {
        "id": "gTGZkoWoRSnp"
      },
      "execution_count": null,
      "outputs": []
    },
    {
      "cell_type": "code",
      "source": [
        "# y = pd.read_csv('/content/drive/MyDrive/y.txt', sep = \" \", header=None, names=[\"Runtime Complexity\", \"Node Number\", \"Language\"])\n",
        "# x = np.load('/content/drive/MyDrive/x.npy')\n",
        "\n",
        "\n",
        "# df = []\n",
        "# for i in range(len(x)):\n",
        "#   emb = x[i].tolist()\n",
        "#   # emb.append(y[i])\n",
        "#   df.append(emb)\n",
        "# col = []\n",
        "# for i in range(128):\n",
        "#   col.append('emb'+str(i+1))\n",
        "# # col.append('classes')\n",
        "# df = pd.DataFrame(df, columns=col)\n",
        "\n",
        "# df_y = pd.read_csv('/content/drive/MyDrive/y.txt', sep = \" \", header=None, names=[\"Complexity\", \"Node Number\", \"Language\"])\n",
        "# df['Complexity'] = df_y['Complexity']\n",
        "# y = df['Complexity']"
      ],
      "metadata": {
        "id": "KZOIi_chRSyS"
      },
      "execution_count": null,
      "outputs": []
    },
    {
      "cell_type": "code",
      "source": [
        "# X = df.iloc[:,0:128].values\n",
        "# factor = pd.factorize(df['Complexity'])\n",
        "# df.Complexity= factor[0]\n",
        "# definitions = factor[1]\n",
        "# y = df.iloc[:,128].values"
      ],
      "metadata": {
        "id": "e1cYbxXpW2M8"
      },
      "execution_count": null,
      "outputs": []
    },
    {
      "cell_type": "code",
      "source": [
        "# from imblearn.over_sampling import SMOTE\n",
        "# from collections import Counter\n",
        "# from matplotlib import pyplot\n",
        "# from sklearn.preprocessing import LabelEncoder"
      ],
      "metadata": {
        "id": "rbJNjva8S5TQ"
      },
      "execution_count": null,
      "outputs": []
    },
    {
      "cell_type": "code",
      "source": [
        "# y = LabelEncoder().fit_transform(y)\n",
        "# # transform the dataset\n",
        "# oversample = SMOTE()\n",
        "# X, y = oversample.fit_resample(X, y)"
      ],
      "metadata": {
        "id": "-8V2BZNzTsz3"
      },
      "execution_count": null,
      "outputs": []
    },
    {
      "cell_type": "code",
      "source": [
        "# ValueError: Expected n_neighbors <= n_samples     6 neighbors <= 4 samples"
      ],
      "metadata": {
        "id": "wSdLHdCCTs28"
      },
      "execution_count": null,
      "outputs": []
    },
    {
      "cell_type": "code",
      "source": [],
      "metadata": {
        "id": "LSEmj8u3Ts5i"
      },
      "execution_count": null,
      "outputs": []
    },
    {
      "cell_type": "code",
      "source": [],
      "metadata": {
        "id": "k-lR8KQ5Ts8L"
      },
      "execution_count": null,
      "outputs": []
    },
    {
      "cell_type": "code",
      "source": [],
      "metadata": {
        "id": "wlr3cp_qTs-x"
      },
      "execution_count": null,
      "outputs": []
    },
    {
      "cell_type": "markdown",
      "source": [
        "# **Threshold Moving**"
      ],
      "metadata": {
        "id": "ZkNHAK_sRTN6"
      }
    },
    {
      "cell_type": "code",
      "source": [
        "y = pd.read_csv('/content/drive/MyDrive/y.txt', sep = \" \", header=None, names=[\"Runtime Complexity\", \"Node Number\", \"Language\"])\n",
        "x = np.load('/content/drive/MyDrive/x.npy')\n",
        "\n",
        "\n",
        "df = []\n",
        "for i in range(len(x)):\n",
        "  emb = x[i].tolist()\n",
        "  # emb.append(y[i])\n",
        "  df.append(emb)\n",
        "col = []\n",
        "for i in range(128):\n",
        "  col.append('emb'+str(i+1))\n",
        "# col.append('classes')\n",
        "df = pd.DataFrame(df, columns=col)\n",
        "\n",
        "df_y = pd.read_csv('/content/drive/MyDrive/y.txt', sep = \" \", header=None, names=[\"Complexity\", \"Node Number\", \"Language\"])\n",
        "df['Complexity'] = df_y['Complexity']\n",
        "\n",
        "#Splitting the data into independent and dependent variables\n",
        "X = df.iloc[:,0:128].values\n",
        "y = df.iloc[:,128].values\n",
        "print('The independent features set: ')\n",
        "print(X[:5,:])\n",
        "print('The dependent variable: ')\n",
        "print(y[:5])\n",
        "\n",
        "y = df['Complexity']\n",
        "\n",
        "X_train, X_test, y_train, y_test = train_test_split(X, y, test_size = 0.25, random_state = 21)"
      ],
      "metadata": {
        "colab": {
          "base_uri": "https://localhost:8080/"
        },
        "id": "pPNpxCA8RmRT",
        "outputId": "58083b80-8769-4d6a-9caf-ecdb45b916ce"
      },
      "execution_count": null,
      "outputs": [
        {
          "output_type": "stream",
          "name": "stdout",
          "text": [
            "The independent features set: \n",
            "[[-5.46817556e-02  1.27175003e-01  3.66478041e-02  9.03529450e-02\n",
            "   1.92497656e-01  4.35396768e-02 -6.03338443e-02 -3.76324058e-02\n",
            "  -1.83834950e-03  1.16994865e-01  5.27923480e-02 -1.57576203e-01\n",
            "   1.43596098e-01  3.71556468e-02  3.83224078e-02 -9.10438523e-02\n",
            "   4.03349213e-02  2.11318843e-02  5.75276911e-02  1.80179939e-01\n",
            "  -2.13484481e-01  2.17291340e-02 -8.47572088e-02 -1.31484851e-01\n",
            "  -4.24665883e-02  5.63512109e-02 -7.74702728e-02  6.60680383e-02\n",
            "  -1.48080543e-01  1.58492446e-01  2.89504752e-02 -2.75817037e-01\n",
            "   1.91999123e-01  1.08052090e-01  7.15311542e-02  2.69077063e-01\n",
            "   8.31059143e-02  2.38153219e-01  1.80793345e-01 -2.35307645e-02\n",
            "   6.05866313e-02 -2.97051936e-01  4.65184972e-02 -6.35263324e-02\n",
            "   1.51319560e-02  8.73206463e-03 -4.46680859e-02 -1.54379204e-01\n",
            "   1.15279354e-01  2.65681446e-02 -1.46464109e-01 -3.65835801e-02\n",
            "   1.16344631e-01  2.15480030e-01 -1.23131797e-02 -1.30555555e-01\n",
            "   1.01317108e-01  1.83590040e-01 -5.54473996e-02 -8.15891996e-02\n",
            "   4.85468283e-03 -1.69630442e-02 -1.27385676e-01 -8.09675902e-02\n",
            "   1.75030395e-01 -6.34192079e-02  1.05731659e-01  1.85767487e-01\n",
            "  -7.73787722e-02 -1.86835378e-01 -1.68732390e-01 -2.33050808e-03\n",
            "   8.02678114e-04 -7.90855289e-02 -2.10550517e-01 -1.53106153e-01\n",
            "   1.28703594e-01  8.42522830e-02  2.55224947e-03  5.33798821e-02\n",
            "   5.31319976e-02 -8.86404440e-02 -8.49072188e-02 -8.71644914e-02\n",
            "  -4.45114300e-02 -5.10194805e-03  2.64219224e-01 -1.22008845e-01\n",
            "  -1.76771656e-01  1.50311798e-01 -6.69723302e-02  1.12599723e-01\n",
            "  -8.93913805e-02 -1.81169622e-02 -7.15690628e-02  2.62896210e-01\n",
            "   2.10632950e-01  2.18830884e-01 -1.06668226e-01  7.32323080e-02\n",
            "   2.77930498e-02 -8.92421380e-02  2.75768689e-03 -1.21756844e-01\n",
            "   2.56699800e-01 -2.43882067e-03  1.93699092e-01  1.02283515e-01\n",
            "   3.75468321e-02 -1.14149339e-01  2.61039138e-01 -3.33896987e-02\n",
            "  -2.10477784e-02 -3.35455537e-02 -2.16612905e-01 -2.34580800e-01\n",
            "  -6.21928833e-02  1.57071561e-01 -1.25052124e-01 -4.92749847e-02\n",
            "  -1.31079718e-01  2.27188598e-03 -1.78746171e-02 -2.09266201e-01\n",
            "   1.99226186e-01  9.73123610e-02 -1.07657000e-01  8.18404332e-02]\n",
            " [-9.52345952e-02  1.75033808e-01  6.39354438e-02  1.17448255e-01\n",
            "   2.55929172e-01  6.48110881e-02 -7.29228705e-02 -3.27157713e-02\n",
            "   1.35754589e-02  1.52738631e-01  1.18627340e-01 -2.60455549e-01\n",
            "   2.44250730e-01  3.96414101e-02  6.27589449e-02 -1.25003010e-01\n",
            "   5.34699038e-02  1.71668231e-02  8.78803208e-02  2.35860020e-01\n",
            "  -2.98393637e-01  2.60711219e-02 -8.58987346e-02 -2.07666248e-01\n",
            "  -2.59146467e-02  6.71919733e-02 -1.38112947e-01  1.15195006e-01\n",
            "  -1.67984962e-01  2.18866065e-01  5.91990687e-02 -3.73008519e-01\n",
            "   2.59509593e-01  1.37812629e-01  1.02661178e-01  3.56784761e-01\n",
            "   7.55319297e-02  3.55388492e-01  2.54071623e-01 -4.32767756e-02\n",
            "   8.89875814e-02 -4.06479329e-01  7.11699352e-02 -9.70533565e-02\n",
            "   1.44653236e-02  1.24930087e-02 -6.51564598e-02 -1.93318486e-01\n",
            "   1.60977930e-01  5.99319264e-02 -2.14206517e-01 -4.28217836e-02\n",
            "   1.64996609e-01  2.62835175e-01 -2.81749070e-02 -1.92204207e-01\n",
            "   1.34917796e-01  2.46398821e-01 -5.91540709e-02 -1.10496514e-01\n",
            "   9.61294211e-03 -5.73498420e-02 -1.86929092e-01 -1.13116220e-01\n",
            "   2.27543786e-01 -1.12595417e-01  1.54650241e-01  2.63068497e-01\n",
            "  -9.57968459e-02 -2.81539440e-01 -2.03356713e-01  2.48625111e-02\n",
            "  -2.11851895e-02 -1.12010658e-01 -2.87237525e-01 -1.86761215e-01\n",
            "   1.61392152e-01  1.06887423e-01  1.01041449e-02  6.53149486e-02\n",
            "   5.24754971e-02 -7.30175376e-02 -6.45050853e-02 -1.52130052e-01\n",
            "  -7.83408657e-02 -2.53763627e-02  3.55713457e-01 -2.37884983e-01\n",
            "  -2.62763649e-01  2.28933379e-01 -9.34234932e-02  1.49442762e-01\n",
            "  -1.07591003e-01 -4.95512299e-02 -1.12611718e-01  3.74834239e-01\n",
            "   2.74954319e-01  3.37906301e-01 -1.52197212e-01  8.02636370e-02\n",
            "   4.34474573e-02 -1.12766944e-01  2.29064506e-02 -1.56481057e-01\n",
            "   3.28989685e-01  2.25855689e-02  3.15245807e-01  1.46719262e-01\n",
            "   5.15781306e-02 -1.67325079e-01  3.46535802e-01 -5.94747216e-02\n",
            "  -3.04715540e-02 -4.46320623e-02 -2.78425604e-01 -3.33356559e-01\n",
            "  -4.70128730e-02  1.92815304e-01 -1.91600502e-01 -2.40922607e-02\n",
            "  -1.85712680e-01 -1.69628598e-02 -4.03660052e-02 -2.77817994e-01\n",
            "   2.61728793e-01  1.18124098e-01 -1.25564352e-01  1.30718932e-01]\n",
            " [-1.35812655e-01  2.19436169e-01  1.02142863e-01  1.35153368e-01\n",
            "   2.86394268e-01  6.81507662e-02 -7.89518803e-02 -3.04141059e-03\n",
            "   2.19486859e-02  1.82399541e-01  1.68006510e-01 -3.48516554e-01\n",
            "   3.48955810e-01  7.53652975e-02  1.10614479e-01 -1.44244745e-01\n",
            "   7.17505738e-02  2.03004926e-02  1.31878212e-01  2.60560691e-01\n",
            "  -3.60982120e-01  7.26646977e-03 -1.20608024e-01 -2.55101383e-01\n",
            "  -9.92779341e-03  8.56653750e-02 -1.67046458e-01  1.78076908e-01\n",
            "  -1.85297728e-01  2.86552072e-01  7.66435638e-02 -4.40354139e-01\n",
            "   3.18496048e-01  1.24545649e-01  1.41171575e-01  4.54144239e-01\n",
            "   6.36021867e-02  4.45933044e-01  2.77197510e-01 -8.65251347e-02\n",
            "   9.61584747e-02 -4.96136755e-01  9.33930129e-02 -1.11087114e-01\n",
            "   1.46772666e-02  3.14412750e-02 -8.60799029e-02 -2.18667805e-01\n",
            "   2.08018884e-01  9.91871879e-02 -2.70703226e-01 -3.55524793e-02\n",
            "   1.65015578e-01  2.87925661e-01 -4.75035161e-02 -2.33078346e-01\n",
            "   1.56913057e-01  2.92149514e-01 -7.23709464e-02 -1.70776591e-01\n",
            "   9.32083093e-03 -8.13419297e-02 -2.50864059e-01 -1.24307886e-01\n",
            "   2.74958789e-01 -1.64243013e-01  1.78239852e-01  3.05184275e-01\n",
            "  -1.46969363e-01 -3.37557286e-01 -2.36372113e-01  3.93458903e-02\n",
            "  -6.18024506e-02 -1.03994824e-01 -3.55840981e-01 -1.97066993e-01\n",
            "   1.77837417e-01  1.24774516e-01  9.17279162e-03  5.09428978e-02\n",
            "   6.31366711e-05 -7.21039847e-02 -5.67560382e-02 -1.86777756e-01\n",
            "  -1.07117012e-01 -4.81857434e-02  4.24100399e-01 -3.21439624e-01\n",
            "  -3.64178836e-01  3.02586347e-01 -9.92950723e-02  1.65220693e-01\n",
            "  -9.65576470e-02 -7.88222998e-02 -1.48554042e-01  4.65034693e-01\n",
            "   3.09264749e-01  4.13818300e-01 -2.01192424e-01  8.67686272e-02\n",
            "   1.83367711e-02 -1.52441621e-01  4.52129617e-02 -1.47778988e-01\n",
            "   3.61566097e-01  4.31876257e-02  4.05301362e-01  1.51574448e-01\n",
            "   4.09755781e-02 -2.36456811e-01  4.11698461e-01 -8.25052559e-02\n",
            "  -5.88334203e-02 -5.15074171e-02 -3.21402699e-01 -3.96661967e-01\n",
            "  -3.96623909e-02  1.87084422e-01 -2.59607434e-01  8.54078587e-03\n",
            "  -2.36531809e-01 -3.22487764e-02 -7.10488707e-02 -3.34604353e-01\n",
            "   3.34102124e-01  1.28356606e-01 -1.44718572e-01  1.92226812e-01]\n",
            " [ 2.70222187e-01  3.00357819e-01 -4.45602596e-01  1.96632102e-01\n",
            "   5.31115234e-01  4.33794469e-01 -2.61992216e-01 -7.42705688e-02\n",
            "  -2.15853646e-01 -6.16808124e-02  1.35566831e-01 -1.12852812e+00\n",
            "   1.08026981e+00  3.82885784e-01  8.60778764e-02 -3.18461299e-01\n",
            "   1.04850411e-01  4.09251660e-01  3.77620995e-01  9.01957631e-01\n",
            "  -7.07082927e-01 -1.66442230e-01 -2.22382292e-01 -1.71453893e-01\n",
            "  -1.71846643e-01 -1.87948152e-01 -3.36261451e-01  3.50358129e-01\n",
            "  -4.00295883e-01  7.48297811e-01  3.23999763e-01 -5.39146006e-01\n",
            "   1.83992699e-01  2.50944942e-01 -3.90292928e-02  3.32009614e-01\n",
            "   6.20430350e-01  9.22958136e-01  2.95129299e-01  1.97201878e-01\n",
            "  -3.03422473e-02 -2.86677510e-01  1.35363936e-01 -1.97724059e-01\n",
            "   2.37142429e-01  1.49424374e-01 -1.82125345e-01 -4.88830060e-01\n",
            "   2.09360793e-01  7.69566000e-02 -3.14087093e-01 -6.32120073e-02\n",
            "   1.45598024e-01  5.76751292e-01  1.57234401e-01 -1.73947260e-01\n",
            "  -2.17518613e-01  4.34978783e-01  4.45041293e-03 -5.09521186e-01\n",
            "   1.33994147e-01 -4.54443604e-01 -6.58712327e-01 -5.86610913e-01\n",
            "   6.99854493e-01 -4.37891781e-01  2.32835896e-02  8.45403254e-01\n",
            "  -6.56161070e-01 -9.76454854e-01 -7.62447178e-01  4.56226140e-01\n",
            "  -1.62695125e-01 -2.76480407e-01 -8.80568802e-01 -2.09095523e-01\n",
            "   7.13380277e-01  9.48815197e-02  3.12680364e-01 -5.11848986e-01\n",
            "  -5.67168482e-02 -6.38085529e-02 -8.55626240e-02 -2.31762156e-01\n",
            "  -2.28595734e-01 -1.87074810e-01  9.36159968e-01 -7.18892887e-02\n",
            "  -6.99885368e-01  5.08055508e-01  2.05933303e-02  4.71774399e-01\n",
            "  -2.14947730e-01 -6.09641492e-01 -4.04924244e-01  6.76106691e-01\n",
            "   2.94696152e-01  3.20313513e-01 -2.33767435e-01  6.57163739e-01\n",
            "  -6.24874420e-02 -5.81088364e-01 -1.18667290e-01 -6.74936354e-01\n",
            "   5.44228017e-01 -3.27022403e-01  1.87791586e-01  5.46402454e-01\n",
            "   7.61319473e-02 -4.25526977e-01  3.69068503e-01  8.70524794e-02\n",
            "  -8.50519836e-02 -1.33693650e-01 -8.32293928e-01 -6.77896142e-01\n",
            "   8.96323845e-02  3.82365972e-01 -3.92644674e-01 -5.86665571e-01\n",
            "  -2.16605023e-01 -9.26874876e-02 -8.16820040e-02 -5.99847138e-01\n",
            "   5.50451934e-01  4.68392402e-01 -2.47837320e-01  8.76746699e-02]\n",
            " [ 1.02710076e-01  1.77498043e-01 -3.26134503e-01  3.02661657e-01\n",
            "   2.56014615e-01  2.07271785e-01 -1.75998390e-01 -5.73205352e-02\n",
            "   2.38083783e-04  1.97729915e-02  2.48100430e-01 -8.26373458e-01\n",
            "   8.16656113e-01  2.90398955e-01  8.77721012e-02 -2.79530764e-01\n",
            "   1.73220456e-01  3.48578662e-01  3.52688432e-01  5.60463846e-01\n",
            "  -5.17209172e-01 -8.34551975e-02 -3.26928496e-01 -1.01103179e-01\n",
            "  -1.89377278e-01 -2.11411655e-01 -2.98393905e-01  2.90777683e-01\n",
            "  -2.89807588e-01  6.46943152e-01  3.13025236e-01 -4.91206825e-01\n",
            "   2.89548516e-01  1.68049842e-01  6.48049116e-02  4.33237612e-01\n",
            "   4.31623340e-01  6.67355716e-01  3.98914129e-01  1.74707342e-02\n",
            "  -5.80722727e-02 -3.50580066e-01  1.25273734e-01  6.72356337e-02\n",
            "   2.12730139e-01  4.03290018e-02 -1.26461193e-01 -2.72895902e-01\n",
            "   3.58023167e-01  2.86033880e-02 -3.88706654e-01 -1.55774146e-01\n",
            "   5.03857918e-02  3.60950500e-01  9.30670276e-02 -1.97855011e-01\n",
            "  -1.67503983e-01  2.52303123e-01 -1.58895366e-02 -4.25834417e-01\n",
            "  -3.45803387e-02 -2.22102880e-01 -4.22128111e-01 -3.11419070e-01\n",
            "   5.23960590e-01 -4.25036043e-01  3.78798433e-02  6.52833343e-01\n",
            "  -5.27991891e-01 -7.14101017e-01 -4.95181888e-01  2.74751812e-01\n",
            "  -1.89812958e-01 -2.26620242e-01 -8.03521812e-01 -2.08011895e-01\n",
            "   3.63475144e-01  2.57018715e-01  3.15551907e-02 -4.13081855e-01\n",
            "   7.20423684e-02 -1.14660077e-02 -1.54764250e-01 -2.43604019e-01\n",
            "  -1.24655917e-01 -3.53145450e-02  7.81039298e-01 -5.44743240e-03\n",
            "  -6.30260646e-01  2.80646354e-01  8.92149433e-02  3.60417515e-01\n",
            "   4.19802591e-02 -3.68973047e-01 -2.35328272e-01  3.64148259e-01\n",
            "   3.00604582e-01  3.31809014e-01 -7.17030019e-02  4.58066672e-01\n",
            "  -1.40678227e-01 -4.76145267e-01 -1.97611943e-01 -5.24342358e-01\n",
            "   4.75416154e-01 -3.07333380e-01  1.98184446e-01  4.24809515e-01\n",
            "   5.15476912e-02 -4.09301817e-01  3.94581586e-01  1.36362642e-01\n",
            "  -8.13360810e-02 -2.46390522e-01 -7.91217923e-01 -5.08668959e-01\n",
            "  -5.81357628e-03  3.14243346e-01 -4.49514180e-01 -3.86576265e-01\n",
            "  -2.53996670e-01 -2.64449734e-02 -6.14915863e-02 -5.81162870e-01\n",
            "   4.42036718e-01  4.18021172e-01 -1.94270790e-01  9.89001766e-02]]\n",
            "The dependent variable: \n",
            "['O(1)' 'O(2n)' 'O(2n)' 'O(logN)' 'O(logN)']\n"
          ]
        }
      ]
    },
    {
      "cell_type": "code",
      "source": [
        "from sklearn.ensemble import RandomForestClassifier\n",
        "from sklearn.metrics import roc_auc_score\n",
        "rf_model = RandomForestClassifier()\n",
        "rf_model.fit(X_train,y_train)   \n",
        "rf_model.predict_proba(X_test) #probability of the class label"
      ],
      "metadata": {
        "colab": {
          "base_uri": "https://localhost:8080/"
        },
        "id": "-sEhx4hiRZUM",
        "outputId": "9f995ef2-96b2-4e13-e952-124ea8d3bf53"
      },
      "execution_count": null,
      "outputs": [
        {
          "output_type": "execute_result",
          "data": {
            "text/plain": [
              "array([[0.01, 0.  , 0.  , ..., 0.06, 0.  , 0.  ],\n",
              "       [0.  , 0.02, 0.  , ..., 0.1 , 0.  , 0.02],\n",
              "       [0.  , 0.  , 0.03, ..., 0.24, 0.01, 0.01],\n",
              "       ...,\n",
              "       [0.  , 0.  , 0.  , ..., 0.01, 0.  , 0.01],\n",
              "       [0.  , 0.02, 0.  , ..., 0.01, 0.  , 0.  ],\n",
              "       [0.  , 0.  , 0.  , ..., 0.1 , 0.  , 0.  ]])"
            ]
          },
          "metadata": {},
          "execution_count": 210
        }
      ]
    },
    {
      "cell_type": "code",
      "source": [
        "# roc_auc_score(y_score=np_pred, y_true=np_label, multi_class=\"ovr\",average=None)\n",
        "\n",
        "step_factor = 0.05 \n",
        "threshold_value = 0.2 \n",
        "roc_score=0\n",
        "predicted_proba = rf_model.predict_proba(X_test) #probability of prediction\n",
        "while threshold_value <=0.8: #continue to check best threshold upto probability 0.8\n",
        "    temp_thresh = threshold_value\n",
        "    predicted = (predicted_proba [:,1] >= temp_thresh).astype('int') #change the class boundary for prediction\n",
        "    print('Threshold',temp_thresh,'--',roc_auc_score(y_test, predicted))\n",
        "    if roc_score<roc_auc_score(y_test, predicted): #store the threshold for best classification\n",
        "        roc_score = roc_auc_score(y_test, predicted)\n",
        "        thrsh_score = threshold_value\n",
        "    threshold_value = threshold_value + step_factor\n",
        "print('---Optimum Threshold ---',thrsh_score,'--ROC--',roc_score)"
      ],
      "metadata": {
        "id": "VYNVsDwDRvB6"
      },
      "execution_count": null,
      "outputs": []
    },
    {
      "cell_type": "code",
      "source": [],
      "metadata": {
        "id": "FFqUTIzKRvIf"
      },
      "execution_count": null,
      "outputs": []
    },
    {
      "cell_type": "markdown",
      "source": [
        "\n",
        "# **Results**\n",
        "\n",
        "---\n",
        "\n",
        "\n",
        "0.5945 -> All classes\n",
        "\n",
        "0.5888 -> Removing 4 classes <10\n",
        "\n",
        "---\n",
        "\n",
        "**Resampling**\n",
        "\n",
        "0.8882 -> N, N2\n",
        "\n",
        "0.8986 -> N, N2, NlogN, logN\n",
        "\n",
        "0.9449 -> Removing 4 classes <10\n",
        "\n",
        "0.9573 -> All classes\n",
        "\n",
        "---\n",
        "\n",
        "**SMOTE**\n",
        "\n",
        "0.9734 -> N, N2\n",
        "\n",
        "---\n",
        "\n",
        "**Feature Importance**\n",
        "0.9616204 -> All Classes"
      ],
      "metadata": {
        "id": "uX_9nVG3V6jU"
      }
    },
    {
      "cell_type": "markdown",
      "source": [
        "# **Results**\n",
        "\n",
        "---\n",
        "1. Accuracy\n",
        "2. Precision\n",
        "3. Recall\n",
        "4. F1 Score\n",
        "5. Cohen Kappa Score\n",
        "6. Roc auc Score\n",
        "---\n",
        "**Random Forest**\n",
        "\n",
        "0.9573560767590619\n",
        "\n",
        "0.9584976073991893\n",
        "\n",
        "0.9573560767590619\n",
        "\n",
        "0.9552754759579702\n",
        "\n",
        "---\n",
        "**Adaboost**\n",
        "\n",
        "0.802771855010661\n",
        "\n",
        "0.8534504944314486\n",
        "\n",
        "0.802771855010661\n",
        "\n",
        "0.8145437082907355\n",
        "\n",
        "---\n",
        "**XGBoost**\n",
        "\n",
        "0.9658848614072495\n",
        "\n",
        "0.965915211393339\n",
        "\n",
        "0.9658848614072495\n",
        "\n",
        "0.9649037802214644\n",
        "\n",
        "0.9620538169314109\n",
        "\n",
        "---\n",
        "**KNN**\n",
        "\n",
        "0.9008528784648188\n",
        "\n",
        "0.9001685697973634\n",
        "\n",
        "0.9008528784648188\n",
        "\n",
        "0.8916125571931889\n",
        "\n",
        "0.8896681342336884\n",
        "\n",
        "---\n",
        "\n",
        "**Logistic Regressiont**\n",
        "\n",
        "0.9008528784648188\n",
        "\n",
        "0.900135627354752\n",
        "\n",
        "0.9008528784648188\n",
        "\n",
        "0.8995841318871703\n",
        "\n",
        "0.8897233666267618\n",
        "\n",
        "---\n",
        "\n",
        "**Naive Bayes**\n",
        "\n",
        "0.4275053304904051\n",
        "\n",
        "0.5715843473005865\n",
        "\n",
        "0.4275053304904051\n",
        "\n",
        "0.42702817370427987\n",
        "\n",
        "0.3624604153007678\n",
        "\n",
        "---"
      ],
      "metadata": {
        "id": "CgXFNcMVQ1do"
      }
    }
  ]
}