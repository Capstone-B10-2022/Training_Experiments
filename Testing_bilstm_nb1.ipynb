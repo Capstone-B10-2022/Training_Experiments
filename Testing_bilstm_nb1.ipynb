{
  "cells": [
    {
      "cell_type": "code",
      "execution_count": null,
      "metadata": {
        "colab": {
          "base_uri": "https://localhost:8080/"
        },
        "id": "8cxhqXV8yqKA",
        "outputId": "3afc0a1c-0db6-4358-a764-df40a8f8bb51"
      },
      "outputs": [
        {
          "output_type": "stream",
          "name": "stdout",
          "text": [
            "Mounted at /content/drive\n"
          ]
        }
      ],
      "source": [
        "from google.colab import drive\n",
        "drive.mount('/content/drive')\n",
        "\n",
        "#import pandas to read the csv file\n",
        "import pandas as pd\n",
        "import numpy as np"
      ]
    },
    {
      "cell_type": "code",
      "execution_count": null,
      "metadata": {
        "id": "ap5dzyYw1IYq"
      },
      "outputs": [],
      "source": [
        "#Importing Libraries\n",
        "import numpy as np\n",
        "import pandas as pd\n",
        "from sklearn.model_selection import train_test_split\n",
        "from sklearn.preprocessing import StandardScaler\n",
        "from sklearn.ensemble import RandomForestClassifier\n",
        "from sklearn.metrics import confusion_matrix\n",
        "# from sklearn.externals import joblib"
      ]
    },
    {
      "cell_type": "code",
      "execution_count": null,
      "metadata": {
        "id": "ZeuIGWUi08IY"
      },
      "outputs": [],
      "source": [
        "#reading the y.txt file which contains labels\n",
        "y = pd.read_csv('/content/drive/MyDrive/y.txt', sep = \" \", header=None, names=[\"Complexity\", \"Node Number\", \"Language\"])"
      ]
    },
    {
      "cell_type": "code",
      "execution_count": null,
      "metadata": {
        "colab": {
          "base_uri": "https://localhost:8080/",
          "height": 424
        },
        "id": "286DUU7X0brh",
        "outputId": "62c5ee25-9ddd-43be-8236-ca253b567ae7"
      },
      "outputs": [
        {
          "output_type": "execute_result",
          "data": {
            "text/plain": [
              "    Complexity Node Number Language\n",
              "0         O(1)      nodes0        C\n",
              "1        O(2n)      nodes0        C\n",
              "2        O(2n)      nodes1        C\n",
              "3      O(logN)      nodes0        C\n",
              "4      O(logN)      nodes1        C\n",
              "..         ...         ...      ...\n",
              "735   O(NlogN)      nodes5     Java\n",
              "736   O(NlogN)      nodes6     Java\n",
              "737   O(NlogN)      nodes7     Java\n",
              "738   O(NlogN)      nodes8     Java\n",
              "739   O(NlogN)      nodes9     Java\n",
              "\n",
              "[740 rows x 3 columns]"
            ],
            "text/html": [
              "\n",
              "  <div id=\"df-ca7dfc58-9972-4a1a-abb9-f294d9c7bc3f\">\n",
              "    <div class=\"colab-df-container\">\n",
              "      <div>\n",
              "<style scoped>\n",
              "    .dataframe tbody tr th:only-of-type {\n",
              "        vertical-align: middle;\n",
              "    }\n",
              "\n",
              "    .dataframe tbody tr th {\n",
              "        vertical-align: top;\n",
              "    }\n",
              "\n",
              "    .dataframe thead th {\n",
              "        text-align: right;\n",
              "    }\n",
              "</style>\n",
              "<table border=\"1\" class=\"dataframe\">\n",
              "  <thead>\n",
              "    <tr style=\"text-align: right;\">\n",
              "      <th></th>\n",
              "      <th>Complexity</th>\n",
              "      <th>Node Number</th>\n",
              "      <th>Language</th>\n",
              "    </tr>\n",
              "  </thead>\n",
              "  <tbody>\n",
              "    <tr>\n",
              "      <th>0</th>\n",
              "      <td>O(1)</td>\n",
              "      <td>nodes0</td>\n",
              "      <td>C</td>\n",
              "    </tr>\n",
              "    <tr>\n",
              "      <th>1</th>\n",
              "      <td>O(2n)</td>\n",
              "      <td>nodes0</td>\n",
              "      <td>C</td>\n",
              "    </tr>\n",
              "    <tr>\n",
              "      <th>2</th>\n",
              "      <td>O(2n)</td>\n",
              "      <td>nodes1</td>\n",
              "      <td>C</td>\n",
              "    </tr>\n",
              "    <tr>\n",
              "      <th>3</th>\n",
              "      <td>O(logN)</td>\n",
              "      <td>nodes0</td>\n",
              "      <td>C</td>\n",
              "    </tr>\n",
              "    <tr>\n",
              "      <th>4</th>\n",
              "      <td>O(logN)</td>\n",
              "      <td>nodes1</td>\n",
              "      <td>C</td>\n",
              "    </tr>\n",
              "    <tr>\n",
              "      <th>...</th>\n",
              "      <td>...</td>\n",
              "      <td>...</td>\n",
              "      <td>...</td>\n",
              "    </tr>\n",
              "    <tr>\n",
              "      <th>735</th>\n",
              "      <td>O(NlogN)</td>\n",
              "      <td>nodes5</td>\n",
              "      <td>Java</td>\n",
              "    </tr>\n",
              "    <tr>\n",
              "      <th>736</th>\n",
              "      <td>O(NlogN)</td>\n",
              "      <td>nodes6</td>\n",
              "      <td>Java</td>\n",
              "    </tr>\n",
              "    <tr>\n",
              "      <th>737</th>\n",
              "      <td>O(NlogN)</td>\n",
              "      <td>nodes7</td>\n",
              "      <td>Java</td>\n",
              "    </tr>\n",
              "    <tr>\n",
              "      <th>738</th>\n",
              "      <td>O(NlogN)</td>\n",
              "      <td>nodes8</td>\n",
              "      <td>Java</td>\n",
              "    </tr>\n",
              "    <tr>\n",
              "      <th>739</th>\n",
              "      <td>O(NlogN)</td>\n",
              "      <td>nodes9</td>\n",
              "      <td>Java</td>\n",
              "    </tr>\n",
              "  </tbody>\n",
              "</table>\n",
              "<p>740 rows × 3 columns</p>\n",
              "</div>\n",
              "      <button class=\"colab-df-convert\" onclick=\"convertToInteractive('df-ca7dfc58-9972-4a1a-abb9-f294d9c7bc3f')\"\n",
              "              title=\"Convert this dataframe to an interactive table.\"\n",
              "              style=\"display:none;\">\n",
              "        \n",
              "  <svg xmlns=\"http://www.w3.org/2000/svg\" height=\"24px\"viewBox=\"0 0 24 24\"\n",
              "       width=\"24px\">\n",
              "    <path d=\"M0 0h24v24H0V0z\" fill=\"none\"/>\n",
              "    <path d=\"M18.56 5.44l.94 2.06.94-2.06 2.06-.94-2.06-.94-.94-2.06-.94 2.06-2.06.94zm-11 1L8.5 8.5l.94-2.06 2.06-.94-2.06-.94L8.5 2.5l-.94 2.06-2.06.94zm10 10l.94 2.06.94-2.06 2.06-.94-2.06-.94-.94-2.06-.94 2.06-2.06.94z\"/><path d=\"M17.41 7.96l-1.37-1.37c-.4-.4-.92-.59-1.43-.59-.52 0-1.04.2-1.43.59L10.3 9.45l-7.72 7.72c-.78.78-.78 2.05 0 2.83L4 21.41c.39.39.9.59 1.41.59.51 0 1.02-.2 1.41-.59l7.78-7.78 2.81-2.81c.8-.78.8-2.07 0-2.86zM5.41 20L4 18.59l7.72-7.72 1.47 1.35L5.41 20z\"/>\n",
              "  </svg>\n",
              "      </button>\n",
              "      \n",
              "  <style>\n",
              "    .colab-df-container {\n",
              "      display:flex;\n",
              "      flex-wrap:wrap;\n",
              "      gap: 12px;\n",
              "    }\n",
              "\n",
              "    .colab-df-convert {\n",
              "      background-color: #E8F0FE;\n",
              "      border: none;\n",
              "      border-radius: 50%;\n",
              "      cursor: pointer;\n",
              "      display: none;\n",
              "      fill: #1967D2;\n",
              "      height: 32px;\n",
              "      padding: 0 0 0 0;\n",
              "      width: 32px;\n",
              "    }\n",
              "\n",
              "    .colab-df-convert:hover {\n",
              "      background-color: #E2EBFA;\n",
              "      box-shadow: 0px 1px 2px rgba(60, 64, 67, 0.3), 0px 1px 3px 1px rgba(60, 64, 67, 0.15);\n",
              "      fill: #174EA6;\n",
              "    }\n",
              "\n",
              "    [theme=dark] .colab-df-convert {\n",
              "      background-color: #3B4455;\n",
              "      fill: #D2E3FC;\n",
              "    }\n",
              "\n",
              "    [theme=dark] .colab-df-convert:hover {\n",
              "      background-color: #434B5C;\n",
              "      box-shadow: 0px 1px 3px 1px rgba(0, 0, 0, 0.15);\n",
              "      filter: drop-shadow(0px 1px 2px rgba(0, 0, 0, 0.3));\n",
              "      fill: #FFFFFF;\n",
              "    }\n",
              "  </style>\n",
              "\n",
              "      <script>\n",
              "        const buttonEl =\n",
              "          document.querySelector('#df-ca7dfc58-9972-4a1a-abb9-f294d9c7bc3f button.colab-df-convert');\n",
              "        buttonEl.style.display =\n",
              "          google.colab.kernel.accessAllowed ? 'block' : 'none';\n",
              "\n",
              "        async function convertToInteractive(key) {\n",
              "          const element = document.querySelector('#df-ca7dfc58-9972-4a1a-abb9-f294d9c7bc3f');\n",
              "          const dataTable =\n",
              "            await google.colab.kernel.invokeFunction('convertToInteractive',\n",
              "                                                     [key], {});\n",
              "          if (!dataTable) return;\n",
              "\n",
              "          const docLinkHtml = 'Like what you see? Visit the ' +\n",
              "            '<a target=\"_blank\" href=https://colab.research.google.com/notebooks/data_table.ipynb>data table notebook</a>'\n",
              "            + ' to learn more about interactive tables.';\n",
              "          element.innerHTML = '';\n",
              "          dataTable['output_type'] = 'display_data';\n",
              "          await google.colab.output.renderOutput(dataTable, element);\n",
              "          const docLink = document.createElement('div');\n",
              "          docLink.innerHTML = docLinkHtml;\n",
              "          element.appendChild(docLink);\n",
              "        }\n",
              "      </script>\n",
              "    </div>\n",
              "  </div>\n",
              "  "
            ]
          },
          "metadata": {},
          "execution_count": 4
        }
      ],
      "source": [
        "y"
      ]
    },
    {
      "cell_type": "code",
      "execution_count": null,
      "metadata": {
        "id": "7a3zU35O1UPe"
      },
      "outputs": [],
      "source": [
        "x = np.load('/content/drive/MyDrive/x.npy')"
      ]
    },
    {
      "cell_type": "code",
      "execution_count": null,
      "metadata": {
        "colab": {
          "base_uri": "https://localhost:8080/"
        },
        "id": "8KsBc9yHhPqo",
        "outputId": "4cea8b9a-15ab-4ec1-e105-d6000d491515"
      },
      "outputs": [
        {
          "output_type": "execute_result",
          "data": {
            "text/plain": [
              "array([[-0.05468176,  0.127175  ,  0.0366478 , ...,  0.09731236,\n",
              "        -0.107657  ,  0.08184043],\n",
              "       [-0.0952346 ,  0.17503381,  0.06393544, ...,  0.1181241 ,\n",
              "        -0.12556435,  0.13071893],\n",
              "       [-0.13581266,  0.21943617,  0.10214286, ...,  0.1283566 ,\n",
              "        -0.14471857,  0.19222681],\n",
              "       ...,\n",
              "       [ 0.18476942, -0.20165125, -0.23536444, ...,  0.23089787,\n",
              "        -0.3212845 , -0.2662279 ],\n",
              "       [ 0.25568134, -0.19382419, -0.3828221 , ...,  0.27317905,\n",
              "        -0.33641592, -0.30042982],\n",
              "       [ 0.78257215, -0.16311097, -0.7386889 , ...,  0.5125705 ,\n",
              "        -0.17265631, -0.5655121 ]], dtype=float32)"
            ]
          },
          "metadata": {},
          "execution_count": 6
        }
      ],
      "source": [
        "x"
      ]
    },
    {
      "cell_type": "code",
      "execution_count": null,
      "metadata": {
        "id": "SlGnfz__1PI9"
      },
      "outputs": [],
      "source": [
        "df = []\n",
        "for i in range(len(x)):\n",
        "  emb = x[i].tolist()\n",
        "  # emb.append(y[i])\n",
        "  df.append(emb)\n",
        "col = []\n",
        "for i in range(128):\n",
        "  col.append('emb'+str(i+1))\n",
        "# col.append('classes')\n",
        "df = pd.DataFrame(df, columns=col)"
      ]
    },
    {
      "cell_type": "code",
      "execution_count": null,
      "metadata": {
        "colab": {
          "base_uri": "https://localhost:8080/",
          "height": 488
        },
        "id": "SjzyYnM_fUCL",
        "outputId": "86df234c-4318-4642-f641-cc2c3b1ca0d4"
      },
      "outputs": [
        {
          "output_type": "execute_result",
          "data": {
            "text/plain": [
              "         emb1      emb2      emb3      emb4      emb5      emb6      emb7  \\\n",
              "0   -0.054682  0.127175  0.036648  0.090353  0.192498  0.043540 -0.060334   \n",
              "1   -0.095235  0.175034  0.063935  0.117448  0.255929  0.064811 -0.072923   \n",
              "2   -0.135813  0.219436  0.102143  0.135153  0.286394  0.068151 -0.078952   \n",
              "3    0.270222  0.300358 -0.445603  0.196632  0.531115  0.433794 -0.261992   \n",
              "4    0.102710  0.177498 -0.326135  0.302662  0.256015  0.207272 -0.175998   \n",
              "..        ...       ...       ...       ...       ...       ...       ...   \n",
              "735  0.162677 -0.179751 -0.320467  0.374476  0.487395 -0.065953 -0.380204   \n",
              "736  0.183020 -0.166014 -0.231057  0.452174  0.562882 -0.138434 -0.443576   \n",
              "737  0.184769 -0.201651 -0.235364  0.446800  0.547860 -0.155865 -0.472018   \n",
              "738  0.255681 -0.193824 -0.382822  0.447094  0.499922 -0.083941 -0.402473   \n",
              "739  0.782572 -0.163111 -0.738689  0.510340  0.762960  0.278493 -0.506301   \n",
              "\n",
              "         emb8      emb9     emb10  ...    emb119    emb120    emb121  \\\n",
              "0   -0.037632 -0.001838  0.116995  ... -0.125052 -0.049275 -0.131080   \n",
              "1   -0.032716  0.013575  0.152739  ... -0.191601 -0.024092 -0.185713   \n",
              "2   -0.003041  0.021949  0.182400  ... -0.259607  0.008541 -0.236532   \n",
              "3   -0.074271 -0.215854 -0.061681  ... -0.392645 -0.586666 -0.216605   \n",
              "4   -0.057321  0.000238  0.019773  ... -0.449514 -0.386576 -0.253997   \n",
              "..        ...       ...       ...  ...       ...       ...       ...   \n",
              "735 -0.143154 -0.065873  0.257494  ... -0.329598 -0.397525  0.117815   \n",
              "736 -0.284463 -0.054835  0.159889  ... -0.263365 -0.445122  0.000230   \n",
              "737 -0.309393 -0.079808  0.205073  ... -0.239681 -0.489142 -0.006414   \n",
              "738 -0.251599 -0.028515  0.150684  ... -0.323401 -0.498780  0.046986   \n",
              "739 -0.299853 -0.460638 -0.063568  ... -0.437831 -1.165067  0.113273   \n",
              "\n",
              "       emb122    emb123    emb124    emb125    emb126    emb127    emb128  \n",
              "0    0.002272 -0.017875 -0.209266  0.199226  0.097312 -0.107657  0.081840  \n",
              "1   -0.016963 -0.040366 -0.277818  0.261729  0.118124 -0.125564  0.130719  \n",
              "2   -0.032249 -0.071049 -0.334604  0.334102  0.128357 -0.144719  0.192227  \n",
              "3   -0.092687 -0.081682 -0.599847  0.550452  0.468392 -0.247837  0.087675  \n",
              "4   -0.026445 -0.061492 -0.581163  0.442037  0.418021 -0.194271  0.098900  \n",
              "..        ...       ...       ...       ...       ...       ...       ...  \n",
              "735  0.099337 -0.094519 -0.544291  0.213452  0.262748 -0.306325 -0.224609  \n",
              "736  0.095979 -0.063981 -0.603873  0.114075  0.222806 -0.317638 -0.290131  \n",
              "737  0.128634 -0.109084 -0.605826  0.106701  0.230898 -0.321285 -0.266228  \n",
              "738  0.124914 -0.117825 -0.633948  0.106924  0.273179 -0.336416 -0.300430  \n",
              "739  0.033455 -0.083436 -0.703199  0.322280  0.512571 -0.172656 -0.565512  \n",
              "\n",
              "[740 rows x 128 columns]"
            ],
            "text/html": [
              "\n",
              "  <div id=\"df-e758cec8-4c35-4c74-8442-44eb06e335a6\">\n",
              "    <div class=\"colab-df-container\">\n",
              "      <div>\n",
              "<style scoped>\n",
              "    .dataframe tbody tr th:only-of-type {\n",
              "        vertical-align: middle;\n",
              "    }\n",
              "\n",
              "    .dataframe tbody tr th {\n",
              "        vertical-align: top;\n",
              "    }\n",
              "\n",
              "    .dataframe thead th {\n",
              "        text-align: right;\n",
              "    }\n",
              "</style>\n",
              "<table border=\"1\" class=\"dataframe\">\n",
              "  <thead>\n",
              "    <tr style=\"text-align: right;\">\n",
              "      <th></th>\n",
              "      <th>emb1</th>\n",
              "      <th>emb2</th>\n",
              "      <th>emb3</th>\n",
              "      <th>emb4</th>\n",
              "      <th>emb5</th>\n",
              "      <th>emb6</th>\n",
              "      <th>emb7</th>\n",
              "      <th>emb8</th>\n",
              "      <th>emb9</th>\n",
              "      <th>emb10</th>\n",
              "      <th>...</th>\n",
              "      <th>emb119</th>\n",
              "      <th>emb120</th>\n",
              "      <th>emb121</th>\n",
              "      <th>emb122</th>\n",
              "      <th>emb123</th>\n",
              "      <th>emb124</th>\n",
              "      <th>emb125</th>\n",
              "      <th>emb126</th>\n",
              "      <th>emb127</th>\n",
              "      <th>emb128</th>\n",
              "    </tr>\n",
              "  </thead>\n",
              "  <tbody>\n",
              "    <tr>\n",
              "      <th>0</th>\n",
              "      <td>-0.054682</td>\n",
              "      <td>0.127175</td>\n",
              "      <td>0.036648</td>\n",
              "      <td>0.090353</td>\n",
              "      <td>0.192498</td>\n",
              "      <td>0.043540</td>\n",
              "      <td>-0.060334</td>\n",
              "      <td>-0.037632</td>\n",
              "      <td>-0.001838</td>\n",
              "      <td>0.116995</td>\n",
              "      <td>...</td>\n",
              "      <td>-0.125052</td>\n",
              "      <td>-0.049275</td>\n",
              "      <td>-0.131080</td>\n",
              "      <td>0.002272</td>\n",
              "      <td>-0.017875</td>\n",
              "      <td>-0.209266</td>\n",
              "      <td>0.199226</td>\n",
              "      <td>0.097312</td>\n",
              "      <td>-0.107657</td>\n",
              "      <td>0.081840</td>\n",
              "    </tr>\n",
              "    <tr>\n",
              "      <th>1</th>\n",
              "      <td>-0.095235</td>\n",
              "      <td>0.175034</td>\n",
              "      <td>0.063935</td>\n",
              "      <td>0.117448</td>\n",
              "      <td>0.255929</td>\n",
              "      <td>0.064811</td>\n",
              "      <td>-0.072923</td>\n",
              "      <td>-0.032716</td>\n",
              "      <td>0.013575</td>\n",
              "      <td>0.152739</td>\n",
              "      <td>...</td>\n",
              "      <td>-0.191601</td>\n",
              "      <td>-0.024092</td>\n",
              "      <td>-0.185713</td>\n",
              "      <td>-0.016963</td>\n",
              "      <td>-0.040366</td>\n",
              "      <td>-0.277818</td>\n",
              "      <td>0.261729</td>\n",
              "      <td>0.118124</td>\n",
              "      <td>-0.125564</td>\n",
              "      <td>0.130719</td>\n",
              "    </tr>\n",
              "    <tr>\n",
              "      <th>2</th>\n",
              "      <td>-0.135813</td>\n",
              "      <td>0.219436</td>\n",
              "      <td>0.102143</td>\n",
              "      <td>0.135153</td>\n",
              "      <td>0.286394</td>\n",
              "      <td>0.068151</td>\n",
              "      <td>-0.078952</td>\n",
              "      <td>-0.003041</td>\n",
              "      <td>0.021949</td>\n",
              "      <td>0.182400</td>\n",
              "      <td>...</td>\n",
              "      <td>-0.259607</td>\n",
              "      <td>0.008541</td>\n",
              "      <td>-0.236532</td>\n",
              "      <td>-0.032249</td>\n",
              "      <td>-0.071049</td>\n",
              "      <td>-0.334604</td>\n",
              "      <td>0.334102</td>\n",
              "      <td>0.128357</td>\n",
              "      <td>-0.144719</td>\n",
              "      <td>0.192227</td>\n",
              "    </tr>\n",
              "    <tr>\n",
              "      <th>3</th>\n",
              "      <td>0.270222</td>\n",
              "      <td>0.300358</td>\n",
              "      <td>-0.445603</td>\n",
              "      <td>0.196632</td>\n",
              "      <td>0.531115</td>\n",
              "      <td>0.433794</td>\n",
              "      <td>-0.261992</td>\n",
              "      <td>-0.074271</td>\n",
              "      <td>-0.215854</td>\n",
              "      <td>-0.061681</td>\n",
              "      <td>...</td>\n",
              "      <td>-0.392645</td>\n",
              "      <td>-0.586666</td>\n",
              "      <td>-0.216605</td>\n",
              "      <td>-0.092687</td>\n",
              "      <td>-0.081682</td>\n",
              "      <td>-0.599847</td>\n",
              "      <td>0.550452</td>\n",
              "      <td>0.468392</td>\n",
              "      <td>-0.247837</td>\n",
              "      <td>0.087675</td>\n",
              "    </tr>\n",
              "    <tr>\n",
              "      <th>4</th>\n",
              "      <td>0.102710</td>\n",
              "      <td>0.177498</td>\n",
              "      <td>-0.326135</td>\n",
              "      <td>0.302662</td>\n",
              "      <td>0.256015</td>\n",
              "      <td>0.207272</td>\n",
              "      <td>-0.175998</td>\n",
              "      <td>-0.057321</td>\n",
              "      <td>0.000238</td>\n",
              "      <td>0.019773</td>\n",
              "      <td>...</td>\n",
              "      <td>-0.449514</td>\n",
              "      <td>-0.386576</td>\n",
              "      <td>-0.253997</td>\n",
              "      <td>-0.026445</td>\n",
              "      <td>-0.061492</td>\n",
              "      <td>-0.581163</td>\n",
              "      <td>0.442037</td>\n",
              "      <td>0.418021</td>\n",
              "      <td>-0.194271</td>\n",
              "      <td>0.098900</td>\n",
              "    </tr>\n",
              "    <tr>\n",
              "      <th>...</th>\n",
              "      <td>...</td>\n",
              "      <td>...</td>\n",
              "      <td>...</td>\n",
              "      <td>...</td>\n",
              "      <td>...</td>\n",
              "      <td>...</td>\n",
              "      <td>...</td>\n",
              "      <td>...</td>\n",
              "      <td>...</td>\n",
              "      <td>...</td>\n",
              "      <td>...</td>\n",
              "      <td>...</td>\n",
              "      <td>...</td>\n",
              "      <td>...</td>\n",
              "      <td>...</td>\n",
              "      <td>...</td>\n",
              "      <td>...</td>\n",
              "      <td>...</td>\n",
              "      <td>...</td>\n",
              "      <td>...</td>\n",
              "      <td>...</td>\n",
              "    </tr>\n",
              "    <tr>\n",
              "      <th>735</th>\n",
              "      <td>0.162677</td>\n",
              "      <td>-0.179751</td>\n",
              "      <td>-0.320467</td>\n",
              "      <td>0.374476</td>\n",
              "      <td>0.487395</td>\n",
              "      <td>-0.065953</td>\n",
              "      <td>-0.380204</td>\n",
              "      <td>-0.143154</td>\n",
              "      <td>-0.065873</td>\n",
              "      <td>0.257494</td>\n",
              "      <td>...</td>\n",
              "      <td>-0.329598</td>\n",
              "      <td>-0.397525</td>\n",
              "      <td>0.117815</td>\n",
              "      <td>0.099337</td>\n",
              "      <td>-0.094519</td>\n",
              "      <td>-0.544291</td>\n",
              "      <td>0.213452</td>\n",
              "      <td>0.262748</td>\n",
              "      <td>-0.306325</td>\n",
              "      <td>-0.224609</td>\n",
              "    </tr>\n",
              "    <tr>\n",
              "      <th>736</th>\n",
              "      <td>0.183020</td>\n",
              "      <td>-0.166014</td>\n",
              "      <td>-0.231057</td>\n",
              "      <td>0.452174</td>\n",
              "      <td>0.562882</td>\n",
              "      <td>-0.138434</td>\n",
              "      <td>-0.443576</td>\n",
              "      <td>-0.284463</td>\n",
              "      <td>-0.054835</td>\n",
              "      <td>0.159889</td>\n",
              "      <td>...</td>\n",
              "      <td>-0.263365</td>\n",
              "      <td>-0.445122</td>\n",
              "      <td>0.000230</td>\n",
              "      <td>0.095979</td>\n",
              "      <td>-0.063981</td>\n",
              "      <td>-0.603873</td>\n",
              "      <td>0.114075</td>\n",
              "      <td>0.222806</td>\n",
              "      <td>-0.317638</td>\n",
              "      <td>-0.290131</td>\n",
              "    </tr>\n",
              "    <tr>\n",
              "      <th>737</th>\n",
              "      <td>0.184769</td>\n",
              "      <td>-0.201651</td>\n",
              "      <td>-0.235364</td>\n",
              "      <td>0.446800</td>\n",
              "      <td>0.547860</td>\n",
              "      <td>-0.155865</td>\n",
              "      <td>-0.472018</td>\n",
              "      <td>-0.309393</td>\n",
              "      <td>-0.079808</td>\n",
              "      <td>0.205073</td>\n",
              "      <td>...</td>\n",
              "      <td>-0.239681</td>\n",
              "      <td>-0.489142</td>\n",
              "      <td>-0.006414</td>\n",
              "      <td>0.128634</td>\n",
              "      <td>-0.109084</td>\n",
              "      <td>-0.605826</td>\n",
              "      <td>0.106701</td>\n",
              "      <td>0.230898</td>\n",
              "      <td>-0.321285</td>\n",
              "      <td>-0.266228</td>\n",
              "    </tr>\n",
              "    <tr>\n",
              "      <th>738</th>\n",
              "      <td>0.255681</td>\n",
              "      <td>-0.193824</td>\n",
              "      <td>-0.382822</td>\n",
              "      <td>0.447094</td>\n",
              "      <td>0.499922</td>\n",
              "      <td>-0.083941</td>\n",
              "      <td>-0.402473</td>\n",
              "      <td>-0.251599</td>\n",
              "      <td>-0.028515</td>\n",
              "      <td>0.150684</td>\n",
              "      <td>...</td>\n",
              "      <td>-0.323401</td>\n",
              "      <td>-0.498780</td>\n",
              "      <td>0.046986</td>\n",
              "      <td>0.124914</td>\n",
              "      <td>-0.117825</td>\n",
              "      <td>-0.633948</td>\n",
              "      <td>0.106924</td>\n",
              "      <td>0.273179</td>\n",
              "      <td>-0.336416</td>\n",
              "      <td>-0.300430</td>\n",
              "    </tr>\n",
              "    <tr>\n",
              "      <th>739</th>\n",
              "      <td>0.782572</td>\n",
              "      <td>-0.163111</td>\n",
              "      <td>-0.738689</td>\n",
              "      <td>0.510340</td>\n",
              "      <td>0.762960</td>\n",
              "      <td>0.278493</td>\n",
              "      <td>-0.506301</td>\n",
              "      <td>-0.299853</td>\n",
              "      <td>-0.460638</td>\n",
              "      <td>-0.063568</td>\n",
              "      <td>...</td>\n",
              "      <td>-0.437831</td>\n",
              "      <td>-1.165067</td>\n",
              "      <td>0.113273</td>\n",
              "      <td>0.033455</td>\n",
              "      <td>-0.083436</td>\n",
              "      <td>-0.703199</td>\n",
              "      <td>0.322280</td>\n",
              "      <td>0.512571</td>\n",
              "      <td>-0.172656</td>\n",
              "      <td>-0.565512</td>\n",
              "    </tr>\n",
              "  </tbody>\n",
              "</table>\n",
              "<p>740 rows × 128 columns</p>\n",
              "</div>\n",
              "      <button class=\"colab-df-convert\" onclick=\"convertToInteractive('df-e758cec8-4c35-4c74-8442-44eb06e335a6')\"\n",
              "              title=\"Convert this dataframe to an interactive table.\"\n",
              "              style=\"display:none;\">\n",
              "        \n",
              "  <svg xmlns=\"http://www.w3.org/2000/svg\" height=\"24px\"viewBox=\"0 0 24 24\"\n",
              "       width=\"24px\">\n",
              "    <path d=\"M0 0h24v24H0V0z\" fill=\"none\"/>\n",
              "    <path d=\"M18.56 5.44l.94 2.06.94-2.06 2.06-.94-2.06-.94-.94-2.06-.94 2.06-2.06.94zm-11 1L8.5 8.5l.94-2.06 2.06-.94-2.06-.94L8.5 2.5l-.94 2.06-2.06.94zm10 10l.94 2.06.94-2.06 2.06-.94-2.06-.94-.94-2.06-.94 2.06-2.06.94z\"/><path d=\"M17.41 7.96l-1.37-1.37c-.4-.4-.92-.59-1.43-.59-.52 0-1.04.2-1.43.59L10.3 9.45l-7.72 7.72c-.78.78-.78 2.05 0 2.83L4 21.41c.39.39.9.59 1.41.59.51 0 1.02-.2 1.41-.59l7.78-7.78 2.81-2.81c.8-.78.8-2.07 0-2.86zM5.41 20L4 18.59l7.72-7.72 1.47 1.35L5.41 20z\"/>\n",
              "  </svg>\n",
              "      </button>\n",
              "      \n",
              "  <style>\n",
              "    .colab-df-container {\n",
              "      display:flex;\n",
              "      flex-wrap:wrap;\n",
              "      gap: 12px;\n",
              "    }\n",
              "\n",
              "    .colab-df-convert {\n",
              "      background-color: #E8F0FE;\n",
              "      border: none;\n",
              "      border-radius: 50%;\n",
              "      cursor: pointer;\n",
              "      display: none;\n",
              "      fill: #1967D2;\n",
              "      height: 32px;\n",
              "      padding: 0 0 0 0;\n",
              "      width: 32px;\n",
              "    }\n",
              "\n",
              "    .colab-df-convert:hover {\n",
              "      background-color: #E2EBFA;\n",
              "      box-shadow: 0px 1px 2px rgba(60, 64, 67, 0.3), 0px 1px 3px 1px rgba(60, 64, 67, 0.15);\n",
              "      fill: #174EA6;\n",
              "    }\n",
              "\n",
              "    [theme=dark] .colab-df-convert {\n",
              "      background-color: #3B4455;\n",
              "      fill: #D2E3FC;\n",
              "    }\n",
              "\n",
              "    [theme=dark] .colab-df-convert:hover {\n",
              "      background-color: #434B5C;\n",
              "      box-shadow: 0px 1px 3px 1px rgba(0, 0, 0, 0.15);\n",
              "      filter: drop-shadow(0px 1px 2px rgba(0, 0, 0, 0.3));\n",
              "      fill: #FFFFFF;\n",
              "    }\n",
              "  </style>\n",
              "\n",
              "      <script>\n",
              "        const buttonEl =\n",
              "          document.querySelector('#df-e758cec8-4c35-4c74-8442-44eb06e335a6 button.colab-df-convert');\n",
              "        buttonEl.style.display =\n",
              "          google.colab.kernel.accessAllowed ? 'block' : 'none';\n",
              "\n",
              "        async function convertToInteractive(key) {\n",
              "          const element = document.querySelector('#df-e758cec8-4c35-4c74-8442-44eb06e335a6');\n",
              "          const dataTable =\n",
              "            await google.colab.kernel.invokeFunction('convertToInteractive',\n",
              "                                                     [key], {});\n",
              "          if (!dataTable) return;\n",
              "\n",
              "          const docLinkHtml = 'Like what you see? Visit the ' +\n",
              "            '<a target=\"_blank\" href=https://colab.research.google.com/notebooks/data_table.ipynb>data table notebook</a>'\n",
              "            + ' to learn more about interactive tables.';\n",
              "          element.innerHTML = '';\n",
              "          dataTable['output_type'] = 'display_data';\n",
              "          await google.colab.output.renderOutput(dataTable, element);\n",
              "          const docLink = document.createElement('div');\n",
              "          docLink.innerHTML = docLinkHtml;\n",
              "          element.appendChild(docLink);\n",
              "        }\n",
              "      </script>\n",
              "    </div>\n",
              "  </div>\n",
              "  "
            ]
          },
          "metadata": {},
          "execution_count": 8
        }
      ],
      "source": [
        "df"
      ]
    },
    {
      "cell_type": "code",
      "execution_count": null,
      "metadata": {
        "id": "fxpZzgtCzTHR"
      },
      "outputs": [],
      "source": [
        "df_y = pd.read_csv('/content/drive/MyDrive/y.txt', sep = \" \", header=None, names=[\"Complexity\", \"Node Number\", \"Language\"])"
      ]
    },
    {
      "cell_type": "code",
      "execution_count": null,
      "metadata": {
        "id": "IzW80kqrfvf6"
      },
      "outputs": [],
      "source": [
        "df['Complexity'] = df_y['Complexity']"
      ]
    },
    {
      "cell_type": "code",
      "execution_count": null,
      "metadata": {
        "colab": {
          "base_uri": "https://localhost:8080/",
          "height": 488
        },
        "id": "PZX6ouuefvVi",
        "outputId": "7c33f896-1965-4e3a-ce86-2b3324f77ee5"
      },
      "outputs": [
        {
          "output_type": "execute_result",
          "data": {
            "text/plain": [
              "         emb1      emb2      emb3      emb4      emb5      emb6      emb7  \\\n",
              "0   -0.054682  0.127175  0.036648  0.090353  0.192498  0.043540 -0.060334   \n",
              "1   -0.095235  0.175034  0.063935  0.117448  0.255929  0.064811 -0.072923   \n",
              "2   -0.135813  0.219436  0.102143  0.135153  0.286394  0.068151 -0.078952   \n",
              "3    0.270222  0.300358 -0.445603  0.196632  0.531115  0.433794 -0.261992   \n",
              "4    0.102710  0.177498 -0.326135  0.302662  0.256015  0.207272 -0.175998   \n",
              "..        ...       ...       ...       ...       ...       ...       ...   \n",
              "735  0.162677 -0.179751 -0.320467  0.374476  0.487395 -0.065953 -0.380204   \n",
              "736  0.183020 -0.166014 -0.231057  0.452174  0.562882 -0.138434 -0.443576   \n",
              "737  0.184769 -0.201651 -0.235364  0.446800  0.547860 -0.155865 -0.472018   \n",
              "738  0.255681 -0.193824 -0.382822  0.447094  0.499922 -0.083941 -0.402473   \n",
              "739  0.782572 -0.163111 -0.738689  0.510340  0.762960  0.278493 -0.506301   \n",
              "\n",
              "         emb8      emb9     emb10  ...    emb120    emb121    emb122  \\\n",
              "0   -0.037632 -0.001838  0.116995  ... -0.049275 -0.131080  0.002272   \n",
              "1   -0.032716  0.013575  0.152739  ... -0.024092 -0.185713 -0.016963   \n",
              "2   -0.003041  0.021949  0.182400  ...  0.008541 -0.236532 -0.032249   \n",
              "3   -0.074271 -0.215854 -0.061681  ... -0.586666 -0.216605 -0.092687   \n",
              "4   -0.057321  0.000238  0.019773  ... -0.386576 -0.253997 -0.026445   \n",
              "..        ...       ...       ...  ...       ...       ...       ...   \n",
              "735 -0.143154 -0.065873  0.257494  ... -0.397525  0.117815  0.099337   \n",
              "736 -0.284463 -0.054835  0.159889  ... -0.445122  0.000230  0.095979   \n",
              "737 -0.309393 -0.079808  0.205073  ... -0.489142 -0.006414  0.128634   \n",
              "738 -0.251599 -0.028515  0.150684  ... -0.498780  0.046986  0.124914   \n",
              "739 -0.299853 -0.460638 -0.063568  ... -1.165067  0.113273  0.033455   \n",
              "\n",
              "       emb123    emb124    emb125    emb126    emb127    emb128  Complexity  \n",
              "0   -0.017875 -0.209266  0.199226  0.097312 -0.107657  0.081840        O(1)  \n",
              "1   -0.040366 -0.277818  0.261729  0.118124 -0.125564  0.130719       O(2n)  \n",
              "2   -0.071049 -0.334604  0.334102  0.128357 -0.144719  0.192227       O(2n)  \n",
              "3   -0.081682 -0.599847  0.550452  0.468392 -0.247837  0.087675     O(logN)  \n",
              "4   -0.061492 -0.581163  0.442037  0.418021 -0.194271  0.098900     O(logN)  \n",
              "..        ...       ...       ...       ...       ...       ...         ...  \n",
              "735 -0.094519 -0.544291  0.213452  0.262748 -0.306325 -0.224609    O(NlogN)  \n",
              "736 -0.063981 -0.603873  0.114075  0.222806 -0.317638 -0.290131    O(NlogN)  \n",
              "737 -0.109084 -0.605826  0.106701  0.230898 -0.321285 -0.266228    O(NlogN)  \n",
              "738 -0.117825 -0.633948  0.106924  0.273179 -0.336416 -0.300430    O(NlogN)  \n",
              "739 -0.083436 -0.703199  0.322280  0.512571 -0.172656 -0.565512    O(NlogN)  \n",
              "\n",
              "[740 rows x 129 columns]"
            ],
            "text/html": [
              "\n",
              "  <div id=\"df-e870c32c-fc8a-4ea1-9920-1aa5cb7b2352\">\n",
              "    <div class=\"colab-df-container\">\n",
              "      <div>\n",
              "<style scoped>\n",
              "    .dataframe tbody tr th:only-of-type {\n",
              "        vertical-align: middle;\n",
              "    }\n",
              "\n",
              "    .dataframe tbody tr th {\n",
              "        vertical-align: top;\n",
              "    }\n",
              "\n",
              "    .dataframe thead th {\n",
              "        text-align: right;\n",
              "    }\n",
              "</style>\n",
              "<table border=\"1\" class=\"dataframe\">\n",
              "  <thead>\n",
              "    <tr style=\"text-align: right;\">\n",
              "      <th></th>\n",
              "      <th>emb1</th>\n",
              "      <th>emb2</th>\n",
              "      <th>emb3</th>\n",
              "      <th>emb4</th>\n",
              "      <th>emb5</th>\n",
              "      <th>emb6</th>\n",
              "      <th>emb7</th>\n",
              "      <th>emb8</th>\n",
              "      <th>emb9</th>\n",
              "      <th>emb10</th>\n",
              "      <th>...</th>\n",
              "      <th>emb120</th>\n",
              "      <th>emb121</th>\n",
              "      <th>emb122</th>\n",
              "      <th>emb123</th>\n",
              "      <th>emb124</th>\n",
              "      <th>emb125</th>\n",
              "      <th>emb126</th>\n",
              "      <th>emb127</th>\n",
              "      <th>emb128</th>\n",
              "      <th>Complexity</th>\n",
              "    </tr>\n",
              "  </thead>\n",
              "  <tbody>\n",
              "    <tr>\n",
              "      <th>0</th>\n",
              "      <td>-0.054682</td>\n",
              "      <td>0.127175</td>\n",
              "      <td>0.036648</td>\n",
              "      <td>0.090353</td>\n",
              "      <td>0.192498</td>\n",
              "      <td>0.043540</td>\n",
              "      <td>-0.060334</td>\n",
              "      <td>-0.037632</td>\n",
              "      <td>-0.001838</td>\n",
              "      <td>0.116995</td>\n",
              "      <td>...</td>\n",
              "      <td>-0.049275</td>\n",
              "      <td>-0.131080</td>\n",
              "      <td>0.002272</td>\n",
              "      <td>-0.017875</td>\n",
              "      <td>-0.209266</td>\n",
              "      <td>0.199226</td>\n",
              "      <td>0.097312</td>\n",
              "      <td>-0.107657</td>\n",
              "      <td>0.081840</td>\n",
              "      <td>O(1)</td>\n",
              "    </tr>\n",
              "    <tr>\n",
              "      <th>1</th>\n",
              "      <td>-0.095235</td>\n",
              "      <td>0.175034</td>\n",
              "      <td>0.063935</td>\n",
              "      <td>0.117448</td>\n",
              "      <td>0.255929</td>\n",
              "      <td>0.064811</td>\n",
              "      <td>-0.072923</td>\n",
              "      <td>-0.032716</td>\n",
              "      <td>0.013575</td>\n",
              "      <td>0.152739</td>\n",
              "      <td>...</td>\n",
              "      <td>-0.024092</td>\n",
              "      <td>-0.185713</td>\n",
              "      <td>-0.016963</td>\n",
              "      <td>-0.040366</td>\n",
              "      <td>-0.277818</td>\n",
              "      <td>0.261729</td>\n",
              "      <td>0.118124</td>\n",
              "      <td>-0.125564</td>\n",
              "      <td>0.130719</td>\n",
              "      <td>O(2n)</td>\n",
              "    </tr>\n",
              "    <tr>\n",
              "      <th>2</th>\n",
              "      <td>-0.135813</td>\n",
              "      <td>0.219436</td>\n",
              "      <td>0.102143</td>\n",
              "      <td>0.135153</td>\n",
              "      <td>0.286394</td>\n",
              "      <td>0.068151</td>\n",
              "      <td>-0.078952</td>\n",
              "      <td>-0.003041</td>\n",
              "      <td>0.021949</td>\n",
              "      <td>0.182400</td>\n",
              "      <td>...</td>\n",
              "      <td>0.008541</td>\n",
              "      <td>-0.236532</td>\n",
              "      <td>-0.032249</td>\n",
              "      <td>-0.071049</td>\n",
              "      <td>-0.334604</td>\n",
              "      <td>0.334102</td>\n",
              "      <td>0.128357</td>\n",
              "      <td>-0.144719</td>\n",
              "      <td>0.192227</td>\n",
              "      <td>O(2n)</td>\n",
              "    </tr>\n",
              "    <tr>\n",
              "      <th>3</th>\n",
              "      <td>0.270222</td>\n",
              "      <td>0.300358</td>\n",
              "      <td>-0.445603</td>\n",
              "      <td>0.196632</td>\n",
              "      <td>0.531115</td>\n",
              "      <td>0.433794</td>\n",
              "      <td>-0.261992</td>\n",
              "      <td>-0.074271</td>\n",
              "      <td>-0.215854</td>\n",
              "      <td>-0.061681</td>\n",
              "      <td>...</td>\n",
              "      <td>-0.586666</td>\n",
              "      <td>-0.216605</td>\n",
              "      <td>-0.092687</td>\n",
              "      <td>-0.081682</td>\n",
              "      <td>-0.599847</td>\n",
              "      <td>0.550452</td>\n",
              "      <td>0.468392</td>\n",
              "      <td>-0.247837</td>\n",
              "      <td>0.087675</td>\n",
              "      <td>O(logN)</td>\n",
              "    </tr>\n",
              "    <tr>\n",
              "      <th>4</th>\n",
              "      <td>0.102710</td>\n",
              "      <td>0.177498</td>\n",
              "      <td>-0.326135</td>\n",
              "      <td>0.302662</td>\n",
              "      <td>0.256015</td>\n",
              "      <td>0.207272</td>\n",
              "      <td>-0.175998</td>\n",
              "      <td>-0.057321</td>\n",
              "      <td>0.000238</td>\n",
              "      <td>0.019773</td>\n",
              "      <td>...</td>\n",
              "      <td>-0.386576</td>\n",
              "      <td>-0.253997</td>\n",
              "      <td>-0.026445</td>\n",
              "      <td>-0.061492</td>\n",
              "      <td>-0.581163</td>\n",
              "      <td>0.442037</td>\n",
              "      <td>0.418021</td>\n",
              "      <td>-0.194271</td>\n",
              "      <td>0.098900</td>\n",
              "      <td>O(logN)</td>\n",
              "    </tr>\n",
              "    <tr>\n",
              "      <th>...</th>\n",
              "      <td>...</td>\n",
              "      <td>...</td>\n",
              "      <td>...</td>\n",
              "      <td>...</td>\n",
              "      <td>...</td>\n",
              "      <td>...</td>\n",
              "      <td>...</td>\n",
              "      <td>...</td>\n",
              "      <td>...</td>\n",
              "      <td>...</td>\n",
              "      <td>...</td>\n",
              "      <td>...</td>\n",
              "      <td>...</td>\n",
              "      <td>...</td>\n",
              "      <td>...</td>\n",
              "      <td>...</td>\n",
              "      <td>...</td>\n",
              "      <td>...</td>\n",
              "      <td>...</td>\n",
              "      <td>...</td>\n",
              "      <td>...</td>\n",
              "    </tr>\n",
              "    <tr>\n",
              "      <th>735</th>\n",
              "      <td>0.162677</td>\n",
              "      <td>-0.179751</td>\n",
              "      <td>-0.320467</td>\n",
              "      <td>0.374476</td>\n",
              "      <td>0.487395</td>\n",
              "      <td>-0.065953</td>\n",
              "      <td>-0.380204</td>\n",
              "      <td>-0.143154</td>\n",
              "      <td>-0.065873</td>\n",
              "      <td>0.257494</td>\n",
              "      <td>...</td>\n",
              "      <td>-0.397525</td>\n",
              "      <td>0.117815</td>\n",
              "      <td>0.099337</td>\n",
              "      <td>-0.094519</td>\n",
              "      <td>-0.544291</td>\n",
              "      <td>0.213452</td>\n",
              "      <td>0.262748</td>\n",
              "      <td>-0.306325</td>\n",
              "      <td>-0.224609</td>\n",
              "      <td>O(NlogN)</td>\n",
              "    </tr>\n",
              "    <tr>\n",
              "      <th>736</th>\n",
              "      <td>0.183020</td>\n",
              "      <td>-0.166014</td>\n",
              "      <td>-0.231057</td>\n",
              "      <td>0.452174</td>\n",
              "      <td>0.562882</td>\n",
              "      <td>-0.138434</td>\n",
              "      <td>-0.443576</td>\n",
              "      <td>-0.284463</td>\n",
              "      <td>-0.054835</td>\n",
              "      <td>0.159889</td>\n",
              "      <td>...</td>\n",
              "      <td>-0.445122</td>\n",
              "      <td>0.000230</td>\n",
              "      <td>0.095979</td>\n",
              "      <td>-0.063981</td>\n",
              "      <td>-0.603873</td>\n",
              "      <td>0.114075</td>\n",
              "      <td>0.222806</td>\n",
              "      <td>-0.317638</td>\n",
              "      <td>-0.290131</td>\n",
              "      <td>O(NlogN)</td>\n",
              "    </tr>\n",
              "    <tr>\n",
              "      <th>737</th>\n",
              "      <td>0.184769</td>\n",
              "      <td>-0.201651</td>\n",
              "      <td>-0.235364</td>\n",
              "      <td>0.446800</td>\n",
              "      <td>0.547860</td>\n",
              "      <td>-0.155865</td>\n",
              "      <td>-0.472018</td>\n",
              "      <td>-0.309393</td>\n",
              "      <td>-0.079808</td>\n",
              "      <td>0.205073</td>\n",
              "      <td>...</td>\n",
              "      <td>-0.489142</td>\n",
              "      <td>-0.006414</td>\n",
              "      <td>0.128634</td>\n",
              "      <td>-0.109084</td>\n",
              "      <td>-0.605826</td>\n",
              "      <td>0.106701</td>\n",
              "      <td>0.230898</td>\n",
              "      <td>-0.321285</td>\n",
              "      <td>-0.266228</td>\n",
              "      <td>O(NlogN)</td>\n",
              "    </tr>\n",
              "    <tr>\n",
              "      <th>738</th>\n",
              "      <td>0.255681</td>\n",
              "      <td>-0.193824</td>\n",
              "      <td>-0.382822</td>\n",
              "      <td>0.447094</td>\n",
              "      <td>0.499922</td>\n",
              "      <td>-0.083941</td>\n",
              "      <td>-0.402473</td>\n",
              "      <td>-0.251599</td>\n",
              "      <td>-0.028515</td>\n",
              "      <td>0.150684</td>\n",
              "      <td>...</td>\n",
              "      <td>-0.498780</td>\n",
              "      <td>0.046986</td>\n",
              "      <td>0.124914</td>\n",
              "      <td>-0.117825</td>\n",
              "      <td>-0.633948</td>\n",
              "      <td>0.106924</td>\n",
              "      <td>0.273179</td>\n",
              "      <td>-0.336416</td>\n",
              "      <td>-0.300430</td>\n",
              "      <td>O(NlogN)</td>\n",
              "    </tr>\n",
              "    <tr>\n",
              "      <th>739</th>\n",
              "      <td>0.782572</td>\n",
              "      <td>-0.163111</td>\n",
              "      <td>-0.738689</td>\n",
              "      <td>0.510340</td>\n",
              "      <td>0.762960</td>\n",
              "      <td>0.278493</td>\n",
              "      <td>-0.506301</td>\n",
              "      <td>-0.299853</td>\n",
              "      <td>-0.460638</td>\n",
              "      <td>-0.063568</td>\n",
              "      <td>...</td>\n",
              "      <td>-1.165067</td>\n",
              "      <td>0.113273</td>\n",
              "      <td>0.033455</td>\n",
              "      <td>-0.083436</td>\n",
              "      <td>-0.703199</td>\n",
              "      <td>0.322280</td>\n",
              "      <td>0.512571</td>\n",
              "      <td>-0.172656</td>\n",
              "      <td>-0.565512</td>\n",
              "      <td>O(NlogN)</td>\n",
              "    </tr>\n",
              "  </tbody>\n",
              "</table>\n",
              "<p>740 rows × 129 columns</p>\n",
              "</div>\n",
              "      <button class=\"colab-df-convert\" onclick=\"convertToInteractive('df-e870c32c-fc8a-4ea1-9920-1aa5cb7b2352')\"\n",
              "              title=\"Convert this dataframe to an interactive table.\"\n",
              "              style=\"display:none;\">\n",
              "        \n",
              "  <svg xmlns=\"http://www.w3.org/2000/svg\" height=\"24px\"viewBox=\"0 0 24 24\"\n",
              "       width=\"24px\">\n",
              "    <path d=\"M0 0h24v24H0V0z\" fill=\"none\"/>\n",
              "    <path d=\"M18.56 5.44l.94 2.06.94-2.06 2.06-.94-2.06-.94-.94-2.06-.94 2.06-2.06.94zm-11 1L8.5 8.5l.94-2.06 2.06-.94-2.06-.94L8.5 2.5l-.94 2.06-2.06.94zm10 10l.94 2.06.94-2.06 2.06-.94-2.06-.94-.94-2.06-.94 2.06-2.06.94z\"/><path d=\"M17.41 7.96l-1.37-1.37c-.4-.4-.92-.59-1.43-.59-.52 0-1.04.2-1.43.59L10.3 9.45l-7.72 7.72c-.78.78-.78 2.05 0 2.83L4 21.41c.39.39.9.59 1.41.59.51 0 1.02-.2 1.41-.59l7.78-7.78 2.81-2.81c.8-.78.8-2.07 0-2.86zM5.41 20L4 18.59l7.72-7.72 1.47 1.35L5.41 20z\"/>\n",
              "  </svg>\n",
              "      </button>\n",
              "      \n",
              "  <style>\n",
              "    .colab-df-container {\n",
              "      display:flex;\n",
              "      flex-wrap:wrap;\n",
              "      gap: 12px;\n",
              "    }\n",
              "\n",
              "    .colab-df-convert {\n",
              "      background-color: #E8F0FE;\n",
              "      border: none;\n",
              "      border-radius: 50%;\n",
              "      cursor: pointer;\n",
              "      display: none;\n",
              "      fill: #1967D2;\n",
              "      height: 32px;\n",
              "      padding: 0 0 0 0;\n",
              "      width: 32px;\n",
              "    }\n",
              "\n",
              "    .colab-df-convert:hover {\n",
              "      background-color: #E2EBFA;\n",
              "      box-shadow: 0px 1px 2px rgba(60, 64, 67, 0.3), 0px 1px 3px 1px rgba(60, 64, 67, 0.15);\n",
              "      fill: #174EA6;\n",
              "    }\n",
              "\n",
              "    [theme=dark] .colab-df-convert {\n",
              "      background-color: #3B4455;\n",
              "      fill: #D2E3FC;\n",
              "    }\n",
              "\n",
              "    [theme=dark] .colab-df-convert:hover {\n",
              "      background-color: #434B5C;\n",
              "      box-shadow: 0px 1px 3px 1px rgba(0, 0, 0, 0.15);\n",
              "      filter: drop-shadow(0px 1px 2px rgba(0, 0, 0, 0.3));\n",
              "      fill: #FFFFFF;\n",
              "    }\n",
              "  </style>\n",
              "\n",
              "      <script>\n",
              "        const buttonEl =\n",
              "          document.querySelector('#df-e870c32c-fc8a-4ea1-9920-1aa5cb7b2352 button.colab-df-convert');\n",
              "        buttonEl.style.display =\n",
              "          google.colab.kernel.accessAllowed ? 'block' : 'none';\n",
              "\n",
              "        async function convertToInteractive(key) {\n",
              "          const element = document.querySelector('#df-e870c32c-fc8a-4ea1-9920-1aa5cb7b2352');\n",
              "          const dataTable =\n",
              "            await google.colab.kernel.invokeFunction('convertToInteractive',\n",
              "                                                     [key], {});\n",
              "          if (!dataTable) return;\n",
              "\n",
              "          const docLinkHtml = 'Like what you see? Visit the ' +\n",
              "            '<a target=\"_blank\" href=https://colab.research.google.com/notebooks/data_table.ipynb>data table notebook</a>'\n",
              "            + ' to learn more about interactive tables.';\n",
              "          element.innerHTML = '';\n",
              "          dataTable['output_type'] = 'display_data';\n",
              "          await google.colab.output.renderOutput(dataTable, element);\n",
              "          const docLink = document.createElement('div');\n",
              "          docLink.innerHTML = docLinkHtml;\n",
              "          element.appendChild(docLink);\n",
              "        }\n",
              "      </script>\n",
              "    </div>\n",
              "  </div>\n",
              "  "
            ]
          },
          "metadata": {},
          "execution_count": 11
        }
      ],
      "source": [
        "df"
      ]
    },
    {
      "cell_type": "code",
      "execution_count": null,
      "metadata": {
        "colab": {
          "base_uri": "https://localhost:8080/",
          "height": 351
        },
        "id": "HPHMdY0izTLv",
        "outputId": "62ef7e88-aed9-4f03-ed82-2bc4446e3e8a"
      },
      "outputs": [
        {
          "output_type": "stream",
          "name": "stderr",
          "text": [
            "/usr/local/lib/python3.7/dist-packages/seaborn/_decorators.py:43: FutureWarning: Pass the following variable as a keyword arg: x. From version 0.12, the only valid positional argument will be `data`, and passing other arguments without an explicit keyword will result in an error or misinterpretation.\n",
            "  FutureWarning\n"
          ]
        },
        {
          "output_type": "execute_result",
          "data": {
            "text/plain": [
              "<matplotlib.axes._subplots.AxesSubplot at 0x7faad38590d0>"
            ]
          },
          "metadata": {},
          "execution_count": 12
        },
        {
          "output_type": "display_data",
          "data": {
            "text/plain": [
              "<Figure size 432x288 with 1 Axes>"
            ],
            "image/png": "[encoded data removed]"
          },
          "metadata": {
            "needs_background": "light"
          }
        }
      ],
      "source": [
        "import seaborn as sns\n",
        "sns.countplot(df['Complexity'])"
      ]
    },
    {
      "cell_type": "markdown",
      "metadata": {
        "id": "LU7FF-PdP-0T"
      },
      "source": [
        "# **Resampling - Oversampling**"
      ]
    },
    {
      "cell_type": "code",
      "execution_count": null,
      "metadata": {
        "id": "irIdYTbA0Aoi"
      },
      "outputs": [],
      "source": [
        "from sklearn.utils import resample\n",
        "#create two different dataframe of majority and minority class \n",
        "df_majority = df[(df['Complexity'] == 'O(N)')] \n",
        "df_minority_1 = df[(df['Complexity'] == 'O(N2)')] \n",
        "df_minority_2 = df[(df['Complexity'] == 'O(NlogN)')] \n",
        "df_minority_3 = df[(df['Complexity'] == 'O(logN)')] \n",
        "df_minority_4 = df[(df['Complexity'] == 'O(N3)')]\n",
        "df_minority_5 = df[(df['Complexity'] == 'O(Nd)')]\n",
        "df_minority_6 = df[(df['Complexity'] == 'O(2n)')]\n",
        "df_minority_7 = df[(df['Complexity'] == 'O(1)')]\n",
        "df_minority_8 = df[(df['Complexity'] == 'O(N!)')]\n",
        "df_minority_9 = df[(df['Complexity'] == 'O(sqrt(N))')]\n",
        "\n",
        "# upsample minority class\n",
        "minority = [df_minority_1, df_minority_2, df_minority_3, df_minority_4, df_minority_5, df_minority_6, df_minority_7, df_minority_8, df_minority_9]\n",
        "temp = []\n",
        "for i in minority:\n",
        "  df_minority_upsampled = resample(i, \n",
        "                                  replace=True,    # sample with replacement\n",
        "                                  n_samples= 375, # to match majority class\n",
        "                                  random_state=42)  # reproducible results\n",
        "  temp.append(df_minority_upsampled)\n",
        "# Combine majority class with upsampled minority class\n",
        "df_upsampled = df_majority\n",
        "for i in temp:\n",
        "  df_upsampled = pd.concat([i, df_upsampled])"
      ]
    },
    {
      "cell_type": "code",
      "execution_count": null,
      "metadata": {
        "colab": {
          "base_uri": "https://localhost:8080/"
        },
        "id": "FElG1yZe0Asq",
        "outputId": "2790cc14-1734-4f42-b9d3-5dd5c0c80779"
      },
      "outputs": [
        {
          "output_type": "execute_result",
          "data": {
            "text/plain": [
              "O(sqrt(N))    375\n",
              "O(N!)         375\n",
              "O(1)          375\n",
              "O(2n)         375\n",
              "O(Nd)         375\n",
              "O(N3)         375\n",
              "O(logN)       375\n",
              "O(NlogN)      375\n",
              "O(N2)         375\n",
              "O(N)          375\n",
              "Name: Complexity, dtype: int64"
            ]
          },
          "metadata": {},
          "execution_count": 14
        }
      ],
      "source": [
        "df_upsampled['Complexity'].value_counts()"
      ]
    },
    {
      "cell_type": "code",
      "execution_count": null,
      "metadata": {
        "colab": {
          "base_uri": "https://localhost:8080/",
          "height": 351
        },
        "id": "iWD_jiY70Avq",
        "outputId": "f2380c77-5f1d-4cf5-8dd0-030fc5190d43"
      },
      "outputs": [
        {
          "output_type": "stream",
          "name": "stderr",
          "text": [
            "/usr/local/lib/python3.7/dist-packages/seaborn/_decorators.py:43: FutureWarning: Pass the following variable as a keyword arg: x. From version 0.12, the only valid positional argument will be `data`, and passing other arguments without an explicit keyword will result in an error or misinterpretation.\n",
            "  FutureWarning\n"
          ]
        },
        {
          "output_type": "execute_result",
          "data": {
            "text/plain": [
              "<matplotlib.axes._subplots.AxesSubplot at 0x7faad2fd4910>"
            ]
          },
          "metadata": {},
          "execution_count": 15
        },
        {
          "output_type": "display_data",
          "data": {
            "text/plain": [
              "<Figure size 432x288 with 1 Axes>"
            ],
            "image/png": "[encoded data removed]"
          },
          "metadata": {
            "needs_background": "light"
          }
        }
      ],
      "source": [
        "sns.countplot(df_upsampled['Complexity'])"
      ]
    },
    {
      "cell_type": "code",
      "execution_count": null,
      "metadata": {
        "colab": {
          "base_uri": "https://localhost:8080/"
        },
        "id": "5KHBvWbD0AyF",
        "outputId": "3b629916-9339-4e5a-ebdb-cff19ec23d3d"
      },
      "outputs": [
        {
          "output_type": "stream",
          "name": "stdout",
          "text": [
            "426    0\n",
            "118    0\n",
            "426    0\n",
            "426    0\n",
            "118    0\n",
            "Name: Complexity, dtype: int64\n",
            "Index(['O(sqrt(N))', 'O(N!)', 'O(1)', 'O(2n)', 'O(Nd)', 'O(N3)', 'O(logN)',\n",
            "       'O(NlogN)', 'O(N2)', 'O(N)'],\n",
            "      dtype='object')\n"
          ]
        }
      ],
      "source": [
        "df = df_upsampled\n",
        "# df = oversampled\n",
        "factor = pd.factorize(df['Complexity'])\n",
        "df.Complexity= factor[0]\n",
        "definitions = factor[1]\n",
        "print(df.Complexity.head())\n",
        "print(definitions)"
      ]
    },
    {
      "cell_type": "code",
      "execution_count": null,
      "metadata": {
        "colab": {
          "base_uri": "https://localhost:8080/"
        },
        "id": "MFrt0_OMJ_W6",
        "outputId": "94fb3775-e2aa-450d-dfa1-89e701d374c1"
      },
      "outputs": [
        {
          "output_type": "stream",
          "name": "stdout",
          "text": [
            "The independent features set: \n",
            "[[-5.83184287e-02  3.71529967e-01 -2.88323965e-02  1.55028060e-01\n",
            "   3.11014682e-01  1.00550026e-01  5.99360764e-02 -3.60761136e-01\n",
            "   1.44105852e-01  3.35489400e-02 -3.26490730e-01 -1.46469802e-01\n",
            "  -1.58249080e-01  8.42799172e-02 -1.56572074e-01 -6.25618100e-02\n",
            "   1.79115199e-02 -6.21027872e-02 -4.91600335e-02  3.89916211e-01\n",
            "  -1.46600425e-01  8.72108266e-02 -6.90339282e-02 -1.86637864e-01\n",
            "   4.93713245e-02  4.02110219e-02  1.68428034e-01  1.20966127e-02\n",
            "  -5.01116753e-01  2.01332048e-01 -1.36490002e-01 -5.06071329e-01\n",
            "   1.30972713e-01  3.99992436e-01 -5.79397716e-02  2.12425098e-01\n",
            "   2.67079026e-01  7.10954294e-02  3.29857349e-01  2.58917511e-01\n",
            "   1.54078141e-01 -3.46699953e-01  5.03761582e-02 -1.37354985e-01\n",
            "  -1.46855399e-01  2.39136890e-01  1.41890749e-01 -2.20331624e-01\n",
            "   1.15752794e-01  2.84888089e-01 -1.10822842e-01 -4.63338494e-01\n",
            "   2.44946837e-01  4.53784674e-01  1.73191175e-01 -9.71864909e-02\n",
            "   1.07007056e-01  1.23845637e-01  4.40136716e-02  7.39401802e-02\n",
            "  -4.66513261e-02  1.19500935e-01 -6.34628534e-02  1.57176837e-01\n",
            "   2.03625694e-01 -1.41788051e-01  1.70824021e-01  2.15624988e-01\n",
            "  -2.29737479e-02 -3.59816492e-01 -2.55383193e-01 -1.41531825e-01\n",
            "   2.39819199e-01 -3.76144528e-01 -3.45273882e-01 -4.19865429e-01\n",
            "   2.88450122e-01  2.94362724e-01 -1.35407254e-01  2.18304381e-01\n",
            "   3.68371248e-01 -2.17595056e-01 -8.13572943e-01 -9.99278352e-02\n",
            "  -4.54193316e-02  3.87590230e-01  4.84496862e-01  1.82885855e-01\n",
            "   1.62250981e-01  1.18180633e-01 -1.10631570e-01  2.15374842e-01\n",
            "  -3.86663765e-01 -4.08860222e-02  1.32906318e-01  3.02820802e-01\n",
            "   6.05803728e-01  1.72035441e-01 -2.04143435e-01  3.60669382e-02\n",
            "   2.85164088e-01 -2.91248485e-02 -2.23110855e-01 -3.52369249e-01\n",
            "   4.96147752e-01 -2.54758835e-01 -1.33784458e-01  3.01724076e-02\n",
            "   3.51081550e-01 -8.63845721e-02  3.66331995e-01  1.20671518e-01\n",
            "   1.88544899e-01 -7.46104270e-02 -5.95418155e-01 -4.20720607e-01\n",
            "  -1.95291236e-01  1.97984606e-01  6.96248412e-02 -6.16771244e-02\n",
            "  -1.99010581e-01 -1.35601759e-02  2.29572535e-01 -3.41652811e-01\n",
            "   2.04260409e-01  6.85575465e-03 -2.23415360e-01  1.23303808e-01]\n",
            " [-1.26693934e-01  2.39839181e-01  5.48360422e-02  1.89516321e-01\n",
            "   1.98030397e-01  1.36487752e-01 -1.19842269e-01 -2.70117372e-02\n",
            "   1.58464581e-01  6.16460331e-02  1.82584986e-01 -5.27585804e-01\n",
            "   5.22287667e-01  1.64572909e-01  1.11724734e-01 -1.44721001e-01\n",
            "   2.76994240e-02  7.33580664e-02  4.99947146e-02  3.14185977e-01\n",
            "  -3.84390414e-01 -4.69154380e-02 -1.04368307e-01 -3.12524855e-01\n",
            "  -5.88895008e-03 -1.65257175e-02 -1.47478729e-01  2.76229084e-01\n",
            "  -2.74421215e-01  3.88504356e-01  6.64152354e-02 -4.56655473e-01\n",
            "   3.65241855e-01  1.36004329e-01  1.10645778e-01  4.18497562e-01\n",
            "   1.76044285e-01  5.05770028e-01  3.95574361e-01 -3.46505344e-02\n",
            "   1.06776409e-01 -5.82746089e-01  1.37510911e-01 -4.50523347e-02\n",
            "  -9.27086473e-02  1.28346130e-01 -9.96880159e-02 -2.49952406e-01\n",
            "   2.62136936e-01  2.64498293e-01 -3.28137547e-01 -1.08919092e-01\n",
            "   1.33835435e-01  3.27444136e-01  3.84122729e-02 -2.12239012e-01\n",
            "   1.97773948e-01  2.37642229e-01  4.90835160e-02 -2.62586623e-01\n",
            "   3.31955217e-02 -8.55961442e-02 -2.72869617e-01 -4.52691466e-02\n",
            "   3.70440423e-01 -2.61316061e-01  2.05274194e-01  3.80309939e-01\n",
            "  -2.20365837e-01 -4.37909842e-01 -2.83065379e-01 -5.29123656e-03\n",
            "  -4.91486341e-02 -2.16466635e-01 -4.90839720e-01 -1.46912277e-01\n",
            "   2.84258395e-01  2.69812196e-01 -5.15617579e-02  7.53901973e-02\n",
            "  -1.88993383e-02 -2.44085453e-02 -1.22886501e-01 -2.91655213e-01\n",
            "  -1.34821415e-01  7.57969392e-04  6.33064806e-01 -3.59949499e-01\n",
            "  -3.30827981e-01  3.67563069e-01 -2.00792421e-02  1.76950485e-01\n",
            "  -9.33747143e-02 -1.70590803e-01 -5.78769259e-02  5.07827878e-01\n",
            "   3.85558784e-01  3.94036591e-01 -3.24551910e-01  1.50549337e-01\n",
            "   3.86540890e-02 -1.95221663e-01  1.17096990e-01 -2.23644450e-01\n",
            "   4.43326145e-01 -1.84633937e-02  4.29529786e-01  1.12049706e-01\n",
            "   8.87434706e-02 -3.80506605e-01  5.56808412e-01 -7.05762878e-02\n",
            "   1.78822957e-03 -4.61210571e-02 -4.85168219e-01 -4.91117209e-01\n",
            "  -5.12564518e-02  2.18175501e-01 -3.85263920e-01  9.83149782e-02\n",
            "  -2.95999378e-01 -5.89064090e-03  1.18667856e-02 -4.83232051e-01\n",
            "   4.08095360e-01  1.19076610e-01 -2.62968868e-01  2.41840243e-01]\n",
            " [-5.83184287e-02  3.71529967e-01 -2.88323965e-02  1.55028060e-01\n",
            "   3.11014682e-01  1.00550026e-01  5.99360764e-02 -3.60761136e-01\n",
            "   1.44105852e-01  3.35489400e-02 -3.26490730e-01 -1.46469802e-01\n",
            "  -1.58249080e-01  8.42799172e-02 -1.56572074e-01 -6.25618100e-02\n",
            "   1.79115199e-02 -6.21027872e-02 -4.91600335e-02  3.89916211e-01\n",
            "  -1.46600425e-01  8.72108266e-02 -6.90339282e-02 -1.86637864e-01\n",
            "   4.93713245e-02  4.02110219e-02  1.68428034e-01  1.20966127e-02\n",
            "  -5.01116753e-01  2.01332048e-01 -1.36490002e-01 -5.06071329e-01\n",
            "   1.30972713e-01  3.99992436e-01 -5.79397716e-02  2.12425098e-01\n",
            "   2.67079026e-01  7.10954294e-02  3.29857349e-01  2.58917511e-01\n",
            "   1.54078141e-01 -3.46699953e-01  5.03761582e-02 -1.37354985e-01\n",
            "  -1.46855399e-01  2.39136890e-01  1.41890749e-01 -2.20331624e-01\n",
            "   1.15752794e-01  2.84888089e-01 -1.10822842e-01 -4.63338494e-01\n",
            "   2.44946837e-01  4.53784674e-01  1.73191175e-01 -9.71864909e-02\n",
            "   1.07007056e-01  1.23845637e-01  4.40136716e-02  7.39401802e-02\n",
            "  -4.66513261e-02  1.19500935e-01 -6.34628534e-02  1.57176837e-01\n",
            "   2.03625694e-01 -1.41788051e-01  1.70824021e-01  2.15624988e-01\n",
            "  -2.29737479e-02 -3.59816492e-01 -2.55383193e-01 -1.41531825e-01\n",
            "   2.39819199e-01 -3.76144528e-01 -3.45273882e-01 -4.19865429e-01\n",
            "   2.88450122e-01  2.94362724e-01 -1.35407254e-01  2.18304381e-01\n",
            "   3.68371248e-01 -2.17595056e-01 -8.13572943e-01 -9.99278352e-02\n",
            "  -4.54193316e-02  3.87590230e-01  4.84496862e-01  1.82885855e-01\n",
            "   1.62250981e-01  1.18180633e-01 -1.10631570e-01  2.15374842e-01\n",
            "  -3.86663765e-01 -4.08860222e-02  1.32906318e-01  3.02820802e-01\n",
            "   6.05803728e-01  1.72035441e-01 -2.04143435e-01  3.60669382e-02\n",
            "   2.85164088e-01 -2.91248485e-02 -2.23110855e-01 -3.52369249e-01\n",
            "   4.96147752e-01 -2.54758835e-01 -1.33784458e-01  3.01724076e-02\n",
            "   3.51081550e-01 -8.63845721e-02  3.66331995e-01  1.20671518e-01\n",
            "   1.88544899e-01 -7.46104270e-02 -5.95418155e-01 -4.20720607e-01\n",
            "  -1.95291236e-01  1.97984606e-01  6.96248412e-02 -6.16771244e-02\n",
            "  -1.99010581e-01 -1.35601759e-02  2.29572535e-01 -3.41652811e-01\n",
            "   2.04260409e-01  6.85575465e-03 -2.23415360e-01  1.23303808e-01]\n",
            " [-5.83184287e-02  3.71529967e-01 -2.88323965e-02  1.55028060e-01\n",
            "   3.11014682e-01  1.00550026e-01  5.99360764e-02 -3.60761136e-01\n",
            "   1.44105852e-01  3.35489400e-02 -3.26490730e-01 -1.46469802e-01\n",
            "  -1.58249080e-01  8.42799172e-02 -1.56572074e-01 -6.25618100e-02\n",
            "   1.79115199e-02 -6.21027872e-02 -4.91600335e-02  3.89916211e-01\n",
            "  -1.46600425e-01  8.72108266e-02 -6.90339282e-02 -1.86637864e-01\n",
            "   4.93713245e-02  4.02110219e-02  1.68428034e-01  1.20966127e-02\n",
            "  -5.01116753e-01  2.01332048e-01 -1.36490002e-01 -5.06071329e-01\n",
            "   1.30972713e-01  3.99992436e-01 -5.79397716e-02  2.12425098e-01\n",
            "   2.67079026e-01  7.10954294e-02  3.29857349e-01  2.58917511e-01\n",
            "   1.54078141e-01 -3.46699953e-01  5.03761582e-02 -1.37354985e-01\n",
            "  -1.46855399e-01  2.39136890e-01  1.41890749e-01 -2.20331624e-01\n",
            "   1.15752794e-01  2.84888089e-01 -1.10822842e-01 -4.63338494e-01\n",
            "   2.44946837e-01  4.53784674e-01  1.73191175e-01 -9.71864909e-02\n",
            "   1.07007056e-01  1.23845637e-01  4.40136716e-02  7.39401802e-02\n",
            "  -4.66513261e-02  1.19500935e-01 -6.34628534e-02  1.57176837e-01\n",
            "   2.03625694e-01 -1.41788051e-01  1.70824021e-01  2.15624988e-01\n",
            "  -2.29737479e-02 -3.59816492e-01 -2.55383193e-01 -1.41531825e-01\n",
            "   2.39819199e-01 -3.76144528e-01 -3.45273882e-01 -4.19865429e-01\n",
            "   2.88450122e-01  2.94362724e-01 -1.35407254e-01  2.18304381e-01\n",
            "   3.68371248e-01 -2.17595056e-01 -8.13572943e-01 -9.99278352e-02\n",
            "  -4.54193316e-02  3.87590230e-01  4.84496862e-01  1.82885855e-01\n",
            "   1.62250981e-01  1.18180633e-01 -1.10631570e-01  2.15374842e-01\n",
            "  -3.86663765e-01 -4.08860222e-02  1.32906318e-01  3.02820802e-01\n",
            "   6.05803728e-01  1.72035441e-01 -2.04143435e-01  3.60669382e-02\n",
            "   2.85164088e-01 -2.91248485e-02 -2.23110855e-01 -3.52369249e-01\n",
            "   4.96147752e-01 -2.54758835e-01 -1.33784458e-01  3.01724076e-02\n",
            "   3.51081550e-01 -8.63845721e-02  3.66331995e-01  1.20671518e-01\n",
            "   1.88544899e-01 -7.46104270e-02 -5.95418155e-01 -4.20720607e-01\n",
            "  -1.95291236e-01  1.97984606e-01  6.96248412e-02 -6.16771244e-02\n",
            "  -1.99010581e-01 -1.35601759e-02  2.29572535e-01 -3.41652811e-01\n",
            "   2.04260409e-01  6.85575465e-03 -2.23415360e-01  1.23303808e-01]\n",
            " [-1.26693934e-01  2.39839181e-01  5.48360422e-02  1.89516321e-01\n",
            "   1.98030397e-01  1.36487752e-01 -1.19842269e-01 -2.70117372e-02\n",
            "   1.58464581e-01  6.16460331e-02  1.82584986e-01 -5.27585804e-01\n",
            "   5.22287667e-01  1.64572909e-01  1.11724734e-01 -1.44721001e-01\n",
            "   2.76994240e-02  7.33580664e-02  4.99947146e-02  3.14185977e-01\n",
            "  -3.84390414e-01 -4.69154380e-02 -1.04368307e-01 -3.12524855e-01\n",
            "  -5.88895008e-03 -1.65257175e-02 -1.47478729e-01  2.76229084e-01\n",
            "  -2.74421215e-01  3.88504356e-01  6.64152354e-02 -4.56655473e-01\n",
            "   3.65241855e-01  1.36004329e-01  1.10645778e-01  4.18497562e-01\n",
            "   1.76044285e-01  5.05770028e-01  3.95574361e-01 -3.46505344e-02\n",
            "   1.06776409e-01 -5.82746089e-01  1.37510911e-01 -4.50523347e-02\n",
            "  -9.27086473e-02  1.28346130e-01 -9.96880159e-02 -2.49952406e-01\n",
            "   2.62136936e-01  2.64498293e-01 -3.28137547e-01 -1.08919092e-01\n",
            "   1.33835435e-01  3.27444136e-01  3.84122729e-02 -2.12239012e-01\n",
            "   1.97773948e-01  2.37642229e-01  4.90835160e-02 -2.62586623e-01\n",
            "   3.31955217e-02 -8.55961442e-02 -2.72869617e-01 -4.52691466e-02\n",
            "   3.70440423e-01 -2.61316061e-01  2.05274194e-01  3.80309939e-01\n",
            "  -2.20365837e-01 -4.37909842e-01 -2.83065379e-01 -5.29123656e-03\n",
            "  -4.91486341e-02 -2.16466635e-01 -4.90839720e-01 -1.46912277e-01\n",
            "   2.84258395e-01  2.69812196e-01 -5.15617579e-02  7.53901973e-02\n",
            "  -1.88993383e-02 -2.44085453e-02 -1.22886501e-01 -2.91655213e-01\n",
            "  -1.34821415e-01  7.57969392e-04  6.33064806e-01 -3.59949499e-01\n",
            "  -3.30827981e-01  3.67563069e-01 -2.00792421e-02  1.76950485e-01\n",
            "  -9.33747143e-02 -1.70590803e-01 -5.78769259e-02  5.07827878e-01\n",
            "   3.85558784e-01  3.94036591e-01 -3.24551910e-01  1.50549337e-01\n",
            "   3.86540890e-02 -1.95221663e-01  1.17096990e-01 -2.23644450e-01\n",
            "   4.43326145e-01 -1.84633937e-02  4.29529786e-01  1.12049706e-01\n",
            "   8.87434706e-02 -3.80506605e-01  5.56808412e-01 -7.05762878e-02\n",
            "   1.78822957e-03 -4.61210571e-02 -4.85168219e-01 -4.91117209e-01\n",
            "  -5.12564518e-02  2.18175501e-01 -3.85263920e-01  9.83149782e-02\n",
            "  -2.95999378e-01 -5.89064090e-03  1.18667856e-02 -4.83232051e-01\n",
            "   4.08095360e-01  1.19076610e-01 -2.62968868e-01  2.41840243e-01]]\n",
            "The dependent variable: \n",
            "[0 0 0 0 0]\n"
          ]
        }
      ],
      "source": [
        "#Splitting the data into independent and dependent variables\n",
        "X = df.iloc[:,0:128].values\n",
        "y = df.iloc[:,128].values\n",
        "print('The independent features set: ')\n",
        "print(X[:5,:])\n",
        "print('The dependent variable: ')\n",
        "print(y[:5])"
      ]
    },
    {
      "cell_type": "code",
      "execution_count": null,
      "metadata": {
        "id": "ASsrqGP24gX7"
      },
      "outputs": [],
      "source": [
        "y = df['Complexity']"
      ]
    },
    {
      "cell_type": "code",
      "execution_count": null,
      "metadata": {
        "id": "8mqcsgDKAYE2"
      },
      "outputs": [],
      "source": [
        "from sklearn.preprocessing import LabelEncoder\n",
        "le = LabelEncoder()\n",
        "y = le.fit_transform(y)"
      ]
    },
    {
      "cell_type": "code",
      "execution_count": null,
      "metadata": {
        "id": "nNa27HgiKe9Z"
      },
      "outputs": [],
      "source": [
        "# Creating the Training and Test set from data\n",
        "X_train, X_test, y_train, y_test = train_test_split(X, y, test_size = 0.25, random_state = 21)"
      ]
    },
    {
      "cell_type": "code",
      "execution_count": null,
      "metadata": {
        "id": "-X0GeSHpKg10"
      },
      "outputs": [],
      "source": [
        "# Feature Scaling\n",
        "scaler = StandardScaler()\n",
        "X_train = scaler.fit_transform(X_train)\n",
        "X_test = scaler.transform(X_test)"
      ]
    },
    {
      "cell_type": "code",
      "source": [
        "import pickle"
      ],
      "metadata": {
        "id": "5WDAnQhM__Hg"
      },
      "execution_count": null,
      "outputs": []
    },
    {
      "cell_type": "code",
      "source": [
        "with open('scaler.pkl', 'wb') as files:\n",
        "    pickle.dump(scaler, files)"
      ],
      "metadata": {
        "id": "arSCz1IqAD7e"
      },
      "execution_count": null,
      "outputs": []
    },
    {
      "cell_type": "markdown",
      "source": [
        "# Bi-LSTM"
      ],
      "metadata": {
        "id": "lMAxJPuU_Clv"
      }
    },
    {
      "cell_type": "code",
      "source": [
        "X_train.shape"
      ],
      "metadata": {
        "colab": {
          "base_uri": "https://localhost:8080/"
        },
        "id": "J08LEF3G_BwN",
        "outputId": "032dd244-1b4b-4774-ecf4-c9507219111a"
      },
      "execution_count": null,
      "outputs": [
        {
          "output_type": "execute_result",
          "data": {
            "text/plain": [
              "(2812, 128)"
            ]
          },
          "metadata": {},
          "execution_count": 24
        }
      ]
    },
    {
      "cell_type": "code",
      "source": [
        "x.shape"
      ],
      "metadata": {
        "colab": {
          "base_uri": "https://localhost:8080/"
        },
        "id": "67t4WKJP_O51",
        "outputId": "42af7ce0-6e70-4147-81ae-6da1a8d4f864"
      },
      "execution_count": null,
      "outputs": [
        {
          "output_type": "execute_result",
          "data": {
            "text/plain": [
              "(740, 128)"
            ]
          },
          "metadata": {},
          "execution_count": 25
        }
      ]
    },
    {
      "cell_type": "code",
      "source": [
        "# Reshaping to 3d data\n",
        "x = np.reshape(x,(740,128,1))\n",
        "x"
      ],
      "metadata": {
        "colab": {
          "base_uri": "https://localhost:8080/"
        },
        "id": "dgdg1Ssb_o5I",
        "outputId": "599cfbb0-a77b-423f-bc79-98d96cc00ed7"
      },
      "execution_count": null,
      "outputs": [
        {
          "output_type": "execute_result",
          "data": {
            "text/plain": [
              "array([[[-0.05468176],\n",
              "        [ 0.127175  ],\n",
              "        [ 0.0366478 ],\n",
              "        ...,\n",
              "        [ 0.09731236],\n",
              "        [-0.107657  ],\n",
              "        [ 0.08184043]],\n",
              "\n",
              "       [[-0.0952346 ],\n",
              "        [ 0.17503381],\n",
              "        [ 0.06393544],\n",
              "        ...,\n",
              "        [ 0.1181241 ],\n",
              "        [-0.12556435],\n",
              "        [ 0.13071893]],\n",
              "\n",
              "       [[-0.13581266],\n",
              "        [ 0.21943617],\n",
              "        [ 0.10214286],\n",
              "        ...,\n",
              "        [ 0.1283566 ],\n",
              "        [-0.14471857],\n",
              "        [ 0.19222681]],\n",
              "\n",
              "       ...,\n",
              "\n",
              "       [[ 0.18476942],\n",
              "        [-0.20165125],\n",
              "        [-0.23536444],\n",
              "        ...,\n",
              "        [ 0.23089787],\n",
              "        [-0.3212845 ],\n",
              "        [-0.2662279 ]],\n",
              "\n",
              "       [[ 0.25568134],\n",
              "        [-0.19382419],\n",
              "        [-0.3828221 ],\n",
              "        ...,\n",
              "        [ 0.27317905],\n",
              "        [-0.33641592],\n",
              "        [-0.30042982]],\n",
              "\n",
              "       [[ 0.78257215],\n",
              "        [-0.16311097],\n",
              "        [-0.7386889 ],\n",
              "        ...,\n",
              "        [ 0.5125705 ],\n",
              "        [-0.17265631],\n",
              "        [-0.5655121 ]]], dtype=float32)"
            ]
          },
          "metadata": {},
          "execution_count": 26
        }
      ]
    },
    {
      "cell_type": "code",
      "source": [
        "X_train = np.reshape(X_train,(2812, 128,1))\n",
        "X_train"
      ],
      "metadata": {
        "id": "1W0t4RVI_rva",
        "colab": {
          "base_uri": "https://localhost:8080/"
        },
        "outputId": "327f637e-85ad-4830-b42d-4de5ac435fc5"
      },
      "execution_count": null,
      "outputs": [
        {
          "output_type": "execute_result",
          "data": {
            "text/plain": [
              "array([[[ 0.84717154],\n",
              "        [-1.43068202],\n",
              "        [-0.7615302 ],\n",
              "        ...,\n",
              "        [ 0.57338564],\n",
              "        [-1.24922156],\n",
              "        [-1.0607431 ]],\n",
              "\n",
              "       [[-0.70294139],\n",
              "        [ 1.51171662],\n",
              "        [ 1.35163088],\n",
              "        ...,\n",
              "        [-1.72876841],\n",
              "        [ 1.13807614],\n",
              "        [ 1.25700401]],\n",
              "\n",
              "       [[-0.13863078],\n",
              "        [ 0.3382368 ],\n",
              "        [ 0.1632765 ],\n",
              "        ...,\n",
              "        [-0.9246133 ],\n",
              "        [ 0.27131712],\n",
              "        [ 0.20767079]],\n",
              "\n",
              "       ...,\n",
              "\n",
              "       [[-0.62098248],\n",
              "        [ 0.43026559],\n",
              "        [ 0.53670856],\n",
              "        ...,\n",
              "        [-0.67867133],\n",
              "        [ 0.24573454],\n",
              "        [ 0.47407897]],\n",
              "\n",
              "       [[ 0.76756047],\n",
              "        [-0.82558813],\n",
              "        [-0.87589451],\n",
              "        ...,\n",
              "        [ 0.31606535],\n",
              "        [-0.03928964],\n",
              "        [-0.89741286]],\n",
              "\n",
              "       [[-1.22142386],\n",
              "        [ 0.32847572],\n",
              "        [ 0.8689637 ],\n",
              "        ...,\n",
              "        [ 0.42070132],\n",
              "        [ 0.59613646],\n",
              "        [ 1.09790722]]])"
            ]
          },
          "metadata": {},
          "execution_count": 27
        }
      ]
    },
    {
      "cell_type": "code",
      "source": [
        "y.shape"
      ],
      "metadata": {
        "colab": {
          "base_uri": "https://localhost:8080/"
        },
        "id": "JWf2NY8kAB9g",
        "outputId": "f2bc28f0-9a47-4429-bd83-ce8cdb9e1c88"
      },
      "execution_count": null,
      "outputs": [
        {
          "output_type": "execute_result",
          "data": {
            "text/plain": [
              "(3750,)"
            ]
          },
          "metadata": {},
          "execution_count": 28
        }
      ]
    },
    {
      "cell_type": "code",
      "source": [
        "y_train.shape"
      ],
      "metadata": {
        "colab": {
          "base_uri": "https://localhost:8080/"
        },
        "id": "gRBq15jcAFpB",
        "outputId": "75335e2b-ef5d-49e6-c7af-07d58c161194"
      },
      "execution_count": null,
      "outputs": [
        {
          "output_type": "execute_result",
          "data": {
            "text/plain": [
              "(2812,)"
            ]
          },
          "metadata": {},
          "execution_count": 29
        }
      ]
    },
    {
      "cell_type": "code",
      "source": [
        "# Reshaping to 3d data\n",
        "X_test = np.reshape(X_test,(938,128,1))\n",
        "X_test"
      ],
      "metadata": {
        "colab": {
          "base_uri": "https://localhost:8080/"
        },
        "id": "29s08r4GE7LC",
        "outputId": "6f9e31e2-def1-4a54-c0c3-33ca71f83684"
      },
      "execution_count": null,
      "outputs": [
        {
          "output_type": "execute_result",
          "data": {
            "text/plain": [
              "array([[[-0.80095946],\n",
              "        [ 1.5300145 ],\n",
              "        [ 1.64063133],\n",
              "        ...,\n",
              "        [-0.7921705 ],\n",
              "        [ 2.01342985],\n",
              "        [ 1.6060777 ]],\n",
              "\n",
              "       [[-0.70483171],\n",
              "        [ 0.70026779],\n",
              "        [ 0.2687184 ],\n",
              "        ...,\n",
              "        [-0.29498561],\n",
              "        [ 0.48653534],\n",
              "        [ 0.80380834]],\n",
              "\n",
              "       [[ 2.62105617],\n",
              "        [ 1.14915528],\n",
              "        [ 0.53942488],\n",
              "        ...,\n",
              "        [ 2.97785898],\n",
              "        [-1.20347416],\n",
              "        [-1.25078385]],\n",
              "\n",
              "       ...,\n",
              "\n",
              "       [[-0.81691531],\n",
              "        [ 0.80352059],\n",
              "        [ 0.79806443],\n",
              "        ...,\n",
              "        [-0.76949691],\n",
              "        [ 0.39183135],\n",
              "        [ 0.49922172]],\n",
              "\n",
              "       [[-0.58914742],\n",
              "        [ 0.05921539],\n",
              "        [ 0.3826984 ],\n",
              "        ...,\n",
              "        [-0.32164525],\n",
              "        [ 0.85936094],\n",
              "        [ 0.50830587]],\n",
              "\n",
              "       [[ 3.41136046],\n",
              "        [-1.24376197],\n",
              "        [-4.32024901],\n",
              "        ...,\n",
              "        [ 3.34525232],\n",
              "        [-1.6734306 ],\n",
              "        [-2.53536535]]])"
            ]
          },
          "metadata": {},
          "execution_count": 30
        }
      ]
    },
    {
      "cell_type": "code",
      "source": [
        "y_test.shape"
      ],
      "metadata": {
        "colab": {
          "base_uri": "https://localhost:8080/"
        },
        "id": "1o5Rg8ZOEyNK",
        "outputId": "14dc3291-0085-48c2-b1b9-5a1f70767396"
      },
      "execution_count": null,
      "outputs": [
        {
          "output_type": "execute_result",
          "data": {
            "text/plain": [
              "(938,)"
            ]
          },
          "metadata": {},
          "execution_count": 31
        }
      ]
    },
    {
      "cell_type": "code",
      "source": [
        "# Imports\n",
        "import tensorflow as tf\n",
        "from tensorflow.keras.layers import Activation,Embedding, Dense, LSTM, Bidirectional, GlobalAveragePooling1D\n",
        "from tensorflow.keras.losses import BinaryCrossentropy\n",
        "from tensorflow.keras.models import Sequential\n",
        "from tensorflow.keras.optimizers import Adam\n",
        "from tensorflow.keras.preprocessing.sequence import pad_sequences"
      ],
      "metadata": {
        "id": "q3_7j8pvALou"
      },
      "execution_count": null,
      "outputs": []
    },
    {
      "cell_type": "code",
      "source": [
        "# Adam gave best results at 83.69%"
      ],
      "metadata": {
        "id": "GBXA9S32cxnV"
      },
      "execution_count": null,
      "outputs": []
    },
    {
      "cell_type": "code",
      "source": [
        "model = Sequential()\n",
        "model.add(Bidirectional(LSTM(64, return_sequences=True),\n",
        "                             input_shape=(128, 1))) # 64 as input shape is 128; forward + backward = 128\n",
        "model.add(Bidirectional(LSTM(64)))\n",
        "model.add(Dense(10, activation=\"softmax\")) \n",
        "model.compile(loss='sparse_categorical_crossentropy', optimizer='adam', metrics=['accuracy']) #adam"
      ],
      "metadata": {
        "id": "RrymHI1XeDjC"
      },
      "execution_count": null,
      "outputs": []
    },
    {
      "cell_type": "code",
      "source": [
        "# Give a summary\n",
        "model.summary()"
      ],
      "metadata": {
        "colab": {
          "base_uri": "https://localhost:8080/"
        },
        "id": "LC-vP7M4AbC9",
        "outputId": "3a8541f7-3f58-4b8f-8d6f-9387a75bd477"
      },
      "execution_count": null,
      "outputs": [
        {
          "output_type": "stream",
          "name": "stdout",
          "text": [
            "Model: \"sequential\"\n",
            "_________________________________________________________________\n",
            " Layer (type)                Output Shape              Param #   \n",
            "=================================================================\n",
            " bidirectional (Bidirectiona  (None, 128, 128)         33792     \n",
            " l)                                                              \n",
            "                                                                 \n",
            " bidirectional_1 (Bidirectio  (None, 128)              98816     \n",
            " nal)                                                            \n",
            "                                                                 \n",
            " dense (Dense)               (None, 10)                1290      \n",
            "                                                                 \n",
            "=================================================================\n",
            "Total params: 133,898\n",
            "Trainable params: 133,898\n",
            "Non-trainable params: 0\n",
            "_________________________________________________________________\n"
          ]
        }
      ]
    },
    {
      "cell_type": "code",
      "source": [
        "history = model.fit(X_train, y_train, epochs=25)"
      ],
      "metadata": {
        "colab": {
          "base_uri": "https://localhost:8080/"
        },
        "id": "opcBvKFfAlOz",
        "outputId": "9eff6a1e-0cc6-4ed9-817d-2b4772cd9bec"
      },
      "execution_count": null,
      "outputs": [
        {
          "output_type": "stream",
          "name": "stdout",
          "text": [
            "Epoch 1/5\n",
            "88/88 [==============================] - 21s 159ms/step - loss: 1.8824 - accuracy: 0.3169\n",
            "Epoch 2/5\n",
            "88/88 [==============================] - 14s 157ms/step - loss: 1.1940 - accuracy: 0.5491\n",
            "Epoch 3/5\n",
            "88/88 [==============================] - 16s 186ms/step - loss: 0.9799 - accuracy: 0.6358\n",
            "Epoch 4/5\n",
            "88/88 [==============================] - 14s 159ms/step - loss: 0.8038 - accuracy: 0.7137\n",
            "Epoch 5/5\n",
            "88/88 [==============================] - 15s 168ms/step - loss: 0.7426 - accuracy: 0.7258\n"
          ]
        }
      ]
    },
    {
      "cell_type": "code",
      "source": [
        "from tensorflow.keras.models import load_model"
      ],
      "metadata": {
        "id": "8s-gq5gGAxtY"
      },
      "execution_count": null,
      "outputs": []
    },
    {
      "cell_type": "code",
      "source": [
        "model.save('try_model1.sav', save_format=\"h5\")"
      ],
      "metadata": {
        "id": "Lh4p89sMA6OJ"
      },
      "execution_count": null,
      "outputs": []
    },
    {
      "cell_type": "code",
      "source": [
        "import pandas as pd\n",
        "#data = {'Name': ['a', 'b', 'c'], 'Age': [10, 11, 12]}\n",
        "table_df = pd.DataFrame(history.history)\n",
        "table_df.index += 1\n",
        "print(table_df)"
      ],
      "metadata": {
        "colab": {
          "base_uri": "https://localhost:8080/"
        },
        "id": "b9rn6l7ZBoVc",
        "outputId": "ad940ad8-f02c-4ef4-8733-3504ecdebb1a"
      },
      "execution_count": null,
      "outputs": [
        {
          "output_type": "stream",
          "name": "stdout",
          "text": [
            "       loss  accuracy\n",
            "1  1.882375  0.316856\n",
            "2  1.193998  0.549075\n",
            "3  0.979861  0.635846\n",
            "4  0.803770  0.713727\n",
            "5  0.742591  0.725818\n"
          ]
        }
      ]
    },
    {
      "cell_type": "code",
      "source": [
        "display(table_df)"
      ],
      "metadata": {
        "colab": {
          "base_uri": "https://localhost:8080/",
          "height": 206
        },
        "id": "woajeHS_nrV0",
        "outputId": "574d5fcc-4a7a-4774-d948-99d6bcf025e6"
      },
      "execution_count": null,
      "outputs": [
        {
          "output_type": "display_data",
          "data": {
            "text/plain": [
              "       loss  accuracy\n",
              "1  1.882375  0.316856\n",
              "2  1.193998  0.549075\n",
              "3  0.979861  0.635846\n",
              "4  0.803770  0.713727\n",
              "5  0.742591  0.725818"
            ],
            "text/html": [
              "\n",
              "  <div id=\"df-c92e62c0-8b57-4908-acb1-0e544e188e17\">\n",
              "    <div class=\"colab-df-container\">\n",
              "      <div>\n",
              "<style scoped>\n",
              "    .dataframe tbody tr th:only-of-type {\n",
              "        vertical-align: middle;\n",
              "    }\n",
              "\n",
              "    .dataframe tbody tr th {\n",
              "        vertical-align: top;\n",
              "    }\n",
              "\n",
              "    .dataframe thead th {\n",
              "        text-align: right;\n",
              "    }\n",
              "</style>\n",
              "<table border=\"1\" class=\"dataframe\">\n",
              "  <thead>\n",
              "    <tr style=\"text-align: right;\">\n",
              "      <th></th>\n",
              "      <th>loss</th>\n",
              "      <th>accuracy</th>\n",
              "    </tr>\n",
              "  </thead>\n",
              "  <tbody>\n",
              "    <tr>\n",
              "      <th>1</th>\n",
              "      <td>1.882375</td>\n",
              "      <td>0.316856</td>\n",
              "    </tr>\n",
              "    <tr>\n",
              "      <th>2</th>\n",
              "      <td>1.193998</td>\n",
              "      <td>0.549075</td>\n",
              "    </tr>\n",
              "    <tr>\n",
              "      <th>3</th>\n",
              "      <td>0.979861</td>\n",
              "      <td>0.635846</td>\n",
              "    </tr>\n",
              "    <tr>\n",
              "      <th>4</th>\n",
              "      <td>0.803770</td>\n",
              "      <td>0.713727</td>\n",
              "    </tr>\n",
              "    <tr>\n",
              "      <th>5</th>\n",
              "      <td>0.742591</td>\n",
              "      <td>0.725818</td>\n",
              "    </tr>\n",
              "  </tbody>\n",
              "</table>\n",
              "</div>\n",
              "      <button class=\"colab-df-convert\" onclick=\"convertToInteractive('df-c92e62c0-8b57-4908-acb1-0e544e188e17')\"\n",
              "              title=\"Convert this dataframe to an interactive table.\"\n",
              "              style=\"display:none;\">\n",
              "        \n",
              "  <svg xmlns=\"http://www.w3.org/2000/svg\" height=\"24px\"viewBox=\"0 0 24 24\"\n",
              "       width=\"24px\">\n",
              "    <path d=\"M0 0h24v24H0V0z\" fill=\"none\"/>\n",
              "    <path d=\"M18.56 5.44l.94 2.06.94-2.06 2.06-.94-2.06-.94-.94-2.06-.94 2.06-2.06.94zm-11 1L8.5 8.5l.94-2.06 2.06-.94-2.06-.94L8.5 2.5l-.94 2.06-2.06.94zm10 10l.94 2.06.94-2.06 2.06-.94-2.06-.94-.94-2.06-.94 2.06-2.06.94z\"/><path d=\"M17.41 7.96l-1.37-1.37c-.4-.4-.92-.59-1.43-.59-.52 0-1.04.2-1.43.59L10.3 9.45l-7.72 7.72c-.78.78-.78 2.05 0 2.83L4 21.41c.39.39.9.59 1.41.59.51 0 1.02-.2 1.41-.59l7.78-7.78 2.81-2.81c.8-.78.8-2.07 0-2.86zM5.41 20L4 18.59l7.72-7.72 1.47 1.35L5.41 20z\"/>\n",
              "  </svg>\n",
              "      </button>\n",
              "      \n",
              "  <style>\n",
              "    .colab-df-container {\n",
              "      display:flex;\n",
              "      flex-wrap:wrap;\n",
              "      gap: 12px;\n",
              "    }\n",
              "\n",
              "    .colab-df-convert {\n",
              "      background-color: #E8F0FE;\n",
              "      border: none;\n",
              "      border-radius: 50%;\n",
              "      cursor: pointer;\n",
              "      display: none;\n",
              "      fill: #1967D2;\n",
              "      height: 32px;\n",
              "      padding: 0 0 0 0;\n",
              "      width: 32px;\n",
              "    }\n",
              "\n",
              "    .colab-df-convert:hover {\n",
              "      background-color: #E2EBFA;\n",
              "      box-shadow: 0px 1px 2px rgba(60, 64, 67, 0.3), 0px 1px 3px 1px rgba(60, 64, 67, 0.15);\n",
              "      fill: #174EA6;\n",
              "    }\n",
              "\n",
              "    [theme=dark] .colab-df-convert {\n",
              "      background-color: #3B4455;\n",
              "      fill: #D2E3FC;\n",
              "    }\n",
              "\n",
              "    [theme=dark] .colab-df-convert:hover {\n",
              "      background-color: #434B5C;\n",
              "      box-shadow: 0px 1px 3px 1px rgba(0, 0, 0, 0.15);\n",
              "      filter: drop-shadow(0px 1px 2px rgba(0, 0, 0, 0.3));\n",
              "      fill: #FFFFFF;\n",
              "    }\n",
              "  </style>\n",
              "\n",
              "      <script>\n",
              "        const buttonEl =\n",
              "          document.querySelector('#df-c92e62c0-8b57-4908-acb1-0e544e188e17 button.colab-df-convert');\n",
              "        buttonEl.style.display =\n",
              "          google.colab.kernel.accessAllowed ? 'block' : 'none';\n",
              "\n",
              "        async function convertToInteractive(key) {\n",
              "          const element = document.querySelector('#df-c92e62c0-8b57-4908-acb1-0e544e188e17');\n",
              "          const dataTable =\n",
              "            await google.colab.kernel.invokeFunction('convertToInteractive',\n",
              "                                                     [key], {});\n",
              "          if (!dataTable) return;\n",
              "\n",
              "          const docLinkHtml = 'Like what you see? Visit the ' +\n",
              "            '<a target=\"_blank\" href=https://colab.research.google.com/notebooks/data_table.ipynb>data table notebook</a>'\n",
              "            + ' to learn more about interactive tables.';\n",
              "          element.innerHTML = '';\n",
              "          dataTable['output_type'] = 'display_data';\n",
              "          await google.colab.output.renderOutput(dataTable, element);\n",
              "          const docLink = document.createElement('div');\n",
              "          docLink.innerHTML = docLinkHtml;\n",
              "          element.appendChild(docLink);\n",
              "        }\n",
              "      </script>\n",
              "    </div>\n",
              "  </div>\n",
              "  "
            ]
          },
          "metadata": {}
        }
      ]
    },
    {
      "cell_type": "code",
      "source": [
        "from tabulate import tabulate"
      ],
      "metadata": {
        "id": "CASyIfSLob9y"
      },
      "execution_count": null,
      "outputs": []
    },
    {
      "cell_type": "code",
      "source": [
        "print(tabulate(table_df, headers = 'keys', tablefmt = 'fancy_grid'))"
      ],
      "metadata": {
        "colab": {
          "base_uri": "https://localhost:8080/"
        },
        "id": "0qozNAwGpH_R",
        "outputId": "95bf6154-5f9c-48bf-c8b1-9e8db409e271"
      },
      "execution_count": null,
      "outputs": [
        {
          "output_type": "stream",
          "name": "stdout",
          "text": [
            "╒════╤══════════╤════════════╕\n",
            "│    │     loss │   accuracy │\n",
            "╞════╪══════════╪════════════╡\n",
            "│  1 │ 1.88237  │   0.316856 │\n",
            "├────┼──────────┼────────────┤\n",
            "│  2 │ 1.194    │   0.549075 │\n",
            "├────┼──────────┼────────────┤\n",
            "│  3 │ 0.979861 │   0.635846 │\n",
            "├────┼──────────┼────────────┤\n",
            "│  4 │ 0.80377  │   0.713727 │\n",
            "├────┼──────────┼────────────┤\n",
            "│  5 │ 0.742591 │   0.725818 │\n",
            "╘════╧══════════╧════════════╛\n"
          ]
        }
      ]
    },
    {
      "cell_type": "code",
      "source": [
        "print(tabulate(table_df, headers = 'keys', tablefmt = 'latex'))"
      ],
      "metadata": {
        "colab": {
          "base_uri": "https://localhost:8080/"
        },
        "id": "6hWir5q0oSIj",
        "outputId": "644b1552-f2b2-4515-cbdf-214cac09f0b1"
      },
      "execution_count": null,
      "outputs": [
        {
          "output_type": "stream",
          "name": "stdout",
          "text": [
            "\\begin{tabular}{rrr}\n",
            "\\hline\n",
            "    &     loss &   accuracy \\\\\n",
            "\\hline\n",
            "  1 & 1.88237  &   0.316856 \\\\\n",
            "  2 & 1.194    &   0.549075 \\\\\n",
            "  3 & 0.979861 &   0.635846 \\\\\n",
            "  4 & 0.80377  &   0.713727 \\\\\n",
            "  5 & 0.742591 &   0.725818 \\\\\n",
            "\\hline\n",
            "\\end{tabular}\n"
          ]
        }
      ]
    },
    {
      "cell_type": "code",
      "source": [
        "table_df.to_csv('data.csv')\n",
        "from google.colab import files\n",
        "files.download(\"data.csv\")"
      ],
      "metadata": {
        "colab": {
          "base_uri": "https://localhost:8080/",
          "height": 17
        },
        "id": "HRLCiGGtsJb9",
        "outputId": "4525537d-e1f7-4f57-f9e9-ee4d869503f6"
      },
      "execution_count": null,
      "outputs": [
        {
          "output_type": "display_data",
          "data": {
            "text/plain": [
              "<IPython.core.display.Javascript object>"
            ],
            "application/javascript": [
              "\n",
              "    async function download(id, filename, size) {\n",
              "      if (!google.colab.kernel.accessAllowed) {\n",
              "        return;\n",
              "      }\n",
              "      const div = document.createElement('div');\n",
              "      const label = document.createElement('label');\n",
              "      label.textContent = `Downloading \"${filename}\": `;\n",
              "      div.appendChild(label);\n",
              "      const progress = document.createElement('progress');\n",
              "      progress.max = size;\n",
              "      div.appendChild(progress);\n",
              "      document.body.appendChild(div);\n",
              "\n",
              "      const buffers = [];\n",
              "      let downloaded = 0;\n",
              "\n",
              "      const channel = await google.colab.kernel.comms.open(id);\n",
              "      // Send a message to notify the kernel that we're ready.\n",
              "      channel.send({})\n",
              "\n",
              "      for await (const message of channel.messages) {\n",
              "        // Send a message to notify the kernel that we're ready.\n",
              "        channel.send({})\n",
              "        if (message.buffers) {\n",
              "          for (const buffer of message.buffers) {\n",
              "            buffers.push(buffer);\n",
              "            downloaded += buffer.byteLength;\n",
              "            progress.value = downloaded;\n",
              "          }\n",
              "        }\n",
              "      }\n",
              "      const blob = new Blob(buffers, {type: 'application/binary'});\n",
              "      const a = document.createElement('a');\n",
              "      a.href = window.URL.createObjectURL(blob);\n",
              "      a.download = filename;\n",
              "      div.appendChild(a);\n",
              "      a.click();\n",
              "      div.remove();\n",
              "    }\n",
              "  "
            ]
          },
          "metadata": {}
        },
        {
          "output_type": "display_data",
          "data": {
            "text/plain": [
              "<IPython.core.display.Javascript object>"
            ],
            "application/javascript": [
              "download(\"download_d6b68a97-7513-48e0-9356-97e741745016\", \"data.csv\", 212)"
            ]
          },
          "metadata": {}
        }
      ]
    },
    {
      "cell_type": "code",
      "source": [
        "from matplotlib import pyplot"
      ],
      "metadata": {
        "id": "KCNOXV1bNzMi"
      },
      "execution_count": null,
      "outputs": []
    },
    {
      "cell_type": "code",
      "source": [
        "pyplot.plot(history.history['loss'])\n",
        "pyplot.plot(history.history['accuracy'])\n",
        "pyplot.title('model loss vs accuracy')\n",
        "pyplot.xlabel('epoch')\n",
        "pyplot.legend(['loss', 'accuracy'], loc='upper right')\n",
        "pyplot.show()"
      ],
      "metadata": {
        "colab": {
          "base_uri": "https://localhost:8080/",
          "height": 295
        },
        "id": "r0Ay-nJDOLik",
        "outputId": "42880473-7a59-4648-bb58-34e7092aba09"
      },
      "execution_count": null,
      "outputs": [
        {
          "output_type": "display_data",
          "data": {
            "text/plain": [
              "<Figure size 432x288 with 1 Axes>"
            ],
            "image/png": "[encoded data removed]"
          },
          "metadata": {
            "needs_background": "light"
          }
        }
      ]
    },
    {
      "cell_type": "code",
      "source": [
        "test_loss, test_acc = model.evaluate(X_test, y_test, verbose=2)\n",
        "\n",
        "print('\\nTest accuracy:', test_acc)"
      ],
      "metadata": {
        "colab": {
          "base_uri": "https://localhost:8080/"
        },
        "id": "7_yOkqE_AtzN",
        "outputId": "1d8945e0-ae7a-4d05-dd8e-bf87d5e4b005"
      },
      "execution_count": null,
      "outputs": [
        {
          "output_type": "stream",
          "name": "stdout",
          "text": [
            "30/30 - 3s - loss: 0.6620 - accuracy: 0.7793 - 3s/epoch - 89ms/step\n",
            "\n",
            "Test accuracy: 0.7793176770210266\n"
          ]
        }
      ]
    },
    {
      "cell_type": "code",
      "source": [
        "# Test the model after training\n",
        "test_results = model.evaluate(X_test, y_test, verbose=False)\n",
        "#print(f'Test results - Loss: {test_results[0]} - Accuracy: {100*test_results[1]}%')\n",
        "test_results"
      ],
      "metadata": {
        "colab": {
          "base_uri": "https://localhost:8080/"
        },
        "id": "IuKPUYrUDKIV",
        "outputId": "74dab54c-82f5-483e-8fe4-4ae5b78078c9"
      },
      "execution_count": null,
      "outputs": [
        {
          "output_type": "execute_result",
          "data": {
            "text/plain": [
              "[0.6620001792907715, 0.7793176770210266]"
            ]
          },
          "metadata": {},
          "execution_count": 47
        }
      ]
    },
    {
      "cell_type": "code",
      "source": [],
      "metadata": {
        "id": "U6YaDq4FJj8l"
      },
      "execution_count": null,
      "outputs": []
    },
    {
      "cell_type": "markdown",
      "source": [
        "# End of notebook"
      ],
      "metadata": {
        "id": "r3DYWmgAJk7J"
      }
    },
    {
      "cell_type": "code",
      "source": [
        "model = Sequential()\n",
        "model.add(Bidirectional(LSTM(64, return_sequences=True),\n",
        "                             input_shape=(128, 1))) # 64 as input shape is 128; forward + backward = 128\n",
        "model.add(Bidirectional(LSTM(64)))\n",
        "model.add(Dense(10, activation=\"softmax\"))\n",
        "model.compile(optimizer='adam',\n",
        "              loss=tf.keras.losses.SparseCategoricalCrossentropy(),\n",
        "              metrics=['accuracy'])"
      ],
      "metadata": {
        "id": "WTzKP_YzRXB2"
      },
      "execution_count": null,
      "outputs": []
    },
    {
      "cell_type": "code",
      "source": [
        "history = model.fit(X_train, y_train, epochs=25)"
      ],
      "metadata": {
        "colab": {
          "base_uri": "https://localhost:8080/"
        },
        "id": "Qth9STdZRinh",
        "outputId": "cbfb1aa7-69a7-436c-8820-87de0abd37f0"
      },
      "execution_count": null,
      "outputs": [
        {
          "output_type": "stream",
          "name": "stdout",
          "text": [
            "Epoch 1/25\n",
            "88/88 [==============================] - 33s 252ms/step - loss: 1.8601 - accuracy: 0.3115\n",
            "Epoch 2/25\n",
            "88/88 [==============================] - 22s 249ms/step - loss: 1.2004 - accuracy: 0.5693\n",
            "Epoch 3/25\n",
            "88/88 [==============================] - 24s 268ms/step - loss: 1.1234 - accuracy: 0.5843\n",
            "Epoch 4/25\n",
            "88/88 [==============================] - 22s 245ms/step - loss: 0.9011 - accuracy: 0.6718\n",
            "Epoch 5/25\n",
            "88/88 [==============================] - 22s 252ms/step - loss: 0.9618 - accuracy: 0.6586\n",
            "Epoch 6/25\n",
            "88/88 [==============================] - 20s 228ms/step - loss: 0.7507 - accuracy: 0.7297\n",
            "Epoch 7/25\n",
            "88/88 [==============================] - 21s 236ms/step - loss: 0.7088 - accuracy: 0.7464\n",
            "Epoch 8/25\n",
            "88/88 [==============================] - 20s 228ms/step - loss: 0.6200 - accuracy: 0.7678\n",
            "Epoch 9/25\n",
            "88/88 [==============================] - 21s 244ms/step - loss: 0.5806 - accuracy: 0.7987\n",
            "Epoch 10/25\n",
            "88/88 [==============================] - 20s 226ms/step - loss: 0.5348 - accuracy: 0.8122\n",
            "Epoch 11/25\n",
            "88/88 [==============================] - 21s 234ms/step - loss: 0.4805 - accuracy: 0.8364\n",
            "Epoch 12/25\n",
            "88/88 [==============================] - 26s 293ms/step - loss: 0.4912 - accuracy: 0.8304\n",
            "Epoch 13/25\n",
            "88/88 [==============================] - 27s 306ms/step - loss: 0.4503 - accuracy: 0.8453\n",
            "Epoch 14/25\n",
            "88/88 [==============================] - 31s 354ms/step - loss: 0.4005 - accuracy: 0.8720\n",
            "Epoch 15/25\n",
            "88/88 [==============================] - 20s 227ms/step - loss: 0.3697 - accuracy: 0.8777\n",
            "Epoch 16/25\n",
            "88/88 [==============================] - 20s 226ms/step - loss: 0.3489 - accuracy: 0.8770\n",
            "Epoch 17/25\n",
            "88/88 [==============================] - 20s 226ms/step - loss: 0.3593 - accuracy: 0.8819\n",
            "Epoch 18/25\n",
            "88/88 [==============================] - 20s 231ms/step - loss: 0.3796 - accuracy: 0.8787\n",
            "Epoch 19/25\n",
            "88/88 [==============================] - 20s 227ms/step - loss: 0.3390 - accuracy: 0.8848\n",
            "Epoch 20/25\n",
            "88/88 [==============================] - 20s 228ms/step - loss: 0.3706 - accuracy: 0.8748\n",
            "Epoch 21/25\n",
            "88/88 [==============================] - 20s 231ms/step - loss: 0.3088 - accuracy: 0.8994\n",
            "Epoch 22/25\n",
            "88/88 [==============================] - 20s 229ms/step - loss: 0.2661 - accuracy: 0.9179\n",
            "Epoch 23/25\n",
            "88/88 [==============================] - 20s 229ms/step - loss: 0.3067 - accuracy: 0.8958\n",
            "Epoch 24/25\n",
            "88/88 [==============================] - 20s 227ms/step - loss: 0.2350 - accuracy: 0.9232\n",
            "Epoch 25/25\n",
            "88/88 [==============================] - 24s 275ms/step - loss: 0.2461 - accuracy: 0.9214\n"
          ]
        }
      ]
    },
    {
      "cell_type": "code",
      "source": [
        "pyplot.plot(history.history['loss'])\n",
        "pyplot.plot(history.history['accuracy'])\n",
        "pyplot.title('model loss vs accuracy')\n",
        "pyplot.xlabel('epoch')\n",
        "pyplot.legend(['loss', 'accuracy'], loc='upper right')\n",
        "pyplot.show()"
      ],
      "metadata": {
        "colab": {
          "base_uri": "https://localhost:8080/",
          "height": 295
        },
        "id": "dHjAWliaUMZz",
        "outputId": "1fc061a5-a3e8-4668-b9d2-818f0f3ce36d"
      },
      "execution_count": null,
      "outputs": [
        {
          "output_type": "display_data",
          "data": {
            "text/plain": [
              "<Figure size 432x288 with 1 Axes>"
            ],
            "image/png": "[encoded data removed]"
          },
          "metadata": {
            "needs_background": "light"
          }
        }
      ]
    },
    {
      "cell_type": "code",
      "source": [
        "test_loss, test_acc = model.evaluate(X_test, y_test, verbose=2)\n",
        "\n",
        "print('\\nTest accuracy:', test_acc)"
      ],
      "metadata": {
        "colab": {
          "base_uri": "https://localhost:8080/"
        },
        "id": "-bZyR9nvRqSB",
        "outputId": "58084b35-32b4-4bac-a6b2-17f29ab435b8"
      },
      "execution_count": null,
      "outputs": [
        {
          "output_type": "stream",
          "name": "stdout",
          "text": [
            "30/30 - 3s - loss: 0.2713 - accuracy: 0.9211 - 3s/epoch - 109ms/step\n",
            "\n",
            "Test accuracy: 0.9211087226867676\n"
          ]
        }
      ]
    },
    {
      "cell_type": "code",
      "source": [
        "import pandas as pd\n",
        "#data = {'Name': ['a', 'b', 'c'], 'Age': [10, 11, 12]}\n",
        "table_df = pd.DataFrame(history.history)\n",
        "table_df.index += 1\n",
        "print(table_df)"
      ],
      "metadata": {
        "colab": {
          "base_uri": "https://localhost:8080/"
        },
        "id": "GIjihl4EtToh",
        "outputId": "4a1d3671-aff5-44c7-fe6f-52fefac27075"
      },
      "execution_count": null,
      "outputs": [
        {
          "output_type": "stream",
          "name": "stdout",
          "text": [
            "        loss  accuracy\n",
            "1   1.860066  0.311522\n",
            "2   1.200433  0.569346\n",
            "3   1.123420  0.584282\n",
            "4   0.901057  0.671764\n",
            "5   0.961772  0.658606\n",
            "6   0.750672  0.729730\n",
            "7   0.708764  0.746444\n",
            "8   0.619969  0.767781\n",
            "9   0.580564  0.798720\n",
            "10  0.534757  0.812233\n",
            "11  0.480460  0.836415\n",
            "12  0.491162  0.830370\n",
            "13  0.450298  0.845306\n",
            "14  0.400549  0.871977\n",
            "15  0.369668  0.877667\n",
            "16  0.348913  0.876956\n",
            "17  0.359251  0.881935\n",
            "18  0.379618  0.878734\n",
            "19  0.339010  0.884780\n",
            "20  0.370551  0.874822\n",
            "21  0.308768  0.899360\n",
            "22  0.266068  0.917852\n",
            "23  0.306673  0.895804\n",
            "24  0.234968  0.923186\n",
            "25  0.246129  0.921408\n"
          ]
        }
      ]
    },
    {
      "cell_type": "code",
      "source": [
        "table_df2 = table_df[table_df.index % 5 == 0]\n",
        "table_df2"
      ],
      "metadata": {
        "colab": {
          "base_uri": "https://localhost:8080/",
          "height": 206
        },
        "id": "g2Fs6v8iuSWm",
        "outputId": "3dbf9955-7b70-4a1f-da80-dc81eb3ae347"
      },
      "execution_count": null,
      "outputs": [
        {
          "output_type": "execute_result",
          "data": {
            "text/plain": [
              "        loss  accuracy\n",
              "5   0.961772  0.658606\n",
              "10  0.534757  0.812233\n",
              "15  0.369668  0.877667\n",
              "20  0.370551  0.874822\n",
              "25  0.246129  0.921408"
            ],
            "text/html": [
              "\n",
              "  <div id=\"df-12dd9ea9-57e4-4fd7-a698-1c10b2895f94\">\n",
              "    <div class=\"colab-df-container\">\n",
              "      <div>\n",
              "<style scoped>\n",
              "    .dataframe tbody tr th:only-of-type {\n",
              "        vertical-align: middle;\n",
              "    }\n",
              "\n",
              "    .dataframe tbody tr th {\n",
              "        vertical-align: top;\n",
              "    }\n",
              "\n",
              "    .dataframe thead th {\n",
              "        text-align: right;\n",
              "    }\n",
              "</style>\n",
              "<table border=\"1\" class=\"dataframe\">\n",
              "  <thead>\n",
              "    <tr style=\"text-align: right;\">\n",
              "      <th></th>\n",
              "      <th>loss</th>\n",
              "      <th>accuracy</th>\n",
              "    </tr>\n",
              "  </thead>\n",
              "  <tbody>\n",
              "    <tr>\n",
              "      <th>5</th>\n",
              "      <td>0.961772</td>\n",
              "      <td>0.658606</td>\n",
              "    </tr>\n",
              "    <tr>\n",
              "      <th>10</th>\n",
              "      <td>0.534757</td>\n",
              "      <td>0.812233</td>\n",
              "    </tr>\n",
              "    <tr>\n",
              "      <th>15</th>\n",
              "      <td>0.369668</td>\n",
              "      <td>0.877667</td>\n",
              "    </tr>\n",
              "    <tr>\n",
              "      <th>20</th>\n",
              "      <td>0.370551</td>\n",
              "      <td>0.874822</td>\n",
              "    </tr>\n",
              "    <tr>\n",
              "      <th>25</th>\n",
              "      <td>0.246129</td>\n",
              "      <td>0.921408</td>\n",
              "    </tr>\n",
              "  </tbody>\n",
              "</table>\n",
              "</div>\n",
              "      <button class=\"colab-df-convert\" onclick=\"convertToInteractive('df-12dd9ea9-57e4-4fd7-a698-1c10b2895f94')\"\n",
              "              title=\"Convert this dataframe to an interactive table.\"\n",
              "              style=\"display:none;\">\n",
              "        \n",
              "  <svg xmlns=\"http://www.w3.org/2000/svg\" height=\"24px\"viewBox=\"0 0 24 24\"\n",
              "       width=\"24px\">\n",
              "    <path d=\"M0 0h24v24H0V0z\" fill=\"none\"/>\n",
              "    <path d=\"M18.56 5.44l.94 2.06.94-2.06 2.06-.94-2.06-.94-.94-2.06-.94 2.06-2.06.94zm-11 1L8.5 8.5l.94-2.06 2.06-.94-2.06-.94L8.5 2.5l-.94 2.06-2.06.94zm10 10l.94 2.06.94-2.06 2.06-.94-2.06-.94-.94-2.06-.94 2.06-2.06.94z\"/><path d=\"M17.41 7.96l-1.37-1.37c-.4-.4-.92-.59-1.43-.59-.52 0-1.04.2-1.43.59L10.3 9.45l-7.72 7.72c-.78.78-.78 2.05 0 2.83L4 21.41c.39.39.9.59 1.41.59.51 0 1.02-.2 1.41-.59l7.78-7.78 2.81-2.81c.8-.78.8-2.07 0-2.86zM5.41 20L4 18.59l7.72-7.72 1.47 1.35L5.41 20z\"/>\n",
              "  </svg>\n",
              "      </button>\n",
              "      \n",
              "  <style>\n",
              "    .colab-df-container {\n",
              "      display:flex;\n",
              "      flex-wrap:wrap;\n",
              "      gap: 12px;\n",
              "    }\n",
              "\n",
              "    .colab-df-convert {\n",
              "      background-color: #E8F0FE;\n",
              "      border: none;\n",
              "      border-radius: 50%;\n",
              "      cursor: pointer;\n",
              "      display: none;\n",
              "      fill: #1967D2;\n",
              "      height: 32px;\n",
              "      padding: 0 0 0 0;\n",
              "      width: 32px;\n",
              "    }\n",
              "\n",
              "    .colab-df-convert:hover {\n",
              "      background-color: #E2EBFA;\n",
              "      box-shadow: 0px 1px 2px rgba(60, 64, 67, 0.3), 0px 1px 3px 1px rgba(60, 64, 67, 0.15);\n",
              "      fill: #174EA6;\n",
              "    }\n",
              "\n",
              "    [theme=dark] .colab-df-convert {\n",
              "      background-color: #3B4455;\n",
              "      fill: #D2E3FC;\n",
              "    }\n",
              "\n",
              "    [theme=dark] .colab-df-convert:hover {\n",
              "      background-color: #434B5C;\n",
              "      box-shadow: 0px 1px 3px 1px rgba(0, 0, 0, 0.15);\n",
              "      filter: drop-shadow(0px 1px 2px rgba(0, 0, 0, 0.3));\n",
              "      fill: #FFFFFF;\n",
              "    }\n",
              "  </style>\n",
              "\n",
              "      <script>\n",
              "        const buttonEl =\n",
              "          document.querySelector('#df-12dd9ea9-57e4-4fd7-a698-1c10b2895f94 button.colab-df-convert');\n",
              "        buttonEl.style.display =\n",
              "          google.colab.kernel.accessAllowed ? 'block' : 'none';\n",
              "\n",
              "        async function convertToInteractive(key) {\n",
              "          const element = document.querySelector('#df-12dd9ea9-57e4-4fd7-a698-1c10b2895f94');\n",
              "          const dataTable =\n",
              "            await google.colab.kernel.invokeFunction('convertToInteractive',\n",
              "                                                     [key], {});\n",
              "          if (!dataTable) return;\n",
              "\n",
              "          const docLinkHtml = 'Like what you see? Visit the ' +\n",
              "            '<a target=\"_blank\" href=https://colab.research.google.com/notebooks/data_table.ipynb>data table notebook</a>'\n",
              "            + ' to learn more about interactive tables.';\n",
              "          element.innerHTML = '';\n",
              "          dataTable['output_type'] = 'display_data';\n",
              "          await google.colab.output.renderOutput(dataTable, element);\n",
              "          const docLink = document.createElement('div');\n",
              "          docLink.innerHTML = docLinkHtml;\n",
              "          element.appendChild(docLink);\n",
              "        }\n",
              "      </script>\n",
              "    </div>\n",
              "  </div>\n",
              "  "
            ]
          },
          "metadata": {},
          "execution_count": 82
        }
      ]
    },
    {
      "cell_type": "code",
      "source": [
        "display(table_df2)"
      ],
      "metadata": {
        "colab": {
          "base_uri": "https://localhost:8080/",
          "height": 206
        },
        "id": "uzgAkXubtaMb",
        "outputId": "36112d26-c403-4772-d1b0-67dc8d1d0757"
      },
      "execution_count": null,
      "outputs": [
        {
          "output_type": "display_data",
          "data": {
            "text/plain": [
              "        loss  accuracy\n",
              "5   0.961772  0.658606\n",
              "10  0.534757  0.812233\n",
              "15  0.369668  0.877667\n",
              "20  0.370551  0.874822\n",
              "25  0.246129  0.921408"
            ],
            "text/html": [
              "\n",
              "  <div id=\"df-dd405a85-339d-45dc-9697-462fa325e7b0\">\n",
              "    <div class=\"colab-df-container\">\n",
              "      <div>\n",
              "<style scoped>\n",
              "    .dataframe tbody tr th:only-of-type {\n",
              "        vertical-align: middle;\n",
              "    }\n",
              "\n",
              "    .dataframe tbody tr th {\n",
              "        vertical-align: top;\n",
              "    }\n",
              "\n",
              "    .dataframe thead th {\n",
              "        text-align: right;\n",
              "    }\n",
              "</style>\n",
              "<table border=\"1\" class=\"dataframe\">\n",
              "  <thead>\n",
              "    <tr style=\"text-align: right;\">\n",
              "      <th></th>\n",
              "      <th>loss</th>\n",
              "      <th>accuracy</th>\n",
              "    </tr>\n",
              "  </thead>\n",
              "  <tbody>\n",
              "    <tr>\n",
              "      <th>5</th>\n",
              "      <td>0.961772</td>\n",
              "      <td>0.658606</td>\n",
              "    </tr>\n",
              "    <tr>\n",
              "      <th>10</th>\n",
              "      <td>0.534757</td>\n",
              "      <td>0.812233</td>\n",
              "    </tr>\n",
              "    <tr>\n",
              "      <th>15</th>\n",
              "      <td>0.369668</td>\n",
              "      <td>0.877667</td>\n",
              "    </tr>\n",
              "    <tr>\n",
              "      <th>20</th>\n",
              "      <td>0.370551</td>\n",
              "      <td>0.874822</td>\n",
              "    </tr>\n",
              "    <tr>\n",
              "      <th>25</th>\n",
              "      <td>0.246129</td>\n",
              "      <td>0.921408</td>\n",
              "    </tr>\n",
              "  </tbody>\n",
              "</table>\n",
              "</div>\n",
              "      <button class=\"colab-df-convert\" onclick=\"convertToInteractive('df-dd405a85-339d-45dc-9697-462fa325e7b0')\"\n",
              "              title=\"Convert this dataframe to an interactive table.\"\n",
              "              style=\"display:none;\">\n",
              "        \n",
              "  <svg xmlns=\"http://www.w3.org/2000/svg\" height=\"24px\"viewBox=\"0 0 24 24\"\n",
              "       width=\"24px\">\n",
              "    <path d=\"M0 0h24v24H0V0z\" fill=\"none\"/>\n",
              "    <path d=\"M18.56 5.44l.94 2.06.94-2.06 2.06-.94-2.06-.94-.94-2.06-.94 2.06-2.06.94zm-11 1L8.5 8.5l.94-2.06 2.06-.94-2.06-.94L8.5 2.5l-.94 2.06-2.06.94zm10 10l.94 2.06.94-2.06 2.06-.94-2.06-.94-.94-2.06-.94 2.06-2.06.94z\"/><path d=\"M17.41 7.96l-1.37-1.37c-.4-.4-.92-.59-1.43-.59-.52 0-1.04.2-1.43.59L10.3 9.45l-7.72 7.72c-.78.78-.78 2.05 0 2.83L4 21.41c.39.39.9.59 1.41.59.51 0 1.02-.2 1.41-.59l7.78-7.78 2.81-2.81c.8-.78.8-2.07 0-2.86zM5.41 20L4 18.59l7.72-7.72 1.47 1.35L5.41 20z\"/>\n",
              "  </svg>\n",
              "      </button>\n",
              "      \n",
              "  <style>\n",
              "    .colab-df-container {\n",
              "      display:flex;\n",
              "      flex-wrap:wrap;\n",
              "      gap: 12px;\n",
              "    }\n",
              "\n",
              "    .colab-df-convert {\n",
              "      background-color: #E8F0FE;\n",
              "      border: none;\n",
              "      border-radius: 50%;\n",
              "      cursor: pointer;\n",
              "      display: none;\n",
              "      fill: #1967D2;\n",
              "      height: 32px;\n",
              "      padding: 0 0 0 0;\n",
              "      width: 32px;\n",
              "    }\n",
              "\n",
              "    .colab-df-convert:hover {\n",
              "      background-color: #E2EBFA;\n",
              "      box-shadow: 0px 1px 2px rgba(60, 64, 67, 0.3), 0px 1px 3px 1px rgba(60, 64, 67, 0.15);\n",
              "      fill: #174EA6;\n",
              "    }\n",
              "\n",
              "    [theme=dark] .colab-df-convert {\n",
              "      background-color: #3B4455;\n",
              "      fill: #D2E3FC;\n",
              "    }\n",
              "\n",
              "    [theme=dark] .colab-df-convert:hover {\n",
              "      background-color: #434B5C;\n",
              "      box-shadow: 0px 1px 3px 1px rgba(0, 0, 0, 0.15);\n",
              "      filter: drop-shadow(0px 1px 2px rgba(0, 0, 0, 0.3));\n",
              "      fill: #FFFFFF;\n",
              "    }\n",
              "  </style>\n",
              "\n",
              "      <script>\n",
              "        const buttonEl =\n",
              "          document.querySelector('#df-dd405a85-339d-45dc-9697-462fa325e7b0 button.colab-df-convert');\n",
              "        buttonEl.style.display =\n",
              "          google.colab.kernel.accessAllowed ? 'block' : 'none';\n",
              "\n",
              "        async function convertToInteractive(key) {\n",
              "          const element = document.querySelector('#df-dd405a85-339d-45dc-9697-462fa325e7b0');\n",
              "          const dataTable =\n",
              "            await google.colab.kernel.invokeFunction('convertToInteractive',\n",
              "                                                     [key], {});\n",
              "          if (!dataTable) return;\n",
              "\n",
              "          const docLinkHtml = 'Like what you see? Visit the ' +\n",
              "            '<a target=\"_blank\" href=https://colab.research.google.com/notebooks/data_table.ipynb>data table notebook</a>'\n",
              "            + ' to learn more about interactive tables.';\n",
              "          element.innerHTML = '';\n",
              "          dataTable['output_type'] = 'display_data';\n",
              "          await google.colab.output.renderOutput(dataTable, element);\n",
              "          const docLink = document.createElement('div');\n",
              "          docLink.innerHTML = docLinkHtml;\n",
              "          element.appendChild(docLink);\n",
              "        }\n",
              "      </script>\n",
              "    </div>\n",
              "  </div>\n",
              "  "
            ]
          },
          "metadata": {}
        }
      ]
    },
    {
      "cell_type": "code",
      "source": [
        "print(tabulate(table_df, headers = 'keys', tablefmt = 'fancy_grid'))"
      ],
      "metadata": {
        "id": "lTHHHhHKtexC"
      },
      "execution_count": null,
      "outputs": []
    },
    {
      "cell_type": "code",
      "source": [
        "print(tabulate(table_df, headers = 'keys', tablefmt = 'latex'))"
      ],
      "metadata": {
        "id": "Vs9YyX-ctiWQ"
      },
      "execution_count": null,
      "outputs": []
    },
    {
      "cell_type": "code",
      "source": [
        "table_df.to_csv('data3.csv')\n",
        "from google.colab import files\n",
        "files.download(\"data3.csv\")"
      ],
      "metadata": {
        "colab": {
          "base_uri": "https://localhost:8080/",
          "height": 17
        },
        "id": "crARNvTTtmxp",
        "outputId": "c791a414-eb4d-4285-a9d1-e2527b556d3d"
      },
      "execution_count": null,
      "outputs": [
        {
          "output_type": "display_data",
          "data": {
            "text/plain": [
              "<IPython.core.display.Javascript object>"
            ],
            "application/javascript": [
              "\n",
              "    async function download(id, filename, size) {\n",
              "      if (!google.colab.kernel.accessAllowed) {\n",
              "        return;\n",
              "      }\n",
              "      const div = document.createElement('div');\n",
              "      const label = document.createElement('label');\n",
              "      label.textContent = `Downloading \"${filename}\": `;\n",
              "      div.appendChild(label);\n",
              "      const progress = document.createElement('progress');\n",
              "      progress.max = size;\n",
              "      div.appendChild(progress);\n",
              "      document.body.appendChild(div);\n",
              "\n",
              "      const buffers = [];\n",
              "      let downloaded = 0;\n",
              "\n",
              "      const channel = await google.colab.kernel.comms.open(id);\n",
              "      // Send a message to notify the kernel that we're ready.\n",
              "      channel.send({})\n",
              "\n",
              "      for await (const message of channel.messages) {\n",
              "        // Send a message to notify the kernel that we're ready.\n",
              "        channel.send({})\n",
              "        if (message.buffers) {\n",
              "          for (const buffer of message.buffers) {\n",
              "            buffers.push(buffer);\n",
              "            downloaded += buffer.byteLength;\n",
              "            progress.value = downloaded;\n",
              "          }\n",
              "        }\n",
              "      }\n",
              "      const blob = new Blob(buffers, {type: 'application/binary'});\n",
              "      const a = document.createElement('a');\n",
              "      a.href = window.URL.createObjectURL(blob);\n",
              "      a.download = filename;\n",
              "      div.appendChild(a);\n",
              "      a.click();\n",
              "      div.remove();\n",
              "    }\n",
              "  "
            ]
          },
          "metadata": {}
        },
        {
          "output_type": "display_data",
          "data": {
            "text/plain": [
              "<IPython.core.display.Javascript object>"
            ],
            "application/javascript": [
              "download(\"download_caaaba8f-47c1-4db5-9938-79929046a8ff\", \"data3.csv\", 1034)"
            ]
          },
          "metadata": {}
        }
      ]
    },
    {
      "cell_type": "code",
      "source": [],
      "metadata": {
        "id": "HOcMs0EJtUej"
      },
      "execution_count": null,
      "outputs": []
    },
    {
      "cell_type": "code",
      "source": [],
      "metadata": {
        "id": "j3r4AysqRvY5"
      },
      "execution_count": null,
      "outputs": []
    },
    {
      "cell_type": "code",
      "source": [],
      "metadata": {
        "id": "KkFDB8CjRvkj"
      },
      "execution_count": null,
      "outputs": []
    },
    {
      "cell_type": "code",
      "source": [],
      "metadata": {
        "id": "O_a-qynwRvq5"
      },
      "execution_count": null,
      "outputs": []
    },
    {
      "cell_type": "code",
      "source": [],
      "metadata": {
        "id": "ePtj5IpORvtX"
      },
      "execution_count": null,
      "outputs": []
    },
    {
      "cell_type": "code",
      "source": [],
      "metadata": {
        "id": "HWD3Oi1BRvwV"
      },
      "execution_count": null,
      "outputs": []
    },
    {
      "cell_type": "code",
      "source": [],
      "metadata": {
        "id": "RI_Nvi_nRvzP"
      },
      "execution_count": null,
      "outputs": []
    },
    {
      "cell_type": "code",
      "source": [],
      "metadata": {
        "id": "KXpKxtZyRv2A"
      },
      "execution_count": null,
      "outputs": []
    },
    {
      "cell_type": "code",
      "source": [],
      "metadata": {
        "id": "e3IRPeiuRv4x"
      },
      "execution_count": null,
      "outputs": []
    },
    {
      "cell_type": "code",
      "source": [],
      "metadata": {
        "id": "4iCv5PnCRv7e"
      },
      "execution_count": null,
      "outputs": []
    },
    {
      "cell_type": "code",
      "source": [],
      "metadata": {
        "id": "Q9h0MLbiRv-F"
      },
      "execution_count": null,
      "outputs": []
    },
    {
      "cell_type": "code",
      "source": [],
      "metadata": {
        "id": "DmhIAkAQRwBf"
      },
      "execution_count": null,
      "outputs": []
    },
    {
      "cell_type": "code",
      "source": [
        "history = model.fit(X_train, y_train, epochs=200)"
      ],
      "metadata": {
        "colab": {
          "base_uri": "https://localhost:8080/"
        },
        "id": "2ucUndloaV_V",
        "outputId": "be105614-0263-48cc-ec17-a61ba9ef7b5c"
      },
      "execution_count": null,
      "outputs": [
        {
          "output_type": "stream",
          "name": "stdout",
          "text": [
            "Epoch 1/200\n",
            "88/88 [==============================] - 13s 151ms/step - loss: 0.6477 - accuracy: 0.7742\n",
            "Epoch 2/200\n",
            "88/88 [==============================] - 11s 120ms/step - loss: 0.7041 - accuracy: 0.7411\n",
            "Epoch 3/200\n",
            "88/88 [==============================] - 10s 119ms/step - loss: 0.6327 - accuracy: 0.7795\n",
            "Epoch 4/200\n",
            "88/88 [==============================] - 10s 119ms/step - loss: 0.5915 - accuracy: 0.7991\n",
            "Epoch 5/200\n",
            "88/88 [==============================] - 11s 120ms/step - loss: 0.5859 - accuracy: 0.7966\n",
            "Epoch 6/200\n",
            "88/88 [==============================] - 11s 120ms/step - loss: 0.7348 - accuracy: 0.7393\n",
            "Epoch 7/200\n",
            "88/88 [==============================] - 11s 120ms/step - loss: 0.7882 - accuracy: 0.7123\n",
            "Epoch 8/200\n",
            "88/88 [==============================] - 11s 121ms/step - loss: 0.6200 - accuracy: 0.7770\n",
            "Epoch 9/200\n",
            "88/88 [==============================] - 11s 120ms/step - loss: 0.5555 - accuracy: 0.8090\n",
            "Epoch 10/200\n",
            "88/88 [==============================] - 11s 130ms/step - loss: 0.6252 - accuracy: 0.7784\n",
            "Epoch 11/200\n",
            "88/88 [==============================] - 11s 121ms/step - loss: 0.5690 - accuracy: 0.7895\n",
            "Epoch 12/200\n",
            "88/88 [==============================] - 12s 132ms/step - loss: 0.5709 - accuracy: 0.7977\n",
            "Epoch 13/200\n",
            "88/88 [==============================] - 12s 135ms/step - loss: 0.5554 - accuracy: 0.7955\n",
            "Epoch 14/200\n",
            "88/88 [==============================] - 11s 121ms/step - loss: 0.5627 - accuracy: 0.7994\n",
            "Epoch 15/200\n",
            "88/88 [==============================] - 11s 121ms/step - loss: 0.5820 - accuracy: 0.7959\n",
            "Epoch 16/200\n",
            "88/88 [==============================] - 11s 120ms/step - loss: 0.5758 - accuracy: 0.7941\n",
            "Epoch 17/200\n",
            "88/88 [==============================] - 11s 119ms/step - loss: 0.5733 - accuracy: 0.7977\n",
            "Epoch 18/200\n",
            "88/88 [==============================] - 11s 128ms/step - loss: 0.5690 - accuracy: 0.8023\n",
            "Epoch 19/200\n",
            "88/88 [==============================] - 11s 119ms/step - loss: 0.6670 - accuracy: 0.7731\n",
            "Epoch 20/200\n",
            "88/88 [==============================] - 11s 121ms/step - loss: 0.6107 - accuracy: 0.7841\n",
            "Epoch 21/200\n",
            "88/88 [==============================] - 11s 120ms/step - loss: 0.6461 - accuracy: 0.7881\n",
            "Epoch 22/200\n",
            "88/88 [==============================] - 11s 120ms/step - loss: 0.5350 - accuracy: 0.8144\n",
            "Epoch 23/200\n",
            "88/88 [==============================] - 11s 120ms/step - loss: 0.5187 - accuracy: 0.8197\n",
            "Epoch 24/200\n",
            "88/88 [==============================] - 11s 121ms/step - loss: 0.5011 - accuracy: 0.8265\n",
            "Epoch 25/200\n",
            "88/88 [==============================] - 11s 120ms/step - loss: 0.5162 - accuracy: 0.8225\n",
            "Epoch 26/200\n",
            "88/88 [==============================] - 11s 120ms/step - loss: 0.5612 - accuracy: 0.8076\n",
            "Epoch 27/200\n",
            "88/88 [==============================] - 11s 121ms/step - loss: 0.4973 - accuracy: 0.8236\n",
            "Epoch 28/200\n",
            "88/88 [==============================] - 11s 120ms/step - loss: 0.4860 - accuracy: 0.8289\n",
            "Epoch 29/200\n",
            "88/88 [==============================] - 11s 120ms/step - loss: 0.4865 - accuracy: 0.8300\n",
            "Epoch 30/200\n",
            "88/88 [==============================] - 11s 121ms/step - loss: 0.8570 - accuracy: 0.6959\n",
            "Epoch 31/200\n",
            "88/88 [==============================] - 13s 145ms/step - loss: 0.6315 - accuracy: 0.7799\n",
            "Epoch 32/200\n",
            "88/88 [==============================] - 11s 120ms/step - loss: 0.5645 - accuracy: 0.7998\n",
            "Epoch 33/200\n",
            "88/88 [==============================] - 10s 119ms/step - loss: 0.5618 - accuracy: 0.7898\n",
            "Epoch 34/200\n",
            "88/88 [==============================] - 11s 120ms/step - loss: 0.5442 - accuracy: 0.8058\n",
            "Epoch 35/200\n",
            "88/88 [==============================] - 11s 120ms/step - loss: 0.5704 - accuracy: 0.7998\n",
            "Epoch 36/200\n",
            "88/88 [==============================] - 10s 119ms/step - loss: 0.5519 - accuracy: 0.8001\n",
            "Epoch 37/200\n",
            "88/88 [==============================] - 11s 120ms/step - loss: 0.6087 - accuracy: 0.7667\n",
            "Epoch 38/200\n",
            "88/88 [==============================] - 11s 121ms/step - loss: 0.5804 - accuracy: 0.7884\n",
            "Epoch 39/200\n",
            "88/88 [==============================] - 11s 120ms/step - loss: 0.5769 - accuracy: 0.7845\n",
            "Epoch 40/200\n",
            "88/88 [==============================] - 11s 120ms/step - loss: 0.5902 - accuracy: 0.8019\n",
            "Epoch 41/200\n",
            "88/88 [==============================] - 11s 120ms/step - loss: 0.5174 - accuracy: 0.8133\n",
            "Epoch 42/200\n",
            "88/88 [==============================] - 11s 120ms/step - loss: 0.5111 - accuracy: 0.8172\n",
            "Epoch 43/200\n",
            "88/88 [==============================] - 11s 120ms/step - loss: 0.5064 - accuracy: 0.8186\n",
            "Epoch 44/200\n",
            "88/88 [==============================] - 11s 120ms/step - loss: 0.8508 - accuracy: 0.6949\n",
            "Epoch 45/200\n",
            "88/88 [==============================] - 11s 120ms/step - loss: 0.6674 - accuracy: 0.7546\n",
            "Epoch 46/200\n",
            "88/88 [==============================] - 11s 120ms/step - loss: 0.5831 - accuracy: 0.7866\n",
            "Epoch 47/200\n",
            "88/88 [==============================] - 11s 120ms/step - loss: 0.5228 - accuracy: 0.8158\n",
            "Epoch 48/200\n",
            "88/88 [==============================] - 11s 121ms/step - loss: 0.5158 - accuracy: 0.8144\n",
            "Epoch 49/200\n",
            "88/88 [==============================] - 13s 146ms/step - loss: 0.5744 - accuracy: 0.7991\n",
            "Epoch 50/200\n",
            "88/88 [==============================] - 11s 120ms/step - loss: 1.0322 - accuracy: 0.6554\n",
            "Epoch 51/200\n",
            "88/88 [==============================] - 11s 121ms/step - loss: 0.7457 - accuracy: 0.7361\n",
            "Epoch 52/200\n",
            "88/88 [==============================] - 11s 121ms/step - loss: 0.6128 - accuracy: 0.7731\n",
            "Epoch 53/200\n",
            "88/88 [==============================] - 11s 120ms/step - loss: 0.5909 - accuracy: 0.7760\n",
            "Epoch 54/200\n",
            "88/88 [==============================] - 11s 120ms/step - loss: 0.5529 - accuracy: 0.8087\n",
            "Epoch 55/200\n",
            "88/88 [==============================] - 11s 120ms/step - loss: 0.5196 - accuracy: 0.8293\n",
            "Epoch 56/200\n",
            "88/88 [==============================] - 11s 120ms/step - loss: 0.4787 - accuracy: 0.8485\n",
            "Epoch 57/200\n",
            "88/88 [==============================] - 11s 120ms/step - loss: 0.4623 - accuracy: 0.8542\n",
            "Epoch 58/200\n",
            "88/88 [==============================] - 11s 120ms/step - loss: 0.4625 - accuracy: 0.8471\n",
            "Epoch 59/200\n",
            "88/88 [==============================] - 11s 119ms/step - loss: 0.4628 - accuracy: 0.8446\n",
            "Epoch 60/200\n",
            "88/88 [==============================] - 11s 121ms/step - loss: 0.6155 - accuracy: 0.7749\n",
            "Epoch 61/200\n",
            "88/88 [==============================] - 11s 120ms/step - loss: 0.5779 - accuracy: 0.7945\n",
            "Epoch 62/200\n",
            "88/88 [==============================] - 14s 156ms/step - loss: 0.5159 - accuracy: 0.8144\n",
            "Epoch 63/200\n",
            "88/88 [==============================] - 11s 121ms/step - loss: 0.4810 - accuracy: 0.8265\n",
            "Epoch 64/200\n",
            "88/88 [==============================] - 11s 120ms/step - loss: 0.4715 - accuracy: 0.8286\n",
            "Epoch 65/200\n",
            "88/88 [==============================] - 11s 120ms/step - loss: 0.4755 - accuracy: 0.8289\n",
            "Epoch 66/200\n",
            "88/88 [==============================] - 11s 121ms/step - loss: 0.4446 - accuracy: 0.8439\n",
            "Epoch 67/200\n",
            "88/88 [==============================] - 13s 145ms/step - loss: 0.4453 - accuracy: 0.8442\n",
            "Epoch 68/200\n",
            "88/88 [==============================] - 11s 121ms/step - loss: 0.4343 - accuracy: 0.8457\n",
            "Epoch 69/200\n",
            "88/88 [==============================] - 11s 120ms/step - loss: 0.4285 - accuracy: 0.8553\n",
            "Epoch 70/200\n",
            "88/88 [==============================] - 11s 120ms/step - loss: 0.4681 - accuracy: 0.8289\n",
            "Epoch 71/200\n",
            "88/88 [==============================] - 11s 121ms/step - loss: 0.4167 - accuracy: 0.8521\n",
            "Epoch 72/200\n",
            "88/88 [==============================] - 11s 120ms/step - loss: 0.4059 - accuracy: 0.8563\n",
            "Epoch 73/200\n",
            "88/88 [==============================] - 11s 120ms/step - loss: 0.5152 - accuracy: 0.8329\n",
            "Epoch 74/200\n",
            "88/88 [==============================] - 11s 121ms/step - loss: 0.4310 - accuracy: 0.8453\n",
            "Epoch 75/200\n",
            "88/88 [==============================] - 11s 120ms/step - loss: 0.4139 - accuracy: 0.8570\n",
            "Epoch 76/200\n",
            "88/88 [==============================] - 11s 119ms/step - loss: 0.3868 - accuracy: 0.8677\n",
            "Epoch 77/200\n",
            "88/88 [==============================] - 11s 119ms/step - loss: 0.3837 - accuracy: 0.8638\n",
            "Epoch 78/200\n",
            "88/88 [==============================] - 11s 119ms/step - loss: 0.3687 - accuracy: 0.8780\n",
            "Epoch 79/200\n",
            "88/88 [==============================] - 11s 119ms/step - loss: 0.3886 - accuracy: 0.8649\n",
            "Epoch 80/200\n",
            "88/88 [==============================] - 11s 120ms/step - loss: 0.3907 - accuracy: 0.8695\n",
            "Epoch 81/200\n",
            "88/88 [==============================] - 11s 120ms/step - loss: 0.3728 - accuracy: 0.8698\n",
            "Epoch 82/200\n",
            "88/88 [==============================] - 11s 121ms/step - loss: 0.3564 - accuracy: 0.8787\n",
            "Epoch 83/200\n",
            "88/88 [==============================] - 11s 121ms/step - loss: 0.4573 - accuracy: 0.8482\n",
            "Epoch 84/200\n",
            "88/88 [==============================] - 11s 121ms/step - loss: 0.3720 - accuracy: 0.8706\n",
            "Epoch 85/200\n",
            "88/88 [==============================] - 13s 146ms/step - loss: 0.3543 - accuracy: 0.8766\n",
            "Epoch 86/200\n",
            "88/88 [==============================] - 11s 120ms/step - loss: 0.4908 - accuracy: 0.8233\n",
            "Epoch 87/200\n",
            "88/88 [==============================] - 11s 121ms/step - loss: 0.4393 - accuracy: 0.8425\n",
            "Epoch 88/200\n",
            "88/88 [==============================] - 11s 121ms/step - loss: 0.5280 - accuracy: 0.8193\n",
            "Epoch 89/200\n",
            "88/88 [==============================] - 11s 120ms/step - loss: 0.3774 - accuracy: 0.8642\n",
            "Epoch 90/200\n",
            "88/88 [==============================] - 11s 121ms/step - loss: 0.7419 - accuracy: 0.7536\n",
            "Epoch 91/200\n",
            "88/88 [==============================] - 11s 120ms/step - loss: 0.6058 - accuracy: 0.7927\n",
            "Epoch 92/200\n",
            "88/88 [==============================] - 11s 120ms/step - loss: 0.4129 - accuracy: 0.8592\n",
            "Epoch 93/200\n",
            "88/88 [==============================] - 11s 120ms/step - loss: 0.3750 - accuracy: 0.8755\n",
            "Epoch 94/200\n",
            "88/88 [==============================] - 11s 120ms/step - loss: 0.3453 - accuracy: 0.8809\n",
            "Epoch 95/200\n",
            "88/88 [==============================] - 11s 121ms/step - loss: 0.3550 - accuracy: 0.8809\n",
            "Epoch 96/200\n",
            "88/88 [==============================] - 11s 120ms/step - loss: 0.3310 - accuracy: 0.8908\n",
            "Epoch 97/200\n",
            "88/88 [==============================] - 11s 120ms/step - loss: 0.3242 - accuracy: 0.8887\n",
            "Epoch 98/200\n",
            "88/88 [==============================] - 11s 120ms/step - loss: 0.3135 - accuracy: 0.8937\n",
            "Epoch 99/200\n",
            "88/88 [==============================] - 11s 120ms/step - loss: 0.3188 - accuracy: 0.8894\n",
            "Epoch 100/200\n",
            "88/88 [==============================] - 11s 121ms/step - loss: 0.3172 - accuracy: 0.8912\n",
            "Epoch 101/200\n",
            "88/88 [==============================] - 11s 120ms/step - loss: 0.3031 - accuracy: 0.8947\n",
            "Epoch 102/200\n",
            "88/88 [==============================] - 11s 121ms/step - loss: 0.3232 - accuracy: 0.8876\n",
            "Epoch 103/200\n",
            "88/88 [==============================] - 13s 144ms/step - loss: 0.6581 - accuracy: 0.7941\n",
            "Epoch 104/200\n",
            "88/88 [==============================] - 11s 122ms/step - loss: 2.2834 - accuracy: 0.4363\n",
            "Epoch 105/200\n",
            "88/88 [==============================] - 11s 123ms/step - loss: 1.2869 - accuracy: 0.6063\n",
            "Epoch 106/200\n",
            "88/88 [==============================] - 11s 121ms/step - loss: 1.0863 - accuracy: 0.6543\n",
            "Epoch 107/200\n",
            "88/88 [==============================] - 11s 120ms/step - loss: 1.0113 - accuracy: 0.6600\n",
            "Epoch 108/200\n",
            "88/88 [==============================] - 11s 122ms/step - loss: 0.9644 - accuracy: 0.6526\n",
            "Epoch 109/200\n",
            "88/88 [==============================] - 11s 121ms/step - loss: 0.8678 - accuracy: 0.6906\n",
            "Epoch 110/200\n",
            "88/88 [==============================] - 11s 121ms/step - loss: 0.8304 - accuracy: 0.7031\n",
            "Epoch 111/200\n",
            "88/88 [==============================] - 11s 120ms/step - loss: 0.6526 - accuracy: 0.7617\n",
            "Epoch 112/200\n",
            "88/88 [==============================] - 11s 120ms/step - loss: 0.6201 - accuracy: 0.7788\n",
            "Epoch 113/200\n",
            "88/88 [==============================] - 11s 121ms/step - loss: 0.5790 - accuracy: 0.7980\n",
            "Epoch 114/200\n",
            "88/88 [==============================] - 11s 120ms/step - loss: 0.5569 - accuracy: 0.8023\n",
            "Epoch 115/200\n",
            "88/88 [==============================] - 11s 121ms/step - loss: 0.5412 - accuracy: 0.8069\n",
            "Epoch 116/200\n",
            "88/88 [==============================] - 11s 122ms/step - loss: 0.5333 - accuracy: 0.8108\n",
            "Epoch 117/200\n",
            "88/88 [==============================] - 11s 120ms/step - loss: 0.5405 - accuracy: 0.8048\n",
            "Epoch 118/200\n",
            "88/88 [==============================] - 11s 120ms/step - loss: 0.5190 - accuracy: 0.8179\n",
            "Epoch 119/200\n",
            "88/88 [==============================] - 11s 120ms/step - loss: 0.5053 - accuracy: 0.8176\n",
            "Epoch 120/200\n",
            "88/88 [==============================] - 11s 120ms/step - loss: 0.5007 - accuracy: 0.8186\n",
            "Epoch 121/200\n",
            "88/88 [==============================] - 13s 145ms/step - loss: 0.4967 - accuracy: 0.8204\n",
            "Epoch 122/200\n",
            "88/88 [==============================] - 11s 119ms/step - loss: 0.4829 - accuracy: 0.8215\n",
            "Epoch 123/200\n",
            "88/88 [==============================] - 11s 120ms/step - loss: 0.4725 - accuracy: 0.8286\n",
            "Epoch 124/200\n",
            "88/88 [==============================] - 11s 120ms/step - loss: 0.4707 - accuracy: 0.8297\n",
            "Epoch 125/200\n",
            "88/88 [==============================] - 11s 120ms/step - loss: 0.4656 - accuracy: 0.8261\n",
            "Epoch 126/200\n",
            "88/88 [==============================] - 11s 120ms/step - loss: 0.4591 - accuracy: 0.8332\n",
            "Epoch 127/200\n",
            "88/88 [==============================] - 11s 121ms/step - loss: 0.4593 - accuracy: 0.8275\n",
            "Epoch 128/200\n",
            "88/88 [==============================] - 11s 121ms/step - loss: 0.4487 - accuracy: 0.8282\n",
            "Epoch 129/200\n",
            "88/88 [==============================] - 11s 120ms/step - loss: 0.4500 - accuracy: 0.8357\n",
            "Epoch 130/200\n",
            "88/88 [==============================] - 11s 121ms/step - loss: 0.4706 - accuracy: 0.8243\n",
            "Epoch 131/200\n",
            "88/88 [==============================] - 11s 121ms/step - loss: 0.5331 - accuracy: 0.8026\n",
            "Epoch 132/200\n",
            "88/88 [==============================] - 11s 120ms/step - loss: 0.5016 - accuracy: 0.8112\n",
            "Epoch 133/200\n",
            "88/88 [==============================] - 11s 120ms/step - loss: 0.4584 - accuracy: 0.8282\n",
            "Epoch 134/200\n",
            "88/88 [==============================] - 11s 120ms/step - loss: 0.4505 - accuracy: 0.8329\n",
            "Epoch 135/200\n",
            "88/88 [==============================] - 11s 120ms/step - loss: 0.4435 - accuracy: 0.8361\n",
            "Epoch 136/200\n",
            "88/88 [==============================] - 11s 120ms/step - loss: 0.4563 - accuracy: 0.8293\n",
            "Epoch 137/200\n",
            "88/88 [==============================] - 11s 120ms/step - loss: 0.4524 - accuracy: 0.8297\n",
            "Epoch 138/200\n",
            "88/88 [==============================] - 11s 121ms/step - loss: 0.4367 - accuracy: 0.8453\n",
            "Epoch 139/200\n",
            "88/88 [==============================] - 13s 145ms/step - loss: 0.4162 - accuracy: 0.8506\n",
            "Epoch 140/200\n",
            "88/88 [==============================] - 11s 120ms/step - loss: 0.4124 - accuracy: 0.8492\n",
            "Epoch 141/200\n",
            "88/88 [==============================] - 11s 120ms/step - loss: 0.4278 - accuracy: 0.8432\n",
            "Epoch 142/200\n",
            "88/88 [==============================] - 11s 121ms/step - loss: 0.4526 - accuracy: 0.8361\n",
            "Epoch 143/200\n",
            "88/88 [==============================] - 11s 121ms/step - loss: 0.4463 - accuracy: 0.8297\n",
            "Epoch 144/200\n",
            "88/88 [==============================] - 11s 121ms/step - loss: 0.4290 - accuracy: 0.8482\n",
            "Epoch 145/200\n",
            "88/88 [==============================] - 11s 120ms/step - loss: 0.3965 - accuracy: 0.8521\n",
            "Epoch 146/200\n",
            "88/88 [==============================] - 11s 121ms/step - loss: 0.3866 - accuracy: 0.8549\n",
            "Epoch 147/200\n",
            "88/88 [==============================] - 11s 121ms/step - loss: 0.4386 - accuracy: 0.8414\n",
            "Epoch 148/200\n",
            "88/88 [==============================] - 11s 120ms/step - loss: 0.4346 - accuracy: 0.8314\n",
            "Epoch 149/200\n",
            "88/88 [==============================] - 11s 120ms/step - loss: 0.4209 - accuracy: 0.8428\n",
            "Epoch 150/200\n",
            "88/88 [==============================] - 11s 121ms/step - loss: 0.3979 - accuracy: 0.8503\n",
            "Epoch 151/200\n",
            "88/88 [==============================] - 11s 121ms/step - loss: 0.4072 - accuracy: 0.8467\n",
            "Epoch 152/200\n",
            "88/88 [==============================] - 11s 120ms/step - loss: 0.3839 - accuracy: 0.8567\n",
            "Epoch 153/200\n",
            "88/88 [==============================] - 11s 120ms/step - loss: 0.3654 - accuracy: 0.8666\n",
            "Epoch 154/200\n",
            "88/88 [==============================] - 11s 120ms/step - loss: 0.3647 - accuracy: 0.8677\n",
            "Epoch 155/200\n",
            "88/88 [==============================] - 11s 120ms/step - loss: 0.3620 - accuracy: 0.8691\n",
            "Epoch 156/200\n",
            "88/88 [==============================] - 11s 120ms/step - loss: 0.4302 - accuracy: 0.8403\n",
            "Epoch 157/200\n",
            "88/88 [==============================] - 13s 145ms/step - loss: 0.3861 - accuracy: 0.8549\n",
            "Epoch 158/200\n",
            "88/88 [==============================] - 11s 120ms/step - loss: 0.3436 - accuracy: 0.8773\n",
            "Epoch 159/200\n",
            "88/88 [==============================] - 11s 121ms/step - loss: 0.3867 - accuracy: 0.8624\n",
            "Epoch 160/200\n",
            "88/88 [==============================] - 11s 121ms/step - loss: 0.4807 - accuracy: 0.8222\n",
            "Epoch 161/200\n",
            "88/88 [==============================] - 11s 122ms/step - loss: 0.4579 - accuracy: 0.8361\n",
            "Epoch 162/200\n",
            "88/88 [==============================] - 11s 121ms/step - loss: 0.3686 - accuracy: 0.8570\n",
            "Epoch 163/200\n",
            "88/88 [==============================] - 11s 121ms/step - loss: 1.2120 - accuracy: 0.6390\n",
            "Epoch 164/200\n",
            "88/88 [==============================] - 11s 121ms/step - loss: 1.0916 - accuracy: 0.6316\n",
            "Epoch 165/200\n",
            "88/88 [==============================] - 11s 120ms/step - loss: 0.8265 - accuracy: 0.7038\n",
            "Epoch 166/200\n",
            "88/88 [==============================] - 11s 121ms/step - loss: 0.7393 - accuracy: 0.7372\n",
            "Epoch 167/200\n",
            "88/88 [==============================] - 11s 121ms/step - loss: 0.6827 - accuracy: 0.7472\n",
            "Epoch 168/200\n",
            "88/88 [==============================] - 11s 121ms/step - loss: 0.6432 - accuracy: 0.7664\n",
            "Epoch 169/200\n",
            "88/88 [==============================] - 11s 123ms/step - loss: 0.6198 - accuracy: 0.7752\n",
            "Epoch 170/200\n",
            "88/88 [==============================] - 11s 122ms/step - loss: 0.5952 - accuracy: 0.7852\n",
            "Epoch 171/200\n",
            "88/88 [==============================] - 11s 121ms/step - loss: 0.5838 - accuracy: 0.7934\n",
            "Epoch 172/200\n",
            "88/88 [==============================] - 11s 121ms/step - loss: 0.5603 - accuracy: 0.7966\n",
            "Epoch 173/200\n",
            "88/88 [==============================] - 11s 123ms/step - loss: 0.5779 - accuracy: 0.7905\n",
            "Epoch 174/200\n",
            "88/88 [==============================] - 11s 122ms/step - loss: 0.5399 - accuracy: 0.8115\n",
            "Epoch 175/200\n",
            "88/88 [==============================] - 13s 147ms/step - loss: 0.6442 - accuracy: 0.7624\n",
            "Epoch 176/200\n",
            "88/88 [==============================] - 11s 122ms/step - loss: 0.5381 - accuracy: 0.8051\n",
            "Epoch 177/200\n",
            "88/88 [==============================] - 11s 122ms/step - loss: 0.5215 - accuracy: 0.8161\n",
            "Epoch 178/200\n",
            "88/88 [==============================] - 11s 121ms/step - loss: 0.4907 - accuracy: 0.8261\n",
            "Epoch 179/200\n",
            "88/88 [==============================] - 11s 122ms/step - loss: 0.4791 - accuracy: 0.8371\n",
            "Epoch 180/200\n",
            "88/88 [==============================] - 11s 122ms/step - loss: 0.4657 - accuracy: 0.8346\n",
            "Epoch 181/200\n",
            "88/88 [==============================] - 11s 122ms/step - loss: 0.4758 - accuracy: 0.8353\n",
            "Epoch 182/200\n",
            "88/88 [==============================] - 11s 121ms/step - loss: 0.5304 - accuracy: 0.8087\n",
            "Epoch 183/200\n",
            "88/88 [==============================] - 11s 122ms/step - loss: 0.4970 - accuracy: 0.8265\n",
            "Epoch 184/200\n",
            "88/88 [==============================] - 11s 121ms/step - loss: 0.5130 - accuracy: 0.8197\n",
            "Epoch 185/200\n",
            "88/88 [==============================] - 11s 120ms/step - loss: 0.4619 - accuracy: 0.8400\n",
            "Epoch 186/200\n",
            "88/88 [==============================] - 11s 121ms/step - loss: 0.5092 - accuracy: 0.8165\n",
            "Epoch 187/200\n",
            "88/88 [==============================] - 11s 120ms/step - loss: 0.4472 - accuracy: 0.8385\n",
            "Epoch 188/200\n",
            "88/88 [==============================] - 11s 121ms/step - loss: 0.4267 - accuracy: 0.8499\n",
            "Epoch 189/200\n",
            "88/88 [==============================] - 11s 121ms/step - loss: 0.4143 - accuracy: 0.8485\n",
            "Epoch 190/200\n",
            "88/88 [==============================] - 11s 122ms/step - loss: 0.4099 - accuracy: 0.8560\n",
            "Epoch 191/200\n",
            "88/88 [==============================] - 11s 121ms/step - loss: 0.4015 - accuracy: 0.8538\n",
            "Epoch 192/200\n",
            "88/88 [==============================] - 11s 121ms/step - loss: 0.4067 - accuracy: 0.8602\n",
            "Epoch 193/200\n",
            "88/88 [==============================] - 13s 145ms/step - loss: 0.4738 - accuracy: 0.8261\n",
            "Epoch 194/200\n",
            "88/88 [==============================] - 11s 121ms/step - loss: 0.4497 - accuracy: 0.8329\n",
            "Epoch 195/200\n",
            "88/88 [==============================] - 11s 121ms/step - loss: 0.4397 - accuracy: 0.8414\n",
            "Epoch 196/200\n",
            "88/88 [==============================] - 11s 122ms/step - loss: 0.3921 - accuracy: 0.8581\n",
            "Epoch 197/200\n",
            "88/88 [==============================] - 11s 121ms/step - loss: 0.3895 - accuracy: 0.8560\n",
            "Epoch 198/200\n",
            "88/88 [==============================] - 11s 121ms/step - loss: 0.4260 - accuracy: 0.8489\n",
            "Epoch 199/200\n",
            "88/88 [==============================] - 11s 121ms/step - loss: 0.4625 - accuracy: 0.8357\n",
            "Epoch 200/200\n",
            "88/88 [==============================] - 11s 122ms/step - loss: 0.4679 - accuracy: 0.8243\n"
          ]
        }
      ]
    },
    {
      "cell_type": "code",
      "source": [
        "# Test the model after training\n",
        "test_results = model.evaluate(X_test, y_test, verbose=False)\n",
        "#print(f'Test results - Loss: {test_results[0]} - Accuracy: {100*test_results[1]}%')\n",
        "test_results"
      ],
      "metadata": {
        "colab": {
          "base_uri": "https://localhost:8080/"
        },
        "id": "6s3gaP9caj06",
        "outputId": "5c54fcb2-f57b-42ba-c2e7-91d7e3721f13"
      },
      "execution_count": null,
      "outputs": [
        {
          "output_type": "execute_result",
          "data": {
            "text/plain": [
              "[0.4467061161994934, 0.8240938186645508]"
            ]
          },
          "metadata": {},
          "execution_count": 49
        }
      ]
    },
    {
      "cell_type": "code",
      "source": [
        "test_loss, test_acc = model.evaluate(X_test, y_test, verbose=2)\n",
        "\n",
        "print('\\nTest accuracy:', test_acc)"
      ],
      "metadata": {
        "id": "lPWak858i3KU",
        "outputId": "81619e31-a8ff-4044-fcb4-553c5ffc9d08",
        "colab": {
          "base_uri": "https://localhost:8080/"
        }
      },
      "execution_count": null,
      "outputs": [
        {
          "output_type": "stream",
          "name": "stdout",
          "text": [
            "30/30 - 1s - loss: 0.4467 - accuracy: 0.8241 - 679ms/epoch - 23ms/step\n",
            "\n",
            "Test accuracy: 0.8240938186645508\n"
          ]
        }
      ]
    },
    {
      "cell_type": "markdown",
      "metadata": {
        "id": "ukgfN2A0Cq5d"
      },
      "source": [
        "# Random forest"
      ]
    },
    {
      "cell_type": "code",
      "execution_count": null,
      "metadata": {
        "colab": {
          "base_uri": "https://localhost:8080/"
        },
        "id": "pi8jnNzY7vEy",
        "outputId": "85e01c97-f236-4f2e-cbda-bccc73a59382"
      },
      "outputs": [
        {
          "output_type": "stream",
          "name": "stderr",
          "text": [
            "/usr/local/lib/python3.7/dist-packages/sklearn/model_selection/_validation.py:372: FitFailedWarning: \n",
            "50 fits failed out of a total of 700.\n",
            "The score on these train-test partitions for these parameters will be set to nan.\n",
            "If these failures are not expected, you can try to debug them by setting error_score='raise'.\n",
            "\n",
            "Below are more details about the failures:\n",
            "--------------------------------------------------------------------------------\n",
            "50 fits failed with the following error:\n",
            "Traceback (most recent call last):\n",
            "  File \"/usr/local/lib/python3.7/dist-packages/sklearn/model_selection/_validation.py\", line 680, in _fit_and_score\n",
            "    estimator.fit(X_train, y_train, **fit_params)\n",
            "  File \"/usr/local/lib/python3.7/dist-packages/sklearn/ensemble/_forest.py\", line 467, in fit\n",
            "    for i, t in enumerate(trees)\n",
            "  File \"/usr/local/lib/python3.7/dist-packages/joblib/parallel.py\", line 1085, in __call__\n",
            "    if self.dispatch_one_batch(iterator):\n",
            "  File \"/usr/local/lib/python3.7/dist-packages/joblib/parallel.py\", line 901, in dispatch_one_batch\n",
            "    self._dispatch(tasks)\n",
            "  File \"/usr/local/lib/python3.7/dist-packages/joblib/parallel.py\", line 819, in _dispatch\n",
            "    job = self._backend.apply_async(batch, callback=cb)\n",
            "  File \"/usr/local/lib/python3.7/dist-packages/joblib/_parallel_backends.py\", line 208, in apply_async\n",
            "    result = ImmediateResult(func)\n",
            "  File \"/usr/local/lib/python3.7/dist-packages/joblib/_parallel_backends.py\", line 597, in __init__\n",
            "    self.results = batch()\n",
            "  File \"/usr/local/lib/python3.7/dist-packages/joblib/parallel.py\", line 289, in __call__\n",
            "    for func, args, kwargs in self.items]\n",
            "  File \"/usr/local/lib/python3.7/dist-packages/joblib/parallel.py\", line 289, in <listcomp>\n",
            "    for func, args, kwargs in self.items]\n",
            "  File \"/usr/local/lib/python3.7/dist-packages/sklearn/utils/fixes.py\", line 216, in __call__\n",
            "    return self.function(*args, **kwargs)\n",
            "  File \"/usr/local/lib/python3.7/dist-packages/sklearn/ensemble/_forest.py\", line 185, in _parallel_build_trees\n",
            "    tree.fit(X, y, sample_weight=curr_sample_weight, check_input=False)\n",
            "  File \"/usr/local/lib/python3.7/dist-packages/sklearn/tree/_classes.py\", line 942, in fit\n",
            "    X_idx_sorted=X_idx_sorted,\n",
            "  File \"/usr/local/lib/python3.7/dist-packages/sklearn/tree/_classes.py\", line 308, in fit\n",
            "    raise ValueError(\"max_features must be in (0, n_features]\")\n",
            "ValueError: max_features must be in (0, n_features]\n",
            "\n",
            "  warnings.warn(some_fits_failed_message, FitFailedWarning)\n",
            "/usr/local/lib/python3.7/dist-packages/sklearn/model_selection/_search.py:972: UserWarning: One or more of the test scores are non-finite: [       nan 0.95696474 0.95589586 0.956966   0.95482572 0.95625174\n",
            " 0.95482951 0.95624543 0.95553747 0.95589334 0.95660256 0.95447616\n",
            " 0.95305015 0.95447111        nan 0.9615835  0.96300573 0.96229399\n",
            " 0.96087555 0.95874158 0.96051715 0.95802731 0.95874158 0.95944827\n",
            " 0.96265491 0.96015875 0.96265112 0.95660761        nan 0.96300825\n",
            " 0.96442922 0.96016128 0.96300952 0.96336286 0.96264986 0.964433\n",
            " 0.96194064 0.96229651 0.96300699 0.96051589 0.95980162 0.96300321\n",
            "        nan 0.96229525 0.96478256 0.96443174 0.96371874 0.9615835\n",
            " 0.96265617 0.96336034 0.96265238 0.96016128 0.95980036 0.96300573\n",
            " 0.96051715 0.96123016        nan 0.96478004 0.96656319 0.96336413\n",
            " 0.96336286 0.96513591 0.96300825 0.96229525 0.96584892 0.96336413\n",
            " 0.96193938 0.96371747 0.96193938 0.96371495]\n",
            "  category=UserWarning,\n"
          ]
        },
        {
          "output_type": "stream",
          "name": "stdout",
          "text": [
            "{'max_depth': 14, 'max_features': 2}\n",
            "0.9665631861891422\n"
          ]
        }
      ],
      "source": [
        "from sklearn.model_selection import GridSearchCV\n",
        "forest_params = [{'max_depth': list(range(10, 15)), 'max_features': list(range(0,14))}]\n",
        "rfc = RandomForestClassifier()\n",
        "clf = GridSearchCV(rfc, forest_params, cv = 10, scoring='accuracy')\n",
        "clf.fit(X_train, y_train)\n",
        "print(clf.best_params_)\n",
        "print(clf.best_score_)"
      ]
    },
    {
      "cell_type": "code",
      "execution_count": null,
      "metadata": {
        "colab": {
          "base_uri": "https://localhost:8080/"
        },
        "id": "qdzk6nnWKjxT",
        "outputId": "211a1559-9d57-4bf7-e5eb-10a004e95014"
      },
      "outputs": [
        {
          "output_type": "execute_result",
          "data": {
            "text/plain": [
              "RandomForestClassifier(criterion='entropy', max_depth=14, max_features=1,\n",
              "                       n_estimators=10, random_state=42)"
            ]
          },
          "metadata": {},
          "execution_count": 26
        }
      ],
      "source": [
        "# Fitting Random Forest Classification to the Training set\n",
        "classifier = RandomForestClassifier(n_estimators = 10, criterion = 'entropy', random_state = 42,max_depth=14,max_features=1)\n",
        "classifier.fit(X_train, y_train)"
      ]
    },
    {
      "cell_type": "code",
      "execution_count": null,
      "metadata": {
        "colab": {
          "base_uri": "https://localhost:8080/"
        },
        "id": "ZCYQ8WC-QXo7",
        "outputId": "57bf02b3-73fe-4a77-c718-1c8be1f0b0b8"
      },
      "outputs": [
        {
          "output_type": "execute_result",
          "data": {
            "text/plain": [
              "10"
            ]
          },
          "metadata": {},
          "execution_count": 27
        }
      ],
      "source": [
        "num_classes = len(set(df_upsampled['Complexity']))\n",
        "num_classes"
      ]
    },
    {
      "cell_type": "code",
      "execution_count": null,
      "metadata": {
        "id": "hRvFjO7RKnUr"
      },
      "outputs": [],
      "source": [
        "# Predicting the Test set results\n",
        "y_pred = classifier.predict(X_test)"
      ]
    },
    {
      "cell_type": "code",
      "execution_count": null,
      "metadata": {
        "colab": {
          "base_uri": "https://localhost:8080/"
        },
        "id": "REfNgYrmMjIF",
        "outputId": "b50d546e-1a89-41fc-a7c5-f91843327019"
      },
      "outputs": [
        {
          "output_type": "execute_result",
          "data": {
            "text/plain": [
              "array([[ 98,   0,   0,   0,   0,   0,   0,   0,   0,   0],\n",
              "       [  0, 105,   0,   0,   0,   0,   0,   0,   0,   0],\n",
              "       [  0,   0,  95,   0,   0,   0,   0,   0,   0,   0],\n",
              "       [  0,   0,   0,  92,   0,   0,   0,   0,   0,   0],\n",
              "       [  0,   0,   0,   0, 101,   0,   0,   0,   0,   0],\n",
              "       [  0,   0,   0,   0,   0, 106,   0,   0,   0,   0],\n",
              "       [  0,   0,   0,   0,   0,   0,  91,   0,   0,   0],\n",
              "       [  0,   0,   0,   0,   0,   0,   0,  73,   1,   1],\n",
              "       [  0,   0,   0,   0,   1,   1,   0,   1,  84,   0],\n",
              "       [  0,   0,   0,   0,   0,   1,   5,   5,  12,  65]])"
            ]
          },
          "metadata": {},
          "execution_count": 29
        }
      ],
      "source": [
        "confusion_matrix(y_test, y_pred)"
      ]
    },
    {
      "cell_type": "code",
      "execution_count": null,
      "metadata": {
        "colab": {
          "base_uri": "https://localhost:8080/",
          "height": 509
        },
        "id": "xqpKgBTWNTDk",
        "outputId": "a5ee21ca-fdc7-4cd6-a6c5-96db62595843"
      },
      "outputs": [
        {
          "output_type": "display_data",
          "data": {
            "text/plain": [
              "<Figure size 1152x504 with 2 Axes>"
            ],
            "image/png": "[encoded data removed]"
          },
          "metadata": {
            "needs_background": "light"
          }
        }
      ],
      "source": [
        "# Get and reshape confusion matrix data\n",
        "import matplotlib.pyplot as plt\n",
        "matrix = confusion_matrix(y_test, y_pred)\n",
        "matrix = matrix.astype('float') / matrix.sum(axis=1)[:, np.newaxis]\n",
        "\n",
        "# Build the plot\n",
        "plt.figure(figsize=(16,7))\n",
        "sns.set(font_scale=1.4)\n",
        "sns.heatmap(matrix, annot=True, annot_kws={'size':10},\n",
        "            cmap=plt.cm.Greens, linewidths=0.2)\n",
        "\n",
        "# Add labels to the plot\n",
        "class_names = ['O(1)',  'O(2n)',  'O(N!)',  'O(N)',  'O(N2)',  'O(N3)',  'O(Nd)',  'O(NlogN)', 'O(logN)','O(sqrt(N))']\n",
        "tick_marks = np.arange(len(class_names))\n",
        "tick_marks2 = tick_marks + 0.5\n",
        "plt.xticks(tick_marks, class_names, rotation=25)\n",
        "plt.yticks(tick_marks2, class_names, rotation=0)\n",
        "plt.xlabel('Predicted label')\n",
        "plt.ylabel('True label')\n",
        "plt.title('Confusion Matrix for Random Forest Model')\n",
        "plt.show()"
      ]
    },
    {
      "cell_type": "code",
      "execution_count": null,
      "metadata": {
        "colab": {
          "base_uri": "https://localhost:8080/"
        },
        "id": "dKI1ov9XPAkZ",
        "outputId": "bf416f57-bbf3-46a3-c131-3ec5e7c348c1"
      },
      "outputs": [
        {
          "output_type": "execute_result",
          "data": {
            "text/plain": [
              "0.9701492537313433"
            ]
          },
          "metadata": {},
          "execution_count": 31
        }
      ],
      "source": [
        "from sklearn.metrics import accuracy_score, confusion_matrix, classification_report\n",
        "\n",
        "accuracy_score(y_test, y_pred)"
      ]
    },
    {
      "cell_type": "code",
      "execution_count": null,
      "metadata": {
        "colab": {
          "base_uri": "https://localhost:8080/"
        },
        "id": "HL8fH_0NPAtJ",
        "outputId": "968ed7c5-bb6f-464a-e06f-e7495d6adfed"
      },
      "outputs": [
        {
          "output_type": "stream",
          "name": "stdout",
          "text": [
            "              precision    recall  f1-score   support\n",
            "\n",
            "           0       1.00      1.00      1.00        98\n",
            "           1       1.00      1.00      1.00       105\n",
            "           2       1.00      1.00      1.00        95\n",
            "           3       1.00      1.00      1.00        92\n",
            "           4       0.99      1.00      1.00       101\n",
            "           5       0.98      1.00      0.99       106\n",
            "           6       0.95      1.00      0.97        91\n",
            "           7       0.92      0.97      0.95        75\n",
            "           8       0.87      0.97      0.91        87\n",
            "           9       0.98      0.74      0.84        88\n",
            "\n",
            "    accuracy                           0.97       938\n",
            "   macro avg       0.97      0.97      0.97       938\n",
            "weighted avg       0.97      0.97      0.97       938\n",
            "\n"
          ]
        }
      ],
      "source": [
        "print(classification_report(y_test, y_pred))"
      ]
    },
    {
      "cell_type": "code",
      "execution_count": null,
      "metadata": {
        "id": "o8HxMrXlPvpE"
      },
      "outputs": [],
      "source": [
        "# from imblearn.under_sampling import RandomUnderSampler\n",
        "# from imblearn.over_sampling import SMOTE\n",
        "# smote_obj = SMOTE()\n",
        "# X_train, y_train = smote_obj.fit_resample(X_train, y_train)"
      ]
    },
    {
      "cell_type": "code",
      "execution_count": null,
      "metadata": {
        "colab": {
          "base_uri": "https://localhost:8080/"
        },
        "id": "5TIyzrKiPvs9",
        "outputId": "27d98c38-e1ce-4a5d-e685-3eaea66fa975"
      },
      "outputs": [
        {
          "output_type": "execute_result",
          "data": {
            "text/plain": [
              "(2812, 128)"
            ]
          },
          "metadata": {},
          "execution_count": 34
        }
      ],
      "source": [
        "X_train.shape"
      ]
    },
    {
      "cell_type": "code",
      "execution_count": null,
      "metadata": {
        "colab": {
          "base_uri": "https://localhost:8080/"
        },
        "id": "zm-0mL3aPwRP",
        "outputId": "49191934-a7ce-478c-b5da-df55c13d4211"
      },
      "outputs": [
        {
          "output_type": "execute_result",
          "data": {
            "text/plain": [
              "(2812,)"
            ]
          },
          "metadata": {},
          "execution_count": 35
        }
      ],
      "source": [
        "y_train.shape"
      ]
    },
    {
      "cell_type": "code",
      "execution_count": null,
      "metadata": {
        "colab": {
          "base_uri": "https://localhost:8080/"
        },
        "id": "DD3M2sjhn6FI",
        "outputId": "4ce2d435-a766-4f6a-a6cf-4ed39b640542"
      },
      "outputs": [
        {
          "output_type": "execute_result",
          "data": {
            "text/plain": [
              "RandomForestClassifier(criterion='entropy', max_depth=14, max_features=1,\n",
              "                       n_estimators=10, random_state=42)"
            ]
          },
          "metadata": {},
          "execution_count": 36
        }
      ],
      "source": [
        "classifier = RandomForestClassifier(n_estimators = 10, criterion = 'entropy', random_state = 42,max_depth=14,max_features=1)\n",
        "classifier.fit(X_train, y_train)"
      ]
    },
    {
      "cell_type": "code",
      "execution_count": null,
      "metadata": {
        "id": "Mga79wN-pQOm"
      },
      "outputs": [],
      "source": [
        "# Predicting the Test set results\n",
        "y_pred = classifier.predict(X_test)"
      ]
    },
    {
      "cell_type": "code",
      "execution_count": null,
      "metadata": {
        "colab": {
          "base_uri": "https://localhost:8080/"
        },
        "id": "tbV6dIV6o0dU",
        "outputId": "8dd88b35-6017-4370-e719-f31710cc70b6"
      },
      "outputs": [
        {
          "output_type": "execute_result",
          "data": {
            "text/plain": [
              "array([1, 4, 6, 1, 3, 8, 9, 2, 9, 3, 0, 1, 8, 6, 5, 5, 2, 4, 8, 3, 1, 4,\n",
              "       0, 5, 1, 0, 8, 6, 4, 8, 5, 5, 1, 6, 7, 1, 4, 2, 0, 2, 7, 7, 2, 4,\n",
              "       4, 7, 2, 1, 5, 7, 2, 0, 9, 5, 2, 8, 4, 3, 8, 2, 1, 2, 0, 5, 5, 6,\n",
              "       2, 0, 6, 9, 3, 7, 1, 9, 0, 1, 4, 1, 3, 9, 3, 9, 1, 3, 0, 0, 8, 0,\n",
              "       3, 6, 9, 4, 0, 3, 2, 3, 9, 5, 8, 1, 4, 0, 5, 5, 8, 1, 3, 8, 2, 3,\n",
              "       5, 8, 9, 9, 0, 9, 5, 9, 7, 7, 4, 1, 4, 6, 7, 6, 6, 7, 5, 2, 3, 2,\n",
              "       5, 5, 5, 8, 3, 1, 5, 6, 8, 1, 4, 3, 6, 0, 3, 5, 8, 1, 3, 6, 4, 7,\n",
              "       2, 0, 7, 7, 3, 6, 5, 6, 5, 9, 2, 0, 3, 6, 4, 5, 7, 9, 9, 4, 4, 9,\n",
              "       8, 1, 6, 5, 5, 6, 4, 1, 1, 3, 2, 2, 4, 0, 4, 6, 6, 8, 3, 1, 9, 4,\n",
              "       0, 0, 3, 1, 0, 9, 8, 6, 9, 7, 8, 1, 8, 4, 6, 4, 5, 5, 1, 6, 4, 8,\n",
              "       3, 1, 9, 4, 4, 8, 5, 8, 9, 2, 9, 8, 6, 4, 4, 1, 8, 2, 9, 5, 5, 1,\n",
              "       9, 0, 6, 2, 9, 2, 6, 0, 2, 9, 3, 6, 2, 6, 7, 0, 1, 5, 3, 4, 0, 0,\n",
              "       2, 6, 9, 9, 7, 7, 2, 0, 3, 5, 1, 8, 7, 7, 6, 3, 9, 0, 4, 3, 9, 2,\n",
              "       0, 0, 1, 5, 0, 1, 9, 6, 1, 2, 5, 5, 7, 9, 4, 6, 8, 4, 0, 8, 0, 3,\n",
              "       4, 4, 0, 3, 8, 4, 4, 6, 8, 0, 0, 2, 2, 6, 1, 1, 3, 1, 5, 6, 8, 9,\n",
              "       0, 2, 6, 8, 4, 7, 1, 8, 5, 1, 3, 4, 0, 9, 6, 2, 0, 3, 6, 6, 6, 0,\n",
              "       5, 8, 5, 3, 3, 0, 4, 2, 5, 5, 4, 7, 0, 9, 8, 3, 0, 8, 5, 1, 8, 4,\n",
              "       9, 1, 9, 1, 8, 5, 4, 4, 7, 1, 2, 3, 7, 5, 6, 6, 1, 8, 3, 9, 4, 2,\n",
              "       4, 0, 7, 1, 9, 6, 7, 5, 0, 0, 2, 6, 2, 9, 9, 2, 4, 7, 3, 1, 8, 3,\n",
              "       3, 8, 6, 5, 1, 7, 1, 2, 2, 9, 4, 2, 1, 3, 0, 0, 5, 8, 8, 0, 0, 0,\n",
              "       4, 4, 1, 9, 1, 0, 7, 2, 2, 4, 7, 7, 8, 5, 7, 7, 4, 7, 3, 3, 0, 3,\n",
              "       9, 8, 0, 2, 9, 6, 4, 6, 1, 9, 4, 6, 1, 5, 0, 3, 5, 9, 2, 0, 5, 0,\n",
              "       9, 3, 1, 3, 7, 6, 4, 6, 8, 4, 7, 2, 4, 2, 0, 1, 7, 2, 4, 1, 2, 3,\n",
              "       6, 1, 7, 2, 0, 1, 0, 0, 5, 6, 9, 9, 0, 2, 2, 9, 4, 6, 0, 6, 5, 3,\n",
              "       6, 2, 2, 5, 2, 9, 0, 1, 1, 6, 2, 9, 2, 1, 4, 9, 2, 7, 1, 9, 6, 1,\n",
              "       2, 7, 5, 2, 7, 3, 1, 2, 3, 9, 9, 2, 6, 5, 4, 4, 9, 3, 3, 8, 9, 1,\n",
              "       0, 8, 0, 7, 0, 4, 4, 6, 5, 4, 2, 5, 8, 6, 4, 0, 2, 1, 0, 4, 2, 8,\n",
              "       9, 3, 9, 1, 1, 6, 7, 4, 8, 7, 8, 2, 1, 1, 4, 6, 9, 3, 0, 8, 5, 1,\n",
              "       5, 6, 3, 7, 6, 3, 3, 4, 5, 8, 0, 8, 7, 8, 8, 3, 4, 4, 2, 8, 1, 4,\n",
              "       9, 2, 9, 7, 0, 5, 8, 4, 5, 9, 7, 5, 9, 1, 3, 5, 7, 3, 7, 0, 2, 3,\n",
              "       3, 5, 2, 7, 0, 8, 2, 7, 9, 8, 4, 1, 5, 2, 5, 4, 4, 4, 0, 4, 8, 8,\n",
              "       3, 9, 3, 9, 3, 5, 8, 8, 4, 8, 9, 4, 5, 9, 7, 5, 6, 9, 6, 8, 0, 7,\n",
              "       3, 7, 1, 7, 5, 8, 8, 4, 2, 5, 5, 4, 5, 7, 4, 9, 2, 1, 7, 5, 2, 1,\n",
              "       5, 7, 2, 4, 2, 1, 1, 4, 0, 6, 8, 5, 4, 4, 0, 5, 1, 0, 6, 5, 0, 1,\n",
              "       8, 0, 8, 8, 6, 8, 9, 0, 0, 1, 6, 3, 5, 1, 8, 5, 1, 5, 1, 8, 0, 9,\n",
              "       7, 2, 8, 4, 5, 1, 7, 0, 5, 3, 9, 3, 1, 2, 5, 6, 0, 8, 5, 4, 5, 5,\n",
              "       6, 9, 6, 9, 6, 3, 5, 1, 2, 8, 1, 1, 1, 9, 8, 0, 7, 3, 9, 2, 6, 3,\n",
              "       3, 8, 0, 8, 0, 6, 5, 0, 1, 4, 5, 3, 1, 3, 3, 3, 7, 6, 7, 9, 6, 4,\n",
              "       6, 1, 6, 1, 6, 4, 1, 1, 0, 0, 6, 2, 6, 8, 3, 7, 4, 5, 5, 8, 3, 7,\n",
              "       6, 8, 4, 3, 4, 9, 7, 3, 5, 2, 0, 1, 3, 6, 4, 7, 9, 5, 2, 2, 2, 4,\n",
              "       6, 0, 4, 4, 0, 6, 5, 1, 0, 6, 2, 3, 7, 5, 1, 7, 3, 1, 2, 5, 0, 8,\n",
              "       5, 6, 5, 3, 1, 9, 5, 3, 8, 4, 5, 6, 3, 7, 1, 2, 2, 5, 5, 2, 7, 1,\n",
              "       9, 7, 1, 9, 5, 7, 2, 0, 2, 3, 3, 9, 2, 6])"
            ]
          },
          "metadata": {},
          "execution_count": 38
        }
      ],
      "source": [
        "y_test"
      ]
    },
    {
      "cell_type": "code",
      "execution_count": null,
      "metadata": {
        "colab": {
          "base_uri": "https://localhost:8080/"
        },
        "id": "PKhGhA1iow8K",
        "outputId": "071e5b7d-7580-4354-97dc-85550336825b"
      },
      "outputs": [
        {
          "output_type": "execute_result",
          "data": {
            "text/plain": [
              "array([1, 4, 6, 1, 3, 8, 9, 2, 9, 3, 0, 1, 8, 6, 5, 5, 2, 4, 8, 3, 1, 4,\n",
              "       0, 5, 1, 0, 8, 6, 4, 8, 5, 5, 1, 6, 7, 1, 4, 2, 0, 2, 7, 7, 2, 4,\n",
              "       4, 7, 2, 1, 5, 7, 2, 0, 9, 5, 2, 8, 4, 3, 8, 2, 1, 2, 0, 5, 5, 6,\n",
              "       2, 0, 6, 9, 3, 7, 1, 8, 0, 1, 4, 1, 3, 9, 3, 8, 1, 3, 0, 0, 8, 0,\n",
              "       3, 6, 9, 4, 0, 3, 2, 3, 9, 5, 8, 1, 4, 0, 5, 5, 8, 1, 3, 8, 2, 3,\n",
              "       5, 8, 9, 9, 0, 9, 5, 9, 7, 7, 4, 1, 4, 6, 7, 6, 6, 7, 5, 2, 3, 2,\n",
              "       5, 5, 5, 8, 3, 1, 5, 6, 8, 1, 4, 3, 6, 0, 3, 5, 8, 1, 3, 6, 4, 7,\n",
              "       2, 0, 7, 7, 3, 6, 5, 6, 5, 9, 2, 0, 3, 6, 4, 5, 7, 7, 9, 4, 4, 9,\n",
              "       8, 1, 6, 5, 5, 6, 4, 1, 1, 3, 2, 2, 4, 0, 4, 6, 6, 8, 3, 1, 9, 4,\n",
              "       0, 0, 3, 1, 0, 9, 8, 6, 9, 7, 8, 1, 8, 4, 6, 4, 5, 5, 1, 6, 4, 8,\n",
              "       3, 1, 9, 4, 4, 8, 5, 8, 9, 2, 9, 8, 6, 4, 4, 1, 8, 2, 9, 5, 5, 1,\n",
              "       9, 0, 6, 2, 9, 2, 6, 0, 2, 6, 3, 6, 2, 6, 7, 0, 1, 5, 3, 4, 0, 0,\n",
              "       2, 6, 9, 9, 7, 7, 2, 0, 3, 5, 1, 8, 7, 7, 6, 3, 8, 0, 4, 3, 9, 2,\n",
              "       0, 0, 1, 5, 0, 1, 8, 6, 1, 2, 5, 5, 7, 8, 4, 6, 8, 4, 0, 8, 0, 3,\n",
              "       4, 4, 0, 3, 8, 4, 4, 6, 8, 0, 0, 2, 2, 6, 1, 1, 3, 1, 5, 6, 8, 9,\n",
              "       0, 2, 6, 8, 4, 7, 1, 8, 5, 1, 3, 4, 0, 9, 6, 2, 0, 3, 6, 6, 6, 0,\n",
              "       5, 8, 5, 3, 3, 0, 4, 2, 5, 5, 4, 7, 0, 9, 8, 3, 0, 8, 5, 1, 8, 4,\n",
              "       7, 1, 9, 1, 8, 5, 4, 4, 7, 1, 2, 3, 7, 5, 6, 6, 1, 8, 3, 9, 4, 2,\n",
              "       4, 0, 7, 1, 9, 6, 7, 5, 0, 0, 2, 6, 2, 9, 6, 2, 4, 7, 3, 1, 8, 3,\n",
              "       3, 4, 6, 5, 1, 7, 1, 2, 2, 9, 4, 2, 1, 3, 0, 0, 5, 8, 8, 0, 0, 0,\n",
              "       4, 4, 1, 9, 1, 0, 7, 2, 2, 4, 7, 7, 8, 5, 7, 7, 4, 7, 3, 3, 0, 3,\n",
              "       7, 5, 0, 2, 9, 6, 4, 6, 1, 9, 4, 6, 1, 5, 0, 3, 5, 8, 2, 0, 5, 0,\n",
              "       9, 3, 1, 3, 7, 6, 4, 6, 8, 4, 7, 2, 4, 2, 0, 1, 7, 2, 4, 1, 2, 3,\n",
              "       6, 1, 7, 2, 0, 1, 0, 0, 5, 6, 8, 6, 0, 2, 2, 7, 4, 6, 0, 6, 5, 3,\n",
              "       6, 2, 2, 5, 2, 8, 0, 1, 1, 6, 2, 9, 2, 1, 4, 9, 2, 7, 1, 9, 6, 1,\n",
              "       2, 7, 5, 2, 7, 3, 1, 2, 3, 9, 6, 2, 6, 5, 4, 4, 7, 3, 3, 8, 9, 1,\n",
              "       0, 8, 0, 7, 0, 4, 4, 6, 5, 4, 2, 5, 8, 6, 4, 0, 2, 1, 0, 4, 2, 8,\n",
              "       9, 3, 8, 1, 1, 6, 7, 4, 8, 7, 8, 2, 1, 1, 4, 6, 9, 3, 0, 8, 5, 1,\n",
              "       5, 6, 3, 7, 6, 3, 3, 4, 5, 8, 0, 8, 7, 8, 8, 3, 4, 4, 2, 8, 1, 4,\n",
              "       9, 2, 9, 7, 0, 5, 8, 4, 5, 9, 7, 5, 9, 1, 3, 5, 7, 3, 8, 0, 2, 3,\n",
              "       3, 5, 2, 7, 0, 8, 2, 7, 9, 8, 4, 1, 5, 2, 5, 4, 4, 4, 0, 4, 8, 8,\n",
              "       3, 9, 3, 8, 3, 5, 8, 8, 4, 8, 9, 4, 5, 9, 9, 5, 6, 9, 6, 8, 0, 7,\n",
              "       3, 7, 1, 7, 5, 8, 8, 4, 2, 5, 5, 4, 5, 7, 4, 9, 2, 1, 7, 5, 2, 1,\n",
              "       5, 7, 2, 4, 2, 1, 1, 4, 0, 6, 8, 5, 4, 4, 0, 5, 1, 0, 6, 5, 0, 1,\n",
              "       8, 0, 8, 8, 6, 8, 9, 0, 0, 1, 6, 3, 5, 1, 7, 5, 1, 5, 1, 8, 0, 9,\n",
              "       7, 2, 8, 4, 5, 1, 7, 0, 5, 3, 9, 3, 1, 2, 5, 6, 0, 8, 5, 4, 5, 5,\n",
              "       6, 6, 6, 5, 6, 3, 5, 1, 2, 8, 1, 1, 1, 9, 8, 0, 7, 3, 9, 2, 6, 3,\n",
              "       3, 8, 0, 8, 0, 6, 5, 0, 1, 4, 5, 3, 1, 3, 3, 3, 7, 6, 7, 9, 6, 4,\n",
              "       6, 1, 6, 1, 6, 4, 1, 1, 0, 0, 6, 2, 6, 8, 3, 7, 4, 5, 5, 8, 3, 7,\n",
              "       6, 8, 4, 3, 4, 9, 7, 3, 5, 2, 0, 1, 3, 6, 4, 7, 8, 5, 2, 2, 2, 4,\n",
              "       6, 0, 4, 4, 0, 6, 5, 1, 0, 6, 2, 3, 7, 5, 1, 7, 3, 1, 2, 5, 0, 8,\n",
              "       5, 6, 5, 3, 1, 9, 5, 3, 8, 4, 5, 6, 3, 7, 1, 2, 2, 5, 5, 2, 7, 1,\n",
              "       9, 7, 1, 8, 5, 7, 2, 0, 2, 3, 3, 9, 2, 6])"
            ]
          },
          "metadata": {},
          "execution_count": 39
        }
      ],
      "source": [
        "y_pred"
      ]
    },
    {
      "cell_type": "code",
      "execution_count": null,
      "metadata": {
        "colab": {
          "base_uri": "https://localhost:8080/"
        },
        "id": "NRfwaZ99n6T1",
        "outputId": "cb5e8da7-3a38-4511-8729-0665ae45f1c1"
      },
      "outputs": [
        {
          "output_type": "stream",
          "name": "stdout",
          "text": [
            "Accuracy: 97.01%\n"
          ]
        }
      ],
      "source": [
        "accuracy = accuracy_score(y_test, y_pred) \n",
        "\n",
        "print(\"Accuracy: %.2f%%\" % (accuracy * 100.0))"
      ]
    },
    {
      "cell_type": "code",
      "execution_count": null,
      "metadata": {
        "colab": {
          "base_uri": "https://localhost:8080/"
        },
        "id": "VEz5X9HCn6XK",
        "outputId": "65430076-d024-4f6b-d42a-ab4f259c307b"
      },
      "outputs": [
        {
          "output_type": "stream",
          "name": "stdout",
          "text": [
            "              precision    recall  f1-score   support\n",
            "\n",
            "           0       1.00      1.00      1.00        98\n",
            "           1       1.00      1.00      1.00       105\n",
            "           2       1.00      1.00      1.00        95\n",
            "           3       1.00      1.00      1.00        92\n",
            "           4       0.99      1.00      1.00       101\n",
            "           5       0.98      1.00      0.99       106\n",
            "           6       0.95      1.00      0.97        91\n",
            "           7       0.92      0.97      0.95        75\n",
            "           8       0.87      0.97      0.91        87\n",
            "           9       0.98      0.74      0.84        88\n",
            "\n",
            "    accuracy                           0.97       938\n",
            "   macro avg       0.97      0.97      0.97       938\n",
            "weighted avg       0.97      0.97      0.97       938\n",
            "\n",
            "0.9718741236096593\n",
            "0.9701492537313433\n",
            "0.9689797939943197\n"
          ]
        }
      ],
      "source": [
        "from sklearn.metrics import classification_report,precision_score,recall_score,f1_score,cohen_kappa_score\n",
        "from sklearn import metrics\n",
        "labels=['0','1','2','3','4']\n",
        "print(classification_report(y_test, y_pred))\n",
        "print(precision_score(y_test, y_pred,average='weighted'))\n",
        "print(recall_score(y_test, y_pred,average='weighted'))\n",
        "print(f1_score(y_test, y_pred,average='weighted'))\n",
        "#print(\"Kappa score:\" + cohen_kappa_score(y_test, y_pred,average='weighted'))"
      ]
    },
    {
      "cell_type": "code",
      "execution_count": null,
      "metadata": {
        "colab": {
          "base_uri": "https://localhost:8080/"
        },
        "id": "aYcXD6zpn6aG",
        "outputId": "d7ce16fd-143d-4613-948e-d62e8542bde0"
      },
      "outputs": [
        {
          "output_type": "execute_result",
          "data": {
            "text/plain": [
              "0.9987719555756903"
            ]
          },
          "metadata": {},
          "execution_count": 42
        }
      ],
      "source": [
        "from sklearn.metrics import roc_auc_score\n",
        "y_prob = classifier.predict_proba(X_test)\n",
        "weighted_roc_auc_ovo = roc_auc_score(\n",
        "    y_test, y_prob, multi_class=\"ovr\", average=\"weighted\"\n",
        ")\n",
        "weighted_roc_auc_ovo"
      ]
    },
    {
      "cell_type": "code",
      "execution_count": null,
      "metadata": {
        "id": "2OE-1lHBCF3w"
      },
      "outputs": [],
      "source": []
    },
    {
      "cell_type": "markdown",
      "metadata": {
        "id": "iePX4AwtCxDL"
      },
      "source": [
        "# Adaboost"
      ]
    },
    {
      "cell_type": "code",
      "execution_count": null,
      "metadata": {
        "id": "LIWWzfWWCwLl"
      },
      "outputs": [],
      "source": [
        "from sklearn.datasets import make_gaussian_quantiles\n",
        "from sklearn.ensemble import AdaBoostClassifier\n",
        "from sklearn.metrics import accuracy_score\n",
        "from sklearn.tree import DecisionTreeClassifier"
      ]
    },
    {
      "cell_type": "code",
      "execution_count": null,
      "metadata": {
        "id": "QK19kOmMCvBU"
      },
      "outputs": [],
      "source": [
        "bdt_real = AdaBoostClassifier(\n",
        "    DecisionTreeClassifier(max_depth=2), n_estimators=300, learning_rate=1\n",
        ")\n",
        "\n",
        "bdt_discrete = AdaBoostClassifier(\n",
        "    DecisionTreeClassifier(max_depth=2),\n",
        "    n_estimators=300,\n",
        "    learning_rate=1.5,\n",
        "    algorithm=\"SAMME\",\n",
        ")"
      ]
    },
    {
      "cell_type": "code",
      "execution_count": null,
      "metadata": {
        "colab": {
          "base_uri": "https://localhost:8080/"
        },
        "id": "8xnMwWMJC6GC",
        "outputId": "3b553482-2b54-412d-98c1-74feac6905a2"
      },
      "outputs": [
        {
          "output_type": "execute_result",
          "data": {
            "text/plain": [
              "AdaBoostClassifier(algorithm='SAMME',\n",
              "                   base_estimator=DecisionTreeClassifier(max_depth=2),\n",
              "                   learning_rate=1.5, n_estimators=300)"
            ]
          },
          "metadata": {},
          "execution_count": 45
        }
      ],
      "source": [
        "\n",
        "bdt_real.fit(X_train, y_train)\n",
        "bdt_discrete.fit(X_train, y_train)\n"
      ]
    },
    {
      "cell_type": "code",
      "execution_count": null,
      "metadata": {
        "id": "8zmcG2shC9Wh"
      },
      "outputs": [],
      "source": [
        "y_pred = bdt_real.predict(X_test) \n",
        "y_pred1 = bdt_discrete.predict(X_test) "
      ]
    },
    {
      "cell_type": "code",
      "execution_count": null,
      "metadata": {
        "colab": {
          "base_uri": "https://localhost:8080/"
        },
        "id": "Ud3M_tIbDDqb",
        "outputId": "a3a08f3d-ea4c-413f-999e-ed4add6e5f4f"
      },
      "outputs": [
        {
          "output_type": "stream",
          "name": "stdout",
          "text": [
            "              precision    recall  f1-score   support\n",
            "\n",
            "           0       1.00      1.00      1.00        98\n",
            "           1       1.00      1.00      1.00       105\n",
            "           2       1.00      1.00      1.00        95\n",
            "           3       1.00      0.78      0.88        92\n",
            "           4       0.92      0.58      0.72       101\n",
            "           5       0.85      0.73      0.78       106\n",
            "           6       0.96      0.89      0.93        91\n",
            "           7       0.66      0.65      0.66        75\n",
            "           8       0.65      0.53      0.58        87\n",
            "           9       0.39      0.81      0.52        88\n",
            "\n",
            "    accuracy                           0.80       938\n",
            "   macro avg       0.84      0.80      0.81       938\n",
            "weighted avg       0.85      0.80      0.81       938\n",
            "\n",
            "0.802771855010661\n",
            "0.8534504944314486\n",
            "0.802771855010661\n",
            "0.8145437082907355\n"
          ]
        }
      ],
      "source": [
        "print(classification_report(y_test, y_pred1))\n",
        "print(accuracy_score(y_test, y_pred1))\n",
        "print(precision_score(y_test, y_pred1,average='weighted'))\n",
        "print(recall_score(y_test, y_pred1,average='weighted'))\n",
        "print(f1_score(y_test, y_pred1,average='weighted'))\n",
        "#print(cohen_kappa_score(y_test, y_pred1))"
      ]
    },
    {
      "cell_type": "code",
      "execution_count": null,
      "metadata": {
        "colab": {
          "base_uri": "https://localhost:8080/"
        },
        "id": "OJwiHz6FDKd7",
        "outputId": "06bb43b5-1401-4674-8f92-7afef2c2126c"
      },
      "outputs": [
        {
          "output_type": "execute_result",
          "data": {
            "text/plain": [
              "0.7871359106907873"
            ]
          },
          "metadata": {},
          "execution_count": 48
        }
      ],
      "source": [
        "from sklearn.metrics import roc_auc_score\n",
        "y_prob = bdt_real.predict_proba(X_test)\n",
        "weighted_roc_auc_ovo = roc_auc_score(\n",
        "    y_test, y_prob, multi_class=\"ovr\", average=\"weighted\"\n",
        ")\n",
        "weighted_roc_auc_ovo"
      ]
    },
    {
      "cell_type": "code",
      "execution_count": null,
      "metadata": {
        "id": "XxjvKq0-DNll"
      },
      "outputs": [],
      "source": []
    },
    {
      "cell_type": "markdown",
      "metadata": {
        "id": "7rFL6UapDXOM"
      },
      "source": [
        "# XGBoost"
      ]
    },
    {
      "cell_type": "code",
      "execution_count": null,
      "metadata": {
        "id": "A52XhvLTDV8w"
      },
      "outputs": [],
      "source": [
        "import xgboost as xgb\n",
        "\n",
        "from sklearn import datasets\n",
        "\n",
        "from sklearn.model_selection import train_test_split\n",
        "\n",
        "from sklearn.preprocessing import LabelEncoder \n",
        "\n",
        "from xgboost import XGBClassifier\n",
        "\n",
        "from sklearn.metrics import accuracy_score\n"
      ]
    },
    {
      "cell_type": "code",
      "execution_count": null,
      "metadata": {
        "colab": {
          "base_uri": "https://localhost:8080/"
        },
        "id": "vVQR53MX_wRX",
        "outputId": "0a9e4f8d-621f-486a-f0cd-2ff10ba50d81"
      },
      "outputs": [
        {
          "metadata": {
            "tags": null
          },
          "name": "stdout",
          "output_type": "stream",
          "text": [
            "Fitting 10 folds for each of 4860 candidates, totalling 48600 fits\n"
          ]
        }
      ],
      "source": [
        "from sklearn.model_selection import RandomizedSearchCV\n",
        "from sklearn.metrics import roc_auc_score\n",
        "from sklearn.model_selection import StratifiedKFold\n",
        "params = {\n",
        "        'min_child_weight': [1, 5, 10],\n",
        "        'gamma': [0.5, 1, 1.5, 2, 5],\n",
        "        'subsample': [0.6, 0.8, 1.0],\n",
        "        'colsample_bytree': [0.6, 0.8, 1.0],\n",
        "        'max_depth': [3, 4, 5],\n",
        "        'n_estimators': range(60, 220, 40),\n",
        "        'learning_rate': [0.1, 0.01, 0.05]\n",
        "        }\n",
        "model = XGBClassifier() \n",
        "grid_search = GridSearchCV(\n",
        "    estimator=model,\n",
        "    param_grid=params,\n",
        "    scoring = 'roc_auc',\n",
        "    n_jobs = 10,\n",
        "    cv = 10,\n",
        "    verbose=True\n",
        ")\n",
        "\n",
        "grid_search.fit(X_train, y_train)\n",
        "print(grid_search.best_params_)\n",
        "print(grid_search.best_score_)\n"
      ]
    },
    {
      "cell_type": "code",
      "execution_count": null,
      "metadata": {
        "id": "N1itxyH7AKf8"
      },
      "outputs": [],
      "source": [
        "print('\\n All results:')\n",
        "print(random_search.cv_results_)\n",
        "print('\\n Best estimator:')\n",
        "print(random_search.best_estimator_)\n",
        "print('\\n Best normalized gini score for %d-fold search with %d parameter combinations:' % (folds, param_comb))\n",
        "print(random_search.best_score_ * 2 - 1)\n",
        "print('\\n Best hyperparameters:')\n",
        "print(random_search.best_params_)\n",
        "results = pd.DataFrame(random_search.cv_results_)"
      ]
    },
    {
      "cell_type": "code",
      "execution_count": null,
      "metadata": {
        "id": "fEPXDeAy_uYi"
      },
      "outputs": [],
      "source": [
        "\n",
        "model.fit(X_train, y_train)"
      ]
    },
    {
      "cell_type": "code",
      "execution_count": null,
      "metadata": {
        "id": "JSO9qqjkDg4_"
      },
      "outputs": [],
      "source": [
        "y_pred = model.predict(X_test) \n",
        "\n",
        "predictions = [round(value) for value in y_pred]"
      ]
    },
    {
      "cell_type": "code",
      "execution_count": null,
      "metadata": {
        "id": "PsmZCJ_QDjYu"
      },
      "outputs": [],
      "source": [
        "accuracy = accuracy_score(y_test, predictions) \n",
        "\n",
        "print(\"Accuracy: %.2f%%\" % (accuracy * 100.0))"
      ]
    },
    {
      "cell_type": "code",
      "execution_count": null,
      "metadata": {
        "id": "6f6Ey1a7DnzZ"
      },
      "outputs": [],
      "source": [
        "from sklearn.metrics import classification_report,precision_score,recall_score,f1_score,cohen_kappa_score\n",
        "from sklearn import metrics\n",
        "labels=['0','1','2','3','4']\n",
        "print(classification_report(y_test, y_pred))\n",
        "print(precision_score(y_test, predictions,average='weighted'))\n",
        "print(recall_score(y_test, predictions,average='weighted'))\n",
        "print(f1_score(y_test, predictions,average='weighted'))\n",
        "print(cohen_kappa_score(y_test, predictions))\n",
        "\n",
        "\n"
      ]
    },
    {
      "cell_type": "code",
      "execution_count": null,
      "metadata": {
        "id": "wUynwqKjDv3Z"
      },
      "outputs": [],
      "source": [
        "from sklearn.metrics import roc_auc_score\n",
        "y_prob = model.predict_proba(X_test)\n",
        "weighted_roc_auc_ovo = roc_auc_score(\n",
        "    y_test, y_prob, multi_class=\"ovr\", average=\"weighted\"\n",
        ")\n",
        "weighted_roc_auc_ovo"
      ]
    },
    {
      "cell_type": "markdown",
      "metadata": {
        "id": "uC2Tr2hXD4JW"
      },
      "source": [
        "# KNN"
      ]
    },
    {
      "cell_type": "code",
      "execution_count": null,
      "metadata": {
        "id": "o7IWJHiqD0tj"
      },
      "outputs": [],
      "source": [
        "from sklearn.neighbors import KNeighborsClassifier"
      ]
    },
    {
      "cell_type": "code",
      "execution_count": null,
      "metadata": {
        "id": "OlF1EZtLEDGF"
      },
      "outputs": [],
      "source": [
        "knn_clf=KNeighborsClassifier()\n",
        "knn_clf.fit(X_train,y_train)\n",
        "ypred=knn_clf.predict(X_test)"
      ]
    },
    {
      "cell_type": "code",
      "execution_count": null,
      "metadata": {
        "id": "Dpdf4pvtEE3l"
      },
      "outputs": [],
      "source": [
        "from sklearn.metrics import accuracy_score,confusion_matrix\n",
        "from sklearn.metrics import classification_report\n",
        "result1 = classification_report(y_test, ypred)\n",
        "print(\"Classification Report:\",)\n",
        "print (result1)\n",
        "result2 = accuracy_score(y_test,ypred)\n",
        "print(\"Accuracy:\",result2)\n",
        "print(precision_score(y_test, ypred,average='weighted'))\n",
        "print(recall_score(y_test, ypred,average='weighted'))\n",
        "print(f1_score(y_test, ypred,average='weighted'))\n",
        "print(cohen_kappa_score(y_test, ypred))"
      ]
    },
    {
      "cell_type": "code",
      "execution_count": null,
      "metadata": {
        "id": "QG6dYHolEJkG"
      },
      "outputs": [],
      "source": [
        "from sklearn.metrics import roc_auc_score\n",
        "y_prob = knn_clf.predict_proba(X_test)\n",
        "weighted_roc_auc_ovo = roc_auc_score(\n",
        "    y_test, y_prob, multi_class=\"ovr\", average=\"weighted\"\n",
        ")\n",
        "weighted_roc_auc_ovo"
      ]
    },
    {
      "cell_type": "markdown",
      "metadata": {
        "id": "hO-dMzxiEQKI"
      },
      "source": [
        "# Logistic Regression"
      ]
    },
    {
      "cell_type": "code",
      "execution_count": null,
      "metadata": {
        "id": "hRSouFtlEOFg"
      },
      "outputs": [],
      "source": [
        "from sklearn.linear_model import LogisticRegression\n",
        "clf = LogisticRegression(random_state=0,multi_class=\"multinomial\")\n",
        "clf.fit(X_train,y_train)"
      ]
    },
    {
      "cell_type": "code",
      "execution_count": null,
      "metadata": {
        "id": "LCo1pp5jGAMb"
      },
      "outputs": [],
      "source": [
        "y_pred = clf.predict(X_test)\n",
        "y_pred "
      ]
    },
    {
      "cell_type": "code",
      "execution_count": null,
      "metadata": {
        "id": "QnKT7HQOGCnJ"
      },
      "outputs": [],
      "source": [
        "from sklearn.metrics import accuracy_score,confusion_matrix\n",
        "from sklearn.metrics import classification_report\n",
        "result1 = classification_report(y_test, y_pred)\n",
        "print(\"Classification Report:\",)\n",
        "print (result1)\n",
        "result2 = accuracy_score(y_test,y_pred)\n",
        "print(\"Accuracy:\",result2)\n",
        "print(precision_score(y_test, y_pred,average='weighted'))\n",
        "print(recall_score(y_test, y_pred,average='weighted'))\n",
        "print(f1_score(y_test, y_pred,average='weighted'))\n",
        "print(cohen_kappa_score(y_test, y_pred))"
      ]
    },
    {
      "cell_type": "code",
      "execution_count": null,
      "metadata": {
        "id": "RW2KSeG3GJOS"
      },
      "outputs": [],
      "source": [
        "from sklearn.metrics import roc_auc_score\n",
        "y_prob = knn_clf.predict_proba(X_test)\n",
        "weighted_roc_auc_ovo = roc_auc_score(\n",
        "    y_test, y_prob, multi_class=\"ovr\", average=\"weighted\"\n",
        ")\n",
        "weighted_roc_auc_ovo"
      ]
    },
    {
      "cell_type": "markdown",
      "metadata": {
        "id": "77V8YW_kGQTO"
      },
      "source": [
        "# Naive Bayes"
      ]
    },
    {
      "cell_type": "code",
      "execution_count": null,
      "metadata": {
        "id": "dP72H-cEGMsr"
      },
      "outputs": [],
      "source": [
        "from sklearn.preprocessing import MinMaxScaler\n",
        "from sklearn.naive_bayes import MultinomialNB\n",
        "from sklearn.pipeline import Pipeline\n",
        "p = Pipeline([('Normalizing',MinMaxScaler()),('MultinomialNB',MultinomialNB())])\n",
        "p.fit(X_train,y_train) "
      ]
    },
    {
      "cell_type": "code",
      "execution_count": null,
      "metadata": {
        "id": "-G6gMjODGhZt"
      },
      "outputs": [],
      "source": [
        "y_pred = p.predict(X_test)\n",
        "y_pred "
      ]
    },
    {
      "cell_type": "code",
      "execution_count": null,
      "metadata": {
        "id": "q1-h-YiZHKcK"
      },
      "outputs": [],
      "source": [
        "from sklearn.metrics import accuracy_score,confusion_matrix\n",
        "from sklearn.metrics import classification_report\n",
        "result1 = classification_report(y_test, y_pred)\n",
        "print(\"Classification Report:\",)\n",
        "print (result1)\n",
        "result2 = accuracy_score(y_test,y_pred)\n",
        "print(\"Accuracy:\",result2)\n",
        "print(precision_score(y_test, y_pred,average='weighted'))\n",
        "print(recall_score(y_test, y_pred,average='weighted'))\n",
        "print(f1_score(y_test, y_pred,average='weighted'))\n",
        "print(cohen_kappa_score(y_test, y_pred))"
      ]
    },
    {
      "cell_type": "code",
      "execution_count": null,
      "metadata": {
        "id": "nmy4E6xvHZFh"
      },
      "outputs": [],
      "source": [
        "from sklearn.metrics import roc_auc_score\n",
        "y_prob = knn_clf.predict_proba(X_test)\n",
        "weighted_roc_auc_ovo = roc_auc_score(\n",
        "    y_test, y_prob, multi_class=\"ovr\", average=\"weighted\"\n",
        ")\n",
        "weighted_roc_auc_ovo"
      ]
    },
    {
      "cell_type": "code",
      "execution_count": null,
      "metadata": {
        "id": "uZG__50xHo4d"
      },
      "outputs": [],
      "source": []
    }
  ],
  "metadata": {
    "colab": {
      "provenance": []
    },
    "kernelspec": {
      "display_name": "Python 3",
      "name": "python3"
    },
    "language_info": {
      "name": "python"
    }
  },
  "nbformat": 4,
  "nbformat_minor": 0
}