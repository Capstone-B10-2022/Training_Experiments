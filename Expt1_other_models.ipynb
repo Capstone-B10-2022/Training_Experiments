{
  "nbformat": 4,
  "nbformat_minor": 0,
  "metadata": {
    "colab": {
      "provenance": []
    },
    "kernelspec": {
      "name": "python3",
      "display_name": "Python 3"
    },
    "language_info": {
      "name": "python"
    }
  },
  "cells": [
    {
      "cell_type": "code",
      "source": [
        "!python --version"
      ],
      "metadata": {
        "colab": {
          "base_uri": "https://localhost:8080/"
        },
        "id": "UBqKuSXXIL5z",
        "outputId": "010eab35-0000-4330-ce95-1ba294a0bb23"
      },
      "execution_count": null,
      "outputs": [
        {
          "output_type": "stream",
          "name": "stdout",
          "text": [
            "Python 3.7.15\n"
          ]
        }
      ]
    },
    {
      "cell_type": "code",
      "source": [
        "from google.colab import drive\n",
        "drive.mount('/content/drive')\n",
        "\n",
        "#import pandas to read the csv file\n",
        "import pandas as pd\n",
        "import numpy as np"
      ],
      "metadata": {
        "id": "8cxhqXV8yqKA",
        "colab": {
          "base_uri": "https://localhost:8080/"
        },
        "outputId": "368b39f6-5b4b-426f-f57f-c3aeae42bc68"
      },
      "execution_count": null,
      "outputs": [
        {
          "output_type": "stream",
          "name": "stdout",
          "text": [
            "Mounted at /content/drive\n"
          ]
        }
      ]
    },
    {
      "cell_type": "code",
      "source": [
        "#Importing Libraries\n",
        "import numpy as np\n",
        "import pandas as pd\n",
        "from sklearn.model_selection import train_test_split\n",
        "from sklearn.preprocessing import StandardScaler\n",
        "from sklearn.ensemble import RandomForestClassifier\n",
        "from sklearn.metrics import confusion_matrix\n",
        "# from sklearn.externals import joblib"
      ],
      "metadata": {
        "id": "ap5dzyYw1IYq"
      },
      "execution_count": null,
      "outputs": []
    },
    {
      "cell_type": "code",
      "source": [
        "import joblib"
      ],
      "metadata": {
        "id": "Mn7yvWvr55Ih"
      },
      "execution_count": null,
      "outputs": []
    },
    {
      "cell_type": "code",
      "source": [
        "#reading the y.txt file which contains labels\n",
        "y = pd.read_csv('/content/drive/MyDrive/y.txt', sep = \" \", header=None, names=[\"Complexity\", \"Node Number\", \"Language\"])"
      ],
      "metadata": {
        "id": "ZeuIGWUi08IY"
      },
      "execution_count": null,
      "outputs": []
    },
    {
      "cell_type": "code",
      "source": [
        "y"
      ],
      "metadata": {
        "id": "286DUU7X0brh",
        "colab": {
          "base_uri": "https://localhost:8080/",
          "height": 423
        },
        "outputId": "956402bd-1183-466f-d287-0ee234f47588"
      },
      "execution_count": null,
      "outputs": [
        {
          "output_type": "execute_result",
          "data": {
            "text/plain": [
              "    Complexity Node Number Language\n",
              "0         O(1)      nodes0        C\n",
              "1        O(2n)      nodes0        C\n",
              "2        O(2n)      nodes1        C\n",
              "3      O(logN)      nodes0        C\n",
              "4      O(logN)      nodes1        C\n",
              "..         ...         ...      ...\n",
              "735   O(NlogN)      nodes5     Java\n",
              "736   O(NlogN)      nodes6     Java\n",
              "737   O(NlogN)      nodes7     Java\n",
              "738   O(NlogN)      nodes8     Java\n",
              "739   O(NlogN)      nodes9     Java\n",
              "\n",
              "[740 rows x 3 columns]"
            ],
            "text/html": [
              "\n",
              "  <div id=\"df-65110e87-5d70-4925-85fc-b57c6613a9e4\">\n",
              "    <div class=\"colab-df-container\">\n",
              "      <div>\n",
              "<style scoped>\n",
              "    .dataframe tbody tr th:only-of-type {\n",
              "        vertical-align: middle;\n",
              "    }\n",
              "\n",
              "    .dataframe tbody tr th {\n",
              "        vertical-align: top;\n",
              "    }\n",
              "\n",
              "    .dataframe thead th {\n",
              "        text-align: right;\n",
              "    }\n",
              "</style>\n",
              "<table border=\"1\" class=\"dataframe\">\n",
              "  <thead>\n",
              "    <tr style=\"text-align: right;\">\n",
              "      <th></th>\n",
              "      <th>Complexity</th>\n",
              "      <th>Node Number</th>\n",
              "      <th>Language</th>\n",
              "    </tr>\n",
              "  </thead>\n",
              "  <tbody>\n",
              "    <tr>\n",
              "      <th>0</th>\n",
              "      <td>O(1)</td>\n",
              "      <td>nodes0</td>\n",
              "      <td>C</td>\n",
              "    </tr>\n",
              "    <tr>\n",
              "      <th>1</th>\n",
              "      <td>O(2n)</td>\n",
              "      <td>nodes0</td>\n",
              "      <td>C</td>\n",
              "    </tr>\n",
              "    <tr>\n",
              "      <th>2</th>\n",
              "      <td>O(2n)</td>\n",
              "      <td>nodes1</td>\n",
              "      <td>C</td>\n",
              "    </tr>\n",
              "    <tr>\n",
              "      <th>3</th>\n",
              "      <td>O(logN)</td>\n",
              "      <td>nodes0</td>\n",
              "      <td>C</td>\n",
              "    </tr>\n",
              "    <tr>\n",
              "      <th>4</th>\n",
              "      <td>O(logN)</td>\n",
              "      <td>nodes1</td>\n",
              "      <td>C</td>\n",
              "    </tr>\n",
              "    <tr>\n",
              "      <th>...</th>\n",
              "      <td>...</td>\n",
              "      <td>...</td>\n",
              "      <td>...</td>\n",
              "    </tr>\n",
              "    <tr>\n",
              "      <th>735</th>\n",
              "      <td>O(NlogN)</td>\n",
              "      <td>nodes5</td>\n",
              "      <td>Java</td>\n",
              "    </tr>\n",
              "    <tr>\n",
              "      <th>736</th>\n",
              "      <td>O(NlogN)</td>\n",
              "      <td>nodes6</td>\n",
              "      <td>Java</td>\n",
              "    </tr>\n",
              "    <tr>\n",
              "      <th>737</th>\n",
              "      <td>O(NlogN)</td>\n",
              "      <td>nodes7</td>\n",
              "      <td>Java</td>\n",
              "    </tr>\n",
              "    <tr>\n",
              "      <th>738</th>\n",
              "      <td>O(NlogN)</td>\n",
              "      <td>nodes8</td>\n",
              "      <td>Java</td>\n",
              "    </tr>\n",
              "    <tr>\n",
              "      <th>739</th>\n",
              "      <td>O(NlogN)</td>\n",
              "      <td>nodes9</td>\n",
              "      <td>Java</td>\n",
              "    </tr>\n",
              "  </tbody>\n",
              "</table>\n",
              "<p>740 rows × 3 columns</p>\n",
              "</div>\n",
              "      <button class=\"colab-df-convert\" onclick=\"convertToInteractive('df-65110e87-5d70-4925-85fc-b57c6613a9e4')\"\n",
              "              title=\"Convert this dataframe to an interactive table.\"\n",
              "              style=\"display:none;\">\n",
              "        \n",
              "  <svg xmlns=\"http://www.w3.org/2000/svg\" height=\"24px\"viewBox=\"0 0 24 24\"\n",
              "       width=\"24px\">\n",
              "    <path d=\"M0 0h24v24H0V0z\" fill=\"none\"/>\n",
              "    <path d=\"M18.56 5.44l.94 2.06.94-2.06 2.06-.94-2.06-.94-.94-2.06-.94 2.06-2.06.94zm-11 1L8.5 8.5l.94-2.06 2.06-.94-2.06-.94L8.5 2.5l-.94 2.06-2.06.94zm10 10l.94 2.06.94-2.06 2.06-.94-2.06-.94-.94-2.06-.94 2.06-2.06.94z\"/><path d=\"M17.41 7.96l-1.37-1.37c-.4-.4-.92-.59-1.43-.59-.52 0-1.04.2-1.43.59L10.3 9.45l-7.72 7.72c-.78.78-.78 2.05 0 2.83L4 21.41c.39.39.9.59 1.41.59.51 0 1.02-.2 1.41-.59l7.78-7.78 2.81-2.81c.8-.78.8-2.07 0-2.86zM5.41 20L4 18.59l7.72-7.72 1.47 1.35L5.41 20z\"/>\n",
              "  </svg>\n",
              "      </button>\n",
              "      \n",
              "  <style>\n",
              "    .colab-df-container {\n",
              "      display:flex;\n",
              "      flex-wrap:wrap;\n",
              "      gap: 12px;\n",
              "    }\n",
              "\n",
              "    .colab-df-convert {\n",
              "      background-color: #E8F0FE;\n",
              "      border: none;\n",
              "      border-radius: 50%;\n",
              "      cursor: pointer;\n",
              "      display: none;\n",
              "      fill: #1967D2;\n",
              "      height: 32px;\n",
              "      padding: 0 0 0 0;\n",
              "      width: 32px;\n",
              "    }\n",
              "\n",
              "    .colab-df-convert:hover {\n",
              "      background-color: #E2EBFA;\n",
              "      box-shadow: 0px 1px 2px rgba(60, 64, 67, 0.3), 0px 1px 3px 1px rgba(60, 64, 67, 0.15);\n",
              "      fill: #174EA6;\n",
              "    }\n",
              "\n",
              "    [theme=dark] .colab-df-convert {\n",
              "      background-color: #3B4455;\n",
              "      fill: #D2E3FC;\n",
              "    }\n",
              "\n",
              "    [theme=dark] .colab-df-convert:hover {\n",
              "      background-color: #434B5C;\n",
              "      box-shadow: 0px 1px 3px 1px rgba(0, 0, 0, 0.15);\n",
              "      filter: drop-shadow(0px 1px 2px rgba(0, 0, 0, 0.3));\n",
              "      fill: #FFFFFF;\n",
              "    }\n",
              "  </style>\n",
              "\n",
              "      <script>\n",
              "        const buttonEl =\n",
              "          document.querySelector('#df-65110e87-5d70-4925-85fc-b57c6613a9e4 button.colab-df-convert');\n",
              "        buttonEl.style.display =\n",
              "          google.colab.kernel.accessAllowed ? 'block' : 'none';\n",
              "\n",
              "        async function convertToInteractive(key) {\n",
              "          const element = document.querySelector('#df-65110e87-5d70-4925-85fc-b57c6613a9e4');\n",
              "          const dataTable =\n",
              "            await google.colab.kernel.invokeFunction('convertToInteractive',\n",
              "                                                     [key], {});\n",
              "          if (!dataTable) return;\n",
              "\n",
              "          const docLinkHtml = 'Like what you see? Visit the ' +\n",
              "            '<a target=\"_blank\" href=https://colab.research.google.com/notebooks/data_table.ipynb>data table notebook</a>'\n",
              "            + ' to learn more about interactive tables.';\n",
              "          element.innerHTML = '';\n",
              "          dataTable['output_type'] = 'display_data';\n",
              "          await google.colab.output.renderOutput(dataTable, element);\n",
              "          const docLink = document.createElement('div');\n",
              "          docLink.innerHTML = docLinkHtml;\n",
              "          element.appendChild(docLink);\n",
              "        }\n",
              "      </script>\n",
              "    </div>\n",
              "  </div>\n",
              "  "
            ]
          },
          "metadata": {},
          "execution_count": 6
        }
      ]
    },
    {
      "cell_type": "code",
      "source": [
        "x = np.load('/content/drive/MyDrive/x.npy')"
      ],
      "metadata": {
        "id": "7a3zU35O1UPe"
      },
      "execution_count": null,
      "outputs": []
    },
    {
      "cell_type": "code",
      "source": [
        "x"
      ],
      "metadata": {
        "colab": {
          "base_uri": "https://localhost:8080/"
        },
        "id": "8KsBc9yHhPqo",
        "outputId": "b073810b-12a8-4276-f222-e53509730e74"
      },
      "execution_count": null,
      "outputs": [
        {
          "output_type": "execute_result",
          "data": {
            "text/plain": [
              "array([[-0.05468176,  0.127175  ,  0.0366478 , ...,  0.09731236,\n",
              "        -0.107657  ,  0.08184043],\n",
              "       [-0.0952346 ,  0.17503381,  0.06393544, ...,  0.1181241 ,\n",
              "        -0.12556435,  0.13071893],\n",
              "       [-0.13581266,  0.21943617,  0.10214286, ...,  0.1283566 ,\n",
              "        -0.14471857,  0.19222681],\n",
              "       ...,\n",
              "       [ 0.18476942, -0.20165125, -0.23536444, ...,  0.23089787,\n",
              "        -0.3212845 , -0.2662279 ],\n",
              "       [ 0.25568134, -0.19382419, -0.3828221 , ...,  0.27317905,\n",
              "        -0.33641592, -0.30042982],\n",
              "       [ 0.78257215, -0.16311097, -0.7386889 , ...,  0.5125705 ,\n",
              "        -0.17265631, -0.5655121 ]], dtype=float32)"
            ]
          },
          "metadata": {},
          "execution_count": 8
        }
      ]
    },
    {
      "cell_type": "code",
      "source": [
        "df = []\n",
        "for i in range(len(x)):\n",
        "  emb = x[i].tolist()\n",
        "  # emb.append(y[i])\n",
        "  df.append(emb)\n",
        "col = []\n",
        "for i in range(128):\n",
        "  col.append('emb'+str(i+1))\n",
        "# col.append('classes')\n",
        "df = pd.DataFrame(df, columns=col)"
      ],
      "metadata": {
        "id": "SlGnfz__1PI9"
      },
      "execution_count": null,
      "outputs": []
    },
    {
      "cell_type": "code",
      "source": [
        "df"
      ],
      "metadata": {
        "colab": {
          "base_uri": "https://localhost:8080/",
          "height": 487
        },
        "id": "SjzyYnM_fUCL",
        "outputId": "73d26633-3631-41d3-c0ef-f92f9b0dc12f"
      },
      "execution_count": null,
      "outputs": [
        {
          "output_type": "execute_result",
          "data": {
            "text/plain": [
              "         emb1      emb2      emb3      emb4      emb5      emb6      emb7  \\\n",
              "0   -0.054682  0.127175  0.036648  0.090353  0.192498  0.043540 -0.060334   \n",
              "1   -0.095235  0.175034  0.063935  0.117448  0.255929  0.064811 -0.072923   \n",
              "2   -0.135813  0.219436  0.102143  0.135153  0.286394  0.068151 -0.078952   \n",
              "3    0.270222  0.300358 -0.445603  0.196632  0.531115  0.433794 -0.261992   \n",
              "4    0.102710  0.177498 -0.326135  0.302662  0.256015  0.207272 -0.175998   \n",
              "..        ...       ...       ...       ...       ...       ...       ...   \n",
              "735  0.162677 -0.179751 -0.320467  0.374476  0.487395 -0.065953 -0.380204   \n",
              "736  0.183020 -0.166014 -0.231057  0.452174  0.562882 -0.138434 -0.443576   \n",
              "737  0.184769 -0.201651 -0.235364  0.446800  0.547860 -0.155865 -0.472018   \n",
              "738  0.255681 -0.193824 -0.382822  0.447094  0.499922 -0.083941 -0.402473   \n",
              "739  0.782572 -0.163111 -0.738689  0.510340  0.762960  0.278493 -0.506301   \n",
              "\n",
              "         emb8      emb9     emb10  ...    emb119    emb120    emb121  \\\n",
              "0   -0.037632 -0.001838  0.116995  ... -0.125052 -0.049275 -0.131080   \n",
              "1   -0.032716  0.013575  0.152739  ... -0.191601 -0.024092 -0.185713   \n",
              "2   -0.003041  0.021949  0.182400  ... -0.259607  0.008541 -0.236532   \n",
              "3   -0.074271 -0.215854 -0.061681  ... -0.392645 -0.586666 -0.216605   \n",
              "4   -0.057321  0.000238  0.019773  ... -0.449514 -0.386576 -0.253997   \n",
              "..        ...       ...       ...  ...       ...       ...       ...   \n",
              "735 -0.143154 -0.065873  0.257494  ... -0.329598 -0.397525  0.117815   \n",
              "736 -0.284463 -0.054835  0.159889  ... -0.263365 -0.445122  0.000230   \n",
              "737 -0.309393 -0.079808  0.205073  ... -0.239681 -0.489142 -0.006414   \n",
              "738 -0.251599 -0.028515  0.150684  ... -0.323401 -0.498780  0.046986   \n",
              "739 -0.299853 -0.460638 -0.063568  ... -0.437831 -1.165067  0.113273   \n",
              "\n",
              "       emb122    emb123    emb124    emb125    emb126    emb127    emb128  \n",
              "0    0.002272 -0.017875 -0.209266  0.199226  0.097312 -0.107657  0.081840  \n",
              "1   -0.016963 -0.040366 -0.277818  0.261729  0.118124 -0.125564  0.130719  \n",
              "2   -0.032249 -0.071049 -0.334604  0.334102  0.128357 -0.144719  0.192227  \n",
              "3   -0.092687 -0.081682 -0.599847  0.550452  0.468392 -0.247837  0.087675  \n",
              "4   -0.026445 -0.061492 -0.581163  0.442037  0.418021 -0.194271  0.098900  \n",
              "..        ...       ...       ...       ...       ...       ...       ...  \n",
              "735  0.099337 -0.094519 -0.544291  0.213452  0.262748 -0.306325 -0.224609  \n",
              "736  0.095979 -0.063981 -0.603873  0.114075  0.222806 -0.317638 -0.290131  \n",
              "737  0.128634 -0.109084 -0.605826  0.106701  0.230898 -0.321285 -0.266228  \n",
              "738  0.124914 -0.117825 -0.633948  0.106924  0.273179 -0.336416 -0.300430  \n",
              "739  0.033455 -0.083436 -0.703199  0.322280  0.512571 -0.172656 -0.565512  \n",
              "\n",
              "[740 rows x 128 columns]"
            ],
            "text/html": [
              "\n",
              "  <div id=\"df-2b1b8631-acd9-4ffb-a4ac-c73b5a370f83\">\n",
              "    <div class=\"colab-df-container\">\n",
              "      <div>\n",
              "<style scoped>\n",
              "    .dataframe tbody tr th:only-of-type {\n",
              "        vertical-align: middle;\n",
              "    }\n",
              "\n",
              "    .dataframe tbody tr th {\n",
              "        vertical-align: top;\n",
              "    }\n",
              "\n",
              "    .dataframe thead th {\n",
              "        text-align: right;\n",
              "    }\n",
              "</style>\n",
              "<table border=\"1\" class=\"dataframe\">\n",
              "  <thead>\n",
              "    <tr style=\"text-align: right;\">\n",
              "      <th></th>\n",
              "      <th>emb1</th>\n",
              "      <th>emb2</th>\n",
              "      <th>emb3</th>\n",
              "      <th>emb4</th>\n",
              "      <th>emb5</th>\n",
              "      <th>emb6</th>\n",
              "      <th>emb7</th>\n",
              "      <th>emb8</th>\n",
              "      <th>emb9</th>\n",
              "      <th>emb10</th>\n",
              "      <th>...</th>\n",
              "      <th>emb119</th>\n",
              "      <th>emb120</th>\n",
              "      <th>emb121</th>\n",
              "      <th>emb122</th>\n",
              "      <th>emb123</th>\n",
              "      <th>emb124</th>\n",
              "      <th>emb125</th>\n",
              "      <th>emb126</th>\n",
              "      <th>emb127</th>\n",
              "      <th>emb128</th>\n",
              "    </tr>\n",
              "  </thead>\n",
              "  <tbody>\n",
              "    <tr>\n",
              "      <th>0</th>\n",
              "      <td>-0.054682</td>\n",
              "      <td>0.127175</td>\n",
              "      <td>0.036648</td>\n",
              "      <td>0.090353</td>\n",
              "      <td>0.192498</td>\n",
              "      <td>0.043540</td>\n",
              "      <td>-0.060334</td>\n",
              "      <td>-0.037632</td>\n",
              "      <td>-0.001838</td>\n",
              "      <td>0.116995</td>\n",
              "      <td>...</td>\n",
              "      <td>-0.125052</td>\n",
              "      <td>-0.049275</td>\n",
              "      <td>-0.131080</td>\n",
              "      <td>0.002272</td>\n",
              "      <td>-0.017875</td>\n",
              "      <td>-0.209266</td>\n",
              "      <td>0.199226</td>\n",
              "      <td>0.097312</td>\n",
              "      <td>-0.107657</td>\n",
              "      <td>0.081840</td>\n",
              "    </tr>\n",
              "    <tr>\n",
              "      <th>1</th>\n",
              "      <td>-0.095235</td>\n",
              "      <td>0.175034</td>\n",
              "      <td>0.063935</td>\n",
              "      <td>0.117448</td>\n",
              "      <td>0.255929</td>\n",
              "      <td>0.064811</td>\n",
              "      <td>-0.072923</td>\n",
              "      <td>-0.032716</td>\n",
              "      <td>0.013575</td>\n",
              "      <td>0.152739</td>\n",
              "      <td>...</td>\n",
              "      <td>-0.191601</td>\n",
              "      <td>-0.024092</td>\n",
              "      <td>-0.185713</td>\n",
              "      <td>-0.016963</td>\n",
              "      <td>-0.040366</td>\n",
              "      <td>-0.277818</td>\n",
              "      <td>0.261729</td>\n",
              "      <td>0.118124</td>\n",
              "      <td>-0.125564</td>\n",
              "      <td>0.130719</td>\n",
              "    </tr>\n",
              "    <tr>\n",
              "      <th>2</th>\n",
              "      <td>-0.135813</td>\n",
              "      <td>0.219436</td>\n",
              "      <td>0.102143</td>\n",
              "      <td>0.135153</td>\n",
              "      <td>0.286394</td>\n",
              "      <td>0.068151</td>\n",
              "      <td>-0.078952</td>\n",
              "      <td>-0.003041</td>\n",
              "      <td>0.021949</td>\n",
              "      <td>0.182400</td>\n",
              "      <td>...</td>\n",
              "      <td>-0.259607</td>\n",
              "      <td>0.008541</td>\n",
              "      <td>-0.236532</td>\n",
              "      <td>-0.032249</td>\n",
              "      <td>-0.071049</td>\n",
              "      <td>-0.334604</td>\n",
              "      <td>0.334102</td>\n",
              "      <td>0.128357</td>\n",
              "      <td>-0.144719</td>\n",
              "      <td>0.192227</td>\n",
              "    </tr>\n",
              "    <tr>\n",
              "      <th>3</th>\n",
              "      <td>0.270222</td>\n",
              "      <td>0.300358</td>\n",
              "      <td>-0.445603</td>\n",
              "      <td>0.196632</td>\n",
              "      <td>0.531115</td>\n",
              "      <td>0.433794</td>\n",
              "      <td>-0.261992</td>\n",
              "      <td>-0.074271</td>\n",
              "      <td>-0.215854</td>\n",
              "      <td>-0.061681</td>\n",
              "      <td>...</td>\n",
              "      <td>-0.392645</td>\n",
              "      <td>-0.586666</td>\n",
              "      <td>-0.216605</td>\n",
              "      <td>-0.092687</td>\n",
              "      <td>-0.081682</td>\n",
              "      <td>-0.599847</td>\n",
              "      <td>0.550452</td>\n",
              "      <td>0.468392</td>\n",
              "      <td>-0.247837</td>\n",
              "      <td>0.087675</td>\n",
              "    </tr>\n",
              "    <tr>\n",
              "      <th>4</th>\n",
              "      <td>0.102710</td>\n",
              "      <td>0.177498</td>\n",
              "      <td>-0.326135</td>\n",
              "      <td>0.302662</td>\n",
              "      <td>0.256015</td>\n",
              "      <td>0.207272</td>\n",
              "      <td>-0.175998</td>\n",
              "      <td>-0.057321</td>\n",
              "      <td>0.000238</td>\n",
              "      <td>0.019773</td>\n",
              "      <td>...</td>\n",
              "      <td>-0.449514</td>\n",
              "      <td>-0.386576</td>\n",
              "      <td>-0.253997</td>\n",
              "      <td>-0.026445</td>\n",
              "      <td>-0.061492</td>\n",
              "      <td>-0.581163</td>\n",
              "      <td>0.442037</td>\n",
              "      <td>0.418021</td>\n",
              "      <td>-0.194271</td>\n",
              "      <td>0.098900</td>\n",
              "    </tr>\n",
              "    <tr>\n",
              "      <th>...</th>\n",
              "      <td>...</td>\n",
              "      <td>...</td>\n",
              "      <td>...</td>\n",
              "      <td>...</td>\n",
              "      <td>...</td>\n",
              "      <td>...</td>\n",
              "      <td>...</td>\n",
              "      <td>...</td>\n",
              "      <td>...</td>\n",
              "      <td>...</td>\n",
              "      <td>...</td>\n",
              "      <td>...</td>\n",
              "      <td>...</td>\n",
              "      <td>...</td>\n",
              "      <td>...</td>\n",
              "      <td>...</td>\n",
              "      <td>...</td>\n",
              "      <td>...</td>\n",
              "      <td>...</td>\n",
              "      <td>...</td>\n",
              "      <td>...</td>\n",
              "    </tr>\n",
              "    <tr>\n",
              "      <th>735</th>\n",
              "      <td>0.162677</td>\n",
              "      <td>-0.179751</td>\n",
              "      <td>-0.320467</td>\n",
              "      <td>0.374476</td>\n",
              "      <td>0.487395</td>\n",
              "      <td>-0.065953</td>\n",
              "      <td>-0.380204</td>\n",
              "      <td>-0.143154</td>\n",
              "      <td>-0.065873</td>\n",
              "      <td>0.257494</td>\n",
              "      <td>...</td>\n",
              "      <td>-0.329598</td>\n",
              "      <td>-0.397525</td>\n",
              "      <td>0.117815</td>\n",
              "      <td>0.099337</td>\n",
              "      <td>-0.094519</td>\n",
              "      <td>-0.544291</td>\n",
              "      <td>0.213452</td>\n",
              "      <td>0.262748</td>\n",
              "      <td>-0.306325</td>\n",
              "      <td>-0.224609</td>\n",
              "    </tr>\n",
              "    <tr>\n",
              "      <th>736</th>\n",
              "      <td>0.183020</td>\n",
              "      <td>-0.166014</td>\n",
              "      <td>-0.231057</td>\n",
              "      <td>0.452174</td>\n",
              "      <td>0.562882</td>\n",
              "      <td>-0.138434</td>\n",
              "      <td>-0.443576</td>\n",
              "      <td>-0.284463</td>\n",
              "      <td>-0.054835</td>\n",
              "      <td>0.159889</td>\n",
              "      <td>...</td>\n",
              "      <td>-0.263365</td>\n",
              "      <td>-0.445122</td>\n",
              "      <td>0.000230</td>\n",
              "      <td>0.095979</td>\n",
              "      <td>-0.063981</td>\n",
              "      <td>-0.603873</td>\n",
              "      <td>0.114075</td>\n",
              "      <td>0.222806</td>\n",
              "      <td>-0.317638</td>\n",
              "      <td>-0.290131</td>\n",
              "    </tr>\n",
              "    <tr>\n",
              "      <th>737</th>\n",
              "      <td>0.184769</td>\n",
              "      <td>-0.201651</td>\n",
              "      <td>-0.235364</td>\n",
              "      <td>0.446800</td>\n",
              "      <td>0.547860</td>\n",
              "      <td>-0.155865</td>\n",
              "      <td>-0.472018</td>\n",
              "      <td>-0.309393</td>\n",
              "      <td>-0.079808</td>\n",
              "      <td>0.205073</td>\n",
              "      <td>...</td>\n",
              "      <td>-0.239681</td>\n",
              "      <td>-0.489142</td>\n",
              "      <td>-0.006414</td>\n",
              "      <td>0.128634</td>\n",
              "      <td>-0.109084</td>\n",
              "      <td>-0.605826</td>\n",
              "      <td>0.106701</td>\n",
              "      <td>0.230898</td>\n",
              "      <td>-0.321285</td>\n",
              "      <td>-0.266228</td>\n",
              "    </tr>\n",
              "    <tr>\n",
              "      <th>738</th>\n",
              "      <td>0.255681</td>\n",
              "      <td>-0.193824</td>\n",
              "      <td>-0.382822</td>\n",
              "      <td>0.447094</td>\n",
              "      <td>0.499922</td>\n",
              "      <td>-0.083941</td>\n",
              "      <td>-0.402473</td>\n",
              "      <td>-0.251599</td>\n",
              "      <td>-0.028515</td>\n",
              "      <td>0.150684</td>\n",
              "      <td>...</td>\n",
              "      <td>-0.323401</td>\n",
              "      <td>-0.498780</td>\n",
              "      <td>0.046986</td>\n",
              "      <td>0.124914</td>\n",
              "      <td>-0.117825</td>\n",
              "      <td>-0.633948</td>\n",
              "      <td>0.106924</td>\n",
              "      <td>0.273179</td>\n",
              "      <td>-0.336416</td>\n",
              "      <td>-0.300430</td>\n",
              "    </tr>\n",
              "    <tr>\n",
              "      <th>739</th>\n",
              "      <td>0.782572</td>\n",
              "      <td>-0.163111</td>\n",
              "      <td>-0.738689</td>\n",
              "      <td>0.510340</td>\n",
              "      <td>0.762960</td>\n",
              "      <td>0.278493</td>\n",
              "      <td>-0.506301</td>\n",
              "      <td>-0.299853</td>\n",
              "      <td>-0.460638</td>\n",
              "      <td>-0.063568</td>\n",
              "      <td>...</td>\n",
              "      <td>-0.437831</td>\n",
              "      <td>-1.165067</td>\n",
              "      <td>0.113273</td>\n",
              "      <td>0.033455</td>\n",
              "      <td>-0.083436</td>\n",
              "      <td>-0.703199</td>\n",
              "      <td>0.322280</td>\n",
              "      <td>0.512571</td>\n",
              "      <td>-0.172656</td>\n",
              "      <td>-0.565512</td>\n",
              "    </tr>\n",
              "  </tbody>\n",
              "</table>\n",
              "<p>740 rows × 128 columns</p>\n",
              "</div>\n",
              "      <button class=\"colab-df-convert\" onclick=\"convertToInteractive('df-2b1b8631-acd9-4ffb-a4ac-c73b5a370f83')\"\n",
              "              title=\"Convert this dataframe to an interactive table.\"\n",
              "              style=\"display:none;\">\n",
              "        \n",
              "  <svg xmlns=\"http://www.w3.org/2000/svg\" height=\"24px\"viewBox=\"0 0 24 24\"\n",
              "       width=\"24px\">\n",
              "    <path d=\"M0 0h24v24H0V0z\" fill=\"none\"/>\n",
              "    <path d=\"M18.56 5.44l.94 2.06.94-2.06 2.06-.94-2.06-.94-.94-2.06-.94 2.06-2.06.94zm-11 1L8.5 8.5l.94-2.06 2.06-.94-2.06-.94L8.5 2.5l-.94 2.06-2.06.94zm10 10l.94 2.06.94-2.06 2.06-.94-2.06-.94-.94-2.06-.94 2.06-2.06.94z\"/><path d=\"M17.41 7.96l-1.37-1.37c-.4-.4-.92-.59-1.43-.59-.52 0-1.04.2-1.43.59L10.3 9.45l-7.72 7.72c-.78.78-.78 2.05 0 2.83L4 21.41c.39.39.9.59 1.41.59.51 0 1.02-.2 1.41-.59l7.78-7.78 2.81-2.81c.8-.78.8-2.07 0-2.86zM5.41 20L4 18.59l7.72-7.72 1.47 1.35L5.41 20z\"/>\n",
              "  </svg>\n",
              "      </button>\n",
              "      \n",
              "  <style>\n",
              "    .colab-df-container {\n",
              "      display:flex;\n",
              "      flex-wrap:wrap;\n",
              "      gap: 12px;\n",
              "    }\n",
              "\n",
              "    .colab-df-convert {\n",
              "      background-color: #E8F0FE;\n",
              "      border: none;\n",
              "      border-radius: 50%;\n",
              "      cursor: pointer;\n",
              "      display: none;\n",
              "      fill: #1967D2;\n",
              "      height: 32px;\n",
              "      padding: 0 0 0 0;\n",
              "      width: 32px;\n",
              "    }\n",
              "\n",
              "    .colab-df-convert:hover {\n",
              "      background-color: #E2EBFA;\n",
              "      box-shadow: 0px 1px 2px rgba(60, 64, 67, 0.3), 0px 1px 3px 1px rgba(60, 64, 67, 0.15);\n",
              "      fill: #174EA6;\n",
              "    }\n",
              "\n",
              "    [theme=dark] .colab-df-convert {\n",
              "      background-color: #3B4455;\n",
              "      fill: #D2E3FC;\n",
              "    }\n",
              "\n",
              "    [theme=dark] .colab-df-convert:hover {\n",
              "      background-color: #434B5C;\n",
              "      box-shadow: 0px 1px 3px 1px rgba(0, 0, 0, 0.15);\n",
              "      filter: drop-shadow(0px 1px 2px rgba(0, 0, 0, 0.3));\n",
              "      fill: #FFFFFF;\n",
              "    }\n",
              "  </style>\n",
              "\n",
              "      <script>\n",
              "        const buttonEl =\n",
              "          document.querySelector('#df-2b1b8631-acd9-4ffb-a4ac-c73b5a370f83 button.colab-df-convert');\n",
              "        buttonEl.style.display =\n",
              "          google.colab.kernel.accessAllowed ? 'block' : 'none';\n",
              "\n",
              "        async function convertToInteractive(key) {\n",
              "          const element = document.querySelector('#df-2b1b8631-acd9-4ffb-a4ac-c73b5a370f83');\n",
              "          const dataTable =\n",
              "            await google.colab.kernel.invokeFunction('convertToInteractive',\n",
              "                                                     [key], {});\n",
              "          if (!dataTable) return;\n",
              "\n",
              "          const docLinkHtml = 'Like what you see? Visit the ' +\n",
              "            '<a target=\"_blank\" href=https://colab.research.google.com/notebooks/data_table.ipynb>data table notebook</a>'\n",
              "            + ' to learn more about interactive tables.';\n",
              "          element.innerHTML = '';\n",
              "          dataTable['output_type'] = 'display_data';\n",
              "          await google.colab.output.renderOutput(dataTable, element);\n",
              "          const docLink = document.createElement('div');\n",
              "          docLink.innerHTML = docLinkHtml;\n",
              "          element.appendChild(docLink);\n",
              "        }\n",
              "      </script>\n",
              "    </div>\n",
              "  </div>\n",
              "  "
            ]
          },
          "metadata": {},
          "execution_count": 10
        }
      ]
    },
    {
      "cell_type": "code",
      "source": [
        "df_y = pd.read_csv('/content/drive/MyDrive/y.txt', sep = \" \", header=None, names=[\"Complexity\", \"Node Number\", \"Language\"])"
      ],
      "metadata": {
        "id": "fxpZzgtCzTHR"
      },
      "execution_count": null,
      "outputs": []
    },
    {
      "cell_type": "code",
      "source": [
        "df['Complexity'] = df_y['Complexity']"
      ],
      "metadata": {
        "id": "IzW80kqrfvf6"
      },
      "execution_count": null,
      "outputs": []
    },
    {
      "cell_type": "code",
      "source": [
        "import seaborn as sns\n",
        "sns.countplot(df['Complexity'])"
      ],
      "metadata": {
        "colab": {
          "base_uri": "https://localhost:8080/",
          "height": 353
        },
        "id": "HPHMdY0izTLv",
        "outputId": "a80c0e93-060f-427f-e635-ff9f12d1c5b9"
      },
      "execution_count": null,
      "outputs": [
        {
          "output_type": "stream",
          "name": "stderr",
          "text": [
            "/usr/local/lib/python3.7/dist-packages/seaborn/_decorators.py:43: FutureWarning: Pass the following variable as a keyword arg: x. From version 0.12, the only valid positional argument will be `data`, and passing other arguments without an explicit keyword will result in an error or misinterpretation.\n",
            "  FutureWarning\n"
          ]
        },
        {
          "output_type": "execute_result",
          "data": {
            "text/plain": [
              "<matplotlib.axes._subplots.AxesSubplot at 0x7fa8d9bd35d0>"
            ]
          },
          "metadata": {},
          "execution_count": 13
        },
        {
          "output_type": "display_data",
          "data": {
            "text/plain": [
              "<Figure size 432x288 with 1 Axes>"
            ],
            "image/png": "[encoded data removed]"
          },
          "metadata": {
            "needs_background": "light"
          }
        }
      ]
    },
    {
      "cell_type": "markdown",
      "source": [
        "# **Resampling - Oversampling**"
      ],
      "metadata": {
        "id": "LU7FF-PdP-0T"
      }
    },
    {
      "cell_type": "code",
      "source": [
        "from sklearn.utils import resample\n",
        "#create two different dataframe of majority and minority class \n",
        "df_majority = df[(df['Complexity'] == 'O(N)')] \n",
        "df_minority_1 = df[(df['Complexity'] == 'O(N2)')] \n",
        "df_minority_2 = df[(df['Complexity'] == 'O(NlogN)')] \n",
        "df_minority_3 = df[(df['Complexity'] == 'O(logN)')] \n",
        "df_minority_4 = df[(df['Complexity'] == 'O(N3)')]\n",
        "df_minority_5 = df[(df['Complexity'] == 'O(Nd)')]\n",
        "df_minority_6 = df[(df['Complexity'] == 'O(2n)')]\n",
        "df_minority_7 = df[(df['Complexity'] == 'O(1)')]\n",
        "df_minority_8 = df[(df['Complexity'] == 'O(N!)')]\n",
        "df_minority_9 = df[(df['Complexity'] == 'O(sqrt(N))')]\n",
        "\n",
        "# upsample minority class\n",
        "minority = [df_minority_1, df_minority_2, df_minority_3, df_minority_4, df_minority_5, df_minority_6, df_minority_7, df_minority_8, df_minority_9]\n",
        "temp = []\n",
        "for i in minority:\n",
        "  df_minority_upsampled = resample(i, \n",
        "                                  replace=True,    # sample with replacement\n",
        "                                  n_samples= 375, # to match majority class\n",
        "                                  random_state=42)  # reproducible results\n",
        "  temp.append(df_minority_upsampled)\n",
        "# Combine majority class with upsampled minority class\n",
        "df_upsampled = df_majority\n",
        "for i in temp:\n",
        "  df_upsampled = pd.concat([i, df_upsampled])"
      ],
      "metadata": {
        "id": "irIdYTbA0Aoi"
      },
      "execution_count": null,
      "outputs": []
    },
    {
      "cell_type": "code",
      "source": [
        "df_upsampled['Complexity'].value_counts()"
      ],
      "metadata": {
        "colab": {
          "base_uri": "https://localhost:8080/"
        },
        "id": "FElG1yZe0Asq",
        "outputId": "7833b8d8-044d-4cfc-938f-c207d45a0af3"
      },
      "execution_count": null,
      "outputs": [
        {
          "output_type": "execute_result",
          "data": {
            "text/plain": [
              "O(sqrt(N))    375\n",
              "O(N!)         375\n",
              "O(1)          375\n",
              "O(2n)         375\n",
              "O(Nd)         375\n",
              "O(N3)         375\n",
              "O(logN)       375\n",
              "O(NlogN)      375\n",
              "O(N2)         375\n",
              "O(N)          375\n",
              "Name: Complexity, dtype: int64"
            ]
          },
          "metadata": {},
          "execution_count": 15
        }
      ]
    },
    {
      "cell_type": "code",
      "source": [
        "sns.countplot(df_upsampled['Complexity'])"
      ],
      "metadata": {
        "colab": {
          "base_uri": "https://localhost:8080/",
          "height": 353
        },
        "id": "iWD_jiY70Avq",
        "outputId": "c11ec220-af5f-4f7a-e7f4-87b57238bcbb"
      },
      "execution_count": null,
      "outputs": [
        {
          "output_type": "stream",
          "name": "stderr",
          "text": [
            "/usr/local/lib/python3.7/dist-packages/seaborn/_decorators.py:43: FutureWarning: Pass the following variable as a keyword arg: x. From version 0.12, the only valid positional argument will be `data`, and passing other arguments without an explicit keyword will result in an error or misinterpretation.\n",
            "  FutureWarning\n"
          ]
        },
        {
          "output_type": "execute_result",
          "data": {
            "text/plain": [
              "<matplotlib.axes._subplots.AxesSubplot at 0x7fa8d8eb0c50>"
            ]
          },
          "metadata": {},
          "execution_count": 16
        },
        {
          "output_type": "display_data",
          "data": {
            "text/plain": [
              "<Figure size 432x288 with 1 Axes>"
            ],
            "image/png": "[encoded data removed]"
          },
          "metadata": {
            "needs_background": "light"
          }
        }
      ]
    },
    {
      "cell_type": "code",
      "source": [
        "df = df_upsampled\n",
        "# df = oversampled\n",
        "factor = pd.factorize(df['Complexity'])\n",
        "df.Complexity= factor[0]\n",
        "definitions = factor[1]\n",
        "print(df.Complexity.head())\n",
        "print(definitions)"
      ],
      "metadata": {
        "colab": {
          "base_uri": "https://localhost:8080/"
        },
        "id": "5KHBvWbD0AyF",
        "outputId": "4e66f608-a553-40ab-951b-0bd8d4d3efe4"
      },
      "execution_count": null,
      "outputs": [
        {
          "output_type": "stream",
          "name": "stdout",
          "text": [
            "426    0\n",
            "118    0\n",
            "426    0\n",
            "426    0\n",
            "118    0\n",
            "Name: Complexity, dtype: int64\n",
            "Index(['O(sqrt(N))', 'O(N!)', 'O(1)', 'O(2n)', 'O(Nd)', 'O(N3)', 'O(logN)',\n",
            "       'O(NlogN)', 'O(N2)', 'O(N)'],\n",
            "      dtype='object')\n"
          ]
        }
      ]
    },
    {
      "cell_type": "code",
      "source": [
        "#Splitting the data into independent and dependent variables\n",
        "X = df.iloc[:,0:128].values\n",
        "y = df.iloc[:,128].values\n",
        "print('The independent features set: ')\n",
        "print(X[:5,:])\n",
        "print('The dependent variable: ')\n",
        "print(y[:5])"
      ],
      "metadata": {
        "colab": {
          "base_uri": "https://localhost:8080/"
        },
        "id": "MFrt0_OMJ_W6",
        "outputId": "7dc483ca-2e68-4aa1-f86b-6cd87e7e03e4"
      },
      "execution_count": null,
      "outputs": [
        {
          "output_type": "stream",
          "name": "stdout",
          "text": [
            "The independent features set: \n",
            "[[-5.83184287e-02  3.71529967e-01 -2.88323965e-02  1.55028060e-01\n",
            "   3.11014682e-01  1.00550026e-01  5.99360764e-02 -3.60761136e-01\n",
            "   1.44105852e-01  3.35489400e-02 -3.26490730e-01 -1.46469802e-01\n",
            "  -1.58249080e-01  8.42799172e-02 -1.56572074e-01 -6.25618100e-02\n",
            "   1.79115199e-02 -6.21027872e-02 -4.91600335e-02  3.89916211e-01\n",
            "  -1.46600425e-01  8.72108266e-02 -6.90339282e-02 -1.86637864e-01\n",
            "   4.93713245e-02  4.02110219e-02  1.68428034e-01  1.20966127e-02\n",
            "  -5.01116753e-01  2.01332048e-01 -1.36490002e-01 -5.06071329e-01\n",
            "   1.30972713e-01  3.99992436e-01 -5.79397716e-02  2.12425098e-01\n",
            "   2.67079026e-01  7.10954294e-02  3.29857349e-01  2.58917511e-01\n",
            "   1.54078141e-01 -3.46699953e-01  5.03761582e-02 -1.37354985e-01\n",
            "  -1.46855399e-01  2.39136890e-01  1.41890749e-01 -2.20331624e-01\n",
            "   1.15752794e-01  2.84888089e-01 -1.10822842e-01 -4.63338494e-01\n",
            "   2.44946837e-01  4.53784674e-01  1.73191175e-01 -9.71864909e-02\n",
            "   1.07007056e-01  1.23845637e-01  4.40136716e-02  7.39401802e-02\n",
            "  -4.66513261e-02  1.19500935e-01 -6.34628534e-02  1.57176837e-01\n",
            "   2.03625694e-01 -1.41788051e-01  1.70824021e-01  2.15624988e-01\n",
            "  -2.29737479e-02 -3.59816492e-01 -2.55383193e-01 -1.41531825e-01\n",
            "   2.39819199e-01 -3.76144528e-01 -3.45273882e-01 -4.19865429e-01\n",
            "   2.88450122e-01  2.94362724e-01 -1.35407254e-01  2.18304381e-01\n",
            "   3.68371248e-01 -2.17595056e-01 -8.13572943e-01 -9.99278352e-02\n",
            "  -4.54193316e-02  3.87590230e-01  4.84496862e-01  1.82885855e-01\n",
            "   1.62250981e-01  1.18180633e-01 -1.10631570e-01  2.15374842e-01\n",
            "  -3.86663765e-01 -4.08860222e-02  1.32906318e-01  3.02820802e-01\n",
            "   6.05803728e-01  1.72035441e-01 -2.04143435e-01  3.60669382e-02\n",
            "   2.85164088e-01 -2.91248485e-02 -2.23110855e-01 -3.52369249e-01\n",
            "   4.96147752e-01 -2.54758835e-01 -1.33784458e-01  3.01724076e-02\n",
            "   3.51081550e-01 -8.63845721e-02  3.66331995e-01  1.20671518e-01\n",
            "   1.88544899e-01 -7.46104270e-02 -5.95418155e-01 -4.20720607e-01\n",
            "  -1.95291236e-01  1.97984606e-01  6.96248412e-02 -6.16771244e-02\n",
            "  -1.99010581e-01 -1.35601759e-02  2.29572535e-01 -3.41652811e-01\n",
            "   2.04260409e-01  6.85575465e-03 -2.23415360e-01  1.23303808e-01]\n",
            " [-1.26693934e-01  2.39839181e-01  5.48360422e-02  1.89516321e-01\n",
            "   1.98030397e-01  1.36487752e-01 -1.19842269e-01 -2.70117372e-02\n",
            "   1.58464581e-01  6.16460331e-02  1.82584986e-01 -5.27585804e-01\n",
            "   5.22287667e-01  1.64572909e-01  1.11724734e-01 -1.44721001e-01\n",
            "   2.76994240e-02  7.33580664e-02  4.99947146e-02  3.14185977e-01\n",
            "  -3.84390414e-01 -4.69154380e-02 -1.04368307e-01 -3.12524855e-01\n",
            "  -5.88895008e-03 -1.65257175e-02 -1.47478729e-01  2.76229084e-01\n",
            "  -2.74421215e-01  3.88504356e-01  6.64152354e-02 -4.56655473e-01\n",
            "   3.65241855e-01  1.36004329e-01  1.10645778e-01  4.18497562e-01\n",
            "   1.76044285e-01  5.05770028e-01  3.95574361e-01 -3.46505344e-02\n",
            "   1.06776409e-01 -5.82746089e-01  1.37510911e-01 -4.50523347e-02\n",
            "  -9.27086473e-02  1.28346130e-01 -9.96880159e-02 -2.49952406e-01\n",
            "   2.62136936e-01  2.64498293e-01 -3.28137547e-01 -1.08919092e-01\n",
            "   1.33835435e-01  3.27444136e-01  3.84122729e-02 -2.12239012e-01\n",
            "   1.97773948e-01  2.37642229e-01  4.90835160e-02 -2.62586623e-01\n",
            "   3.31955217e-02 -8.55961442e-02 -2.72869617e-01 -4.52691466e-02\n",
            "   3.70440423e-01 -2.61316061e-01  2.05274194e-01  3.80309939e-01\n",
            "  -2.20365837e-01 -4.37909842e-01 -2.83065379e-01 -5.29123656e-03\n",
            "  -4.91486341e-02 -2.16466635e-01 -4.90839720e-01 -1.46912277e-01\n",
            "   2.84258395e-01  2.69812196e-01 -5.15617579e-02  7.53901973e-02\n",
            "  -1.88993383e-02 -2.44085453e-02 -1.22886501e-01 -2.91655213e-01\n",
            "  -1.34821415e-01  7.57969392e-04  6.33064806e-01 -3.59949499e-01\n",
            "  -3.30827981e-01  3.67563069e-01 -2.00792421e-02  1.76950485e-01\n",
            "  -9.33747143e-02 -1.70590803e-01 -5.78769259e-02  5.07827878e-01\n",
            "   3.85558784e-01  3.94036591e-01 -3.24551910e-01  1.50549337e-01\n",
            "   3.86540890e-02 -1.95221663e-01  1.17096990e-01 -2.23644450e-01\n",
            "   4.43326145e-01 -1.84633937e-02  4.29529786e-01  1.12049706e-01\n",
            "   8.87434706e-02 -3.80506605e-01  5.56808412e-01 -7.05762878e-02\n",
            "   1.78822957e-03 -4.61210571e-02 -4.85168219e-01 -4.91117209e-01\n",
            "  -5.12564518e-02  2.18175501e-01 -3.85263920e-01  9.83149782e-02\n",
            "  -2.95999378e-01 -5.89064090e-03  1.18667856e-02 -4.83232051e-01\n",
            "   4.08095360e-01  1.19076610e-01 -2.62968868e-01  2.41840243e-01]\n",
            " [-5.83184287e-02  3.71529967e-01 -2.88323965e-02  1.55028060e-01\n",
            "   3.11014682e-01  1.00550026e-01  5.99360764e-02 -3.60761136e-01\n",
            "   1.44105852e-01  3.35489400e-02 -3.26490730e-01 -1.46469802e-01\n",
            "  -1.58249080e-01  8.42799172e-02 -1.56572074e-01 -6.25618100e-02\n",
            "   1.79115199e-02 -6.21027872e-02 -4.91600335e-02  3.89916211e-01\n",
            "  -1.46600425e-01  8.72108266e-02 -6.90339282e-02 -1.86637864e-01\n",
            "   4.93713245e-02  4.02110219e-02  1.68428034e-01  1.20966127e-02\n",
            "  -5.01116753e-01  2.01332048e-01 -1.36490002e-01 -5.06071329e-01\n",
            "   1.30972713e-01  3.99992436e-01 -5.79397716e-02  2.12425098e-01\n",
            "   2.67079026e-01  7.10954294e-02  3.29857349e-01  2.58917511e-01\n",
            "   1.54078141e-01 -3.46699953e-01  5.03761582e-02 -1.37354985e-01\n",
            "  -1.46855399e-01  2.39136890e-01  1.41890749e-01 -2.20331624e-01\n",
            "   1.15752794e-01  2.84888089e-01 -1.10822842e-01 -4.63338494e-01\n",
            "   2.44946837e-01  4.53784674e-01  1.73191175e-01 -9.71864909e-02\n",
            "   1.07007056e-01  1.23845637e-01  4.40136716e-02  7.39401802e-02\n",
            "  -4.66513261e-02  1.19500935e-01 -6.34628534e-02  1.57176837e-01\n",
            "   2.03625694e-01 -1.41788051e-01  1.70824021e-01  2.15624988e-01\n",
            "  -2.29737479e-02 -3.59816492e-01 -2.55383193e-01 -1.41531825e-01\n",
            "   2.39819199e-01 -3.76144528e-01 -3.45273882e-01 -4.19865429e-01\n",
            "   2.88450122e-01  2.94362724e-01 -1.35407254e-01  2.18304381e-01\n",
            "   3.68371248e-01 -2.17595056e-01 -8.13572943e-01 -9.99278352e-02\n",
            "  -4.54193316e-02  3.87590230e-01  4.84496862e-01  1.82885855e-01\n",
            "   1.62250981e-01  1.18180633e-01 -1.10631570e-01  2.15374842e-01\n",
            "  -3.86663765e-01 -4.08860222e-02  1.32906318e-01  3.02820802e-01\n",
            "   6.05803728e-01  1.72035441e-01 -2.04143435e-01  3.60669382e-02\n",
            "   2.85164088e-01 -2.91248485e-02 -2.23110855e-01 -3.52369249e-01\n",
            "   4.96147752e-01 -2.54758835e-01 -1.33784458e-01  3.01724076e-02\n",
            "   3.51081550e-01 -8.63845721e-02  3.66331995e-01  1.20671518e-01\n",
            "   1.88544899e-01 -7.46104270e-02 -5.95418155e-01 -4.20720607e-01\n",
            "  -1.95291236e-01  1.97984606e-01  6.96248412e-02 -6.16771244e-02\n",
            "  -1.99010581e-01 -1.35601759e-02  2.29572535e-01 -3.41652811e-01\n",
            "   2.04260409e-01  6.85575465e-03 -2.23415360e-01  1.23303808e-01]\n",
            " [-5.83184287e-02  3.71529967e-01 -2.88323965e-02  1.55028060e-01\n",
            "   3.11014682e-01  1.00550026e-01  5.99360764e-02 -3.60761136e-01\n",
            "   1.44105852e-01  3.35489400e-02 -3.26490730e-01 -1.46469802e-01\n",
            "  -1.58249080e-01  8.42799172e-02 -1.56572074e-01 -6.25618100e-02\n",
            "   1.79115199e-02 -6.21027872e-02 -4.91600335e-02  3.89916211e-01\n",
            "  -1.46600425e-01  8.72108266e-02 -6.90339282e-02 -1.86637864e-01\n",
            "   4.93713245e-02  4.02110219e-02  1.68428034e-01  1.20966127e-02\n",
            "  -5.01116753e-01  2.01332048e-01 -1.36490002e-01 -5.06071329e-01\n",
            "   1.30972713e-01  3.99992436e-01 -5.79397716e-02  2.12425098e-01\n",
            "   2.67079026e-01  7.10954294e-02  3.29857349e-01  2.58917511e-01\n",
            "   1.54078141e-01 -3.46699953e-01  5.03761582e-02 -1.37354985e-01\n",
            "  -1.46855399e-01  2.39136890e-01  1.41890749e-01 -2.20331624e-01\n",
            "   1.15752794e-01  2.84888089e-01 -1.10822842e-01 -4.63338494e-01\n",
            "   2.44946837e-01  4.53784674e-01  1.73191175e-01 -9.71864909e-02\n",
            "   1.07007056e-01  1.23845637e-01  4.40136716e-02  7.39401802e-02\n",
            "  -4.66513261e-02  1.19500935e-01 -6.34628534e-02  1.57176837e-01\n",
            "   2.03625694e-01 -1.41788051e-01  1.70824021e-01  2.15624988e-01\n",
            "  -2.29737479e-02 -3.59816492e-01 -2.55383193e-01 -1.41531825e-01\n",
            "   2.39819199e-01 -3.76144528e-01 -3.45273882e-01 -4.19865429e-01\n",
            "   2.88450122e-01  2.94362724e-01 -1.35407254e-01  2.18304381e-01\n",
            "   3.68371248e-01 -2.17595056e-01 -8.13572943e-01 -9.99278352e-02\n",
            "  -4.54193316e-02  3.87590230e-01  4.84496862e-01  1.82885855e-01\n",
            "   1.62250981e-01  1.18180633e-01 -1.10631570e-01  2.15374842e-01\n",
            "  -3.86663765e-01 -4.08860222e-02  1.32906318e-01  3.02820802e-01\n",
            "   6.05803728e-01  1.72035441e-01 -2.04143435e-01  3.60669382e-02\n",
            "   2.85164088e-01 -2.91248485e-02 -2.23110855e-01 -3.52369249e-01\n",
            "   4.96147752e-01 -2.54758835e-01 -1.33784458e-01  3.01724076e-02\n",
            "   3.51081550e-01 -8.63845721e-02  3.66331995e-01  1.20671518e-01\n",
            "   1.88544899e-01 -7.46104270e-02 -5.95418155e-01 -4.20720607e-01\n",
            "  -1.95291236e-01  1.97984606e-01  6.96248412e-02 -6.16771244e-02\n",
            "  -1.99010581e-01 -1.35601759e-02  2.29572535e-01 -3.41652811e-01\n",
            "   2.04260409e-01  6.85575465e-03 -2.23415360e-01  1.23303808e-01]\n",
            " [-1.26693934e-01  2.39839181e-01  5.48360422e-02  1.89516321e-01\n",
            "   1.98030397e-01  1.36487752e-01 -1.19842269e-01 -2.70117372e-02\n",
            "   1.58464581e-01  6.16460331e-02  1.82584986e-01 -5.27585804e-01\n",
            "   5.22287667e-01  1.64572909e-01  1.11724734e-01 -1.44721001e-01\n",
            "   2.76994240e-02  7.33580664e-02  4.99947146e-02  3.14185977e-01\n",
            "  -3.84390414e-01 -4.69154380e-02 -1.04368307e-01 -3.12524855e-01\n",
            "  -5.88895008e-03 -1.65257175e-02 -1.47478729e-01  2.76229084e-01\n",
            "  -2.74421215e-01  3.88504356e-01  6.64152354e-02 -4.56655473e-01\n",
            "   3.65241855e-01  1.36004329e-01  1.10645778e-01  4.18497562e-01\n",
            "   1.76044285e-01  5.05770028e-01  3.95574361e-01 -3.46505344e-02\n",
            "   1.06776409e-01 -5.82746089e-01  1.37510911e-01 -4.50523347e-02\n",
            "  -9.27086473e-02  1.28346130e-01 -9.96880159e-02 -2.49952406e-01\n",
            "   2.62136936e-01  2.64498293e-01 -3.28137547e-01 -1.08919092e-01\n",
            "   1.33835435e-01  3.27444136e-01  3.84122729e-02 -2.12239012e-01\n",
            "   1.97773948e-01  2.37642229e-01  4.90835160e-02 -2.62586623e-01\n",
            "   3.31955217e-02 -8.55961442e-02 -2.72869617e-01 -4.52691466e-02\n",
            "   3.70440423e-01 -2.61316061e-01  2.05274194e-01  3.80309939e-01\n",
            "  -2.20365837e-01 -4.37909842e-01 -2.83065379e-01 -5.29123656e-03\n",
            "  -4.91486341e-02 -2.16466635e-01 -4.90839720e-01 -1.46912277e-01\n",
            "   2.84258395e-01  2.69812196e-01 -5.15617579e-02  7.53901973e-02\n",
            "  -1.88993383e-02 -2.44085453e-02 -1.22886501e-01 -2.91655213e-01\n",
            "  -1.34821415e-01  7.57969392e-04  6.33064806e-01 -3.59949499e-01\n",
            "  -3.30827981e-01  3.67563069e-01 -2.00792421e-02  1.76950485e-01\n",
            "  -9.33747143e-02 -1.70590803e-01 -5.78769259e-02  5.07827878e-01\n",
            "   3.85558784e-01  3.94036591e-01 -3.24551910e-01  1.50549337e-01\n",
            "   3.86540890e-02 -1.95221663e-01  1.17096990e-01 -2.23644450e-01\n",
            "   4.43326145e-01 -1.84633937e-02  4.29529786e-01  1.12049706e-01\n",
            "   8.87434706e-02 -3.80506605e-01  5.56808412e-01 -7.05762878e-02\n",
            "   1.78822957e-03 -4.61210571e-02 -4.85168219e-01 -4.91117209e-01\n",
            "  -5.12564518e-02  2.18175501e-01 -3.85263920e-01  9.83149782e-02\n",
            "  -2.95999378e-01 -5.89064090e-03  1.18667856e-02 -4.83232051e-01\n",
            "   4.08095360e-01  1.19076610e-01 -2.62968868e-01  2.41840243e-01]]\n",
            "The dependent variable: \n",
            "[0 0 0 0 0]\n"
          ]
        }
      ]
    },
    {
      "cell_type": "code",
      "source": [
        "y = df['Complexity']"
      ],
      "metadata": {
        "id": "ASsrqGP24gX7"
      },
      "execution_count": null,
      "outputs": []
    },
    {
      "cell_type": "code",
      "source": [
        "from sklearn.preprocessing import LabelEncoder\n",
        "le = LabelEncoder()\n",
        "y = le.fit_transform(y)"
      ],
      "metadata": {
        "id": "8mqcsgDKAYE2"
      },
      "execution_count": null,
      "outputs": []
    },
    {
      "cell_type": "code",
      "source": [
        "# Creating the Training and Test set from data\n",
        "X_train, X_test, y_train, y_test = train_test_split(X, y, test_size = 0.35, random_state = 21)"
      ],
      "metadata": {
        "id": "nNa27HgiKe9Z"
      },
      "execution_count": null,
      "outputs": []
    },
    {
      "cell_type": "code",
      "source": [
        "# Feature Scaling\n",
        "scaler = StandardScaler()\n",
        "X_train = scaler.fit_transform(X_train)\n",
        "X_test = scaler.transform(X_test)"
      ],
      "metadata": {
        "id": "-X0GeSHpKg10"
      },
      "execution_count": null,
      "outputs": []
    },
    {
      "cell_type": "code",
      "source": [
        "model_results = pd.DataFrame()\n",
        "model_results['models'] = ['Random Forest','Adaboost','XGBoost','KNN','Logistic Regression','Naive Bayes']\n",
        "acc = []\n",
        "prec = []\n",
        "rec = []\n",
        "f1 = []\n",
        "kap = []\n",
        "roc = []"
      ],
      "metadata": {
        "id": "-hRtE0zQOpiq"
      },
      "execution_count": null,
      "outputs": []
    },
    {
      "cell_type": "markdown",
      "source": [
        "# Random forest"
      ],
      "metadata": {
        "id": "ukgfN2A0Cq5d"
      }
    },
    {
      "cell_type": "code",
      "source": [
        "# Fitting Random Forest Classification to the Training set\n",
        "classifier = RandomForestClassifier(n_estimators = 10, criterion = 'entropy', random_state = 42)\n",
        "classifier.fit(X_train, y_train)"
      ],
      "metadata": {
        "colab": {
          "base_uri": "https://localhost:8080/"
        },
        "id": "qdzk6nnWKjxT",
        "outputId": "6740302e-1689-4d8c-fafc-de3b6fc02c62"
      },
      "execution_count": null,
      "outputs": [
        {
          "output_type": "execute_result",
          "data": {
            "text/plain": [
              "RandomForestClassifier(criterion='entropy', n_estimators=10, random_state=42)"
            ]
          },
          "metadata": {},
          "execution_count": 24
        }
      ]
    },
    {
      "cell_type": "code",
      "source": [
        "num_classes = len(set(df_upsampled['Complexity']))\n",
        "num_classes"
      ],
      "metadata": {
        "colab": {
          "base_uri": "https://localhost:8080/"
        },
        "id": "ZCYQ8WC-QXo7",
        "outputId": "8a415383-64d0-4479-ec81-04f163fdc454"
      },
      "execution_count": null,
      "outputs": [
        {
          "output_type": "execute_result",
          "data": {
            "text/plain": [
              "10"
            ]
          },
          "metadata": {},
          "execution_count": 25
        }
      ]
    },
    {
      "cell_type": "code",
      "source": [
        "# Predicting the Test set results\n",
        "y_pred = classifier.predict(X_test)"
      ],
      "metadata": {
        "id": "hRvFjO7RKnUr"
      },
      "execution_count": null,
      "outputs": []
    },
    {
      "cell_type": "code",
      "source": [
        "confusion_matrix(y_test, y_pred)"
      ],
      "metadata": {
        "colab": {
          "base_uri": "https://localhost:8080/"
        },
        "id": "REfNgYrmMjIF",
        "outputId": "c7c5f9b4-b2c5-4f1f-cd90-cfcf5a8dd1f6"
      },
      "execution_count": null,
      "outputs": [
        {
          "output_type": "execute_result",
          "data": {
            "text/plain": [
              "array([[125,   0,   0,   0,   0,   0,   0,   0,   0,   0],\n",
              "       [  0, 143,   0,   0,   0,   0,   0,   0,   0,   0],\n",
              "       [  0,   0, 133,   0,   0,   0,   0,   0,   0,   0],\n",
              "       [  0,   0,   0, 134,   0,   0,   0,   0,   0,   0],\n",
              "       [  0,   0,   0,   0, 142,   0,   0,   0,   0,   0],\n",
              "       [  0,   0,   0,   0,   0, 140,   0,   0,   0,   0],\n",
              "       [  0,   0,   0,   0,   0,   0, 121,   0,   0,   0],\n",
              "       [  0,   0,   0,   0,   0,   0,   0, 113,   1,   2],\n",
              "       [  0,   0,   0,   0,   1,   0,   0,   3, 122,   2],\n",
              "       [  0,   0,   2,   2,   1,   0,   6,  12,  21,  87]])"
            ]
          },
          "metadata": {},
          "execution_count": 27
        }
      ]
    },
    {
      "cell_type": "code",
      "source": [
        "# Get and reshape confusion matrix data\n",
        "import matplotlib.pyplot as plt\n",
        "matrix = confusion_matrix(y_test, y_pred)\n",
        "matrix = matrix.astype('float') / matrix.sum(axis=1)[:, np.newaxis]\n",
        "\n",
        "# Build the plot\n",
        "plt.figure(figsize=(16,7))\n",
        "sns.set(font_scale=1.4)\n",
        "sns.heatmap(matrix, annot=True, annot_kws={'size':10},\n",
        "            cmap=plt.cm.Greens, linewidths=0.2)\n",
        "\n",
        "# Add labels to the plot\n",
        "class_names = ['O(1)',  'O(2n)',  'O(N!)',  'O(N)',  'O(N2)',  'O(N3)',  'O(Nd)',  'O(NlogN)', 'O(logN)','O(sqrt(N))']\n",
        "tick_marks = np.arange(len(class_names))\n",
        "tick_marks2 = tick_marks + 0.5\n",
        "plt.xticks(tick_marks, class_names, rotation=25)\n",
        "plt.yticks(tick_marks2, class_names, rotation=0)\n",
        "plt.xlabel('Predicted label')\n",
        "plt.ylabel('True label')\n",
        "plt.title('Confusion Matrix for Random Forest Model')\n",
        "plt.show()"
      ],
      "metadata": {
        "id": "xqpKgBTWNTDk",
        "colab": {
          "base_uri": "https://localhost:8080/",
          "height": 509
        },
        "outputId": "01f04586-8182-4413-83b1-4d38e657f550"
      },
      "execution_count": null,
      "outputs": [
        {
          "output_type": "display_data",
          "data": {
            "text/plain": [
              "<Figure size 1152x504 with 2 Axes>"
            ],
            "image/png": "[encoded data removed]"
          },
          "metadata": {
            "needs_background": "light"
          }
        }
      ]
    },
    {
      "cell_type": "code",
      "source": [
        "from sklearn.metrics import accuracy_score, confusion_matrix, classification_report\n",
        "\n",
        "accuracy_score(y_test, y_pred)"
      ],
      "metadata": {
        "colab": {
          "base_uri": "https://localhost:8080/"
        },
        "id": "dKI1ov9XPAkZ",
        "outputId": "93d586b2-444a-42e3-d79a-868cf5f76660"
      },
      "execution_count": null,
      "outputs": [
        {
          "output_type": "execute_result",
          "data": {
            "text/plain": [
              "0.9596344249809596"
            ]
          },
          "metadata": {},
          "execution_count": 29
        }
      ]
    },
    {
      "cell_type": "code",
      "source": [
        "print(classification_report(y_test, y_pred))"
      ],
      "metadata": {
        "colab": {
          "base_uri": "https://localhost:8080/"
        },
        "id": "HL8fH_0NPAtJ",
        "outputId": "a434777e-41b5-4566-8363-f251d0c82bac"
      },
      "execution_count": null,
      "outputs": [
        {
          "output_type": "stream",
          "name": "stdout",
          "text": [
            "              precision    recall  f1-score   support\n",
            "\n",
            "           0       1.00      1.00      1.00       125\n",
            "           1       1.00      1.00      1.00       143\n",
            "           2       0.99      1.00      0.99       133\n",
            "           3       0.99      1.00      0.99       134\n",
            "           4       0.99      1.00      0.99       142\n",
            "           5       1.00      1.00      1.00       140\n",
            "           6       0.95      1.00      0.98       121\n",
            "           7       0.88      0.97      0.93       116\n",
            "           8       0.85      0.95      0.90       128\n",
            "           9       0.96      0.66      0.78       131\n",
            "\n",
            "    accuracy                           0.96      1313\n",
            "   macro avg       0.96      0.96      0.96      1313\n",
            "weighted avg       0.96      0.96      0.96      1313\n",
            "\n"
          ]
        }
      ]
    },
    {
      "cell_type": "code",
      "source": [
        "# from imblearn.under_sampling import RandomUnderSampler\n",
        "# from imblearn.over_sampling import SMOTE\n",
        "# smote_obj = SMOTE()\n",
        "# X_train, y_train = smote_obj.fit_resample(X_train, y_train)"
      ],
      "metadata": {
        "id": "o8HxMrXlPvpE"
      },
      "execution_count": null,
      "outputs": []
    },
    {
      "cell_type": "code",
      "source": [
        "X_train.shape"
      ],
      "metadata": {
        "id": "5TIyzrKiPvs9",
        "colab": {
          "base_uri": "https://localhost:8080/"
        },
        "outputId": "87ec1a8b-a229-4306-81fd-c33c0909aa5d"
      },
      "execution_count": null,
      "outputs": [
        {
          "output_type": "execute_result",
          "data": {
            "text/plain": [
              "(2437, 128)"
            ]
          },
          "metadata": {},
          "execution_count": 32
        }
      ]
    },
    {
      "cell_type": "code",
      "source": [
        "y_train.shape"
      ],
      "metadata": {
        "id": "zm-0mL3aPwRP",
        "colab": {
          "base_uri": "https://localhost:8080/"
        },
        "outputId": "d68563a6-6dd4-4f8a-b640-6ea5d7700c0a"
      },
      "execution_count": null,
      "outputs": [
        {
          "output_type": "execute_result",
          "data": {
            "text/plain": [
              "(2437,)"
            ]
          },
          "metadata": {},
          "execution_count": 33
        }
      ]
    },
    {
      "cell_type": "code",
      "source": [
        "classifier = RandomForestClassifier(n_estimators = 10, criterion = 'entropy', random_state = 42)\n",
        "classifier.fit(X_train, y_train)"
      ],
      "metadata": {
        "colab": {
          "base_uri": "https://localhost:8080/"
        },
        "id": "DD3M2sjhn6FI",
        "outputId": "a0453fae-0e51-4e8f-d219-a6bf9c2b54fe"
      },
      "execution_count": null,
      "outputs": [
        {
          "output_type": "execute_result",
          "data": {
            "text/plain": [
              "RandomForestClassifier(criterion='entropy', n_estimators=10, random_state=42)"
            ]
          },
          "metadata": {},
          "execution_count": 34
        }
      ]
    },
    {
      "cell_type": "code",
      "source": [
        "# Predicting the Test set results\n",
        "y_pred = classifier.predict(X_test)"
      ],
      "metadata": {
        "id": "Mga79wN-pQOm"
      },
      "execution_count": null,
      "outputs": []
    },
    {
      "cell_type": "code",
      "source": [
        "y_test"
      ],
      "metadata": {
        "colab": {
          "base_uri": "https://localhost:8080/"
        },
        "id": "tbV6dIV6o0dU",
        "outputId": "8344e5a8-0669-4314-ab08-4d1464992208"
      },
      "execution_count": null,
      "outputs": [
        {
          "output_type": "execute_result",
          "data": {
            "text/plain": [
              "array([1, 4, 6, ..., 8, 3, 1])"
            ]
          },
          "metadata": {},
          "execution_count": 36
        }
      ]
    },
    {
      "cell_type": "code",
      "source": [
        "y_pred"
      ],
      "metadata": {
        "colab": {
          "base_uri": "https://localhost:8080/"
        },
        "id": "PKhGhA1iow8K",
        "outputId": "a4b86719-9ae1-4c65-81a0-8a24fe1cde5b"
      },
      "execution_count": null,
      "outputs": [
        {
          "output_type": "execute_result",
          "data": {
            "text/plain": [
              "array([1, 4, 6, ..., 8, 3, 1])"
            ]
          },
          "metadata": {},
          "execution_count": 37
        }
      ]
    },
    {
      "cell_type": "code",
      "source": [
        "accuracy = accuracy_score(y_test, y_pred) \n",
        "print(\"Accuracy: %.2f%%\" % (accuracy * 100.0))"
      ],
      "metadata": {
        "colab": {
          "base_uri": "https://localhost:8080/"
        },
        "id": "NRfwaZ99n6T1",
        "outputId": "b2ca1f4f-81e3-4c32-8cc5-bfad75aa95d3"
      },
      "execution_count": null,
      "outputs": [
        {
          "output_type": "stream",
          "name": "stdout",
          "text": [
            "Accuracy: 95.96%\n"
          ]
        }
      ]
    },
    {
      "cell_type": "code",
      "source": [
        "predictions = [round(value) for value in y_pred]"
      ],
      "metadata": {
        "id": "Cjr4bVQOP0SF"
      },
      "execution_count": null,
      "outputs": []
    },
    {
      "cell_type": "code",
      "source": [
        "from sklearn.metrics import classification_report,precision_score,recall_score,f1_score,cohen_kappa_score\n",
        "from sklearn import metrics\n",
        "labels=['0','1','2','3','4']\n",
        "print(classification_report(y_test, y_pred))\n",
        "print(precision_score(y_test, y_pred,average='weighted'))\n",
        "print(recall_score(y_test, y_pred,average='weighted'))\n",
        "print(f1_score(y_test, y_pred,average='weighted'))\n",
        "print(cohen_kappa_score(y_test, predictions))\n",
        "#print(\"Kappa score:\" + cohen_kappa_score(y_test, y_pred,average='weighted'))"
      ],
      "metadata": {
        "colab": {
          "base_uri": "https://localhost:8080/"
        },
        "id": "VEz5X9HCn6XK",
        "outputId": "0392d975-1bdb-4c7d-d108-9223f581cf94"
      },
      "execution_count": null,
      "outputs": [
        {
          "output_type": "stream",
          "name": "stdout",
          "text": [
            "              precision    recall  f1-score   support\n",
            "\n",
            "           0       1.00      1.00      1.00       125\n",
            "           1       1.00      1.00      1.00       143\n",
            "           2       0.99      1.00      0.99       133\n",
            "           3       0.99      1.00      0.99       134\n",
            "           4       0.99      1.00      0.99       142\n",
            "           5       1.00      1.00      1.00       140\n",
            "           6       0.95      1.00      0.98       121\n",
            "           7       0.88      0.97      0.93       116\n",
            "           8       0.85      0.95      0.90       128\n",
            "           9       0.96      0.66      0.78       131\n",
            "\n",
            "    accuracy                           0.96      1313\n",
            "   macro avg       0.96      0.96      0.96      1313\n",
            "weighted avg       0.96      0.96      0.96      1313\n",
            "\n",
            "0.9615100810550229\n",
            "0.9596344249809596\n",
            "0.9573772062333501\n",
            "0.9551357101411901\n"
          ]
        }
      ]
    },
    {
      "cell_type": "code",
      "source": [
        "from sklearn.metrics import roc_auc_score\n",
        "y_prob = classifier.predict_proba(X_test)\n",
        "weighted_roc_auc_ovo = roc_auc_score(\n",
        "    y_test, y_prob, multi_class=\"ovr\", average=\"weighted\"\n",
        ")\n",
        "weighted_roc_auc_ovo"
      ],
      "metadata": {
        "colab": {
          "base_uri": "https://localhost:8080/"
        },
        "id": "aYcXD6zpn6aG",
        "outputId": "3f5c7196-f06f-4424-ca7c-bbba522e6846"
      },
      "execution_count": null,
      "outputs": [
        {
          "output_type": "execute_result",
          "data": {
            "text/plain": [
              "0.9974610110386641"
            ]
          },
          "metadata": {},
          "execution_count": 41
        }
      ]
    },
    {
      "cell_type": "code",
      "source": [
        "acc.append(accuracy_score(y_test, y_pred))\n",
        "prec.append(precision_score(y_test, y_pred,average='weighted'))\n",
        "rec.append(recall_score(y_test, y_pred,average='weighted'))\n",
        "f1.append(f1_score(y_test, y_pred,average='weighted'))\n",
        "kap.append(cohen_kappa_score(y_test, predictions))\n",
        "roc.append(weighted_roc_auc_ovo)"
      ],
      "metadata": {
        "id": "gn2gXe96R7ux"
      },
      "execution_count": null,
      "outputs": []
    },
    {
      "cell_type": "code",
      "source": [
        "# joblib.dump(classifier, \"/content/drive/MyDrive/Capstone/random_forest.joblib\")"
      ],
      "metadata": {
        "id": "-NqX01YV6lgJ"
      },
      "execution_count": null,
      "outputs": []
    },
    {
      "cell_type": "code",
      "source": [
        "# loaded_rf = joblib.load(\"/content/drive/MyDrive/Capstone/random_forest_GridSearch.joblib\")"
      ],
      "metadata": {
        "id": "tGP5lm7G6liz"
      },
      "execution_count": null,
      "outputs": []
    },
    {
      "cell_type": "code",
      "source": [
        "# x_new = np.load('/content/drive/MyDrive/x_new.npy')\n",
        "# df = []\n",
        "# x = x_new\n",
        "# for i in range(len(x)):\n",
        "#     emb = x[i].tolist()\n",
        "#     # emb.append(y[i])\n",
        "#     df.append(emb)\n",
        "# col = []\n",
        "# for i in range(128):\n",
        "#     col.append('emb'+str(i+1))\n",
        "# # col.append('classes')\n",
        "# df = pd.DataFrame(df, columns=col)\n",
        "\n",
        "# X_new = df.iloc[:,0:128].values"
      ],
      "metadata": {
        "id": "YB44zRA8gRvY"
      },
      "execution_count": null,
      "outputs": []
    },
    {
      "cell_type": "code",
      "source": [
        "# y_pred = loaded_rf.predict(X_new)\n",
        "# y_pred"
      ],
      "metadata": {
        "id": "mzbJw83296ki"
      },
      "execution_count": null,
      "outputs": []
    },
    {
      "cell_type": "markdown",
      "source": [
        "# Adaboost"
      ],
      "metadata": {
        "id": "iePX4AwtCxDL"
      }
    },
    {
      "cell_type": "code",
      "source": [
        "from sklearn.datasets import make_gaussian_quantiles\n",
        "from sklearn.ensemble import AdaBoostClassifier\n",
        "from sklearn.metrics import accuracy_score\n",
        "from sklearn.tree import DecisionTreeClassifier"
      ],
      "metadata": {
        "id": "LIWWzfWWCwLl"
      },
      "execution_count": null,
      "outputs": []
    },
    {
      "cell_type": "code",
      "source": [
        "bdt_real = AdaBoostClassifier(\n",
        "    DecisionTreeClassifier(max_depth=2), n_estimators=300, learning_rate=1\n",
        ")\n",
        "\n",
        "bdt_discrete = AdaBoostClassifier(\n",
        "    DecisionTreeClassifier(max_depth=2),\n",
        "    n_estimators=300,\n",
        "    learning_rate=1.5,\n",
        "    algorithm=\"SAMME\",\n",
        ")"
      ],
      "metadata": {
        "id": "QK19kOmMCvBU"
      },
      "execution_count": null,
      "outputs": []
    },
    {
      "cell_type": "code",
      "source": [
        "\n",
        "bdt_real.fit(X_train, y_train)\n",
        "bdt_discrete.fit(X_train, y_train)\n"
      ],
      "metadata": {
        "colab": {
          "base_uri": "https://localhost:8080/"
        },
        "id": "8xnMwWMJC6GC",
        "outputId": "17cbfb88-cdfc-41db-89d7-5ef1b4d4f98f"
      },
      "execution_count": null,
      "outputs": [
        {
          "output_type": "execute_result",
          "data": {
            "text/plain": [
              "AdaBoostClassifier(algorithm='SAMME',\n",
              "                   base_estimator=DecisionTreeClassifier(max_depth=2),\n",
              "                   learning_rate=1.5, n_estimators=300)"
            ]
          },
          "metadata": {},
          "execution_count": 49
        }
      ]
    },
    {
      "cell_type": "code",
      "source": [
        "y_pred = bdt_real.predict(X_test) \n",
        "y_pred1 = bdt_discrete.predict(X_test) "
      ],
      "metadata": {
        "id": "8zmcG2shC9Wh"
      },
      "execution_count": null,
      "outputs": []
    },
    {
      "cell_type": "code",
      "source": [
        "predictions = [round(value) for value in y_pred]"
      ],
      "metadata": {
        "id": "wtjDWOdkQZLE"
      },
      "execution_count": null,
      "outputs": []
    },
    {
      "cell_type": "code",
      "source": [
        "print(classification_report(y_test, y_pred1))\n",
        "print(accuracy_score(y_test, y_pred1))\n",
        "print(precision_score(y_test, y_pred1,average='weighted'))\n",
        "print(recall_score(y_test, y_pred1,average='weighted'))\n",
        "print(f1_score(y_test, y_pred1,average='weighted'))\n",
        "print(cohen_kappa_score(y_test, predictions))"
      ],
      "metadata": {
        "colab": {
          "base_uri": "https://localhost:8080/"
        },
        "id": "Ud3M_tIbDDqb",
        "outputId": "20f4347e-adc3-49b7-9c4b-134e4cd0c1ee"
      },
      "execution_count": null,
      "outputs": [
        {
          "output_type": "stream",
          "name": "stdout",
          "text": [
            "              precision    recall  f1-score   support\n",
            "\n",
            "           0       1.00      1.00      1.00       125\n",
            "           1       1.00      1.00      1.00       143\n",
            "           2       1.00      1.00      1.00       133\n",
            "           3       1.00      1.00      1.00       134\n",
            "           4       0.94      0.62      0.75       142\n",
            "           5       0.97      0.70      0.81       140\n",
            "           6       0.96      0.90      0.93       121\n",
            "           7       0.75      0.69      0.72       116\n",
            "           8       0.44      0.59      0.50       128\n",
            "           9       0.48      0.70      0.57       131\n",
            "\n",
            "    accuracy                           0.82      1313\n",
            "   macro avg       0.85      0.82      0.83      1313\n",
            "weighted avg       0.86      0.82      0.83      1313\n",
            "\n",
            "0.8202589489718203\n",
            "0.8575240600526802\n",
            "0.8202589489718203\n",
            "0.8297388211580045\n",
            "0.44510774069747494\n"
          ]
        }
      ]
    },
    {
      "cell_type": "code",
      "source": [
        "from sklearn.metrics import roc_auc_score\n",
        "y_prob = bdt_real.predict_proba(X_test)\n",
        "weighted_roc_auc_ovo = roc_auc_score(\n",
        "    y_test, y_prob, multi_class=\"ovr\", average=\"weighted\"\n",
        ")\n",
        "weighted_roc_auc_ovo"
      ],
      "metadata": {
        "colab": {
          "base_uri": "https://localhost:8080/"
        },
        "id": "OJwiHz6FDKd7",
        "outputId": "e87e00df-7247-4eda-86dd-3f88d8fb2d93"
      },
      "execution_count": null,
      "outputs": [
        {
          "output_type": "execute_result",
          "data": {
            "text/plain": [
              "0.8042104699451055"
            ]
          },
          "metadata": {},
          "execution_count": 53
        }
      ]
    },
    {
      "cell_type": "code",
      "source": [
        "acc.append(accuracy_score(y_test, y_pred))\n",
        "prec.append(precision_score(y_test, y_pred,average='weighted'))\n",
        "rec.append(recall_score(y_test, y_pred,average='weighted'))\n",
        "f1.append(f1_score(y_test, y_pred,average='weighted'))\n",
        "kap.append(cohen_kappa_score(y_test, predictions))\n",
        "roc.append(weighted_roc_auc_ovo)"
      ],
      "metadata": {
        "id": "mWZEGoFTR_DQ",
        "colab": {
          "base_uri": "https://localhost:8080/"
        },
        "outputId": "33bb49ed-fe34-4555-b538-0393ceb896da"
      },
      "execution_count": null,
      "outputs": [
        {
          "output_type": "stream",
          "name": "stderr",
          "text": [
            "/usr/local/lib/python3.7/dist-packages/sklearn/metrics/_classification.py:1318: UndefinedMetricWarning: Precision is ill-defined and being set to 0.0 in labels with no predicted samples. Use `zero_division` parameter to control this behavior.\n",
            "  _warn_prf(average, modifier, msg_start, len(result))\n"
          ]
        }
      ]
    },
    {
      "cell_type": "code",
      "source": [],
      "metadata": {
        "id": "XxjvKq0-DNll"
      },
      "execution_count": null,
      "outputs": []
    },
    {
      "cell_type": "markdown",
      "source": [
        "# XGBoost"
      ],
      "metadata": {
        "id": "7rFL6UapDXOM"
      }
    },
    {
      "cell_type": "code",
      "source": [
        "import xgboost as xgb\n",
        "\n",
        "from sklearn import datasets\n",
        "\n",
        "from sklearn.model_selection import train_test_split\n",
        "\n",
        "from sklearn.preprocessing import LabelEncoder \n",
        "\n",
        "from xgboost import XGBClassifier\n",
        "\n",
        "from sklearn.metrics import accuracy_score\n",
        "\n",
        "model = XGBClassifier() \n",
        "model.fit(X_train, y_train)"
      ],
      "metadata": {
        "colab": {
          "base_uri": "https://localhost:8080/"
        },
        "id": "A52XhvLTDV8w",
        "outputId": "e8ef1e62-bae6-4254-e4cc-3ca03fbe3789"
      },
      "execution_count": null,
      "outputs": [
        {
          "output_type": "execute_result",
          "data": {
            "text/plain": [
              "XGBClassifier(objective='multi:softprob')"
            ]
          },
          "metadata": {},
          "execution_count": 55
        }
      ]
    },
    {
      "cell_type": "code",
      "source": [
        "y_pred = model.predict(X_test) \n",
        "\n",
        "predictions = [round(value) for value in y_pred]"
      ],
      "metadata": {
        "id": "JSO9qqjkDg4_"
      },
      "execution_count": null,
      "outputs": []
    },
    {
      "cell_type": "code",
      "source": [
        "accuracy = accuracy_score(y_test, predictions) \n",
        "\n",
        "print(\"Accuracy: %.2f%%\" % (accuracy * 100.0))"
      ],
      "metadata": {
        "colab": {
          "base_uri": "https://localhost:8080/"
        },
        "id": "PsmZCJ_QDjYu",
        "outputId": "1d7e7469-147d-44db-c83c-47fdb4eb2d92"
      },
      "execution_count": null,
      "outputs": [
        {
          "output_type": "stream",
          "name": "stdout",
          "text": [
            "Accuracy: 96.27%\n"
          ]
        }
      ]
    },
    {
      "cell_type": "code",
      "source": [
        "from sklearn.metrics import classification_report,precision_score,recall_score,f1_score,cohen_kappa_score\n",
        "from sklearn import metrics\n",
        "labels=['0','1','2','3','4']\n",
        "print(classification_report(y_test, y_pred))\n",
        "print(precision_score(y_test, predictions,average='weighted'))\n",
        "print(recall_score(y_test, predictions,average='weighted'))\n",
        "print(f1_score(y_test, predictions,average='weighted'))\n",
        "print(cohen_kappa_score(y_test, predictions))"
      ],
      "metadata": {
        "colab": {
          "base_uri": "https://localhost:8080/"
        },
        "id": "6f6Ey1a7DnzZ",
        "outputId": "0d0e0627-8e53-4028-b37e-5ad41a098046"
      },
      "execution_count": null,
      "outputs": [
        {
          "output_type": "stream",
          "name": "stdout",
          "text": [
            "              precision    recall  f1-score   support\n",
            "\n",
            "           0       1.00      1.00      1.00       125\n",
            "           1       1.00      1.00      1.00       143\n",
            "           2       1.00      1.00      1.00       133\n",
            "           3       0.99      1.00      1.00       134\n",
            "           4       0.97      1.00      0.98       142\n",
            "           5       0.98      1.00      0.99       140\n",
            "           6       0.98      1.00      0.99       121\n",
            "           7       0.92      0.93      0.93       116\n",
            "           8       0.86      0.94      0.90       128\n",
            "           9       0.92      0.75      0.82       131\n",
            "\n",
            "    accuracy                           0.96      1313\n",
            "   macro avg       0.96      0.96      0.96      1313\n",
            "weighted avg       0.96      0.96      0.96      1313\n",
            "\n",
            "0.9625855458896853\n",
            "0.9626808834729627\n",
            "0.9615798881503256\n",
            "0.9585146601480362\n"
          ]
        }
      ]
    },
    {
      "cell_type": "code",
      "source": [
        "# Get and reshape confusion matrix data\n",
        "import matplotlib.pyplot as plt\n",
        "matrix = confusion_matrix(y_test, y_pred)\n",
        "matrix = matrix.astype('float') / matrix.sum(axis=1)[:, np.newaxis]\n",
        "\n",
        "# Build the plot\n",
        "plt.figure(figsize=(16,7))\n",
        "sns.set(font_scale=1.4)\n",
        "sns.heatmap(matrix, annot=True, annot_kws={'size':10},\n",
        "            cmap=plt.cm.Greens, linewidths=0.2)\n",
        "\n",
        "# Add labels to the plot\n",
        "class_names = ['O(1)',  'O(2n)',  'O(N!)',  'O(N)',  'O(N2)',  'O(N3)',  'O(Nd)',  'O(NlogN)', 'O(logN)','O(sqrt(N))']\n",
        "tick_marks = np.arange(len(class_names))\n",
        "tick_marks2 = tick_marks + 0.5\n",
        "plt.xticks(tick_marks, class_names, rotation=25)\n",
        "plt.yticks(tick_marks2, class_names, rotation=0)\n",
        "plt.xlabel('Predicted label')\n",
        "plt.ylabel('True label')\n",
        "plt.title('Confusion Matrix for XG Boost Model')\n",
        "plt.show()"
      ],
      "metadata": {
        "colab": {
          "base_uri": "https://localhost:8080/"
        },
        "id": "Omf62iVXodp4",
        "outputId": "48701e34-c8e6-486b-e9d2-5f0f40611cf2"
      },
      "execution_count": null,
      "outputs": [
        {
          "output_type": "display_data",
          "data": {
            "text/plain": [
              "<Figure size 1152x504 with 2 Axes>"
            ],
            "image/png": "[encoded data removed]"
          },
          "metadata": {}
        }
      ]
    },
    {
      "cell_type": "code",
      "source": [
        "from sklearn.metrics import roc_auc_score\n",
        "y_prob = model.predict_proba(X_test)\n",
        "weighted_roc_auc_ovo = roc_auc_score(\n",
        "    y_test, y_prob, multi_class=\"ovr\", average=\"weighted\"\n",
        ")\n",
        "weighted_roc_auc_ovo"
      ],
      "metadata": {
        "colab": {
          "base_uri": "https://localhost:8080/"
        },
        "id": "wUynwqKjDv3Z",
        "outputId": "efe90c08-8697-41d2-c4b5-79fd7c87a6bb"
      },
      "execution_count": null,
      "outputs": [
        {
          "output_type": "execute_result",
          "data": {
            "text/plain": [
              "0.9976149168915479"
            ]
          },
          "metadata": {},
          "execution_count": 60
        }
      ]
    },
    {
      "cell_type": "code",
      "source": [
        "acc.append(accuracy_score(y_test, y_pred))\n",
        "prec.append(precision_score(y_test, y_pred,average='weighted'))\n",
        "rec.append(recall_score(y_test, y_pred,average='weighted'))\n",
        "f1.append(f1_score(y_test, y_pred,average='weighted'))\n",
        "kap.append(cohen_kappa_score(y_test, predictions))\n",
        "roc.append(weighted_roc_auc_ovo)"
      ],
      "metadata": {
        "id": "cEP3qz0eSC93"
      },
      "execution_count": null,
      "outputs": []
    },
    {
      "cell_type": "markdown",
      "source": [
        "# KNN"
      ],
      "metadata": {
        "id": "uC2Tr2hXD4JW"
      }
    },
    {
      "cell_type": "code",
      "source": [
        "from sklearn.neighbors import KNeighborsClassifier"
      ],
      "metadata": {
        "id": "o7IWJHiqD0tj"
      },
      "execution_count": null,
      "outputs": []
    },
    {
      "cell_type": "code",
      "source": [
        "knn_clf=KNeighborsClassifier()\n",
        "knn_clf.fit(X_train,y_train)\n",
        "ypred=knn_clf.predict(X_test)"
      ],
      "metadata": {
        "id": "OlF1EZtLEDGF"
      },
      "execution_count": null,
      "outputs": []
    },
    {
      "cell_type": "code",
      "source": [
        "from sklearn.metrics import accuracy_score,confusion_matrix\n",
        "from sklearn.metrics import classification_report\n",
        "result1 = classification_report(y_test, ypred)\n",
        "print(\"Classification Report:\",)\n",
        "print (result1)\n",
        "result2 = accuracy_score(y_test,ypred)\n",
        "print(\"Accuracy:\",result2)\n",
        "print(precision_score(y_test, ypred,average='weighted'))\n",
        "print(recall_score(y_test, ypred,average='weighted'))\n",
        "print(f1_score(y_test, ypred,average='weighted'))\n",
        "print(cohen_kappa_score(y_test, ypred))"
      ],
      "metadata": {
        "colab": {
          "base_uri": "https://localhost:8080/"
        },
        "id": "Dpdf4pvtEE3l",
        "outputId": "05c6d177-b666-4946-da78-ba6a3e64ab8b"
      },
      "execution_count": null,
      "outputs": [
        {
          "output_type": "stream",
          "name": "stdout",
          "text": [
            "Classification Report:\n",
            "              precision    recall  f1-score   support\n",
            "\n",
            "           0       1.00      1.00      1.00       125\n",
            "           1       1.00      1.00      1.00       143\n",
            "           2       1.00      1.00      1.00       133\n",
            "           3       0.92      1.00      0.96       134\n",
            "           4       0.87      1.00      0.93       142\n",
            "           5       0.86      1.00      0.93       140\n",
            "           6       0.95      1.00      0.98       121\n",
            "           7       0.74      0.78      0.76       116\n",
            "           8       0.68      0.71      0.69       128\n",
            "           9       0.77      0.34      0.47       131\n",
            "\n",
            "    accuracy                           0.89      1313\n",
            "   macro avg       0.88      0.88      0.87      1313\n",
            "weighted avg       0.88      0.89      0.87      1313\n",
            "\n",
            "Accuracy: 0.8857578065498858\n",
            "0.8810590939936409\n",
            "0.8857578065498858\n",
            "0.8734868009035143\n",
            "0.8729794084110268\n"
          ]
        }
      ]
    },
    {
      "cell_type": "code",
      "source": [
        "from sklearn.metrics import roc_auc_score\n",
        "y_prob = knn_clf.predict_proba(X_test)\n",
        "weighted_roc_auc_ovo = roc_auc_score(\n",
        "    y_test, y_prob, multi_class=\"ovr\", average=\"weighted\"\n",
        ")\n",
        "weighted_roc_auc_ovo"
      ],
      "metadata": {
        "colab": {
          "base_uri": "https://localhost:8080/"
        },
        "id": "QG6dYHolEJkG",
        "outputId": "d7388e05-2de0-4913-ab4d-233e3f1a90af"
      },
      "execution_count": null,
      "outputs": [
        {
          "output_type": "execute_result",
          "data": {
            "text/plain": [
              "0.9819878634241981"
            ]
          },
          "metadata": {},
          "execution_count": 65
        }
      ]
    },
    {
      "cell_type": "code",
      "source": [
        "acc.append(accuracy_score(y_test, y_pred))\n",
        "prec.append(precision_score(y_test, y_pred,average='weighted'))\n",
        "rec.append(recall_score(y_test, y_pred,average='weighted'))\n",
        "f1.append(f1_score(y_test, y_pred,average='weighted'))\n",
        "kap.append(cohen_kappa_score(y_test, predictions))\n",
        "roc.append(weighted_roc_auc_ovo)"
      ],
      "metadata": {
        "id": "Jlf0X6edSJxn"
      },
      "execution_count": null,
      "outputs": []
    },
    {
      "cell_type": "markdown",
      "source": [
        "# Logistic Regression"
      ],
      "metadata": {
        "id": "hO-dMzxiEQKI"
      }
    },
    {
      "cell_type": "code",
      "source": [
        "from sklearn.linear_model import LogisticRegression\n",
        "clf = LogisticRegression(random_state=0,multi_class=\"multinomial\")\n",
        "clf.fit(X_train,y_train)"
      ],
      "metadata": {
        "colab": {
          "base_uri": "https://localhost:8080/"
        },
        "id": "hRSouFtlEOFg",
        "outputId": "953a1e7c-7e89-4d3f-c999-2ecf702f2261"
      },
      "execution_count": null,
      "outputs": [
        {
          "output_type": "stream",
          "name": "stderr",
          "text": [
            "/usr/local/lib/python3.7/dist-packages/sklearn/linear_model/_logistic.py:818: ConvergenceWarning: lbfgs failed to converge (status=1):\n",
            "STOP: TOTAL NO. of ITERATIONS REACHED LIMIT.\n",
            "\n",
            "Increase the number of iterations (max_iter) or scale the data as shown in:\n",
            "    https://scikit-learn.org/stable/modules/preprocessing.html\n",
            "Please also refer to the documentation for alternative solver options:\n",
            "    https://scikit-learn.org/stable/modules/linear_model.html#logistic-regression\n",
            "  extra_warning_msg=_LOGISTIC_SOLVER_CONVERGENCE_MSG,\n"
          ]
        },
        {
          "output_type": "execute_result",
          "data": {
            "text/plain": [
              "LogisticRegression(multi_class='multinomial', random_state=0)"
            ]
          },
          "metadata": {},
          "execution_count": 67
        }
      ]
    },
    {
      "cell_type": "code",
      "source": [
        "y_pred = clf.predict(X_test)\n",
        "y_pred "
      ],
      "metadata": {
        "colab": {
          "base_uri": "https://localhost:8080/"
        },
        "id": "LCo1pp5jGAMb",
        "outputId": "60d17ae6-577e-4dd0-d6c2-2cf13e545386"
      },
      "execution_count": null,
      "outputs": [
        {
          "output_type": "execute_result",
          "data": {
            "text/plain": [
              "array([1, 8, 6, ..., 8, 3, 1])"
            ]
          },
          "metadata": {},
          "execution_count": 68
        }
      ]
    },
    {
      "cell_type": "code",
      "source": [
        "from sklearn.metrics import accuracy_score,confusion_matrix\n",
        "from sklearn.metrics import classification_report\n",
        "result1 = classification_report(y_test, y_pred)\n",
        "print(\"Classification Report:\",)\n",
        "print (result1)\n",
        "result2 = accuracy_score(y_test,y_pred)\n",
        "print(\"Accuracy:\",result2)\n",
        "print(precision_score(y_test, y_pred,average='weighted'))\n",
        "print(recall_score(y_test, y_pred,average='weighted'))\n",
        "print(f1_score(y_test, y_pred,average='weighted'))\n",
        "print(cohen_kappa_score(y_test, y_pred))"
      ],
      "metadata": {
        "colab": {
          "base_uri": "https://localhost:8080/"
        },
        "id": "QnKT7HQOGCnJ",
        "outputId": "d9a22b1a-ab02-46c9-ee45-9bc2d95f0b16"
      },
      "execution_count": null,
      "outputs": [
        {
          "output_type": "stream",
          "name": "stdout",
          "text": [
            "Classification Report:\n",
            "              precision    recall  f1-score   support\n",
            "\n",
            "           0       0.98      1.00      0.99       125\n",
            "           1       0.99      1.00      1.00       143\n",
            "           2       0.98      1.00      0.99       133\n",
            "           3       0.96      1.00      0.98       134\n",
            "           4       0.84      0.92      0.88       142\n",
            "           5       0.93      0.96      0.94       140\n",
            "           6       0.97      0.94      0.95       121\n",
            "           7       0.71      0.77      0.74       116\n",
            "           8       0.75      0.76      0.75       128\n",
            "           9       0.82      0.60      0.70       131\n",
            "\n",
            "    accuracy                           0.90      1313\n",
            "   macro avg       0.89      0.89      0.89      1313\n",
            "weighted avg       0.90      0.90      0.89      1313\n",
            "\n",
            "Accuracy: 0.8971820258948972\n",
            "0.8965974573243044\n",
            "0.8971820258948972\n",
            "0.894859550853779\n",
            "0.8856984225859994\n"
          ]
        }
      ]
    },
    {
      "cell_type": "code",
      "source": [
        "from sklearn.metrics import roc_auc_score\n",
        "y_prob = knn_clf.predict_proba(X_test)\n",
        "weighted_roc_auc_ovo = roc_auc_score(\n",
        "    y_test, y_prob, multi_class=\"ovr\", average=\"weighted\"\n",
        ")\n",
        "weighted_roc_auc_ovo"
      ],
      "metadata": {
        "colab": {
          "base_uri": "https://localhost:8080/"
        },
        "id": "RW2KSeG3GJOS",
        "outputId": "b409fdc3-646d-4a9d-a0c6-8d890b1cc98a"
      },
      "execution_count": null,
      "outputs": [
        {
          "output_type": "execute_result",
          "data": {
            "text/plain": [
              "0.9819878634241981"
            ]
          },
          "metadata": {},
          "execution_count": 70
        }
      ]
    },
    {
      "cell_type": "code",
      "source": [
        "acc.append(accuracy_score(y_test, y_pred))\n",
        "prec.append(precision_score(y_test, y_pred,average='weighted'))\n",
        "rec.append(recall_score(y_test, y_pred,average='weighted'))\n",
        "f1.append(f1_score(y_test, y_pred,average='weighted'))\n",
        "kap.append(cohen_kappa_score(y_test, predictions))\n",
        "roc.append(weighted_roc_auc_ovo)"
      ],
      "metadata": {
        "id": "oRl7WNKVSMIg"
      },
      "execution_count": null,
      "outputs": []
    },
    {
      "cell_type": "markdown",
      "source": [
        "# Naive Bayes"
      ],
      "metadata": {
        "id": "77V8YW_kGQTO"
      }
    },
    {
      "cell_type": "code",
      "source": [
        "from sklearn.preprocessing import MinMaxScaler\n",
        "from sklearn.naive_bayes import MultinomialNB\n",
        "from sklearn.pipeline import Pipeline\n",
        "p = Pipeline([('Normalizing',MinMaxScaler()),('MultinomialNB',MultinomialNB())])\n",
        "p.fit(X_train,y_train) "
      ],
      "metadata": {
        "colab": {
          "base_uri": "https://localhost:8080/"
        },
        "id": "dP72H-cEGMsr",
        "outputId": "af32cd4c-bd4f-470d-9152-b3364e237a6e"
      },
      "execution_count": null,
      "outputs": [
        {
          "output_type": "execute_result",
          "data": {
            "text/plain": [
              "Pipeline(steps=[('Normalizing', MinMaxScaler()),\n",
              "                ('MultinomialNB', MultinomialNB())])"
            ]
          },
          "metadata": {},
          "execution_count": 72
        }
      ]
    },
    {
      "cell_type": "code",
      "source": [
        "y_pred = p.predict(X_test)\n",
        "y_pred "
      ],
      "metadata": {
        "colab": {
          "base_uri": "https://localhost:8080/"
        },
        "id": "-G6gMjODGhZt",
        "outputId": "62c85494-10da-4ec8-f606-052d1ec17e45"
      },
      "execution_count": null,
      "outputs": [
        {
          "output_type": "execute_result",
          "data": {
            "text/plain": [
              "array([1, 0, 6, ..., 3, 3, 1])"
            ]
          },
          "metadata": {},
          "execution_count": 73
        }
      ]
    },
    {
      "cell_type": "code",
      "source": [
        "from sklearn.metrics import accuracy_score,confusion_matrix\n",
        "from sklearn.metrics import classification_report\n",
        "result1 = classification_report(y_test, y_pred)\n",
        "print(\"Classification Report:\",)\n",
        "print (result1)\n",
        "result2 = accuracy_score(y_test,y_pred)\n",
        "print(\"Accuracy:\",result2)\n",
        "print(precision_score(y_test, y_pred,average='weighted'))\n",
        "print(recall_score(y_test, y_pred,average='weighted'))\n",
        "print(f1_score(y_test, y_pred,average='weighted'))\n",
        "print(cohen_kappa_score(y_test, y_pred))"
      ],
      "metadata": {
        "colab": {
          "base_uri": "https://localhost:8080/"
        },
        "id": "q1-h-YiZHKcK",
        "outputId": "db90306f-3ea5-481c-8bde-426d1b5959f7"
      },
      "execution_count": null,
      "outputs": [
        {
          "output_type": "stream",
          "name": "stdout",
          "text": [
            "Classification Report:\n",
            "              precision    recall  f1-score   support\n",
            "\n",
            "           0       0.17      0.63      0.27       125\n",
            "           1       1.00      0.71      0.83       143\n",
            "           2       0.63      0.81      0.71       133\n",
            "           3       0.34      0.40      0.37       134\n",
            "           4       0.00      0.00      0.00       142\n",
            "           5       0.60      0.41      0.49       140\n",
            "           6       0.76      0.61      0.68       121\n",
            "           7       0.33      0.17      0.23       116\n",
            "           8       0.25      0.15      0.19       128\n",
            "           9       0.34      0.21      0.26       131\n",
            "\n",
            "    accuracy                           0.41      1313\n",
            "   macro avg       0.44      0.41      0.40      1313\n",
            "weighted avg       0.44      0.41      0.40      1313\n",
            "\n",
            "Accuracy: 0.412033511043412\n",
            "0.4448969125061999\n",
            "0.412033511043412\n",
            "0.4040787119094822\n",
            "0.34772038430105734\n"
          ]
        },
        {
          "output_type": "stream",
          "name": "stderr",
          "text": [
            "/usr/local/lib/python3.7/dist-packages/sklearn/metrics/_classification.py:1318: UndefinedMetricWarning: Precision and F-score are ill-defined and being set to 0.0 in labels with no predicted samples. Use `zero_division` parameter to control this behavior.\n",
            "  _warn_prf(average, modifier, msg_start, len(result))\n",
            "/usr/local/lib/python3.7/dist-packages/sklearn/metrics/_classification.py:1318: UndefinedMetricWarning: Precision and F-score are ill-defined and being set to 0.0 in labels with no predicted samples. Use `zero_division` parameter to control this behavior.\n",
            "  _warn_prf(average, modifier, msg_start, len(result))\n",
            "/usr/local/lib/python3.7/dist-packages/sklearn/metrics/_classification.py:1318: UndefinedMetricWarning: Precision and F-score are ill-defined and being set to 0.0 in labels with no predicted samples. Use `zero_division` parameter to control this behavior.\n",
            "  _warn_prf(average, modifier, msg_start, len(result))\n",
            "/usr/local/lib/python3.7/dist-packages/sklearn/metrics/_classification.py:1318: UndefinedMetricWarning: Precision is ill-defined and being set to 0.0 in labels with no predicted samples. Use `zero_division` parameter to control this behavior.\n",
            "  _warn_prf(average, modifier, msg_start, len(result))\n"
          ]
        }
      ]
    },
    {
      "cell_type": "code",
      "source": [
        "from sklearn.metrics import roc_auc_score\n",
        "y_prob = knn_clf.predict_proba(X_test)\n",
        "weighted_roc_auc_ovo = roc_auc_score(\n",
        "    y_test, y_prob, multi_class=\"ovr\", average=\"weighted\"\n",
        ")\n",
        "weighted_roc_auc_ovo"
      ],
      "metadata": {
        "colab": {
          "base_uri": "https://localhost:8080/"
        },
        "id": "nmy4E6xvHZFh",
        "outputId": "6eede10d-9b61-4d23-e3ea-c2206607cec5"
      },
      "execution_count": null,
      "outputs": [
        {
          "output_type": "execute_result",
          "data": {
            "text/plain": [
              "0.9819878634241981"
            ]
          },
          "metadata": {},
          "execution_count": 75
        }
      ]
    },
    {
      "cell_type": "code",
      "source": [],
      "metadata": {
        "id": "ZCxlaVU1SQrJ"
      },
      "execution_count": null,
      "outputs": []
    },
    {
      "cell_type": "code",
      "source": [],
      "metadata": {
        "id": "WkyeVumISQtz"
      },
      "execution_count": null,
      "outputs": []
    },
    {
      "cell_type": "code",
      "source": [
        "acc.append(accuracy_score(y_test, y_pred))\n",
        "prec.append(precision_score(y_test, y_pred,average='weighted'))\n",
        "rec.append(recall_score(y_test, y_pred,average='weighted'))\n",
        "f1.append(f1_score(y_test, y_pred,average='weighted'))\n",
        "kap.append(cohen_kappa_score(y_test, predictions))\n",
        "roc.append(weighted_roc_auc_ovo)"
      ],
      "metadata": {
        "id": "rjF0pZUwSOB4",
        "colab": {
          "base_uri": "https://localhost:8080/"
        },
        "outputId": "b85586c2-20e0-4c02-af9e-8b62a75e94e4"
      },
      "execution_count": null,
      "outputs": [
        {
          "output_type": "stream",
          "name": "stderr",
          "text": [
            "/usr/local/lib/python3.7/dist-packages/sklearn/metrics/_classification.py:1318: UndefinedMetricWarning: Precision is ill-defined and being set to 0.0 in labels with no predicted samples. Use `zero_division` parameter to control this behavior.\n",
            "  _warn_prf(average, modifier, msg_start, len(result))\n"
          ]
        }
      ]
    },
    {
      "cell_type": "code",
      "source": [
        "model_results['Accuracy'] = acc\n",
        "model_results['Prescision'] = prec\n",
        "model_results['Recall'] = rec\n",
        "model_results['F1'] = f1\n",
        "model_results['Kappa'] = kap\n",
        "model_results['ROC_AUC'] = roc"
      ],
      "metadata": {
        "id": "uZG__50xHo4d"
      },
      "execution_count": null,
      "outputs": []
    },
    {
      "cell_type": "code",
      "source": [
        "model_results"
      ],
      "metadata": {
        "colab": {
          "base_uri": "https://localhost:8080/",
          "height": 237
        },
        "id": "etyl1xKcSzTS",
        "outputId": "e5151e1f-7786-4350-e52b-2f039a6298bd"
      },
      "execution_count": null,
      "outputs": [
        {
          "output_type": "execute_result",
          "data": {
            "text/plain": [
              "                models  Accuracy  Prescision    Recall        F1     Kappa  \\\n",
              "0        Random Forest  0.959634    0.961510  0.959634  0.957377  0.955136   \n",
              "1             Adaboost  0.502666    0.613497  0.502666  0.468786  0.445108   \n",
              "2              XGBoost  0.962681    0.962586  0.962681  0.961580  0.958515   \n",
              "3                  KNN  0.962681    0.962586  0.962681  0.961580  0.958515   \n",
              "4  Logistic Regression  0.897182    0.896597  0.897182  0.894860  0.958515   \n",
              "5          Naive Bayes  0.412034    0.444897  0.412034  0.404079  0.958515   \n",
              "\n",
              "    ROC_AUC  \n",
              "0  0.997461  \n",
              "1  0.804210  \n",
              "2  0.997615  \n",
              "3  0.981988  \n",
              "4  0.981988  \n",
              "5  0.981988  "
            ],
            "text/html": [
              "\n",
              "  <div id=\"df-da46ab70-4abe-4ac6-983f-fd36505dfb7d\">\n",
              "    <div class=\"colab-df-container\">\n",
              "      <div>\n",
              "<style scoped>\n",
              "    .dataframe tbody tr th:only-of-type {\n",
              "        vertical-align: middle;\n",
              "    }\n",
              "\n",
              "    .dataframe tbody tr th {\n",
              "        vertical-align: top;\n",
              "    }\n",
              "\n",
              "    .dataframe thead th {\n",
              "        text-align: right;\n",
              "    }\n",
              "</style>\n",
              "<table border=\"1\" class=\"dataframe\">\n",
              "  <thead>\n",
              "    <tr style=\"text-align: right;\">\n",
              "      <th></th>\n",
              "      <th>models</th>\n",
              "      <th>Accuracy</th>\n",
              "      <th>Prescision</th>\n",
              "      <th>Recall</th>\n",
              "      <th>F1</th>\n",
              "      <th>Kappa</th>\n",
              "      <th>ROC_AUC</th>\n",
              "    </tr>\n",
              "  </thead>\n",
              "  <tbody>\n",
              "    <tr>\n",
              "      <th>0</th>\n",
              "      <td>Random Forest</td>\n",
              "      <td>0.959634</td>\n",
              "      <td>0.961510</td>\n",
              "      <td>0.959634</td>\n",
              "      <td>0.957377</td>\n",
              "      <td>0.955136</td>\n",
              "      <td>0.997461</td>\n",
              "    </tr>\n",
              "    <tr>\n",
              "      <th>1</th>\n",
              "      <td>Adaboost</td>\n",
              "      <td>0.502666</td>\n",
              "      <td>0.613497</td>\n",
              "      <td>0.502666</td>\n",
              "      <td>0.468786</td>\n",
              "      <td>0.445108</td>\n",
              "      <td>0.804210</td>\n",
              "    </tr>\n",
              "    <tr>\n",
              "      <th>2</th>\n",
              "      <td>XGBoost</td>\n",
              "      <td>0.962681</td>\n",
              "      <td>0.962586</td>\n",
              "      <td>0.962681</td>\n",
              "      <td>0.961580</td>\n",
              "      <td>0.958515</td>\n",
              "      <td>0.997615</td>\n",
              "    </tr>\n",
              "    <tr>\n",
              "      <th>3</th>\n",
              "      <td>KNN</td>\n",
              "      <td>0.962681</td>\n",
              "      <td>0.962586</td>\n",
              "      <td>0.962681</td>\n",
              "      <td>0.961580</td>\n",
              "      <td>0.958515</td>\n",
              "      <td>0.981988</td>\n",
              "    </tr>\n",
              "    <tr>\n",
              "      <th>4</th>\n",
              "      <td>Logistic Regression</td>\n",
              "      <td>0.897182</td>\n",
              "      <td>0.896597</td>\n",
              "      <td>0.897182</td>\n",
              "      <td>0.894860</td>\n",
              "      <td>0.958515</td>\n",
              "      <td>0.981988</td>\n",
              "    </tr>\n",
              "    <tr>\n",
              "      <th>5</th>\n",
              "      <td>Naive Bayes</td>\n",
              "      <td>0.412034</td>\n",
              "      <td>0.444897</td>\n",
              "      <td>0.412034</td>\n",
              "      <td>0.404079</td>\n",
              "      <td>0.958515</td>\n",
              "      <td>0.981988</td>\n",
              "    </tr>\n",
              "  </tbody>\n",
              "</table>\n",
              "</div>\n",
              "      <button class=\"colab-df-convert\" onclick=\"convertToInteractive('df-da46ab70-4abe-4ac6-983f-fd36505dfb7d')\"\n",
              "              title=\"Convert this dataframe to an interactive table.\"\n",
              "              style=\"display:none;\">\n",
              "        \n",
              "  <svg xmlns=\"http://www.w3.org/2000/svg\" height=\"24px\"viewBox=\"0 0 24 24\"\n",
              "       width=\"24px\">\n",
              "    <path d=\"M0 0h24v24H0V0z\" fill=\"none\"/>\n",
              "    <path d=\"M18.56 5.44l.94 2.06.94-2.06 2.06-.94-2.06-.94-.94-2.06-.94 2.06-2.06.94zm-11 1L8.5 8.5l.94-2.06 2.06-.94-2.06-.94L8.5 2.5l-.94 2.06-2.06.94zm10 10l.94 2.06.94-2.06 2.06-.94-2.06-.94-.94-2.06-.94 2.06-2.06.94z\"/><path d=\"M17.41 7.96l-1.37-1.37c-.4-.4-.92-.59-1.43-.59-.52 0-1.04.2-1.43.59L10.3 9.45l-7.72 7.72c-.78.78-.78 2.05 0 2.83L4 21.41c.39.39.9.59 1.41.59.51 0 1.02-.2 1.41-.59l7.78-7.78 2.81-2.81c.8-.78.8-2.07 0-2.86zM5.41 20L4 18.59l7.72-7.72 1.47 1.35L5.41 20z\"/>\n",
              "  </svg>\n",
              "      </button>\n",
              "      \n",
              "  <style>\n",
              "    .colab-df-container {\n",
              "      display:flex;\n",
              "      flex-wrap:wrap;\n",
              "      gap: 12px;\n",
              "    }\n",
              "\n",
              "    .colab-df-convert {\n",
              "      background-color: #E8F0FE;\n",
              "      border: none;\n",
              "      border-radius: 50%;\n",
              "      cursor: pointer;\n",
              "      display: none;\n",
              "      fill: #1967D2;\n",
              "      height: 32px;\n",
              "      padding: 0 0 0 0;\n",
              "      width: 32px;\n",
              "    }\n",
              "\n",
              "    .colab-df-convert:hover {\n",
              "      background-color: #E2EBFA;\n",
              "      box-shadow: 0px 1px 2px rgba(60, 64, 67, 0.3), 0px 1px 3px 1px rgba(60, 64, 67, 0.15);\n",
              "      fill: #174EA6;\n",
              "    }\n",
              "\n",
              "    [theme=dark] .colab-df-convert {\n",
              "      background-color: #3B4455;\n",
              "      fill: #D2E3FC;\n",
              "    }\n",
              "\n",
              "    [theme=dark] .colab-df-convert:hover {\n",
              "      background-color: #434B5C;\n",
              "      box-shadow: 0px 1px 3px 1px rgba(0, 0, 0, 0.15);\n",
              "      filter: drop-shadow(0px 1px 2px rgba(0, 0, 0, 0.3));\n",
              "      fill: #FFFFFF;\n",
              "    }\n",
              "  </style>\n",
              "\n",
              "      <script>\n",
              "        const buttonEl =\n",
              "          document.querySelector('#df-da46ab70-4abe-4ac6-983f-fd36505dfb7d button.colab-df-convert');\n",
              "        buttonEl.style.display =\n",
              "          google.colab.kernel.accessAllowed ? 'block' : 'none';\n",
              "\n",
              "        async function convertToInteractive(key) {\n",
              "          const element = document.querySelector('#df-da46ab70-4abe-4ac6-983f-fd36505dfb7d');\n",
              "          const dataTable =\n",
              "            await google.colab.kernel.invokeFunction('convertToInteractive',\n",
              "                                                     [key], {});\n",
              "          if (!dataTable) return;\n",
              "\n",
              "          const docLinkHtml = 'Like what you see? Visit the ' +\n",
              "            '<a target=\"_blank\" href=https://colab.research.google.com/notebooks/data_table.ipynb>data table notebook</a>'\n",
              "            + ' to learn more about interactive tables.';\n",
              "          element.innerHTML = '';\n",
              "          dataTable['output_type'] = 'display_data';\n",
              "          await google.colab.output.renderOutput(dataTable, element);\n",
              "          const docLink = document.createElement('div');\n",
              "          docLink.innerHTML = docLinkHtml;\n",
              "          element.appendChild(docLink);\n",
              "        }\n",
              "      </script>\n",
              "    </div>\n",
              "  </div>\n",
              "  "
            ]
          },
          "metadata": {},
          "execution_count": 78
        }
      ]
    },
    {
      "cell_type": "code",
      "source": [
        "fig = model_results.plot(x = \"models\", y = ['Accuracy',\t'Prescision',\t'Recall',\t'F1',\t'Kappa', 'ROC_AUC'], kind = \"bar\", figsize=(9, 8))\n",
        "ax = plt.subplot(111)\n",
        "ax.legend(loc='center left', bbox_to_anchor=(1, 0.5))\n",
        "ax.set_ylim([0.35,1])\n",
        "plt.show()"
      ],
      "metadata": {
        "colab": {
          "base_uri": "https://localhost:8080/",
          "height": 707
        },
        "id": "gjkZDINtSRTp",
        "outputId": "ad03229f-d5ba-433e-f9ac-81fd4bd40b97"
      },
      "execution_count": null,
      "outputs": [
        {
          "output_type": "stream",
          "name": "stderr",
          "text": [
            "/usr/local/lib/python3.7/dist-packages/ipykernel_launcher.py:2: MatplotlibDeprecationWarning: Adding an axes using the same arguments as a previous axes currently reuses the earlier instance.  In a future version, a new instance will always be created and returned.  Meanwhile, this warning can be suppressed, and the future behavior ensured, by passing a unique label to each axes instance.\n",
            "  \n"
          ]
        },
        {
          "output_type": "display_data",
          "data": {
            "text/plain": [
              "<Figure size 648x576 with 1 Axes>"
            ],
            "image/png": "[encoded data removed]"
          },
          "metadata": {}
        }
      ]
    },
    {
      "cell_type": "code",
      "source": [],
      "metadata": {
        "id": "vdvDhhcdSRWr"
      },
      "execution_count": null,
      "outputs": []
    },
    {
      "cell_type": "markdown",
      "source": [
        "# **Results**\n",
        "\n",
        "---\n",
        "1. Accuracy\n",
        "2. Precision\n",
        "3. Recall\n",
        "4. F1 Score\n",
        "5. Cohen Kappa Score\n",
        "6. Roc auc Score\n",
        "---\n",
        "**Random Forest**\n",
        "\n",
        "0.9573560767590619\n",
        "\n",
        "0.9584976073991893\n",
        "\n",
        "0.9573560767590619\n",
        "\n",
        "0.9552754759579702\n",
        "\n",
        "---\n",
        "**Adaboost**\n",
        "\n",
        "0.802771855010661\n",
        "\n",
        "0.8534504944314486\n",
        "\n",
        "0.802771855010661\n",
        "\n",
        "0.8145437082907355\n",
        "\n",
        "---\n",
        "**XGBoost**\n",
        "\n",
        "0.9658848614072495\n",
        "\n",
        "0.965915211393339\n",
        "\n",
        "0.9658848614072495\n",
        "\n",
        "0.9649037802214644\n",
        "\n",
        "0.9620538169314109\n",
        "\n",
        "---\n",
        "**KNN**\n",
        "\n",
        "0.9008528784648188\n",
        "\n",
        "0.9001685697973634\n",
        "\n",
        "0.9008528784648188\n",
        "\n",
        "0.8916125571931889\n",
        "\n",
        "0.8896681342336884\n",
        "\n",
        "---\n",
        "\n",
        "**Logistic Regression**\n",
        "\n",
        "0.9008528784648188\n",
        "\n",
        "0.900135627354752\n",
        "\n",
        "0.9008528784648188\n",
        "\n",
        "0.8995841318871703\n",
        "\n",
        "0.8897233666267618\n",
        "\n",
        "---\n",
        "\n",
        "**Naive Bayes**\n",
        "\n",
        "0.4275053304904051\n",
        "\n",
        "0.5715843473005865\n",
        "\n",
        "0.4275053304904051\n",
        "\n",
        "0.42702817370427987\n",
        "\n",
        "0.3624604153007678\n",
        "\n",
        "---"
      ],
      "metadata": {
        "id": "SbfSS07yfeO8"
      }
    }
  ]
}